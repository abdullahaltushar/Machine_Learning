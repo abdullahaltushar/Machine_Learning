{
 "cells": [
  {
   "cell_type": "code",
   "execution_count": 1,
   "id": "fa5bc4fd",
   "metadata": {},
   "outputs": [],
   "source": [
    "import pandas as pd\n",
    "import numpy as np\n",
    "%matplotlib inline"
   ]
  },
  {
   "cell_type": "code",
   "execution_count": 2,
   "id": "41f0584c",
   "metadata": {},
   "outputs": [],
   "source": [
    "from plotly import __version__"
   ]
  },
  {
   "cell_type": "code",
   "execution_count": 3,
   "id": "70fef77c",
   "metadata": {},
   "outputs": [
    {
     "name": "stdout",
     "output_type": "stream",
     "text": [
      "5.9.0\n"
     ]
    }
   ],
   "source": [
    "print(__version__)"
   ]
  },
  {
   "cell_type": "code",
   "execution_count": 4,
   "id": "5e3688e6",
   "metadata": {},
   "outputs": [],
   "source": [
    "import cufflinks as cf"
   ]
  },
  {
   "cell_type": "code",
   "execution_count": 5,
   "id": "c66fa112",
   "metadata": {},
   "outputs": [],
   "source": [
    "from plotly.offline import download_plotlyjs,init_notebook_mode,plot,iplot"
   ]
  },
  {
   "cell_type": "code",
   "execution_count": 6,
   "id": "2ad8a417",
   "metadata": {},
   "outputs": [
    {
     "data": {
      "text/html": [
       "        <script type=\"text/javascript\">\n",
       "        window.PlotlyConfig = {MathJaxConfig: 'local'};\n",
       "        if (window.MathJax && window.MathJax.Hub && window.MathJax.Hub.Config) {window.MathJax.Hub.Config({SVG: {font: \"STIX-Web\"}});}\n",
       "        if (typeof require !== 'undefined') {\n",
       "        require.undef(\"plotly\");\n",
       "        requirejs.config({\n",
       "            paths: {\n",
       "                'plotly': ['https://cdn.plot.ly/plotly-2.12.1.min']\n",
       "            }\n",
       "        });\n",
       "        require(['plotly'], function(Plotly) {\n",
       "            window._Plotly = Plotly;\n",
       "        });\n",
       "        }\n",
       "        </script>\n",
       "        "
      ]
     },
     "metadata": {},
     "output_type": "display_data"
    }
   ],
   "source": [
    "init_notebook_mode(connected=True)"
   ]
  },
  {
   "cell_type": "code",
   "execution_count": 7,
   "id": "fa437244",
   "metadata": {},
   "outputs": [
    {
     "data": {
      "text/html": [
       "        <script type=\"text/javascript\">\n",
       "        window.PlotlyConfig = {MathJaxConfig: 'local'};\n",
       "        if (window.MathJax && window.MathJax.Hub && window.MathJax.Hub.Config) {window.MathJax.Hub.Config({SVG: {font: \"STIX-Web\"}});}\n",
       "        if (typeof require !== 'undefined') {\n",
       "        require.undef(\"plotly\");\n",
       "        requirejs.config({\n",
       "            paths: {\n",
       "                'plotly': ['https://cdn.plot.ly/plotly-2.12.1.min']\n",
       "            }\n",
       "        });\n",
       "        require(['plotly'], function(Plotly) {\n",
       "            window._Plotly = Plotly;\n",
       "        });\n",
       "        }\n",
       "        </script>\n",
       "        "
      ]
     },
     "metadata": {},
     "output_type": "display_data"
    }
   ],
   "source": [
    "cf.go_offline()"
   ]
  },
  {
   "cell_type": "code",
   "execution_count": 8,
   "id": "a840d10b",
   "metadata": {},
   "outputs": [],
   "source": [
    "#data\n",
    "df=pd.DataFrame(np.random.randn(100,4), columns='A B C D'.split())"
   ]
  },
  {
   "cell_type": "code",
   "execution_count": 9,
   "id": "0fb6a73d",
   "metadata": {},
   "outputs": [
    {
     "data": {
      "text/html": [
       "<div>\n",
       "<style scoped>\n",
       "    .dataframe tbody tr th:only-of-type {\n",
       "        vertical-align: middle;\n",
       "    }\n",
       "\n",
       "    .dataframe tbody tr th {\n",
       "        vertical-align: top;\n",
       "    }\n",
       "\n",
       "    .dataframe thead th {\n",
       "        text-align: right;\n",
       "    }\n",
       "</style>\n",
       "<table border=\"1\" class=\"dataframe\">\n",
       "  <thead>\n",
       "    <tr style=\"text-align: right;\">\n",
       "      <th></th>\n",
       "      <th>A</th>\n",
       "      <th>B</th>\n",
       "      <th>C</th>\n",
       "      <th>D</th>\n",
       "    </tr>\n",
       "  </thead>\n",
       "  <tbody>\n",
       "    <tr>\n",
       "      <th>0</th>\n",
       "      <td>0.007097</td>\n",
       "      <td>1.001569</td>\n",
       "      <td>1.113439</td>\n",
       "      <td>0.628505</td>\n",
       "    </tr>\n",
       "    <tr>\n",
       "      <th>1</th>\n",
       "      <td>-0.250798</td>\n",
       "      <td>-1.666409</td>\n",
       "      <td>-2.455826</td>\n",
       "      <td>-0.642267</td>\n",
       "    </tr>\n",
       "    <tr>\n",
       "      <th>2</th>\n",
       "      <td>0.575689</td>\n",
       "      <td>-1.477811</td>\n",
       "      <td>-0.969468</td>\n",
       "      <td>0.063407</td>\n",
       "    </tr>\n",
       "    <tr>\n",
       "      <th>3</th>\n",
       "      <td>1.008554</td>\n",
       "      <td>-0.775126</td>\n",
       "      <td>0.713094</td>\n",
       "      <td>-0.201402</td>\n",
       "    </tr>\n",
       "    <tr>\n",
       "      <th>4</th>\n",
       "      <td>-2.628359</td>\n",
       "      <td>-1.438957</td>\n",
       "      <td>-0.408241</td>\n",
       "      <td>-2.647457</td>\n",
       "    </tr>\n",
       "  </tbody>\n",
       "</table>\n",
       "</div>"
      ],
      "text/plain": [
       "          A         B         C         D\n",
       "0  0.007097  1.001569  1.113439  0.628505\n",
       "1 -0.250798 -1.666409 -2.455826 -0.642267\n",
       "2  0.575689 -1.477811 -0.969468  0.063407\n",
       "3  1.008554 -0.775126  0.713094 -0.201402\n",
       "4 -2.628359 -1.438957 -0.408241 -2.647457"
      ]
     },
     "execution_count": 9,
     "metadata": {},
     "output_type": "execute_result"
    }
   ],
   "source": [
    "df.head()"
   ]
  },
  {
   "cell_type": "code",
   "execution_count": 10,
   "id": "b47a30d8",
   "metadata": {},
   "outputs": [],
   "source": [
    "df2=pd.DataFrame({'Category':['A','B','C'],'Values':[32,43,50]})"
   ]
  },
  {
   "cell_type": "code",
   "execution_count": 11,
   "id": "4b934d35",
   "metadata": {},
   "outputs": [
    {
     "data": {
      "text/html": [
       "<div>\n",
       "<style scoped>\n",
       "    .dataframe tbody tr th:only-of-type {\n",
       "        vertical-align: middle;\n",
       "    }\n",
       "\n",
       "    .dataframe tbody tr th {\n",
       "        vertical-align: top;\n",
       "    }\n",
       "\n",
       "    .dataframe thead th {\n",
       "        text-align: right;\n",
       "    }\n",
       "</style>\n",
       "<table border=\"1\" class=\"dataframe\">\n",
       "  <thead>\n",
       "    <tr style=\"text-align: right;\">\n",
       "      <th></th>\n",
       "      <th>Category</th>\n",
       "      <th>Values</th>\n",
       "    </tr>\n",
       "  </thead>\n",
       "  <tbody>\n",
       "    <tr>\n",
       "      <th>0</th>\n",
       "      <td>A</td>\n",
       "      <td>32</td>\n",
       "    </tr>\n",
       "    <tr>\n",
       "      <th>1</th>\n",
       "      <td>B</td>\n",
       "      <td>43</td>\n",
       "    </tr>\n",
       "    <tr>\n",
       "      <th>2</th>\n",
       "      <td>C</td>\n",
       "      <td>50</td>\n",
       "    </tr>\n",
       "  </tbody>\n",
       "</table>\n",
       "</div>"
      ],
      "text/plain": [
       "  Category  Values\n",
       "0        A      32\n",
       "1        B      43\n",
       "2        C      50"
      ]
     },
     "execution_count": 11,
     "metadata": {},
     "output_type": "execute_result"
    }
   ],
   "source": [
    "df2"
   ]
  },
  {
   "cell_type": "code",
   "execution_count": 12,
   "id": "46d661fd",
   "metadata": {},
   "outputs": [
    {
     "data": {
      "text/plain": [
       "<AxesSubplot:>"
      ]
     },
     "execution_count": 12,
     "metadata": {},
     "output_type": "execute_result"
    },
    {
     "data": {
      "image/png": "[encoded data removed]",
      "text/plain": [
       "<Figure size 432x288 with 1 Axes>"
      ]
     },
     "metadata": {
      "needs_background": "light"
     },
     "output_type": "display_data"
    }
   ],
   "source": [
    "df.plot()"
   ]
  },
  {
   "cell_type": "code",
   "execution_count": 14,
   "id": "a522484b",
   "metadata": {},
   "outputs": [
    {
     "data": {
      "application/vnd.plotly.v1+json": {
       "config": {
        "linkText": "Export to plot.ly",
        "plotlyServerURL": "https://plot.ly",
        "showLink": true
       },
       "data": [
        {
         "line": {
          "color": "rgba(255, 153, 51, 1.0)",
          "dash": "solid",
          "shape": "linear",
          "width": 1.3
         },
         "mode": "lines",
         "name": "A",
         "text": "",
         "type": "scatter",
         "x": [
          0,
          1,
          2,
          3,
          4,
          5,
          6,
          7,
          8,
          9,
          10,
          11,
          12,
          13,
          14,
          15,
          16,
          17,
          18,
          19,
          20,
          21,
          22,
          23,
          24,
          25,
          26,
          27,
          28,
          29,
          30,
          31,
          32,
          33,
          34,
          35,
          36,
          37,
          38,
          39,
          40,
          41,
          42,
          43,
          44,
          45,
          46,
          47,
          48,
          49,
          50,
          51,
          52,
          53,
          54,
          55,
          56,
          57,
          58,
          59,
          60,
          61,
          62,
          63,
          64,
          65,
          66,
          67,
          68,
          69,
          70,
          71,
          72,
          73,
          74,
          75,
          76,
          77,
          78,
          79,
          80,
          81,
          82,
          83,
          84,
          85,
          86,
          87,
          88,
          89,
          90,
          91,
          92,
          93,
          94,
          95,
          96,
          97,
          98,
          99
         ],
         "y": [
          0.007097092789972175,
          -0.2507980967337128,
          0.5756887159748832,
          1.008554175812353,
          -2.6283592090659873,
          1.6897482724042978,
          -0.8474374630661906,
          -0.885832540802959,
          0.4165769995034404,
          0.3252308691285932,
          0.15654813843776863,
          0.32000464521458294,
          0.22512579404893415,
          -0.9790000089937704,
          -0.3580302188491322,
          -0.7226009569936725,
          0.42102829268405206,
          0.2230306013098082,
          -0.4894846120344407,
          0.566997691727052,
          0.7607780966610685,
          0.23179719324520257,
          0.3740720066436934,
          -0.3268113355342848,
          -0.18724635850271712,
          -0.43897158097130873,
          0.3311812464599041,
          -1.7464259691116253,
          -0.7003744338871739,
          -1.1273844453143265,
          -1.4433016423607514,
          -1.9331587985472232,
          -0.4416755962896438,
          0.3540378946293956,
          -2.3205791602958827,
          -0.6145551930755045,
          -1.0991258362026313,
          0.945377164629423,
          0.7660013927940503,
          0.8096965391921613,
          -1.011703590573019,
          -0.41828365667679634,
          -1.4791244765991614,
          -0.5761080113817664,
          0.7449599286623099,
          0.42270136868761493,
          -0.40390348558849554,
          0.36669812346527975,
          0.7481364566653947,
          1.5353321018275836,
          -1.3371004213241013,
          -1.4942270443891712,
          0.0710723740451789,
          -0.0006575669951469768,
          -0.22534602111696125,
          -1.172041314702635,
          1.123901859153798,
          -0.2542859826880914,
          -0.11703759236657453,
          -0.8142079592044608,
          -1.0542576188191066,
          0.546313307317542,
          -0.8447663571066834,
          -1.1131193312433463,
          0.4587848706424149,
          2.6591625662829146,
          -0.015121925395850002,
          -0.09109764156500297,
          0.4526267555190351,
          -0.24918265339293869,
          0.2750713724462446,
          0.9645876496605769,
          0.6886893955579118,
          1.1337676914267782,
          -0.20303842320923898,
          -1.0816855549346296,
          -1.1082516347864104,
          -0.7242762213979465,
          -1.2179557113588813,
          -1.7245807252123906,
          2.1746231931296514,
          -0.31174746522478336,
          -0.3329591568687766,
          -0.499939085089008,
          0.36520642633824857,
          -1.0458452355028378,
          0.3306941382140081,
          1.2923882218609148,
          0.33893456539783484,
          0.9869969913865074,
          -0.6450150360855204,
          -0.02753327885205397,
          -1.3624539641043698,
          0.6002984616132592,
          -1.432946169513228,
          -0.5951750844353458,
          0.9740904886924309,
          -0.23690369561450986,
          1.2616316919343114,
          0.45897564550142733
         ]
        },
        {
         "line": {
          "color": "rgba(55, 128, 191, 1.0)",
          "dash": "solid",
          "shape": "linear",
          "width": 1.3
         },
         "mode": "lines",
         "name": "B",
         "text": "",
         "type": "scatter",
         "x": [
          0,
          1,
          2,
          3,
          4,
          5,
          6,
          7,
          8,
          9,
          10,
          11,
          12,
          13,
          14,
          15,
          16,
          17,
          18,
          19,
          20,
          21,
          22,
          23,
          24,
          25,
          26,
          27,
          28,
          29,
          30,
          31,
          32,
          33,
          34,
          35,
          36,
          37,
          38,
          39,
          40,
          41,
          42,
          43,
          44,
          45,
          46,
          47,
          48,
          49,
          50,
          51,
          52,
          53,
          54,
          55,
          56,
          57,
          58,
          59,
          60,
          61,
          62,
          63,
          64,
          65,
          66,
          67,
          68,
          69,
          70,
          71,
          72,
          73,
          74,
          75,
          76,
          77,
          78,
          79,
          80,
          81,
          82,
          83,
          84,
          85,
          86,
          87,
          88,
          89,
          90,
          91,
          92,
          93,
          94,
          95,
          96,
          97,
          98,
          99
         ],
         "y": [
          1.0015685518890944,
          -1.6664086034303247,
          -1.4778111106947436,
          -0.7751255716259327,
          -1.4389565480396826,
          -1.6482938194416763,
          -1.506955683250337,
          0.2645971502651818,
          1.3192834739719805,
          0.33003703872957946,
          -0.1361520326958087,
          -1.3261155345688718,
          -1.204549680637177,
          0.3850583175509835,
          -0.3716158383803578,
          -0.6195146999634619,
          -0.996136086782592,
          -0.8444102927779795,
          -0.19276359031819187,
          0.08705580927796512,
          -0.3386322034460392,
          -0.6574543866595249,
          0.9478662810005158,
          -0.687885352767681,
          0.6015622856400247,
          0.25560908288184436,
          1.4082884056443346,
          -1.6772205012167196,
          0.5931670213401689,
          -0.20747584976568403,
          -1.042688109102613,
          0.3199247638241327,
          1.112879332773885,
          -0.6983477572766444,
          0.9909467462256175,
          -0.4702970722918106,
          0.3093044428150858,
          0.3442171189806224,
          0.40125331687981614,
          -0.9680466754947346,
          1.331024386460877,
          0.9700923553259135,
          0.14177352703313215,
          1.1490024377552774,
          -0.5259677383265647,
          -2.4786187225057223,
          2.075185652874105,
          -0.7934797710348597,
          -1.0812774636843718,
          1.33656414940059,
          1.167397360723972,
          0.922865585510867,
          0.07324989663541134,
          0.7157238614039628,
          -0.7484481402430851,
          0.48528402451312097,
          0.7511743146837414,
          0.4954149925198047,
          -1.11798381149081,
          0.29057128739668125,
          -1.3345464787750942,
          0.30198862771295165,
          0.707615903109009,
          1.6500185866666577,
          0.49276185597511885,
          -1.6571574050679154,
          -2.09094633959671,
          -0.3593627718648167,
          -1.6164724433213713,
          1.483388465917525,
          -0.25114671220587437,
          1.4662187742718724,
          -0.9062039290353936,
          -0.31360181319845404,
          0.9439194230341262,
          -0.12829533899369105,
          1.599093495914871,
          0.5583649783812819,
          -0.7561134141743251,
          -0.48882952610388714,
          -0.8669124668710848,
          -0.20869738384286052,
          -2.485808077029097,
          -1.0729464262607684,
          1.021856771895166,
          0.5857795865634028,
          0.8361142241220432,
          -1.048416757395772,
          -0.598914564611235,
          -1.1063945049183166,
          -0.9420740389395011,
          -1.5173258027035248,
          0.9807347509409816,
          1.5659650379880938,
          0.7249585649931194,
          -0.016215203047882022,
          -0.04401588783851069,
          2.0029297466320037,
          -1.2835695323754206,
          -0.9558328695916015
         ]
        },
        {
         "line": {
          "color": "rgba(50, 171, 96, 1.0)",
          "dash": "solid",
          "shape": "linear",
          "width": 1.3
         },
         "mode": "lines",
         "name": "C",
         "text": "",
         "type": "scatter",
         "x": [
          0,
          1,
          2,
          3,
          4,
          5,
          6,
          7,
          8,
          9,
          10,
          11,
          12,
          13,
          14,
          15,
          16,
          17,
          18,
          19,
          20,
          21,
          22,
          23,
          24,
          25,
          26,
          27,
          28,
          29,
          30,
          31,
          32,
          33,
          34,
          35,
          36,
          37,
          38,
          39,
          40,
          41,
          42,
          43,
          44,
          45,
          46,
          47,
          48,
          49,
          50,
          51,
          52,
          53,
          54,
          55,
          56,
          57,
          58,
          59,
          60,
          61,
          62,
          63,
          64,
          65,
          66,
          67,
          68,
          69,
          70,
          71,
          72,
          73,
          74,
          75,
          76,
          77,
          78,
          79,
          80,
          81,
          82,
          83,
          84,
          85,
          86,
          87,
          88,
          89,
          90,
          91,
          92,
          93,
          94,
          95,
          96,
          97,
          98,
          99
         ],
         "y": [
          1.1134386376161787,
          -2.455826285527071,
          -0.9694676341962923,
          0.7130937845990152,
          -0.4082405867670057,
          -0.07106854892748057,
          0.29139163128680484,
          2.018976050553426,
          -2.426317414108947,
          -0.004035309681510012,
          -0.5688147882523389,
          1.2629407017390235,
          -0.056305975400264864,
          0.36100143469611534,
          -0.6775203711829082,
          -1.1916617039595192,
          -0.972871563819841,
          -1.1112621243203964,
          1.7320034633454189,
          -0.8478154766785165,
          -0.45539581710595534,
          2.10346520629492,
          -0.13907150540989444,
          0.04861080087146654,
          -2.564263148769308,
          -0.866192598224841,
          0.4891568617785788,
          1.0873970476750394,
          -0.18403764028888853,
          -0.1308663906545661,
          -0.28722000428881633,
          0.19840445734468734,
          -1.3009449684348904,
          -1.020091829408598,
          0.7387474831633447,
          0.19530536968376824,
          0.305383648263475,
          0.5797230543066278,
          0.4132055339672769,
          1.453165943930631,
          0.6738678698851303,
          1.2226808787214014,
          0.6099679322239068,
          0.0740870912806088,
          -1.2268367132161608,
          -0.3765866256593109,
          -0.8586237274089062,
          -1.4745636001090636,
          0.004608913554882749,
          -1.5289911287850926,
          -0.0465266419574453,
          -1.1117787124739829,
          0.3223837211493439,
          -0.7552722366390408,
          0.8752514886480032,
          1.0317230314868404,
          0.34616375944781325,
          -0.6551546404379297,
          0.3748294539863184,
          0.26460756409907765,
          1.2753158942553013,
          1.429845155534673,
          0.9508787491396822,
          0.07766733197880335,
          0.8514355614528256,
          0.3643160536653477,
          0.026335475115136356,
          0.7572998652599572,
          0.654042593554938,
          -1.8635945931004145,
          -1.3509614906487808,
          -0.5557091199465339,
          -0.4837150069088515,
          0.149347522183448,
          0.521279863811876,
          -0.1194141399337346,
          -0.4696545362675223,
          1.2560400763884412,
          -2.1289711422547986,
          -0.160846246930171,
          0.4845535388818226,
          0.20138949066785197,
          -0.38384316975121735,
          -0.8512900037498121,
          -0.22834122092072281,
          1.1889175170227522,
          -1.463630068002194,
          -0.9212060946063361,
          -0.34852257416333243,
          0.3862885438150903,
          0.22601878054759733,
          -1.2581306385539595,
          -1.1047097199780325,
          0.4427412253540972,
          -0.7624479813161561,
          -1.2941034696647962,
          1.5529727634412616,
          -0.5691920578956647,
          -0.32897418925340655,
          -0.2583816056393063
         ]
        },
        {
         "line": {
          "color": "rgba(128, 0, 128, 1.0)",
          "dash": "solid",
          "shape": "linear",
          "width": 1.3
         },
         "mode": "lines",
         "name": "D",
         "text": "",
         "type": "scatter",
         "x": [
          0,
          1,
          2,
          3,
          4,
          5,
          6,
          7,
          8,
          9,
          10,
          11,
          12,
          13,
          14,
          15,
          16,
          17,
          18,
          19,
          20,
          21,
          22,
          23,
          24,
          25,
          26,
          27,
          28,
          29,
          30,
          31,
          32,
          33,
          34,
          35,
          36,
          37,
          38,
          39,
          40,
          41,
          42,
          43,
          44,
          45,
          46,
          47,
          48,
          49,
          50,
          51,
          52,
          53,
          54,
          55,
          56,
          57,
          58,
          59,
          60,
          61,
          62,
          63,
          64,
          65,
          66,
          67,
          68,
          69,
          70,
          71,
          72,
          73,
          74,
          75,
          76,
          77,
          78,
          79,
          80,
          81,
          82,
          83,
          84,
          85,
          86,
          87,
          88,
          89,
          90,
          91,
          92,
          93,
          94,
          95,
          96,
          97,
          98,
          99
         ],
         "y": [
          0.6285053069771211,
          -0.6422674141981904,
          0.0634065414695631,
          -0.201402449765595,
          -2.6474565882162757,
          0.6265434890066702,
          -1.9382483237147952,
          -0.32162316806583113,
          3.4624661592603942,
          1.3445984945414413,
          -0.17554664142011986,
          0.26262795117021503,
          2.0591321301455325,
          -0.4913943013347786,
          -1.139807932036039,
          -1.6958695678745266,
          -0.04000130876323166,
          1.0930715576453156,
          0.03805565004376671,
          2.3237405477198765,
          -1.099474750776804,
          0.3322415170042958,
          -0.6253652694816224,
          0.5643137167005545,
          -1.367285511433765,
          -0.8493451469168063,
          -1.7102637597838743,
          0.7122135177798964,
          -0.8348120685843194,
          -0.31127690877640213,
          0.27183877009540397,
          -0.9643422479683356,
          -1.191605116248042,
          -1.8149598907289821,
          -1.2031855070303434,
          -0.37111420727859884,
          -2.8305221116932366,
          0.7243165392074373,
          1.055587352116458,
          1.239324577800402,
          0.6573339689669813,
          0.09696536248035267,
          3.225530201379237,
          1.7735656183178174,
          0.25461358972815895,
          -1.0517399733379011,
          -0.3635969232943197,
          -1.2253357557287223,
          0.5923060728152107,
          -1.279752472638377,
          -0.6128659529842336,
          0.24504815354791581,
          0.7534178898831382,
          2.070512094883402,
          0.3940060871582593,
          1.4858158335189027,
          -0.8600609449415718,
          0.6213847128112033,
          0.5553075850486182,
          0.742383623660946,
          0.767215551936453,
          0.23817587790638547,
          -1.3012269615712475,
          1.08021842351989,
          0.9658551608356808,
          1.4230556281711535,
          0.3804284239839869,
          0.5712095351317064,
          0.6958612817349366,
          0.5641213581950402,
          -0.09067589440089023,
          0.644676122057003,
          -1.520122329434704,
          0.7402565312864682,
          1.548539687973651,
          -1.2885509385410618,
          -0.13845364979150812,
          0.8958051028459594,
          0.17563500440961954,
          -1.1332558956501393,
          0.6788627077454537,
          0.9880588825348897,
          0.6103628196031742,
          0.48507446741314536,
          0.41352006465908314,
          -0.21633682669954693,
          1.6616255124634403,
          0.23162794842808973,
          0.2931359941088242,
          -0.8097226200965799,
          0.7998522463526723,
          0.2863776827517364,
          -0.1499143781408709,
          1.1966437475941525,
          -0.46900231972356204,
          -1.2004271104989692,
          0.31394022384256876,
          -0.8525240262883761,
          1.2835914022049175,
          0.15110248242260002
         ]
        }
       ],
       "layout": {
        "legend": {
         "bgcolor": "#F5F6F9",
         "font": {
          "color": "#4D5663"
         }
        },
        "paper_bgcolor": "#F5F6F9",
        "plot_bgcolor": "#F5F6F9",
        "template": {
         "data": {
          "bar": [
           {
            "error_x": {
             "color": "#2a3f5f"
            },
            "error_y": {
             "color": "#2a3f5f"
            },
            "marker": {
             "line": {
              "color": "#E5ECF6",
              "width": 0.5
             },
             "pattern": {
              "fillmode": "overlay",
              "size": 10,
              "solidity": 0.2
             }
            },
            "type": "bar"
           }
          ],
          "barpolar": [
           {
            "marker": {
             "line": {
              "color": "#E5ECF6",
              "width": 0.5
             },
             "pattern": {
              "fillmode": "overlay",
              "size": 10,
              "solidity": 0.2
             }
            },
            "type": "barpolar"
           }
          ],
          "carpet": [
           {
            "aaxis": {
             "endlinecolor": "#2a3f5f",
             "gridcolor": "white",
             "linecolor": "white",
             "minorgridcolor": "white",
             "startlinecolor": "#2a3f5f"
            },
            "baxis": {
             "endlinecolor": "#2a3f5f",
             "gridcolor": "white",
             "linecolor": "white",
             "minorgridcolor": "white",
             "startlinecolor": "#2a3f5f"
            },
            "type": "carpet"
           }
          ],
          "choropleth": [
           {
            "colorbar": {
             "outlinewidth": 0,
             "ticks": ""
            },
            "type": "choropleth"
           }
          ],
          "contour": [
           {
            "colorbar": {
             "outlinewidth": 0,
             "ticks": ""
            },
            "colorscale": [
             [
              0,
              "#0d0887"
             ],
             [
              0.1111111111111111,
              "#46039f"
             ],
             [
              0.2222222222222222,
              "#7201a8"
             ],
             [
              0.3333333333333333,
              "#9c179e"
             ],
             [
              0.4444444444444444,
              "#bd3786"
             ],
             [
              0.5555555555555556,
              "#d8576b"
             ],
             [
              0.6666666666666666,
              "#ed7953"
             ],
             [
              0.7777777777777778,
              "#fb9f3a"
             ],
             [
              0.8888888888888888,
              "#fdca26"
             ],
             [
              1,
              "#f0f921"
             ]
            ],
            "type": "contour"
           }
          ],
          "contourcarpet": [
           {
            "colorbar": {
             "outlinewidth": 0,
             "ticks": ""
            },
            "type": "contourcarpet"
           }
          ],
          "heatmap": [
           {
            "colorbar": {
             "outlinewidth": 0,
             "ticks": ""
            },
            "colorscale": [
             [
              0,
              "#0d0887"
             ],
             [
              0.1111111111111111,
              "#46039f"
             ],
             [
              0.2222222222222222,
              "#7201a8"
             ],
             [
              0.3333333333333333,
              "#9c179e"
             ],
             [
              0.4444444444444444,
              "#bd3786"
             ],
             [
              0.5555555555555556,
              "#d8576b"
             ],
             [
              0.6666666666666666,
              "#ed7953"
             ],
             [
              0.7777777777777778,
              "#fb9f3a"
             ],
             [
              0.8888888888888888,
              "#fdca26"
             ],
             [
              1,
              "#f0f921"
             ]
            ],
            "type": "heatmap"
           }
          ],
          "heatmapgl": [
           {
            "colorbar": {
             "outlinewidth": 0,
             "ticks": ""
            },
            "colorscale": [
             [
              0,
              "#0d0887"
             ],
             [
              0.1111111111111111,
              "#46039f"
             ],
             [
              0.2222222222222222,
              "#7201a8"
             ],
             [
              0.3333333333333333,
              "#9c179e"
             ],
             [
              0.4444444444444444,
              "#bd3786"
             ],
             [
              0.5555555555555556,
              "#d8576b"
             ],
             [
              0.6666666666666666,
              "#ed7953"
             ],
             [
              0.7777777777777778,
              "#fb9f3a"
             ],
             [
              0.8888888888888888,
              "#fdca26"
             ],
             [
              1,
              "#f0f921"
             ]
            ],
            "type": "heatmapgl"
           }
          ],
          "histogram": [
           {
            "marker": {
             "pattern": {
              "fillmode": "overlay",
              "size": 10,
              "solidity": 0.2
             }
            },
            "type": "histogram"
           }
          ],
          "histogram2d": [
           {
            "colorbar": {
             "outlinewidth": 0,
             "ticks": ""
            },
            "colorscale": [
             [
              0,
              "#0d0887"
             ],
             [
              0.1111111111111111,
              "#46039f"
             ],
             [
              0.2222222222222222,
              "#7201a8"
             ],
             [
              0.3333333333333333,
              "#9c179e"
             ],
             [
              0.4444444444444444,
              "#bd3786"
             ],
             [
              0.5555555555555556,
              "#d8576b"
             ],
             [
              0.6666666666666666,
              "#ed7953"
             ],
             [
              0.7777777777777778,
              "#fb9f3a"
             ],
             [
              0.8888888888888888,
              "#fdca26"
             ],
             [
              1,
              "#f0f921"
             ]
            ],
            "type": "histogram2d"
           }
          ],
          "histogram2dcontour": [
           {
            "colorbar": {
             "outlinewidth": 0,
             "ticks": ""
            },
            "colorscale": [
             [
              0,
              "#0d0887"
             ],
             [
              0.1111111111111111,
              "#46039f"
             ],
             [
              0.2222222222222222,
              "#7201a8"
             ],
             [
              0.3333333333333333,
              "#9c179e"
             ],
             [
              0.4444444444444444,
              "#bd3786"
             ],
             [
              0.5555555555555556,
              "#d8576b"
             ],
             [
              0.6666666666666666,
              "#ed7953"
             ],
             [
              0.7777777777777778,
              "#fb9f3a"
             ],
             [
              0.8888888888888888,
              "#fdca26"
             ],
             [
              1,
              "#f0f921"
             ]
            ],
            "type": "histogram2dcontour"
           }
          ],
          "mesh3d": [
           {
            "colorbar": {
             "outlinewidth": 0,
             "ticks": ""
            },
            "type": "mesh3d"
           }
          ],
          "parcoords": [
           {
            "line": {
             "colorbar": {
              "outlinewidth": 0,
              "ticks": ""
             }
            },
            "type": "parcoords"
           }
          ],
          "pie": [
           {
            "automargin": true,
            "type": "pie"
           }
          ],
          "scatter": [
           {
            "fillpattern": {
             "fillmode": "overlay",
             "size": 10,
             "solidity": 0.2
            },
            "type": "scatter"
           }
          ],
          "scatter3d": [
           {
            "line": {
             "colorbar": {
              "outlinewidth": 0,
              "ticks": ""
             }
            },
            "marker": {
             "colorbar": {
              "outlinewidth": 0,
              "ticks": ""
             }
            },
            "type": "scatter3d"
           }
          ],
          "scattercarpet": [
           {
            "marker": {
             "colorbar": {
              "outlinewidth": 0,
              "ticks": ""
             }
            },
            "type": "scattercarpet"
           }
          ],
          "scattergeo": [
           {
            "marker": {
             "colorbar": {
              "outlinewidth": 0,
              "ticks": ""
             }
            },
            "type": "scattergeo"
           }
          ],
          "scattergl": [
           {
            "marker": {
             "colorbar": {
              "outlinewidth": 0,
              "ticks": ""
             }
            },
            "type": "scattergl"
           }
          ],
          "scattermapbox": [
           {
            "marker": {
             "colorbar": {
              "outlinewidth": 0,
              "ticks": ""
             }
            },
            "type": "scattermapbox"
           }
          ],
          "scatterpolar": [
           {
            "marker": {
             "colorbar": {
              "outlinewidth": 0,
              "ticks": ""
             }
            },
            "type": "scatterpolar"
           }
          ],
          "scatterpolargl": [
           {
            "marker": {
             "colorbar": {
              "outlinewidth": 0,
              "ticks": ""
             }
            },
            "type": "scatterpolargl"
           }
          ],
          "scatterternary": [
           {
            "marker": {
             "colorbar": {
              "outlinewidth": 0,
              "ticks": ""
             }
            },
            "type": "scatterternary"
           }
          ],
          "surface": [
           {
            "colorbar": {
             "outlinewidth": 0,
             "ticks": ""
            },
            "colorscale": [
             [
              0,
              "#0d0887"
             ],
             [
              0.1111111111111111,
              "#46039f"
             ],
             [
              0.2222222222222222,
              "#7201a8"
             ],
             [
              0.3333333333333333,
              "#9c179e"
             ],
             [
              0.4444444444444444,
              "#bd3786"
             ],
             [
              0.5555555555555556,
              "#d8576b"
             ],
             [
              0.6666666666666666,
              "#ed7953"
             ],
             [
              0.7777777777777778,
              "#fb9f3a"
             ],
             [
              0.8888888888888888,
              "#fdca26"
             ],
             [
              1,
              "#f0f921"
             ]
            ],
            "type": "surface"
           }
          ],
          "table": [
           {
            "cells": {
             "fill": {
              "color": "#EBF0F8"
             },
             "line": {
              "color": "white"
             }
            },
            "header": {
             "fill": {
              "color": "#C8D4E3"
             },
             "line": {
              "color": "white"
             }
            },
            "type": "table"
           }
          ]
         },
         "layout": {
          "annotationdefaults": {
           "arrowcolor": "#2a3f5f",
           "arrowhead": 0,
           "arrowwidth": 1
          },
          "autotypenumbers": "strict",
          "coloraxis": {
           "colorbar": {
            "outlinewidth": 0,
            "ticks": ""
           }
          },
          "colorscale": {
           "diverging": [
            [
             0,
             "#8e0152"
            ],
            [
             0.1,
             "#c51b7d"
            ],
            [
             0.2,
             "#de77ae"
            ],
            [
             0.3,
             "#f1b6da"
            ],
            [
             0.4,
             "#fde0ef"
            ],
            [
             0.5,
             "#f7f7f7"
            ],
            [
             0.6,
             "#e6f5d0"
            ],
            [
             0.7,
             "#b8e186"
            ],
            [
             0.8,
             "#7fbc41"
            ],
            [
             0.9,
             "#4d9221"
            ],
            [
             1,
             "#276419"
            ]
           ],
           "sequential": [
            [
             0,
             "#0d0887"
            ],
            [
             0.1111111111111111,
             "#46039f"
            ],
            [
             0.2222222222222222,
             "#7201a8"
            ],
            [
             0.3333333333333333,
             "#9c179e"
            ],
            [
             0.4444444444444444,
             "#bd3786"
            ],
            [
             0.5555555555555556,
             "#d8576b"
            ],
            [
             0.6666666666666666,
             "#ed7953"
            ],
            [
             0.7777777777777778,
             "#fb9f3a"
            ],
            [
             0.8888888888888888,
             "#fdca26"
            ],
            [
             1,
             "#f0f921"
            ]
           ],
           "sequentialminus": [
            [
             0,
             "#0d0887"
            ],
            [
             0.1111111111111111,
             "#46039f"
            ],
            [
             0.2222222222222222,
             "#7201a8"
            ],
            [
             0.3333333333333333,
             "#9c179e"
            ],
            [
             0.4444444444444444,
             "#bd3786"
            ],
            [
             0.5555555555555556,
             "#d8576b"
            ],
            [
             0.6666666666666666,
             "#ed7953"
            ],
            [
             0.7777777777777778,
             "#fb9f3a"
            ],
            [
             0.8888888888888888,
             "#fdca26"
            ],
            [
             1,
             "#f0f921"
            ]
           ]
          },
          "colorway": [
           "#636efa",
           "#EF553B",
           "#00cc96",
           "#ab63fa",
           "#FFA15A",
           "#19d3f3",
           "#FF6692",
           "#B6E880",
           "#FF97FF",
           "#FECB52"
          ],
          "font": {
           "color": "#2a3f5f"
          },
          "geo": {
           "bgcolor": "white",
           "lakecolor": "white",
           "landcolor": "#E5ECF6",
           "showlakes": true,
           "showland": true,
           "subunitcolor": "white"
          },
          "hoverlabel": {
           "align": "left"
          },
          "hovermode": "closest",
          "mapbox": {
           "style": "light"
          },
          "paper_bgcolor": "white",
          "plot_bgcolor": "#E5ECF6",
          "polar": {
           "angularaxis": {
            "gridcolor": "white",
            "linecolor": "white",
            "ticks": ""
           },
           "bgcolor": "#E5ECF6",
           "radialaxis": {
            "gridcolor": "white",
            "linecolor": "white",
            "ticks": ""
           }
          },
          "scene": {
           "xaxis": {
            "backgroundcolor": "#E5ECF6",
            "gridcolor": "white",
            "gridwidth": 2,
            "linecolor": "white",
            "showbackground": true,
            "ticks": "",
            "zerolinecolor": "white"
           },
           "yaxis": {
            "backgroundcolor": "#E5ECF6",
            "gridcolor": "white",
            "gridwidth": 2,
            "linecolor": "white",
            "showbackground": true,
            "ticks": "",
            "zerolinecolor": "white"
           },
           "zaxis": {
            "backgroundcolor": "#E5ECF6",
            "gridcolor": "white",
            "gridwidth": 2,
            "linecolor": "white",
            "showbackground": true,
            "ticks": "",
            "zerolinecolor": "white"
           }
          },
          "shapedefaults": {
           "line": {
            "color": "#2a3f5f"
           }
          },
          "ternary": {
           "aaxis": {
            "gridcolor": "white",
            "linecolor": "white",
            "ticks": ""
           },
           "baxis": {
            "gridcolor": "white",
            "linecolor": "white",
            "ticks": ""
           },
           "bgcolor": "#E5ECF6",
           "caxis": {
            "gridcolor": "white",
            "linecolor": "white",
            "ticks": ""
           }
          },
          "title": {
           "x": 0.05
          },
          "xaxis": {
           "automargin": true,
           "gridcolor": "white",
           "linecolor": "white",
           "ticks": "",
           "title": {
            "standoff": 15
           },
           "zerolinecolor": "white",
           "zerolinewidth": 2
          },
          "yaxis": {
           "automargin": true,
           "gridcolor": "white",
           "linecolor": "white",
           "ticks": "",
           "title": {
            "standoff": 15
           },
           "zerolinecolor": "white",
           "zerolinewidth": 2
          }
         }
        },
        "title": {
         "font": {
          "color": "#4D5663"
         }
        },
        "xaxis": {
         "gridcolor": "#E1E5ED",
         "showgrid": true,
         "tickfont": {
          "color": "#4D5663"
         },
         "title": {
          "font": {
           "color": "#4D5663"
          },
          "text": ""
         },
         "zerolinecolor": "#E1E5ED"
        },
        "yaxis": {
         "gridcolor": "#E1E5ED",
         "showgrid": true,
         "tickfont": {
          "color": "#4D5663"
         },
         "title": {
          "font": {
           "color": "#4D5663"
          },
          "text": ""
         },
         "zerolinecolor": "#E1E5ED"
        }
       }
      },
      "text/html": [
       "<div>                            <div id=\"e6ac8106-50e6-4b2b-963f-67a7d64720dc\" class=\"plotly-graph-div\" style=\"height:525px; width:100%;\"></div>            <script type=\"text/javascript\">                require([\"plotly\"], function(Plotly) {                    window.PLOTLYENV=window.PLOTLYENV || {};\n",
       "                    window.PLOTLYENV.BASE_URL='https://plot.ly';                                    if (document.getElementById(\"e6ac8106-50e6-4b2b-963f-67a7d64720dc\")) {                    Plotly.newPlot(                        \"e6ac8106-50e6-4b2b-963f-67a7d64720dc\",                        [{\"line\":{\"color\":\"rgba(255, 153, 51, 1.0)\",\"dash\":\"solid\",\"shape\":\"linear\",\"width\":1.3},\"mode\":\"lines\",\"name\":\"A\",\"text\":\"\",\"x\":[0,1,2,3,4,5,6,7,8,9,10,11,12,13,14,15,16,17,18,19,20,21,22,23,24,25,26,27,28,29,30,31,32,33,34,35,36,37,38,39,40,41,42,43,44,45,46,47,48,49,50,51,52,53,54,55,56,57,58,59,60,61,62,63,64,65,66,67,68,69,70,71,72,73,74,75,76,77,78,79,80,81,82,83,84,85,86,87,88,89,90,91,92,93,94,95,96,97,98,99],\"y\":[0.007097092789972175,-0.2507980967337128,0.5756887159748832,1.008554175812353,-2.6283592090659873,1.6897482724042978,-0.8474374630661906,-0.885832540802959,0.4165769995034404,0.3252308691285932,0.15654813843776863,0.32000464521458294,0.22512579404893415,-0.9790000089937704,-0.3580302188491322,-0.7226009569936725,0.42102829268405206,0.2230306013098082,-0.4894846120344407,0.566997691727052,0.7607780966610685,0.23179719324520257,0.3740720066436934,-0.3268113355342848,-0.18724635850271712,-0.43897158097130873,0.3311812464599041,-1.7464259691116253,-0.7003744338871739,-1.1273844453143265,-1.4433016423607514,-1.9331587985472232,-0.4416755962896438,0.3540378946293956,-2.3205791602958827,-0.6145551930755045,-1.0991258362026313,0.945377164629423,0.7660013927940503,0.8096965391921613,-1.011703590573019,-0.41828365667679634,-1.4791244765991614,-0.5761080113817664,0.7449599286623099,0.42270136868761493,-0.40390348558849554,0.36669812346527975,0.7481364566653947,1.5353321018275836,-1.3371004213241013,-1.4942270443891712,0.0710723740451789,-0.0006575669951469768,-0.22534602111696125,-1.172041314702635,1.123901859153798,-0.2542859826880914,-0.11703759236657453,-0.8142079592044608,-1.0542576188191066,0.546313307317542,-0.8447663571066834,-1.1131193312433463,0.4587848706424149,2.6591625662829146,-0.015121925395850002,-0.09109764156500297,0.4526267555190351,-0.24918265339293869,0.2750713724462446,0.9645876496605769,0.6886893955579118,1.1337676914267782,-0.20303842320923898,-1.0816855549346296,-1.1082516347864104,-0.7242762213979465,-1.2179557113588813,-1.7245807252123906,2.1746231931296514,-0.31174746522478336,-0.3329591568687766,-0.499939085089008,0.36520642633824857,-1.0458452355028378,0.3306941382140081,1.2923882218609148,0.33893456539783484,0.9869969913865074,-0.6450150360855204,-0.02753327885205397,-1.3624539641043698,0.6002984616132592,-1.432946169513228,-0.5951750844353458,0.9740904886924309,-0.23690369561450986,1.2616316919343114,0.45897564550142733],\"type\":\"scatter\"},{\"line\":{\"color\":\"rgba(55, 128, 191, 1.0)\",\"dash\":\"solid\",\"shape\":\"linear\",\"width\":1.3},\"mode\":\"lines\",\"name\":\"B\",\"text\":\"\",\"x\":[0,1,2,3,4,5,6,7,8,9,10,11,12,13,14,15,16,17,18,19,20,21,22,23,24,25,26,27,28,29,30,31,32,33,34,35,36,37,38,39,40,41,42,43,44,45,46,47,48,49,50,51,52,53,54,55,56,57,58,59,60,61,62,63,64,65,66,67,68,69,70,71,72,73,74,75,76,77,78,79,80,81,82,83,84,85,86,87,88,89,90,91,92,93,94,95,96,97,98,99],\"y\":[1.0015685518890944,-1.6664086034303247,-1.4778111106947436,-0.7751255716259327,-1.4389565480396826,-1.6482938194416763,-1.506955683250337,0.2645971502651818,1.3192834739719805,0.33003703872957946,-0.1361520326958087,-1.3261155345688718,-1.204549680637177,0.3850583175509835,-0.3716158383803578,-0.6195146999634619,-0.996136086782592,-0.8444102927779795,-0.19276359031819187,0.08705580927796512,-0.3386322034460392,-0.6574543866595249,0.9478662810005158,-0.687885352767681,0.6015622856400247,0.25560908288184436,1.4082884056443346,-1.6772205012167196,0.5931670213401689,-0.20747584976568403,-1.042688109102613,0.3199247638241327,1.112879332773885,-0.6983477572766444,0.9909467462256175,-0.4702970722918106,0.3093044428150858,0.3442171189806224,0.40125331687981614,-0.9680466754947346,1.331024386460877,0.9700923553259135,0.14177352703313215,1.1490024377552774,-0.5259677383265647,-2.4786187225057223,2.075185652874105,-0.7934797710348597,-1.0812774636843718,1.33656414940059,1.167397360723972,0.922865585510867,0.07324989663541134,0.7157238614039628,-0.7484481402430851,0.48528402451312097,0.7511743146837414,0.4954149925198047,-1.11798381149081,0.29057128739668125,-1.3345464787750942,0.30198862771295165,0.707615903109009,1.6500185866666577,0.49276185597511885,-1.6571574050679154,-2.09094633959671,-0.3593627718648167,-1.6164724433213713,1.483388465917525,-0.25114671220587437,1.4662187742718724,-0.9062039290353936,-0.31360181319845404,0.9439194230341262,-0.12829533899369105,1.599093495914871,0.5583649783812819,-0.7561134141743251,-0.48882952610388714,-0.8669124668710848,-0.20869738384286052,-2.485808077029097,-1.0729464262607684,1.021856771895166,0.5857795865634028,0.8361142241220432,-1.048416757395772,-0.598914564611235,-1.1063945049183166,-0.9420740389395011,-1.5173258027035248,0.9807347509409816,1.5659650379880938,0.7249585649931194,-0.016215203047882022,-0.04401588783851069,2.0029297466320037,-1.2835695323754206,-0.9558328695916015],\"type\":\"scatter\"},{\"line\":{\"color\":\"rgba(50, 171, 96, 1.0)\",\"dash\":\"solid\",\"shape\":\"linear\",\"width\":1.3},\"mode\":\"lines\",\"name\":\"C\",\"text\":\"\",\"x\":[0,1,2,3,4,5,6,7,8,9,10,11,12,13,14,15,16,17,18,19,20,21,22,23,24,25,26,27,28,29,30,31,32,33,34,35,36,37,38,39,40,41,42,43,44,45,46,47,48,49,50,51,52,53,54,55,56,57,58,59,60,61,62,63,64,65,66,67,68,69,70,71,72,73,74,75,76,77,78,79,80,81,82,83,84,85,86,87,88,89,90,91,92,93,94,95,96,97,98,99],\"y\":[1.1134386376161787,-2.455826285527071,-0.9694676341962923,0.7130937845990152,-0.4082405867670057,-0.07106854892748057,0.29139163128680484,2.018976050553426,-2.426317414108947,-0.004035309681510012,-0.5688147882523389,1.2629407017390235,-0.056305975400264864,0.36100143469611534,-0.6775203711829082,-1.1916617039595192,-0.972871563819841,-1.1112621243203964,1.7320034633454189,-0.8478154766785165,-0.45539581710595534,2.10346520629492,-0.13907150540989444,0.04861080087146654,-2.564263148769308,-0.866192598224841,0.4891568617785788,1.0873970476750394,-0.18403764028888853,-0.1308663906545661,-0.28722000428881633,0.19840445734468734,-1.3009449684348904,-1.020091829408598,0.7387474831633447,0.19530536968376824,0.305383648263475,0.5797230543066278,0.4132055339672769,1.453165943930631,0.6738678698851303,1.2226808787214014,0.6099679322239068,0.0740870912806088,-1.2268367132161608,-0.3765866256593109,-0.8586237274089062,-1.4745636001090636,0.004608913554882749,-1.5289911287850926,-0.0465266419574453,-1.1117787124739829,0.3223837211493439,-0.7552722366390408,0.8752514886480032,1.0317230314868404,0.34616375944781325,-0.6551546404379297,0.3748294539863184,0.26460756409907765,1.2753158942553013,1.429845155534673,0.9508787491396822,0.07766733197880335,0.8514355614528256,0.3643160536653477,0.026335475115136356,0.7572998652599572,0.654042593554938,-1.8635945931004145,-1.3509614906487808,-0.5557091199465339,-0.4837150069088515,0.149347522183448,0.521279863811876,-0.1194141399337346,-0.4696545362675223,1.2560400763884412,-2.1289711422547986,-0.160846246930171,0.4845535388818226,0.20138949066785197,-0.38384316975121735,-0.8512900037498121,-0.22834122092072281,1.1889175170227522,-1.463630068002194,-0.9212060946063361,-0.34852257416333243,0.3862885438150903,0.22601878054759733,-1.2581306385539595,-1.1047097199780325,0.4427412253540972,-0.7624479813161561,-1.2941034696647962,1.5529727634412616,-0.5691920578956647,-0.32897418925340655,-0.2583816056393063],\"type\":\"scatter\"},{\"line\":{\"color\":\"rgba(128, 0, 128, 1.0)\",\"dash\":\"solid\",\"shape\":\"linear\",\"width\":1.3},\"mode\":\"lines\",\"name\":\"D\",\"text\":\"\",\"x\":[0,1,2,3,4,5,6,7,8,9,10,11,12,13,14,15,16,17,18,19,20,21,22,23,24,25,26,27,28,29,30,31,32,33,34,35,36,37,38,39,40,41,42,43,44,45,46,47,48,49,50,51,52,53,54,55,56,57,58,59,60,61,62,63,64,65,66,67,68,69,70,71,72,73,74,75,76,77,78,79,80,81,82,83,84,85,86,87,88,89,90,91,92,93,94,95,96,97,98,99],\"y\":[0.6285053069771211,-0.6422674141981904,0.0634065414695631,-0.201402449765595,-2.6474565882162757,0.6265434890066702,-1.9382483237147952,-0.32162316806583113,3.4624661592603942,1.3445984945414413,-0.17554664142011986,0.26262795117021503,2.0591321301455325,-0.4913943013347786,-1.139807932036039,-1.6958695678745266,-0.04000130876323166,1.0930715576453156,0.03805565004376671,2.3237405477198765,-1.099474750776804,0.3322415170042958,-0.6253652694816224,0.5643137167005545,-1.367285511433765,-0.8493451469168063,-1.7102637597838743,0.7122135177798964,-0.8348120685843194,-0.31127690877640213,0.27183877009540397,-0.9643422479683356,-1.191605116248042,-1.8149598907289821,-1.2031855070303434,-0.37111420727859884,-2.8305221116932366,0.7243165392074373,1.055587352116458,1.239324577800402,0.6573339689669813,0.09696536248035267,3.225530201379237,1.7735656183178174,0.25461358972815895,-1.0517399733379011,-0.3635969232943197,-1.2253357557287223,0.5923060728152107,-1.279752472638377,-0.6128659529842336,0.24504815354791581,0.7534178898831382,2.070512094883402,0.3940060871582593,1.4858158335189027,-0.8600609449415718,0.6213847128112033,0.5553075850486182,0.742383623660946,0.767215551936453,0.23817587790638547,-1.3012269615712475,1.08021842351989,0.9658551608356808,1.4230556281711535,0.3804284239839869,0.5712095351317064,0.6958612817349366,0.5641213581950402,-0.09067589440089023,0.644676122057003,-1.520122329434704,0.7402565312864682,1.548539687973651,-1.2885509385410618,-0.13845364979150812,0.8958051028459594,0.17563500440961954,-1.1332558956501393,0.6788627077454537,0.9880588825348897,0.6103628196031742,0.48507446741314536,0.41352006465908314,-0.21633682669954693,1.6616255124634403,0.23162794842808973,0.2931359941088242,-0.8097226200965799,0.7998522463526723,0.2863776827517364,-0.1499143781408709,1.1966437475941525,-0.46900231972356204,-1.2004271104989692,0.31394022384256876,-0.8525240262883761,1.2835914022049175,0.15110248242260002],\"type\":\"scatter\"}],                        {\"legend\":{\"bgcolor\":\"#F5F6F9\",\"font\":{\"color\":\"#4D5663\"}},\"paper_bgcolor\":\"#F5F6F9\",\"plot_bgcolor\":\"#F5F6F9\",\"template\":{\"data\":{\"barpolar\":[{\"marker\":{\"line\":{\"color\":\"#E5ECF6\",\"width\":0.5},\"pattern\":{\"fillmode\":\"overlay\",\"size\":10,\"solidity\":0.2}},\"type\":\"barpolar\"}],\"bar\":[{\"error_x\":{\"color\":\"#2a3f5f\"},\"error_y\":{\"color\":\"#2a3f5f\"},\"marker\":{\"line\":{\"color\":\"#E5ECF6\",\"width\":0.5},\"pattern\":{\"fillmode\":\"overlay\",\"size\":10,\"solidity\":0.2}},\"type\":\"bar\"}],\"carpet\":[{\"aaxis\":{\"endlinecolor\":\"#2a3f5f\",\"gridcolor\":\"white\",\"linecolor\":\"white\",\"minorgridcolor\":\"white\",\"startlinecolor\":\"#2a3f5f\"},\"baxis\":{\"endlinecolor\":\"#2a3f5f\",\"gridcolor\":\"white\",\"linecolor\":\"white\",\"minorgridcolor\":\"white\",\"startlinecolor\":\"#2a3f5f\"},\"type\":\"carpet\"}],\"choropleth\":[{\"colorbar\":{\"outlinewidth\":0,\"ticks\":\"\"},\"type\":\"choropleth\"}],\"contourcarpet\":[{\"colorbar\":{\"outlinewidth\":0,\"ticks\":\"\"},\"type\":\"contourcarpet\"}],\"contour\":[{\"colorbar\":{\"outlinewidth\":0,\"ticks\":\"\"},\"colorscale\":[[0.0,\"#0d0887\"],[0.1111111111111111,\"#46039f\"],[0.2222222222222222,\"#7201a8\"],[0.3333333333333333,\"#9c179e\"],[0.4444444444444444,\"#bd3786\"],[0.5555555555555556,\"#d8576b\"],[0.6666666666666666,\"#ed7953\"],[0.7777777777777778,\"#fb9f3a\"],[0.8888888888888888,\"#fdca26\"],[1.0,\"#f0f921\"]],\"type\":\"contour\"}],\"heatmapgl\":[{\"colorbar\":{\"outlinewidth\":0,\"ticks\":\"\"},\"colorscale\":[[0.0,\"#0d0887\"],[0.1111111111111111,\"#46039f\"],[0.2222222222222222,\"#7201a8\"],[0.3333333333333333,\"#9c179e\"],[0.4444444444444444,\"#bd3786\"],[0.5555555555555556,\"#d8576b\"],[0.6666666666666666,\"#ed7953\"],[0.7777777777777778,\"#fb9f3a\"],[0.8888888888888888,\"#fdca26\"],[1.0,\"#f0f921\"]],\"type\":\"heatmapgl\"}],\"heatmap\":[{\"colorbar\":{\"outlinewidth\":0,\"ticks\":\"\"},\"colorscale\":[[0.0,\"#0d0887\"],[0.1111111111111111,\"#46039f\"],[0.2222222222222222,\"#7201a8\"],[0.3333333333333333,\"#9c179e\"],[0.4444444444444444,\"#bd3786\"],[0.5555555555555556,\"#d8576b\"],[0.6666666666666666,\"#ed7953\"],[0.7777777777777778,\"#fb9f3a\"],[0.8888888888888888,\"#fdca26\"],[1.0,\"#f0f921\"]],\"type\":\"heatmap\"}],\"histogram2dcontour\":[{\"colorbar\":{\"outlinewidth\":0,\"ticks\":\"\"},\"colorscale\":[[0.0,\"#0d0887\"],[0.1111111111111111,\"#46039f\"],[0.2222222222222222,\"#7201a8\"],[0.3333333333333333,\"#9c179e\"],[0.4444444444444444,\"#bd3786\"],[0.5555555555555556,\"#d8576b\"],[0.6666666666666666,\"#ed7953\"],[0.7777777777777778,\"#fb9f3a\"],[0.8888888888888888,\"#fdca26\"],[1.0,\"#f0f921\"]],\"type\":\"histogram2dcontour\"}],\"histogram2d\":[{\"colorbar\":{\"outlinewidth\":0,\"ticks\":\"\"},\"colorscale\":[[0.0,\"#0d0887\"],[0.1111111111111111,\"#46039f\"],[0.2222222222222222,\"#7201a8\"],[0.3333333333333333,\"#9c179e\"],[0.4444444444444444,\"#bd3786\"],[0.5555555555555556,\"#d8576b\"],[0.6666666666666666,\"#ed7953\"],[0.7777777777777778,\"#fb9f3a\"],[0.8888888888888888,\"#fdca26\"],[1.0,\"#f0f921\"]],\"type\":\"histogram2d\"}],\"histogram\":[{\"marker\":{\"pattern\":{\"fillmode\":\"overlay\",\"size\":10,\"solidity\":0.2}},\"type\":\"histogram\"}],\"mesh3d\":[{\"colorbar\":{\"outlinewidth\":0,\"ticks\":\"\"},\"type\":\"mesh3d\"}],\"parcoords\":[{\"line\":{\"colorbar\":{\"outlinewidth\":0,\"ticks\":\"\"}},\"type\":\"parcoords\"}],\"pie\":[{\"automargin\":true,\"type\":\"pie\"}],\"scatter3d\":[{\"line\":{\"colorbar\":{\"outlinewidth\":0,\"ticks\":\"\"}},\"marker\":{\"colorbar\":{\"outlinewidth\":0,\"ticks\":\"\"}},\"type\":\"scatter3d\"}],\"scattercarpet\":[{\"marker\":{\"colorbar\":{\"outlinewidth\":0,\"ticks\":\"\"}},\"type\":\"scattercarpet\"}],\"scattergeo\":[{\"marker\":{\"colorbar\":{\"outlinewidth\":0,\"ticks\":\"\"}},\"type\":\"scattergeo\"}],\"scattergl\":[{\"marker\":{\"colorbar\":{\"outlinewidth\":0,\"ticks\":\"\"}},\"type\":\"scattergl\"}],\"scattermapbox\":[{\"marker\":{\"colorbar\":{\"outlinewidth\":0,\"ticks\":\"\"}},\"type\":\"scattermapbox\"}],\"scatterpolargl\":[{\"marker\":{\"colorbar\":{\"outlinewidth\":0,\"ticks\":\"\"}},\"type\":\"scatterpolargl\"}],\"scatterpolar\":[{\"marker\":{\"colorbar\":{\"outlinewidth\":0,\"ticks\":\"\"}},\"type\":\"scatterpolar\"}],\"scatter\":[{\"fillpattern\":{\"fillmode\":\"overlay\",\"size\":10,\"solidity\":0.2},\"type\":\"scatter\"}],\"scatterternary\":[{\"marker\":{\"colorbar\":{\"outlinewidth\":0,\"ticks\":\"\"}},\"type\":\"scatterternary\"}],\"surface\":[{\"colorbar\":{\"outlinewidth\":0,\"ticks\":\"\"},\"colorscale\":[[0.0,\"#0d0887\"],[0.1111111111111111,\"#46039f\"],[0.2222222222222222,\"#7201a8\"],[0.3333333333333333,\"#9c179e\"],[0.4444444444444444,\"#bd3786\"],[0.5555555555555556,\"#d8576b\"],[0.6666666666666666,\"#ed7953\"],[0.7777777777777778,\"#fb9f3a\"],[0.8888888888888888,\"#fdca26\"],[1.0,\"#f0f921\"]],\"type\":\"surface\"}],\"table\":[{\"cells\":{\"fill\":{\"color\":\"#EBF0F8\"},\"line\":{\"color\":\"white\"}},\"header\":{\"fill\":{\"color\":\"#C8D4E3\"},\"line\":{\"color\":\"white\"}},\"type\":\"table\"}]},\"layout\":{\"annotationdefaults\":{\"arrowcolor\":\"#2a3f5f\",\"arrowhead\":0,\"arrowwidth\":1},\"autotypenumbers\":\"strict\",\"coloraxis\":{\"colorbar\":{\"outlinewidth\":0,\"ticks\":\"\"}},\"colorscale\":{\"diverging\":[[0,\"#8e0152\"],[0.1,\"#c51b7d\"],[0.2,\"#de77ae\"],[0.3,\"#f1b6da\"],[0.4,\"#fde0ef\"],[0.5,\"#f7f7f7\"],[0.6,\"#e6f5d0\"],[0.7,\"#b8e186\"],[0.8,\"#7fbc41\"],[0.9,\"#4d9221\"],[1,\"#276419\"]],\"sequential\":[[0.0,\"#0d0887\"],[0.1111111111111111,\"#46039f\"],[0.2222222222222222,\"#7201a8\"],[0.3333333333333333,\"#9c179e\"],[0.4444444444444444,\"#bd3786\"],[0.5555555555555556,\"#d8576b\"],[0.6666666666666666,\"#ed7953\"],[0.7777777777777778,\"#fb9f3a\"],[0.8888888888888888,\"#fdca26\"],[1.0,\"#f0f921\"]],\"sequentialminus\":[[0.0,\"#0d0887\"],[0.1111111111111111,\"#46039f\"],[0.2222222222222222,\"#7201a8\"],[0.3333333333333333,\"#9c179e\"],[0.4444444444444444,\"#bd3786\"],[0.5555555555555556,\"#d8576b\"],[0.6666666666666666,\"#ed7953\"],[0.7777777777777778,\"#fb9f3a\"],[0.8888888888888888,\"#fdca26\"],[1.0,\"#f0f921\"]]},\"colorway\":[\"#636efa\",\"#EF553B\",\"#00cc96\",\"#ab63fa\",\"#FFA15A\",\"#19d3f3\",\"#FF6692\",\"#B6E880\",\"#FF97FF\",\"#FECB52\"],\"font\":{\"color\":\"#2a3f5f\"},\"geo\":{\"bgcolor\":\"white\",\"lakecolor\":\"white\",\"landcolor\":\"#E5ECF6\",\"showlakes\":true,\"showland\":true,\"subunitcolor\":\"white\"},\"hoverlabel\":{\"align\":\"left\"},\"hovermode\":\"closest\",\"mapbox\":{\"style\":\"light\"},\"paper_bgcolor\":\"white\",\"plot_bgcolor\":\"#E5ECF6\",\"polar\":{\"angularaxis\":{\"gridcolor\":\"white\",\"linecolor\":\"white\",\"ticks\":\"\"},\"bgcolor\":\"#E5ECF6\",\"radialaxis\":{\"gridcolor\":\"white\",\"linecolor\":\"white\",\"ticks\":\"\"}},\"scene\":{\"xaxis\":{\"backgroundcolor\":\"#E5ECF6\",\"gridcolor\":\"white\",\"gridwidth\":2,\"linecolor\":\"white\",\"showbackground\":true,\"ticks\":\"\",\"zerolinecolor\":\"white\"},\"yaxis\":{\"backgroundcolor\":\"#E5ECF6\",\"gridcolor\":\"white\",\"gridwidth\":2,\"linecolor\":\"white\",\"showbackground\":true,\"ticks\":\"\",\"zerolinecolor\":\"white\"},\"zaxis\":{\"backgroundcolor\":\"#E5ECF6\",\"gridcolor\":\"white\",\"gridwidth\":2,\"linecolor\":\"white\",\"showbackground\":true,\"ticks\":\"\",\"zerolinecolor\":\"white\"}},\"shapedefaults\":{\"line\":{\"color\":\"#2a3f5f\"}},\"ternary\":{\"aaxis\":{\"gridcolor\":\"white\",\"linecolor\":\"white\",\"ticks\":\"\"},\"baxis\":{\"gridcolor\":\"white\",\"linecolor\":\"white\",\"ticks\":\"\"},\"bgcolor\":\"#E5ECF6\",\"caxis\":{\"gridcolor\":\"white\",\"linecolor\":\"white\",\"ticks\":\"\"}},\"title\":{\"x\":0.05},\"xaxis\":{\"automargin\":true,\"gridcolor\":\"white\",\"linecolor\":\"white\",\"ticks\":\"\",\"title\":{\"standoff\":15},\"zerolinecolor\":\"white\",\"zerolinewidth\":2},\"yaxis\":{\"automargin\":true,\"gridcolor\":\"white\",\"linecolor\":\"white\",\"ticks\":\"\",\"title\":{\"standoff\":15},\"zerolinecolor\":\"white\",\"zerolinewidth\":2}}},\"title\":{\"font\":{\"color\":\"#4D5663\"}},\"xaxis\":{\"gridcolor\":\"#E1E5ED\",\"showgrid\":true,\"tickfont\":{\"color\":\"#4D5663\"},\"title\":{\"font\":{\"color\":\"#4D5663\"},\"text\":\"\"},\"zerolinecolor\":\"#E1E5ED\"},\"yaxis\":{\"gridcolor\":\"#E1E5ED\",\"showgrid\":true,\"tickfont\":{\"color\":\"#4D5663\"},\"title\":{\"font\":{\"color\":\"#4D5663\"},\"text\":\"\"},\"zerolinecolor\":\"#E1E5ED\"}},                        {\"showLink\": true, \"linkText\": \"Export to plot.ly\", \"plotlyServerURL\": \"https://plot.ly\", \"responsive\": true}                    ).then(function(){\n",
       "                            \n",
       "var gd = document.getElementById('e6ac8106-50e6-4b2b-963f-67a7d64720dc');\n",
       "var x = new MutationObserver(function (mutations, observer) {{\n",
       "        var display = window.getComputedStyle(gd).display;\n",
       "        if (!display || display === 'none') {{\n",
       "            console.log([gd, 'removed!']);\n",
       "            Plotly.purge(gd);\n",
       "            observer.disconnect();\n",
       "        }}\n",
       "}});\n",
       "\n",
       "// Listen for the removal of the full notebook cells\n",
       "var notebookContainer = gd.closest('#notebook-container');\n",
       "if (notebookContainer) {{\n",
       "    x.observe(notebookContainer, {childList: true});\n",
       "}}\n",
       "\n",
       "// Listen for the clearing of the current output cell\n",
       "var outputEl = gd.closest('.output');\n",
       "if (outputEl) {{\n",
       "    x.observe(outputEl, {childList: true});\n",
       "}}\n",
       "\n",
       "                        })                };                });            </script>        </div>"
      ]
     },
     "metadata": {},
     "output_type": "display_data"
    }
   ],
   "source": [
    "df.iplot()"
   ]
  },
  {
   "cell_type": "code",
   "execution_count": 16,
   "id": "737f6ab9",
   "metadata": {},
   "outputs": [
    {
     "data": {
      "application/vnd.plotly.v1+json": {
       "config": {
        "linkText": "Export to plot.ly",
        "plotlyServerURL": "https://plot.ly",
        "showLink": true
       },
       "data": [
        {
         "line": {
          "color": "rgba(255, 153, 51, 1.0)",
          "dash": "solid",
          "shape": "linear",
          "width": 1.3
         },
         "marker": {
          "size": 12,
          "symbol": "circle"
         },
         "mode": "markers",
         "name": "B",
         "text": "",
         "type": "scatter",
         "x": [
          0.007097092789972175,
          -0.2507980967337128,
          0.5756887159748832,
          1.008554175812353,
          -2.6283592090659873,
          1.6897482724042978,
          -0.8474374630661906,
          -0.885832540802959,
          0.4165769995034404,
          0.3252308691285932,
          0.15654813843776863,
          0.32000464521458294,
          0.22512579404893415,
          -0.9790000089937704,
          -0.3580302188491322,
          -0.7226009569936725,
          0.42102829268405206,
          0.2230306013098082,
          -0.4894846120344407,
          0.566997691727052,
          0.7607780966610685,
          0.23179719324520257,
          0.3740720066436934,
          -0.3268113355342848,
          -0.18724635850271712,
          -0.43897158097130873,
          0.3311812464599041,
          -1.7464259691116253,
          -0.7003744338871739,
          -1.1273844453143265,
          -1.4433016423607514,
          -1.9331587985472232,
          -0.4416755962896438,
          0.3540378946293956,
          -2.3205791602958827,
          -0.6145551930755045,
          -1.0991258362026313,
          0.945377164629423,
          0.7660013927940503,
          0.8096965391921613,
          -1.011703590573019,
          -0.41828365667679634,
          -1.4791244765991614,
          -0.5761080113817664,
          0.7449599286623099,
          0.42270136868761493,
          -0.40390348558849554,
          0.36669812346527975,
          0.7481364566653947,
          1.5353321018275836,
          -1.3371004213241013,
          -1.4942270443891712,
          0.0710723740451789,
          -0.0006575669951469768,
          -0.22534602111696125,
          -1.172041314702635,
          1.123901859153798,
          -0.2542859826880914,
          -0.11703759236657453,
          -0.8142079592044608,
          -1.0542576188191066,
          0.546313307317542,
          -0.8447663571066834,
          -1.1131193312433463,
          0.4587848706424149,
          2.6591625662829146,
          -0.015121925395850002,
          -0.09109764156500297,
          0.4526267555190351,
          -0.24918265339293869,
          0.2750713724462446,
          0.9645876496605769,
          0.6886893955579118,
          1.1337676914267782,
          -0.20303842320923898,
          -1.0816855549346296,
          -1.1082516347864104,
          -0.7242762213979465,
          -1.2179557113588813,
          -1.7245807252123906,
          2.1746231931296514,
          -0.31174746522478336,
          -0.3329591568687766,
          -0.499939085089008,
          0.36520642633824857,
          -1.0458452355028378,
          0.3306941382140081,
          1.2923882218609148,
          0.33893456539783484,
          0.9869969913865074,
          -0.6450150360855204,
          -0.02753327885205397,
          -1.3624539641043698,
          0.6002984616132592,
          -1.432946169513228,
          -0.5951750844353458,
          0.9740904886924309,
          -0.23690369561450986,
          1.2616316919343114,
          0.45897564550142733
         ],
         "y": [
          1.0015685518890944,
          -1.6664086034303247,
          -1.4778111106947436,
          -0.7751255716259327,
          -1.4389565480396826,
          -1.6482938194416763,
          -1.506955683250337,
          0.2645971502651818,
          1.3192834739719805,
          0.33003703872957946,
          -0.1361520326958087,
          -1.3261155345688718,
          -1.204549680637177,
          0.3850583175509835,
          -0.3716158383803578,
          -0.6195146999634619,
          -0.996136086782592,
          -0.8444102927779795,
          -0.19276359031819187,
          0.08705580927796512,
          -0.3386322034460392,
          -0.6574543866595249,
          0.9478662810005158,
          -0.687885352767681,
          0.6015622856400247,
          0.25560908288184436,
          1.4082884056443346,
          -1.6772205012167196,
          0.5931670213401689,
          -0.20747584976568403,
          -1.042688109102613,
          0.3199247638241327,
          1.112879332773885,
          -0.6983477572766444,
          0.9909467462256175,
          -0.4702970722918106,
          0.3093044428150858,
          0.3442171189806224,
          0.40125331687981614,
          -0.9680466754947346,
          1.331024386460877,
          0.9700923553259135,
          0.14177352703313215,
          1.1490024377552774,
          -0.5259677383265647,
          -2.4786187225057223,
          2.075185652874105,
          -0.7934797710348597,
          -1.0812774636843718,
          1.33656414940059,
          1.167397360723972,
          0.922865585510867,
          0.07324989663541134,
          0.7157238614039628,
          -0.7484481402430851,
          0.48528402451312097,
          0.7511743146837414,
          0.4954149925198047,
          -1.11798381149081,
          0.29057128739668125,
          -1.3345464787750942,
          0.30198862771295165,
          0.707615903109009,
          1.6500185866666577,
          0.49276185597511885,
          -1.6571574050679154,
          -2.09094633959671,
          -0.3593627718648167,
          -1.6164724433213713,
          1.483388465917525,
          -0.25114671220587437,
          1.4662187742718724,
          -0.9062039290353936,
          -0.31360181319845404,
          0.9439194230341262,
          -0.12829533899369105,
          1.599093495914871,
          0.5583649783812819,
          -0.7561134141743251,
          -0.48882952610388714,
          -0.8669124668710848,
          -0.20869738384286052,
          -2.485808077029097,
          -1.0729464262607684,
          1.021856771895166,
          0.5857795865634028,
          0.8361142241220432,
          -1.048416757395772,
          -0.598914564611235,
          -1.1063945049183166,
          -0.9420740389395011,
          -1.5173258027035248,
          0.9807347509409816,
          1.5659650379880938,
          0.7249585649931194,
          -0.016215203047882022,
          -0.04401588783851069,
          2.0029297466320037,
          -1.2835695323754206,
          -0.9558328695916015
         ]
        }
       ],
       "layout": {
        "legend": {
         "bgcolor": "#F5F6F9",
         "font": {
          "color": "#4D5663"
         }
        },
        "paper_bgcolor": "#F5F6F9",
        "plot_bgcolor": "#F5F6F9",
        "template": {
         "data": {
          "bar": [
           {
            "error_x": {
             "color": "#2a3f5f"
            },
            "error_y": {
             "color": "#2a3f5f"
            },
            "marker": {
             "line": {
              "color": "#E5ECF6",
              "width": 0.5
             },
             "pattern": {
              "fillmode": "overlay",
              "size": 10,
              "solidity": 0.2
             }
            },
            "type": "bar"
           }
          ],
          "barpolar": [
           {
            "marker": {
             "line": {
              "color": "#E5ECF6",
              "width": 0.5
             },
             "pattern": {
              "fillmode": "overlay",
              "size": 10,
              "solidity": 0.2
             }
            },
            "type": "barpolar"
           }
          ],
          "carpet": [
           {
            "aaxis": {
             "endlinecolor": "#2a3f5f",
             "gridcolor": "white",
             "linecolor": "white",
             "minorgridcolor": "white",
             "startlinecolor": "#2a3f5f"
            },
            "baxis": {
             "endlinecolor": "#2a3f5f",
             "gridcolor": "white",
             "linecolor": "white",
             "minorgridcolor": "white",
             "startlinecolor": "#2a3f5f"
            },
            "type": "carpet"
           }
          ],
          "choropleth": [
           {
            "colorbar": {
             "outlinewidth": 0,
             "ticks": ""
            },
            "type": "choropleth"
           }
          ],
          "contour": [
           {
            "colorbar": {
             "outlinewidth": 0,
             "ticks": ""
            },
            "colorscale": [
             [
              0,
              "#0d0887"
             ],
             [
              0.1111111111111111,
              "#46039f"
             ],
             [
              0.2222222222222222,
              "#7201a8"
             ],
             [
              0.3333333333333333,
              "#9c179e"
             ],
             [
              0.4444444444444444,
              "#bd3786"
             ],
             [
              0.5555555555555556,
              "#d8576b"
             ],
             [
              0.6666666666666666,
              "#ed7953"
             ],
             [
              0.7777777777777778,
              "#fb9f3a"
             ],
             [
              0.8888888888888888,
              "#fdca26"
             ],
             [
              1,
              "#f0f921"
             ]
            ],
            "type": "contour"
           }
          ],
          "contourcarpet": [
           {
            "colorbar": {
             "outlinewidth": 0,
             "ticks": ""
            },
            "type": "contourcarpet"
           }
          ],
          "heatmap": [
           {
            "colorbar": {
             "outlinewidth": 0,
             "ticks": ""
            },
            "colorscale": [
             [
              0,
              "#0d0887"
             ],
             [
              0.1111111111111111,
              "#46039f"
             ],
             [
              0.2222222222222222,
              "#7201a8"
             ],
             [
              0.3333333333333333,
              "#9c179e"
             ],
             [
              0.4444444444444444,
              "#bd3786"
             ],
             [
              0.5555555555555556,
              "#d8576b"
             ],
             [
              0.6666666666666666,
              "#ed7953"
             ],
             [
              0.7777777777777778,
              "#fb9f3a"
             ],
             [
              0.8888888888888888,
              "#fdca26"
             ],
             [
              1,
              "#f0f921"
             ]
            ],
            "type": "heatmap"
           }
          ],
          "heatmapgl": [
           {
            "colorbar": {
             "outlinewidth": 0,
             "ticks": ""
            },
            "colorscale": [
             [
              0,
              "#0d0887"
             ],
             [
              0.1111111111111111,
              "#46039f"
             ],
             [
              0.2222222222222222,
              "#7201a8"
             ],
             [
              0.3333333333333333,
              "#9c179e"
             ],
             [
              0.4444444444444444,
              "#bd3786"
             ],
             [
              0.5555555555555556,
              "#d8576b"
             ],
             [
              0.6666666666666666,
              "#ed7953"
             ],
             [
              0.7777777777777778,
              "#fb9f3a"
             ],
             [
              0.8888888888888888,
              "#fdca26"
             ],
             [
              1,
              "#f0f921"
             ]
            ],
            "type": "heatmapgl"
           }
          ],
          "histogram": [
           {
            "marker": {
             "pattern": {
              "fillmode": "overlay",
              "size": 10,
              "solidity": 0.2
             }
            },
            "type": "histogram"
           }
          ],
          "histogram2d": [
           {
            "colorbar": {
             "outlinewidth": 0,
             "ticks": ""
            },
            "colorscale": [
             [
              0,
              "#0d0887"
             ],
             [
              0.1111111111111111,
              "#46039f"
             ],
             [
              0.2222222222222222,
              "#7201a8"
             ],
             [
              0.3333333333333333,
              "#9c179e"
             ],
             [
              0.4444444444444444,
              "#bd3786"
             ],
             [
              0.5555555555555556,
              "#d8576b"
             ],
             [
              0.6666666666666666,
              "#ed7953"
             ],
             [
              0.7777777777777778,
              "#fb9f3a"
             ],
             [
              0.8888888888888888,
              "#fdca26"
             ],
             [
              1,
              "#f0f921"
             ]
            ],
            "type": "histogram2d"
           }
          ],
          "histogram2dcontour": [
           {
            "colorbar": {
             "outlinewidth": 0,
             "ticks": ""
            },
            "colorscale": [
             [
              0,
              "#0d0887"
             ],
             [
              0.1111111111111111,
              "#46039f"
             ],
             [
              0.2222222222222222,
              "#7201a8"
             ],
             [
              0.3333333333333333,
              "#9c179e"
             ],
             [
              0.4444444444444444,
              "#bd3786"
             ],
             [
              0.5555555555555556,
              "#d8576b"
             ],
             [
              0.6666666666666666,
              "#ed7953"
             ],
             [
              0.7777777777777778,
              "#fb9f3a"
             ],
             [
              0.8888888888888888,
              "#fdca26"
             ],
             [
              1,
              "#f0f921"
             ]
            ],
            "type": "histogram2dcontour"
           }
          ],
          "mesh3d": [
           {
            "colorbar": {
             "outlinewidth": 0,
             "ticks": ""
            },
            "type": "mesh3d"
           }
          ],
          "parcoords": [
           {
            "line": {
             "colorbar": {
              "outlinewidth": 0,
              "ticks": ""
             }
            },
            "type": "parcoords"
           }
          ],
          "pie": [
           {
            "automargin": true,
            "type": "pie"
           }
          ],
          "scatter": [
           {
            "fillpattern": {
             "fillmode": "overlay",
             "size": 10,
             "solidity": 0.2
            },
            "type": "scatter"
           }
          ],
          "scatter3d": [
           {
            "line": {
             "colorbar": {
              "outlinewidth": 0,
              "ticks": ""
             }
            },
            "marker": {
             "colorbar": {
              "outlinewidth": 0,
              "ticks": ""
             }
            },
            "type": "scatter3d"
           }
          ],
          "scattercarpet": [
           {
            "marker": {
             "colorbar": {
              "outlinewidth": 0,
              "ticks": ""
             }
            },
            "type": "scattercarpet"
           }
          ],
          "scattergeo": [
           {
            "marker": {
             "colorbar": {
              "outlinewidth": 0,
              "ticks": ""
             }
            },
            "type": "scattergeo"
           }
          ],
          "scattergl": [
           {
            "marker": {
             "colorbar": {
              "outlinewidth": 0,
              "ticks": ""
             }
            },
            "type": "scattergl"
           }
          ],
          "scattermapbox": [
           {
            "marker": {
             "colorbar": {
              "outlinewidth": 0,
              "ticks": ""
             }
            },
            "type": "scattermapbox"
           }
          ],
          "scatterpolar": [
           {
            "marker": {
             "colorbar": {
              "outlinewidth": 0,
              "ticks": ""
             }
            },
            "type": "scatterpolar"
           }
          ],
          "scatterpolargl": [
           {
            "marker": {
             "colorbar": {
              "outlinewidth": 0,
              "ticks": ""
             }
            },
            "type": "scatterpolargl"
           }
          ],
          "scatterternary": [
           {
            "marker": {
             "colorbar": {
              "outlinewidth": 0,
              "ticks": ""
             }
            },
            "type": "scatterternary"
           }
          ],
          "surface": [
           {
            "colorbar": {
             "outlinewidth": 0,
             "ticks": ""
            },
            "colorscale": [
             [
              0,
              "#0d0887"
             ],
             [
              0.1111111111111111,
              "#46039f"
             ],
             [
              0.2222222222222222,
              "#7201a8"
             ],
             [
              0.3333333333333333,
              "#9c179e"
             ],
             [
              0.4444444444444444,
              "#bd3786"
             ],
             [
              0.5555555555555556,
              "#d8576b"
             ],
             [
              0.6666666666666666,
              "#ed7953"
             ],
             [
              0.7777777777777778,
              "#fb9f3a"
             ],
             [
              0.8888888888888888,
              "#fdca26"
             ],
             [
              1,
              "#f0f921"
             ]
            ],
            "type": "surface"
           }
          ],
          "table": [
           {
            "cells": {
             "fill": {
              "color": "#EBF0F8"
             },
             "line": {
              "color": "white"
             }
            },
            "header": {
             "fill": {
              "color": "#C8D4E3"
             },
             "line": {
              "color": "white"
             }
            },
            "type": "table"
           }
          ]
         },
         "layout": {
          "annotationdefaults": {
           "arrowcolor": "#2a3f5f",
           "arrowhead": 0,
           "arrowwidth": 1
          },
          "autotypenumbers": "strict",
          "coloraxis": {
           "colorbar": {
            "outlinewidth": 0,
            "ticks": ""
           }
          },
          "colorscale": {
           "diverging": [
            [
             0,
             "#8e0152"
            ],
            [
             0.1,
             "#c51b7d"
            ],
            [
             0.2,
             "#de77ae"
            ],
            [
             0.3,
             "#f1b6da"
            ],
            [
             0.4,
             "#fde0ef"
            ],
            [
             0.5,
             "#f7f7f7"
            ],
            [
             0.6,
             "#e6f5d0"
            ],
            [
             0.7,
             "#b8e186"
            ],
            [
             0.8,
             "#7fbc41"
            ],
            [
             0.9,
             "#4d9221"
            ],
            [
             1,
             "#276419"
            ]
           ],
           "sequential": [
            [
             0,
             "#0d0887"
            ],
            [
             0.1111111111111111,
             "#46039f"
            ],
            [
             0.2222222222222222,
             "#7201a8"
            ],
            [
             0.3333333333333333,
             "#9c179e"
            ],
            [
             0.4444444444444444,
             "#bd3786"
            ],
            [
             0.5555555555555556,
             "#d8576b"
            ],
            [
             0.6666666666666666,
             "#ed7953"
            ],
            [
             0.7777777777777778,
             "#fb9f3a"
            ],
            [
             0.8888888888888888,
             "#fdca26"
            ],
            [
             1,
             "#f0f921"
            ]
           ],
           "sequentialminus": [
            [
             0,
             "#0d0887"
            ],
            [
             0.1111111111111111,
             "#46039f"
            ],
            [
             0.2222222222222222,
             "#7201a8"
            ],
            [
             0.3333333333333333,
             "#9c179e"
            ],
            [
             0.4444444444444444,
             "#bd3786"
            ],
            [
             0.5555555555555556,
             "#d8576b"
            ],
            [
             0.6666666666666666,
             "#ed7953"
            ],
            [
             0.7777777777777778,
             "#fb9f3a"
            ],
            [
             0.8888888888888888,
             "#fdca26"
            ],
            [
             1,
             "#f0f921"
            ]
           ]
          },
          "colorway": [
           "#636efa",
           "#EF553B",
           "#00cc96",
           "#ab63fa",
           "#FFA15A",
           "#19d3f3",
           "#FF6692",
           "#B6E880",
           "#FF97FF",
           "#FECB52"
          ],
          "font": {
           "color": "#2a3f5f"
          },
          "geo": {
           "bgcolor": "white",
           "lakecolor": "white",
           "landcolor": "#E5ECF6",
           "showlakes": true,
           "showland": true,
           "subunitcolor": "white"
          },
          "hoverlabel": {
           "align": "left"
          },
          "hovermode": "closest",
          "mapbox": {
           "style": "light"
          },
          "paper_bgcolor": "white",
          "plot_bgcolor": "#E5ECF6",
          "polar": {
           "angularaxis": {
            "gridcolor": "white",
            "linecolor": "white",
            "ticks": ""
           },
           "bgcolor": "#E5ECF6",
           "radialaxis": {
            "gridcolor": "white",
            "linecolor": "white",
            "ticks": ""
           }
          },
          "scene": {
           "xaxis": {
            "backgroundcolor": "#E5ECF6",
            "gridcolor": "white",
            "gridwidth": 2,
            "linecolor": "white",
            "showbackground": true,
            "ticks": "",
            "zerolinecolor": "white"
           },
           "yaxis": {
            "backgroundcolor": "#E5ECF6",
            "gridcolor": "white",
            "gridwidth": 2,
            "linecolor": "white",
            "showbackground": true,
            "ticks": "",
            "zerolinecolor": "white"
           },
           "zaxis": {
            "backgroundcolor": "#E5ECF6",
            "gridcolor": "white",
            "gridwidth": 2,
            "linecolor": "white",
            "showbackground": true,
            "ticks": "",
            "zerolinecolor": "white"
           }
          },
          "shapedefaults": {
           "line": {
            "color": "#2a3f5f"
           }
          },
          "ternary": {
           "aaxis": {
            "gridcolor": "white",
            "linecolor": "white",
            "ticks": ""
           },
           "baxis": {
            "gridcolor": "white",
            "linecolor": "white",
            "ticks": ""
           },
           "bgcolor": "#E5ECF6",
           "caxis": {
            "gridcolor": "white",
            "linecolor": "white",
            "ticks": ""
           }
          },
          "title": {
           "x": 0.05
          },
          "xaxis": {
           "automargin": true,
           "gridcolor": "white",
           "linecolor": "white",
           "ticks": "",
           "title": {
            "standoff": 15
           },
           "zerolinecolor": "white",
           "zerolinewidth": 2
          },
          "yaxis": {
           "automargin": true,
           "gridcolor": "white",
           "linecolor": "white",
           "ticks": "",
           "title": {
            "standoff": 15
           },
           "zerolinecolor": "white",
           "zerolinewidth": 2
          }
         }
        },
        "title": {
         "font": {
          "color": "#4D5663"
         }
        },
        "xaxis": {
         "gridcolor": "#E1E5ED",
         "showgrid": true,
         "tickfont": {
          "color": "#4D5663"
         },
         "title": {
          "font": {
           "color": "#4D5663"
          },
          "text": ""
         },
         "zerolinecolor": "#E1E5ED"
        },
        "yaxis": {
         "gridcolor": "#E1E5ED",
         "showgrid": true,
         "tickfont": {
          "color": "#4D5663"
         },
         "title": {
          "font": {
           "color": "#4D5663"
          },
          "text": ""
         },
         "zerolinecolor": "#E1E5ED"
        }
       }
      },
      "text/html": [
       "<div>                            <div id=\"eeabaf2e-edf9-48b2-a76d-434715417475\" class=\"plotly-graph-div\" style=\"height:525px; width:100%;\"></div>            <script type=\"text/javascript\">                require([\"plotly\"], function(Plotly) {                    window.PLOTLYENV=window.PLOTLYENV || {};\n",
       "                    window.PLOTLYENV.BASE_URL='https://plot.ly';                                    if (document.getElementById(\"eeabaf2e-edf9-48b2-a76d-434715417475\")) {                    Plotly.newPlot(                        \"eeabaf2e-edf9-48b2-a76d-434715417475\",                        [{\"line\":{\"color\":\"rgba(255, 153, 51, 1.0)\",\"dash\":\"solid\",\"shape\":\"linear\",\"width\":1.3},\"marker\":{\"size\":12,\"symbol\":\"circle\"},\"mode\":\"markers\",\"name\":\"B\",\"text\":\"\",\"x\":[0.007097092789972175,-0.2507980967337128,0.5756887159748832,1.008554175812353,-2.6283592090659873,1.6897482724042978,-0.8474374630661906,-0.885832540802959,0.4165769995034404,0.3252308691285932,0.15654813843776863,0.32000464521458294,0.22512579404893415,-0.9790000089937704,-0.3580302188491322,-0.7226009569936725,0.42102829268405206,0.2230306013098082,-0.4894846120344407,0.566997691727052,0.7607780966610685,0.23179719324520257,0.3740720066436934,-0.3268113355342848,-0.18724635850271712,-0.43897158097130873,0.3311812464599041,-1.7464259691116253,-0.7003744338871739,-1.1273844453143265,-1.4433016423607514,-1.9331587985472232,-0.4416755962896438,0.3540378946293956,-2.3205791602958827,-0.6145551930755045,-1.0991258362026313,0.945377164629423,0.7660013927940503,0.8096965391921613,-1.011703590573019,-0.41828365667679634,-1.4791244765991614,-0.5761080113817664,0.7449599286623099,0.42270136868761493,-0.40390348558849554,0.36669812346527975,0.7481364566653947,1.5353321018275836,-1.3371004213241013,-1.4942270443891712,0.0710723740451789,-0.0006575669951469768,-0.22534602111696125,-1.172041314702635,1.123901859153798,-0.2542859826880914,-0.11703759236657453,-0.8142079592044608,-1.0542576188191066,0.546313307317542,-0.8447663571066834,-1.1131193312433463,0.4587848706424149,2.6591625662829146,-0.015121925395850002,-0.09109764156500297,0.4526267555190351,-0.24918265339293869,0.2750713724462446,0.9645876496605769,0.6886893955579118,1.1337676914267782,-0.20303842320923898,-1.0816855549346296,-1.1082516347864104,-0.7242762213979465,-1.2179557113588813,-1.7245807252123906,2.1746231931296514,-0.31174746522478336,-0.3329591568687766,-0.499939085089008,0.36520642633824857,-1.0458452355028378,0.3306941382140081,1.2923882218609148,0.33893456539783484,0.9869969913865074,-0.6450150360855204,-0.02753327885205397,-1.3624539641043698,0.6002984616132592,-1.432946169513228,-0.5951750844353458,0.9740904886924309,-0.23690369561450986,1.2616316919343114,0.45897564550142733],\"y\":[1.0015685518890944,-1.6664086034303247,-1.4778111106947436,-0.7751255716259327,-1.4389565480396826,-1.6482938194416763,-1.506955683250337,0.2645971502651818,1.3192834739719805,0.33003703872957946,-0.1361520326958087,-1.3261155345688718,-1.204549680637177,0.3850583175509835,-0.3716158383803578,-0.6195146999634619,-0.996136086782592,-0.8444102927779795,-0.19276359031819187,0.08705580927796512,-0.3386322034460392,-0.6574543866595249,0.9478662810005158,-0.687885352767681,0.6015622856400247,0.25560908288184436,1.4082884056443346,-1.6772205012167196,0.5931670213401689,-0.20747584976568403,-1.042688109102613,0.3199247638241327,1.112879332773885,-0.6983477572766444,0.9909467462256175,-0.4702970722918106,0.3093044428150858,0.3442171189806224,0.40125331687981614,-0.9680466754947346,1.331024386460877,0.9700923553259135,0.14177352703313215,1.1490024377552774,-0.5259677383265647,-2.4786187225057223,2.075185652874105,-0.7934797710348597,-1.0812774636843718,1.33656414940059,1.167397360723972,0.922865585510867,0.07324989663541134,0.7157238614039628,-0.7484481402430851,0.48528402451312097,0.7511743146837414,0.4954149925198047,-1.11798381149081,0.29057128739668125,-1.3345464787750942,0.30198862771295165,0.707615903109009,1.6500185866666577,0.49276185597511885,-1.6571574050679154,-2.09094633959671,-0.3593627718648167,-1.6164724433213713,1.483388465917525,-0.25114671220587437,1.4662187742718724,-0.9062039290353936,-0.31360181319845404,0.9439194230341262,-0.12829533899369105,1.599093495914871,0.5583649783812819,-0.7561134141743251,-0.48882952610388714,-0.8669124668710848,-0.20869738384286052,-2.485808077029097,-1.0729464262607684,1.021856771895166,0.5857795865634028,0.8361142241220432,-1.048416757395772,-0.598914564611235,-1.1063945049183166,-0.9420740389395011,-1.5173258027035248,0.9807347509409816,1.5659650379880938,0.7249585649931194,-0.016215203047882022,-0.04401588783851069,2.0029297466320037,-1.2835695323754206,-0.9558328695916015],\"type\":\"scatter\"}],                        {\"legend\":{\"bgcolor\":\"#F5F6F9\",\"font\":{\"color\":\"#4D5663\"}},\"paper_bgcolor\":\"#F5F6F9\",\"plot_bgcolor\":\"#F5F6F9\",\"template\":{\"data\":{\"barpolar\":[{\"marker\":{\"line\":{\"color\":\"#E5ECF6\",\"width\":0.5},\"pattern\":{\"fillmode\":\"overlay\",\"size\":10,\"solidity\":0.2}},\"type\":\"barpolar\"}],\"bar\":[{\"error_x\":{\"color\":\"#2a3f5f\"},\"error_y\":{\"color\":\"#2a3f5f\"},\"marker\":{\"line\":{\"color\":\"#E5ECF6\",\"width\":0.5},\"pattern\":{\"fillmode\":\"overlay\",\"size\":10,\"solidity\":0.2}},\"type\":\"bar\"}],\"carpet\":[{\"aaxis\":{\"endlinecolor\":\"#2a3f5f\",\"gridcolor\":\"white\",\"linecolor\":\"white\",\"minorgridcolor\":\"white\",\"startlinecolor\":\"#2a3f5f\"},\"baxis\":{\"endlinecolor\":\"#2a3f5f\",\"gridcolor\":\"white\",\"linecolor\":\"white\",\"minorgridcolor\":\"white\",\"startlinecolor\":\"#2a3f5f\"},\"type\":\"carpet\"}],\"choropleth\":[{\"colorbar\":{\"outlinewidth\":0,\"ticks\":\"\"},\"type\":\"choropleth\"}],\"contourcarpet\":[{\"colorbar\":{\"outlinewidth\":0,\"ticks\":\"\"},\"type\":\"contourcarpet\"}],\"contour\":[{\"colorbar\":{\"outlinewidth\":0,\"ticks\":\"\"},\"colorscale\":[[0.0,\"#0d0887\"],[0.1111111111111111,\"#46039f\"],[0.2222222222222222,\"#7201a8\"],[0.3333333333333333,\"#9c179e\"],[0.4444444444444444,\"#bd3786\"],[0.5555555555555556,\"#d8576b\"],[0.6666666666666666,\"#ed7953\"],[0.7777777777777778,\"#fb9f3a\"],[0.8888888888888888,\"#fdca26\"],[1.0,\"#f0f921\"]],\"type\":\"contour\"}],\"heatmapgl\":[{\"colorbar\":{\"outlinewidth\":0,\"ticks\":\"\"},\"colorscale\":[[0.0,\"#0d0887\"],[0.1111111111111111,\"#46039f\"],[0.2222222222222222,\"#7201a8\"],[0.3333333333333333,\"#9c179e\"],[0.4444444444444444,\"#bd3786\"],[0.5555555555555556,\"#d8576b\"],[0.6666666666666666,\"#ed7953\"],[0.7777777777777778,\"#fb9f3a\"],[0.8888888888888888,\"#fdca26\"],[1.0,\"#f0f921\"]],\"type\":\"heatmapgl\"}],\"heatmap\":[{\"colorbar\":{\"outlinewidth\":0,\"ticks\":\"\"},\"colorscale\":[[0.0,\"#0d0887\"],[0.1111111111111111,\"#46039f\"],[0.2222222222222222,\"#7201a8\"],[0.3333333333333333,\"#9c179e\"],[0.4444444444444444,\"#bd3786\"],[0.5555555555555556,\"#d8576b\"],[0.6666666666666666,\"#ed7953\"],[0.7777777777777778,\"#fb9f3a\"],[0.8888888888888888,\"#fdca26\"],[1.0,\"#f0f921\"]],\"type\":\"heatmap\"}],\"histogram2dcontour\":[{\"colorbar\":{\"outlinewidth\":0,\"ticks\":\"\"},\"colorscale\":[[0.0,\"#0d0887\"],[0.1111111111111111,\"#46039f\"],[0.2222222222222222,\"#7201a8\"],[0.3333333333333333,\"#9c179e\"],[0.4444444444444444,\"#bd3786\"],[0.5555555555555556,\"#d8576b\"],[0.6666666666666666,\"#ed7953\"],[0.7777777777777778,\"#fb9f3a\"],[0.8888888888888888,\"#fdca26\"],[1.0,\"#f0f921\"]],\"type\":\"histogram2dcontour\"}],\"histogram2d\":[{\"colorbar\":{\"outlinewidth\":0,\"ticks\":\"\"},\"colorscale\":[[0.0,\"#0d0887\"],[0.1111111111111111,\"#46039f\"],[0.2222222222222222,\"#7201a8\"],[0.3333333333333333,\"#9c179e\"],[0.4444444444444444,\"#bd3786\"],[0.5555555555555556,\"#d8576b\"],[0.6666666666666666,\"#ed7953\"],[0.7777777777777778,\"#fb9f3a\"],[0.8888888888888888,\"#fdca26\"],[1.0,\"#f0f921\"]],\"type\":\"histogram2d\"}],\"histogram\":[{\"marker\":{\"pattern\":{\"fillmode\":\"overlay\",\"size\":10,\"solidity\":0.2}},\"type\":\"histogram\"}],\"mesh3d\":[{\"colorbar\":{\"outlinewidth\":0,\"ticks\":\"\"},\"type\":\"mesh3d\"}],\"parcoords\":[{\"line\":{\"colorbar\":{\"outlinewidth\":0,\"ticks\":\"\"}},\"type\":\"parcoords\"}],\"pie\":[{\"automargin\":true,\"type\":\"pie\"}],\"scatter3d\":[{\"line\":{\"colorbar\":{\"outlinewidth\":0,\"ticks\":\"\"}},\"marker\":{\"colorbar\":{\"outlinewidth\":0,\"ticks\":\"\"}},\"type\":\"scatter3d\"}],\"scattercarpet\":[{\"marker\":{\"colorbar\":{\"outlinewidth\":0,\"ticks\":\"\"}},\"type\":\"scattercarpet\"}],\"scattergeo\":[{\"marker\":{\"colorbar\":{\"outlinewidth\":0,\"ticks\":\"\"}},\"type\":\"scattergeo\"}],\"scattergl\":[{\"marker\":{\"colorbar\":{\"outlinewidth\":0,\"ticks\":\"\"}},\"type\":\"scattergl\"}],\"scattermapbox\":[{\"marker\":{\"colorbar\":{\"outlinewidth\":0,\"ticks\":\"\"}},\"type\":\"scattermapbox\"}],\"scatterpolargl\":[{\"marker\":{\"colorbar\":{\"outlinewidth\":0,\"ticks\":\"\"}},\"type\":\"scatterpolargl\"}],\"scatterpolar\":[{\"marker\":{\"colorbar\":{\"outlinewidth\":0,\"ticks\":\"\"}},\"type\":\"scatterpolar\"}],\"scatter\":[{\"fillpattern\":{\"fillmode\":\"overlay\",\"size\":10,\"solidity\":0.2},\"type\":\"scatter\"}],\"scatterternary\":[{\"marker\":{\"colorbar\":{\"outlinewidth\":0,\"ticks\":\"\"}},\"type\":\"scatterternary\"}],\"surface\":[{\"colorbar\":{\"outlinewidth\":0,\"ticks\":\"\"},\"colorscale\":[[0.0,\"#0d0887\"],[0.1111111111111111,\"#46039f\"],[0.2222222222222222,\"#7201a8\"],[0.3333333333333333,\"#9c179e\"],[0.4444444444444444,\"#bd3786\"],[0.5555555555555556,\"#d8576b\"],[0.6666666666666666,\"#ed7953\"],[0.7777777777777778,\"#fb9f3a\"],[0.8888888888888888,\"#fdca26\"],[1.0,\"#f0f921\"]],\"type\":\"surface\"}],\"table\":[{\"cells\":{\"fill\":{\"color\":\"#EBF0F8\"},\"line\":{\"color\":\"white\"}},\"header\":{\"fill\":{\"color\":\"#C8D4E3\"},\"line\":{\"color\":\"white\"}},\"type\":\"table\"}]},\"layout\":{\"annotationdefaults\":{\"arrowcolor\":\"#2a3f5f\",\"arrowhead\":0,\"arrowwidth\":1},\"autotypenumbers\":\"strict\",\"coloraxis\":{\"colorbar\":{\"outlinewidth\":0,\"ticks\":\"\"}},\"colorscale\":{\"diverging\":[[0,\"#8e0152\"],[0.1,\"#c51b7d\"],[0.2,\"#de77ae\"],[0.3,\"#f1b6da\"],[0.4,\"#fde0ef\"],[0.5,\"#f7f7f7\"],[0.6,\"#e6f5d0\"],[0.7,\"#b8e186\"],[0.8,\"#7fbc41\"],[0.9,\"#4d9221\"],[1,\"#276419\"]],\"sequential\":[[0.0,\"#0d0887\"],[0.1111111111111111,\"#46039f\"],[0.2222222222222222,\"#7201a8\"],[0.3333333333333333,\"#9c179e\"],[0.4444444444444444,\"#bd3786\"],[0.5555555555555556,\"#d8576b\"],[0.6666666666666666,\"#ed7953\"],[0.7777777777777778,\"#fb9f3a\"],[0.8888888888888888,\"#fdca26\"],[1.0,\"#f0f921\"]],\"sequentialminus\":[[0.0,\"#0d0887\"],[0.1111111111111111,\"#46039f\"],[0.2222222222222222,\"#7201a8\"],[0.3333333333333333,\"#9c179e\"],[0.4444444444444444,\"#bd3786\"],[0.5555555555555556,\"#d8576b\"],[0.6666666666666666,\"#ed7953\"],[0.7777777777777778,\"#fb9f3a\"],[0.8888888888888888,\"#fdca26\"],[1.0,\"#f0f921\"]]},\"colorway\":[\"#636efa\",\"#EF553B\",\"#00cc96\",\"#ab63fa\",\"#FFA15A\",\"#19d3f3\",\"#FF6692\",\"#B6E880\",\"#FF97FF\",\"#FECB52\"],\"font\":{\"color\":\"#2a3f5f\"},\"geo\":{\"bgcolor\":\"white\",\"lakecolor\":\"white\",\"landcolor\":\"#E5ECF6\",\"showlakes\":true,\"showland\":true,\"subunitcolor\":\"white\"},\"hoverlabel\":{\"align\":\"left\"},\"hovermode\":\"closest\",\"mapbox\":{\"style\":\"light\"},\"paper_bgcolor\":\"white\",\"plot_bgcolor\":\"#E5ECF6\",\"polar\":{\"angularaxis\":{\"gridcolor\":\"white\",\"linecolor\":\"white\",\"ticks\":\"\"},\"bgcolor\":\"#E5ECF6\",\"radialaxis\":{\"gridcolor\":\"white\",\"linecolor\":\"white\",\"ticks\":\"\"}},\"scene\":{\"xaxis\":{\"backgroundcolor\":\"#E5ECF6\",\"gridcolor\":\"white\",\"gridwidth\":2,\"linecolor\":\"white\",\"showbackground\":true,\"ticks\":\"\",\"zerolinecolor\":\"white\"},\"yaxis\":{\"backgroundcolor\":\"#E5ECF6\",\"gridcolor\":\"white\",\"gridwidth\":2,\"linecolor\":\"white\",\"showbackground\":true,\"ticks\":\"\",\"zerolinecolor\":\"white\"},\"zaxis\":{\"backgroundcolor\":\"#E5ECF6\",\"gridcolor\":\"white\",\"gridwidth\":2,\"linecolor\":\"white\",\"showbackground\":true,\"ticks\":\"\",\"zerolinecolor\":\"white\"}},\"shapedefaults\":{\"line\":{\"color\":\"#2a3f5f\"}},\"ternary\":{\"aaxis\":{\"gridcolor\":\"white\",\"linecolor\":\"white\",\"ticks\":\"\"},\"baxis\":{\"gridcolor\":\"white\",\"linecolor\":\"white\",\"ticks\":\"\"},\"bgcolor\":\"#E5ECF6\",\"caxis\":{\"gridcolor\":\"white\",\"linecolor\":\"white\",\"ticks\":\"\"}},\"title\":{\"x\":0.05},\"xaxis\":{\"automargin\":true,\"gridcolor\":\"white\",\"linecolor\":\"white\",\"ticks\":\"\",\"title\":{\"standoff\":15},\"zerolinecolor\":\"white\",\"zerolinewidth\":2},\"yaxis\":{\"automargin\":true,\"gridcolor\":\"white\",\"linecolor\":\"white\",\"ticks\":\"\",\"title\":{\"standoff\":15},\"zerolinecolor\":\"white\",\"zerolinewidth\":2}}},\"title\":{\"font\":{\"color\":\"#4D5663\"}},\"xaxis\":{\"gridcolor\":\"#E1E5ED\",\"showgrid\":true,\"tickfont\":{\"color\":\"#4D5663\"},\"title\":{\"font\":{\"color\":\"#4D5663\"},\"text\":\"\"},\"zerolinecolor\":\"#E1E5ED\"},\"yaxis\":{\"gridcolor\":\"#E1E5ED\",\"showgrid\":true,\"tickfont\":{\"color\":\"#4D5663\"},\"title\":{\"font\":{\"color\":\"#4D5663\"},\"text\":\"\"},\"zerolinecolor\":\"#E1E5ED\"}},                        {\"showLink\": true, \"linkText\": \"Export to plot.ly\", \"plotlyServerURL\": \"https://plot.ly\", \"responsive\": true}                    ).then(function(){\n",
       "                            \n",
       "var gd = document.getElementById('eeabaf2e-edf9-48b2-a76d-434715417475');\n",
       "var x = new MutationObserver(function (mutations, observer) {{\n",
       "        var display = window.getComputedStyle(gd).display;\n",
       "        if (!display || display === 'none') {{\n",
       "            console.log([gd, 'removed!']);\n",
       "            Plotly.purge(gd);\n",
       "            observer.disconnect();\n",
       "        }}\n",
       "}});\n",
       "\n",
       "// Listen for the removal of the full notebook cells\n",
       "var notebookContainer = gd.closest('#notebook-container');\n",
       "if (notebookContainer) {{\n",
       "    x.observe(notebookContainer, {childList: true});\n",
       "}}\n",
       "\n",
       "// Listen for the clearing of the current output cell\n",
       "var outputEl = gd.closest('.output');\n",
       "if (outputEl) {{\n",
       "    x.observe(outputEl, {childList: true});\n",
       "}}\n",
       "\n",
       "                        })                };                });            </script>        </div>"
      ]
     },
     "metadata": {},
     "output_type": "display_data"
    }
   ],
   "source": [
    "df.iplot(kind='scatter',x='A',y='B', mode='markers')"
   ]
  },
  {
   "cell_type": "code",
   "execution_count": 18,
   "id": "0b936ab4",
   "metadata": {},
   "outputs": [
    {
     "data": {
      "application/vnd.plotly.v1+json": {
       "config": {
        "linkText": "Export to plot.ly",
        "plotlyServerURL": "https://plot.ly",
        "showLink": true
       },
       "data": [
        {
         "marker": {
          "color": "rgba(255, 153, 51, 0.6)",
          "line": {
           "color": "rgba(255, 153, 51, 1.0)",
           "width": 1
          }
         },
         "name": "Values",
         "orientation": "v",
         "text": "",
         "type": "bar",
         "x": [
          "A",
          "B",
          "C"
         ],
         "y": [
          32,
          43,
          50
         ]
        }
       ],
       "layout": {
        "legend": {
         "bgcolor": "#F5F6F9",
         "font": {
          "color": "#4D5663"
         }
        },
        "paper_bgcolor": "#F5F6F9",
        "plot_bgcolor": "#F5F6F9",
        "template": {
         "data": {
          "bar": [
           {
            "error_x": {
             "color": "#2a3f5f"
            },
            "error_y": {
             "color": "#2a3f5f"
            },
            "marker": {
             "line": {
              "color": "#E5ECF6",
              "width": 0.5
             },
             "pattern": {
              "fillmode": "overlay",
              "size": 10,
              "solidity": 0.2
             }
            },
            "type": "bar"
           }
          ],
          "barpolar": [
           {
            "marker": {
             "line": {
              "color": "#E5ECF6",
              "width": 0.5
             },
             "pattern": {
              "fillmode": "overlay",
              "size": 10,
              "solidity": 0.2
             }
            },
            "type": "barpolar"
           }
          ],
          "carpet": [
           {
            "aaxis": {
             "endlinecolor": "#2a3f5f",
             "gridcolor": "white",
             "linecolor": "white",
             "minorgridcolor": "white",
             "startlinecolor": "#2a3f5f"
            },
            "baxis": {
             "endlinecolor": "#2a3f5f",
             "gridcolor": "white",
             "linecolor": "white",
             "minorgridcolor": "white",
             "startlinecolor": "#2a3f5f"
            },
            "type": "carpet"
           }
          ],
          "choropleth": [
           {
            "colorbar": {
             "outlinewidth": 0,
             "ticks": ""
            },
            "type": "choropleth"
           }
          ],
          "contour": [
           {
            "colorbar": {
             "outlinewidth": 0,
             "ticks": ""
            },
            "colorscale": [
             [
              0,
              "#0d0887"
             ],
             [
              0.1111111111111111,
              "#46039f"
             ],
             [
              0.2222222222222222,
              "#7201a8"
             ],
             [
              0.3333333333333333,
              "#9c179e"
             ],
             [
              0.4444444444444444,
              "#bd3786"
             ],
             [
              0.5555555555555556,
              "#d8576b"
             ],
             [
              0.6666666666666666,
              "#ed7953"
             ],
             [
              0.7777777777777778,
              "#fb9f3a"
             ],
             [
              0.8888888888888888,
              "#fdca26"
             ],
             [
              1,
              "#f0f921"
             ]
            ],
            "type": "contour"
           }
          ],
          "contourcarpet": [
           {
            "colorbar": {
             "outlinewidth": 0,
             "ticks": ""
            },
            "type": "contourcarpet"
           }
          ],
          "heatmap": [
           {
            "colorbar": {
             "outlinewidth": 0,
             "ticks": ""
            },
            "colorscale": [
             [
              0,
              "#0d0887"
             ],
             [
              0.1111111111111111,
              "#46039f"
             ],
             [
              0.2222222222222222,
              "#7201a8"
             ],
             [
              0.3333333333333333,
              "#9c179e"
             ],
             [
              0.4444444444444444,
              "#bd3786"
             ],
             [
              0.5555555555555556,
              "#d8576b"
             ],
             [
              0.6666666666666666,
              "#ed7953"
             ],
             [
              0.7777777777777778,
              "#fb9f3a"
             ],
             [
              0.8888888888888888,
              "#fdca26"
             ],
             [
              1,
              "#f0f921"
             ]
            ],
            "type": "heatmap"
           }
          ],
          "heatmapgl": [
           {
            "colorbar": {
             "outlinewidth": 0,
             "ticks": ""
            },
            "colorscale": [
             [
              0,
              "#0d0887"
             ],
             [
              0.1111111111111111,
              "#46039f"
             ],
             [
              0.2222222222222222,
              "#7201a8"
             ],
             [
              0.3333333333333333,
              "#9c179e"
             ],
             [
              0.4444444444444444,
              "#bd3786"
             ],
             [
              0.5555555555555556,
              "#d8576b"
             ],
             [
              0.6666666666666666,
              "#ed7953"
             ],
             [
              0.7777777777777778,
              "#fb9f3a"
             ],
             [
              0.8888888888888888,
              "#fdca26"
             ],
             [
              1,
              "#f0f921"
             ]
            ],
            "type": "heatmapgl"
           }
          ],
          "histogram": [
           {
            "marker": {
             "pattern": {
              "fillmode": "overlay",
              "size": 10,
              "solidity": 0.2
             }
            },
            "type": "histogram"
           }
          ],
          "histogram2d": [
           {
            "colorbar": {
             "outlinewidth": 0,
             "ticks": ""
            },
            "colorscale": [
             [
              0,
              "#0d0887"
             ],
             [
              0.1111111111111111,
              "#46039f"
             ],
             [
              0.2222222222222222,
              "#7201a8"
             ],
             [
              0.3333333333333333,
              "#9c179e"
             ],
             [
              0.4444444444444444,
              "#bd3786"
             ],
             [
              0.5555555555555556,
              "#d8576b"
             ],
             [
              0.6666666666666666,
              "#ed7953"
             ],
             [
              0.7777777777777778,
              "#fb9f3a"
             ],
             [
              0.8888888888888888,
              "#fdca26"
             ],
             [
              1,
              "#f0f921"
             ]
            ],
            "type": "histogram2d"
           }
          ],
          "histogram2dcontour": [
           {
            "colorbar": {
             "outlinewidth": 0,
             "ticks": ""
            },
            "colorscale": [
             [
              0,
              "#0d0887"
             ],
             [
              0.1111111111111111,
              "#46039f"
             ],
             [
              0.2222222222222222,
              "#7201a8"
             ],
             [
              0.3333333333333333,
              "#9c179e"
             ],
             [
              0.4444444444444444,
              "#bd3786"
             ],
             [
              0.5555555555555556,
              "#d8576b"
             ],
             [
              0.6666666666666666,
              "#ed7953"
             ],
             [
              0.7777777777777778,
              "#fb9f3a"
             ],
             [
              0.8888888888888888,
              "#fdca26"
             ],
             [
              1,
              "#f0f921"
             ]
            ],
            "type": "histogram2dcontour"
           }
          ],
          "mesh3d": [
           {
            "colorbar": {
             "outlinewidth": 0,
             "ticks": ""
            },
            "type": "mesh3d"
           }
          ],
          "parcoords": [
           {
            "line": {
             "colorbar": {
              "outlinewidth": 0,
              "ticks": ""
             }
            },
            "type": "parcoords"
           }
          ],
          "pie": [
           {
            "automargin": true,
            "type": "pie"
           }
          ],
          "scatter": [
           {
            "fillpattern": {
             "fillmode": "overlay",
             "size": 10,
             "solidity": 0.2
            },
            "type": "scatter"
           }
          ],
          "scatter3d": [
           {
            "line": {
             "colorbar": {
              "outlinewidth": 0,
              "ticks": ""
             }
            },
            "marker": {
             "colorbar": {
              "outlinewidth": 0,
              "ticks": ""
             }
            },
            "type": "scatter3d"
           }
          ],
          "scattercarpet": [
           {
            "marker": {
             "colorbar": {
              "outlinewidth": 0,
              "ticks": ""
             }
            },
            "type": "scattercarpet"
           }
          ],
          "scattergeo": [
           {
            "marker": {
             "colorbar": {
              "outlinewidth": 0,
              "ticks": ""
             }
            },
            "type": "scattergeo"
           }
          ],
          "scattergl": [
           {
            "marker": {
             "colorbar": {
              "outlinewidth": 0,
              "ticks": ""
             }
            },
            "type": "scattergl"
           }
          ],
          "scattermapbox": [
           {
            "marker": {
             "colorbar": {
              "outlinewidth": 0,
              "ticks": ""
             }
            },
            "type": "scattermapbox"
           }
          ],
          "scatterpolar": [
           {
            "marker": {
             "colorbar": {
              "outlinewidth": 0,
              "ticks": ""
             }
            },
            "type": "scatterpolar"
           }
          ],
          "scatterpolargl": [
           {
            "marker": {
             "colorbar": {
              "outlinewidth": 0,
              "ticks": ""
             }
            },
            "type": "scatterpolargl"
           }
          ],
          "scatterternary": [
           {
            "marker": {
             "colorbar": {
              "outlinewidth": 0,
              "ticks": ""
             }
            },
            "type": "scatterternary"
           }
          ],
          "surface": [
           {
            "colorbar": {
             "outlinewidth": 0,
             "ticks": ""
            },
            "colorscale": [
             [
              0,
              "#0d0887"
             ],
             [
              0.1111111111111111,
              "#46039f"
             ],
             [
              0.2222222222222222,
              "#7201a8"
             ],
             [
              0.3333333333333333,
              "#9c179e"
             ],
             [
              0.4444444444444444,
              "#bd3786"
             ],
             [
              0.5555555555555556,
              "#d8576b"
             ],
             [
              0.6666666666666666,
              "#ed7953"
             ],
             [
              0.7777777777777778,
              "#fb9f3a"
             ],
             [
              0.8888888888888888,
              "#fdca26"
             ],
             [
              1,
              "#f0f921"
             ]
            ],
            "type": "surface"
           }
          ],
          "table": [
           {
            "cells": {
             "fill": {
              "color": "#EBF0F8"
             },
             "line": {
              "color": "white"
             }
            },
            "header": {
             "fill": {
              "color": "#C8D4E3"
             },
             "line": {
              "color": "white"
             }
            },
            "type": "table"
           }
          ]
         },
         "layout": {
          "annotationdefaults": {
           "arrowcolor": "#2a3f5f",
           "arrowhead": 0,
           "arrowwidth": 1
          },
          "autotypenumbers": "strict",
          "coloraxis": {
           "colorbar": {
            "outlinewidth": 0,
            "ticks": ""
           }
          },
          "colorscale": {
           "diverging": [
            [
             0,
             "#8e0152"
            ],
            [
             0.1,
             "#c51b7d"
            ],
            [
             0.2,
             "#de77ae"
            ],
            [
             0.3,
             "#f1b6da"
            ],
            [
             0.4,
             "#fde0ef"
            ],
            [
             0.5,
             "#f7f7f7"
            ],
            [
             0.6,
             "#e6f5d0"
            ],
            [
             0.7,
             "#b8e186"
            ],
            [
             0.8,
             "#7fbc41"
            ],
            [
             0.9,
             "#4d9221"
            ],
            [
             1,
             "#276419"
            ]
           ],
           "sequential": [
            [
             0,
             "#0d0887"
            ],
            [
             0.1111111111111111,
             "#46039f"
            ],
            [
             0.2222222222222222,
             "#7201a8"
            ],
            [
             0.3333333333333333,
             "#9c179e"
            ],
            [
             0.4444444444444444,
             "#bd3786"
            ],
            [
             0.5555555555555556,
             "#d8576b"
            ],
            [
             0.6666666666666666,
             "#ed7953"
            ],
            [
             0.7777777777777778,
             "#fb9f3a"
            ],
            [
             0.8888888888888888,
             "#fdca26"
            ],
            [
             1,
             "#f0f921"
            ]
           ],
           "sequentialminus": [
            [
             0,
             "#0d0887"
            ],
            [
             0.1111111111111111,
             "#46039f"
            ],
            [
             0.2222222222222222,
             "#7201a8"
            ],
            [
             0.3333333333333333,
             "#9c179e"
            ],
            [
             0.4444444444444444,
             "#bd3786"
            ],
            [
             0.5555555555555556,
             "#d8576b"
            ],
            [
             0.6666666666666666,
             "#ed7953"
            ],
            [
             0.7777777777777778,
             "#fb9f3a"
            ],
            [
             0.8888888888888888,
             "#fdca26"
            ],
            [
             1,
             "#f0f921"
            ]
           ]
          },
          "colorway": [
           "#636efa",
           "#EF553B",
           "#00cc96",
           "#ab63fa",
           "#FFA15A",
           "#19d3f3",
           "#FF6692",
           "#B6E880",
           "#FF97FF",
           "#FECB52"
          ],
          "font": {
           "color": "#2a3f5f"
          },
          "geo": {
           "bgcolor": "white",
           "lakecolor": "white",
           "landcolor": "#E5ECF6",
           "showlakes": true,
           "showland": true,
           "subunitcolor": "white"
          },
          "hoverlabel": {
           "align": "left"
          },
          "hovermode": "closest",
          "mapbox": {
           "style": "light"
          },
          "paper_bgcolor": "white",
          "plot_bgcolor": "#E5ECF6",
          "polar": {
           "angularaxis": {
            "gridcolor": "white",
            "linecolor": "white",
            "ticks": ""
           },
           "bgcolor": "#E5ECF6",
           "radialaxis": {
            "gridcolor": "white",
            "linecolor": "white",
            "ticks": ""
           }
          },
          "scene": {
           "xaxis": {
            "backgroundcolor": "#E5ECF6",
            "gridcolor": "white",
            "gridwidth": 2,
            "linecolor": "white",
            "showbackground": true,
            "ticks": "",
            "zerolinecolor": "white"
           },
           "yaxis": {
            "backgroundcolor": "#E5ECF6",
            "gridcolor": "white",
            "gridwidth": 2,
            "linecolor": "white",
            "showbackground": true,
            "ticks": "",
            "zerolinecolor": "white"
           },
           "zaxis": {
            "backgroundcolor": "#E5ECF6",
            "gridcolor": "white",
            "gridwidth": 2,
            "linecolor": "white",
            "showbackground": true,
            "ticks": "",
            "zerolinecolor": "white"
           }
          },
          "shapedefaults": {
           "line": {
            "color": "#2a3f5f"
           }
          },
          "ternary": {
           "aaxis": {
            "gridcolor": "white",
            "linecolor": "white",
            "ticks": ""
           },
           "baxis": {
            "gridcolor": "white",
            "linecolor": "white",
            "ticks": ""
           },
           "bgcolor": "#E5ECF6",
           "caxis": {
            "gridcolor": "white",
            "linecolor": "white",
            "ticks": ""
           }
          },
          "title": {
           "x": 0.05
          },
          "xaxis": {
           "automargin": true,
           "gridcolor": "white",
           "linecolor": "white",
           "ticks": "",
           "title": {
            "standoff": 15
           },
           "zerolinecolor": "white",
           "zerolinewidth": 2
          },
          "yaxis": {
           "automargin": true,
           "gridcolor": "white",
           "linecolor": "white",
           "ticks": "",
           "title": {
            "standoff": 15
           },
           "zerolinecolor": "white",
           "zerolinewidth": 2
          }
         }
        },
        "title": {
         "font": {
          "color": "#4D5663"
         }
        },
        "xaxis": {
         "gridcolor": "#E1E5ED",
         "showgrid": true,
         "tickfont": {
          "color": "#4D5663"
         },
         "title": {
          "font": {
           "color": "#4D5663"
          },
          "text": ""
         },
         "zerolinecolor": "#E1E5ED"
        },
        "yaxis": {
         "gridcolor": "#E1E5ED",
         "showgrid": true,
         "tickfont": {
          "color": "#4D5663"
         },
         "title": {
          "font": {
           "color": "#4D5663"
          },
          "text": ""
         },
         "zerolinecolor": "#E1E5ED"
        }
       }
      },
      "text/html": [
       "<div>                            <div id=\"e1328a30-0288-40c4-9657-859bd7682b99\" class=\"plotly-graph-div\" style=\"height:525px; width:100%;\"></div>            <script type=\"text/javascript\">                require([\"plotly\"], function(Plotly) {                    window.PLOTLYENV=window.PLOTLYENV || {};\n",
       "                    window.PLOTLYENV.BASE_URL='https://plot.ly';                                    if (document.getElementById(\"e1328a30-0288-40c4-9657-859bd7682b99\")) {                    Plotly.newPlot(                        \"e1328a30-0288-40c4-9657-859bd7682b99\",                        [{\"marker\":{\"color\":\"rgba(255, 153, 51, 0.6)\",\"line\":{\"color\":\"rgba(255, 153, 51, 1.0)\",\"width\":1}},\"name\":\"Values\",\"orientation\":\"v\",\"text\":\"\",\"x\":[\"A\",\"B\",\"C\"],\"y\":[32,43,50],\"type\":\"bar\"}],                        {\"legend\":{\"bgcolor\":\"#F5F6F9\",\"font\":{\"color\":\"#4D5663\"}},\"paper_bgcolor\":\"#F5F6F9\",\"plot_bgcolor\":\"#F5F6F9\",\"template\":{\"data\":{\"barpolar\":[{\"marker\":{\"line\":{\"color\":\"#E5ECF6\",\"width\":0.5},\"pattern\":{\"fillmode\":\"overlay\",\"size\":10,\"solidity\":0.2}},\"type\":\"barpolar\"}],\"bar\":[{\"error_x\":{\"color\":\"#2a3f5f\"},\"error_y\":{\"color\":\"#2a3f5f\"},\"marker\":{\"line\":{\"color\":\"#E5ECF6\",\"width\":0.5},\"pattern\":{\"fillmode\":\"overlay\",\"size\":10,\"solidity\":0.2}},\"type\":\"bar\"}],\"carpet\":[{\"aaxis\":{\"endlinecolor\":\"#2a3f5f\",\"gridcolor\":\"white\",\"linecolor\":\"white\",\"minorgridcolor\":\"white\",\"startlinecolor\":\"#2a3f5f\"},\"baxis\":{\"endlinecolor\":\"#2a3f5f\",\"gridcolor\":\"white\",\"linecolor\":\"white\",\"minorgridcolor\":\"white\",\"startlinecolor\":\"#2a3f5f\"},\"type\":\"carpet\"}],\"choropleth\":[{\"colorbar\":{\"outlinewidth\":0,\"ticks\":\"\"},\"type\":\"choropleth\"}],\"contourcarpet\":[{\"colorbar\":{\"outlinewidth\":0,\"ticks\":\"\"},\"type\":\"contourcarpet\"}],\"contour\":[{\"colorbar\":{\"outlinewidth\":0,\"ticks\":\"\"},\"colorscale\":[[0.0,\"#0d0887\"],[0.1111111111111111,\"#46039f\"],[0.2222222222222222,\"#7201a8\"],[0.3333333333333333,\"#9c179e\"],[0.4444444444444444,\"#bd3786\"],[0.5555555555555556,\"#d8576b\"],[0.6666666666666666,\"#ed7953\"],[0.7777777777777778,\"#fb9f3a\"],[0.8888888888888888,\"#fdca26\"],[1.0,\"#f0f921\"]],\"type\":\"contour\"}],\"heatmapgl\":[{\"colorbar\":{\"outlinewidth\":0,\"ticks\":\"\"},\"colorscale\":[[0.0,\"#0d0887\"],[0.1111111111111111,\"#46039f\"],[0.2222222222222222,\"#7201a8\"],[0.3333333333333333,\"#9c179e\"],[0.4444444444444444,\"#bd3786\"],[0.5555555555555556,\"#d8576b\"],[0.6666666666666666,\"#ed7953\"],[0.7777777777777778,\"#fb9f3a\"],[0.8888888888888888,\"#fdca26\"],[1.0,\"#f0f921\"]],\"type\":\"heatmapgl\"}],\"heatmap\":[{\"colorbar\":{\"outlinewidth\":0,\"ticks\":\"\"},\"colorscale\":[[0.0,\"#0d0887\"],[0.1111111111111111,\"#46039f\"],[0.2222222222222222,\"#7201a8\"],[0.3333333333333333,\"#9c179e\"],[0.4444444444444444,\"#bd3786\"],[0.5555555555555556,\"#d8576b\"],[0.6666666666666666,\"#ed7953\"],[0.7777777777777778,\"#fb9f3a\"],[0.8888888888888888,\"#fdca26\"],[1.0,\"#f0f921\"]],\"type\":\"heatmap\"}],\"histogram2dcontour\":[{\"colorbar\":{\"outlinewidth\":0,\"ticks\":\"\"},\"colorscale\":[[0.0,\"#0d0887\"],[0.1111111111111111,\"#46039f\"],[0.2222222222222222,\"#7201a8\"],[0.3333333333333333,\"#9c179e\"],[0.4444444444444444,\"#bd3786\"],[0.5555555555555556,\"#d8576b\"],[0.6666666666666666,\"#ed7953\"],[0.7777777777777778,\"#fb9f3a\"],[0.8888888888888888,\"#fdca26\"],[1.0,\"#f0f921\"]],\"type\":\"histogram2dcontour\"}],\"histogram2d\":[{\"colorbar\":{\"outlinewidth\":0,\"ticks\":\"\"},\"colorscale\":[[0.0,\"#0d0887\"],[0.1111111111111111,\"#46039f\"],[0.2222222222222222,\"#7201a8\"],[0.3333333333333333,\"#9c179e\"],[0.4444444444444444,\"#bd3786\"],[0.5555555555555556,\"#d8576b\"],[0.6666666666666666,\"#ed7953\"],[0.7777777777777778,\"#fb9f3a\"],[0.8888888888888888,\"#fdca26\"],[1.0,\"#f0f921\"]],\"type\":\"histogram2d\"}],\"histogram\":[{\"marker\":{\"pattern\":{\"fillmode\":\"overlay\",\"size\":10,\"solidity\":0.2}},\"type\":\"histogram\"}],\"mesh3d\":[{\"colorbar\":{\"outlinewidth\":0,\"ticks\":\"\"},\"type\":\"mesh3d\"}],\"parcoords\":[{\"line\":{\"colorbar\":{\"outlinewidth\":0,\"ticks\":\"\"}},\"type\":\"parcoords\"}],\"pie\":[{\"automargin\":true,\"type\":\"pie\"}],\"scatter3d\":[{\"line\":{\"colorbar\":{\"outlinewidth\":0,\"ticks\":\"\"}},\"marker\":{\"colorbar\":{\"outlinewidth\":0,\"ticks\":\"\"}},\"type\":\"scatter3d\"}],\"scattercarpet\":[{\"marker\":{\"colorbar\":{\"outlinewidth\":0,\"ticks\":\"\"}},\"type\":\"scattercarpet\"}],\"scattergeo\":[{\"marker\":{\"colorbar\":{\"outlinewidth\":0,\"ticks\":\"\"}},\"type\":\"scattergeo\"}],\"scattergl\":[{\"marker\":{\"colorbar\":{\"outlinewidth\":0,\"ticks\":\"\"}},\"type\":\"scattergl\"}],\"scattermapbox\":[{\"marker\":{\"colorbar\":{\"outlinewidth\":0,\"ticks\":\"\"}},\"type\":\"scattermapbox\"}],\"scatterpolargl\":[{\"marker\":{\"colorbar\":{\"outlinewidth\":0,\"ticks\":\"\"}},\"type\":\"scatterpolargl\"}],\"scatterpolar\":[{\"marker\":{\"colorbar\":{\"outlinewidth\":0,\"ticks\":\"\"}},\"type\":\"scatterpolar\"}],\"scatter\":[{\"fillpattern\":{\"fillmode\":\"overlay\",\"size\":10,\"solidity\":0.2},\"type\":\"scatter\"}],\"scatterternary\":[{\"marker\":{\"colorbar\":{\"outlinewidth\":0,\"ticks\":\"\"}},\"type\":\"scatterternary\"}],\"surface\":[{\"colorbar\":{\"outlinewidth\":0,\"ticks\":\"\"},\"colorscale\":[[0.0,\"#0d0887\"],[0.1111111111111111,\"#46039f\"],[0.2222222222222222,\"#7201a8\"],[0.3333333333333333,\"#9c179e\"],[0.4444444444444444,\"#bd3786\"],[0.5555555555555556,\"#d8576b\"],[0.6666666666666666,\"#ed7953\"],[0.7777777777777778,\"#fb9f3a\"],[0.8888888888888888,\"#fdca26\"],[1.0,\"#f0f921\"]],\"type\":\"surface\"}],\"table\":[{\"cells\":{\"fill\":{\"color\":\"#EBF0F8\"},\"line\":{\"color\":\"white\"}},\"header\":{\"fill\":{\"color\":\"#C8D4E3\"},\"line\":{\"color\":\"white\"}},\"type\":\"table\"}]},\"layout\":{\"annotationdefaults\":{\"arrowcolor\":\"#2a3f5f\",\"arrowhead\":0,\"arrowwidth\":1},\"autotypenumbers\":\"strict\",\"coloraxis\":{\"colorbar\":{\"outlinewidth\":0,\"ticks\":\"\"}},\"colorscale\":{\"diverging\":[[0,\"#8e0152\"],[0.1,\"#c51b7d\"],[0.2,\"#de77ae\"],[0.3,\"#f1b6da\"],[0.4,\"#fde0ef\"],[0.5,\"#f7f7f7\"],[0.6,\"#e6f5d0\"],[0.7,\"#b8e186\"],[0.8,\"#7fbc41\"],[0.9,\"#4d9221\"],[1,\"#276419\"]],\"sequential\":[[0.0,\"#0d0887\"],[0.1111111111111111,\"#46039f\"],[0.2222222222222222,\"#7201a8\"],[0.3333333333333333,\"#9c179e\"],[0.4444444444444444,\"#bd3786\"],[0.5555555555555556,\"#d8576b\"],[0.6666666666666666,\"#ed7953\"],[0.7777777777777778,\"#fb9f3a\"],[0.8888888888888888,\"#fdca26\"],[1.0,\"#f0f921\"]],\"sequentialminus\":[[0.0,\"#0d0887\"],[0.1111111111111111,\"#46039f\"],[0.2222222222222222,\"#7201a8\"],[0.3333333333333333,\"#9c179e\"],[0.4444444444444444,\"#bd3786\"],[0.5555555555555556,\"#d8576b\"],[0.6666666666666666,\"#ed7953\"],[0.7777777777777778,\"#fb9f3a\"],[0.8888888888888888,\"#fdca26\"],[1.0,\"#f0f921\"]]},\"colorway\":[\"#636efa\",\"#EF553B\",\"#00cc96\",\"#ab63fa\",\"#FFA15A\",\"#19d3f3\",\"#FF6692\",\"#B6E880\",\"#FF97FF\",\"#FECB52\"],\"font\":{\"color\":\"#2a3f5f\"},\"geo\":{\"bgcolor\":\"white\",\"lakecolor\":\"white\",\"landcolor\":\"#E5ECF6\",\"showlakes\":true,\"showland\":true,\"subunitcolor\":\"white\"},\"hoverlabel\":{\"align\":\"left\"},\"hovermode\":\"closest\",\"mapbox\":{\"style\":\"light\"},\"paper_bgcolor\":\"white\",\"plot_bgcolor\":\"#E5ECF6\",\"polar\":{\"angularaxis\":{\"gridcolor\":\"white\",\"linecolor\":\"white\",\"ticks\":\"\"},\"bgcolor\":\"#E5ECF6\",\"radialaxis\":{\"gridcolor\":\"white\",\"linecolor\":\"white\",\"ticks\":\"\"}},\"scene\":{\"xaxis\":{\"backgroundcolor\":\"#E5ECF6\",\"gridcolor\":\"white\",\"gridwidth\":2,\"linecolor\":\"white\",\"showbackground\":true,\"ticks\":\"\",\"zerolinecolor\":\"white\"},\"yaxis\":{\"backgroundcolor\":\"#E5ECF6\",\"gridcolor\":\"white\",\"gridwidth\":2,\"linecolor\":\"white\",\"showbackground\":true,\"ticks\":\"\",\"zerolinecolor\":\"white\"},\"zaxis\":{\"backgroundcolor\":\"#E5ECF6\",\"gridcolor\":\"white\",\"gridwidth\":2,\"linecolor\":\"white\",\"showbackground\":true,\"ticks\":\"\",\"zerolinecolor\":\"white\"}},\"shapedefaults\":{\"line\":{\"color\":\"#2a3f5f\"}},\"ternary\":{\"aaxis\":{\"gridcolor\":\"white\",\"linecolor\":\"white\",\"ticks\":\"\"},\"baxis\":{\"gridcolor\":\"white\",\"linecolor\":\"white\",\"ticks\":\"\"},\"bgcolor\":\"#E5ECF6\",\"caxis\":{\"gridcolor\":\"white\",\"linecolor\":\"white\",\"ticks\":\"\"}},\"title\":{\"x\":0.05},\"xaxis\":{\"automargin\":true,\"gridcolor\":\"white\",\"linecolor\":\"white\",\"ticks\":\"\",\"title\":{\"standoff\":15},\"zerolinecolor\":\"white\",\"zerolinewidth\":2},\"yaxis\":{\"automargin\":true,\"gridcolor\":\"white\",\"linecolor\":\"white\",\"ticks\":\"\",\"title\":{\"standoff\":15},\"zerolinecolor\":\"white\",\"zerolinewidth\":2}}},\"title\":{\"font\":{\"color\":\"#4D5663\"}},\"xaxis\":{\"gridcolor\":\"#E1E5ED\",\"showgrid\":true,\"tickfont\":{\"color\":\"#4D5663\"},\"title\":{\"font\":{\"color\":\"#4D5663\"},\"text\":\"\"},\"zerolinecolor\":\"#E1E5ED\"},\"yaxis\":{\"gridcolor\":\"#E1E5ED\",\"showgrid\":true,\"tickfont\":{\"color\":\"#4D5663\"},\"title\":{\"font\":{\"color\":\"#4D5663\"},\"text\":\"\"},\"zerolinecolor\":\"#E1E5ED\"}},                        {\"showLink\": true, \"linkText\": \"Export to plot.ly\", \"plotlyServerURL\": \"https://plot.ly\", \"responsive\": true}                    ).then(function(){\n",
       "                            \n",
       "var gd = document.getElementById('e1328a30-0288-40c4-9657-859bd7682b99');\n",
       "var x = new MutationObserver(function (mutations, observer) {{\n",
       "        var display = window.getComputedStyle(gd).display;\n",
       "        if (!display || display === 'none') {{\n",
       "            console.log([gd, 'removed!']);\n",
       "            Plotly.purge(gd);\n",
       "            observer.disconnect();\n",
       "        }}\n",
       "}});\n",
       "\n",
       "// Listen for the removal of the full notebook cells\n",
       "var notebookContainer = gd.closest('#notebook-container');\n",
       "if (notebookContainer) {{\n",
       "    x.observe(notebookContainer, {childList: true});\n",
       "}}\n",
       "\n",
       "// Listen for the clearing of the current output cell\n",
       "var outputEl = gd.closest('.output');\n",
       "if (outputEl) {{\n",
       "    x.observe(outputEl, {childList: true});\n",
       "}}\n",
       "\n",
       "                        })                };                });            </script>        </div>"
      ]
     },
     "metadata": {},
     "output_type": "display_data"
    }
   ],
   "source": [
    "df2.iplot(kind='bar',x='Category',y='Values')"
   ]
  },
  {
   "cell_type": "code",
   "execution_count": 19,
   "id": "7f0ad458",
   "metadata": {},
   "outputs": [
    {
     "data": {
      "application/vnd.plotly.v1+json": {
       "config": {
        "linkText": "Export to plot.ly",
        "plotlyServerURL": "https://plot.ly",
        "showLink": true
       },
       "data": [
        {
         "marker": {
          "color": "rgba(255, 153, 51, 0.6)",
          "line": {
           "color": "rgba(255, 153, 51, 1.0)",
           "width": 1
          }
         },
         "name": "None",
         "orientation": "v",
         "text": "",
         "type": "bar",
         "x": [
          "A",
          "B",
          "C",
          "D"
         ],
         "y": [
          100,
          100,
          100,
          100
         ]
        }
       ],
       "layout": {
        "legend": {
         "bgcolor": "#F5F6F9",
         "font": {
          "color": "#4D5663"
         }
        },
        "paper_bgcolor": "#F5F6F9",
        "plot_bgcolor": "#F5F6F9",
        "template": {
         "data": {
          "bar": [
           {
            "error_x": {
             "color": "#2a3f5f"
            },
            "error_y": {
             "color": "#2a3f5f"
            },
            "marker": {
             "line": {
              "color": "#E5ECF6",
              "width": 0.5
             },
             "pattern": {
              "fillmode": "overlay",
              "size": 10,
              "solidity": 0.2
             }
            },
            "type": "bar"
           }
          ],
          "barpolar": [
           {
            "marker": {
             "line": {
              "color": "#E5ECF6",
              "width": 0.5
             },
             "pattern": {
              "fillmode": "overlay",
              "size": 10,
              "solidity": 0.2
             }
            },
            "type": "barpolar"
           }
          ],
          "carpet": [
           {
            "aaxis": {
             "endlinecolor": "#2a3f5f",
             "gridcolor": "white",
             "linecolor": "white",
             "minorgridcolor": "white",
             "startlinecolor": "#2a3f5f"
            },
            "baxis": {
             "endlinecolor": "#2a3f5f",
             "gridcolor": "white",
             "linecolor": "white",
             "minorgridcolor": "white",
             "startlinecolor": "#2a3f5f"
            },
            "type": "carpet"
           }
          ],
          "choropleth": [
           {
            "colorbar": {
             "outlinewidth": 0,
             "ticks": ""
            },
            "type": "choropleth"
           }
          ],
          "contour": [
           {
            "colorbar": {
             "outlinewidth": 0,
             "ticks": ""
            },
            "colorscale": [
             [
              0,
              "#0d0887"
             ],
             [
              0.1111111111111111,
              "#46039f"
             ],
             [
              0.2222222222222222,
              "#7201a8"
             ],
             [
              0.3333333333333333,
              "#9c179e"
             ],
             [
              0.4444444444444444,
              "#bd3786"
             ],
             [
              0.5555555555555556,
              "#d8576b"
             ],
             [
              0.6666666666666666,
              "#ed7953"
             ],
             [
              0.7777777777777778,
              "#fb9f3a"
             ],
             [
              0.8888888888888888,
              "#fdca26"
             ],
             [
              1,
              "#f0f921"
             ]
            ],
            "type": "contour"
           }
          ],
          "contourcarpet": [
           {
            "colorbar": {
             "outlinewidth": 0,
             "ticks": ""
            },
            "type": "contourcarpet"
           }
          ],
          "heatmap": [
           {
            "colorbar": {
             "outlinewidth": 0,
             "ticks": ""
            },
            "colorscale": [
             [
              0,
              "#0d0887"
             ],
             [
              0.1111111111111111,
              "#46039f"
             ],
             [
              0.2222222222222222,
              "#7201a8"
             ],
             [
              0.3333333333333333,
              "#9c179e"
             ],
             [
              0.4444444444444444,
              "#bd3786"
             ],
             [
              0.5555555555555556,
              "#d8576b"
             ],
             [
              0.6666666666666666,
              "#ed7953"
             ],
             [
              0.7777777777777778,
              "#fb9f3a"
             ],
             [
              0.8888888888888888,
              "#fdca26"
             ],
             [
              1,
              "#f0f921"
             ]
            ],
            "type": "heatmap"
           }
          ],
          "heatmapgl": [
           {
            "colorbar": {
             "outlinewidth": 0,
             "ticks": ""
            },
            "colorscale": [
             [
              0,
              "#0d0887"
             ],
             [
              0.1111111111111111,
              "#46039f"
             ],
             [
              0.2222222222222222,
              "#7201a8"
             ],
             [
              0.3333333333333333,
              "#9c179e"
             ],
             [
              0.4444444444444444,
              "#bd3786"
             ],
             [
              0.5555555555555556,
              "#d8576b"
             ],
             [
              0.6666666666666666,
              "#ed7953"
             ],
             [
              0.7777777777777778,
              "#fb9f3a"
             ],
             [
              0.8888888888888888,
              "#fdca26"
             ],
             [
              1,
              "#f0f921"
             ]
            ],
            "type": "heatmapgl"
           }
          ],
          "histogram": [
           {
            "marker": {
             "pattern": {
              "fillmode": "overlay",
              "size": 10,
              "solidity": 0.2
             }
            },
            "type": "histogram"
           }
          ],
          "histogram2d": [
           {
            "colorbar": {
             "outlinewidth": 0,
             "ticks": ""
            },
            "colorscale": [
             [
              0,
              "#0d0887"
             ],
             [
              0.1111111111111111,
              "#46039f"
             ],
             [
              0.2222222222222222,
              "#7201a8"
             ],
             [
              0.3333333333333333,
              "#9c179e"
             ],
             [
              0.4444444444444444,
              "#bd3786"
             ],
             [
              0.5555555555555556,
              "#d8576b"
             ],
             [
              0.6666666666666666,
              "#ed7953"
             ],
             [
              0.7777777777777778,
              "#fb9f3a"
             ],
             [
              0.8888888888888888,
              "#fdca26"
             ],
             [
              1,
              "#f0f921"
             ]
            ],
            "type": "histogram2d"
           }
          ],
          "histogram2dcontour": [
           {
            "colorbar": {
             "outlinewidth": 0,
             "ticks": ""
            },
            "colorscale": [
             [
              0,
              "#0d0887"
             ],
             [
              0.1111111111111111,
              "#46039f"
             ],
             [
              0.2222222222222222,
              "#7201a8"
             ],
             [
              0.3333333333333333,
              "#9c179e"
             ],
             [
              0.4444444444444444,
              "#bd3786"
             ],
             [
              0.5555555555555556,
              "#d8576b"
             ],
             [
              0.6666666666666666,
              "#ed7953"
             ],
             [
              0.7777777777777778,
              "#fb9f3a"
             ],
             [
              0.8888888888888888,
              "#fdca26"
             ],
             [
              1,
              "#f0f921"
             ]
            ],
            "type": "histogram2dcontour"
           }
          ],
          "mesh3d": [
           {
            "colorbar": {
             "outlinewidth": 0,
             "ticks": ""
            },
            "type": "mesh3d"
           }
          ],
          "parcoords": [
           {
            "line": {
             "colorbar": {
              "outlinewidth": 0,
              "ticks": ""
             }
            },
            "type": "parcoords"
           }
          ],
          "pie": [
           {
            "automargin": true,
            "type": "pie"
           }
          ],
          "scatter": [
           {
            "fillpattern": {
             "fillmode": "overlay",
             "size": 10,
             "solidity": 0.2
            },
            "type": "scatter"
           }
          ],
          "scatter3d": [
           {
            "line": {
             "colorbar": {
              "outlinewidth": 0,
              "ticks": ""
             }
            },
            "marker": {
             "colorbar": {
              "outlinewidth": 0,
              "ticks": ""
             }
            },
            "type": "scatter3d"
           }
          ],
          "scattercarpet": [
           {
            "marker": {
             "colorbar": {
              "outlinewidth": 0,
              "ticks": ""
             }
            },
            "type": "scattercarpet"
           }
          ],
          "scattergeo": [
           {
            "marker": {
             "colorbar": {
              "outlinewidth": 0,
              "ticks": ""
             }
            },
            "type": "scattergeo"
           }
          ],
          "scattergl": [
           {
            "marker": {
             "colorbar": {
              "outlinewidth": 0,
              "ticks": ""
             }
            },
            "type": "scattergl"
           }
          ],
          "scattermapbox": [
           {
            "marker": {
             "colorbar": {
              "outlinewidth": 0,
              "ticks": ""
             }
            },
            "type": "scattermapbox"
           }
          ],
          "scatterpolar": [
           {
            "marker": {
             "colorbar": {
              "outlinewidth": 0,
              "ticks": ""
             }
            },
            "type": "scatterpolar"
           }
          ],
          "scatterpolargl": [
           {
            "marker": {
             "colorbar": {
              "outlinewidth": 0,
              "ticks": ""
             }
            },
            "type": "scatterpolargl"
           }
          ],
          "scatterternary": [
           {
            "marker": {
             "colorbar": {
              "outlinewidth": 0,
              "ticks": ""
             }
            },
            "type": "scatterternary"
           }
          ],
          "surface": [
           {
            "colorbar": {
             "outlinewidth": 0,
             "ticks": ""
            },
            "colorscale": [
             [
              0,
              "#0d0887"
             ],
             [
              0.1111111111111111,
              "#46039f"
             ],
             [
              0.2222222222222222,
              "#7201a8"
             ],
             [
              0.3333333333333333,
              "#9c179e"
             ],
             [
              0.4444444444444444,
              "#bd3786"
             ],
             [
              0.5555555555555556,
              "#d8576b"
             ],
             [
              0.6666666666666666,
              "#ed7953"
             ],
             [
              0.7777777777777778,
              "#fb9f3a"
             ],
             [
              0.8888888888888888,
              "#fdca26"
             ],
             [
              1,
              "#f0f921"
             ]
            ],
            "type": "surface"
           }
          ],
          "table": [
           {
            "cells": {
             "fill": {
              "color": "#EBF0F8"
             },
             "line": {
              "color": "white"
             }
            },
            "header": {
             "fill": {
              "color": "#C8D4E3"
             },
             "line": {
              "color": "white"
             }
            },
            "type": "table"
           }
          ]
         },
         "layout": {
          "annotationdefaults": {
           "arrowcolor": "#2a3f5f",
           "arrowhead": 0,
           "arrowwidth": 1
          },
          "autotypenumbers": "strict",
          "coloraxis": {
           "colorbar": {
            "outlinewidth": 0,
            "ticks": ""
           }
          },
          "colorscale": {
           "diverging": [
            [
             0,
             "#8e0152"
            ],
            [
             0.1,
             "#c51b7d"
            ],
            [
             0.2,
             "#de77ae"
            ],
            [
             0.3,
             "#f1b6da"
            ],
            [
             0.4,
             "#fde0ef"
            ],
            [
             0.5,
             "#f7f7f7"
            ],
            [
             0.6,
             "#e6f5d0"
            ],
            [
             0.7,
             "#b8e186"
            ],
            [
             0.8,
             "#7fbc41"
            ],
            [
             0.9,
             "#4d9221"
            ],
            [
             1,
             "#276419"
            ]
           ],
           "sequential": [
            [
             0,
             "#0d0887"
            ],
            [
             0.1111111111111111,
             "#46039f"
            ],
            [
             0.2222222222222222,
             "#7201a8"
            ],
            [
             0.3333333333333333,
             "#9c179e"
            ],
            [
             0.4444444444444444,
             "#bd3786"
            ],
            [
             0.5555555555555556,
             "#d8576b"
            ],
            [
             0.6666666666666666,
             "#ed7953"
            ],
            [
             0.7777777777777778,
             "#fb9f3a"
            ],
            [
             0.8888888888888888,
             "#fdca26"
            ],
            [
             1,
             "#f0f921"
            ]
           ],
           "sequentialminus": [
            [
             0,
             "#0d0887"
            ],
            [
             0.1111111111111111,
             "#46039f"
            ],
            [
             0.2222222222222222,
             "#7201a8"
            ],
            [
             0.3333333333333333,
             "#9c179e"
            ],
            [
             0.4444444444444444,
             "#bd3786"
            ],
            [
             0.5555555555555556,
             "#d8576b"
            ],
            [
             0.6666666666666666,
             "#ed7953"
            ],
            [
             0.7777777777777778,
             "#fb9f3a"
            ],
            [
             0.8888888888888888,
             "#fdca26"
            ],
            [
             1,
             "#f0f921"
            ]
           ]
          },
          "colorway": [
           "#636efa",
           "#EF553B",
           "#00cc96",
           "#ab63fa",
           "#FFA15A",
           "#19d3f3",
           "#FF6692",
           "#B6E880",
           "#FF97FF",
           "#FECB52"
          ],
          "font": {
           "color": "#2a3f5f"
          },
          "geo": {
           "bgcolor": "white",
           "lakecolor": "white",
           "landcolor": "#E5ECF6",
           "showlakes": true,
           "showland": true,
           "subunitcolor": "white"
          },
          "hoverlabel": {
           "align": "left"
          },
          "hovermode": "closest",
          "mapbox": {
           "style": "light"
          },
          "paper_bgcolor": "white",
          "plot_bgcolor": "#E5ECF6",
          "polar": {
           "angularaxis": {
            "gridcolor": "white",
            "linecolor": "white",
            "ticks": ""
           },
           "bgcolor": "#E5ECF6",
           "radialaxis": {
            "gridcolor": "white",
            "linecolor": "white",
            "ticks": ""
           }
          },
          "scene": {
           "xaxis": {
            "backgroundcolor": "#E5ECF6",
            "gridcolor": "white",
            "gridwidth": 2,
            "linecolor": "white",
            "showbackground": true,
            "ticks": "",
            "zerolinecolor": "white"
           },
           "yaxis": {
            "backgroundcolor": "#E5ECF6",
            "gridcolor": "white",
            "gridwidth": 2,
            "linecolor": "white",
            "showbackground": true,
            "ticks": "",
            "zerolinecolor": "white"
           },
           "zaxis": {
            "backgroundcolor": "#E5ECF6",
            "gridcolor": "white",
            "gridwidth": 2,
            "linecolor": "white",
            "showbackground": true,
            "ticks": "",
            "zerolinecolor": "white"
           }
          },
          "shapedefaults": {
           "line": {
            "color": "#2a3f5f"
           }
          },
          "ternary": {
           "aaxis": {
            "gridcolor": "white",
            "linecolor": "white",
            "ticks": ""
           },
           "baxis": {
            "gridcolor": "white",
            "linecolor": "white",
            "ticks": ""
           },
           "bgcolor": "#E5ECF6",
           "caxis": {
            "gridcolor": "white",
            "linecolor": "white",
            "ticks": ""
           }
          },
          "title": {
           "x": 0.05
          },
          "xaxis": {
           "automargin": true,
           "gridcolor": "white",
           "linecolor": "white",
           "ticks": "",
           "title": {
            "standoff": 15
           },
           "zerolinecolor": "white",
           "zerolinewidth": 2
          },
          "yaxis": {
           "automargin": true,
           "gridcolor": "white",
           "linecolor": "white",
           "ticks": "",
           "title": {
            "standoff": 15
           },
           "zerolinecolor": "white",
           "zerolinewidth": 2
          }
         }
        },
        "title": {
         "font": {
          "color": "#4D5663"
         }
        },
        "xaxis": {
         "gridcolor": "#E1E5ED",
         "showgrid": true,
         "tickfont": {
          "color": "#4D5663"
         },
         "title": {
          "font": {
           "color": "#4D5663"
          },
          "text": ""
         },
         "zerolinecolor": "#E1E5ED"
        },
        "yaxis": {
         "gridcolor": "#E1E5ED",
         "showgrid": true,
         "tickfont": {
          "color": "#4D5663"
         },
         "title": {
          "font": {
           "color": "#4D5663"
          },
          "text": ""
         },
         "zerolinecolor": "#E1E5ED"
        }
       }
      },
      "text/html": [
       "<div>                            <div id=\"33bd8c01-57be-4385-b1ad-8941954f8bf2\" class=\"plotly-graph-div\" style=\"height:525px; width:100%;\"></div>            <script type=\"text/javascript\">                require([\"plotly\"], function(Plotly) {                    window.PLOTLYENV=window.PLOTLYENV || {};\n",
       "                    window.PLOTLYENV.BASE_URL='https://plot.ly';                                    if (document.getElementById(\"33bd8c01-57be-4385-b1ad-8941954f8bf2\")) {                    Plotly.newPlot(                        \"33bd8c01-57be-4385-b1ad-8941954f8bf2\",                        [{\"marker\":{\"color\":\"rgba(255, 153, 51, 0.6)\",\"line\":{\"color\":\"rgba(255, 153, 51, 1.0)\",\"width\":1}},\"name\":\"None\",\"orientation\":\"v\",\"text\":\"\",\"x\":[\"A\",\"B\",\"C\",\"D\"],\"y\":[100,100,100,100],\"type\":\"bar\"}],                        {\"legend\":{\"bgcolor\":\"#F5F6F9\",\"font\":{\"color\":\"#4D5663\"}},\"paper_bgcolor\":\"#F5F6F9\",\"plot_bgcolor\":\"#F5F6F9\",\"template\":{\"data\":{\"barpolar\":[{\"marker\":{\"line\":{\"color\":\"#E5ECF6\",\"width\":0.5},\"pattern\":{\"fillmode\":\"overlay\",\"size\":10,\"solidity\":0.2}},\"type\":\"barpolar\"}],\"bar\":[{\"error_x\":{\"color\":\"#2a3f5f\"},\"error_y\":{\"color\":\"#2a3f5f\"},\"marker\":{\"line\":{\"color\":\"#E5ECF6\",\"width\":0.5},\"pattern\":{\"fillmode\":\"overlay\",\"size\":10,\"solidity\":0.2}},\"type\":\"bar\"}],\"carpet\":[{\"aaxis\":{\"endlinecolor\":\"#2a3f5f\",\"gridcolor\":\"white\",\"linecolor\":\"white\",\"minorgridcolor\":\"white\",\"startlinecolor\":\"#2a3f5f\"},\"baxis\":{\"endlinecolor\":\"#2a3f5f\",\"gridcolor\":\"white\",\"linecolor\":\"white\",\"minorgridcolor\":\"white\",\"startlinecolor\":\"#2a3f5f\"},\"type\":\"carpet\"}],\"choropleth\":[{\"colorbar\":{\"outlinewidth\":0,\"ticks\":\"\"},\"type\":\"choropleth\"}],\"contourcarpet\":[{\"colorbar\":{\"outlinewidth\":0,\"ticks\":\"\"},\"type\":\"contourcarpet\"}],\"contour\":[{\"colorbar\":{\"outlinewidth\":0,\"ticks\":\"\"},\"colorscale\":[[0.0,\"#0d0887\"],[0.1111111111111111,\"#46039f\"],[0.2222222222222222,\"#7201a8\"],[0.3333333333333333,\"#9c179e\"],[0.4444444444444444,\"#bd3786\"],[0.5555555555555556,\"#d8576b\"],[0.6666666666666666,\"#ed7953\"],[0.7777777777777778,\"#fb9f3a\"],[0.8888888888888888,\"#fdca26\"],[1.0,\"#f0f921\"]],\"type\":\"contour\"}],\"heatmapgl\":[{\"colorbar\":{\"outlinewidth\":0,\"ticks\":\"\"},\"colorscale\":[[0.0,\"#0d0887\"],[0.1111111111111111,\"#46039f\"],[0.2222222222222222,\"#7201a8\"],[0.3333333333333333,\"#9c179e\"],[0.4444444444444444,\"#bd3786\"],[0.5555555555555556,\"#d8576b\"],[0.6666666666666666,\"#ed7953\"],[0.7777777777777778,\"#fb9f3a\"],[0.8888888888888888,\"#fdca26\"],[1.0,\"#f0f921\"]],\"type\":\"heatmapgl\"}],\"heatmap\":[{\"colorbar\":{\"outlinewidth\":0,\"ticks\":\"\"},\"colorscale\":[[0.0,\"#0d0887\"],[0.1111111111111111,\"#46039f\"],[0.2222222222222222,\"#7201a8\"],[0.3333333333333333,\"#9c179e\"],[0.4444444444444444,\"#bd3786\"],[0.5555555555555556,\"#d8576b\"],[0.6666666666666666,\"#ed7953\"],[0.7777777777777778,\"#fb9f3a\"],[0.8888888888888888,\"#fdca26\"],[1.0,\"#f0f921\"]],\"type\":\"heatmap\"}],\"histogram2dcontour\":[{\"colorbar\":{\"outlinewidth\":0,\"ticks\":\"\"},\"colorscale\":[[0.0,\"#0d0887\"],[0.1111111111111111,\"#46039f\"],[0.2222222222222222,\"#7201a8\"],[0.3333333333333333,\"#9c179e\"],[0.4444444444444444,\"#bd3786\"],[0.5555555555555556,\"#d8576b\"],[0.6666666666666666,\"#ed7953\"],[0.7777777777777778,\"#fb9f3a\"],[0.8888888888888888,\"#fdca26\"],[1.0,\"#f0f921\"]],\"type\":\"histogram2dcontour\"}],\"histogram2d\":[{\"colorbar\":{\"outlinewidth\":0,\"ticks\":\"\"},\"colorscale\":[[0.0,\"#0d0887\"],[0.1111111111111111,\"#46039f\"],[0.2222222222222222,\"#7201a8\"],[0.3333333333333333,\"#9c179e\"],[0.4444444444444444,\"#bd3786\"],[0.5555555555555556,\"#d8576b\"],[0.6666666666666666,\"#ed7953\"],[0.7777777777777778,\"#fb9f3a\"],[0.8888888888888888,\"#fdca26\"],[1.0,\"#f0f921\"]],\"type\":\"histogram2d\"}],\"histogram\":[{\"marker\":{\"pattern\":{\"fillmode\":\"overlay\",\"size\":10,\"solidity\":0.2}},\"type\":\"histogram\"}],\"mesh3d\":[{\"colorbar\":{\"outlinewidth\":0,\"ticks\":\"\"},\"type\":\"mesh3d\"}],\"parcoords\":[{\"line\":{\"colorbar\":{\"outlinewidth\":0,\"ticks\":\"\"}},\"type\":\"parcoords\"}],\"pie\":[{\"automargin\":true,\"type\":\"pie\"}],\"scatter3d\":[{\"line\":{\"colorbar\":{\"outlinewidth\":0,\"ticks\":\"\"}},\"marker\":{\"colorbar\":{\"outlinewidth\":0,\"ticks\":\"\"}},\"type\":\"scatter3d\"}],\"scattercarpet\":[{\"marker\":{\"colorbar\":{\"outlinewidth\":0,\"ticks\":\"\"}},\"type\":\"scattercarpet\"}],\"scattergeo\":[{\"marker\":{\"colorbar\":{\"outlinewidth\":0,\"ticks\":\"\"}},\"type\":\"scattergeo\"}],\"scattergl\":[{\"marker\":{\"colorbar\":{\"outlinewidth\":0,\"ticks\":\"\"}},\"type\":\"scattergl\"}],\"scattermapbox\":[{\"marker\":{\"colorbar\":{\"outlinewidth\":0,\"ticks\":\"\"}},\"type\":\"scattermapbox\"}],\"scatterpolargl\":[{\"marker\":{\"colorbar\":{\"outlinewidth\":0,\"ticks\":\"\"}},\"type\":\"scatterpolargl\"}],\"scatterpolar\":[{\"marker\":{\"colorbar\":{\"outlinewidth\":0,\"ticks\":\"\"}},\"type\":\"scatterpolar\"}],\"scatter\":[{\"fillpattern\":{\"fillmode\":\"overlay\",\"size\":10,\"solidity\":0.2},\"type\":\"scatter\"}],\"scatterternary\":[{\"marker\":{\"colorbar\":{\"outlinewidth\":0,\"ticks\":\"\"}},\"type\":\"scatterternary\"}],\"surface\":[{\"colorbar\":{\"outlinewidth\":0,\"ticks\":\"\"},\"colorscale\":[[0.0,\"#0d0887\"],[0.1111111111111111,\"#46039f\"],[0.2222222222222222,\"#7201a8\"],[0.3333333333333333,\"#9c179e\"],[0.4444444444444444,\"#bd3786\"],[0.5555555555555556,\"#d8576b\"],[0.6666666666666666,\"#ed7953\"],[0.7777777777777778,\"#fb9f3a\"],[0.8888888888888888,\"#fdca26\"],[1.0,\"#f0f921\"]],\"type\":\"surface\"}],\"table\":[{\"cells\":{\"fill\":{\"color\":\"#EBF0F8\"},\"line\":{\"color\":\"white\"}},\"header\":{\"fill\":{\"color\":\"#C8D4E3\"},\"line\":{\"color\":\"white\"}},\"type\":\"table\"}]},\"layout\":{\"annotationdefaults\":{\"arrowcolor\":\"#2a3f5f\",\"arrowhead\":0,\"arrowwidth\":1},\"autotypenumbers\":\"strict\",\"coloraxis\":{\"colorbar\":{\"outlinewidth\":0,\"ticks\":\"\"}},\"colorscale\":{\"diverging\":[[0,\"#8e0152\"],[0.1,\"#c51b7d\"],[0.2,\"#de77ae\"],[0.3,\"#f1b6da\"],[0.4,\"#fde0ef\"],[0.5,\"#f7f7f7\"],[0.6,\"#e6f5d0\"],[0.7,\"#b8e186\"],[0.8,\"#7fbc41\"],[0.9,\"#4d9221\"],[1,\"#276419\"]],\"sequential\":[[0.0,\"#0d0887\"],[0.1111111111111111,\"#46039f\"],[0.2222222222222222,\"#7201a8\"],[0.3333333333333333,\"#9c179e\"],[0.4444444444444444,\"#bd3786\"],[0.5555555555555556,\"#d8576b\"],[0.6666666666666666,\"#ed7953\"],[0.7777777777777778,\"#fb9f3a\"],[0.8888888888888888,\"#fdca26\"],[1.0,\"#f0f921\"]],\"sequentialminus\":[[0.0,\"#0d0887\"],[0.1111111111111111,\"#46039f\"],[0.2222222222222222,\"#7201a8\"],[0.3333333333333333,\"#9c179e\"],[0.4444444444444444,\"#bd3786\"],[0.5555555555555556,\"#d8576b\"],[0.6666666666666666,\"#ed7953\"],[0.7777777777777778,\"#fb9f3a\"],[0.8888888888888888,\"#fdca26\"],[1.0,\"#f0f921\"]]},\"colorway\":[\"#636efa\",\"#EF553B\",\"#00cc96\",\"#ab63fa\",\"#FFA15A\",\"#19d3f3\",\"#FF6692\",\"#B6E880\",\"#FF97FF\",\"#FECB52\"],\"font\":{\"color\":\"#2a3f5f\"},\"geo\":{\"bgcolor\":\"white\",\"lakecolor\":\"white\",\"landcolor\":\"#E5ECF6\",\"showlakes\":true,\"showland\":true,\"subunitcolor\":\"white\"},\"hoverlabel\":{\"align\":\"left\"},\"hovermode\":\"closest\",\"mapbox\":{\"style\":\"light\"},\"paper_bgcolor\":\"white\",\"plot_bgcolor\":\"#E5ECF6\",\"polar\":{\"angularaxis\":{\"gridcolor\":\"white\",\"linecolor\":\"white\",\"ticks\":\"\"},\"bgcolor\":\"#E5ECF6\",\"radialaxis\":{\"gridcolor\":\"white\",\"linecolor\":\"white\",\"ticks\":\"\"}},\"scene\":{\"xaxis\":{\"backgroundcolor\":\"#E5ECF6\",\"gridcolor\":\"white\",\"gridwidth\":2,\"linecolor\":\"white\",\"showbackground\":true,\"ticks\":\"\",\"zerolinecolor\":\"white\"},\"yaxis\":{\"backgroundcolor\":\"#E5ECF6\",\"gridcolor\":\"white\",\"gridwidth\":2,\"linecolor\":\"white\",\"showbackground\":true,\"ticks\":\"\",\"zerolinecolor\":\"white\"},\"zaxis\":{\"backgroundcolor\":\"#E5ECF6\",\"gridcolor\":\"white\",\"gridwidth\":2,\"linecolor\":\"white\",\"showbackground\":true,\"ticks\":\"\",\"zerolinecolor\":\"white\"}},\"shapedefaults\":{\"line\":{\"color\":\"#2a3f5f\"}},\"ternary\":{\"aaxis\":{\"gridcolor\":\"white\",\"linecolor\":\"white\",\"ticks\":\"\"},\"baxis\":{\"gridcolor\":\"white\",\"linecolor\":\"white\",\"ticks\":\"\"},\"bgcolor\":\"#E5ECF6\",\"caxis\":{\"gridcolor\":\"white\",\"linecolor\":\"white\",\"ticks\":\"\"}},\"title\":{\"x\":0.05},\"xaxis\":{\"automargin\":true,\"gridcolor\":\"white\",\"linecolor\":\"white\",\"ticks\":\"\",\"title\":{\"standoff\":15},\"zerolinecolor\":\"white\",\"zerolinewidth\":2},\"yaxis\":{\"automargin\":true,\"gridcolor\":\"white\",\"linecolor\":\"white\",\"ticks\":\"\",\"title\":{\"standoff\":15},\"zerolinecolor\":\"white\",\"zerolinewidth\":2}}},\"title\":{\"font\":{\"color\":\"#4D5663\"}},\"xaxis\":{\"gridcolor\":\"#E1E5ED\",\"showgrid\":true,\"tickfont\":{\"color\":\"#4D5663\"},\"title\":{\"font\":{\"color\":\"#4D5663\"},\"text\":\"\"},\"zerolinecolor\":\"#E1E5ED\"},\"yaxis\":{\"gridcolor\":\"#E1E5ED\",\"showgrid\":true,\"tickfont\":{\"color\":\"#4D5663\"},\"title\":{\"font\":{\"color\":\"#4D5663\"},\"text\":\"\"},\"zerolinecolor\":\"#E1E5ED\"}},                        {\"showLink\": true, \"linkText\": \"Export to plot.ly\", \"plotlyServerURL\": \"https://plot.ly\", \"responsive\": true}                    ).then(function(){\n",
       "                            \n",
       "var gd = document.getElementById('33bd8c01-57be-4385-b1ad-8941954f8bf2');\n",
       "var x = new MutationObserver(function (mutations, observer) {{\n",
       "        var display = window.getComputedStyle(gd).display;\n",
       "        if (!display || display === 'none') {{\n",
       "            console.log([gd, 'removed!']);\n",
       "            Plotly.purge(gd);\n",
       "            observer.disconnect();\n",
       "        }}\n",
       "}});\n",
       "\n",
       "// Listen for the removal of the full notebook cells\n",
       "var notebookContainer = gd.closest('#notebook-container');\n",
       "if (notebookContainer) {{\n",
       "    x.observe(notebookContainer, {childList: true});\n",
       "}}\n",
       "\n",
       "// Listen for the clearing of the current output cell\n",
       "var outputEl = gd.closest('.output');\n",
       "if (outputEl) {{\n",
       "    x.observe(outputEl, {childList: true});\n",
       "}}\n",
       "\n",
       "                        })                };                });            </script>        </div>"
      ]
     },
     "metadata": {},
     "output_type": "display_data"
    }
   ],
   "source": [
    "df.count().iplot(kind='bar')"
   ]
  },
  {
   "cell_type": "code",
   "execution_count": 20,
   "id": "92a20ba3",
   "metadata": {},
   "outputs": [
    {
     "data": {
      "application/vnd.plotly.v1+json": {
       "config": {
        "linkText": "Export to plot.ly",
        "plotlyServerURL": "https://plot.ly",
        "showLink": true
       },
       "data": [
        {
         "marker": {
          "color": "rgba(255, 153, 51, 0.6)",
          "line": {
           "color": "rgba(255, 153, 51, 1.0)",
           "width": 1
          }
         },
         "name": "None",
         "orientation": "v",
         "text": "",
         "type": "bar",
         "x": [
          "A",
          "B",
          "C",
          "D"
         ],
         "y": [
          -13.27881408123237,
          -10.248780569630595,
          -9.946995963910497,
          11.32426931914407
         ]
        }
       ],
       "layout": {
        "legend": {
         "bgcolor": "#F5F6F9",
         "font": {
          "color": "#4D5663"
         }
        },
        "paper_bgcolor": "#F5F6F9",
        "plot_bgcolor": "#F5F6F9",
        "template": {
         "data": {
          "bar": [
           {
            "error_x": {
             "color": "#2a3f5f"
            },
            "error_y": {
             "color": "#2a3f5f"
            },
            "marker": {
             "line": {
              "color": "#E5ECF6",
              "width": 0.5
             },
             "pattern": {
              "fillmode": "overlay",
              "size": 10,
              "solidity": 0.2
             }
            },
            "type": "bar"
           }
          ],
          "barpolar": [
           {
            "marker": {
             "line": {
              "color": "#E5ECF6",
              "width": 0.5
             },
             "pattern": {
              "fillmode": "overlay",
              "size": 10,
              "solidity": 0.2
             }
            },
            "type": "barpolar"
           }
          ],
          "carpet": [
           {
            "aaxis": {
             "endlinecolor": "#2a3f5f",
             "gridcolor": "white",
             "linecolor": "white",
             "minorgridcolor": "white",
             "startlinecolor": "#2a3f5f"
            },
            "baxis": {
             "endlinecolor": "#2a3f5f",
             "gridcolor": "white",
             "linecolor": "white",
             "minorgridcolor": "white",
             "startlinecolor": "#2a3f5f"
            },
            "type": "carpet"
           }
          ],
          "choropleth": [
           {
            "colorbar": {
             "outlinewidth": 0,
             "ticks": ""
            },
            "type": "choropleth"
           }
          ],
          "contour": [
           {
            "colorbar": {
             "outlinewidth": 0,
             "ticks": ""
            },
            "colorscale": [
             [
              0,
              "#0d0887"
             ],
             [
              0.1111111111111111,
              "#46039f"
             ],
             [
              0.2222222222222222,
              "#7201a8"
             ],
             [
              0.3333333333333333,
              "#9c179e"
             ],
             [
              0.4444444444444444,
              "#bd3786"
             ],
             [
              0.5555555555555556,
              "#d8576b"
             ],
             [
              0.6666666666666666,
              "#ed7953"
             ],
             [
              0.7777777777777778,
              "#fb9f3a"
             ],
             [
              0.8888888888888888,
              "#fdca26"
             ],
             [
              1,
              "#f0f921"
             ]
            ],
            "type": "contour"
           }
          ],
          "contourcarpet": [
           {
            "colorbar": {
             "outlinewidth": 0,
             "ticks": ""
            },
            "type": "contourcarpet"
           }
          ],
          "heatmap": [
           {
            "colorbar": {
             "outlinewidth": 0,
             "ticks": ""
            },
            "colorscale": [
             [
              0,
              "#0d0887"
             ],
             [
              0.1111111111111111,
              "#46039f"
             ],
             [
              0.2222222222222222,
              "#7201a8"
             ],
             [
              0.3333333333333333,
              "#9c179e"
             ],
             [
              0.4444444444444444,
              "#bd3786"
             ],
             [
              0.5555555555555556,
              "#d8576b"
             ],
             [
              0.6666666666666666,
              "#ed7953"
             ],
             [
              0.7777777777777778,
              "#fb9f3a"
             ],
             [
              0.8888888888888888,
              "#fdca26"
             ],
             [
              1,
              "#f0f921"
             ]
            ],
            "type": "heatmap"
           }
          ],
          "heatmapgl": [
           {
            "colorbar": {
             "outlinewidth": 0,
             "ticks": ""
            },
            "colorscale": [
             [
              0,
              "#0d0887"
             ],
             [
              0.1111111111111111,
              "#46039f"
             ],
             [
              0.2222222222222222,
              "#7201a8"
             ],
             [
              0.3333333333333333,
              "#9c179e"
             ],
             [
              0.4444444444444444,
              "#bd3786"
             ],
             [
              0.5555555555555556,
              "#d8576b"
             ],
             [
              0.6666666666666666,
              "#ed7953"
             ],
             [
              0.7777777777777778,
              "#fb9f3a"
             ],
             [
              0.8888888888888888,
              "#fdca26"
             ],
             [
              1,
              "#f0f921"
             ]
            ],
            "type": "heatmapgl"
           }
          ],
          "histogram": [
           {
            "marker": {
             "pattern": {
              "fillmode": "overlay",
              "size": 10,
              "solidity": 0.2
             }
            },
            "type": "histogram"
           }
          ],
          "histogram2d": [
           {
            "colorbar": {
             "outlinewidth": 0,
             "ticks": ""
            },
            "colorscale": [
             [
              0,
              "#0d0887"
             ],
             [
              0.1111111111111111,
              "#46039f"
             ],
             [
              0.2222222222222222,
              "#7201a8"
             ],
             [
              0.3333333333333333,
              "#9c179e"
             ],
             [
              0.4444444444444444,
              "#bd3786"
             ],
             [
              0.5555555555555556,
              "#d8576b"
             ],
             [
              0.6666666666666666,
              "#ed7953"
             ],
             [
              0.7777777777777778,
              "#fb9f3a"
             ],
             [
              0.8888888888888888,
              "#fdca26"
             ],
             [
              1,
              "#f0f921"
             ]
            ],
            "type": "histogram2d"
           }
          ],
          "histogram2dcontour": [
           {
            "colorbar": {
             "outlinewidth": 0,
             "ticks": ""
            },
            "colorscale": [
             [
              0,
              "#0d0887"
             ],
             [
              0.1111111111111111,
              "#46039f"
             ],
             [
              0.2222222222222222,
              "#7201a8"
             ],
             [
              0.3333333333333333,
              "#9c179e"
             ],
             [
              0.4444444444444444,
              "#bd3786"
             ],
             [
              0.5555555555555556,
              "#d8576b"
             ],
             [
              0.6666666666666666,
              "#ed7953"
             ],
             [
              0.7777777777777778,
              "#fb9f3a"
             ],
             [
              0.8888888888888888,
              "#fdca26"
             ],
             [
              1,
              "#f0f921"
             ]
            ],
            "type": "histogram2dcontour"
           }
          ],
          "mesh3d": [
           {
            "colorbar": {
             "outlinewidth": 0,
             "ticks": ""
            },
            "type": "mesh3d"
           }
          ],
          "parcoords": [
           {
            "line": {
             "colorbar": {
              "outlinewidth": 0,
              "ticks": ""
             }
            },
            "type": "parcoords"
           }
          ],
          "pie": [
           {
            "automargin": true,
            "type": "pie"
           }
          ],
          "scatter": [
           {
            "fillpattern": {
             "fillmode": "overlay",
             "size": 10,
             "solidity": 0.2
            },
            "type": "scatter"
           }
          ],
          "scatter3d": [
           {
            "line": {
             "colorbar": {
              "outlinewidth": 0,
              "ticks": ""
             }
            },
            "marker": {
             "colorbar": {
              "outlinewidth": 0,
              "ticks": ""
             }
            },
            "type": "scatter3d"
           }
          ],
          "scattercarpet": [
           {
            "marker": {
             "colorbar": {
              "outlinewidth": 0,
              "ticks": ""
             }
            },
            "type": "scattercarpet"
           }
          ],
          "scattergeo": [
           {
            "marker": {
             "colorbar": {
              "outlinewidth": 0,
              "ticks": ""
             }
            },
            "type": "scattergeo"
           }
          ],
          "scattergl": [
           {
            "marker": {
             "colorbar": {
              "outlinewidth": 0,
              "ticks": ""
             }
            },
            "type": "scattergl"
           }
          ],
          "scattermapbox": [
           {
            "marker": {
             "colorbar": {
              "outlinewidth": 0,
              "ticks": ""
             }
            },
            "type": "scattermapbox"
           }
          ],
          "scatterpolar": [
           {
            "marker": {
             "colorbar": {
              "outlinewidth": 0,
              "ticks": ""
             }
            },
            "type": "scatterpolar"
           }
          ],
          "scatterpolargl": [
           {
            "marker": {
             "colorbar": {
              "outlinewidth": 0,
              "ticks": ""
             }
            },
            "type": "scatterpolargl"
           }
          ],
          "scatterternary": [
           {
            "marker": {
             "colorbar": {
              "outlinewidth": 0,
              "ticks": ""
             }
            },
            "type": "scatterternary"
           }
          ],
          "surface": [
           {
            "colorbar": {
             "outlinewidth": 0,
             "ticks": ""
            },
            "colorscale": [
             [
              0,
              "#0d0887"
             ],
             [
              0.1111111111111111,
              "#46039f"
             ],
             [
              0.2222222222222222,
              "#7201a8"
             ],
             [
              0.3333333333333333,
              "#9c179e"
             ],
             [
              0.4444444444444444,
              "#bd3786"
             ],
             [
              0.5555555555555556,
              "#d8576b"
             ],
             [
              0.6666666666666666,
              "#ed7953"
             ],
             [
              0.7777777777777778,
              "#fb9f3a"
             ],
             [
              0.8888888888888888,
              "#fdca26"
             ],
             [
              1,
              "#f0f921"
             ]
            ],
            "type": "surface"
           }
          ],
          "table": [
           {
            "cells": {
             "fill": {
              "color": "#EBF0F8"
             },
             "line": {
              "color": "white"
             }
            },
            "header": {
             "fill": {
              "color": "#C8D4E3"
             },
             "line": {
              "color": "white"
             }
            },
            "type": "table"
           }
          ]
         },
         "layout": {
          "annotationdefaults": {
           "arrowcolor": "#2a3f5f",
           "arrowhead": 0,
           "arrowwidth": 1
          },
          "autotypenumbers": "strict",
          "coloraxis": {
           "colorbar": {
            "outlinewidth": 0,
            "ticks": ""
           }
          },
          "colorscale": {
           "diverging": [
            [
             0,
             "#8e0152"
            ],
            [
             0.1,
             "#c51b7d"
            ],
            [
             0.2,
             "#de77ae"
            ],
            [
             0.3,
             "#f1b6da"
            ],
            [
             0.4,
             "#fde0ef"
            ],
            [
             0.5,
             "#f7f7f7"
            ],
            [
             0.6,
             "#e6f5d0"
            ],
            [
             0.7,
             "#b8e186"
            ],
            [
             0.8,
             "#7fbc41"
            ],
            [
             0.9,
             "#4d9221"
            ],
            [
             1,
             "#276419"
            ]
           ],
           "sequential": [
            [
             0,
             "#0d0887"
            ],
            [
             0.1111111111111111,
             "#46039f"
            ],
            [
             0.2222222222222222,
             "#7201a8"
            ],
            [
             0.3333333333333333,
             "#9c179e"
            ],
            [
             0.4444444444444444,
             "#bd3786"
            ],
            [
             0.5555555555555556,
             "#d8576b"
            ],
            [
             0.6666666666666666,
             "#ed7953"
            ],
            [
             0.7777777777777778,
             "#fb9f3a"
            ],
            [
             0.8888888888888888,
             "#fdca26"
            ],
            [
             1,
             "#f0f921"
            ]
           ],
           "sequentialminus": [
            [
             0,
             "#0d0887"
            ],
            [
             0.1111111111111111,
             "#46039f"
            ],
            [
             0.2222222222222222,
             "#7201a8"
            ],
            [
             0.3333333333333333,
             "#9c179e"
            ],
            [
             0.4444444444444444,
             "#bd3786"
            ],
            [
             0.5555555555555556,
             "#d8576b"
            ],
            [
             0.6666666666666666,
             "#ed7953"
            ],
            [
             0.7777777777777778,
             "#fb9f3a"
            ],
            [
             0.8888888888888888,
             "#fdca26"
            ],
            [
             1,
             "#f0f921"
            ]
           ]
          },
          "colorway": [
           "#636efa",
           "#EF553B",
           "#00cc96",
           "#ab63fa",
           "#FFA15A",
           "#19d3f3",
           "#FF6692",
           "#B6E880",
           "#FF97FF",
           "#FECB52"
          ],
          "font": {
           "color": "#2a3f5f"
          },
          "geo": {
           "bgcolor": "white",
           "lakecolor": "white",
           "landcolor": "#E5ECF6",
           "showlakes": true,
           "showland": true,
           "subunitcolor": "white"
          },
          "hoverlabel": {
           "align": "left"
          },
          "hovermode": "closest",
          "mapbox": {
           "style": "light"
          },
          "paper_bgcolor": "white",
          "plot_bgcolor": "#E5ECF6",
          "polar": {
           "angularaxis": {
            "gridcolor": "white",
            "linecolor": "white",
            "ticks": ""
           },
           "bgcolor": "#E5ECF6",
           "radialaxis": {
            "gridcolor": "white",
            "linecolor": "white",
            "ticks": ""
           }
          },
          "scene": {
           "xaxis": {
            "backgroundcolor": "#E5ECF6",
            "gridcolor": "white",
            "gridwidth": 2,
            "linecolor": "white",
            "showbackground": true,
            "ticks": "",
            "zerolinecolor": "white"
           },
           "yaxis": {
            "backgroundcolor": "#E5ECF6",
            "gridcolor": "white",
            "gridwidth": 2,
            "linecolor": "white",
            "showbackground": true,
            "ticks": "",
            "zerolinecolor": "white"
           },
           "zaxis": {
            "backgroundcolor": "#E5ECF6",
            "gridcolor": "white",
            "gridwidth": 2,
            "linecolor": "white",
            "showbackground": true,
            "ticks": "",
            "zerolinecolor": "white"
           }
          },
          "shapedefaults": {
           "line": {
            "color": "#2a3f5f"
           }
          },
          "ternary": {
           "aaxis": {
            "gridcolor": "white",
            "linecolor": "white",
            "ticks": ""
           },
           "baxis": {
            "gridcolor": "white",
            "linecolor": "white",
            "ticks": ""
           },
           "bgcolor": "#E5ECF6",
           "caxis": {
            "gridcolor": "white",
            "linecolor": "white",
            "ticks": ""
           }
          },
          "title": {
           "x": 0.05
          },
          "xaxis": {
           "automargin": true,
           "gridcolor": "white",
           "linecolor": "white",
           "ticks": "",
           "title": {
            "standoff": 15
           },
           "zerolinecolor": "white",
           "zerolinewidth": 2
          },
          "yaxis": {
           "automargin": true,
           "gridcolor": "white",
           "linecolor": "white",
           "ticks": "",
           "title": {
            "standoff": 15
           },
           "zerolinecolor": "white",
           "zerolinewidth": 2
          }
         }
        },
        "title": {
         "font": {
          "color": "#4D5663"
         }
        },
        "xaxis": {
         "gridcolor": "#E1E5ED",
         "showgrid": true,
         "tickfont": {
          "color": "#4D5663"
         },
         "title": {
          "font": {
           "color": "#4D5663"
          },
          "text": ""
         },
         "zerolinecolor": "#E1E5ED"
        },
        "yaxis": {
         "gridcolor": "#E1E5ED",
         "showgrid": true,
         "tickfont": {
          "color": "#4D5663"
         },
         "title": {
          "font": {
           "color": "#4D5663"
          },
          "text": ""
         },
         "zerolinecolor": "#E1E5ED"
        }
       }
      },
      "text/html": [
       "<div>                            <div id=\"0aa41287-3dfe-4d71-b76e-7fa7918f872a\" class=\"plotly-graph-div\" style=\"height:525px; width:100%;\"></div>            <script type=\"text/javascript\">                require([\"plotly\"], function(Plotly) {                    window.PLOTLYENV=window.PLOTLYENV || {};\n",
       "                    window.PLOTLYENV.BASE_URL='https://plot.ly';                                    if (document.getElementById(\"0aa41287-3dfe-4d71-b76e-7fa7918f872a\")) {                    Plotly.newPlot(                        \"0aa41287-3dfe-4d71-b76e-7fa7918f872a\",                        [{\"marker\":{\"color\":\"rgba(255, 153, 51, 0.6)\",\"line\":{\"color\":\"rgba(255, 153, 51, 1.0)\",\"width\":1}},\"name\":\"None\",\"orientation\":\"v\",\"text\":\"\",\"x\":[\"A\",\"B\",\"C\",\"D\"],\"y\":[-13.27881408123237,-10.248780569630595,-9.946995963910497,11.32426931914407],\"type\":\"bar\"}],                        {\"legend\":{\"bgcolor\":\"#F5F6F9\",\"font\":{\"color\":\"#4D5663\"}},\"paper_bgcolor\":\"#F5F6F9\",\"plot_bgcolor\":\"#F5F6F9\",\"template\":{\"data\":{\"barpolar\":[{\"marker\":{\"line\":{\"color\":\"#E5ECF6\",\"width\":0.5},\"pattern\":{\"fillmode\":\"overlay\",\"size\":10,\"solidity\":0.2}},\"type\":\"barpolar\"}],\"bar\":[{\"error_x\":{\"color\":\"#2a3f5f\"},\"error_y\":{\"color\":\"#2a3f5f\"},\"marker\":{\"line\":{\"color\":\"#E5ECF6\",\"width\":0.5},\"pattern\":{\"fillmode\":\"overlay\",\"size\":10,\"solidity\":0.2}},\"type\":\"bar\"}],\"carpet\":[{\"aaxis\":{\"endlinecolor\":\"#2a3f5f\",\"gridcolor\":\"white\",\"linecolor\":\"white\",\"minorgridcolor\":\"white\",\"startlinecolor\":\"#2a3f5f\"},\"baxis\":{\"endlinecolor\":\"#2a3f5f\",\"gridcolor\":\"white\",\"linecolor\":\"white\",\"minorgridcolor\":\"white\",\"startlinecolor\":\"#2a3f5f\"},\"type\":\"carpet\"}],\"choropleth\":[{\"colorbar\":{\"outlinewidth\":0,\"ticks\":\"\"},\"type\":\"choropleth\"}],\"contourcarpet\":[{\"colorbar\":{\"outlinewidth\":0,\"ticks\":\"\"},\"type\":\"contourcarpet\"}],\"contour\":[{\"colorbar\":{\"outlinewidth\":0,\"ticks\":\"\"},\"colorscale\":[[0.0,\"#0d0887\"],[0.1111111111111111,\"#46039f\"],[0.2222222222222222,\"#7201a8\"],[0.3333333333333333,\"#9c179e\"],[0.4444444444444444,\"#bd3786\"],[0.5555555555555556,\"#d8576b\"],[0.6666666666666666,\"#ed7953\"],[0.7777777777777778,\"#fb9f3a\"],[0.8888888888888888,\"#fdca26\"],[1.0,\"#f0f921\"]],\"type\":\"contour\"}],\"heatmapgl\":[{\"colorbar\":{\"outlinewidth\":0,\"ticks\":\"\"},\"colorscale\":[[0.0,\"#0d0887\"],[0.1111111111111111,\"#46039f\"],[0.2222222222222222,\"#7201a8\"],[0.3333333333333333,\"#9c179e\"],[0.4444444444444444,\"#bd3786\"],[0.5555555555555556,\"#d8576b\"],[0.6666666666666666,\"#ed7953\"],[0.7777777777777778,\"#fb9f3a\"],[0.8888888888888888,\"#fdca26\"],[1.0,\"#f0f921\"]],\"type\":\"heatmapgl\"}],\"heatmap\":[{\"colorbar\":{\"outlinewidth\":0,\"ticks\":\"\"},\"colorscale\":[[0.0,\"#0d0887\"],[0.1111111111111111,\"#46039f\"],[0.2222222222222222,\"#7201a8\"],[0.3333333333333333,\"#9c179e\"],[0.4444444444444444,\"#bd3786\"],[0.5555555555555556,\"#d8576b\"],[0.6666666666666666,\"#ed7953\"],[0.7777777777777778,\"#fb9f3a\"],[0.8888888888888888,\"#fdca26\"],[1.0,\"#f0f921\"]],\"type\":\"heatmap\"}],\"histogram2dcontour\":[{\"colorbar\":{\"outlinewidth\":0,\"ticks\":\"\"},\"colorscale\":[[0.0,\"#0d0887\"],[0.1111111111111111,\"#46039f\"],[0.2222222222222222,\"#7201a8\"],[0.3333333333333333,\"#9c179e\"],[0.4444444444444444,\"#bd3786\"],[0.5555555555555556,\"#d8576b\"],[0.6666666666666666,\"#ed7953\"],[0.7777777777777778,\"#fb9f3a\"],[0.8888888888888888,\"#fdca26\"],[1.0,\"#f0f921\"]],\"type\":\"histogram2dcontour\"}],\"histogram2d\":[{\"colorbar\":{\"outlinewidth\":0,\"ticks\":\"\"},\"colorscale\":[[0.0,\"#0d0887\"],[0.1111111111111111,\"#46039f\"],[0.2222222222222222,\"#7201a8\"],[0.3333333333333333,\"#9c179e\"],[0.4444444444444444,\"#bd3786\"],[0.5555555555555556,\"#d8576b\"],[0.6666666666666666,\"#ed7953\"],[0.7777777777777778,\"#fb9f3a\"],[0.8888888888888888,\"#fdca26\"],[1.0,\"#f0f921\"]],\"type\":\"histogram2d\"}],\"histogram\":[{\"marker\":{\"pattern\":{\"fillmode\":\"overlay\",\"size\":10,\"solidity\":0.2}},\"type\":\"histogram\"}],\"mesh3d\":[{\"colorbar\":{\"outlinewidth\":0,\"ticks\":\"\"},\"type\":\"mesh3d\"}],\"parcoords\":[{\"line\":{\"colorbar\":{\"outlinewidth\":0,\"ticks\":\"\"}},\"type\":\"parcoords\"}],\"pie\":[{\"automargin\":true,\"type\":\"pie\"}],\"scatter3d\":[{\"line\":{\"colorbar\":{\"outlinewidth\":0,\"ticks\":\"\"}},\"marker\":{\"colorbar\":{\"outlinewidth\":0,\"ticks\":\"\"}},\"type\":\"scatter3d\"}],\"scattercarpet\":[{\"marker\":{\"colorbar\":{\"outlinewidth\":0,\"ticks\":\"\"}},\"type\":\"scattercarpet\"}],\"scattergeo\":[{\"marker\":{\"colorbar\":{\"outlinewidth\":0,\"ticks\":\"\"}},\"type\":\"scattergeo\"}],\"scattergl\":[{\"marker\":{\"colorbar\":{\"outlinewidth\":0,\"ticks\":\"\"}},\"type\":\"scattergl\"}],\"scattermapbox\":[{\"marker\":{\"colorbar\":{\"outlinewidth\":0,\"ticks\":\"\"}},\"type\":\"scattermapbox\"}],\"scatterpolargl\":[{\"marker\":{\"colorbar\":{\"outlinewidth\":0,\"ticks\":\"\"}},\"type\":\"scatterpolargl\"}],\"scatterpolar\":[{\"marker\":{\"colorbar\":{\"outlinewidth\":0,\"ticks\":\"\"}},\"type\":\"scatterpolar\"}],\"scatter\":[{\"fillpattern\":{\"fillmode\":\"overlay\",\"size\":10,\"solidity\":0.2},\"type\":\"scatter\"}],\"scatterternary\":[{\"marker\":{\"colorbar\":{\"outlinewidth\":0,\"ticks\":\"\"}},\"type\":\"scatterternary\"}],\"surface\":[{\"colorbar\":{\"outlinewidth\":0,\"ticks\":\"\"},\"colorscale\":[[0.0,\"#0d0887\"],[0.1111111111111111,\"#46039f\"],[0.2222222222222222,\"#7201a8\"],[0.3333333333333333,\"#9c179e\"],[0.4444444444444444,\"#bd3786\"],[0.5555555555555556,\"#d8576b\"],[0.6666666666666666,\"#ed7953\"],[0.7777777777777778,\"#fb9f3a\"],[0.8888888888888888,\"#fdca26\"],[1.0,\"#f0f921\"]],\"type\":\"surface\"}],\"table\":[{\"cells\":{\"fill\":{\"color\":\"#EBF0F8\"},\"line\":{\"color\":\"white\"}},\"header\":{\"fill\":{\"color\":\"#C8D4E3\"},\"line\":{\"color\":\"white\"}},\"type\":\"table\"}]},\"layout\":{\"annotationdefaults\":{\"arrowcolor\":\"#2a3f5f\",\"arrowhead\":0,\"arrowwidth\":1},\"autotypenumbers\":\"strict\",\"coloraxis\":{\"colorbar\":{\"outlinewidth\":0,\"ticks\":\"\"}},\"colorscale\":{\"diverging\":[[0,\"#8e0152\"],[0.1,\"#c51b7d\"],[0.2,\"#de77ae\"],[0.3,\"#f1b6da\"],[0.4,\"#fde0ef\"],[0.5,\"#f7f7f7\"],[0.6,\"#e6f5d0\"],[0.7,\"#b8e186\"],[0.8,\"#7fbc41\"],[0.9,\"#4d9221\"],[1,\"#276419\"]],\"sequential\":[[0.0,\"#0d0887\"],[0.1111111111111111,\"#46039f\"],[0.2222222222222222,\"#7201a8\"],[0.3333333333333333,\"#9c179e\"],[0.4444444444444444,\"#bd3786\"],[0.5555555555555556,\"#d8576b\"],[0.6666666666666666,\"#ed7953\"],[0.7777777777777778,\"#fb9f3a\"],[0.8888888888888888,\"#fdca26\"],[1.0,\"#f0f921\"]],\"sequentialminus\":[[0.0,\"#0d0887\"],[0.1111111111111111,\"#46039f\"],[0.2222222222222222,\"#7201a8\"],[0.3333333333333333,\"#9c179e\"],[0.4444444444444444,\"#bd3786\"],[0.5555555555555556,\"#d8576b\"],[0.6666666666666666,\"#ed7953\"],[0.7777777777777778,\"#fb9f3a\"],[0.8888888888888888,\"#fdca26\"],[1.0,\"#f0f921\"]]},\"colorway\":[\"#636efa\",\"#EF553B\",\"#00cc96\",\"#ab63fa\",\"#FFA15A\",\"#19d3f3\",\"#FF6692\",\"#B6E880\",\"#FF97FF\",\"#FECB52\"],\"font\":{\"color\":\"#2a3f5f\"},\"geo\":{\"bgcolor\":\"white\",\"lakecolor\":\"white\",\"landcolor\":\"#E5ECF6\",\"showlakes\":true,\"showland\":true,\"subunitcolor\":\"white\"},\"hoverlabel\":{\"align\":\"left\"},\"hovermode\":\"closest\",\"mapbox\":{\"style\":\"light\"},\"paper_bgcolor\":\"white\",\"plot_bgcolor\":\"#E5ECF6\",\"polar\":{\"angularaxis\":{\"gridcolor\":\"white\",\"linecolor\":\"white\",\"ticks\":\"\"},\"bgcolor\":\"#E5ECF6\",\"radialaxis\":{\"gridcolor\":\"white\",\"linecolor\":\"white\",\"ticks\":\"\"}},\"scene\":{\"xaxis\":{\"backgroundcolor\":\"#E5ECF6\",\"gridcolor\":\"white\",\"gridwidth\":2,\"linecolor\":\"white\",\"showbackground\":true,\"ticks\":\"\",\"zerolinecolor\":\"white\"},\"yaxis\":{\"backgroundcolor\":\"#E5ECF6\",\"gridcolor\":\"white\",\"gridwidth\":2,\"linecolor\":\"white\",\"showbackground\":true,\"ticks\":\"\",\"zerolinecolor\":\"white\"},\"zaxis\":{\"backgroundcolor\":\"#E5ECF6\",\"gridcolor\":\"white\",\"gridwidth\":2,\"linecolor\":\"white\",\"showbackground\":true,\"ticks\":\"\",\"zerolinecolor\":\"white\"}},\"shapedefaults\":{\"line\":{\"color\":\"#2a3f5f\"}},\"ternary\":{\"aaxis\":{\"gridcolor\":\"white\",\"linecolor\":\"white\",\"ticks\":\"\"},\"baxis\":{\"gridcolor\":\"white\",\"linecolor\":\"white\",\"ticks\":\"\"},\"bgcolor\":\"#E5ECF6\",\"caxis\":{\"gridcolor\":\"white\",\"linecolor\":\"white\",\"ticks\":\"\"}},\"title\":{\"x\":0.05},\"xaxis\":{\"automargin\":true,\"gridcolor\":\"white\",\"linecolor\":\"white\",\"ticks\":\"\",\"title\":{\"standoff\":15},\"zerolinecolor\":\"white\",\"zerolinewidth\":2},\"yaxis\":{\"automargin\":true,\"gridcolor\":\"white\",\"linecolor\":\"white\",\"ticks\":\"\",\"title\":{\"standoff\":15},\"zerolinecolor\":\"white\",\"zerolinewidth\":2}}},\"title\":{\"font\":{\"color\":\"#4D5663\"}},\"xaxis\":{\"gridcolor\":\"#E1E5ED\",\"showgrid\":true,\"tickfont\":{\"color\":\"#4D5663\"},\"title\":{\"font\":{\"color\":\"#4D5663\"},\"text\":\"\"},\"zerolinecolor\":\"#E1E5ED\"},\"yaxis\":{\"gridcolor\":\"#E1E5ED\",\"showgrid\":true,\"tickfont\":{\"color\":\"#4D5663\"},\"title\":{\"font\":{\"color\":\"#4D5663\"},\"text\":\"\"},\"zerolinecolor\":\"#E1E5ED\"}},                        {\"showLink\": true, \"linkText\": \"Export to plot.ly\", \"plotlyServerURL\": \"https://plot.ly\", \"responsive\": true}                    ).then(function(){\n",
       "                            \n",
       "var gd = document.getElementById('0aa41287-3dfe-4d71-b76e-7fa7918f872a');\n",
       "var x = new MutationObserver(function (mutations, observer) {{\n",
       "        var display = window.getComputedStyle(gd).display;\n",
       "        if (!display || display === 'none') {{\n",
       "            console.log([gd, 'removed!']);\n",
       "            Plotly.purge(gd);\n",
       "            observer.disconnect();\n",
       "        }}\n",
       "}});\n",
       "\n",
       "// Listen for the removal of the full notebook cells\n",
       "var notebookContainer = gd.closest('#notebook-container');\n",
       "if (notebookContainer) {{\n",
       "    x.observe(notebookContainer, {childList: true});\n",
       "}}\n",
       "\n",
       "// Listen for the clearing of the current output cell\n",
       "var outputEl = gd.closest('.output');\n",
       "if (outputEl) {{\n",
       "    x.observe(outputEl, {childList: true});\n",
       "}}\n",
       "\n",
       "                        })                };                });            </script>        </div>"
      ]
     },
     "metadata": {},
     "output_type": "display_data"
    }
   ],
   "source": [
    "df.sum().iplot(kind='bar')"
   ]
  },
  {
   "cell_type": "code",
   "execution_count": 21,
   "id": "40e5eb4a",
   "metadata": {},
   "outputs": [
    {
     "data": {
      "application/vnd.plotly.v1+json": {
       "config": {
        "linkText": "Export to plot.ly",
        "plotlyServerURL": "https://plot.ly",
        "showLink": true
       },
       "data": [
        {
         "boxpoints": false,
         "line": {
          "width": 1.3
         },
         "marker": {
          "color": "rgba(255, 153, 51, 1.0)"
         },
         "name": "A",
         "orientation": "v",
         "type": "box",
         "y": [
          0.007097092789972175,
          -0.2507980967337128,
          0.5756887159748832,
          1.008554175812353,
          -2.6283592090659873,
          1.6897482724042978,
          -0.8474374630661906,
          -0.885832540802959,
          0.4165769995034404,
          0.3252308691285932,
          0.15654813843776863,
          0.32000464521458294,
          0.22512579404893415,
          -0.9790000089937704,
          -0.3580302188491322,
          -0.7226009569936725,
          0.42102829268405206,
          0.2230306013098082,
          -0.4894846120344407,
          0.566997691727052,
          0.7607780966610685,
          0.23179719324520257,
          0.3740720066436934,
          -0.3268113355342848,
          -0.18724635850271712,
          -0.43897158097130873,
          0.3311812464599041,
          -1.7464259691116253,
          -0.7003744338871739,
          -1.1273844453143265,
          -1.4433016423607514,
          -1.9331587985472232,
          -0.4416755962896438,
          0.3540378946293956,
          -2.3205791602958827,
          -0.6145551930755045,
          -1.0991258362026313,
          0.945377164629423,
          0.7660013927940503,
          0.8096965391921613,
          -1.011703590573019,
          -0.41828365667679634,
          -1.4791244765991614,
          -0.5761080113817664,
          0.7449599286623099,
          0.42270136868761493,
          -0.40390348558849554,
          0.36669812346527975,
          0.7481364566653947,
          1.5353321018275836,
          -1.3371004213241013,
          -1.4942270443891712,
          0.0710723740451789,
          -0.0006575669951469768,
          -0.22534602111696125,
          -1.172041314702635,
          1.123901859153798,
          -0.2542859826880914,
          -0.11703759236657453,
          -0.8142079592044608,
          -1.0542576188191066,
          0.546313307317542,
          -0.8447663571066834,
          -1.1131193312433463,
          0.4587848706424149,
          2.6591625662829146,
          -0.015121925395850002,
          -0.09109764156500297,
          0.4526267555190351,
          -0.24918265339293869,
          0.2750713724462446,
          0.9645876496605769,
          0.6886893955579118,
          1.1337676914267782,
          -0.20303842320923898,
          -1.0816855549346296,
          -1.1082516347864104,
          -0.7242762213979465,
          -1.2179557113588813,
          -1.7245807252123906,
          2.1746231931296514,
          -0.31174746522478336,
          -0.3329591568687766,
          -0.499939085089008,
          0.36520642633824857,
          -1.0458452355028378,
          0.3306941382140081,
          1.2923882218609148,
          0.33893456539783484,
          0.9869969913865074,
          -0.6450150360855204,
          -0.02753327885205397,
          -1.3624539641043698,
          0.6002984616132592,
          -1.432946169513228,
          -0.5951750844353458,
          0.9740904886924309,
          -0.23690369561450986,
          1.2616316919343114,
          0.45897564550142733
         ]
        },
        {
         "boxpoints": false,
         "line": {
          "width": 1.3
         },
         "marker": {
          "color": "rgba(55, 128, 191, 1.0)"
         },
         "name": "B",
         "orientation": "v",
         "type": "box",
         "y": [
          1.0015685518890944,
          -1.6664086034303247,
          -1.4778111106947436,
          -0.7751255716259327,
          -1.4389565480396826,
          -1.6482938194416763,
          -1.506955683250337,
          0.2645971502651818,
          1.3192834739719805,
          0.33003703872957946,
          -0.1361520326958087,
          -1.3261155345688718,
          -1.204549680637177,
          0.3850583175509835,
          -0.3716158383803578,
          -0.6195146999634619,
          -0.996136086782592,
          -0.8444102927779795,
          -0.19276359031819187,
          0.08705580927796512,
          -0.3386322034460392,
          -0.6574543866595249,
          0.9478662810005158,
          -0.687885352767681,
          0.6015622856400247,
          0.25560908288184436,
          1.4082884056443346,
          -1.6772205012167196,
          0.5931670213401689,
          -0.20747584976568403,
          -1.042688109102613,
          0.3199247638241327,
          1.112879332773885,
          -0.6983477572766444,
          0.9909467462256175,
          -0.4702970722918106,
          0.3093044428150858,
          0.3442171189806224,
          0.40125331687981614,
          -0.9680466754947346,
          1.331024386460877,
          0.9700923553259135,
          0.14177352703313215,
          1.1490024377552774,
          -0.5259677383265647,
          -2.4786187225057223,
          2.075185652874105,
          -0.7934797710348597,
          -1.0812774636843718,
          1.33656414940059,
          1.167397360723972,
          0.922865585510867,
          0.07324989663541134,
          0.7157238614039628,
          -0.7484481402430851,
          0.48528402451312097,
          0.7511743146837414,
          0.4954149925198047,
          -1.11798381149081,
          0.29057128739668125,
          -1.3345464787750942,
          0.30198862771295165,
          0.707615903109009,
          1.6500185866666577,
          0.49276185597511885,
          -1.6571574050679154,
          -2.09094633959671,
          -0.3593627718648167,
          -1.6164724433213713,
          1.483388465917525,
          -0.25114671220587437,
          1.4662187742718724,
          -0.9062039290353936,
          -0.31360181319845404,
          0.9439194230341262,
          -0.12829533899369105,
          1.599093495914871,
          0.5583649783812819,
          -0.7561134141743251,
          -0.48882952610388714,
          -0.8669124668710848,
          -0.20869738384286052,
          -2.485808077029097,
          -1.0729464262607684,
          1.021856771895166,
          0.5857795865634028,
          0.8361142241220432,
          -1.048416757395772,
          -0.598914564611235,
          -1.1063945049183166,
          -0.9420740389395011,
          -1.5173258027035248,
          0.9807347509409816,
          1.5659650379880938,
          0.7249585649931194,
          -0.016215203047882022,
          -0.04401588783851069,
          2.0029297466320037,
          -1.2835695323754206,
          -0.9558328695916015
         ]
        },
        {
         "boxpoints": false,
         "line": {
          "width": 1.3
         },
         "marker": {
          "color": "rgba(50, 171, 96, 1.0)"
         },
         "name": "C",
         "orientation": "v",
         "type": "box",
         "y": [
          1.1134386376161787,
          -2.455826285527071,
          -0.9694676341962923,
          0.7130937845990152,
          -0.4082405867670057,
          -0.07106854892748057,
          0.29139163128680484,
          2.018976050553426,
          -2.426317414108947,
          -0.004035309681510012,
          -0.5688147882523389,
          1.2629407017390235,
          -0.056305975400264864,
          0.36100143469611534,
          -0.6775203711829082,
          -1.1916617039595192,
          -0.972871563819841,
          -1.1112621243203964,
          1.7320034633454189,
          -0.8478154766785165,
          -0.45539581710595534,
          2.10346520629492,
          -0.13907150540989444,
          0.04861080087146654,
          -2.564263148769308,
          -0.866192598224841,
          0.4891568617785788,
          1.0873970476750394,
          -0.18403764028888853,
          -0.1308663906545661,
          -0.28722000428881633,
          0.19840445734468734,
          -1.3009449684348904,
          -1.020091829408598,
          0.7387474831633447,
          0.19530536968376824,
          0.305383648263475,
          0.5797230543066278,
          0.4132055339672769,
          1.453165943930631,
          0.6738678698851303,
          1.2226808787214014,
          0.6099679322239068,
          0.0740870912806088,
          -1.2268367132161608,
          -0.3765866256593109,
          -0.8586237274089062,
          -1.4745636001090636,
          0.004608913554882749,
          -1.5289911287850926,
          -0.0465266419574453,
          -1.1117787124739829,
          0.3223837211493439,
          -0.7552722366390408,
          0.8752514886480032,
          1.0317230314868404,
          0.34616375944781325,
          -0.6551546404379297,
          0.3748294539863184,
          0.26460756409907765,
          1.2753158942553013,
          1.429845155534673,
          0.9508787491396822,
          0.07766733197880335,
          0.8514355614528256,
          0.3643160536653477,
          0.026335475115136356,
          0.7572998652599572,
          0.654042593554938,
          -1.8635945931004145,
          -1.3509614906487808,
          -0.5557091199465339,
          -0.4837150069088515,
          0.149347522183448,
          0.521279863811876,
          -0.1194141399337346,
          -0.4696545362675223,
          1.2560400763884412,
          -2.1289711422547986,
          -0.160846246930171,
          0.4845535388818226,
          0.20138949066785197,
          -0.38384316975121735,
          -0.8512900037498121,
          -0.22834122092072281,
          1.1889175170227522,
          -1.463630068002194,
          -0.9212060946063361,
          -0.34852257416333243,
          0.3862885438150903,
          0.22601878054759733,
          -1.2581306385539595,
          -1.1047097199780325,
          0.4427412253540972,
          -0.7624479813161561,
          -1.2941034696647962,
          1.5529727634412616,
          -0.5691920578956647,
          -0.32897418925340655,
          -0.2583816056393063
         ]
        },
        {
         "boxpoints": false,
         "line": {
          "width": 1.3
         },
         "marker": {
          "color": "rgba(128, 0, 128, 1.0)"
         },
         "name": "D",
         "orientation": "v",
         "type": "box",
         "y": [
          0.6285053069771211,
          -0.6422674141981904,
          0.0634065414695631,
          -0.201402449765595,
          -2.6474565882162757,
          0.6265434890066702,
          -1.9382483237147952,
          -0.32162316806583113,
          3.4624661592603942,
          1.3445984945414413,
          -0.17554664142011986,
          0.26262795117021503,
          2.0591321301455325,
          -0.4913943013347786,
          -1.139807932036039,
          -1.6958695678745266,
          -0.04000130876323166,
          1.0930715576453156,
          0.03805565004376671,
          2.3237405477198765,
          -1.099474750776804,
          0.3322415170042958,
          -0.6253652694816224,
          0.5643137167005545,
          -1.367285511433765,
          -0.8493451469168063,
          -1.7102637597838743,
          0.7122135177798964,
          -0.8348120685843194,
          -0.31127690877640213,
          0.27183877009540397,
          -0.9643422479683356,
          -1.191605116248042,
          -1.8149598907289821,
          -1.2031855070303434,
          -0.37111420727859884,
          -2.8305221116932366,
          0.7243165392074373,
          1.055587352116458,
          1.239324577800402,
          0.6573339689669813,
          0.09696536248035267,
          3.225530201379237,
          1.7735656183178174,
          0.25461358972815895,
          -1.0517399733379011,
          -0.3635969232943197,
          -1.2253357557287223,
          0.5923060728152107,
          -1.279752472638377,
          -0.6128659529842336,
          0.24504815354791581,
          0.7534178898831382,
          2.070512094883402,
          0.3940060871582593,
          1.4858158335189027,
          -0.8600609449415718,
          0.6213847128112033,
          0.5553075850486182,
          0.742383623660946,
          0.767215551936453,
          0.23817587790638547,
          -1.3012269615712475,
          1.08021842351989,
          0.9658551608356808,
          1.4230556281711535,
          0.3804284239839869,
          0.5712095351317064,
          0.6958612817349366,
          0.5641213581950402,
          -0.09067589440089023,
          0.644676122057003,
          -1.520122329434704,
          0.7402565312864682,
          1.548539687973651,
          -1.2885509385410618,
          -0.13845364979150812,
          0.8958051028459594,
          0.17563500440961954,
          -1.1332558956501393,
          0.6788627077454537,
          0.9880588825348897,
          0.6103628196031742,
          0.48507446741314536,
          0.41352006465908314,
          -0.21633682669954693,
          1.6616255124634403,
          0.23162794842808973,
          0.2931359941088242,
          -0.8097226200965799,
          0.7998522463526723,
          0.2863776827517364,
          -0.1499143781408709,
          1.1966437475941525,
          -0.46900231972356204,
          -1.2004271104989692,
          0.31394022384256876,
          -0.8525240262883761,
          1.2835914022049175,
          0.15110248242260002
         ]
        }
       ],
       "layout": {
        "legend": {
         "bgcolor": "#F5F6F9",
         "font": {
          "color": "#4D5663"
         }
        },
        "paper_bgcolor": "#F5F6F9",
        "plot_bgcolor": "#F5F6F9",
        "template": {
         "data": {
          "bar": [
           {
            "error_x": {
             "color": "#2a3f5f"
            },
            "error_y": {
             "color": "#2a3f5f"
            },
            "marker": {
             "line": {
              "color": "#E5ECF6",
              "width": 0.5
             },
             "pattern": {
              "fillmode": "overlay",
              "size": 10,
              "solidity": 0.2
             }
            },
            "type": "bar"
           }
          ],
          "barpolar": [
           {
            "marker": {
             "line": {
              "color": "#E5ECF6",
              "width": 0.5
             },
             "pattern": {
              "fillmode": "overlay",
              "size": 10,
              "solidity": 0.2
             }
            },
            "type": "barpolar"
           }
          ],
          "carpet": [
           {
            "aaxis": {
             "endlinecolor": "#2a3f5f",
             "gridcolor": "white",
             "linecolor": "white",
             "minorgridcolor": "white",
             "startlinecolor": "#2a3f5f"
            },
            "baxis": {
             "endlinecolor": "#2a3f5f",
             "gridcolor": "white",
             "linecolor": "white",
             "minorgridcolor": "white",
             "startlinecolor": "#2a3f5f"
            },
            "type": "carpet"
           }
          ],
          "choropleth": [
           {
            "colorbar": {
             "outlinewidth": 0,
             "ticks": ""
            },
            "type": "choropleth"
           }
          ],
          "contour": [
           {
            "colorbar": {
             "outlinewidth": 0,
             "ticks": ""
            },
            "colorscale": [
             [
              0,
              "#0d0887"
             ],
             [
              0.1111111111111111,
              "#46039f"
             ],
             [
              0.2222222222222222,
              "#7201a8"
             ],
             [
              0.3333333333333333,
              "#9c179e"
             ],
             [
              0.4444444444444444,
              "#bd3786"
             ],
             [
              0.5555555555555556,
              "#d8576b"
             ],
             [
              0.6666666666666666,
              "#ed7953"
             ],
             [
              0.7777777777777778,
              "#fb9f3a"
             ],
             [
              0.8888888888888888,
              "#fdca26"
             ],
             [
              1,
              "#f0f921"
             ]
            ],
            "type": "contour"
           }
          ],
          "contourcarpet": [
           {
            "colorbar": {
             "outlinewidth": 0,
             "ticks": ""
            },
            "type": "contourcarpet"
           }
          ],
          "heatmap": [
           {
            "colorbar": {
             "outlinewidth": 0,
             "ticks": ""
            },
            "colorscale": [
             [
              0,
              "#0d0887"
             ],
             [
              0.1111111111111111,
              "#46039f"
             ],
             [
              0.2222222222222222,
              "#7201a8"
             ],
             [
              0.3333333333333333,
              "#9c179e"
             ],
             [
              0.4444444444444444,
              "#bd3786"
             ],
             [
              0.5555555555555556,
              "#d8576b"
             ],
             [
              0.6666666666666666,
              "#ed7953"
             ],
             [
              0.7777777777777778,
              "#fb9f3a"
             ],
             [
              0.8888888888888888,
              "#fdca26"
             ],
             [
              1,
              "#f0f921"
             ]
            ],
            "type": "heatmap"
           }
          ],
          "heatmapgl": [
           {
            "colorbar": {
             "outlinewidth": 0,
             "ticks": ""
            },
            "colorscale": [
             [
              0,
              "#0d0887"
             ],
             [
              0.1111111111111111,
              "#46039f"
             ],
             [
              0.2222222222222222,
              "#7201a8"
             ],
             [
              0.3333333333333333,
              "#9c179e"
             ],
             [
              0.4444444444444444,
              "#bd3786"
             ],
             [
              0.5555555555555556,
              "#d8576b"
             ],
             [
              0.6666666666666666,
              "#ed7953"
             ],
             [
              0.7777777777777778,
              "#fb9f3a"
             ],
             [
              0.8888888888888888,
              "#fdca26"
             ],
             [
              1,
              "#f0f921"
             ]
            ],
            "type": "heatmapgl"
           }
          ],
          "histogram": [
           {
            "marker": {
             "pattern": {
              "fillmode": "overlay",
              "size": 10,
              "solidity": 0.2
             }
            },
            "type": "histogram"
           }
          ],
          "histogram2d": [
           {
            "colorbar": {
             "outlinewidth": 0,
             "ticks": ""
            },
            "colorscale": [
             [
              0,
              "#0d0887"
             ],
             [
              0.1111111111111111,
              "#46039f"
             ],
             [
              0.2222222222222222,
              "#7201a8"
             ],
             [
              0.3333333333333333,
              "#9c179e"
             ],
             [
              0.4444444444444444,
              "#bd3786"
             ],
             [
              0.5555555555555556,
              "#d8576b"
             ],
             [
              0.6666666666666666,
              "#ed7953"
             ],
             [
              0.7777777777777778,
              "#fb9f3a"
             ],
             [
              0.8888888888888888,
              "#fdca26"
             ],
             [
              1,
              "#f0f921"
             ]
            ],
            "type": "histogram2d"
           }
          ],
          "histogram2dcontour": [
           {
            "colorbar": {
             "outlinewidth": 0,
             "ticks": ""
            },
            "colorscale": [
             [
              0,
              "#0d0887"
             ],
             [
              0.1111111111111111,
              "#46039f"
             ],
             [
              0.2222222222222222,
              "#7201a8"
             ],
             [
              0.3333333333333333,
              "#9c179e"
             ],
             [
              0.4444444444444444,
              "#bd3786"
             ],
             [
              0.5555555555555556,
              "#d8576b"
             ],
             [
              0.6666666666666666,
              "#ed7953"
             ],
             [
              0.7777777777777778,
              "#fb9f3a"
             ],
             [
              0.8888888888888888,
              "#fdca26"
             ],
             [
              1,
              "#f0f921"
             ]
            ],
            "type": "histogram2dcontour"
           }
          ],
          "mesh3d": [
           {
            "colorbar": {
             "outlinewidth": 0,
             "ticks": ""
            },
            "type": "mesh3d"
           }
          ],
          "parcoords": [
           {
            "line": {
             "colorbar": {
              "outlinewidth": 0,
              "ticks": ""
             }
            },
            "type": "parcoords"
           }
          ],
          "pie": [
           {
            "automargin": true,
            "type": "pie"
           }
          ],
          "scatter": [
           {
            "fillpattern": {
             "fillmode": "overlay",
             "size": 10,
             "solidity": 0.2
            },
            "type": "scatter"
           }
          ],
          "scatter3d": [
           {
            "line": {
             "colorbar": {
              "outlinewidth": 0,
              "ticks": ""
             }
            },
            "marker": {
             "colorbar": {
              "outlinewidth": 0,
              "ticks": ""
             }
            },
            "type": "scatter3d"
           }
          ],
          "scattercarpet": [
           {
            "marker": {
             "colorbar": {
              "outlinewidth": 0,
              "ticks": ""
             }
            },
            "type": "scattercarpet"
           }
          ],
          "scattergeo": [
           {
            "marker": {
             "colorbar": {
              "outlinewidth": 0,
              "ticks": ""
             }
            },
            "type": "scattergeo"
           }
          ],
          "scattergl": [
           {
            "marker": {
             "colorbar": {
              "outlinewidth": 0,
              "ticks": ""
             }
            },
            "type": "scattergl"
           }
          ],
          "scattermapbox": [
           {
            "marker": {
             "colorbar": {
              "outlinewidth": 0,
              "ticks": ""
             }
            },
            "type": "scattermapbox"
           }
          ],
          "scatterpolar": [
           {
            "marker": {
             "colorbar": {
              "outlinewidth": 0,
              "ticks": ""
             }
            },
            "type": "scatterpolar"
           }
          ],
          "scatterpolargl": [
           {
            "marker": {
             "colorbar": {
              "outlinewidth": 0,
              "ticks": ""
             }
            },
            "type": "scatterpolargl"
           }
          ],
          "scatterternary": [
           {
            "marker": {
             "colorbar": {
              "outlinewidth": 0,
              "ticks": ""
             }
            },
            "type": "scatterternary"
           }
          ],
          "surface": [
           {
            "colorbar": {
             "outlinewidth": 0,
             "ticks": ""
            },
            "colorscale": [
             [
              0,
              "#0d0887"
             ],
             [
              0.1111111111111111,
              "#46039f"
             ],
             [
              0.2222222222222222,
              "#7201a8"
             ],
             [
              0.3333333333333333,
              "#9c179e"
             ],
             [
              0.4444444444444444,
              "#bd3786"
             ],
             [
              0.5555555555555556,
              "#d8576b"
             ],
             [
              0.6666666666666666,
              "#ed7953"
             ],
             [
              0.7777777777777778,
              "#fb9f3a"
             ],
             [
              0.8888888888888888,
              "#fdca26"
             ],
             [
              1,
              "#f0f921"
             ]
            ],
            "type": "surface"
           }
          ],
          "table": [
           {
            "cells": {
             "fill": {
              "color": "#EBF0F8"
             },
             "line": {
              "color": "white"
             }
            },
            "header": {
             "fill": {
              "color": "#C8D4E3"
             },
             "line": {
              "color": "white"
             }
            },
            "type": "table"
           }
          ]
         },
         "layout": {
          "annotationdefaults": {
           "arrowcolor": "#2a3f5f",
           "arrowhead": 0,
           "arrowwidth": 1
          },
          "autotypenumbers": "strict",
          "coloraxis": {
           "colorbar": {
            "outlinewidth": 0,
            "ticks": ""
           }
          },
          "colorscale": {
           "diverging": [
            [
             0,
             "#8e0152"
            ],
            [
             0.1,
             "#c51b7d"
            ],
            [
             0.2,
             "#de77ae"
            ],
            [
             0.3,
             "#f1b6da"
            ],
            [
             0.4,
             "#fde0ef"
            ],
            [
             0.5,
             "#f7f7f7"
            ],
            [
             0.6,
             "#e6f5d0"
            ],
            [
             0.7,
             "#b8e186"
            ],
            [
             0.8,
             "#7fbc41"
            ],
            [
             0.9,
             "#4d9221"
            ],
            [
             1,
             "#276419"
            ]
           ],
           "sequential": [
            [
             0,
             "#0d0887"
            ],
            [
             0.1111111111111111,
             "#46039f"
            ],
            [
             0.2222222222222222,
             "#7201a8"
            ],
            [
             0.3333333333333333,
             "#9c179e"
            ],
            [
             0.4444444444444444,
             "#bd3786"
            ],
            [
             0.5555555555555556,
             "#d8576b"
            ],
            [
             0.6666666666666666,
             "#ed7953"
            ],
            [
             0.7777777777777778,
             "#fb9f3a"
            ],
            [
             0.8888888888888888,
             "#fdca26"
            ],
            [
             1,
             "#f0f921"
            ]
           ],
           "sequentialminus": [
            [
             0,
             "#0d0887"
            ],
            [
             0.1111111111111111,
             "#46039f"
            ],
            [
             0.2222222222222222,
             "#7201a8"
            ],
            [
             0.3333333333333333,
             "#9c179e"
            ],
            [
             0.4444444444444444,
             "#bd3786"
            ],
            [
             0.5555555555555556,
             "#d8576b"
            ],
            [
             0.6666666666666666,
             "#ed7953"
            ],
            [
             0.7777777777777778,
             "#fb9f3a"
            ],
            [
             0.8888888888888888,
             "#fdca26"
            ],
            [
             1,
             "#f0f921"
            ]
           ]
          },
          "colorway": [
           "#636efa",
           "#EF553B",
           "#00cc96",
           "#ab63fa",
           "#FFA15A",
           "#19d3f3",
           "#FF6692",
           "#B6E880",
           "#FF97FF",
           "#FECB52"
          ],
          "font": {
           "color": "#2a3f5f"
          },
          "geo": {
           "bgcolor": "white",
           "lakecolor": "white",
           "landcolor": "#E5ECF6",
           "showlakes": true,
           "showland": true,
           "subunitcolor": "white"
          },
          "hoverlabel": {
           "align": "left"
          },
          "hovermode": "closest",
          "mapbox": {
           "style": "light"
          },
          "paper_bgcolor": "white",
          "plot_bgcolor": "#E5ECF6",
          "polar": {
           "angularaxis": {
            "gridcolor": "white",
            "linecolor": "white",
            "ticks": ""
           },
           "bgcolor": "#E5ECF6",
           "radialaxis": {
            "gridcolor": "white",
            "linecolor": "white",
            "ticks": ""
           }
          },
          "scene": {
           "xaxis": {
            "backgroundcolor": "#E5ECF6",
            "gridcolor": "white",
            "gridwidth": 2,
            "linecolor": "white",
            "showbackground": true,
            "ticks": "",
            "zerolinecolor": "white"
           },
           "yaxis": {
            "backgroundcolor": "#E5ECF6",
            "gridcolor": "white",
            "gridwidth": 2,
            "linecolor": "white",
            "showbackground": true,
            "ticks": "",
            "zerolinecolor": "white"
           },
           "zaxis": {
            "backgroundcolor": "#E5ECF6",
            "gridcolor": "white",
            "gridwidth": 2,
            "linecolor": "white",
            "showbackground": true,
            "ticks": "",
            "zerolinecolor": "white"
           }
          },
          "shapedefaults": {
           "line": {
            "color": "#2a3f5f"
           }
          },
          "ternary": {
           "aaxis": {
            "gridcolor": "white",
            "linecolor": "white",
            "ticks": ""
           },
           "baxis": {
            "gridcolor": "white",
            "linecolor": "white",
            "ticks": ""
           },
           "bgcolor": "#E5ECF6",
           "caxis": {
            "gridcolor": "white",
            "linecolor": "white",
            "ticks": ""
           }
          },
          "title": {
           "x": 0.05
          },
          "xaxis": {
           "automargin": true,
           "gridcolor": "white",
           "linecolor": "white",
           "ticks": "",
           "title": {
            "standoff": 15
           },
           "zerolinecolor": "white",
           "zerolinewidth": 2
          },
          "yaxis": {
           "automargin": true,
           "gridcolor": "white",
           "linecolor": "white",
           "ticks": "",
           "title": {
            "standoff": 15
           },
           "zerolinecolor": "white",
           "zerolinewidth": 2
          }
         }
        },
        "title": {
         "font": {
          "color": "#4D5663"
         }
        },
        "xaxis": {
         "gridcolor": "#E1E5ED",
         "showgrid": true,
         "tickfont": {
          "color": "#4D5663"
         },
         "title": {
          "font": {
           "color": "#4D5663"
          },
          "text": ""
         },
         "zerolinecolor": "#E1E5ED"
        },
        "yaxis": {
         "gridcolor": "#E1E5ED",
         "showgrid": true,
         "tickfont": {
          "color": "#4D5663"
         },
         "title": {
          "font": {
           "color": "#4D5663"
          },
          "text": ""
         },
         "zerolinecolor": "#E1E5ED"
        }
       }
      },
      "text/html": [
       "<div>                            <div id=\"9ef8865e-8ea4-4143-9771-3cb9bd8a8e4f\" class=\"plotly-graph-div\" style=\"height:525px; width:100%;\"></div>            <script type=\"text/javascript\">                require([\"plotly\"], function(Plotly) {                    window.PLOTLYENV=window.PLOTLYENV || {};\n",
       "                    window.PLOTLYENV.BASE_URL='https://plot.ly';                                    if (document.getElementById(\"9ef8865e-8ea4-4143-9771-3cb9bd8a8e4f\")) {                    Plotly.newPlot(                        \"9ef8865e-8ea4-4143-9771-3cb9bd8a8e4f\",                        [{\"boxpoints\":false,\"line\":{\"width\":1.3},\"marker\":{\"color\":\"rgba(255, 153, 51, 1.0)\"},\"name\":\"A\",\"orientation\":\"v\",\"y\":[0.007097092789972175,-0.2507980967337128,0.5756887159748832,1.008554175812353,-2.6283592090659873,1.6897482724042978,-0.8474374630661906,-0.885832540802959,0.4165769995034404,0.3252308691285932,0.15654813843776863,0.32000464521458294,0.22512579404893415,-0.9790000089937704,-0.3580302188491322,-0.7226009569936725,0.42102829268405206,0.2230306013098082,-0.4894846120344407,0.566997691727052,0.7607780966610685,0.23179719324520257,0.3740720066436934,-0.3268113355342848,-0.18724635850271712,-0.43897158097130873,0.3311812464599041,-1.7464259691116253,-0.7003744338871739,-1.1273844453143265,-1.4433016423607514,-1.9331587985472232,-0.4416755962896438,0.3540378946293956,-2.3205791602958827,-0.6145551930755045,-1.0991258362026313,0.945377164629423,0.7660013927940503,0.8096965391921613,-1.011703590573019,-0.41828365667679634,-1.4791244765991614,-0.5761080113817664,0.7449599286623099,0.42270136868761493,-0.40390348558849554,0.36669812346527975,0.7481364566653947,1.5353321018275836,-1.3371004213241013,-1.4942270443891712,0.0710723740451789,-0.0006575669951469768,-0.22534602111696125,-1.172041314702635,1.123901859153798,-0.2542859826880914,-0.11703759236657453,-0.8142079592044608,-1.0542576188191066,0.546313307317542,-0.8447663571066834,-1.1131193312433463,0.4587848706424149,2.6591625662829146,-0.015121925395850002,-0.09109764156500297,0.4526267555190351,-0.24918265339293869,0.2750713724462446,0.9645876496605769,0.6886893955579118,1.1337676914267782,-0.20303842320923898,-1.0816855549346296,-1.1082516347864104,-0.7242762213979465,-1.2179557113588813,-1.7245807252123906,2.1746231931296514,-0.31174746522478336,-0.3329591568687766,-0.499939085089008,0.36520642633824857,-1.0458452355028378,0.3306941382140081,1.2923882218609148,0.33893456539783484,0.9869969913865074,-0.6450150360855204,-0.02753327885205397,-1.3624539641043698,0.6002984616132592,-1.432946169513228,-0.5951750844353458,0.9740904886924309,-0.23690369561450986,1.2616316919343114,0.45897564550142733],\"type\":\"box\"},{\"boxpoints\":false,\"line\":{\"width\":1.3},\"marker\":{\"color\":\"rgba(55, 128, 191, 1.0)\"},\"name\":\"B\",\"orientation\":\"v\",\"y\":[1.0015685518890944,-1.6664086034303247,-1.4778111106947436,-0.7751255716259327,-1.4389565480396826,-1.6482938194416763,-1.506955683250337,0.2645971502651818,1.3192834739719805,0.33003703872957946,-0.1361520326958087,-1.3261155345688718,-1.204549680637177,0.3850583175509835,-0.3716158383803578,-0.6195146999634619,-0.996136086782592,-0.8444102927779795,-0.19276359031819187,0.08705580927796512,-0.3386322034460392,-0.6574543866595249,0.9478662810005158,-0.687885352767681,0.6015622856400247,0.25560908288184436,1.4082884056443346,-1.6772205012167196,0.5931670213401689,-0.20747584976568403,-1.042688109102613,0.3199247638241327,1.112879332773885,-0.6983477572766444,0.9909467462256175,-0.4702970722918106,0.3093044428150858,0.3442171189806224,0.40125331687981614,-0.9680466754947346,1.331024386460877,0.9700923553259135,0.14177352703313215,1.1490024377552774,-0.5259677383265647,-2.4786187225057223,2.075185652874105,-0.7934797710348597,-1.0812774636843718,1.33656414940059,1.167397360723972,0.922865585510867,0.07324989663541134,0.7157238614039628,-0.7484481402430851,0.48528402451312097,0.7511743146837414,0.4954149925198047,-1.11798381149081,0.29057128739668125,-1.3345464787750942,0.30198862771295165,0.707615903109009,1.6500185866666577,0.49276185597511885,-1.6571574050679154,-2.09094633959671,-0.3593627718648167,-1.6164724433213713,1.483388465917525,-0.25114671220587437,1.4662187742718724,-0.9062039290353936,-0.31360181319845404,0.9439194230341262,-0.12829533899369105,1.599093495914871,0.5583649783812819,-0.7561134141743251,-0.48882952610388714,-0.8669124668710848,-0.20869738384286052,-2.485808077029097,-1.0729464262607684,1.021856771895166,0.5857795865634028,0.8361142241220432,-1.048416757395772,-0.598914564611235,-1.1063945049183166,-0.9420740389395011,-1.5173258027035248,0.9807347509409816,1.5659650379880938,0.7249585649931194,-0.016215203047882022,-0.04401588783851069,2.0029297466320037,-1.2835695323754206,-0.9558328695916015],\"type\":\"box\"},{\"boxpoints\":false,\"line\":{\"width\":1.3},\"marker\":{\"color\":\"rgba(50, 171, 96, 1.0)\"},\"name\":\"C\",\"orientation\":\"v\",\"y\":[1.1134386376161787,-2.455826285527071,-0.9694676341962923,0.7130937845990152,-0.4082405867670057,-0.07106854892748057,0.29139163128680484,2.018976050553426,-2.426317414108947,-0.004035309681510012,-0.5688147882523389,1.2629407017390235,-0.056305975400264864,0.36100143469611534,-0.6775203711829082,-1.1916617039595192,-0.972871563819841,-1.1112621243203964,1.7320034633454189,-0.8478154766785165,-0.45539581710595534,2.10346520629492,-0.13907150540989444,0.04861080087146654,-2.564263148769308,-0.866192598224841,0.4891568617785788,1.0873970476750394,-0.18403764028888853,-0.1308663906545661,-0.28722000428881633,0.19840445734468734,-1.3009449684348904,-1.020091829408598,0.7387474831633447,0.19530536968376824,0.305383648263475,0.5797230543066278,0.4132055339672769,1.453165943930631,0.6738678698851303,1.2226808787214014,0.6099679322239068,0.0740870912806088,-1.2268367132161608,-0.3765866256593109,-0.8586237274089062,-1.4745636001090636,0.004608913554882749,-1.5289911287850926,-0.0465266419574453,-1.1117787124739829,0.3223837211493439,-0.7552722366390408,0.8752514886480032,1.0317230314868404,0.34616375944781325,-0.6551546404379297,0.3748294539863184,0.26460756409907765,1.2753158942553013,1.429845155534673,0.9508787491396822,0.07766733197880335,0.8514355614528256,0.3643160536653477,0.026335475115136356,0.7572998652599572,0.654042593554938,-1.8635945931004145,-1.3509614906487808,-0.5557091199465339,-0.4837150069088515,0.149347522183448,0.521279863811876,-0.1194141399337346,-0.4696545362675223,1.2560400763884412,-2.1289711422547986,-0.160846246930171,0.4845535388818226,0.20138949066785197,-0.38384316975121735,-0.8512900037498121,-0.22834122092072281,1.1889175170227522,-1.463630068002194,-0.9212060946063361,-0.34852257416333243,0.3862885438150903,0.22601878054759733,-1.2581306385539595,-1.1047097199780325,0.4427412253540972,-0.7624479813161561,-1.2941034696647962,1.5529727634412616,-0.5691920578956647,-0.32897418925340655,-0.2583816056393063],\"type\":\"box\"},{\"boxpoints\":false,\"line\":{\"width\":1.3},\"marker\":{\"color\":\"rgba(128, 0, 128, 1.0)\"},\"name\":\"D\",\"orientation\":\"v\",\"y\":[0.6285053069771211,-0.6422674141981904,0.0634065414695631,-0.201402449765595,-2.6474565882162757,0.6265434890066702,-1.9382483237147952,-0.32162316806583113,3.4624661592603942,1.3445984945414413,-0.17554664142011986,0.26262795117021503,2.0591321301455325,-0.4913943013347786,-1.139807932036039,-1.6958695678745266,-0.04000130876323166,1.0930715576453156,0.03805565004376671,2.3237405477198765,-1.099474750776804,0.3322415170042958,-0.6253652694816224,0.5643137167005545,-1.367285511433765,-0.8493451469168063,-1.7102637597838743,0.7122135177798964,-0.8348120685843194,-0.31127690877640213,0.27183877009540397,-0.9643422479683356,-1.191605116248042,-1.8149598907289821,-1.2031855070303434,-0.37111420727859884,-2.8305221116932366,0.7243165392074373,1.055587352116458,1.239324577800402,0.6573339689669813,0.09696536248035267,3.225530201379237,1.7735656183178174,0.25461358972815895,-1.0517399733379011,-0.3635969232943197,-1.2253357557287223,0.5923060728152107,-1.279752472638377,-0.6128659529842336,0.24504815354791581,0.7534178898831382,2.070512094883402,0.3940060871582593,1.4858158335189027,-0.8600609449415718,0.6213847128112033,0.5553075850486182,0.742383623660946,0.767215551936453,0.23817587790638547,-1.3012269615712475,1.08021842351989,0.9658551608356808,1.4230556281711535,0.3804284239839869,0.5712095351317064,0.6958612817349366,0.5641213581950402,-0.09067589440089023,0.644676122057003,-1.520122329434704,0.7402565312864682,1.548539687973651,-1.2885509385410618,-0.13845364979150812,0.8958051028459594,0.17563500440961954,-1.1332558956501393,0.6788627077454537,0.9880588825348897,0.6103628196031742,0.48507446741314536,0.41352006465908314,-0.21633682669954693,1.6616255124634403,0.23162794842808973,0.2931359941088242,-0.8097226200965799,0.7998522463526723,0.2863776827517364,-0.1499143781408709,1.1966437475941525,-0.46900231972356204,-1.2004271104989692,0.31394022384256876,-0.8525240262883761,1.2835914022049175,0.15110248242260002],\"type\":\"box\"}],                        {\"legend\":{\"bgcolor\":\"#F5F6F9\",\"font\":{\"color\":\"#4D5663\"}},\"paper_bgcolor\":\"#F5F6F9\",\"plot_bgcolor\":\"#F5F6F9\",\"template\":{\"data\":{\"barpolar\":[{\"marker\":{\"line\":{\"color\":\"#E5ECF6\",\"width\":0.5},\"pattern\":{\"fillmode\":\"overlay\",\"size\":10,\"solidity\":0.2}},\"type\":\"barpolar\"}],\"bar\":[{\"error_x\":{\"color\":\"#2a3f5f\"},\"error_y\":{\"color\":\"#2a3f5f\"},\"marker\":{\"line\":{\"color\":\"#E5ECF6\",\"width\":0.5},\"pattern\":{\"fillmode\":\"overlay\",\"size\":10,\"solidity\":0.2}},\"type\":\"bar\"}],\"carpet\":[{\"aaxis\":{\"endlinecolor\":\"#2a3f5f\",\"gridcolor\":\"white\",\"linecolor\":\"white\",\"minorgridcolor\":\"white\",\"startlinecolor\":\"#2a3f5f\"},\"baxis\":{\"endlinecolor\":\"#2a3f5f\",\"gridcolor\":\"white\",\"linecolor\":\"white\",\"minorgridcolor\":\"white\",\"startlinecolor\":\"#2a3f5f\"},\"type\":\"carpet\"}],\"choropleth\":[{\"colorbar\":{\"outlinewidth\":0,\"ticks\":\"\"},\"type\":\"choropleth\"}],\"contourcarpet\":[{\"colorbar\":{\"outlinewidth\":0,\"ticks\":\"\"},\"type\":\"contourcarpet\"}],\"contour\":[{\"colorbar\":{\"outlinewidth\":0,\"ticks\":\"\"},\"colorscale\":[[0.0,\"#0d0887\"],[0.1111111111111111,\"#46039f\"],[0.2222222222222222,\"#7201a8\"],[0.3333333333333333,\"#9c179e\"],[0.4444444444444444,\"#bd3786\"],[0.5555555555555556,\"#d8576b\"],[0.6666666666666666,\"#ed7953\"],[0.7777777777777778,\"#fb9f3a\"],[0.8888888888888888,\"#fdca26\"],[1.0,\"#f0f921\"]],\"type\":\"contour\"}],\"heatmapgl\":[{\"colorbar\":{\"outlinewidth\":0,\"ticks\":\"\"},\"colorscale\":[[0.0,\"#0d0887\"],[0.1111111111111111,\"#46039f\"],[0.2222222222222222,\"#7201a8\"],[0.3333333333333333,\"#9c179e\"],[0.4444444444444444,\"#bd3786\"],[0.5555555555555556,\"#d8576b\"],[0.6666666666666666,\"#ed7953\"],[0.7777777777777778,\"#fb9f3a\"],[0.8888888888888888,\"#fdca26\"],[1.0,\"#f0f921\"]],\"type\":\"heatmapgl\"}],\"heatmap\":[{\"colorbar\":{\"outlinewidth\":0,\"ticks\":\"\"},\"colorscale\":[[0.0,\"#0d0887\"],[0.1111111111111111,\"#46039f\"],[0.2222222222222222,\"#7201a8\"],[0.3333333333333333,\"#9c179e\"],[0.4444444444444444,\"#bd3786\"],[0.5555555555555556,\"#d8576b\"],[0.6666666666666666,\"#ed7953\"],[0.7777777777777778,\"#fb9f3a\"],[0.8888888888888888,\"#fdca26\"],[1.0,\"#f0f921\"]],\"type\":\"heatmap\"}],\"histogram2dcontour\":[{\"colorbar\":{\"outlinewidth\":0,\"ticks\":\"\"},\"colorscale\":[[0.0,\"#0d0887\"],[0.1111111111111111,\"#46039f\"],[0.2222222222222222,\"#7201a8\"],[0.3333333333333333,\"#9c179e\"],[0.4444444444444444,\"#bd3786\"],[0.5555555555555556,\"#d8576b\"],[0.6666666666666666,\"#ed7953\"],[0.7777777777777778,\"#fb9f3a\"],[0.8888888888888888,\"#fdca26\"],[1.0,\"#f0f921\"]],\"type\":\"histogram2dcontour\"}],\"histogram2d\":[{\"colorbar\":{\"outlinewidth\":0,\"ticks\":\"\"},\"colorscale\":[[0.0,\"#0d0887\"],[0.1111111111111111,\"#46039f\"],[0.2222222222222222,\"#7201a8\"],[0.3333333333333333,\"#9c179e\"],[0.4444444444444444,\"#bd3786\"],[0.5555555555555556,\"#d8576b\"],[0.6666666666666666,\"#ed7953\"],[0.7777777777777778,\"#fb9f3a\"],[0.8888888888888888,\"#fdca26\"],[1.0,\"#f0f921\"]],\"type\":\"histogram2d\"}],\"histogram\":[{\"marker\":{\"pattern\":{\"fillmode\":\"overlay\",\"size\":10,\"solidity\":0.2}},\"type\":\"histogram\"}],\"mesh3d\":[{\"colorbar\":{\"outlinewidth\":0,\"ticks\":\"\"},\"type\":\"mesh3d\"}],\"parcoords\":[{\"line\":{\"colorbar\":{\"outlinewidth\":0,\"ticks\":\"\"}},\"type\":\"parcoords\"}],\"pie\":[{\"automargin\":true,\"type\":\"pie\"}],\"scatter3d\":[{\"line\":{\"colorbar\":{\"outlinewidth\":0,\"ticks\":\"\"}},\"marker\":{\"colorbar\":{\"outlinewidth\":0,\"ticks\":\"\"}},\"type\":\"scatter3d\"}],\"scattercarpet\":[{\"marker\":{\"colorbar\":{\"outlinewidth\":0,\"ticks\":\"\"}},\"type\":\"scattercarpet\"}],\"scattergeo\":[{\"marker\":{\"colorbar\":{\"outlinewidth\":0,\"ticks\":\"\"}},\"type\":\"scattergeo\"}],\"scattergl\":[{\"marker\":{\"colorbar\":{\"outlinewidth\":0,\"ticks\":\"\"}},\"type\":\"scattergl\"}],\"scattermapbox\":[{\"marker\":{\"colorbar\":{\"outlinewidth\":0,\"ticks\":\"\"}},\"type\":\"scattermapbox\"}],\"scatterpolargl\":[{\"marker\":{\"colorbar\":{\"outlinewidth\":0,\"ticks\":\"\"}},\"type\":\"scatterpolargl\"}],\"scatterpolar\":[{\"marker\":{\"colorbar\":{\"outlinewidth\":0,\"ticks\":\"\"}},\"type\":\"scatterpolar\"}],\"scatter\":[{\"fillpattern\":{\"fillmode\":\"overlay\",\"size\":10,\"solidity\":0.2},\"type\":\"scatter\"}],\"scatterternary\":[{\"marker\":{\"colorbar\":{\"outlinewidth\":0,\"ticks\":\"\"}},\"type\":\"scatterternary\"}],\"surface\":[{\"colorbar\":{\"outlinewidth\":0,\"ticks\":\"\"},\"colorscale\":[[0.0,\"#0d0887\"],[0.1111111111111111,\"#46039f\"],[0.2222222222222222,\"#7201a8\"],[0.3333333333333333,\"#9c179e\"],[0.4444444444444444,\"#bd3786\"],[0.5555555555555556,\"#d8576b\"],[0.6666666666666666,\"#ed7953\"],[0.7777777777777778,\"#fb9f3a\"],[0.8888888888888888,\"#fdca26\"],[1.0,\"#f0f921\"]],\"type\":\"surface\"}],\"table\":[{\"cells\":{\"fill\":{\"color\":\"#EBF0F8\"},\"line\":{\"color\":\"white\"}},\"header\":{\"fill\":{\"color\":\"#C8D4E3\"},\"line\":{\"color\":\"white\"}},\"type\":\"table\"}]},\"layout\":{\"annotationdefaults\":{\"arrowcolor\":\"#2a3f5f\",\"arrowhead\":0,\"arrowwidth\":1},\"autotypenumbers\":\"strict\",\"coloraxis\":{\"colorbar\":{\"outlinewidth\":0,\"ticks\":\"\"}},\"colorscale\":{\"diverging\":[[0,\"#8e0152\"],[0.1,\"#c51b7d\"],[0.2,\"#de77ae\"],[0.3,\"#f1b6da\"],[0.4,\"#fde0ef\"],[0.5,\"#f7f7f7\"],[0.6,\"#e6f5d0\"],[0.7,\"#b8e186\"],[0.8,\"#7fbc41\"],[0.9,\"#4d9221\"],[1,\"#276419\"]],\"sequential\":[[0.0,\"#0d0887\"],[0.1111111111111111,\"#46039f\"],[0.2222222222222222,\"#7201a8\"],[0.3333333333333333,\"#9c179e\"],[0.4444444444444444,\"#bd3786\"],[0.5555555555555556,\"#d8576b\"],[0.6666666666666666,\"#ed7953\"],[0.7777777777777778,\"#fb9f3a\"],[0.8888888888888888,\"#fdca26\"],[1.0,\"#f0f921\"]],\"sequentialminus\":[[0.0,\"#0d0887\"],[0.1111111111111111,\"#46039f\"],[0.2222222222222222,\"#7201a8\"],[0.3333333333333333,\"#9c179e\"],[0.4444444444444444,\"#bd3786\"],[0.5555555555555556,\"#d8576b\"],[0.6666666666666666,\"#ed7953\"],[0.7777777777777778,\"#fb9f3a\"],[0.8888888888888888,\"#fdca26\"],[1.0,\"#f0f921\"]]},\"colorway\":[\"#636efa\",\"#EF553B\",\"#00cc96\",\"#ab63fa\",\"#FFA15A\",\"#19d3f3\",\"#FF6692\",\"#B6E880\",\"#FF97FF\",\"#FECB52\"],\"font\":{\"color\":\"#2a3f5f\"},\"geo\":{\"bgcolor\":\"white\",\"lakecolor\":\"white\",\"landcolor\":\"#E5ECF6\",\"showlakes\":true,\"showland\":true,\"subunitcolor\":\"white\"},\"hoverlabel\":{\"align\":\"left\"},\"hovermode\":\"closest\",\"mapbox\":{\"style\":\"light\"},\"paper_bgcolor\":\"white\",\"plot_bgcolor\":\"#E5ECF6\",\"polar\":{\"angularaxis\":{\"gridcolor\":\"white\",\"linecolor\":\"white\",\"ticks\":\"\"},\"bgcolor\":\"#E5ECF6\",\"radialaxis\":{\"gridcolor\":\"white\",\"linecolor\":\"white\",\"ticks\":\"\"}},\"scene\":{\"xaxis\":{\"backgroundcolor\":\"#E5ECF6\",\"gridcolor\":\"white\",\"gridwidth\":2,\"linecolor\":\"white\",\"showbackground\":true,\"ticks\":\"\",\"zerolinecolor\":\"white\"},\"yaxis\":{\"backgroundcolor\":\"#E5ECF6\",\"gridcolor\":\"white\",\"gridwidth\":2,\"linecolor\":\"white\",\"showbackground\":true,\"ticks\":\"\",\"zerolinecolor\":\"white\"},\"zaxis\":{\"backgroundcolor\":\"#E5ECF6\",\"gridcolor\":\"white\",\"gridwidth\":2,\"linecolor\":\"white\",\"showbackground\":true,\"ticks\":\"\",\"zerolinecolor\":\"white\"}},\"shapedefaults\":{\"line\":{\"color\":\"#2a3f5f\"}},\"ternary\":{\"aaxis\":{\"gridcolor\":\"white\",\"linecolor\":\"white\",\"ticks\":\"\"},\"baxis\":{\"gridcolor\":\"white\",\"linecolor\":\"white\",\"ticks\":\"\"},\"bgcolor\":\"#E5ECF6\",\"caxis\":{\"gridcolor\":\"white\",\"linecolor\":\"white\",\"ticks\":\"\"}},\"title\":{\"x\":0.05},\"xaxis\":{\"automargin\":true,\"gridcolor\":\"white\",\"linecolor\":\"white\",\"ticks\":\"\",\"title\":{\"standoff\":15},\"zerolinecolor\":\"white\",\"zerolinewidth\":2},\"yaxis\":{\"automargin\":true,\"gridcolor\":\"white\",\"linecolor\":\"white\",\"ticks\":\"\",\"title\":{\"standoff\":15},\"zerolinecolor\":\"white\",\"zerolinewidth\":2}}},\"title\":{\"font\":{\"color\":\"#4D5663\"}},\"xaxis\":{\"gridcolor\":\"#E1E5ED\",\"showgrid\":true,\"tickfont\":{\"color\":\"#4D5663\"},\"title\":{\"font\":{\"color\":\"#4D5663\"},\"text\":\"\"},\"zerolinecolor\":\"#E1E5ED\"},\"yaxis\":{\"gridcolor\":\"#E1E5ED\",\"showgrid\":true,\"tickfont\":{\"color\":\"#4D5663\"},\"title\":{\"font\":{\"color\":\"#4D5663\"},\"text\":\"\"},\"zerolinecolor\":\"#E1E5ED\"}},                        {\"showLink\": true, \"linkText\": \"Export to plot.ly\", \"plotlyServerURL\": \"https://plot.ly\", \"responsive\": true}                    ).then(function(){\n",
       "                            \n",
       "var gd = document.getElementById('9ef8865e-8ea4-4143-9771-3cb9bd8a8e4f');\n",
       "var x = new MutationObserver(function (mutations, observer) {{\n",
       "        var display = window.getComputedStyle(gd).display;\n",
       "        if (!display || display === 'none') {{\n",
       "            console.log([gd, 'removed!']);\n",
       "            Plotly.purge(gd);\n",
       "            observer.disconnect();\n",
       "        }}\n",
       "}});\n",
       "\n",
       "// Listen for the removal of the full notebook cells\n",
       "var notebookContainer = gd.closest('#notebook-container');\n",
       "if (notebookContainer) {{\n",
       "    x.observe(notebookContainer, {childList: true});\n",
       "}}\n",
       "\n",
       "// Listen for the clearing of the current output cell\n",
       "var outputEl = gd.closest('.output');\n",
       "if (outputEl) {{\n",
       "    x.observe(outputEl, {childList: true});\n",
       "}}\n",
       "\n",
       "                        })                };                });            </script>        </div>"
      ]
     },
     "metadata": {},
     "output_type": "display_data"
    }
   ],
   "source": [
    "df.iplot(kind='box')"
   ]
  },
  {
   "cell_type": "code",
   "execution_count": 27,
   "id": "4ad531b4",
   "metadata": {},
   "outputs": [],
   "source": [
    "df3=pd.DataFrame({'x':[1,2,3,4,5],'y':[10,20,30,20,10],'z':[5,4,3,2,1]})"
   ]
  },
  {
   "cell_type": "code",
   "execution_count": 28,
   "id": "78a478c7",
   "metadata": {},
   "outputs": [
    {
     "data": {
      "application/vnd.plotly.v1+json": {
       "config": {
        "linkText": "Export to plot.ly",
        "plotlyServerURL": "https://plot.ly",
        "showLink": true
       },
       "data": [
        {
         "colorscale": [
          [
           0,
           "rgb(255, 153, 51)"
          ],
          [
           0.1111111111111111,
           "rgb(55, 128, 191)"
          ],
          [
           0.2222222222222222,
           "rgb(50, 171, 96)"
          ],
          [
           0.3333333333333333,
           "rgb(128, 0, 128)"
          ],
          [
           0.4444444444444444,
           "rgb(219, 64, 82)"
          ],
          [
           0.5555555555555556,
           "rgb(0, 128, 128)"
          ],
          [
           0.6666666666666666,
           "rgb(255, 255, 51)"
          ],
          [
           0.7777777777777778,
           "rgb(128, 128, 0)"
          ],
          [
           0.8888888888888888,
           "rgb(251, 128, 114)"
          ],
          [
           1,
           "rgb(128, 177, 211)"
          ]
         ],
         "type": "surface",
         "x": [
          0,
          1,
          2,
          3,
          4
         ],
         "y": [
          "x",
          "y",
          "z"
         ],
         "z": [
          [
           1,
           2,
           3,
           4,
           5
          ],
          [
           10,
           20,
           30,
           20,
           10
          ],
          [
           5,
           4,
           3,
           2,
           1
          ]
         ]
        }
       ],
       "layout": {
        "legend": {
         "bgcolor": "#F5F6F9",
         "font": {
          "color": "#4D5663"
         }
        },
        "paper_bgcolor": "#F5F6F9",
        "plot_bgcolor": "#F5F6F9",
        "template": {
         "data": {
          "bar": [
           {
            "error_x": {
             "color": "#2a3f5f"
            },
            "error_y": {
             "color": "#2a3f5f"
            },
            "marker": {
             "line": {
              "color": "#E5ECF6",
              "width": 0.5
             },
             "pattern": {
              "fillmode": "overlay",
              "size": 10,
              "solidity": 0.2
             }
            },
            "type": "bar"
           }
          ],
          "barpolar": [
           {
            "marker": {
             "line": {
              "color": "#E5ECF6",
              "width": 0.5
             },
             "pattern": {
              "fillmode": "overlay",
              "size": 10,
              "solidity": 0.2
             }
            },
            "type": "barpolar"
           }
          ],
          "carpet": [
           {
            "aaxis": {
             "endlinecolor": "#2a3f5f",
             "gridcolor": "white",
             "linecolor": "white",
             "minorgridcolor": "white",
             "startlinecolor": "#2a3f5f"
            },
            "baxis": {
             "endlinecolor": "#2a3f5f",
             "gridcolor": "white",
             "linecolor": "white",
             "minorgridcolor": "white",
             "startlinecolor": "#2a3f5f"
            },
            "type": "carpet"
           }
          ],
          "choropleth": [
           {
            "colorbar": {
             "outlinewidth": 0,
             "ticks": ""
            },
            "type": "choropleth"
           }
          ],
          "contour": [
           {
            "colorbar": {
             "outlinewidth": 0,
             "ticks": ""
            },
            "colorscale": [
             [
              0,
              "#0d0887"
             ],
             [
              0.1111111111111111,
              "#46039f"
             ],
             [
              0.2222222222222222,
              "#7201a8"
             ],
             [
              0.3333333333333333,
              "#9c179e"
             ],
             [
              0.4444444444444444,
              "#bd3786"
             ],
             [
              0.5555555555555556,
              "#d8576b"
             ],
             [
              0.6666666666666666,
              "#ed7953"
             ],
             [
              0.7777777777777778,
              "#fb9f3a"
             ],
             [
              0.8888888888888888,
              "#fdca26"
             ],
             [
              1,
              "#f0f921"
             ]
            ],
            "type": "contour"
           }
          ],
          "contourcarpet": [
           {
            "colorbar": {
             "outlinewidth": 0,
             "ticks": ""
            },
            "type": "contourcarpet"
           }
          ],
          "heatmap": [
           {
            "colorbar": {
             "outlinewidth": 0,
             "ticks": ""
            },
            "colorscale": [
             [
              0,
              "#0d0887"
             ],
             [
              0.1111111111111111,
              "#46039f"
             ],
             [
              0.2222222222222222,
              "#7201a8"
             ],
             [
              0.3333333333333333,
              "#9c179e"
             ],
             [
              0.4444444444444444,
              "#bd3786"
             ],
             [
              0.5555555555555556,
              "#d8576b"
             ],
             [
              0.6666666666666666,
              "#ed7953"
             ],
             [
              0.7777777777777778,
              "#fb9f3a"
             ],
             [
              0.8888888888888888,
              "#fdca26"
             ],
             [
              1,
              "#f0f921"
             ]
            ],
            "type": "heatmap"
           }
          ],
          "heatmapgl": [
           {
            "colorbar": {
             "outlinewidth": 0,
             "ticks": ""
            },
            "colorscale": [
             [
              0,
              "#0d0887"
             ],
             [
              0.1111111111111111,
              "#46039f"
             ],
             [
              0.2222222222222222,
              "#7201a8"
             ],
             [
              0.3333333333333333,
              "#9c179e"
             ],
             [
              0.4444444444444444,
              "#bd3786"
             ],
             [
              0.5555555555555556,
              "#d8576b"
             ],
             [
              0.6666666666666666,
              "#ed7953"
             ],
             [
              0.7777777777777778,
              "#fb9f3a"
             ],
             [
              0.8888888888888888,
              "#fdca26"
             ],
             [
              1,
              "#f0f921"
             ]
            ],
            "type": "heatmapgl"
           }
          ],
          "histogram": [
           {
            "marker": {
             "pattern": {
              "fillmode": "overlay",
              "size": 10,
              "solidity": 0.2
             }
            },
            "type": "histogram"
           }
          ],
          "histogram2d": [
           {
            "colorbar": {
             "outlinewidth": 0,
             "ticks": ""
            },
            "colorscale": [
             [
              0,
              "#0d0887"
             ],
             [
              0.1111111111111111,
              "#46039f"
             ],
             [
              0.2222222222222222,
              "#7201a8"
             ],
             [
              0.3333333333333333,
              "#9c179e"
             ],
             [
              0.4444444444444444,
              "#bd3786"
             ],
             [
              0.5555555555555556,
              "#d8576b"
             ],
             [
              0.6666666666666666,
              "#ed7953"
             ],
             [
              0.7777777777777778,
              "#fb9f3a"
             ],
             [
              0.8888888888888888,
              "#fdca26"
             ],
             [
              1,
              "#f0f921"
             ]
            ],
            "type": "histogram2d"
           }
          ],
          "histogram2dcontour": [
           {
            "colorbar": {
             "outlinewidth": 0,
             "ticks": ""
            },
            "colorscale": [
             [
              0,
              "#0d0887"
             ],
             [
              0.1111111111111111,
              "#46039f"
             ],
             [
              0.2222222222222222,
              "#7201a8"
             ],
             [
              0.3333333333333333,
              "#9c179e"
             ],
             [
              0.4444444444444444,
              "#bd3786"
             ],
             [
              0.5555555555555556,
              "#d8576b"
             ],
             [
              0.6666666666666666,
              "#ed7953"
             ],
             [
              0.7777777777777778,
              "#fb9f3a"
             ],
             [
              0.8888888888888888,
              "#fdca26"
             ],
             [
              1,
              "#f0f921"
             ]
            ],
            "type": "histogram2dcontour"
           }
          ],
          "mesh3d": [
           {
            "colorbar": {
             "outlinewidth": 0,
             "ticks": ""
            },
            "type": "mesh3d"
           }
          ],
          "parcoords": [
           {
            "line": {
             "colorbar": {
              "outlinewidth": 0,
              "ticks": ""
             }
            },
            "type": "parcoords"
           }
          ],
          "pie": [
           {
            "automargin": true,
            "type": "pie"
           }
          ],
          "scatter": [
           {
            "fillpattern": {
             "fillmode": "overlay",
             "size": 10,
             "solidity": 0.2
            },
            "type": "scatter"
           }
          ],
          "scatter3d": [
           {
            "line": {
             "colorbar": {
              "outlinewidth": 0,
              "ticks": ""
             }
            },
            "marker": {
             "colorbar": {
              "outlinewidth": 0,
              "ticks": ""
             }
            },
            "type": "scatter3d"
           }
          ],
          "scattercarpet": [
           {
            "marker": {
             "colorbar": {
              "outlinewidth": 0,
              "ticks": ""
             }
            },
            "type": "scattercarpet"
           }
          ],
          "scattergeo": [
           {
            "marker": {
             "colorbar": {
              "outlinewidth": 0,
              "ticks": ""
             }
            },
            "type": "scattergeo"
           }
          ],
          "scattergl": [
           {
            "marker": {
             "colorbar": {
              "outlinewidth": 0,
              "ticks": ""
             }
            },
            "type": "scattergl"
           }
          ],
          "scattermapbox": [
           {
            "marker": {
             "colorbar": {
              "outlinewidth": 0,
              "ticks": ""
             }
            },
            "type": "scattermapbox"
           }
          ],
          "scatterpolar": [
           {
            "marker": {
             "colorbar": {
              "outlinewidth": 0,
              "ticks": ""
             }
            },
            "type": "scatterpolar"
           }
          ],
          "scatterpolargl": [
           {
            "marker": {
             "colorbar": {
              "outlinewidth": 0,
              "ticks": ""
             }
            },
            "type": "scatterpolargl"
           }
          ],
          "scatterternary": [
           {
            "marker": {
             "colorbar": {
              "outlinewidth": 0,
              "ticks": ""
             }
            },
            "type": "scatterternary"
           }
          ],
          "surface": [
           {
            "colorbar": {
             "outlinewidth": 0,
             "ticks": ""
            },
            "colorscale": [
             [
              0,
              "#0d0887"
             ],
             [
              0.1111111111111111,
              "#46039f"
             ],
             [
              0.2222222222222222,
              "#7201a8"
             ],
             [
              0.3333333333333333,
              "#9c179e"
             ],
             [
              0.4444444444444444,
              "#bd3786"
             ],
             [
              0.5555555555555556,
              "#d8576b"
             ],
             [
              0.6666666666666666,
              "#ed7953"
             ],
             [
              0.7777777777777778,
              "#fb9f3a"
             ],
             [
              0.8888888888888888,
              "#fdca26"
             ],
             [
              1,
              "#f0f921"
             ]
            ],
            "type": "surface"
           }
          ],
          "table": [
           {
            "cells": {
             "fill": {
              "color": "#EBF0F8"
             },
             "line": {
              "color": "white"
             }
            },
            "header": {
             "fill": {
              "color": "#C8D4E3"
             },
             "line": {
              "color": "white"
             }
            },
            "type": "table"
           }
          ]
         },
         "layout": {
          "annotationdefaults": {
           "arrowcolor": "#2a3f5f",
           "arrowhead": 0,
           "arrowwidth": 1
          },
          "autotypenumbers": "strict",
          "coloraxis": {
           "colorbar": {
            "outlinewidth": 0,
            "ticks": ""
           }
          },
          "colorscale": {
           "diverging": [
            [
             0,
             "#8e0152"
            ],
            [
             0.1,
             "#c51b7d"
            ],
            [
             0.2,
             "#de77ae"
            ],
            [
             0.3,
             "#f1b6da"
            ],
            [
             0.4,
             "#fde0ef"
            ],
            [
             0.5,
             "#f7f7f7"
            ],
            [
             0.6,
             "#e6f5d0"
            ],
            [
             0.7,
             "#b8e186"
            ],
            [
             0.8,
             "#7fbc41"
            ],
            [
             0.9,
             "#4d9221"
            ],
            [
             1,
             "#276419"
            ]
           ],
           "sequential": [
            [
             0,
             "#0d0887"
            ],
            [
             0.1111111111111111,
             "#46039f"
            ],
            [
             0.2222222222222222,
             "#7201a8"
            ],
            [
             0.3333333333333333,
             "#9c179e"
            ],
            [
             0.4444444444444444,
             "#bd3786"
            ],
            [
             0.5555555555555556,
             "#d8576b"
            ],
            [
             0.6666666666666666,
             "#ed7953"
            ],
            [
             0.7777777777777778,
             "#fb9f3a"
            ],
            [
             0.8888888888888888,
             "#fdca26"
            ],
            [
             1,
             "#f0f921"
            ]
           ],
           "sequentialminus": [
            [
             0,
             "#0d0887"
            ],
            [
             0.1111111111111111,
             "#46039f"
            ],
            [
             0.2222222222222222,
             "#7201a8"
            ],
            [
             0.3333333333333333,
             "#9c179e"
            ],
            [
             0.4444444444444444,
             "#bd3786"
            ],
            [
             0.5555555555555556,
             "#d8576b"
            ],
            [
             0.6666666666666666,
             "#ed7953"
            ],
            [
             0.7777777777777778,
             "#fb9f3a"
            ],
            [
             0.8888888888888888,
             "#fdca26"
            ],
            [
             1,
             "#f0f921"
            ]
           ]
          },
          "colorway": [
           "#636efa",
           "#EF553B",
           "#00cc96",
           "#ab63fa",
           "#FFA15A",
           "#19d3f3",
           "#FF6692",
           "#B6E880",
           "#FF97FF",
           "#FECB52"
          ],
          "font": {
           "color": "#2a3f5f"
          },
          "geo": {
           "bgcolor": "white",
           "lakecolor": "white",
           "landcolor": "#E5ECF6",
           "showlakes": true,
           "showland": true,
           "subunitcolor": "white"
          },
          "hoverlabel": {
           "align": "left"
          },
          "hovermode": "closest",
          "mapbox": {
           "style": "light"
          },
          "paper_bgcolor": "white",
          "plot_bgcolor": "#E5ECF6",
          "polar": {
           "angularaxis": {
            "gridcolor": "white",
            "linecolor": "white",
            "ticks": ""
           },
           "bgcolor": "#E5ECF6",
           "radialaxis": {
            "gridcolor": "white",
            "linecolor": "white",
            "ticks": ""
           }
          },
          "scene": {
           "xaxis": {
            "backgroundcolor": "#E5ECF6",
            "gridcolor": "white",
            "gridwidth": 2,
            "linecolor": "white",
            "showbackground": true,
            "ticks": "",
            "zerolinecolor": "white"
           },
           "yaxis": {
            "backgroundcolor": "#E5ECF6",
            "gridcolor": "white",
            "gridwidth": 2,
            "linecolor": "white",
            "showbackground": true,
            "ticks": "",
            "zerolinecolor": "white"
           },
           "zaxis": {
            "backgroundcolor": "#E5ECF6",
            "gridcolor": "white",
            "gridwidth": 2,
            "linecolor": "white",
            "showbackground": true,
            "ticks": "",
            "zerolinecolor": "white"
           }
          },
          "shapedefaults": {
           "line": {
            "color": "#2a3f5f"
           }
          },
          "ternary": {
           "aaxis": {
            "gridcolor": "white",
            "linecolor": "white",
            "ticks": ""
           },
           "baxis": {
            "gridcolor": "white",
            "linecolor": "white",
            "ticks": ""
           },
           "bgcolor": "#E5ECF6",
           "caxis": {
            "gridcolor": "white",
            "linecolor": "white",
            "ticks": ""
           }
          },
          "title": {
           "x": 0.05
          },
          "xaxis": {
           "automargin": true,
           "gridcolor": "white",
           "linecolor": "white",
           "ticks": "",
           "title": {
            "standoff": 15
           },
           "zerolinecolor": "white",
           "zerolinewidth": 2
          },
          "yaxis": {
           "automargin": true,
           "gridcolor": "white",
           "linecolor": "white",
           "ticks": "",
           "title": {
            "standoff": 15
           },
           "zerolinecolor": "white",
           "zerolinewidth": 2
          }
         }
        },
        "title": {
         "font": {
          "color": "#4D5663"
         }
        },
        "xaxis": {
         "gridcolor": "#E1E5ED",
         "showgrid": true,
         "tickfont": {
          "color": "#4D5663"
         },
         "title": {
          "font": {
           "color": "#4D5663"
          },
          "text": ""
         },
         "zerolinecolor": "#E1E5ED"
        },
        "yaxis": {
         "gridcolor": "#E1E5ED",
         "showgrid": true,
         "tickfont": {
          "color": "#4D5663"
         },
         "title": {
          "font": {
           "color": "#4D5663"
          },
          "text": ""
         },
         "zerolinecolor": "#E1E5ED"
        }
       }
      },
      "text/html": [
       "<div>                            <div id=\"cc1f56f2-84c6-492f-8425-ad8c6da6da63\" class=\"plotly-graph-div\" style=\"height:525px; width:100%;\"></div>            <script type=\"text/javascript\">                require([\"plotly\"], function(Plotly) {                    window.PLOTLYENV=window.PLOTLYENV || {};\n",
       "                    window.PLOTLYENV.BASE_URL='https://plot.ly';                                    if (document.getElementById(\"cc1f56f2-84c6-492f-8425-ad8c6da6da63\")) {                    Plotly.newPlot(                        \"cc1f56f2-84c6-492f-8425-ad8c6da6da63\",                        [{\"colorscale\":[[0.0,\"rgb(255, 153, 51)\"],[0.1111111111111111,\"rgb(55, 128, 191)\"],[0.2222222222222222,\"rgb(50, 171, 96)\"],[0.3333333333333333,\"rgb(128, 0, 128)\"],[0.4444444444444444,\"rgb(219, 64, 82)\"],[0.5555555555555556,\"rgb(0, 128, 128)\"],[0.6666666666666666,\"rgb(255, 255, 51)\"],[0.7777777777777778,\"rgb(128, 128, 0)\"],[0.8888888888888888,\"rgb(251, 128, 114)\"],[1.0,\"rgb(128, 177, 211)\"]],\"x\":[0,1,2,3,4],\"y\":[\"x\",\"y\",\"z\"],\"z\":[[1,2,3,4,5],[10,20,30,20,10],[5,4,3,2,1]],\"type\":\"surface\"}],                        {\"legend\":{\"bgcolor\":\"#F5F6F9\",\"font\":{\"color\":\"#4D5663\"}},\"paper_bgcolor\":\"#F5F6F9\",\"plot_bgcolor\":\"#F5F6F9\",\"template\":{\"data\":{\"barpolar\":[{\"marker\":{\"line\":{\"color\":\"#E5ECF6\",\"width\":0.5},\"pattern\":{\"fillmode\":\"overlay\",\"size\":10,\"solidity\":0.2}},\"type\":\"barpolar\"}],\"bar\":[{\"error_x\":{\"color\":\"#2a3f5f\"},\"error_y\":{\"color\":\"#2a3f5f\"},\"marker\":{\"line\":{\"color\":\"#E5ECF6\",\"width\":0.5},\"pattern\":{\"fillmode\":\"overlay\",\"size\":10,\"solidity\":0.2}},\"type\":\"bar\"}],\"carpet\":[{\"aaxis\":{\"endlinecolor\":\"#2a3f5f\",\"gridcolor\":\"white\",\"linecolor\":\"white\",\"minorgridcolor\":\"white\",\"startlinecolor\":\"#2a3f5f\"},\"baxis\":{\"endlinecolor\":\"#2a3f5f\",\"gridcolor\":\"white\",\"linecolor\":\"white\",\"minorgridcolor\":\"white\",\"startlinecolor\":\"#2a3f5f\"},\"type\":\"carpet\"}],\"choropleth\":[{\"colorbar\":{\"outlinewidth\":0,\"ticks\":\"\"},\"type\":\"choropleth\"}],\"contourcarpet\":[{\"colorbar\":{\"outlinewidth\":0,\"ticks\":\"\"},\"type\":\"contourcarpet\"}],\"contour\":[{\"colorbar\":{\"outlinewidth\":0,\"ticks\":\"\"},\"colorscale\":[[0.0,\"#0d0887\"],[0.1111111111111111,\"#46039f\"],[0.2222222222222222,\"#7201a8\"],[0.3333333333333333,\"#9c179e\"],[0.4444444444444444,\"#bd3786\"],[0.5555555555555556,\"#d8576b\"],[0.6666666666666666,\"#ed7953\"],[0.7777777777777778,\"#fb9f3a\"],[0.8888888888888888,\"#fdca26\"],[1.0,\"#f0f921\"]],\"type\":\"contour\"}],\"heatmapgl\":[{\"colorbar\":{\"outlinewidth\":0,\"ticks\":\"\"},\"colorscale\":[[0.0,\"#0d0887\"],[0.1111111111111111,\"#46039f\"],[0.2222222222222222,\"#7201a8\"],[0.3333333333333333,\"#9c179e\"],[0.4444444444444444,\"#bd3786\"],[0.5555555555555556,\"#d8576b\"],[0.6666666666666666,\"#ed7953\"],[0.7777777777777778,\"#fb9f3a\"],[0.8888888888888888,\"#fdca26\"],[1.0,\"#f0f921\"]],\"type\":\"heatmapgl\"}],\"heatmap\":[{\"colorbar\":{\"outlinewidth\":0,\"ticks\":\"\"},\"colorscale\":[[0.0,\"#0d0887\"],[0.1111111111111111,\"#46039f\"],[0.2222222222222222,\"#7201a8\"],[0.3333333333333333,\"#9c179e\"],[0.4444444444444444,\"#bd3786\"],[0.5555555555555556,\"#d8576b\"],[0.6666666666666666,\"#ed7953\"],[0.7777777777777778,\"#fb9f3a\"],[0.8888888888888888,\"#fdca26\"],[1.0,\"#f0f921\"]],\"type\":\"heatmap\"}],\"histogram2dcontour\":[{\"colorbar\":{\"outlinewidth\":0,\"ticks\":\"\"},\"colorscale\":[[0.0,\"#0d0887\"],[0.1111111111111111,\"#46039f\"],[0.2222222222222222,\"#7201a8\"],[0.3333333333333333,\"#9c179e\"],[0.4444444444444444,\"#bd3786\"],[0.5555555555555556,\"#d8576b\"],[0.6666666666666666,\"#ed7953\"],[0.7777777777777778,\"#fb9f3a\"],[0.8888888888888888,\"#fdca26\"],[1.0,\"#f0f921\"]],\"type\":\"histogram2dcontour\"}],\"histogram2d\":[{\"colorbar\":{\"outlinewidth\":0,\"ticks\":\"\"},\"colorscale\":[[0.0,\"#0d0887\"],[0.1111111111111111,\"#46039f\"],[0.2222222222222222,\"#7201a8\"],[0.3333333333333333,\"#9c179e\"],[0.4444444444444444,\"#bd3786\"],[0.5555555555555556,\"#d8576b\"],[0.6666666666666666,\"#ed7953\"],[0.7777777777777778,\"#fb9f3a\"],[0.8888888888888888,\"#fdca26\"],[1.0,\"#f0f921\"]],\"type\":\"histogram2d\"}],\"histogram\":[{\"marker\":{\"pattern\":{\"fillmode\":\"overlay\",\"size\":10,\"solidity\":0.2}},\"type\":\"histogram\"}],\"mesh3d\":[{\"colorbar\":{\"outlinewidth\":0,\"ticks\":\"\"},\"type\":\"mesh3d\"}],\"parcoords\":[{\"line\":{\"colorbar\":{\"outlinewidth\":0,\"ticks\":\"\"}},\"type\":\"parcoords\"}],\"pie\":[{\"automargin\":true,\"type\":\"pie\"}],\"scatter3d\":[{\"line\":{\"colorbar\":{\"outlinewidth\":0,\"ticks\":\"\"}},\"marker\":{\"colorbar\":{\"outlinewidth\":0,\"ticks\":\"\"}},\"type\":\"scatter3d\"}],\"scattercarpet\":[{\"marker\":{\"colorbar\":{\"outlinewidth\":0,\"ticks\":\"\"}},\"type\":\"scattercarpet\"}],\"scattergeo\":[{\"marker\":{\"colorbar\":{\"outlinewidth\":0,\"ticks\":\"\"}},\"type\":\"scattergeo\"}],\"scattergl\":[{\"marker\":{\"colorbar\":{\"outlinewidth\":0,\"ticks\":\"\"}},\"type\":\"scattergl\"}],\"scattermapbox\":[{\"marker\":{\"colorbar\":{\"outlinewidth\":0,\"ticks\":\"\"}},\"type\":\"scattermapbox\"}],\"scatterpolargl\":[{\"marker\":{\"colorbar\":{\"outlinewidth\":0,\"ticks\":\"\"}},\"type\":\"scatterpolargl\"}],\"scatterpolar\":[{\"marker\":{\"colorbar\":{\"outlinewidth\":0,\"ticks\":\"\"}},\"type\":\"scatterpolar\"}],\"scatter\":[{\"fillpattern\":{\"fillmode\":\"overlay\",\"size\":10,\"solidity\":0.2},\"type\":\"scatter\"}],\"scatterternary\":[{\"marker\":{\"colorbar\":{\"outlinewidth\":0,\"ticks\":\"\"}},\"type\":\"scatterternary\"}],\"surface\":[{\"colorbar\":{\"outlinewidth\":0,\"ticks\":\"\"},\"colorscale\":[[0.0,\"#0d0887\"],[0.1111111111111111,\"#46039f\"],[0.2222222222222222,\"#7201a8\"],[0.3333333333333333,\"#9c179e\"],[0.4444444444444444,\"#bd3786\"],[0.5555555555555556,\"#d8576b\"],[0.6666666666666666,\"#ed7953\"],[0.7777777777777778,\"#fb9f3a\"],[0.8888888888888888,\"#fdca26\"],[1.0,\"#f0f921\"]],\"type\":\"surface\"}],\"table\":[{\"cells\":{\"fill\":{\"color\":\"#EBF0F8\"},\"line\":{\"color\":\"white\"}},\"header\":{\"fill\":{\"color\":\"#C8D4E3\"},\"line\":{\"color\":\"white\"}},\"type\":\"table\"}]},\"layout\":{\"annotationdefaults\":{\"arrowcolor\":\"#2a3f5f\",\"arrowhead\":0,\"arrowwidth\":1},\"autotypenumbers\":\"strict\",\"coloraxis\":{\"colorbar\":{\"outlinewidth\":0,\"ticks\":\"\"}},\"colorscale\":{\"diverging\":[[0,\"#8e0152\"],[0.1,\"#c51b7d\"],[0.2,\"#de77ae\"],[0.3,\"#f1b6da\"],[0.4,\"#fde0ef\"],[0.5,\"#f7f7f7\"],[0.6,\"#e6f5d0\"],[0.7,\"#b8e186\"],[0.8,\"#7fbc41\"],[0.9,\"#4d9221\"],[1,\"#276419\"]],\"sequential\":[[0.0,\"#0d0887\"],[0.1111111111111111,\"#46039f\"],[0.2222222222222222,\"#7201a8\"],[0.3333333333333333,\"#9c179e\"],[0.4444444444444444,\"#bd3786\"],[0.5555555555555556,\"#d8576b\"],[0.6666666666666666,\"#ed7953\"],[0.7777777777777778,\"#fb9f3a\"],[0.8888888888888888,\"#fdca26\"],[1.0,\"#f0f921\"]],\"sequentialminus\":[[0.0,\"#0d0887\"],[0.1111111111111111,\"#46039f\"],[0.2222222222222222,\"#7201a8\"],[0.3333333333333333,\"#9c179e\"],[0.4444444444444444,\"#bd3786\"],[0.5555555555555556,\"#d8576b\"],[0.6666666666666666,\"#ed7953\"],[0.7777777777777778,\"#fb9f3a\"],[0.8888888888888888,\"#fdca26\"],[1.0,\"#f0f921\"]]},\"colorway\":[\"#636efa\",\"#EF553B\",\"#00cc96\",\"#ab63fa\",\"#FFA15A\",\"#19d3f3\",\"#FF6692\",\"#B6E880\",\"#FF97FF\",\"#FECB52\"],\"font\":{\"color\":\"#2a3f5f\"},\"geo\":{\"bgcolor\":\"white\",\"lakecolor\":\"white\",\"landcolor\":\"#E5ECF6\",\"showlakes\":true,\"showland\":true,\"subunitcolor\":\"white\"},\"hoverlabel\":{\"align\":\"left\"},\"hovermode\":\"closest\",\"mapbox\":{\"style\":\"light\"},\"paper_bgcolor\":\"white\",\"plot_bgcolor\":\"#E5ECF6\",\"polar\":{\"angularaxis\":{\"gridcolor\":\"white\",\"linecolor\":\"white\",\"ticks\":\"\"},\"bgcolor\":\"#E5ECF6\",\"radialaxis\":{\"gridcolor\":\"white\",\"linecolor\":\"white\",\"ticks\":\"\"}},\"scene\":{\"xaxis\":{\"backgroundcolor\":\"#E5ECF6\",\"gridcolor\":\"white\",\"gridwidth\":2,\"linecolor\":\"white\",\"showbackground\":true,\"ticks\":\"\",\"zerolinecolor\":\"white\"},\"yaxis\":{\"backgroundcolor\":\"#E5ECF6\",\"gridcolor\":\"white\",\"gridwidth\":2,\"linecolor\":\"white\",\"showbackground\":true,\"ticks\":\"\",\"zerolinecolor\":\"white\"},\"zaxis\":{\"backgroundcolor\":\"#E5ECF6\",\"gridcolor\":\"white\",\"gridwidth\":2,\"linecolor\":\"white\",\"showbackground\":true,\"ticks\":\"\",\"zerolinecolor\":\"white\"}},\"shapedefaults\":{\"line\":{\"color\":\"#2a3f5f\"}},\"ternary\":{\"aaxis\":{\"gridcolor\":\"white\",\"linecolor\":\"white\",\"ticks\":\"\"},\"baxis\":{\"gridcolor\":\"white\",\"linecolor\":\"white\",\"ticks\":\"\"},\"bgcolor\":\"#E5ECF6\",\"caxis\":{\"gridcolor\":\"white\",\"linecolor\":\"white\",\"ticks\":\"\"}},\"title\":{\"x\":0.05},\"xaxis\":{\"automargin\":true,\"gridcolor\":\"white\",\"linecolor\":\"white\",\"ticks\":\"\",\"title\":{\"standoff\":15},\"zerolinecolor\":\"white\",\"zerolinewidth\":2},\"yaxis\":{\"automargin\":true,\"gridcolor\":\"white\",\"linecolor\":\"white\",\"ticks\":\"\",\"title\":{\"standoff\":15},\"zerolinecolor\":\"white\",\"zerolinewidth\":2}}},\"title\":{\"font\":{\"color\":\"#4D5663\"}},\"xaxis\":{\"gridcolor\":\"#E1E5ED\",\"showgrid\":true,\"tickfont\":{\"color\":\"#4D5663\"},\"title\":{\"font\":{\"color\":\"#4D5663\"},\"text\":\"\"},\"zerolinecolor\":\"#E1E5ED\"},\"yaxis\":{\"gridcolor\":\"#E1E5ED\",\"showgrid\":true,\"tickfont\":{\"color\":\"#4D5663\"},\"title\":{\"font\":{\"color\":\"#4D5663\"},\"text\":\"\"},\"zerolinecolor\":\"#E1E5ED\"}},                        {\"showLink\": true, \"linkText\": \"Export to plot.ly\", \"plotlyServerURL\": \"https://plot.ly\", \"responsive\": true}                    ).then(function(){\n",
       "                            \n",
       "var gd = document.getElementById('cc1f56f2-84c6-492f-8425-ad8c6da6da63');\n",
       "var x = new MutationObserver(function (mutations, observer) {{\n",
       "        var display = window.getComputedStyle(gd).display;\n",
       "        if (!display || display === 'none') {{\n",
       "            console.log([gd, 'removed!']);\n",
       "            Plotly.purge(gd);\n",
       "            observer.disconnect();\n",
       "        }}\n",
       "}});\n",
       "\n",
       "// Listen for the removal of the full notebook cells\n",
       "var notebookContainer = gd.closest('#notebook-container');\n",
       "if (notebookContainer) {{\n",
       "    x.observe(notebookContainer, {childList: true});\n",
       "}}\n",
       "\n",
       "// Listen for the clearing of the current output cell\n",
       "var outputEl = gd.closest('.output');\n",
       "if (outputEl) {{\n",
       "    x.observe(outputEl, {childList: true});\n",
       "}}\n",
       "\n",
       "                        })                };                });            </script>        </div>"
      ]
     },
     "metadata": {},
     "output_type": "display_data"
    }
   ],
   "source": [
    "df3.iplot(kind='surface')"
   ]
  },
  {
   "cell_type": "code",
   "execution_count": 29,
   "id": "082d304b",
   "metadata": {},
   "outputs": [
    {
     "data": {
      "application/vnd.plotly.v1+json": {
       "config": {
        "linkText": "Export to plot.ly",
        "plotlyServerURL": "https://plot.ly",
        "showLink": true
       },
       "data": [
        {
         "colorscale": [
          [
           0,
           "rgb(165,0,38)"
          ],
          [
           0.1,
           "rgb(215,48,39)"
          ],
          [
           0.2,
           "rgb(244,109,67)"
          ],
          [
           0.3,
           "rgb(253,174,97)"
          ],
          [
           0.4,
           "rgb(254,224,144)"
          ],
          [
           0.5,
           "rgb(255,255,191)"
          ],
          [
           0.6,
           "rgb(224,243,248)"
          ],
          [
           0.7,
           "rgb(171,217,233)"
          ],
          [
           0.8,
           "rgb(116,173,209)"
          ],
          [
           0.9,
           "rgb(69,117,180)"
          ],
          [
           1,
           "rgb(49,54,149)"
          ]
         ],
         "type": "surface",
         "x": [
          0,
          1,
          2,
          3,
          4
         ],
         "y": [
          "x",
          "y",
          "z"
         ],
         "z": [
          [
           1,
           2,
           3,
           4,
           5
          ],
          [
           10,
           20,
           30,
           20,
           10
          ],
          [
           5,
           4,
           3,
           2,
           1
          ]
         ]
        }
       ],
       "layout": {
        "legend": {
         "bgcolor": "#F5F6F9",
         "font": {
          "color": "#4D5663"
         }
        },
        "paper_bgcolor": "#F5F6F9",
        "plot_bgcolor": "#F5F6F9",
        "template": {
         "data": {
          "bar": [
           {
            "error_x": {
             "color": "#2a3f5f"
            },
            "error_y": {
             "color": "#2a3f5f"
            },
            "marker": {
             "line": {
              "color": "#E5ECF6",
              "width": 0.5
             },
             "pattern": {
              "fillmode": "overlay",
              "size": 10,
              "solidity": 0.2
             }
            },
            "type": "bar"
           }
          ],
          "barpolar": [
           {
            "marker": {
             "line": {
              "color": "#E5ECF6",
              "width": 0.5
             },
             "pattern": {
              "fillmode": "overlay",
              "size": 10,
              "solidity": 0.2
             }
            },
            "type": "barpolar"
           }
          ],
          "carpet": [
           {
            "aaxis": {
             "endlinecolor": "#2a3f5f",
             "gridcolor": "white",
             "linecolor": "white",
             "minorgridcolor": "white",
             "startlinecolor": "#2a3f5f"
            },
            "baxis": {
             "endlinecolor": "#2a3f5f",
             "gridcolor": "white",
             "linecolor": "white",
             "minorgridcolor": "white",
             "startlinecolor": "#2a3f5f"
            },
            "type": "carpet"
           }
          ],
          "choropleth": [
           {
            "colorbar": {
             "outlinewidth": 0,
             "ticks": ""
            },
            "type": "choropleth"
           }
          ],
          "contour": [
           {
            "colorbar": {
             "outlinewidth": 0,
             "ticks": ""
            },
            "colorscale": [
             [
              0,
              "#0d0887"
             ],
             [
              0.1111111111111111,
              "#46039f"
             ],
             [
              0.2222222222222222,
              "#7201a8"
             ],
             [
              0.3333333333333333,
              "#9c179e"
             ],
             [
              0.4444444444444444,
              "#bd3786"
             ],
             [
              0.5555555555555556,
              "#d8576b"
             ],
             [
              0.6666666666666666,
              "#ed7953"
             ],
             [
              0.7777777777777778,
              "#fb9f3a"
             ],
             [
              0.8888888888888888,
              "#fdca26"
             ],
             [
              1,
              "#f0f921"
             ]
            ],
            "type": "contour"
           }
          ],
          "contourcarpet": [
           {
            "colorbar": {
             "outlinewidth": 0,
             "ticks": ""
            },
            "type": "contourcarpet"
           }
          ],
          "heatmap": [
           {
            "colorbar": {
             "outlinewidth": 0,
             "ticks": ""
            },
            "colorscale": [
             [
              0,
              "#0d0887"
             ],
             [
              0.1111111111111111,
              "#46039f"
             ],
             [
              0.2222222222222222,
              "#7201a8"
             ],
             [
              0.3333333333333333,
              "#9c179e"
             ],
             [
              0.4444444444444444,
              "#bd3786"
             ],
             [
              0.5555555555555556,
              "#d8576b"
             ],
             [
              0.6666666666666666,
              "#ed7953"
             ],
             [
              0.7777777777777778,
              "#fb9f3a"
             ],
             [
              0.8888888888888888,
              "#fdca26"
             ],
             [
              1,
              "#f0f921"
             ]
            ],
            "type": "heatmap"
           }
          ],
          "heatmapgl": [
           {
            "colorbar": {
             "outlinewidth": 0,
             "ticks": ""
            },
            "colorscale": [
             [
              0,
              "#0d0887"
             ],
             [
              0.1111111111111111,
              "#46039f"
             ],
             [
              0.2222222222222222,
              "#7201a8"
             ],
             [
              0.3333333333333333,
              "#9c179e"
             ],
             [
              0.4444444444444444,
              "#bd3786"
             ],
             [
              0.5555555555555556,
              "#d8576b"
             ],
             [
              0.6666666666666666,
              "#ed7953"
             ],
             [
              0.7777777777777778,
              "#fb9f3a"
             ],
             [
              0.8888888888888888,
              "#fdca26"
             ],
             [
              1,
              "#f0f921"
             ]
            ],
            "type": "heatmapgl"
           }
          ],
          "histogram": [
           {
            "marker": {
             "pattern": {
              "fillmode": "overlay",
              "size": 10,
              "solidity": 0.2
             }
            },
            "type": "histogram"
           }
          ],
          "histogram2d": [
           {
            "colorbar": {
             "outlinewidth": 0,
             "ticks": ""
            },
            "colorscale": [
             [
              0,
              "#0d0887"
             ],
             [
              0.1111111111111111,
              "#46039f"
             ],
             [
              0.2222222222222222,
              "#7201a8"
             ],
             [
              0.3333333333333333,
              "#9c179e"
             ],
             [
              0.4444444444444444,
              "#bd3786"
             ],
             [
              0.5555555555555556,
              "#d8576b"
             ],
             [
              0.6666666666666666,
              "#ed7953"
             ],
             [
              0.7777777777777778,
              "#fb9f3a"
             ],
             [
              0.8888888888888888,
              "#fdca26"
             ],
             [
              1,
              "#f0f921"
             ]
            ],
            "type": "histogram2d"
           }
          ],
          "histogram2dcontour": [
           {
            "colorbar": {
             "outlinewidth": 0,
             "ticks": ""
            },
            "colorscale": [
             [
              0,
              "#0d0887"
             ],
             [
              0.1111111111111111,
              "#46039f"
             ],
             [
              0.2222222222222222,
              "#7201a8"
             ],
             [
              0.3333333333333333,
              "#9c179e"
             ],
             [
              0.4444444444444444,
              "#bd3786"
             ],
             [
              0.5555555555555556,
              "#d8576b"
             ],
             [
              0.6666666666666666,
              "#ed7953"
             ],
             [
              0.7777777777777778,
              "#fb9f3a"
             ],
             [
              0.8888888888888888,
              "#fdca26"
             ],
             [
              1,
              "#f0f921"
             ]
            ],
            "type": "histogram2dcontour"
           }
          ],
          "mesh3d": [
           {
            "colorbar": {
             "outlinewidth": 0,
             "ticks": ""
            },
            "type": "mesh3d"
           }
          ],
          "parcoords": [
           {
            "line": {
             "colorbar": {
              "outlinewidth": 0,
              "ticks": ""
             }
            },
            "type": "parcoords"
           }
          ],
          "pie": [
           {
            "automargin": true,
            "type": "pie"
           }
          ],
          "scatter": [
           {
            "fillpattern": {
             "fillmode": "overlay",
             "size": 10,
             "solidity": 0.2
            },
            "type": "scatter"
           }
          ],
          "scatter3d": [
           {
            "line": {
             "colorbar": {
              "outlinewidth": 0,
              "ticks": ""
             }
            },
            "marker": {
             "colorbar": {
              "outlinewidth": 0,
              "ticks": ""
             }
            },
            "type": "scatter3d"
           }
          ],
          "scattercarpet": [
           {
            "marker": {
             "colorbar": {
              "outlinewidth": 0,
              "ticks": ""
             }
            },
            "type": "scattercarpet"
           }
          ],
          "scattergeo": [
           {
            "marker": {
             "colorbar": {
              "outlinewidth": 0,
              "ticks": ""
             }
            },
            "type": "scattergeo"
           }
          ],
          "scattergl": [
           {
            "marker": {
             "colorbar": {
              "outlinewidth": 0,
              "ticks": ""
             }
            },
            "type": "scattergl"
           }
          ],
          "scattermapbox": [
           {
            "marker": {
             "colorbar": {
              "outlinewidth": 0,
              "ticks": ""
             }
            },
            "type": "scattermapbox"
           }
          ],
          "scatterpolar": [
           {
            "marker": {
             "colorbar": {
              "outlinewidth": 0,
              "ticks": ""
             }
            },
            "type": "scatterpolar"
           }
          ],
          "scatterpolargl": [
           {
            "marker": {
             "colorbar": {
              "outlinewidth": 0,
              "ticks": ""
             }
            },
            "type": "scatterpolargl"
           }
          ],
          "scatterternary": [
           {
            "marker": {
             "colorbar": {
              "outlinewidth": 0,
              "ticks": ""
             }
            },
            "type": "scatterternary"
           }
          ],
          "surface": [
           {
            "colorbar": {
             "outlinewidth": 0,
             "ticks": ""
            },
            "colorscale": [
             [
              0,
              "#0d0887"
             ],
             [
              0.1111111111111111,
              "#46039f"
             ],
             [
              0.2222222222222222,
              "#7201a8"
             ],
             [
              0.3333333333333333,
              "#9c179e"
             ],
             [
              0.4444444444444444,
              "#bd3786"
             ],
             [
              0.5555555555555556,
              "#d8576b"
             ],
             [
              0.6666666666666666,
              "#ed7953"
             ],
             [
              0.7777777777777778,
              "#fb9f3a"
             ],
             [
              0.8888888888888888,
              "#fdca26"
             ],
             [
              1,
              "#f0f921"
             ]
            ],
            "type": "surface"
           }
          ],
          "table": [
           {
            "cells": {
             "fill": {
              "color": "#EBF0F8"
             },
             "line": {
              "color": "white"
             }
            },
            "header": {
             "fill": {
              "color": "#C8D4E3"
             },
             "line": {
              "color": "white"
             }
            },
            "type": "table"
           }
          ]
         },
         "layout": {
          "annotationdefaults": {
           "arrowcolor": "#2a3f5f",
           "arrowhead": 0,
           "arrowwidth": 1
          },
          "autotypenumbers": "strict",
          "coloraxis": {
           "colorbar": {
            "outlinewidth": 0,
            "ticks": ""
           }
          },
          "colorscale": {
           "diverging": [
            [
             0,
             "#8e0152"
            ],
            [
             0.1,
             "#c51b7d"
            ],
            [
             0.2,
             "#de77ae"
            ],
            [
             0.3,
             "#f1b6da"
            ],
            [
             0.4,
             "#fde0ef"
            ],
            [
             0.5,
             "#f7f7f7"
            ],
            [
             0.6,
             "#e6f5d0"
            ],
            [
             0.7,
             "#b8e186"
            ],
            [
             0.8,
             "#7fbc41"
            ],
            [
             0.9,
             "#4d9221"
            ],
            [
             1,
             "#276419"
            ]
           ],
           "sequential": [
            [
             0,
             "#0d0887"
            ],
            [
             0.1111111111111111,
             "#46039f"
            ],
            [
             0.2222222222222222,
             "#7201a8"
            ],
            [
             0.3333333333333333,
             "#9c179e"
            ],
            [
             0.4444444444444444,
             "#bd3786"
            ],
            [
             0.5555555555555556,
             "#d8576b"
            ],
            [
             0.6666666666666666,
             "#ed7953"
            ],
            [
             0.7777777777777778,
             "#fb9f3a"
            ],
            [
             0.8888888888888888,
             "#fdca26"
            ],
            [
             1,
             "#f0f921"
            ]
           ],
           "sequentialminus": [
            [
             0,
             "#0d0887"
            ],
            [
             0.1111111111111111,
             "#46039f"
            ],
            [
             0.2222222222222222,
             "#7201a8"
            ],
            [
             0.3333333333333333,
             "#9c179e"
            ],
            [
             0.4444444444444444,
             "#bd3786"
            ],
            [
             0.5555555555555556,
             "#d8576b"
            ],
            [
             0.6666666666666666,
             "#ed7953"
            ],
            [
             0.7777777777777778,
             "#fb9f3a"
            ],
            [
             0.8888888888888888,
             "#fdca26"
            ],
            [
             1,
             "#f0f921"
            ]
           ]
          },
          "colorway": [
           "#636efa",
           "#EF553B",
           "#00cc96",
           "#ab63fa",
           "#FFA15A",
           "#19d3f3",
           "#FF6692",
           "#B6E880",
           "#FF97FF",
           "#FECB52"
          ],
          "font": {
           "color": "#2a3f5f"
          },
          "geo": {
           "bgcolor": "white",
           "lakecolor": "white",
           "landcolor": "#E5ECF6",
           "showlakes": true,
           "showland": true,
           "subunitcolor": "white"
          },
          "hoverlabel": {
           "align": "left"
          },
          "hovermode": "closest",
          "mapbox": {
           "style": "light"
          },
          "paper_bgcolor": "white",
          "plot_bgcolor": "#E5ECF6",
          "polar": {
           "angularaxis": {
            "gridcolor": "white",
            "linecolor": "white",
            "ticks": ""
           },
           "bgcolor": "#E5ECF6",
           "radialaxis": {
            "gridcolor": "white",
            "linecolor": "white",
            "ticks": ""
           }
          },
          "scene": {
           "xaxis": {
            "backgroundcolor": "#E5ECF6",
            "gridcolor": "white",
            "gridwidth": 2,
            "linecolor": "white",
            "showbackground": true,
            "ticks": "",
            "zerolinecolor": "white"
           },
           "yaxis": {
            "backgroundcolor": "#E5ECF6",
            "gridcolor": "white",
            "gridwidth": 2,
            "linecolor": "white",
            "showbackground": true,
            "ticks": "",
            "zerolinecolor": "white"
           },
           "zaxis": {
            "backgroundcolor": "#E5ECF6",
            "gridcolor": "white",
            "gridwidth": 2,
            "linecolor": "white",
            "showbackground": true,
            "ticks": "",
            "zerolinecolor": "white"
           }
          },
          "shapedefaults": {
           "line": {
            "color": "#2a3f5f"
           }
          },
          "ternary": {
           "aaxis": {
            "gridcolor": "white",
            "linecolor": "white",
            "ticks": ""
           },
           "baxis": {
            "gridcolor": "white",
            "linecolor": "white",
            "ticks": ""
           },
           "bgcolor": "#E5ECF6",
           "caxis": {
            "gridcolor": "white",
            "linecolor": "white",
            "ticks": ""
           }
          },
          "title": {
           "x": 0.05
          },
          "xaxis": {
           "automargin": true,
           "gridcolor": "white",
           "linecolor": "white",
           "ticks": "",
           "title": {
            "standoff": 15
           },
           "zerolinecolor": "white",
           "zerolinewidth": 2
          },
          "yaxis": {
           "automargin": true,
           "gridcolor": "white",
           "linecolor": "white",
           "ticks": "",
           "title": {
            "standoff": 15
           },
           "zerolinecolor": "white",
           "zerolinewidth": 2
          }
         }
        },
        "title": {
         "font": {
          "color": "#4D5663"
         }
        },
        "xaxis": {
         "gridcolor": "#E1E5ED",
         "showgrid": true,
         "tickfont": {
          "color": "#4D5663"
         },
         "title": {
          "font": {
           "color": "#4D5663"
          },
          "text": ""
         },
         "zerolinecolor": "#E1E5ED"
        },
        "yaxis": {
         "gridcolor": "#E1E5ED",
         "showgrid": true,
         "tickfont": {
          "color": "#4D5663"
         },
         "title": {
          "font": {
           "color": "#4D5663"
          },
          "text": ""
         },
         "zerolinecolor": "#E1E5ED"
        }
       }
      },
      "text/html": [
       "<div>                            <div id=\"c179378c-0f7e-4dc3-b0a6-cc45726daac8\" class=\"plotly-graph-div\" style=\"height:525px; width:100%;\"></div>            <script type=\"text/javascript\">                require([\"plotly\"], function(Plotly) {                    window.PLOTLYENV=window.PLOTLYENV || {};\n",
       "                    window.PLOTLYENV.BASE_URL='https://plot.ly';                                    if (document.getElementById(\"c179378c-0f7e-4dc3-b0a6-cc45726daac8\")) {                    Plotly.newPlot(                        \"c179378c-0f7e-4dc3-b0a6-cc45726daac8\",                        [{\"colorscale\":[[0.0,\"rgb(165,0,38)\"],[0.1,\"rgb(215,48,39)\"],[0.2,\"rgb(244,109,67)\"],[0.3,\"rgb(253,174,97)\"],[0.4,\"rgb(254,224,144)\"],[0.5,\"rgb(255,255,191)\"],[0.6,\"rgb(224,243,248)\"],[0.7,\"rgb(171,217,233)\"],[0.8,\"rgb(116,173,209)\"],[0.9,\"rgb(69,117,180)\"],[1.0,\"rgb(49,54,149)\"]],\"x\":[0,1,2,3,4],\"y\":[\"x\",\"y\",\"z\"],\"z\":[[1,2,3,4,5],[10,20,30,20,10],[5,4,3,2,1]],\"type\":\"surface\"}],                        {\"legend\":{\"bgcolor\":\"#F5F6F9\",\"font\":{\"color\":\"#4D5663\"}},\"paper_bgcolor\":\"#F5F6F9\",\"plot_bgcolor\":\"#F5F6F9\",\"template\":{\"data\":{\"barpolar\":[{\"marker\":{\"line\":{\"color\":\"#E5ECF6\",\"width\":0.5},\"pattern\":{\"fillmode\":\"overlay\",\"size\":10,\"solidity\":0.2}},\"type\":\"barpolar\"}],\"bar\":[{\"error_x\":{\"color\":\"#2a3f5f\"},\"error_y\":{\"color\":\"#2a3f5f\"},\"marker\":{\"line\":{\"color\":\"#E5ECF6\",\"width\":0.5},\"pattern\":{\"fillmode\":\"overlay\",\"size\":10,\"solidity\":0.2}},\"type\":\"bar\"}],\"carpet\":[{\"aaxis\":{\"endlinecolor\":\"#2a3f5f\",\"gridcolor\":\"white\",\"linecolor\":\"white\",\"minorgridcolor\":\"white\",\"startlinecolor\":\"#2a3f5f\"},\"baxis\":{\"endlinecolor\":\"#2a3f5f\",\"gridcolor\":\"white\",\"linecolor\":\"white\",\"minorgridcolor\":\"white\",\"startlinecolor\":\"#2a3f5f\"},\"type\":\"carpet\"}],\"choropleth\":[{\"colorbar\":{\"outlinewidth\":0,\"ticks\":\"\"},\"type\":\"choropleth\"}],\"contourcarpet\":[{\"colorbar\":{\"outlinewidth\":0,\"ticks\":\"\"},\"type\":\"contourcarpet\"}],\"contour\":[{\"colorbar\":{\"outlinewidth\":0,\"ticks\":\"\"},\"colorscale\":[[0.0,\"#0d0887\"],[0.1111111111111111,\"#46039f\"],[0.2222222222222222,\"#7201a8\"],[0.3333333333333333,\"#9c179e\"],[0.4444444444444444,\"#bd3786\"],[0.5555555555555556,\"#d8576b\"],[0.6666666666666666,\"#ed7953\"],[0.7777777777777778,\"#fb9f3a\"],[0.8888888888888888,\"#fdca26\"],[1.0,\"#f0f921\"]],\"type\":\"contour\"}],\"heatmapgl\":[{\"colorbar\":{\"outlinewidth\":0,\"ticks\":\"\"},\"colorscale\":[[0.0,\"#0d0887\"],[0.1111111111111111,\"#46039f\"],[0.2222222222222222,\"#7201a8\"],[0.3333333333333333,\"#9c179e\"],[0.4444444444444444,\"#bd3786\"],[0.5555555555555556,\"#d8576b\"],[0.6666666666666666,\"#ed7953\"],[0.7777777777777778,\"#fb9f3a\"],[0.8888888888888888,\"#fdca26\"],[1.0,\"#f0f921\"]],\"type\":\"heatmapgl\"}],\"heatmap\":[{\"colorbar\":{\"outlinewidth\":0,\"ticks\":\"\"},\"colorscale\":[[0.0,\"#0d0887\"],[0.1111111111111111,\"#46039f\"],[0.2222222222222222,\"#7201a8\"],[0.3333333333333333,\"#9c179e\"],[0.4444444444444444,\"#bd3786\"],[0.5555555555555556,\"#d8576b\"],[0.6666666666666666,\"#ed7953\"],[0.7777777777777778,\"#fb9f3a\"],[0.8888888888888888,\"#fdca26\"],[1.0,\"#f0f921\"]],\"type\":\"heatmap\"}],\"histogram2dcontour\":[{\"colorbar\":{\"outlinewidth\":0,\"ticks\":\"\"},\"colorscale\":[[0.0,\"#0d0887\"],[0.1111111111111111,\"#46039f\"],[0.2222222222222222,\"#7201a8\"],[0.3333333333333333,\"#9c179e\"],[0.4444444444444444,\"#bd3786\"],[0.5555555555555556,\"#d8576b\"],[0.6666666666666666,\"#ed7953\"],[0.7777777777777778,\"#fb9f3a\"],[0.8888888888888888,\"#fdca26\"],[1.0,\"#f0f921\"]],\"type\":\"histogram2dcontour\"}],\"histogram2d\":[{\"colorbar\":{\"outlinewidth\":0,\"ticks\":\"\"},\"colorscale\":[[0.0,\"#0d0887\"],[0.1111111111111111,\"#46039f\"],[0.2222222222222222,\"#7201a8\"],[0.3333333333333333,\"#9c179e\"],[0.4444444444444444,\"#bd3786\"],[0.5555555555555556,\"#d8576b\"],[0.6666666666666666,\"#ed7953\"],[0.7777777777777778,\"#fb9f3a\"],[0.8888888888888888,\"#fdca26\"],[1.0,\"#f0f921\"]],\"type\":\"histogram2d\"}],\"histogram\":[{\"marker\":{\"pattern\":{\"fillmode\":\"overlay\",\"size\":10,\"solidity\":0.2}},\"type\":\"histogram\"}],\"mesh3d\":[{\"colorbar\":{\"outlinewidth\":0,\"ticks\":\"\"},\"type\":\"mesh3d\"}],\"parcoords\":[{\"line\":{\"colorbar\":{\"outlinewidth\":0,\"ticks\":\"\"}},\"type\":\"parcoords\"}],\"pie\":[{\"automargin\":true,\"type\":\"pie\"}],\"scatter3d\":[{\"line\":{\"colorbar\":{\"outlinewidth\":0,\"ticks\":\"\"}},\"marker\":{\"colorbar\":{\"outlinewidth\":0,\"ticks\":\"\"}},\"type\":\"scatter3d\"}],\"scattercarpet\":[{\"marker\":{\"colorbar\":{\"outlinewidth\":0,\"ticks\":\"\"}},\"type\":\"scattercarpet\"}],\"scattergeo\":[{\"marker\":{\"colorbar\":{\"outlinewidth\":0,\"ticks\":\"\"}},\"type\":\"scattergeo\"}],\"scattergl\":[{\"marker\":{\"colorbar\":{\"outlinewidth\":0,\"ticks\":\"\"}},\"type\":\"scattergl\"}],\"scattermapbox\":[{\"marker\":{\"colorbar\":{\"outlinewidth\":0,\"ticks\":\"\"}},\"type\":\"scattermapbox\"}],\"scatterpolargl\":[{\"marker\":{\"colorbar\":{\"outlinewidth\":0,\"ticks\":\"\"}},\"type\":\"scatterpolargl\"}],\"scatterpolar\":[{\"marker\":{\"colorbar\":{\"outlinewidth\":0,\"ticks\":\"\"}},\"type\":\"scatterpolar\"}],\"scatter\":[{\"fillpattern\":{\"fillmode\":\"overlay\",\"size\":10,\"solidity\":0.2},\"type\":\"scatter\"}],\"scatterternary\":[{\"marker\":{\"colorbar\":{\"outlinewidth\":0,\"ticks\":\"\"}},\"type\":\"scatterternary\"}],\"surface\":[{\"colorbar\":{\"outlinewidth\":0,\"ticks\":\"\"},\"colorscale\":[[0.0,\"#0d0887\"],[0.1111111111111111,\"#46039f\"],[0.2222222222222222,\"#7201a8\"],[0.3333333333333333,\"#9c179e\"],[0.4444444444444444,\"#bd3786\"],[0.5555555555555556,\"#d8576b\"],[0.6666666666666666,\"#ed7953\"],[0.7777777777777778,\"#fb9f3a\"],[0.8888888888888888,\"#fdca26\"],[1.0,\"#f0f921\"]],\"type\":\"surface\"}],\"table\":[{\"cells\":{\"fill\":{\"color\":\"#EBF0F8\"},\"line\":{\"color\":\"white\"}},\"header\":{\"fill\":{\"color\":\"#C8D4E3\"},\"line\":{\"color\":\"white\"}},\"type\":\"table\"}]},\"layout\":{\"annotationdefaults\":{\"arrowcolor\":\"#2a3f5f\",\"arrowhead\":0,\"arrowwidth\":1},\"autotypenumbers\":\"strict\",\"coloraxis\":{\"colorbar\":{\"outlinewidth\":0,\"ticks\":\"\"}},\"colorscale\":{\"diverging\":[[0,\"#8e0152\"],[0.1,\"#c51b7d\"],[0.2,\"#de77ae\"],[0.3,\"#f1b6da\"],[0.4,\"#fde0ef\"],[0.5,\"#f7f7f7\"],[0.6,\"#e6f5d0\"],[0.7,\"#b8e186\"],[0.8,\"#7fbc41\"],[0.9,\"#4d9221\"],[1,\"#276419\"]],\"sequential\":[[0.0,\"#0d0887\"],[0.1111111111111111,\"#46039f\"],[0.2222222222222222,\"#7201a8\"],[0.3333333333333333,\"#9c179e\"],[0.4444444444444444,\"#bd3786\"],[0.5555555555555556,\"#d8576b\"],[0.6666666666666666,\"#ed7953\"],[0.7777777777777778,\"#fb9f3a\"],[0.8888888888888888,\"#fdca26\"],[1.0,\"#f0f921\"]],\"sequentialminus\":[[0.0,\"#0d0887\"],[0.1111111111111111,\"#46039f\"],[0.2222222222222222,\"#7201a8\"],[0.3333333333333333,\"#9c179e\"],[0.4444444444444444,\"#bd3786\"],[0.5555555555555556,\"#d8576b\"],[0.6666666666666666,\"#ed7953\"],[0.7777777777777778,\"#fb9f3a\"],[0.8888888888888888,\"#fdca26\"],[1.0,\"#f0f921\"]]},\"colorway\":[\"#636efa\",\"#EF553B\",\"#00cc96\",\"#ab63fa\",\"#FFA15A\",\"#19d3f3\",\"#FF6692\",\"#B6E880\",\"#FF97FF\",\"#FECB52\"],\"font\":{\"color\":\"#2a3f5f\"},\"geo\":{\"bgcolor\":\"white\",\"lakecolor\":\"white\",\"landcolor\":\"#E5ECF6\",\"showlakes\":true,\"showland\":true,\"subunitcolor\":\"white\"},\"hoverlabel\":{\"align\":\"left\"},\"hovermode\":\"closest\",\"mapbox\":{\"style\":\"light\"},\"paper_bgcolor\":\"white\",\"plot_bgcolor\":\"#E5ECF6\",\"polar\":{\"angularaxis\":{\"gridcolor\":\"white\",\"linecolor\":\"white\",\"ticks\":\"\"},\"bgcolor\":\"#E5ECF6\",\"radialaxis\":{\"gridcolor\":\"white\",\"linecolor\":\"white\",\"ticks\":\"\"}},\"scene\":{\"xaxis\":{\"backgroundcolor\":\"#E5ECF6\",\"gridcolor\":\"white\",\"gridwidth\":2,\"linecolor\":\"white\",\"showbackground\":true,\"ticks\":\"\",\"zerolinecolor\":\"white\"},\"yaxis\":{\"backgroundcolor\":\"#E5ECF6\",\"gridcolor\":\"white\",\"gridwidth\":2,\"linecolor\":\"white\",\"showbackground\":true,\"ticks\":\"\",\"zerolinecolor\":\"white\"},\"zaxis\":{\"backgroundcolor\":\"#E5ECF6\",\"gridcolor\":\"white\",\"gridwidth\":2,\"linecolor\":\"white\",\"showbackground\":true,\"ticks\":\"\",\"zerolinecolor\":\"white\"}},\"shapedefaults\":{\"line\":{\"color\":\"#2a3f5f\"}},\"ternary\":{\"aaxis\":{\"gridcolor\":\"white\",\"linecolor\":\"white\",\"ticks\":\"\"},\"baxis\":{\"gridcolor\":\"white\",\"linecolor\":\"white\",\"ticks\":\"\"},\"bgcolor\":\"#E5ECF6\",\"caxis\":{\"gridcolor\":\"white\",\"linecolor\":\"white\",\"ticks\":\"\"}},\"title\":{\"x\":0.05},\"xaxis\":{\"automargin\":true,\"gridcolor\":\"white\",\"linecolor\":\"white\",\"ticks\":\"\",\"title\":{\"standoff\":15},\"zerolinecolor\":\"white\",\"zerolinewidth\":2},\"yaxis\":{\"automargin\":true,\"gridcolor\":\"white\",\"linecolor\":\"white\",\"ticks\":\"\",\"title\":{\"standoff\":15},\"zerolinecolor\":\"white\",\"zerolinewidth\":2}}},\"title\":{\"font\":{\"color\":\"#4D5663\"}},\"xaxis\":{\"gridcolor\":\"#E1E5ED\",\"showgrid\":true,\"tickfont\":{\"color\":\"#4D5663\"},\"title\":{\"font\":{\"color\":\"#4D5663\"},\"text\":\"\"},\"zerolinecolor\":\"#E1E5ED\"},\"yaxis\":{\"gridcolor\":\"#E1E5ED\",\"showgrid\":true,\"tickfont\":{\"color\":\"#4D5663\"},\"title\":{\"font\":{\"color\":\"#4D5663\"},\"text\":\"\"},\"zerolinecolor\":\"#E1E5ED\"}},                        {\"showLink\": true, \"linkText\": \"Export to plot.ly\", \"plotlyServerURL\": \"https://plot.ly\", \"responsive\": true}                    ).then(function(){\n",
       "                            \n",
       "var gd = document.getElementById('c179378c-0f7e-4dc3-b0a6-cc45726daac8');\n",
       "var x = new MutationObserver(function (mutations, observer) {{\n",
       "        var display = window.getComputedStyle(gd).display;\n",
       "        if (!display || display === 'none') {{\n",
       "            console.log([gd, 'removed!']);\n",
       "            Plotly.purge(gd);\n",
       "            observer.disconnect();\n",
       "        }}\n",
       "}});\n",
       "\n",
       "// Listen for the removal of the full notebook cells\n",
       "var notebookContainer = gd.closest('#notebook-container');\n",
       "if (notebookContainer) {{\n",
       "    x.observe(notebookContainer, {childList: true});\n",
       "}}\n",
       "\n",
       "// Listen for the clearing of the current output cell\n",
       "var outputEl = gd.closest('.output');\n",
       "if (outputEl) {{\n",
       "    x.observe(outputEl, {childList: true});\n",
       "}}\n",
       "\n",
       "                        })                };                });            </script>        </div>"
      ]
     },
     "metadata": {},
     "output_type": "display_data"
    }
   ],
   "source": [
    "df3.iplot(kind='surface',colorscale='rdylbu')"
   ]
  },
  {
   "cell_type": "code",
   "execution_count": 31,
   "id": "3dceca5a",
   "metadata": {},
   "outputs": [
    {
     "data": {
      "application/vnd.plotly.v1+json": {
       "config": {
        "linkText": "Export to plot.ly",
        "plotlyServerURL": "https://plot.ly",
        "showLink": true
       },
       "data": [
        {
         "histfunc": "count",
         "histnorm": "",
         "marker": {
          "color": "rgba(255, 153, 51, 1.0)",
          "line": {
           "color": "#4D5663",
           "width": 1.3
          }
         },
         "name": "A",
         "nbinsx": 50,
         "opacity": 0.8,
         "orientation": "v",
         "type": "histogram",
         "x": [
          0.007097092789972175,
          -0.2507980967337128,
          0.5756887159748832,
          1.008554175812353,
          -2.6283592090659873,
          1.6897482724042978,
          -0.8474374630661906,
          -0.885832540802959,
          0.4165769995034404,
          0.3252308691285932,
          0.15654813843776863,
          0.32000464521458294,
          0.22512579404893415,
          -0.9790000089937704,
          -0.3580302188491322,
          -0.7226009569936725,
          0.42102829268405206,
          0.2230306013098082,
          -0.4894846120344407,
          0.566997691727052,
          0.7607780966610685,
          0.23179719324520257,
          0.3740720066436934,
          -0.3268113355342848,
          -0.18724635850271712,
          -0.43897158097130873,
          0.3311812464599041,
          -1.7464259691116253,
          -0.7003744338871739,
          -1.1273844453143265,
          -1.4433016423607514,
          -1.9331587985472232,
          -0.4416755962896438,
          0.3540378946293956,
          -2.3205791602958827,
          -0.6145551930755045,
          -1.0991258362026313,
          0.945377164629423,
          0.7660013927940503,
          0.8096965391921613,
          -1.011703590573019,
          -0.41828365667679634,
          -1.4791244765991614,
          -0.5761080113817664,
          0.7449599286623099,
          0.42270136868761493,
          -0.40390348558849554,
          0.36669812346527975,
          0.7481364566653947,
          1.5353321018275836,
          -1.3371004213241013,
          -1.4942270443891712,
          0.0710723740451789,
          -0.0006575669951469768,
          -0.22534602111696125,
          -1.172041314702635,
          1.123901859153798,
          -0.2542859826880914,
          -0.11703759236657453,
          -0.8142079592044608,
          -1.0542576188191066,
          0.546313307317542,
          -0.8447663571066834,
          -1.1131193312433463,
          0.4587848706424149,
          2.6591625662829146,
          -0.015121925395850002,
          -0.09109764156500297,
          0.4526267555190351,
          -0.24918265339293869,
          0.2750713724462446,
          0.9645876496605769,
          0.6886893955579118,
          1.1337676914267782,
          -0.20303842320923898,
          -1.0816855549346296,
          -1.1082516347864104,
          -0.7242762213979465,
          -1.2179557113588813,
          -1.7245807252123906,
          2.1746231931296514,
          -0.31174746522478336,
          -0.3329591568687766,
          -0.499939085089008,
          0.36520642633824857,
          -1.0458452355028378,
          0.3306941382140081,
          1.2923882218609148,
          0.33893456539783484,
          0.9869969913865074,
          -0.6450150360855204,
          -0.02753327885205397,
          -1.3624539641043698,
          0.6002984616132592,
          -1.432946169513228,
          -0.5951750844353458,
          0.9740904886924309,
          -0.23690369561450986,
          1.2616316919343114,
          0.45897564550142733
         ]
        }
       ],
       "layout": {
        "barmode": "overlay",
        "legend": {
         "bgcolor": "#F5F6F9",
         "font": {
          "color": "#4D5663"
         }
        },
        "paper_bgcolor": "#F5F6F9",
        "plot_bgcolor": "#F5F6F9",
        "template": {
         "data": {
          "bar": [
           {
            "error_x": {
             "color": "#2a3f5f"
            },
            "error_y": {
             "color": "#2a3f5f"
            },
            "marker": {
             "line": {
              "color": "#E5ECF6",
              "width": 0.5
             },
             "pattern": {
              "fillmode": "overlay",
              "size": 10,
              "solidity": 0.2
             }
            },
            "type": "bar"
           }
          ],
          "barpolar": [
           {
            "marker": {
             "line": {
              "color": "#E5ECF6",
              "width": 0.5
             },
             "pattern": {
              "fillmode": "overlay",
              "size": 10,
              "solidity": 0.2
             }
            },
            "type": "barpolar"
           }
          ],
          "carpet": [
           {
            "aaxis": {
             "endlinecolor": "#2a3f5f",
             "gridcolor": "white",
             "linecolor": "white",
             "minorgridcolor": "white",
             "startlinecolor": "#2a3f5f"
            },
            "baxis": {
             "endlinecolor": "#2a3f5f",
             "gridcolor": "white",
             "linecolor": "white",
             "minorgridcolor": "white",
             "startlinecolor": "#2a3f5f"
            },
            "type": "carpet"
           }
          ],
          "choropleth": [
           {
            "colorbar": {
             "outlinewidth": 0,
             "ticks": ""
            },
            "type": "choropleth"
           }
          ],
          "contour": [
           {
            "colorbar": {
             "outlinewidth": 0,
             "ticks": ""
            },
            "colorscale": [
             [
              0,
              "#0d0887"
             ],
             [
              0.1111111111111111,
              "#46039f"
             ],
             [
              0.2222222222222222,
              "#7201a8"
             ],
             [
              0.3333333333333333,
              "#9c179e"
             ],
             [
              0.4444444444444444,
              "#bd3786"
             ],
             [
              0.5555555555555556,
              "#d8576b"
             ],
             [
              0.6666666666666666,
              "#ed7953"
             ],
             [
              0.7777777777777778,
              "#fb9f3a"
             ],
             [
              0.8888888888888888,
              "#fdca26"
             ],
             [
              1,
              "#f0f921"
             ]
            ],
            "type": "contour"
           }
          ],
          "contourcarpet": [
           {
            "colorbar": {
             "outlinewidth": 0,
             "ticks": ""
            },
            "type": "contourcarpet"
           }
          ],
          "heatmap": [
           {
            "colorbar": {
             "outlinewidth": 0,
             "ticks": ""
            },
            "colorscale": [
             [
              0,
              "#0d0887"
             ],
             [
              0.1111111111111111,
              "#46039f"
             ],
             [
              0.2222222222222222,
              "#7201a8"
             ],
             [
              0.3333333333333333,
              "#9c179e"
             ],
             [
              0.4444444444444444,
              "#bd3786"
             ],
             [
              0.5555555555555556,
              "#d8576b"
             ],
             [
              0.6666666666666666,
              "#ed7953"
             ],
             [
              0.7777777777777778,
              "#fb9f3a"
             ],
             [
              0.8888888888888888,
              "#fdca26"
             ],
             [
              1,
              "#f0f921"
             ]
            ],
            "type": "heatmap"
           }
          ],
          "heatmapgl": [
           {
            "colorbar": {
             "outlinewidth": 0,
             "ticks": ""
            },
            "colorscale": [
             [
              0,
              "#0d0887"
             ],
             [
              0.1111111111111111,
              "#46039f"
             ],
             [
              0.2222222222222222,
              "#7201a8"
             ],
             [
              0.3333333333333333,
              "#9c179e"
             ],
             [
              0.4444444444444444,
              "#bd3786"
             ],
             [
              0.5555555555555556,
              "#d8576b"
             ],
             [
              0.6666666666666666,
              "#ed7953"
             ],
             [
              0.7777777777777778,
              "#fb9f3a"
             ],
             [
              0.8888888888888888,
              "#fdca26"
             ],
             [
              1,
              "#f0f921"
             ]
            ],
            "type": "heatmapgl"
           }
          ],
          "histogram": [
           {
            "marker": {
             "pattern": {
              "fillmode": "overlay",
              "size": 10,
              "solidity": 0.2
             }
            },
            "type": "histogram"
           }
          ],
          "histogram2d": [
           {
            "colorbar": {
             "outlinewidth": 0,
             "ticks": ""
            },
            "colorscale": [
             [
              0,
              "#0d0887"
             ],
             [
              0.1111111111111111,
              "#46039f"
             ],
             [
              0.2222222222222222,
              "#7201a8"
             ],
             [
              0.3333333333333333,
              "#9c179e"
             ],
             [
              0.4444444444444444,
              "#bd3786"
             ],
             [
              0.5555555555555556,
              "#d8576b"
             ],
             [
              0.6666666666666666,
              "#ed7953"
             ],
             [
              0.7777777777777778,
              "#fb9f3a"
             ],
             [
              0.8888888888888888,
              "#fdca26"
             ],
             [
              1,
              "#f0f921"
             ]
            ],
            "type": "histogram2d"
           }
          ],
          "histogram2dcontour": [
           {
            "colorbar": {
             "outlinewidth": 0,
             "ticks": ""
            },
            "colorscale": [
             [
              0,
              "#0d0887"
             ],
             [
              0.1111111111111111,
              "#46039f"
             ],
             [
              0.2222222222222222,
              "#7201a8"
             ],
             [
              0.3333333333333333,
              "#9c179e"
             ],
             [
              0.4444444444444444,
              "#bd3786"
             ],
             [
              0.5555555555555556,
              "#d8576b"
             ],
             [
              0.6666666666666666,
              "#ed7953"
             ],
             [
              0.7777777777777778,
              "#fb9f3a"
             ],
             [
              0.8888888888888888,
              "#fdca26"
             ],
             [
              1,
              "#f0f921"
             ]
            ],
            "type": "histogram2dcontour"
           }
          ],
          "mesh3d": [
           {
            "colorbar": {
             "outlinewidth": 0,
             "ticks": ""
            },
            "type": "mesh3d"
           }
          ],
          "parcoords": [
           {
            "line": {
             "colorbar": {
              "outlinewidth": 0,
              "ticks": ""
             }
            },
            "type": "parcoords"
           }
          ],
          "pie": [
           {
            "automargin": true,
            "type": "pie"
           }
          ],
          "scatter": [
           {
            "fillpattern": {
             "fillmode": "overlay",
             "size": 10,
             "solidity": 0.2
            },
            "type": "scatter"
           }
          ],
          "scatter3d": [
           {
            "line": {
             "colorbar": {
              "outlinewidth": 0,
              "ticks": ""
             }
            },
            "marker": {
             "colorbar": {
              "outlinewidth": 0,
              "ticks": ""
             }
            },
            "type": "scatter3d"
           }
          ],
          "scattercarpet": [
           {
            "marker": {
             "colorbar": {
              "outlinewidth": 0,
              "ticks": ""
             }
            },
            "type": "scattercarpet"
           }
          ],
          "scattergeo": [
           {
            "marker": {
             "colorbar": {
              "outlinewidth": 0,
              "ticks": ""
             }
            },
            "type": "scattergeo"
           }
          ],
          "scattergl": [
           {
            "marker": {
             "colorbar": {
              "outlinewidth": 0,
              "ticks": ""
             }
            },
            "type": "scattergl"
           }
          ],
          "scattermapbox": [
           {
            "marker": {
             "colorbar": {
              "outlinewidth": 0,
              "ticks": ""
             }
            },
            "type": "scattermapbox"
           }
          ],
          "scatterpolar": [
           {
            "marker": {
             "colorbar": {
              "outlinewidth": 0,
              "ticks": ""
             }
            },
            "type": "scatterpolar"
           }
          ],
          "scatterpolargl": [
           {
            "marker": {
             "colorbar": {
              "outlinewidth": 0,
              "ticks": ""
             }
            },
            "type": "scatterpolargl"
           }
          ],
          "scatterternary": [
           {
            "marker": {
             "colorbar": {
              "outlinewidth": 0,
              "ticks": ""
             }
            },
            "type": "scatterternary"
           }
          ],
          "surface": [
           {
            "colorbar": {
             "outlinewidth": 0,
             "ticks": ""
            },
            "colorscale": [
             [
              0,
              "#0d0887"
             ],
             [
              0.1111111111111111,
              "#46039f"
             ],
             [
              0.2222222222222222,
              "#7201a8"
             ],
             [
              0.3333333333333333,
              "#9c179e"
             ],
             [
              0.4444444444444444,
              "#bd3786"
             ],
             [
              0.5555555555555556,
              "#d8576b"
             ],
             [
              0.6666666666666666,
              "#ed7953"
             ],
             [
              0.7777777777777778,
              "#fb9f3a"
             ],
             [
              0.8888888888888888,
              "#fdca26"
             ],
             [
              1,
              "#f0f921"
             ]
            ],
            "type": "surface"
           }
          ],
          "table": [
           {
            "cells": {
             "fill": {
              "color": "#EBF0F8"
             },
             "line": {
              "color": "white"
             }
            },
            "header": {
             "fill": {
              "color": "#C8D4E3"
             },
             "line": {
              "color": "white"
             }
            },
            "type": "table"
           }
          ]
         },
         "layout": {
          "annotationdefaults": {
           "arrowcolor": "#2a3f5f",
           "arrowhead": 0,
           "arrowwidth": 1
          },
          "autotypenumbers": "strict",
          "coloraxis": {
           "colorbar": {
            "outlinewidth": 0,
            "ticks": ""
           }
          },
          "colorscale": {
           "diverging": [
            [
             0,
             "#8e0152"
            ],
            [
             0.1,
             "#c51b7d"
            ],
            [
             0.2,
             "#de77ae"
            ],
            [
             0.3,
             "#f1b6da"
            ],
            [
             0.4,
             "#fde0ef"
            ],
            [
             0.5,
             "#f7f7f7"
            ],
            [
             0.6,
             "#e6f5d0"
            ],
            [
             0.7,
             "#b8e186"
            ],
            [
             0.8,
             "#7fbc41"
            ],
            [
             0.9,
             "#4d9221"
            ],
            [
             1,
             "#276419"
            ]
           ],
           "sequential": [
            [
             0,
             "#0d0887"
            ],
            [
             0.1111111111111111,
             "#46039f"
            ],
            [
             0.2222222222222222,
             "#7201a8"
            ],
            [
             0.3333333333333333,
             "#9c179e"
            ],
            [
             0.4444444444444444,
             "#bd3786"
            ],
            [
             0.5555555555555556,
             "#d8576b"
            ],
            [
             0.6666666666666666,
             "#ed7953"
            ],
            [
             0.7777777777777778,
             "#fb9f3a"
            ],
            [
             0.8888888888888888,
             "#fdca26"
            ],
            [
             1,
             "#f0f921"
            ]
           ],
           "sequentialminus": [
            [
             0,
             "#0d0887"
            ],
            [
             0.1111111111111111,
             "#46039f"
            ],
            [
             0.2222222222222222,
             "#7201a8"
            ],
            [
             0.3333333333333333,
             "#9c179e"
            ],
            [
             0.4444444444444444,
             "#bd3786"
            ],
            [
             0.5555555555555556,
             "#d8576b"
            ],
            [
             0.6666666666666666,
             "#ed7953"
            ],
            [
             0.7777777777777778,
             "#fb9f3a"
            ],
            [
             0.8888888888888888,
             "#fdca26"
            ],
            [
             1,
             "#f0f921"
            ]
           ]
          },
          "colorway": [
           "#636efa",
           "#EF553B",
           "#00cc96",
           "#ab63fa",
           "#FFA15A",
           "#19d3f3",
           "#FF6692",
           "#B6E880",
           "#FF97FF",
           "#FECB52"
          ],
          "font": {
           "color": "#2a3f5f"
          },
          "geo": {
           "bgcolor": "white",
           "lakecolor": "white",
           "landcolor": "#E5ECF6",
           "showlakes": true,
           "showland": true,
           "subunitcolor": "white"
          },
          "hoverlabel": {
           "align": "left"
          },
          "hovermode": "closest",
          "mapbox": {
           "style": "light"
          },
          "paper_bgcolor": "white",
          "plot_bgcolor": "#E5ECF6",
          "polar": {
           "angularaxis": {
            "gridcolor": "white",
            "linecolor": "white",
            "ticks": ""
           },
           "bgcolor": "#E5ECF6",
           "radialaxis": {
            "gridcolor": "white",
            "linecolor": "white",
            "ticks": ""
           }
          },
          "scene": {
           "xaxis": {
            "backgroundcolor": "#E5ECF6",
            "gridcolor": "white",
            "gridwidth": 2,
            "linecolor": "white",
            "showbackground": true,
            "ticks": "",
            "zerolinecolor": "white"
           },
           "yaxis": {
            "backgroundcolor": "#E5ECF6",
            "gridcolor": "white",
            "gridwidth": 2,
            "linecolor": "white",
            "showbackground": true,
            "ticks": "",
            "zerolinecolor": "white"
           },
           "zaxis": {
            "backgroundcolor": "#E5ECF6",
            "gridcolor": "white",
            "gridwidth": 2,
            "linecolor": "white",
            "showbackground": true,
            "ticks": "",
            "zerolinecolor": "white"
           }
          },
          "shapedefaults": {
           "line": {
            "color": "#2a3f5f"
           }
          },
          "ternary": {
           "aaxis": {
            "gridcolor": "white",
            "linecolor": "white",
            "ticks": ""
           },
           "baxis": {
            "gridcolor": "white",
            "linecolor": "white",
            "ticks": ""
           },
           "bgcolor": "#E5ECF6",
           "caxis": {
            "gridcolor": "white",
            "linecolor": "white",
            "ticks": ""
           }
          },
          "title": {
           "x": 0.05
          },
          "xaxis": {
           "automargin": true,
           "gridcolor": "white",
           "linecolor": "white",
           "ticks": "",
           "title": {
            "standoff": 15
           },
           "zerolinecolor": "white",
           "zerolinewidth": 2
          },
          "yaxis": {
           "automargin": true,
           "gridcolor": "white",
           "linecolor": "white",
           "ticks": "",
           "title": {
            "standoff": 15
           },
           "zerolinecolor": "white",
           "zerolinewidth": 2
          }
         }
        },
        "title": {
         "font": {
          "color": "#4D5663"
         }
        },
        "xaxis": {
         "gridcolor": "#E1E5ED",
         "showgrid": true,
         "tickfont": {
          "color": "#4D5663"
         },
         "title": {
          "font": {
           "color": "#4D5663"
          },
          "text": ""
         },
         "zerolinecolor": "#E1E5ED"
        },
        "yaxis": {
         "gridcolor": "#E1E5ED",
         "showgrid": true,
         "tickfont": {
          "color": "#4D5663"
         },
         "title": {
          "font": {
           "color": "#4D5663"
          },
          "text": ""
         },
         "zerolinecolor": "#E1E5ED"
        }
       }
      },
      "text/html": [
       "<div>                            <div id=\"f863f585-e4e3-44fa-9b2f-47f6e58f1e04\" class=\"plotly-graph-div\" style=\"height:525px; width:100%;\"></div>            <script type=\"text/javascript\">                require([\"plotly\"], function(Plotly) {                    window.PLOTLYENV=window.PLOTLYENV || {};\n",
       "                    window.PLOTLYENV.BASE_URL='https://plot.ly';                                    if (document.getElementById(\"f863f585-e4e3-44fa-9b2f-47f6e58f1e04\")) {                    Plotly.newPlot(                        \"f863f585-e4e3-44fa-9b2f-47f6e58f1e04\",                        [{\"histfunc\":\"count\",\"histnorm\":\"\",\"marker\":{\"color\":\"rgba(255, 153, 51, 1.0)\",\"line\":{\"color\":\"#4D5663\",\"width\":1.3}},\"name\":\"A\",\"nbinsx\":50,\"opacity\":0.8,\"orientation\":\"v\",\"x\":[0.007097092789972175,-0.2507980967337128,0.5756887159748832,1.008554175812353,-2.6283592090659873,1.6897482724042978,-0.8474374630661906,-0.885832540802959,0.4165769995034404,0.3252308691285932,0.15654813843776863,0.32000464521458294,0.22512579404893415,-0.9790000089937704,-0.3580302188491322,-0.7226009569936725,0.42102829268405206,0.2230306013098082,-0.4894846120344407,0.566997691727052,0.7607780966610685,0.23179719324520257,0.3740720066436934,-0.3268113355342848,-0.18724635850271712,-0.43897158097130873,0.3311812464599041,-1.7464259691116253,-0.7003744338871739,-1.1273844453143265,-1.4433016423607514,-1.9331587985472232,-0.4416755962896438,0.3540378946293956,-2.3205791602958827,-0.6145551930755045,-1.0991258362026313,0.945377164629423,0.7660013927940503,0.8096965391921613,-1.011703590573019,-0.41828365667679634,-1.4791244765991614,-0.5761080113817664,0.7449599286623099,0.42270136868761493,-0.40390348558849554,0.36669812346527975,0.7481364566653947,1.5353321018275836,-1.3371004213241013,-1.4942270443891712,0.0710723740451789,-0.0006575669951469768,-0.22534602111696125,-1.172041314702635,1.123901859153798,-0.2542859826880914,-0.11703759236657453,-0.8142079592044608,-1.0542576188191066,0.546313307317542,-0.8447663571066834,-1.1131193312433463,0.4587848706424149,2.6591625662829146,-0.015121925395850002,-0.09109764156500297,0.4526267555190351,-0.24918265339293869,0.2750713724462446,0.9645876496605769,0.6886893955579118,1.1337676914267782,-0.20303842320923898,-1.0816855549346296,-1.1082516347864104,-0.7242762213979465,-1.2179557113588813,-1.7245807252123906,2.1746231931296514,-0.31174746522478336,-0.3329591568687766,-0.499939085089008,0.36520642633824857,-1.0458452355028378,0.3306941382140081,1.2923882218609148,0.33893456539783484,0.9869969913865074,-0.6450150360855204,-0.02753327885205397,-1.3624539641043698,0.6002984616132592,-1.432946169513228,-0.5951750844353458,0.9740904886924309,-0.23690369561450986,1.2616316919343114,0.45897564550142733],\"type\":\"histogram\"}],                        {\"barmode\":\"overlay\",\"legend\":{\"bgcolor\":\"#F5F6F9\",\"font\":{\"color\":\"#4D5663\"}},\"paper_bgcolor\":\"#F5F6F9\",\"plot_bgcolor\":\"#F5F6F9\",\"template\":{\"data\":{\"barpolar\":[{\"marker\":{\"line\":{\"color\":\"#E5ECF6\",\"width\":0.5},\"pattern\":{\"fillmode\":\"overlay\",\"size\":10,\"solidity\":0.2}},\"type\":\"barpolar\"}],\"bar\":[{\"error_x\":{\"color\":\"#2a3f5f\"},\"error_y\":{\"color\":\"#2a3f5f\"},\"marker\":{\"line\":{\"color\":\"#E5ECF6\",\"width\":0.5},\"pattern\":{\"fillmode\":\"overlay\",\"size\":10,\"solidity\":0.2}},\"type\":\"bar\"}],\"carpet\":[{\"aaxis\":{\"endlinecolor\":\"#2a3f5f\",\"gridcolor\":\"white\",\"linecolor\":\"white\",\"minorgridcolor\":\"white\",\"startlinecolor\":\"#2a3f5f\"},\"baxis\":{\"endlinecolor\":\"#2a3f5f\",\"gridcolor\":\"white\",\"linecolor\":\"white\",\"minorgridcolor\":\"white\",\"startlinecolor\":\"#2a3f5f\"},\"type\":\"carpet\"}],\"choropleth\":[{\"colorbar\":{\"outlinewidth\":0,\"ticks\":\"\"},\"type\":\"choropleth\"}],\"contourcarpet\":[{\"colorbar\":{\"outlinewidth\":0,\"ticks\":\"\"},\"type\":\"contourcarpet\"}],\"contour\":[{\"colorbar\":{\"outlinewidth\":0,\"ticks\":\"\"},\"colorscale\":[[0.0,\"#0d0887\"],[0.1111111111111111,\"#46039f\"],[0.2222222222222222,\"#7201a8\"],[0.3333333333333333,\"#9c179e\"],[0.4444444444444444,\"#bd3786\"],[0.5555555555555556,\"#d8576b\"],[0.6666666666666666,\"#ed7953\"],[0.7777777777777778,\"#fb9f3a\"],[0.8888888888888888,\"#fdca26\"],[1.0,\"#f0f921\"]],\"type\":\"contour\"}],\"heatmapgl\":[{\"colorbar\":{\"outlinewidth\":0,\"ticks\":\"\"},\"colorscale\":[[0.0,\"#0d0887\"],[0.1111111111111111,\"#46039f\"],[0.2222222222222222,\"#7201a8\"],[0.3333333333333333,\"#9c179e\"],[0.4444444444444444,\"#bd3786\"],[0.5555555555555556,\"#d8576b\"],[0.6666666666666666,\"#ed7953\"],[0.7777777777777778,\"#fb9f3a\"],[0.8888888888888888,\"#fdca26\"],[1.0,\"#f0f921\"]],\"type\":\"heatmapgl\"}],\"heatmap\":[{\"colorbar\":{\"outlinewidth\":0,\"ticks\":\"\"},\"colorscale\":[[0.0,\"#0d0887\"],[0.1111111111111111,\"#46039f\"],[0.2222222222222222,\"#7201a8\"],[0.3333333333333333,\"#9c179e\"],[0.4444444444444444,\"#bd3786\"],[0.5555555555555556,\"#d8576b\"],[0.6666666666666666,\"#ed7953\"],[0.7777777777777778,\"#fb9f3a\"],[0.8888888888888888,\"#fdca26\"],[1.0,\"#f0f921\"]],\"type\":\"heatmap\"}],\"histogram2dcontour\":[{\"colorbar\":{\"outlinewidth\":0,\"ticks\":\"\"},\"colorscale\":[[0.0,\"#0d0887\"],[0.1111111111111111,\"#46039f\"],[0.2222222222222222,\"#7201a8\"],[0.3333333333333333,\"#9c179e\"],[0.4444444444444444,\"#bd3786\"],[0.5555555555555556,\"#d8576b\"],[0.6666666666666666,\"#ed7953\"],[0.7777777777777778,\"#fb9f3a\"],[0.8888888888888888,\"#fdca26\"],[1.0,\"#f0f921\"]],\"type\":\"histogram2dcontour\"}],\"histogram2d\":[{\"colorbar\":{\"outlinewidth\":0,\"ticks\":\"\"},\"colorscale\":[[0.0,\"#0d0887\"],[0.1111111111111111,\"#46039f\"],[0.2222222222222222,\"#7201a8\"],[0.3333333333333333,\"#9c179e\"],[0.4444444444444444,\"#bd3786\"],[0.5555555555555556,\"#d8576b\"],[0.6666666666666666,\"#ed7953\"],[0.7777777777777778,\"#fb9f3a\"],[0.8888888888888888,\"#fdca26\"],[1.0,\"#f0f921\"]],\"type\":\"histogram2d\"}],\"histogram\":[{\"marker\":{\"pattern\":{\"fillmode\":\"overlay\",\"size\":10,\"solidity\":0.2}},\"type\":\"histogram\"}],\"mesh3d\":[{\"colorbar\":{\"outlinewidth\":0,\"ticks\":\"\"},\"type\":\"mesh3d\"}],\"parcoords\":[{\"line\":{\"colorbar\":{\"outlinewidth\":0,\"ticks\":\"\"}},\"type\":\"parcoords\"}],\"pie\":[{\"automargin\":true,\"type\":\"pie\"}],\"scatter3d\":[{\"line\":{\"colorbar\":{\"outlinewidth\":0,\"ticks\":\"\"}},\"marker\":{\"colorbar\":{\"outlinewidth\":0,\"ticks\":\"\"}},\"type\":\"scatter3d\"}],\"scattercarpet\":[{\"marker\":{\"colorbar\":{\"outlinewidth\":0,\"ticks\":\"\"}},\"type\":\"scattercarpet\"}],\"scattergeo\":[{\"marker\":{\"colorbar\":{\"outlinewidth\":0,\"ticks\":\"\"}},\"type\":\"scattergeo\"}],\"scattergl\":[{\"marker\":{\"colorbar\":{\"outlinewidth\":0,\"ticks\":\"\"}},\"type\":\"scattergl\"}],\"scattermapbox\":[{\"marker\":{\"colorbar\":{\"outlinewidth\":0,\"ticks\":\"\"}},\"type\":\"scattermapbox\"}],\"scatterpolargl\":[{\"marker\":{\"colorbar\":{\"outlinewidth\":0,\"ticks\":\"\"}},\"type\":\"scatterpolargl\"}],\"scatterpolar\":[{\"marker\":{\"colorbar\":{\"outlinewidth\":0,\"ticks\":\"\"}},\"type\":\"scatterpolar\"}],\"scatter\":[{\"fillpattern\":{\"fillmode\":\"overlay\",\"size\":10,\"solidity\":0.2},\"type\":\"scatter\"}],\"scatterternary\":[{\"marker\":{\"colorbar\":{\"outlinewidth\":0,\"ticks\":\"\"}},\"type\":\"scatterternary\"}],\"surface\":[{\"colorbar\":{\"outlinewidth\":0,\"ticks\":\"\"},\"colorscale\":[[0.0,\"#0d0887\"],[0.1111111111111111,\"#46039f\"],[0.2222222222222222,\"#7201a8\"],[0.3333333333333333,\"#9c179e\"],[0.4444444444444444,\"#bd3786\"],[0.5555555555555556,\"#d8576b\"],[0.6666666666666666,\"#ed7953\"],[0.7777777777777778,\"#fb9f3a\"],[0.8888888888888888,\"#fdca26\"],[1.0,\"#f0f921\"]],\"type\":\"surface\"}],\"table\":[{\"cells\":{\"fill\":{\"color\":\"#EBF0F8\"},\"line\":{\"color\":\"white\"}},\"header\":{\"fill\":{\"color\":\"#C8D4E3\"},\"line\":{\"color\":\"white\"}},\"type\":\"table\"}]},\"layout\":{\"annotationdefaults\":{\"arrowcolor\":\"#2a3f5f\",\"arrowhead\":0,\"arrowwidth\":1},\"autotypenumbers\":\"strict\",\"coloraxis\":{\"colorbar\":{\"outlinewidth\":0,\"ticks\":\"\"}},\"colorscale\":{\"diverging\":[[0,\"#8e0152\"],[0.1,\"#c51b7d\"],[0.2,\"#de77ae\"],[0.3,\"#f1b6da\"],[0.4,\"#fde0ef\"],[0.5,\"#f7f7f7\"],[0.6,\"#e6f5d0\"],[0.7,\"#b8e186\"],[0.8,\"#7fbc41\"],[0.9,\"#4d9221\"],[1,\"#276419\"]],\"sequential\":[[0.0,\"#0d0887\"],[0.1111111111111111,\"#46039f\"],[0.2222222222222222,\"#7201a8\"],[0.3333333333333333,\"#9c179e\"],[0.4444444444444444,\"#bd3786\"],[0.5555555555555556,\"#d8576b\"],[0.6666666666666666,\"#ed7953\"],[0.7777777777777778,\"#fb9f3a\"],[0.8888888888888888,\"#fdca26\"],[1.0,\"#f0f921\"]],\"sequentialminus\":[[0.0,\"#0d0887\"],[0.1111111111111111,\"#46039f\"],[0.2222222222222222,\"#7201a8\"],[0.3333333333333333,\"#9c179e\"],[0.4444444444444444,\"#bd3786\"],[0.5555555555555556,\"#d8576b\"],[0.6666666666666666,\"#ed7953\"],[0.7777777777777778,\"#fb9f3a\"],[0.8888888888888888,\"#fdca26\"],[1.0,\"#f0f921\"]]},\"colorway\":[\"#636efa\",\"#EF553B\",\"#00cc96\",\"#ab63fa\",\"#FFA15A\",\"#19d3f3\",\"#FF6692\",\"#B6E880\",\"#FF97FF\",\"#FECB52\"],\"font\":{\"color\":\"#2a3f5f\"},\"geo\":{\"bgcolor\":\"white\",\"lakecolor\":\"white\",\"landcolor\":\"#E5ECF6\",\"showlakes\":true,\"showland\":true,\"subunitcolor\":\"white\"},\"hoverlabel\":{\"align\":\"left\"},\"hovermode\":\"closest\",\"mapbox\":{\"style\":\"light\"},\"paper_bgcolor\":\"white\",\"plot_bgcolor\":\"#E5ECF6\",\"polar\":{\"angularaxis\":{\"gridcolor\":\"white\",\"linecolor\":\"white\",\"ticks\":\"\"},\"bgcolor\":\"#E5ECF6\",\"radialaxis\":{\"gridcolor\":\"white\",\"linecolor\":\"white\",\"ticks\":\"\"}},\"scene\":{\"xaxis\":{\"backgroundcolor\":\"#E5ECF6\",\"gridcolor\":\"white\",\"gridwidth\":2,\"linecolor\":\"white\",\"showbackground\":true,\"ticks\":\"\",\"zerolinecolor\":\"white\"},\"yaxis\":{\"backgroundcolor\":\"#E5ECF6\",\"gridcolor\":\"white\",\"gridwidth\":2,\"linecolor\":\"white\",\"showbackground\":true,\"ticks\":\"\",\"zerolinecolor\":\"white\"},\"zaxis\":{\"backgroundcolor\":\"#E5ECF6\",\"gridcolor\":\"white\",\"gridwidth\":2,\"linecolor\":\"white\",\"showbackground\":true,\"ticks\":\"\",\"zerolinecolor\":\"white\"}},\"shapedefaults\":{\"line\":{\"color\":\"#2a3f5f\"}},\"ternary\":{\"aaxis\":{\"gridcolor\":\"white\",\"linecolor\":\"white\",\"ticks\":\"\"},\"baxis\":{\"gridcolor\":\"white\",\"linecolor\":\"white\",\"ticks\":\"\"},\"bgcolor\":\"#E5ECF6\",\"caxis\":{\"gridcolor\":\"white\",\"linecolor\":\"white\",\"ticks\":\"\"}},\"title\":{\"x\":0.05},\"xaxis\":{\"automargin\":true,\"gridcolor\":\"white\",\"linecolor\":\"white\",\"ticks\":\"\",\"title\":{\"standoff\":15},\"zerolinecolor\":\"white\",\"zerolinewidth\":2},\"yaxis\":{\"automargin\":true,\"gridcolor\":\"white\",\"linecolor\":\"white\",\"ticks\":\"\",\"title\":{\"standoff\":15},\"zerolinecolor\":\"white\",\"zerolinewidth\":2}}},\"title\":{\"font\":{\"color\":\"#4D5663\"}},\"xaxis\":{\"gridcolor\":\"#E1E5ED\",\"showgrid\":true,\"tickfont\":{\"color\":\"#4D5663\"},\"title\":{\"font\":{\"color\":\"#4D5663\"},\"text\":\"\"},\"zerolinecolor\":\"#E1E5ED\"},\"yaxis\":{\"gridcolor\":\"#E1E5ED\",\"showgrid\":true,\"tickfont\":{\"color\":\"#4D5663\"},\"title\":{\"font\":{\"color\":\"#4D5663\"},\"text\":\"\"},\"zerolinecolor\":\"#E1E5ED\"}},                        {\"showLink\": true, \"linkText\": \"Export to plot.ly\", \"plotlyServerURL\": \"https://plot.ly\", \"responsive\": true}                    ).then(function(){\n",
       "                            \n",
       "var gd = document.getElementById('f863f585-e4e3-44fa-9b2f-47f6e58f1e04');\n",
       "var x = new MutationObserver(function (mutations, observer) {{\n",
       "        var display = window.getComputedStyle(gd).display;\n",
       "        if (!display || display === 'none') {{\n",
       "            console.log([gd, 'removed!']);\n",
       "            Plotly.purge(gd);\n",
       "            observer.disconnect();\n",
       "        }}\n",
       "}});\n",
       "\n",
       "// Listen for the removal of the full notebook cells\n",
       "var notebookContainer = gd.closest('#notebook-container');\n",
       "if (notebookContainer) {{\n",
       "    x.observe(notebookContainer, {childList: true});\n",
       "}}\n",
       "\n",
       "// Listen for the clearing of the current output cell\n",
       "var outputEl = gd.closest('.output');\n",
       "if (outputEl) {{\n",
       "    x.observe(outputEl, {childList: true});\n",
       "}}\n",
       "\n",
       "                        })                };                });            </script>        </div>"
      ]
     },
     "metadata": {},
     "output_type": "display_data"
    }
   ],
   "source": [
    "df['A'].iplot(kind='hist',bins=50)"
   ]
  },
  {
   "cell_type": "code",
   "execution_count": 32,
   "id": "21c2766b",
   "metadata": {},
   "outputs": [
    {
     "name": "stderr",
     "output_type": "stream",
     "text": [
      "C:\\ProgramData\\Anaconda3\\lib\\site-packages\\cufflinks\\plotlytools.py:849: FutureWarning:\n",
      "\n",
      "The pandas.np module is deprecated and will be removed from pandas in a future version. Import numpy directly instead\n",
      "\n",
      "C:\\ProgramData\\Anaconda3\\lib\\site-packages\\cufflinks\\plotlytools.py:850: FutureWarning:\n",
      "\n",
      "The pandas.np module is deprecated and will be removed from pandas in a future version. Import numpy directly instead\n",
      "\n"
     ]
    },
    {
     "data": {
      "application/vnd.plotly.v1+json": {
       "config": {
        "linkText": "Export to plot.ly",
        "plotlyServerURL": "https://plot.ly",
        "showLink": true
       },
       "data": [
        {
         "line": {
          "color": "rgba(255, 153, 51, 1.0)",
          "dash": "solid",
          "shape": "linear",
          "width": 1.3
         },
         "mode": "lines",
         "name": "A",
         "text": "",
         "type": "scatter",
         "x": [
          0,
          1,
          2,
          3,
          4,
          5,
          6,
          7,
          8,
          9,
          10,
          11,
          12,
          13,
          14,
          15,
          16,
          17,
          18,
          19,
          20,
          21,
          22,
          23,
          24,
          25,
          26,
          27,
          28,
          29,
          30,
          31,
          32,
          33,
          34,
          35,
          36,
          37,
          38,
          39,
          40,
          41,
          42,
          43,
          44,
          45,
          46,
          47,
          48,
          49,
          50,
          51,
          52,
          53,
          54,
          55,
          56,
          57,
          58,
          59,
          60,
          61,
          62,
          63,
          64,
          65,
          66,
          67,
          68,
          69,
          70,
          71,
          72,
          73,
          74,
          75,
          76,
          77,
          78,
          79,
          80,
          81,
          82,
          83,
          84,
          85,
          86,
          87,
          88,
          89,
          90,
          91,
          92,
          93,
          94,
          95,
          96,
          97,
          98,
          99
         ],
         "y": [
          0.007097092789972175,
          -0.2507980967337128,
          0.5756887159748832,
          1.008554175812353,
          -2.6283592090659873,
          1.6897482724042978,
          -0.8474374630661906,
          -0.885832540802959,
          0.4165769995034404,
          0.3252308691285932,
          0.15654813843776863,
          0.32000464521458294,
          0.22512579404893415,
          -0.9790000089937704,
          -0.3580302188491322,
          -0.7226009569936725,
          0.42102829268405206,
          0.2230306013098082,
          -0.4894846120344407,
          0.566997691727052,
          0.7607780966610685,
          0.23179719324520257,
          0.3740720066436934,
          -0.3268113355342848,
          -0.18724635850271712,
          -0.43897158097130873,
          0.3311812464599041,
          -1.7464259691116253,
          -0.7003744338871739,
          -1.1273844453143265,
          -1.4433016423607514,
          -1.9331587985472232,
          -0.4416755962896438,
          0.3540378946293956,
          -2.3205791602958827,
          -0.6145551930755045,
          -1.0991258362026313,
          0.945377164629423,
          0.7660013927940503,
          0.8096965391921613,
          -1.011703590573019,
          -0.41828365667679634,
          -1.4791244765991614,
          -0.5761080113817664,
          0.7449599286623099,
          0.42270136868761493,
          -0.40390348558849554,
          0.36669812346527975,
          0.7481364566653947,
          1.5353321018275836,
          -1.3371004213241013,
          -1.4942270443891712,
          0.0710723740451789,
          -0.0006575669951469768,
          -0.22534602111696125,
          -1.172041314702635,
          1.123901859153798,
          -0.2542859826880914,
          -0.11703759236657453,
          -0.8142079592044608,
          -1.0542576188191066,
          0.546313307317542,
          -0.8447663571066834,
          -1.1131193312433463,
          0.4587848706424149,
          2.6591625662829146,
          -0.015121925395850002,
          -0.09109764156500297,
          0.4526267555190351,
          -0.24918265339293869,
          0.2750713724462446,
          0.9645876496605769,
          0.6886893955579118,
          1.1337676914267782,
          -0.20303842320923898,
          -1.0816855549346296,
          -1.1082516347864104,
          -0.7242762213979465,
          -1.2179557113588813,
          -1.7245807252123906,
          2.1746231931296514,
          -0.31174746522478336,
          -0.3329591568687766,
          -0.499939085089008,
          0.36520642633824857,
          -1.0458452355028378,
          0.3306941382140081,
          1.2923882218609148,
          0.33893456539783484,
          0.9869969913865074,
          -0.6450150360855204,
          -0.02753327885205397,
          -1.3624539641043698,
          0.6002984616132592,
          -1.432946169513228,
          -0.5951750844353458,
          0.9740904886924309,
          -0.23690369561450986,
          1.2616316919343114,
          0.45897564550142733
         ]
        },
        {
         "line": {
          "color": "rgba(55, 128, 191, 1.0)",
          "dash": "solid",
          "shape": "linear",
          "width": 1.3
         },
         "mode": "lines",
         "name": "B",
         "text": "",
         "type": "scatter",
         "x": [
          0,
          1,
          2,
          3,
          4,
          5,
          6,
          7,
          8,
          9,
          10,
          11,
          12,
          13,
          14,
          15,
          16,
          17,
          18,
          19,
          20,
          21,
          22,
          23,
          24,
          25,
          26,
          27,
          28,
          29,
          30,
          31,
          32,
          33,
          34,
          35,
          36,
          37,
          38,
          39,
          40,
          41,
          42,
          43,
          44,
          45,
          46,
          47,
          48,
          49,
          50,
          51,
          52,
          53,
          54,
          55,
          56,
          57,
          58,
          59,
          60,
          61,
          62,
          63,
          64,
          65,
          66,
          67,
          68,
          69,
          70,
          71,
          72,
          73,
          74,
          75,
          76,
          77,
          78,
          79,
          80,
          81,
          82,
          83,
          84,
          85,
          86,
          87,
          88,
          89,
          90,
          91,
          92,
          93,
          94,
          95,
          96,
          97,
          98,
          99
         ],
         "y": [
          1.0015685518890944,
          -1.6664086034303247,
          -1.4778111106947436,
          -0.7751255716259327,
          -1.4389565480396826,
          -1.6482938194416763,
          -1.506955683250337,
          0.2645971502651818,
          1.3192834739719805,
          0.33003703872957946,
          -0.1361520326958087,
          -1.3261155345688718,
          -1.204549680637177,
          0.3850583175509835,
          -0.3716158383803578,
          -0.6195146999634619,
          -0.996136086782592,
          -0.8444102927779795,
          -0.19276359031819187,
          0.08705580927796512,
          -0.3386322034460392,
          -0.6574543866595249,
          0.9478662810005158,
          -0.687885352767681,
          0.6015622856400247,
          0.25560908288184436,
          1.4082884056443346,
          -1.6772205012167196,
          0.5931670213401689,
          -0.20747584976568403,
          -1.042688109102613,
          0.3199247638241327,
          1.112879332773885,
          -0.6983477572766444,
          0.9909467462256175,
          -0.4702970722918106,
          0.3093044428150858,
          0.3442171189806224,
          0.40125331687981614,
          -0.9680466754947346,
          1.331024386460877,
          0.9700923553259135,
          0.14177352703313215,
          1.1490024377552774,
          -0.5259677383265647,
          -2.4786187225057223,
          2.075185652874105,
          -0.7934797710348597,
          -1.0812774636843718,
          1.33656414940059,
          1.167397360723972,
          0.922865585510867,
          0.07324989663541134,
          0.7157238614039628,
          -0.7484481402430851,
          0.48528402451312097,
          0.7511743146837414,
          0.4954149925198047,
          -1.11798381149081,
          0.29057128739668125,
          -1.3345464787750942,
          0.30198862771295165,
          0.707615903109009,
          1.6500185866666577,
          0.49276185597511885,
          -1.6571574050679154,
          -2.09094633959671,
          -0.3593627718648167,
          -1.6164724433213713,
          1.483388465917525,
          -0.25114671220587437,
          1.4662187742718724,
          -0.9062039290353936,
          -0.31360181319845404,
          0.9439194230341262,
          -0.12829533899369105,
          1.599093495914871,
          0.5583649783812819,
          -0.7561134141743251,
          -0.48882952610388714,
          -0.8669124668710848,
          -0.20869738384286052,
          -2.485808077029097,
          -1.0729464262607684,
          1.021856771895166,
          0.5857795865634028,
          0.8361142241220432,
          -1.048416757395772,
          -0.598914564611235,
          -1.1063945049183166,
          -0.9420740389395011,
          -1.5173258027035248,
          0.9807347509409816,
          1.5659650379880938,
          0.7249585649931194,
          -0.016215203047882022,
          -0.04401588783851069,
          2.0029297466320037,
          -1.2835695323754206,
          -0.9558328695916015
         ]
        },
        {
         "connectgaps": false,
         "fill": "tozeroy",
         "line": {
          "color": "green",
          "dash": "solid",
          "shape": "linear",
          "width": 0.5
         },
         "mode": "lines",
         "name": "Spread",
         "showlegend": false,
         "type": "scatter",
         "x": [
          0,
          1,
          2,
          3,
          4,
          5,
          6,
          7,
          8,
          9,
          10,
          11,
          12,
          13,
          14,
          15,
          16,
          17,
          18,
          19,
          20,
          21,
          22,
          23,
          24,
          25,
          26,
          27,
          28,
          29,
          30,
          31,
          32,
          33,
          34,
          35,
          36,
          37,
          38,
          39,
          40,
          41,
          42,
          43,
          44,
          45,
          46,
          47,
          48,
          49,
          50,
          51,
          52,
          53,
          54,
          55,
          56,
          57,
          58,
          59,
          60,
          61,
          62,
          63,
          64,
          65,
          66,
          67,
          68,
          69,
          70,
          71,
          72,
          73,
          74,
          75,
          76,
          77,
          78,
          79,
          80,
          81,
          82,
          83,
          84,
          85,
          86,
          87,
          88,
          89,
          90,
          91,
          92,
          93,
          94,
          95,
          96,
          97,
          98,
          99
         ],
         "xaxis": "x2",
         "y": [
          "",
          1.4156105066966118,
          2.053499826669627,
          1.7836797474382857,
          "",
          3.338042091845974,
          0.6595182201841464,
          "",
          "",
          "",
          0.2927001711335773,
          1.6461201797834546,
          1.4296754746861111,
          "",
          0.013585619531225557,
          "",
          1.417164379466644,
          1.0674408940877878,
          "",
          0.4799418824490868,
          1.0994103001071078,
          0.8892515799047275,
          "",
          0.3610740172333962,
          "",
          "",
          "",
          "",
          "",
          "",
          "",
          "",
          "",
          1.05238565190604,
          "",
          "",
          "",
          0.6011600456488007,
          0.3647480759142342,
          1.777743214686896,
          "",
          "",
          "",
          "",
          1.2709276669888747,
          2.9013200911933374,
          "",
          1.1601778945001393,
          1.8294139203497666,
          0.19876795242699363,
          "",
          "",
          "",
          "",
          0.5231021191261239,
          "",
          0.3727275444700565,
          "",
          1.0009462191242355,
          "",
          0.2802888599559876,
          0.24432467960459037,
          "",
          "",
          "",
          4.31631997135083,
          2.07582441420086,
          0.2682651302998137,
          2.0690991988404064,
          "",
          0.526218084652119,
          "",
          1.5948933245933055,
          1.4473695046252324,
          "",
          "",
          "",
          "",
          "",
          "",
          3.0415356600007364,
          "",
          2.1528489201603205,
          0.5730073411717604,
          "",
          "",
          "",
          2.3408049792566867,
          0.9378491300090699,
          2.093391496304824,
          0.2970590028539808,
          1.4897925238514709,
          "",
          "",
          "",
          "",
          1.0181063765309415,
          "",
          2.545201224309732,
          1.414808515093029
         ],
         "yaxis": "y2"
        },
        {
         "connectgaps": false,
         "fill": "tozeroy",
         "line": {
          "color": "red",
          "dash": "solid",
          "shape": "linear",
          "width": 0.5
         },
         "mode": "lines",
         "name": "Spread",
         "showlegend": false,
         "type": "scatter",
         "x": [
          0,
          1,
          2,
          3,
          4,
          5,
          6,
          7,
          8,
          9,
          10,
          11,
          12,
          13,
          14,
          15,
          16,
          17,
          18,
          19,
          20,
          21,
          22,
          23,
          24,
          25,
          26,
          27,
          28,
          29,
          30,
          31,
          32,
          33,
          34,
          35,
          36,
          37,
          38,
          39,
          40,
          41,
          42,
          43,
          44,
          45,
          46,
          47,
          48,
          49,
          50,
          51,
          52,
          53,
          54,
          55,
          56,
          57,
          58,
          59,
          60,
          61,
          62,
          63,
          64,
          65,
          66,
          67,
          68,
          69,
          70,
          71,
          72,
          73,
          74,
          75,
          76,
          77,
          78,
          79,
          80,
          81,
          82,
          83,
          84,
          85,
          86,
          87,
          88,
          89,
          90,
          91,
          92,
          93,
          94,
          95,
          96,
          97,
          98,
          99
         ],
         "xaxis": "x2",
         "y": [
          -0.9944714590991223,
          "",
          "",
          "",
          -1.1894026610263047,
          "",
          "",
          -1.1504296910681409,
          -0.9027064744685401,
          -0.004806169600986232,
          "",
          "",
          "",
          -1.364058326544754,
          "",
          -0.10308625703021068,
          "",
          "",
          -0.2967210217162488,
          "",
          "",
          "",
          -0.5737942743568225,
          "",
          -0.7888086441427418,
          -0.6945806638531531,
          -1.0771071591844303,
          -0.06920546789490567,
          -1.2935414552273428,
          -0.9199085955486425,
          -0.4006135332581384,
          -2.253083562371356,
          -1.5545549290635288,
          "",
          -3.3115259065215,
          -0.14425812078369393,
          -1.408430279017717,
          "",
          "",
          "",
          -2.342727977033896,
          -1.38837601200271,
          -1.6208980036322935,
          -1.725110449137044,
          "",
          "",
          -2.4790891384626006,
          "",
          "",
          "",
          -2.504497782048073,
          -2.417092629900038,
          -0.0021775225902324474,
          -0.7163814283991098,
          "",
          -1.6573253392157559,
          "",
          -0.749700975207896,
          "",
          -1.104779246601142,
          "",
          "",
          -1.5523822602156923,
          -2.763137917910004,
          -0.033976985332703935,
          "",
          "",
          "",
          "",
          -1.7325711193104636,
          "",
          -0.5016311246112956,
          "",
          "",
          -1.1469578462433652,
          -0.9533902159409385,
          -2.7073451307012815,
          -1.2826411997792282,
          -0.46184229718455616,
          -1.2357511991085035,
          "",
          -0.10305008138192284,
          "",
          "",
          -0.6566503455569175,
          -1.6316248220662406,
          -0.5054200859080351,
          "",
          "",
          "",
          "",
          "",
          -2.3431887150453514,
          -0.9656665763748347,
          -2.1579047345063476,
          -0.5789598813874638,
          "",
          -2.2398334422465136,
          "",
          ""
         ],
         "yaxis": "y2"
        }
       ],
       "layout": {
        "hovermode": "x",
        "legend": {
         "bgcolor": "#F5F6F9",
         "font": {
          "color": "#4D5663"
         }
        },
        "paper_bgcolor": "#F5F6F9",
        "plot_bgcolor": "#F5F6F9",
        "template": {
         "data": {
          "bar": [
           {
            "error_x": {
             "color": "#2a3f5f"
            },
            "error_y": {
             "color": "#2a3f5f"
            },
            "marker": {
             "line": {
              "color": "#E5ECF6",
              "width": 0.5
             },
             "pattern": {
              "fillmode": "overlay",
              "size": 10,
              "solidity": 0.2
             }
            },
            "type": "bar"
           }
          ],
          "barpolar": [
           {
            "marker": {
             "line": {
              "color": "#E5ECF6",
              "width": 0.5
             },
             "pattern": {
              "fillmode": "overlay",
              "size": 10,
              "solidity": 0.2
             }
            },
            "type": "barpolar"
           }
          ],
          "carpet": [
           {
            "aaxis": {
             "endlinecolor": "#2a3f5f",
             "gridcolor": "white",
             "linecolor": "white",
             "minorgridcolor": "white",
             "startlinecolor": "#2a3f5f"
            },
            "baxis": {
             "endlinecolor": "#2a3f5f",
             "gridcolor": "white",
             "linecolor": "white",
             "minorgridcolor": "white",
             "startlinecolor": "#2a3f5f"
            },
            "type": "carpet"
           }
          ],
          "choropleth": [
           {
            "colorbar": {
             "outlinewidth": 0,
             "ticks": ""
            },
            "type": "choropleth"
           }
          ],
          "contour": [
           {
            "colorbar": {
             "outlinewidth": 0,
             "ticks": ""
            },
            "colorscale": [
             [
              0,
              "#0d0887"
             ],
             [
              0.1111111111111111,
              "#46039f"
             ],
             [
              0.2222222222222222,
              "#7201a8"
             ],
             [
              0.3333333333333333,
              "#9c179e"
             ],
             [
              0.4444444444444444,
              "#bd3786"
             ],
             [
              0.5555555555555556,
              "#d8576b"
             ],
             [
              0.6666666666666666,
              "#ed7953"
             ],
             [
              0.7777777777777778,
              "#fb9f3a"
             ],
             [
              0.8888888888888888,
              "#fdca26"
             ],
             [
              1,
              "#f0f921"
             ]
            ],
            "type": "contour"
           }
          ],
          "contourcarpet": [
           {
            "colorbar": {
             "outlinewidth": 0,
             "ticks": ""
            },
            "type": "contourcarpet"
           }
          ],
          "heatmap": [
           {
            "colorbar": {
             "outlinewidth": 0,
             "ticks": ""
            },
            "colorscale": [
             [
              0,
              "#0d0887"
             ],
             [
              0.1111111111111111,
              "#46039f"
             ],
             [
              0.2222222222222222,
              "#7201a8"
             ],
             [
              0.3333333333333333,
              "#9c179e"
             ],
             [
              0.4444444444444444,
              "#bd3786"
             ],
             [
              0.5555555555555556,
              "#d8576b"
             ],
             [
              0.6666666666666666,
              "#ed7953"
             ],
             [
              0.7777777777777778,
              "#fb9f3a"
             ],
             [
              0.8888888888888888,
              "#fdca26"
             ],
             [
              1,
              "#f0f921"
             ]
            ],
            "type": "heatmap"
           }
          ],
          "heatmapgl": [
           {
            "colorbar": {
             "outlinewidth": 0,
             "ticks": ""
            },
            "colorscale": [
             [
              0,
              "#0d0887"
             ],
             [
              0.1111111111111111,
              "#46039f"
             ],
             [
              0.2222222222222222,
              "#7201a8"
             ],
             [
              0.3333333333333333,
              "#9c179e"
             ],
             [
              0.4444444444444444,
              "#bd3786"
             ],
             [
              0.5555555555555556,
              "#d8576b"
             ],
             [
              0.6666666666666666,
              "#ed7953"
             ],
             [
              0.7777777777777778,
              "#fb9f3a"
             ],
             [
              0.8888888888888888,
              "#fdca26"
             ],
             [
              1,
              "#f0f921"
             ]
            ],
            "type": "heatmapgl"
           }
          ],
          "histogram": [
           {
            "marker": {
             "pattern": {
              "fillmode": "overlay",
              "size": 10,
              "solidity": 0.2
             }
            },
            "type": "histogram"
           }
          ],
          "histogram2d": [
           {
            "colorbar": {
             "outlinewidth": 0,
             "ticks": ""
            },
            "colorscale": [
             [
              0,
              "#0d0887"
             ],
             [
              0.1111111111111111,
              "#46039f"
             ],
             [
              0.2222222222222222,
              "#7201a8"
             ],
             [
              0.3333333333333333,
              "#9c179e"
             ],
             [
              0.4444444444444444,
              "#bd3786"
             ],
             [
              0.5555555555555556,
              "#d8576b"
             ],
             [
              0.6666666666666666,
              "#ed7953"
             ],
             [
              0.7777777777777778,
              "#fb9f3a"
             ],
             [
              0.8888888888888888,
              "#fdca26"
             ],
             [
              1,
              "#f0f921"
             ]
            ],
            "type": "histogram2d"
           }
          ],
          "histogram2dcontour": [
           {
            "colorbar": {
             "outlinewidth": 0,
             "ticks": ""
            },
            "colorscale": [
             [
              0,
              "#0d0887"
             ],
             [
              0.1111111111111111,
              "#46039f"
             ],
             [
              0.2222222222222222,
              "#7201a8"
             ],
             [
              0.3333333333333333,
              "#9c179e"
             ],
             [
              0.4444444444444444,
              "#bd3786"
             ],
             [
              0.5555555555555556,
              "#d8576b"
             ],
             [
              0.6666666666666666,
              "#ed7953"
             ],
             [
              0.7777777777777778,
              "#fb9f3a"
             ],
             [
              0.8888888888888888,
              "#fdca26"
             ],
             [
              1,
              "#f0f921"
             ]
            ],
            "type": "histogram2dcontour"
           }
          ],
          "mesh3d": [
           {
            "colorbar": {
             "outlinewidth": 0,
             "ticks": ""
            },
            "type": "mesh3d"
           }
          ],
          "parcoords": [
           {
            "line": {
             "colorbar": {
              "outlinewidth": 0,
              "ticks": ""
             }
            },
            "type": "parcoords"
           }
          ],
          "pie": [
           {
            "automargin": true,
            "type": "pie"
           }
          ],
          "scatter": [
           {
            "fillpattern": {
             "fillmode": "overlay",
             "size": 10,
             "solidity": 0.2
            },
            "type": "scatter"
           }
          ],
          "scatter3d": [
           {
            "line": {
             "colorbar": {
              "outlinewidth": 0,
              "ticks": ""
             }
            },
            "marker": {
             "colorbar": {
              "outlinewidth": 0,
              "ticks": ""
             }
            },
            "type": "scatter3d"
           }
          ],
          "scattercarpet": [
           {
            "marker": {
             "colorbar": {
              "outlinewidth": 0,
              "ticks": ""
             }
            },
            "type": "scattercarpet"
           }
          ],
          "scattergeo": [
           {
            "marker": {
             "colorbar": {
              "outlinewidth": 0,
              "ticks": ""
             }
            },
            "type": "scattergeo"
           }
          ],
          "scattergl": [
           {
            "marker": {
             "colorbar": {
              "outlinewidth": 0,
              "ticks": ""
             }
            },
            "type": "scattergl"
           }
          ],
          "scattermapbox": [
           {
            "marker": {
             "colorbar": {
              "outlinewidth": 0,
              "ticks": ""
             }
            },
            "type": "scattermapbox"
           }
          ],
          "scatterpolar": [
           {
            "marker": {
             "colorbar": {
              "outlinewidth": 0,
              "ticks": ""
             }
            },
            "type": "scatterpolar"
           }
          ],
          "scatterpolargl": [
           {
            "marker": {
             "colorbar": {
              "outlinewidth": 0,
              "ticks": ""
             }
            },
            "type": "scatterpolargl"
           }
          ],
          "scatterternary": [
           {
            "marker": {
             "colorbar": {
              "outlinewidth": 0,
              "ticks": ""
             }
            },
            "type": "scatterternary"
           }
          ],
          "surface": [
           {
            "colorbar": {
             "outlinewidth": 0,
             "ticks": ""
            },
            "colorscale": [
             [
              0,
              "#0d0887"
             ],
             [
              0.1111111111111111,
              "#46039f"
             ],
             [
              0.2222222222222222,
              "#7201a8"
             ],
             [
              0.3333333333333333,
              "#9c179e"
             ],
             [
              0.4444444444444444,
              "#bd3786"
             ],
             [
              0.5555555555555556,
              "#d8576b"
             ],
             [
              0.6666666666666666,
              "#ed7953"
             ],
             [
              0.7777777777777778,
              "#fb9f3a"
             ],
             [
              0.8888888888888888,
              "#fdca26"
             ],
             [
              1,
              "#f0f921"
             ]
            ],
            "type": "surface"
           }
          ],
          "table": [
           {
            "cells": {
             "fill": {
              "color": "#EBF0F8"
             },
             "line": {
              "color": "white"
             }
            },
            "header": {
             "fill": {
              "color": "#C8D4E3"
             },
             "line": {
              "color": "white"
             }
            },
            "type": "table"
           }
          ]
         },
         "layout": {
          "annotationdefaults": {
           "arrowcolor": "#2a3f5f",
           "arrowhead": 0,
           "arrowwidth": 1
          },
          "autotypenumbers": "strict",
          "coloraxis": {
           "colorbar": {
            "outlinewidth": 0,
            "ticks": ""
           }
          },
          "colorscale": {
           "diverging": [
            [
             0,
             "#8e0152"
            ],
            [
             0.1,
             "#c51b7d"
            ],
            [
             0.2,
             "#de77ae"
            ],
            [
             0.3,
             "#f1b6da"
            ],
            [
             0.4,
             "#fde0ef"
            ],
            [
             0.5,
             "#f7f7f7"
            ],
            [
             0.6,
             "#e6f5d0"
            ],
            [
             0.7,
             "#b8e186"
            ],
            [
             0.8,
             "#7fbc41"
            ],
            [
             0.9,
             "#4d9221"
            ],
            [
             1,
             "#276419"
            ]
           ],
           "sequential": [
            [
             0,
             "#0d0887"
            ],
            [
             0.1111111111111111,
             "#46039f"
            ],
            [
             0.2222222222222222,
             "#7201a8"
            ],
            [
             0.3333333333333333,
             "#9c179e"
            ],
            [
             0.4444444444444444,
             "#bd3786"
            ],
            [
             0.5555555555555556,
             "#d8576b"
            ],
            [
             0.6666666666666666,
             "#ed7953"
            ],
            [
             0.7777777777777778,
             "#fb9f3a"
            ],
            [
             0.8888888888888888,
             "#fdca26"
            ],
            [
             1,
             "#f0f921"
            ]
           ],
           "sequentialminus": [
            [
             0,
             "#0d0887"
            ],
            [
             0.1111111111111111,
             "#46039f"
            ],
            [
             0.2222222222222222,
             "#7201a8"
            ],
            [
             0.3333333333333333,
             "#9c179e"
            ],
            [
             0.4444444444444444,
             "#bd3786"
            ],
            [
             0.5555555555555556,
             "#d8576b"
            ],
            [
             0.6666666666666666,
             "#ed7953"
            ],
            [
             0.7777777777777778,
             "#fb9f3a"
            ],
            [
             0.8888888888888888,
             "#fdca26"
            ],
            [
             1,
             "#f0f921"
            ]
           ]
          },
          "colorway": [
           "#636efa",
           "#EF553B",
           "#00cc96",
           "#ab63fa",
           "#FFA15A",
           "#19d3f3",
           "#FF6692",
           "#B6E880",
           "#FF97FF",
           "#FECB52"
          ],
          "font": {
           "color": "#2a3f5f"
          },
          "geo": {
           "bgcolor": "white",
           "lakecolor": "white",
           "landcolor": "#E5ECF6",
           "showlakes": true,
           "showland": true,
           "subunitcolor": "white"
          },
          "hoverlabel": {
           "align": "left"
          },
          "hovermode": "closest",
          "mapbox": {
           "style": "light"
          },
          "paper_bgcolor": "white",
          "plot_bgcolor": "#E5ECF6",
          "polar": {
           "angularaxis": {
            "gridcolor": "white",
            "linecolor": "white",
            "ticks": ""
           },
           "bgcolor": "#E5ECF6",
           "radialaxis": {
            "gridcolor": "white",
            "linecolor": "white",
            "ticks": ""
           }
          },
          "scene": {
           "xaxis": {
            "backgroundcolor": "#E5ECF6",
            "gridcolor": "white",
            "gridwidth": 2,
            "linecolor": "white",
            "showbackground": true,
            "ticks": "",
            "zerolinecolor": "white"
           },
           "yaxis": {
            "backgroundcolor": "#E5ECF6",
            "gridcolor": "white",
            "gridwidth": 2,
            "linecolor": "white",
            "showbackground": true,
            "ticks": "",
            "zerolinecolor": "white"
           },
           "zaxis": {
            "backgroundcolor": "#E5ECF6",
            "gridcolor": "white",
            "gridwidth": 2,
            "linecolor": "white",
            "showbackground": true,
            "ticks": "",
            "zerolinecolor": "white"
           }
          },
          "shapedefaults": {
           "line": {
            "color": "#2a3f5f"
           }
          },
          "ternary": {
           "aaxis": {
            "gridcolor": "white",
            "linecolor": "white",
            "ticks": ""
           },
           "baxis": {
            "gridcolor": "white",
            "linecolor": "white",
            "ticks": ""
           },
           "bgcolor": "#E5ECF6",
           "caxis": {
            "gridcolor": "white",
            "linecolor": "white",
            "ticks": ""
           }
          },
          "title": {
           "x": 0.05
          },
          "xaxis": {
           "automargin": true,
           "gridcolor": "white",
           "linecolor": "white",
           "ticks": "",
           "title": {
            "standoff": 15
           },
           "zerolinecolor": "white",
           "zerolinewidth": 2
          },
          "yaxis": {
           "automargin": true,
           "gridcolor": "white",
           "linecolor": "white",
           "ticks": "",
           "title": {
            "standoff": 15
           },
           "zerolinecolor": "white",
           "zerolinewidth": 2
          }
         }
        },
        "title": {
         "font": {
          "color": "#4D5663"
         }
        },
        "xaxis": {
         "gridcolor": "#E1E5ED",
         "showgrid": true,
         "tickfont": {
          "color": "#4D5663"
         },
         "title": {
          "font": {
           "color": "#4D5663"
          },
          "text": ""
         },
         "zerolinecolor": "#E1E5ED"
        },
        "xaxis2": {
         "anchor": "y2",
         "gridcolor": "#E1E5ED",
         "showgrid": true,
         "showticklabels": false,
         "tickfont": {
          "color": "#4D5663"
         },
         "title": {
          "font": {
           "color": "#4D5663"
          },
          "text": ""
         },
         "zerolinecolor": "#E1E5ED"
        },
        "yaxis": {
         "domain": [
          0.3,
          1
         ],
         "gridcolor": "#E1E5ED",
         "showgrid": true,
         "tickfont": {
          "color": "#4D5663"
         },
         "title": {
          "font": {
           "color": "#4D5663"
          },
          "text": ""
         },
         "zerolinecolor": "#E1E5ED"
        },
        "yaxis2": {
         "domain": [
          0,
          0.25
         ],
         "gridcolor": "#E1E5ED",
         "showgrid": true,
         "tickfont": {
          "color": "#4D5663"
         },
         "title": {
          "font": {
           "color": "#4D5663"
          },
          "text": "Spread"
         },
         "zerolinecolor": "#E1E5ED"
        }
       }
      },
      "text/html": [
       "<div>                            <div id=\"23dce6d2-e763-4d74-bcaf-cce7a5517a8e\" class=\"plotly-graph-div\" style=\"height:525px; width:100%;\"></div>            <script type=\"text/javascript\">                require([\"plotly\"], function(Plotly) {                    window.PLOTLYENV=window.PLOTLYENV || {};\n",
       "                    window.PLOTLYENV.BASE_URL='https://plot.ly';                                    if (document.getElementById(\"23dce6d2-e763-4d74-bcaf-cce7a5517a8e\")) {                    Plotly.newPlot(                        \"23dce6d2-e763-4d74-bcaf-cce7a5517a8e\",                        [{\"line\":{\"color\":\"rgba(255, 153, 51, 1.0)\",\"dash\":\"solid\",\"shape\":\"linear\",\"width\":1.3},\"mode\":\"lines\",\"name\":\"A\",\"text\":\"\",\"x\":[0,1,2,3,4,5,6,7,8,9,10,11,12,13,14,15,16,17,18,19,20,21,22,23,24,25,26,27,28,29,30,31,32,33,34,35,36,37,38,39,40,41,42,43,44,45,46,47,48,49,50,51,52,53,54,55,56,57,58,59,60,61,62,63,64,65,66,67,68,69,70,71,72,73,74,75,76,77,78,79,80,81,82,83,84,85,86,87,88,89,90,91,92,93,94,95,96,97,98,99],\"y\":[0.007097092789972175,-0.2507980967337128,0.5756887159748832,1.008554175812353,-2.6283592090659873,1.6897482724042978,-0.8474374630661906,-0.885832540802959,0.4165769995034404,0.3252308691285932,0.15654813843776863,0.32000464521458294,0.22512579404893415,-0.9790000089937704,-0.3580302188491322,-0.7226009569936725,0.42102829268405206,0.2230306013098082,-0.4894846120344407,0.566997691727052,0.7607780966610685,0.23179719324520257,0.3740720066436934,-0.3268113355342848,-0.18724635850271712,-0.43897158097130873,0.3311812464599041,-1.7464259691116253,-0.7003744338871739,-1.1273844453143265,-1.4433016423607514,-1.9331587985472232,-0.4416755962896438,0.3540378946293956,-2.3205791602958827,-0.6145551930755045,-1.0991258362026313,0.945377164629423,0.7660013927940503,0.8096965391921613,-1.011703590573019,-0.41828365667679634,-1.4791244765991614,-0.5761080113817664,0.7449599286623099,0.42270136868761493,-0.40390348558849554,0.36669812346527975,0.7481364566653947,1.5353321018275836,-1.3371004213241013,-1.4942270443891712,0.0710723740451789,-0.0006575669951469768,-0.22534602111696125,-1.172041314702635,1.123901859153798,-0.2542859826880914,-0.11703759236657453,-0.8142079592044608,-1.0542576188191066,0.546313307317542,-0.8447663571066834,-1.1131193312433463,0.4587848706424149,2.6591625662829146,-0.015121925395850002,-0.09109764156500297,0.4526267555190351,-0.24918265339293869,0.2750713724462446,0.9645876496605769,0.6886893955579118,1.1337676914267782,-0.20303842320923898,-1.0816855549346296,-1.1082516347864104,-0.7242762213979465,-1.2179557113588813,-1.7245807252123906,2.1746231931296514,-0.31174746522478336,-0.3329591568687766,-0.499939085089008,0.36520642633824857,-1.0458452355028378,0.3306941382140081,1.2923882218609148,0.33893456539783484,0.9869969913865074,-0.6450150360855204,-0.02753327885205397,-1.3624539641043698,0.6002984616132592,-1.432946169513228,-0.5951750844353458,0.9740904886924309,-0.23690369561450986,1.2616316919343114,0.45897564550142733],\"type\":\"scatter\"},{\"line\":{\"color\":\"rgba(55, 128, 191, 1.0)\",\"dash\":\"solid\",\"shape\":\"linear\",\"width\":1.3},\"mode\":\"lines\",\"name\":\"B\",\"text\":\"\",\"x\":[0,1,2,3,4,5,6,7,8,9,10,11,12,13,14,15,16,17,18,19,20,21,22,23,24,25,26,27,28,29,30,31,32,33,34,35,36,37,38,39,40,41,42,43,44,45,46,47,48,49,50,51,52,53,54,55,56,57,58,59,60,61,62,63,64,65,66,67,68,69,70,71,72,73,74,75,76,77,78,79,80,81,82,83,84,85,86,87,88,89,90,91,92,93,94,95,96,97,98,99],\"y\":[1.0015685518890944,-1.6664086034303247,-1.4778111106947436,-0.7751255716259327,-1.4389565480396826,-1.6482938194416763,-1.506955683250337,0.2645971502651818,1.3192834739719805,0.33003703872957946,-0.1361520326958087,-1.3261155345688718,-1.204549680637177,0.3850583175509835,-0.3716158383803578,-0.6195146999634619,-0.996136086782592,-0.8444102927779795,-0.19276359031819187,0.08705580927796512,-0.3386322034460392,-0.6574543866595249,0.9478662810005158,-0.687885352767681,0.6015622856400247,0.25560908288184436,1.4082884056443346,-1.6772205012167196,0.5931670213401689,-0.20747584976568403,-1.042688109102613,0.3199247638241327,1.112879332773885,-0.6983477572766444,0.9909467462256175,-0.4702970722918106,0.3093044428150858,0.3442171189806224,0.40125331687981614,-0.9680466754947346,1.331024386460877,0.9700923553259135,0.14177352703313215,1.1490024377552774,-0.5259677383265647,-2.4786187225057223,2.075185652874105,-0.7934797710348597,-1.0812774636843718,1.33656414940059,1.167397360723972,0.922865585510867,0.07324989663541134,0.7157238614039628,-0.7484481402430851,0.48528402451312097,0.7511743146837414,0.4954149925198047,-1.11798381149081,0.29057128739668125,-1.3345464787750942,0.30198862771295165,0.707615903109009,1.6500185866666577,0.49276185597511885,-1.6571574050679154,-2.09094633959671,-0.3593627718648167,-1.6164724433213713,1.483388465917525,-0.25114671220587437,1.4662187742718724,-0.9062039290353936,-0.31360181319845404,0.9439194230341262,-0.12829533899369105,1.599093495914871,0.5583649783812819,-0.7561134141743251,-0.48882952610388714,-0.8669124668710848,-0.20869738384286052,-2.485808077029097,-1.0729464262607684,1.021856771895166,0.5857795865634028,0.8361142241220432,-1.048416757395772,-0.598914564611235,-1.1063945049183166,-0.9420740389395011,-1.5173258027035248,0.9807347509409816,1.5659650379880938,0.7249585649931194,-0.016215203047882022,-0.04401588783851069,2.0029297466320037,-1.2835695323754206,-0.9558328695916015],\"type\":\"scatter\"},{\"connectgaps\":false,\"fill\":\"tozeroy\",\"line\":{\"color\":\"green\",\"dash\":\"solid\",\"shape\":\"linear\",\"width\":0.5},\"mode\":\"lines\",\"name\":\"Spread\",\"showlegend\":false,\"x\":[0,1,2,3,4,5,6,7,8,9,10,11,12,13,14,15,16,17,18,19,20,21,22,23,24,25,26,27,28,29,30,31,32,33,34,35,36,37,38,39,40,41,42,43,44,45,46,47,48,49,50,51,52,53,54,55,56,57,58,59,60,61,62,63,64,65,66,67,68,69,70,71,72,73,74,75,76,77,78,79,80,81,82,83,84,85,86,87,88,89,90,91,92,93,94,95,96,97,98,99],\"xaxis\":\"x2\",\"y\":[\"\",1.4156105066966118,2.053499826669627,1.7836797474382857,\"\",3.338042091845974,0.6595182201841464,\"\",\"\",\"\",0.2927001711335773,1.6461201797834546,1.4296754746861111,\"\",0.013585619531225557,\"\",1.417164379466644,1.0674408940877878,\"\",0.4799418824490868,1.0994103001071078,0.8892515799047275,\"\",0.3610740172333962,\"\",\"\",\"\",\"\",\"\",\"\",\"\",\"\",\"\",1.05238565190604,\"\",\"\",\"\",0.6011600456488007,0.3647480759142342,1.777743214686896,\"\",\"\",\"\",\"\",1.2709276669888747,2.9013200911933374,\"\",1.1601778945001393,1.8294139203497666,0.19876795242699363,\"\",\"\",\"\",\"\",0.5231021191261239,\"\",0.3727275444700565,\"\",1.0009462191242355,\"\",0.2802888599559876,0.24432467960459037,\"\",\"\",\"\",4.31631997135083,2.07582441420086,0.2682651302998137,2.0690991988404064,\"\",0.526218084652119,\"\",1.5948933245933055,1.4473695046252324,\"\",\"\",\"\",\"\",\"\",\"\",3.0415356600007364,\"\",2.1528489201603205,0.5730073411717604,\"\",\"\",\"\",2.3408049792566867,0.9378491300090699,2.093391496304824,0.2970590028539808,1.4897925238514709,\"\",\"\",\"\",\"\",1.0181063765309415,\"\",2.545201224309732,1.414808515093029],\"yaxis\":\"y2\",\"type\":\"scatter\"},{\"connectgaps\":false,\"fill\":\"tozeroy\",\"line\":{\"color\":\"red\",\"dash\":\"solid\",\"shape\":\"linear\",\"width\":0.5},\"mode\":\"lines\",\"name\":\"Spread\",\"showlegend\":false,\"x\":[0,1,2,3,4,5,6,7,8,9,10,11,12,13,14,15,16,17,18,19,20,21,22,23,24,25,26,27,28,29,30,31,32,33,34,35,36,37,38,39,40,41,42,43,44,45,46,47,48,49,50,51,52,53,54,55,56,57,58,59,60,61,62,63,64,65,66,67,68,69,70,71,72,73,74,75,76,77,78,79,80,81,82,83,84,85,86,87,88,89,90,91,92,93,94,95,96,97,98,99],\"xaxis\":\"x2\",\"y\":[-0.9944714590991223,\"\",\"\",\"\",-1.1894026610263047,\"\",\"\",-1.1504296910681409,-0.9027064744685401,-0.004806169600986232,\"\",\"\",\"\",-1.364058326544754,\"\",-0.10308625703021068,\"\",\"\",-0.2967210217162488,\"\",\"\",\"\",-0.5737942743568225,\"\",-0.7888086441427418,-0.6945806638531531,-1.0771071591844303,-0.06920546789490567,-1.2935414552273428,-0.9199085955486425,-0.4006135332581384,-2.253083562371356,-1.5545549290635288,\"\",-3.3115259065215,-0.14425812078369393,-1.408430279017717,\"\",\"\",\"\",-2.342727977033896,-1.38837601200271,-1.6208980036322935,-1.725110449137044,\"\",\"\",-2.4790891384626006,\"\",\"\",\"\",-2.504497782048073,-2.417092629900038,-0.0021775225902324474,-0.7163814283991098,\"\",-1.6573253392157559,\"\",-0.749700975207896,\"\",-1.104779246601142,\"\",\"\",-1.5523822602156923,-2.763137917910004,-0.033976985332703935,\"\",\"\",\"\",\"\",-1.7325711193104636,\"\",-0.5016311246112956,\"\",\"\",-1.1469578462433652,-0.9533902159409385,-2.7073451307012815,-1.2826411997792282,-0.46184229718455616,-1.2357511991085035,\"\",-0.10305008138192284,\"\",\"\",-0.6566503455569175,-1.6316248220662406,-0.5054200859080351,\"\",\"\",\"\",\"\",\"\",-2.3431887150453514,-0.9656665763748347,-2.1579047345063476,-0.5789598813874638,\"\",-2.2398334422465136,\"\",\"\"],\"yaxis\":\"y2\",\"type\":\"scatter\"}],                        {\"hovermode\":\"x\",\"legend\":{\"bgcolor\":\"#F5F6F9\",\"font\":{\"color\":\"#4D5663\"}},\"paper_bgcolor\":\"#F5F6F9\",\"plot_bgcolor\":\"#F5F6F9\",\"template\":{\"data\":{\"barpolar\":[{\"marker\":{\"line\":{\"color\":\"#E5ECF6\",\"width\":0.5},\"pattern\":{\"fillmode\":\"overlay\",\"size\":10,\"solidity\":0.2}},\"type\":\"barpolar\"}],\"bar\":[{\"error_x\":{\"color\":\"#2a3f5f\"},\"error_y\":{\"color\":\"#2a3f5f\"},\"marker\":{\"line\":{\"color\":\"#E5ECF6\",\"width\":0.5},\"pattern\":{\"fillmode\":\"overlay\",\"size\":10,\"solidity\":0.2}},\"type\":\"bar\"}],\"carpet\":[{\"aaxis\":{\"endlinecolor\":\"#2a3f5f\",\"gridcolor\":\"white\",\"linecolor\":\"white\",\"minorgridcolor\":\"white\",\"startlinecolor\":\"#2a3f5f\"},\"baxis\":{\"endlinecolor\":\"#2a3f5f\",\"gridcolor\":\"white\",\"linecolor\":\"white\",\"minorgridcolor\":\"white\",\"startlinecolor\":\"#2a3f5f\"},\"type\":\"carpet\"}],\"choropleth\":[{\"colorbar\":{\"outlinewidth\":0,\"ticks\":\"\"},\"type\":\"choropleth\"}],\"contourcarpet\":[{\"colorbar\":{\"outlinewidth\":0,\"ticks\":\"\"},\"type\":\"contourcarpet\"}],\"contour\":[{\"colorbar\":{\"outlinewidth\":0,\"ticks\":\"\"},\"colorscale\":[[0.0,\"#0d0887\"],[0.1111111111111111,\"#46039f\"],[0.2222222222222222,\"#7201a8\"],[0.3333333333333333,\"#9c179e\"],[0.4444444444444444,\"#bd3786\"],[0.5555555555555556,\"#d8576b\"],[0.6666666666666666,\"#ed7953\"],[0.7777777777777778,\"#fb9f3a\"],[0.8888888888888888,\"#fdca26\"],[1.0,\"#f0f921\"]],\"type\":\"contour\"}],\"heatmapgl\":[{\"colorbar\":{\"outlinewidth\":0,\"ticks\":\"\"},\"colorscale\":[[0.0,\"#0d0887\"],[0.1111111111111111,\"#46039f\"],[0.2222222222222222,\"#7201a8\"],[0.3333333333333333,\"#9c179e\"],[0.4444444444444444,\"#bd3786\"],[0.5555555555555556,\"#d8576b\"],[0.6666666666666666,\"#ed7953\"],[0.7777777777777778,\"#fb9f3a\"],[0.8888888888888888,\"#fdca26\"],[1.0,\"#f0f921\"]],\"type\":\"heatmapgl\"}],\"heatmap\":[{\"colorbar\":{\"outlinewidth\":0,\"ticks\":\"\"},\"colorscale\":[[0.0,\"#0d0887\"],[0.1111111111111111,\"#46039f\"],[0.2222222222222222,\"#7201a8\"],[0.3333333333333333,\"#9c179e\"],[0.4444444444444444,\"#bd3786\"],[0.5555555555555556,\"#d8576b\"],[0.6666666666666666,\"#ed7953\"],[0.7777777777777778,\"#fb9f3a\"],[0.8888888888888888,\"#fdca26\"],[1.0,\"#f0f921\"]],\"type\":\"heatmap\"}],\"histogram2dcontour\":[{\"colorbar\":{\"outlinewidth\":0,\"ticks\":\"\"},\"colorscale\":[[0.0,\"#0d0887\"],[0.1111111111111111,\"#46039f\"],[0.2222222222222222,\"#7201a8\"],[0.3333333333333333,\"#9c179e\"],[0.4444444444444444,\"#bd3786\"],[0.5555555555555556,\"#d8576b\"],[0.6666666666666666,\"#ed7953\"],[0.7777777777777778,\"#fb9f3a\"],[0.8888888888888888,\"#fdca26\"],[1.0,\"#f0f921\"]],\"type\":\"histogram2dcontour\"}],\"histogram2d\":[{\"colorbar\":{\"outlinewidth\":0,\"ticks\":\"\"},\"colorscale\":[[0.0,\"#0d0887\"],[0.1111111111111111,\"#46039f\"],[0.2222222222222222,\"#7201a8\"],[0.3333333333333333,\"#9c179e\"],[0.4444444444444444,\"#bd3786\"],[0.5555555555555556,\"#d8576b\"],[0.6666666666666666,\"#ed7953\"],[0.7777777777777778,\"#fb9f3a\"],[0.8888888888888888,\"#fdca26\"],[1.0,\"#f0f921\"]],\"type\":\"histogram2d\"}],\"histogram\":[{\"marker\":{\"pattern\":{\"fillmode\":\"overlay\",\"size\":10,\"solidity\":0.2}},\"type\":\"histogram\"}],\"mesh3d\":[{\"colorbar\":{\"outlinewidth\":0,\"ticks\":\"\"},\"type\":\"mesh3d\"}],\"parcoords\":[{\"line\":{\"colorbar\":{\"outlinewidth\":0,\"ticks\":\"\"}},\"type\":\"parcoords\"}],\"pie\":[{\"automargin\":true,\"type\":\"pie\"}],\"scatter3d\":[{\"line\":{\"colorbar\":{\"outlinewidth\":0,\"ticks\":\"\"}},\"marker\":{\"colorbar\":{\"outlinewidth\":0,\"ticks\":\"\"}},\"type\":\"scatter3d\"}],\"scattercarpet\":[{\"marker\":{\"colorbar\":{\"outlinewidth\":0,\"ticks\":\"\"}},\"type\":\"scattercarpet\"}],\"scattergeo\":[{\"marker\":{\"colorbar\":{\"outlinewidth\":0,\"ticks\":\"\"}},\"type\":\"scattergeo\"}],\"scattergl\":[{\"marker\":{\"colorbar\":{\"outlinewidth\":0,\"ticks\":\"\"}},\"type\":\"scattergl\"}],\"scattermapbox\":[{\"marker\":{\"colorbar\":{\"outlinewidth\":0,\"ticks\":\"\"}},\"type\":\"scattermapbox\"}],\"scatterpolargl\":[{\"marker\":{\"colorbar\":{\"outlinewidth\":0,\"ticks\":\"\"}},\"type\":\"scatterpolargl\"}],\"scatterpolar\":[{\"marker\":{\"colorbar\":{\"outlinewidth\":0,\"ticks\":\"\"}},\"type\":\"scatterpolar\"}],\"scatter\":[{\"fillpattern\":{\"fillmode\":\"overlay\",\"size\":10,\"solidity\":0.2},\"type\":\"scatter\"}],\"scatterternary\":[{\"marker\":{\"colorbar\":{\"outlinewidth\":0,\"ticks\":\"\"}},\"type\":\"scatterternary\"}],\"surface\":[{\"colorbar\":{\"outlinewidth\":0,\"ticks\":\"\"},\"colorscale\":[[0.0,\"#0d0887\"],[0.1111111111111111,\"#46039f\"],[0.2222222222222222,\"#7201a8\"],[0.3333333333333333,\"#9c179e\"],[0.4444444444444444,\"#bd3786\"],[0.5555555555555556,\"#d8576b\"],[0.6666666666666666,\"#ed7953\"],[0.7777777777777778,\"#fb9f3a\"],[0.8888888888888888,\"#fdca26\"],[1.0,\"#f0f921\"]],\"type\":\"surface\"}],\"table\":[{\"cells\":{\"fill\":{\"color\":\"#EBF0F8\"},\"line\":{\"color\":\"white\"}},\"header\":{\"fill\":{\"color\":\"#C8D4E3\"},\"line\":{\"color\":\"white\"}},\"type\":\"table\"}]},\"layout\":{\"annotationdefaults\":{\"arrowcolor\":\"#2a3f5f\",\"arrowhead\":0,\"arrowwidth\":1},\"autotypenumbers\":\"strict\",\"coloraxis\":{\"colorbar\":{\"outlinewidth\":0,\"ticks\":\"\"}},\"colorscale\":{\"diverging\":[[0,\"#8e0152\"],[0.1,\"#c51b7d\"],[0.2,\"#de77ae\"],[0.3,\"#f1b6da\"],[0.4,\"#fde0ef\"],[0.5,\"#f7f7f7\"],[0.6,\"#e6f5d0\"],[0.7,\"#b8e186\"],[0.8,\"#7fbc41\"],[0.9,\"#4d9221\"],[1,\"#276419\"]],\"sequential\":[[0.0,\"#0d0887\"],[0.1111111111111111,\"#46039f\"],[0.2222222222222222,\"#7201a8\"],[0.3333333333333333,\"#9c179e\"],[0.4444444444444444,\"#bd3786\"],[0.5555555555555556,\"#d8576b\"],[0.6666666666666666,\"#ed7953\"],[0.7777777777777778,\"#fb9f3a\"],[0.8888888888888888,\"#fdca26\"],[1.0,\"#f0f921\"]],\"sequentialminus\":[[0.0,\"#0d0887\"],[0.1111111111111111,\"#46039f\"],[0.2222222222222222,\"#7201a8\"],[0.3333333333333333,\"#9c179e\"],[0.4444444444444444,\"#bd3786\"],[0.5555555555555556,\"#d8576b\"],[0.6666666666666666,\"#ed7953\"],[0.7777777777777778,\"#fb9f3a\"],[0.8888888888888888,\"#fdca26\"],[1.0,\"#f0f921\"]]},\"colorway\":[\"#636efa\",\"#EF553B\",\"#00cc96\",\"#ab63fa\",\"#FFA15A\",\"#19d3f3\",\"#FF6692\",\"#B6E880\",\"#FF97FF\",\"#FECB52\"],\"font\":{\"color\":\"#2a3f5f\"},\"geo\":{\"bgcolor\":\"white\",\"lakecolor\":\"white\",\"landcolor\":\"#E5ECF6\",\"showlakes\":true,\"showland\":true,\"subunitcolor\":\"white\"},\"hoverlabel\":{\"align\":\"left\"},\"hovermode\":\"closest\",\"mapbox\":{\"style\":\"light\"},\"paper_bgcolor\":\"white\",\"plot_bgcolor\":\"#E5ECF6\",\"polar\":{\"angularaxis\":{\"gridcolor\":\"white\",\"linecolor\":\"white\",\"ticks\":\"\"},\"bgcolor\":\"#E5ECF6\",\"radialaxis\":{\"gridcolor\":\"white\",\"linecolor\":\"white\",\"ticks\":\"\"}},\"scene\":{\"xaxis\":{\"backgroundcolor\":\"#E5ECF6\",\"gridcolor\":\"white\",\"gridwidth\":2,\"linecolor\":\"white\",\"showbackground\":true,\"ticks\":\"\",\"zerolinecolor\":\"white\"},\"yaxis\":{\"backgroundcolor\":\"#E5ECF6\",\"gridcolor\":\"white\",\"gridwidth\":2,\"linecolor\":\"white\",\"showbackground\":true,\"ticks\":\"\",\"zerolinecolor\":\"white\"},\"zaxis\":{\"backgroundcolor\":\"#E5ECF6\",\"gridcolor\":\"white\",\"gridwidth\":2,\"linecolor\":\"white\",\"showbackground\":true,\"ticks\":\"\",\"zerolinecolor\":\"white\"}},\"shapedefaults\":{\"line\":{\"color\":\"#2a3f5f\"}},\"ternary\":{\"aaxis\":{\"gridcolor\":\"white\",\"linecolor\":\"white\",\"ticks\":\"\"},\"baxis\":{\"gridcolor\":\"white\",\"linecolor\":\"white\",\"ticks\":\"\"},\"bgcolor\":\"#E5ECF6\",\"caxis\":{\"gridcolor\":\"white\",\"linecolor\":\"white\",\"ticks\":\"\"}},\"title\":{\"x\":0.05},\"xaxis\":{\"automargin\":true,\"gridcolor\":\"white\",\"linecolor\":\"white\",\"ticks\":\"\",\"title\":{\"standoff\":15},\"zerolinecolor\":\"white\",\"zerolinewidth\":2},\"yaxis\":{\"automargin\":true,\"gridcolor\":\"white\",\"linecolor\":\"white\",\"ticks\":\"\",\"title\":{\"standoff\":15},\"zerolinecolor\":\"white\",\"zerolinewidth\":2}}},\"title\":{\"font\":{\"color\":\"#4D5663\"}},\"xaxis\":{\"gridcolor\":\"#E1E5ED\",\"showgrid\":true,\"tickfont\":{\"color\":\"#4D5663\"},\"title\":{\"font\":{\"color\":\"#4D5663\"},\"text\":\"\"},\"zerolinecolor\":\"#E1E5ED\"},\"yaxis\":{\"domain\":[0.3,1],\"gridcolor\":\"#E1E5ED\",\"showgrid\":true,\"tickfont\":{\"color\":\"#4D5663\"},\"title\":{\"font\":{\"color\":\"#4D5663\"},\"text\":\"\"},\"zerolinecolor\":\"#E1E5ED\"},\"yaxis2\":{\"domain\":[0,0.25],\"gridcolor\":\"#E1E5ED\",\"showgrid\":true,\"tickfont\":{\"color\":\"#4D5663\"},\"title\":{\"font\":{\"color\":\"#4D5663\"},\"text\":\"Spread\"},\"zerolinecolor\":\"#E1E5ED\"},\"xaxis2\":{\"anchor\":\"y2\",\"gridcolor\":\"#E1E5ED\",\"showgrid\":true,\"showticklabels\":false,\"tickfont\":{\"color\":\"#4D5663\"},\"title\":{\"font\":{\"color\":\"#4D5663\"},\"text\":\"\"},\"zerolinecolor\":\"#E1E5ED\"}},                        {\"showLink\": true, \"linkText\": \"Export to plot.ly\", \"plotlyServerURL\": \"https://plot.ly\", \"responsive\": true}                    ).then(function(){\n",
       "                            \n",
       "var gd = document.getElementById('23dce6d2-e763-4d74-bcaf-cce7a5517a8e');\n",
       "var x = new MutationObserver(function (mutations, observer) {{\n",
       "        var display = window.getComputedStyle(gd).display;\n",
       "        if (!display || display === 'none') {{\n",
       "            console.log([gd, 'removed!']);\n",
       "            Plotly.purge(gd);\n",
       "            observer.disconnect();\n",
       "        }}\n",
       "}});\n",
       "\n",
       "// Listen for the removal of the full notebook cells\n",
       "var notebookContainer = gd.closest('#notebook-container');\n",
       "if (notebookContainer) {{\n",
       "    x.observe(notebookContainer, {childList: true});\n",
       "}}\n",
       "\n",
       "// Listen for the clearing of the current output cell\n",
       "var outputEl = gd.closest('.output');\n",
       "if (outputEl) {{\n",
       "    x.observe(outputEl, {childList: true});\n",
       "}}\n",
       "\n",
       "                        })                };                });            </script>        </div>"
      ]
     },
     "metadata": {},
     "output_type": "display_data"
    }
   ],
   "source": [
    "df[['A','B']].iplot(kind='spread')"
   ]
  },
  {
   "cell_type": "code",
   "execution_count": 33,
   "id": "4c030869",
   "metadata": {},
   "outputs": [
    {
     "data": {
      "application/vnd.plotly.v1+json": {
       "config": {
        "linkText": "Export to plot.ly",
        "plotlyServerURL": "https://plot.ly",
        "showLink": true
       },
       "data": [
        {
         "marker": {
          "color": [
           "rgb(255, 153, 51)",
           "rgb(55, 128, 191)",
           "rgb(50, 171, 96)",
           "rgb(128, 0, 128)",
           "rgb(219, 64, 82)",
           "rgb(0, 128, 128)",
           "rgb(255, 255, 51)",
           "rgb(128, 128, 0)",
           "rgb(251, 128, 114)",
           "rgb(128, 177, 211)"
          ],
          "line": {
           "width": 1.3
          },
          "size": [
           90,
           14,
           46,
           82,
           58,
           65,
           73,
           110,
           14,
           66,
           54,
           93,
           65,
           74,
           52,
           41,
           46,
           43,
           104,
           48,
           57,
           112,
           63,
           67,
           12,
           48,
           77,
           90,
           62,
           64,
           60,
           71,
           39,
           45,
           82,
           71,
           73,
           79,
           75,
           98,
           81,
           93,
           80,
           68,
           40,
           58,
           48,
           35,
           67,
           34,
           65,
           43,
           73,
           50,
           85,
           89,
           74,
           52,
           74,
           72,
           94,
           97,
           87,
           68,
           85,
           74,
           67,
           83,
           80,
           27,
           37,
           55,
           56,
           70,
           78,
           64,
           56,
           93,
           21,
           63,
           77,
           71,
           58,
           48,
           62,
           92,
           35,
           47,
           59,
           75,
           71,
           39,
           43,
           76,
           50,
           39,
           100,
           54,
           59,
           61
          ],
          "symbol": "circle"
         },
         "mode": "markers",
         "text": "",
         "type": "scatter",
         "x": [
          0.007097092789972175,
          -0.2507980967337128,
          0.5756887159748832,
          1.008554175812353,
          -2.6283592090659873,
          1.6897482724042978,
          -0.8474374630661906,
          -0.885832540802959,
          0.4165769995034404,
          0.3252308691285932,
          0.15654813843776863,
          0.32000464521458294,
          0.22512579404893415,
          -0.9790000089937704,
          -0.3580302188491322,
          -0.7226009569936725,
          0.42102829268405206,
          0.2230306013098082,
          -0.4894846120344407,
          0.566997691727052,
          0.7607780966610685,
          0.23179719324520257,
          0.3740720066436934,
          -0.3268113355342848,
          -0.18724635850271712,
          -0.43897158097130873,
          0.3311812464599041,
          -1.7464259691116253,
          -0.7003744338871739,
          -1.1273844453143265,
          -1.4433016423607514,
          -1.9331587985472232,
          -0.4416755962896438,
          0.3540378946293956,
          -2.3205791602958827,
          -0.6145551930755045,
          -1.0991258362026313,
          0.945377164629423,
          0.7660013927940503,
          0.8096965391921613,
          -1.011703590573019,
          -0.41828365667679634,
          -1.4791244765991614,
          -0.5761080113817664,
          0.7449599286623099,
          0.42270136868761493,
          -0.40390348558849554,
          0.36669812346527975,
          0.7481364566653947,
          1.5353321018275836,
          -1.3371004213241013,
          -1.4942270443891712,
          0.0710723740451789,
          -0.0006575669951469768,
          -0.22534602111696125,
          -1.172041314702635,
          1.123901859153798,
          -0.2542859826880914,
          -0.11703759236657453,
          -0.8142079592044608,
          -1.0542576188191066,
          0.546313307317542,
          -0.8447663571066834,
          -1.1131193312433463,
          0.4587848706424149,
          2.6591625662829146,
          -0.015121925395850002,
          -0.09109764156500297,
          0.4526267555190351,
          -0.24918265339293869,
          0.2750713724462446,
          0.9645876496605769,
          0.6886893955579118,
          1.1337676914267782,
          -0.20303842320923898,
          -1.0816855549346296,
          -1.1082516347864104,
          -0.7242762213979465,
          -1.2179557113588813,
          -1.7245807252123906,
          2.1746231931296514,
          -0.31174746522478336,
          -0.3329591568687766,
          -0.499939085089008,
          0.36520642633824857,
          -1.0458452355028378,
          0.3306941382140081,
          1.2923882218609148,
          0.33893456539783484,
          0.9869969913865074,
          -0.6450150360855204,
          -0.02753327885205397,
          -1.3624539641043698,
          0.6002984616132592,
          -1.432946169513228,
          -0.5951750844353458,
          0.9740904886924309,
          -0.23690369561450986,
          1.2616316919343114,
          0.45897564550142733
         ],
         "y": [
          1.0015685518890944,
          -1.6664086034303247,
          -1.4778111106947436,
          -0.7751255716259327,
          -1.4389565480396826,
          -1.6482938194416763,
          -1.506955683250337,
          0.2645971502651818,
          1.3192834739719805,
          0.33003703872957946,
          -0.1361520326958087,
          -1.3261155345688718,
          -1.204549680637177,
          0.3850583175509835,
          -0.3716158383803578,
          -0.6195146999634619,
          -0.996136086782592,
          -0.8444102927779795,
          -0.19276359031819187,
          0.08705580927796512,
          -0.3386322034460392,
          -0.6574543866595249,
          0.9478662810005158,
          -0.687885352767681,
          0.6015622856400247,
          0.25560908288184436,
          1.4082884056443346,
          -1.6772205012167196,
          0.5931670213401689,
          -0.20747584976568403,
          -1.042688109102613,
          0.3199247638241327,
          1.112879332773885,
          -0.6983477572766444,
          0.9909467462256175,
          -0.4702970722918106,
          0.3093044428150858,
          0.3442171189806224,
          0.40125331687981614,
          -0.9680466754947346,
          1.331024386460877,
          0.9700923553259135,
          0.14177352703313215,
          1.1490024377552774,
          -0.5259677383265647,
          -2.4786187225057223,
          2.075185652874105,
          -0.7934797710348597,
          -1.0812774636843718,
          1.33656414940059,
          1.167397360723972,
          0.922865585510867,
          0.07324989663541134,
          0.7157238614039628,
          -0.7484481402430851,
          0.48528402451312097,
          0.7511743146837414,
          0.4954149925198047,
          -1.11798381149081,
          0.29057128739668125,
          -1.3345464787750942,
          0.30198862771295165,
          0.707615903109009,
          1.6500185866666577,
          0.49276185597511885,
          -1.6571574050679154,
          -2.09094633959671,
          -0.3593627718648167,
          -1.6164724433213713,
          1.483388465917525,
          -0.25114671220587437,
          1.4662187742718724,
          -0.9062039290353936,
          -0.31360181319845404,
          0.9439194230341262,
          -0.12829533899369105,
          1.599093495914871,
          0.5583649783812819,
          -0.7561134141743251,
          -0.48882952610388714,
          -0.8669124668710848,
          -0.20869738384286052,
          -2.485808077029097,
          -1.0729464262607684,
          1.021856771895166,
          0.5857795865634028,
          0.8361142241220432,
          -1.048416757395772,
          -0.598914564611235,
          -1.1063945049183166,
          -0.9420740389395011,
          -1.5173258027035248,
          0.9807347509409816,
          1.5659650379880938,
          0.7249585649931194,
          -0.016215203047882022,
          -0.04401588783851069,
          2.0029297466320037,
          -1.2835695323754206,
          -0.9558328695916015
         ]
        }
       ],
       "layout": {
        "legend": {
         "bgcolor": "#F5F6F9",
         "font": {
          "color": "#4D5663"
         }
        },
        "paper_bgcolor": "#F5F6F9",
        "plot_bgcolor": "#F5F6F9",
        "template": {
         "data": {
          "bar": [
           {
            "error_x": {
             "color": "#2a3f5f"
            },
            "error_y": {
             "color": "#2a3f5f"
            },
            "marker": {
             "line": {
              "color": "#E5ECF6",
              "width": 0.5
             },
             "pattern": {
              "fillmode": "overlay",
              "size": 10,
              "solidity": 0.2
             }
            },
            "type": "bar"
           }
          ],
          "barpolar": [
           {
            "marker": {
             "line": {
              "color": "#E5ECF6",
              "width": 0.5
             },
             "pattern": {
              "fillmode": "overlay",
              "size": 10,
              "solidity": 0.2
             }
            },
            "type": "barpolar"
           }
          ],
          "carpet": [
           {
            "aaxis": {
             "endlinecolor": "#2a3f5f",
             "gridcolor": "white",
             "linecolor": "white",
             "minorgridcolor": "white",
             "startlinecolor": "#2a3f5f"
            },
            "baxis": {
             "endlinecolor": "#2a3f5f",
             "gridcolor": "white",
             "linecolor": "white",
             "minorgridcolor": "white",
             "startlinecolor": "#2a3f5f"
            },
            "type": "carpet"
           }
          ],
          "choropleth": [
           {
            "colorbar": {
             "outlinewidth": 0,
             "ticks": ""
            },
            "type": "choropleth"
           }
          ],
          "contour": [
           {
            "colorbar": {
             "outlinewidth": 0,
             "ticks": ""
            },
            "colorscale": [
             [
              0,
              "#0d0887"
             ],
             [
              0.1111111111111111,
              "#46039f"
             ],
             [
              0.2222222222222222,
              "#7201a8"
             ],
             [
              0.3333333333333333,
              "#9c179e"
             ],
             [
              0.4444444444444444,
              "#bd3786"
             ],
             [
              0.5555555555555556,
              "#d8576b"
             ],
             [
              0.6666666666666666,
              "#ed7953"
             ],
             [
              0.7777777777777778,
              "#fb9f3a"
             ],
             [
              0.8888888888888888,
              "#fdca26"
             ],
             [
              1,
              "#f0f921"
             ]
            ],
            "type": "contour"
           }
          ],
          "contourcarpet": [
           {
            "colorbar": {
             "outlinewidth": 0,
             "ticks": ""
            },
            "type": "contourcarpet"
           }
          ],
          "heatmap": [
           {
            "colorbar": {
             "outlinewidth": 0,
             "ticks": ""
            },
            "colorscale": [
             [
              0,
              "#0d0887"
             ],
             [
              0.1111111111111111,
              "#46039f"
             ],
             [
              0.2222222222222222,
              "#7201a8"
             ],
             [
              0.3333333333333333,
              "#9c179e"
             ],
             [
              0.4444444444444444,
              "#bd3786"
             ],
             [
              0.5555555555555556,
              "#d8576b"
             ],
             [
              0.6666666666666666,
              "#ed7953"
             ],
             [
              0.7777777777777778,
              "#fb9f3a"
             ],
             [
              0.8888888888888888,
              "#fdca26"
             ],
             [
              1,
              "#f0f921"
             ]
            ],
            "type": "heatmap"
           }
          ],
          "heatmapgl": [
           {
            "colorbar": {
             "outlinewidth": 0,
             "ticks": ""
            },
            "colorscale": [
             [
              0,
              "#0d0887"
             ],
             [
              0.1111111111111111,
              "#46039f"
             ],
             [
              0.2222222222222222,
              "#7201a8"
             ],
             [
              0.3333333333333333,
              "#9c179e"
             ],
             [
              0.4444444444444444,
              "#bd3786"
             ],
             [
              0.5555555555555556,
              "#d8576b"
             ],
             [
              0.6666666666666666,
              "#ed7953"
             ],
             [
              0.7777777777777778,
              "#fb9f3a"
             ],
             [
              0.8888888888888888,
              "#fdca26"
             ],
             [
              1,
              "#f0f921"
             ]
            ],
            "type": "heatmapgl"
           }
          ],
          "histogram": [
           {
            "marker": {
             "pattern": {
              "fillmode": "overlay",
              "size": 10,
              "solidity": 0.2
             }
            },
            "type": "histogram"
           }
          ],
          "histogram2d": [
           {
            "colorbar": {
             "outlinewidth": 0,
             "ticks": ""
            },
            "colorscale": [
             [
              0,
              "#0d0887"
             ],
             [
              0.1111111111111111,
              "#46039f"
             ],
             [
              0.2222222222222222,
              "#7201a8"
             ],
             [
              0.3333333333333333,
              "#9c179e"
             ],
             [
              0.4444444444444444,
              "#bd3786"
             ],
             [
              0.5555555555555556,
              "#d8576b"
             ],
             [
              0.6666666666666666,
              "#ed7953"
             ],
             [
              0.7777777777777778,
              "#fb9f3a"
             ],
             [
              0.8888888888888888,
              "#fdca26"
             ],
             [
              1,
              "#f0f921"
             ]
            ],
            "type": "histogram2d"
           }
          ],
          "histogram2dcontour": [
           {
            "colorbar": {
             "outlinewidth": 0,
             "ticks": ""
            },
            "colorscale": [
             [
              0,
              "#0d0887"
             ],
             [
              0.1111111111111111,
              "#46039f"
             ],
             [
              0.2222222222222222,
              "#7201a8"
             ],
             [
              0.3333333333333333,
              "#9c179e"
             ],
             [
              0.4444444444444444,
              "#bd3786"
             ],
             [
              0.5555555555555556,
              "#d8576b"
             ],
             [
              0.6666666666666666,
              "#ed7953"
             ],
             [
              0.7777777777777778,
              "#fb9f3a"
             ],
             [
              0.8888888888888888,
              "#fdca26"
             ],
             [
              1,
              "#f0f921"
             ]
            ],
            "type": "histogram2dcontour"
           }
          ],
          "mesh3d": [
           {
            "colorbar": {
             "outlinewidth": 0,
             "ticks": ""
            },
            "type": "mesh3d"
           }
          ],
          "parcoords": [
           {
            "line": {
             "colorbar": {
              "outlinewidth": 0,
              "ticks": ""
             }
            },
            "type": "parcoords"
           }
          ],
          "pie": [
           {
            "automargin": true,
            "type": "pie"
           }
          ],
          "scatter": [
           {
            "fillpattern": {
             "fillmode": "overlay",
             "size": 10,
             "solidity": 0.2
            },
            "type": "scatter"
           }
          ],
          "scatter3d": [
           {
            "line": {
             "colorbar": {
              "outlinewidth": 0,
              "ticks": ""
             }
            },
            "marker": {
             "colorbar": {
              "outlinewidth": 0,
              "ticks": ""
             }
            },
            "type": "scatter3d"
           }
          ],
          "scattercarpet": [
           {
            "marker": {
             "colorbar": {
              "outlinewidth": 0,
              "ticks": ""
             }
            },
            "type": "scattercarpet"
           }
          ],
          "scattergeo": [
           {
            "marker": {
             "colorbar": {
              "outlinewidth": 0,
              "ticks": ""
             }
            },
            "type": "scattergeo"
           }
          ],
          "scattergl": [
           {
            "marker": {
             "colorbar": {
              "outlinewidth": 0,
              "ticks": ""
             }
            },
            "type": "scattergl"
           }
          ],
          "scattermapbox": [
           {
            "marker": {
             "colorbar": {
              "outlinewidth": 0,
              "ticks": ""
             }
            },
            "type": "scattermapbox"
           }
          ],
          "scatterpolar": [
           {
            "marker": {
             "colorbar": {
              "outlinewidth": 0,
              "ticks": ""
             }
            },
            "type": "scatterpolar"
           }
          ],
          "scatterpolargl": [
           {
            "marker": {
             "colorbar": {
              "outlinewidth": 0,
              "ticks": ""
             }
            },
            "type": "scatterpolargl"
           }
          ],
          "scatterternary": [
           {
            "marker": {
             "colorbar": {
              "outlinewidth": 0,
              "ticks": ""
             }
            },
            "type": "scatterternary"
           }
          ],
          "surface": [
           {
            "colorbar": {
             "outlinewidth": 0,
             "ticks": ""
            },
            "colorscale": [
             [
              0,
              "#0d0887"
             ],
             [
              0.1111111111111111,
              "#46039f"
             ],
             [
              0.2222222222222222,
              "#7201a8"
             ],
             [
              0.3333333333333333,
              "#9c179e"
             ],
             [
              0.4444444444444444,
              "#bd3786"
             ],
             [
              0.5555555555555556,
              "#d8576b"
             ],
             [
              0.6666666666666666,
              "#ed7953"
             ],
             [
              0.7777777777777778,
              "#fb9f3a"
             ],
             [
              0.8888888888888888,
              "#fdca26"
             ],
             [
              1,
              "#f0f921"
             ]
            ],
            "type": "surface"
           }
          ],
          "table": [
           {
            "cells": {
             "fill": {
              "color": "#EBF0F8"
             },
             "line": {
              "color": "white"
             }
            },
            "header": {
             "fill": {
              "color": "#C8D4E3"
             },
             "line": {
              "color": "white"
             }
            },
            "type": "table"
           }
          ]
         },
         "layout": {
          "annotationdefaults": {
           "arrowcolor": "#2a3f5f",
           "arrowhead": 0,
           "arrowwidth": 1
          },
          "autotypenumbers": "strict",
          "coloraxis": {
           "colorbar": {
            "outlinewidth": 0,
            "ticks": ""
           }
          },
          "colorscale": {
           "diverging": [
            [
             0,
             "#8e0152"
            ],
            [
             0.1,
             "#c51b7d"
            ],
            [
             0.2,
             "#de77ae"
            ],
            [
             0.3,
             "#f1b6da"
            ],
            [
             0.4,
             "#fde0ef"
            ],
            [
             0.5,
             "#f7f7f7"
            ],
            [
             0.6,
             "#e6f5d0"
            ],
            [
             0.7,
             "#b8e186"
            ],
            [
             0.8,
             "#7fbc41"
            ],
            [
             0.9,
             "#4d9221"
            ],
            [
             1,
             "#276419"
            ]
           ],
           "sequential": [
            [
             0,
             "#0d0887"
            ],
            [
             0.1111111111111111,
             "#46039f"
            ],
            [
             0.2222222222222222,
             "#7201a8"
            ],
            [
             0.3333333333333333,
             "#9c179e"
            ],
            [
             0.4444444444444444,
             "#bd3786"
            ],
            [
             0.5555555555555556,
             "#d8576b"
            ],
            [
             0.6666666666666666,
             "#ed7953"
            ],
            [
             0.7777777777777778,
             "#fb9f3a"
            ],
            [
             0.8888888888888888,
             "#fdca26"
            ],
            [
             1,
             "#f0f921"
            ]
           ],
           "sequentialminus": [
            [
             0,
             "#0d0887"
            ],
            [
             0.1111111111111111,
             "#46039f"
            ],
            [
             0.2222222222222222,
             "#7201a8"
            ],
            [
             0.3333333333333333,
             "#9c179e"
            ],
            [
             0.4444444444444444,
             "#bd3786"
            ],
            [
             0.5555555555555556,
             "#d8576b"
            ],
            [
             0.6666666666666666,
             "#ed7953"
            ],
            [
             0.7777777777777778,
             "#fb9f3a"
            ],
            [
             0.8888888888888888,
             "#fdca26"
            ],
            [
             1,
             "#f0f921"
            ]
           ]
          },
          "colorway": [
           "#636efa",
           "#EF553B",
           "#00cc96",
           "#ab63fa",
           "#FFA15A",
           "#19d3f3",
           "#FF6692",
           "#B6E880",
           "#FF97FF",
           "#FECB52"
          ],
          "font": {
           "color": "#2a3f5f"
          },
          "geo": {
           "bgcolor": "white",
           "lakecolor": "white",
           "landcolor": "#E5ECF6",
           "showlakes": true,
           "showland": true,
           "subunitcolor": "white"
          },
          "hoverlabel": {
           "align": "left"
          },
          "hovermode": "closest",
          "mapbox": {
           "style": "light"
          },
          "paper_bgcolor": "white",
          "plot_bgcolor": "#E5ECF6",
          "polar": {
           "angularaxis": {
            "gridcolor": "white",
            "linecolor": "white",
            "ticks": ""
           },
           "bgcolor": "#E5ECF6",
           "radialaxis": {
            "gridcolor": "white",
            "linecolor": "white",
            "ticks": ""
           }
          },
          "scene": {
           "xaxis": {
            "backgroundcolor": "#E5ECF6",
            "gridcolor": "white",
            "gridwidth": 2,
            "linecolor": "white",
            "showbackground": true,
            "ticks": "",
            "zerolinecolor": "white"
           },
           "yaxis": {
            "backgroundcolor": "#E5ECF6",
            "gridcolor": "white",
            "gridwidth": 2,
            "linecolor": "white",
            "showbackground": true,
            "ticks": "",
            "zerolinecolor": "white"
           },
           "zaxis": {
            "backgroundcolor": "#E5ECF6",
            "gridcolor": "white",
            "gridwidth": 2,
            "linecolor": "white",
            "showbackground": true,
            "ticks": "",
            "zerolinecolor": "white"
           }
          },
          "shapedefaults": {
           "line": {
            "color": "#2a3f5f"
           }
          },
          "ternary": {
           "aaxis": {
            "gridcolor": "white",
            "linecolor": "white",
            "ticks": ""
           },
           "baxis": {
            "gridcolor": "white",
            "linecolor": "white",
            "ticks": ""
           },
           "bgcolor": "#E5ECF6",
           "caxis": {
            "gridcolor": "white",
            "linecolor": "white",
            "ticks": ""
           }
          },
          "title": {
           "x": 0.05
          },
          "xaxis": {
           "automargin": true,
           "gridcolor": "white",
           "linecolor": "white",
           "ticks": "",
           "title": {
            "standoff": 15
           },
           "zerolinecolor": "white",
           "zerolinewidth": 2
          },
          "yaxis": {
           "automargin": true,
           "gridcolor": "white",
           "linecolor": "white",
           "ticks": "",
           "title": {
            "standoff": 15
           },
           "zerolinecolor": "white",
           "zerolinewidth": 2
          }
         }
        },
        "title": {
         "font": {
          "color": "#4D5663"
         }
        },
        "xaxis": {
         "gridcolor": "#E1E5ED",
         "showgrid": true,
         "tickfont": {
          "color": "#4D5663"
         },
         "title": {
          "font": {
           "color": "#4D5663"
          },
          "text": ""
         },
         "zerolinecolor": "#E1E5ED"
        },
        "yaxis": {
         "gridcolor": "#E1E5ED",
         "showgrid": true,
         "tickfont": {
          "color": "#4D5663"
         },
         "title": {
          "font": {
           "color": "#4D5663"
          },
          "text": ""
         },
         "zerolinecolor": "#E1E5ED"
        }
       }
      },
      "text/html": [
       "<div>                            <div id=\"17344688-6088-40f3-a4de-7521016d2a10\" class=\"plotly-graph-div\" style=\"height:525px; width:100%;\"></div>            <script type=\"text/javascript\">                require([\"plotly\"], function(Plotly) {                    window.PLOTLYENV=window.PLOTLYENV || {};\n",
       "                    window.PLOTLYENV.BASE_URL='https://plot.ly';                                    if (document.getElementById(\"17344688-6088-40f3-a4de-7521016d2a10\")) {                    Plotly.newPlot(                        \"17344688-6088-40f3-a4de-7521016d2a10\",                        [{\"marker\":{\"color\":[\"rgb(255, 153, 51)\",\"rgb(55, 128, 191)\",\"rgb(50, 171, 96)\",\"rgb(128, 0, 128)\",\"rgb(219, 64, 82)\",\"rgb(0, 128, 128)\",\"rgb(255, 255, 51)\",\"rgb(128, 128, 0)\",\"rgb(251, 128, 114)\",\"rgb(128, 177, 211)\"],\"line\":{\"width\":1.3},\"size\":[90,14,46,82,58,65,73,110,14,66,54,93,65,74,52,41,46,43,104,48,57,112,63,67,12,48,77,90,62,64,60,71,39,45,82,71,73,79,75,98,81,93,80,68,40,58,48,35,67,34,65,43,73,50,85,89,74,52,74,72,94,97,87,68,85,74,67,83,80,27,37,55,56,70,78,64,56,93,21,63,77,71,58,48,62,92,35,47,59,75,71,39,43,76,50,39,100,54,59,61],\"symbol\":\"circle\"},\"mode\":\"markers\",\"text\":\"\",\"x\":[0.007097092789972175,-0.2507980967337128,0.5756887159748832,1.008554175812353,-2.6283592090659873,1.6897482724042978,-0.8474374630661906,-0.885832540802959,0.4165769995034404,0.3252308691285932,0.15654813843776863,0.32000464521458294,0.22512579404893415,-0.9790000089937704,-0.3580302188491322,-0.7226009569936725,0.42102829268405206,0.2230306013098082,-0.4894846120344407,0.566997691727052,0.7607780966610685,0.23179719324520257,0.3740720066436934,-0.3268113355342848,-0.18724635850271712,-0.43897158097130873,0.3311812464599041,-1.7464259691116253,-0.7003744338871739,-1.1273844453143265,-1.4433016423607514,-1.9331587985472232,-0.4416755962896438,0.3540378946293956,-2.3205791602958827,-0.6145551930755045,-1.0991258362026313,0.945377164629423,0.7660013927940503,0.8096965391921613,-1.011703590573019,-0.41828365667679634,-1.4791244765991614,-0.5761080113817664,0.7449599286623099,0.42270136868761493,-0.40390348558849554,0.36669812346527975,0.7481364566653947,1.5353321018275836,-1.3371004213241013,-1.4942270443891712,0.0710723740451789,-0.0006575669951469768,-0.22534602111696125,-1.172041314702635,1.123901859153798,-0.2542859826880914,-0.11703759236657453,-0.8142079592044608,-1.0542576188191066,0.546313307317542,-0.8447663571066834,-1.1131193312433463,0.4587848706424149,2.6591625662829146,-0.015121925395850002,-0.09109764156500297,0.4526267555190351,-0.24918265339293869,0.2750713724462446,0.9645876496605769,0.6886893955579118,1.1337676914267782,-0.20303842320923898,-1.0816855549346296,-1.1082516347864104,-0.7242762213979465,-1.2179557113588813,-1.7245807252123906,2.1746231931296514,-0.31174746522478336,-0.3329591568687766,-0.499939085089008,0.36520642633824857,-1.0458452355028378,0.3306941382140081,1.2923882218609148,0.33893456539783484,0.9869969913865074,-0.6450150360855204,-0.02753327885205397,-1.3624539641043698,0.6002984616132592,-1.432946169513228,-0.5951750844353458,0.9740904886924309,-0.23690369561450986,1.2616316919343114,0.45897564550142733],\"y\":[1.0015685518890944,-1.6664086034303247,-1.4778111106947436,-0.7751255716259327,-1.4389565480396826,-1.6482938194416763,-1.506955683250337,0.2645971502651818,1.3192834739719805,0.33003703872957946,-0.1361520326958087,-1.3261155345688718,-1.204549680637177,0.3850583175509835,-0.3716158383803578,-0.6195146999634619,-0.996136086782592,-0.8444102927779795,-0.19276359031819187,0.08705580927796512,-0.3386322034460392,-0.6574543866595249,0.9478662810005158,-0.687885352767681,0.6015622856400247,0.25560908288184436,1.4082884056443346,-1.6772205012167196,0.5931670213401689,-0.20747584976568403,-1.042688109102613,0.3199247638241327,1.112879332773885,-0.6983477572766444,0.9909467462256175,-0.4702970722918106,0.3093044428150858,0.3442171189806224,0.40125331687981614,-0.9680466754947346,1.331024386460877,0.9700923553259135,0.14177352703313215,1.1490024377552774,-0.5259677383265647,-2.4786187225057223,2.075185652874105,-0.7934797710348597,-1.0812774636843718,1.33656414940059,1.167397360723972,0.922865585510867,0.07324989663541134,0.7157238614039628,-0.7484481402430851,0.48528402451312097,0.7511743146837414,0.4954149925198047,-1.11798381149081,0.29057128739668125,-1.3345464787750942,0.30198862771295165,0.707615903109009,1.6500185866666577,0.49276185597511885,-1.6571574050679154,-2.09094633959671,-0.3593627718648167,-1.6164724433213713,1.483388465917525,-0.25114671220587437,1.4662187742718724,-0.9062039290353936,-0.31360181319845404,0.9439194230341262,-0.12829533899369105,1.599093495914871,0.5583649783812819,-0.7561134141743251,-0.48882952610388714,-0.8669124668710848,-0.20869738384286052,-2.485808077029097,-1.0729464262607684,1.021856771895166,0.5857795865634028,0.8361142241220432,-1.048416757395772,-0.598914564611235,-1.1063945049183166,-0.9420740389395011,-1.5173258027035248,0.9807347509409816,1.5659650379880938,0.7249585649931194,-0.016215203047882022,-0.04401588783851069,2.0029297466320037,-1.2835695323754206,-0.9558328695916015],\"type\":\"scatter\"}],                        {\"legend\":{\"bgcolor\":\"#F5F6F9\",\"font\":{\"color\":\"#4D5663\"}},\"paper_bgcolor\":\"#F5F6F9\",\"plot_bgcolor\":\"#F5F6F9\",\"template\":{\"data\":{\"barpolar\":[{\"marker\":{\"line\":{\"color\":\"#E5ECF6\",\"width\":0.5},\"pattern\":{\"fillmode\":\"overlay\",\"size\":10,\"solidity\":0.2}},\"type\":\"barpolar\"}],\"bar\":[{\"error_x\":{\"color\":\"#2a3f5f\"},\"error_y\":{\"color\":\"#2a3f5f\"},\"marker\":{\"line\":{\"color\":\"#E5ECF6\",\"width\":0.5},\"pattern\":{\"fillmode\":\"overlay\",\"size\":10,\"solidity\":0.2}},\"type\":\"bar\"}],\"carpet\":[{\"aaxis\":{\"endlinecolor\":\"#2a3f5f\",\"gridcolor\":\"white\",\"linecolor\":\"white\",\"minorgridcolor\":\"white\",\"startlinecolor\":\"#2a3f5f\"},\"baxis\":{\"endlinecolor\":\"#2a3f5f\",\"gridcolor\":\"white\",\"linecolor\":\"white\",\"minorgridcolor\":\"white\",\"startlinecolor\":\"#2a3f5f\"},\"type\":\"carpet\"}],\"choropleth\":[{\"colorbar\":{\"outlinewidth\":0,\"ticks\":\"\"},\"type\":\"choropleth\"}],\"contourcarpet\":[{\"colorbar\":{\"outlinewidth\":0,\"ticks\":\"\"},\"type\":\"contourcarpet\"}],\"contour\":[{\"colorbar\":{\"outlinewidth\":0,\"ticks\":\"\"},\"colorscale\":[[0.0,\"#0d0887\"],[0.1111111111111111,\"#46039f\"],[0.2222222222222222,\"#7201a8\"],[0.3333333333333333,\"#9c179e\"],[0.4444444444444444,\"#bd3786\"],[0.5555555555555556,\"#d8576b\"],[0.6666666666666666,\"#ed7953\"],[0.7777777777777778,\"#fb9f3a\"],[0.8888888888888888,\"#fdca26\"],[1.0,\"#f0f921\"]],\"type\":\"contour\"}],\"heatmapgl\":[{\"colorbar\":{\"outlinewidth\":0,\"ticks\":\"\"},\"colorscale\":[[0.0,\"#0d0887\"],[0.1111111111111111,\"#46039f\"],[0.2222222222222222,\"#7201a8\"],[0.3333333333333333,\"#9c179e\"],[0.4444444444444444,\"#bd3786\"],[0.5555555555555556,\"#d8576b\"],[0.6666666666666666,\"#ed7953\"],[0.7777777777777778,\"#fb9f3a\"],[0.8888888888888888,\"#fdca26\"],[1.0,\"#f0f921\"]],\"type\":\"heatmapgl\"}],\"heatmap\":[{\"colorbar\":{\"outlinewidth\":0,\"ticks\":\"\"},\"colorscale\":[[0.0,\"#0d0887\"],[0.1111111111111111,\"#46039f\"],[0.2222222222222222,\"#7201a8\"],[0.3333333333333333,\"#9c179e\"],[0.4444444444444444,\"#bd3786\"],[0.5555555555555556,\"#d8576b\"],[0.6666666666666666,\"#ed7953\"],[0.7777777777777778,\"#fb9f3a\"],[0.8888888888888888,\"#fdca26\"],[1.0,\"#f0f921\"]],\"type\":\"heatmap\"}],\"histogram2dcontour\":[{\"colorbar\":{\"outlinewidth\":0,\"ticks\":\"\"},\"colorscale\":[[0.0,\"#0d0887\"],[0.1111111111111111,\"#46039f\"],[0.2222222222222222,\"#7201a8\"],[0.3333333333333333,\"#9c179e\"],[0.4444444444444444,\"#bd3786\"],[0.5555555555555556,\"#d8576b\"],[0.6666666666666666,\"#ed7953\"],[0.7777777777777778,\"#fb9f3a\"],[0.8888888888888888,\"#fdca26\"],[1.0,\"#f0f921\"]],\"type\":\"histogram2dcontour\"}],\"histogram2d\":[{\"colorbar\":{\"outlinewidth\":0,\"ticks\":\"\"},\"colorscale\":[[0.0,\"#0d0887\"],[0.1111111111111111,\"#46039f\"],[0.2222222222222222,\"#7201a8\"],[0.3333333333333333,\"#9c179e\"],[0.4444444444444444,\"#bd3786\"],[0.5555555555555556,\"#d8576b\"],[0.6666666666666666,\"#ed7953\"],[0.7777777777777778,\"#fb9f3a\"],[0.8888888888888888,\"#fdca26\"],[1.0,\"#f0f921\"]],\"type\":\"histogram2d\"}],\"histogram\":[{\"marker\":{\"pattern\":{\"fillmode\":\"overlay\",\"size\":10,\"solidity\":0.2}},\"type\":\"histogram\"}],\"mesh3d\":[{\"colorbar\":{\"outlinewidth\":0,\"ticks\":\"\"},\"type\":\"mesh3d\"}],\"parcoords\":[{\"line\":{\"colorbar\":{\"outlinewidth\":0,\"ticks\":\"\"}},\"type\":\"parcoords\"}],\"pie\":[{\"automargin\":true,\"type\":\"pie\"}],\"scatter3d\":[{\"line\":{\"colorbar\":{\"outlinewidth\":0,\"ticks\":\"\"}},\"marker\":{\"colorbar\":{\"outlinewidth\":0,\"ticks\":\"\"}},\"type\":\"scatter3d\"}],\"scattercarpet\":[{\"marker\":{\"colorbar\":{\"outlinewidth\":0,\"ticks\":\"\"}},\"type\":\"scattercarpet\"}],\"scattergeo\":[{\"marker\":{\"colorbar\":{\"outlinewidth\":0,\"ticks\":\"\"}},\"type\":\"scattergeo\"}],\"scattergl\":[{\"marker\":{\"colorbar\":{\"outlinewidth\":0,\"ticks\":\"\"}},\"type\":\"scattergl\"}],\"scattermapbox\":[{\"marker\":{\"colorbar\":{\"outlinewidth\":0,\"ticks\":\"\"}},\"type\":\"scattermapbox\"}],\"scatterpolargl\":[{\"marker\":{\"colorbar\":{\"outlinewidth\":0,\"ticks\":\"\"}},\"type\":\"scatterpolargl\"}],\"scatterpolar\":[{\"marker\":{\"colorbar\":{\"outlinewidth\":0,\"ticks\":\"\"}},\"type\":\"scatterpolar\"}],\"scatter\":[{\"fillpattern\":{\"fillmode\":\"overlay\",\"size\":10,\"solidity\":0.2},\"type\":\"scatter\"}],\"scatterternary\":[{\"marker\":{\"colorbar\":{\"outlinewidth\":0,\"ticks\":\"\"}},\"type\":\"scatterternary\"}],\"surface\":[{\"colorbar\":{\"outlinewidth\":0,\"ticks\":\"\"},\"colorscale\":[[0.0,\"#0d0887\"],[0.1111111111111111,\"#46039f\"],[0.2222222222222222,\"#7201a8\"],[0.3333333333333333,\"#9c179e\"],[0.4444444444444444,\"#bd3786\"],[0.5555555555555556,\"#d8576b\"],[0.6666666666666666,\"#ed7953\"],[0.7777777777777778,\"#fb9f3a\"],[0.8888888888888888,\"#fdca26\"],[1.0,\"#f0f921\"]],\"type\":\"surface\"}],\"table\":[{\"cells\":{\"fill\":{\"color\":\"#EBF0F8\"},\"line\":{\"color\":\"white\"}},\"header\":{\"fill\":{\"color\":\"#C8D4E3\"},\"line\":{\"color\":\"white\"}},\"type\":\"table\"}]},\"layout\":{\"annotationdefaults\":{\"arrowcolor\":\"#2a3f5f\",\"arrowhead\":0,\"arrowwidth\":1},\"autotypenumbers\":\"strict\",\"coloraxis\":{\"colorbar\":{\"outlinewidth\":0,\"ticks\":\"\"}},\"colorscale\":{\"diverging\":[[0,\"#8e0152\"],[0.1,\"#c51b7d\"],[0.2,\"#de77ae\"],[0.3,\"#f1b6da\"],[0.4,\"#fde0ef\"],[0.5,\"#f7f7f7\"],[0.6,\"#e6f5d0\"],[0.7,\"#b8e186\"],[0.8,\"#7fbc41\"],[0.9,\"#4d9221\"],[1,\"#276419\"]],\"sequential\":[[0.0,\"#0d0887\"],[0.1111111111111111,\"#46039f\"],[0.2222222222222222,\"#7201a8\"],[0.3333333333333333,\"#9c179e\"],[0.4444444444444444,\"#bd3786\"],[0.5555555555555556,\"#d8576b\"],[0.6666666666666666,\"#ed7953\"],[0.7777777777777778,\"#fb9f3a\"],[0.8888888888888888,\"#fdca26\"],[1.0,\"#f0f921\"]],\"sequentialminus\":[[0.0,\"#0d0887\"],[0.1111111111111111,\"#46039f\"],[0.2222222222222222,\"#7201a8\"],[0.3333333333333333,\"#9c179e\"],[0.4444444444444444,\"#bd3786\"],[0.5555555555555556,\"#d8576b\"],[0.6666666666666666,\"#ed7953\"],[0.7777777777777778,\"#fb9f3a\"],[0.8888888888888888,\"#fdca26\"],[1.0,\"#f0f921\"]]},\"colorway\":[\"#636efa\",\"#EF553B\",\"#00cc96\",\"#ab63fa\",\"#FFA15A\",\"#19d3f3\",\"#FF6692\",\"#B6E880\",\"#FF97FF\",\"#FECB52\"],\"font\":{\"color\":\"#2a3f5f\"},\"geo\":{\"bgcolor\":\"white\",\"lakecolor\":\"white\",\"landcolor\":\"#E5ECF6\",\"showlakes\":true,\"showland\":true,\"subunitcolor\":\"white\"},\"hoverlabel\":{\"align\":\"left\"},\"hovermode\":\"closest\",\"mapbox\":{\"style\":\"light\"},\"paper_bgcolor\":\"white\",\"plot_bgcolor\":\"#E5ECF6\",\"polar\":{\"angularaxis\":{\"gridcolor\":\"white\",\"linecolor\":\"white\",\"ticks\":\"\"},\"bgcolor\":\"#E5ECF6\",\"radialaxis\":{\"gridcolor\":\"white\",\"linecolor\":\"white\",\"ticks\":\"\"}},\"scene\":{\"xaxis\":{\"backgroundcolor\":\"#E5ECF6\",\"gridcolor\":\"white\",\"gridwidth\":2,\"linecolor\":\"white\",\"showbackground\":true,\"ticks\":\"\",\"zerolinecolor\":\"white\"},\"yaxis\":{\"backgroundcolor\":\"#E5ECF6\",\"gridcolor\":\"white\",\"gridwidth\":2,\"linecolor\":\"white\",\"showbackground\":true,\"ticks\":\"\",\"zerolinecolor\":\"white\"},\"zaxis\":{\"backgroundcolor\":\"#E5ECF6\",\"gridcolor\":\"white\",\"gridwidth\":2,\"linecolor\":\"white\",\"showbackground\":true,\"ticks\":\"\",\"zerolinecolor\":\"white\"}},\"shapedefaults\":{\"line\":{\"color\":\"#2a3f5f\"}},\"ternary\":{\"aaxis\":{\"gridcolor\":\"white\",\"linecolor\":\"white\",\"ticks\":\"\"},\"baxis\":{\"gridcolor\":\"white\",\"linecolor\":\"white\",\"ticks\":\"\"},\"bgcolor\":\"#E5ECF6\",\"caxis\":{\"gridcolor\":\"white\",\"linecolor\":\"white\",\"ticks\":\"\"}},\"title\":{\"x\":0.05},\"xaxis\":{\"automargin\":true,\"gridcolor\":\"white\",\"linecolor\":\"white\",\"ticks\":\"\",\"title\":{\"standoff\":15},\"zerolinecolor\":\"white\",\"zerolinewidth\":2},\"yaxis\":{\"automargin\":true,\"gridcolor\":\"white\",\"linecolor\":\"white\",\"ticks\":\"\",\"title\":{\"standoff\":15},\"zerolinecolor\":\"white\",\"zerolinewidth\":2}}},\"title\":{\"font\":{\"color\":\"#4D5663\"}},\"xaxis\":{\"gridcolor\":\"#E1E5ED\",\"showgrid\":true,\"tickfont\":{\"color\":\"#4D5663\"},\"title\":{\"font\":{\"color\":\"#4D5663\"},\"text\":\"\"},\"zerolinecolor\":\"#E1E5ED\"},\"yaxis\":{\"gridcolor\":\"#E1E5ED\",\"showgrid\":true,\"tickfont\":{\"color\":\"#4D5663\"},\"title\":{\"font\":{\"color\":\"#4D5663\"},\"text\":\"\"},\"zerolinecolor\":\"#E1E5ED\"}},                        {\"showLink\": true, \"linkText\": \"Export to plot.ly\", \"plotlyServerURL\": \"https://plot.ly\", \"responsive\": true}                    ).then(function(){\n",
       "                            \n",
       "var gd = document.getElementById('17344688-6088-40f3-a4de-7521016d2a10');\n",
       "var x = new MutationObserver(function (mutations, observer) {{\n",
       "        var display = window.getComputedStyle(gd).display;\n",
       "        if (!display || display === 'none') {{\n",
       "            console.log([gd, 'removed!']);\n",
       "            Plotly.purge(gd);\n",
       "            observer.disconnect();\n",
       "        }}\n",
       "}});\n",
       "\n",
       "// Listen for the removal of the full notebook cells\n",
       "var notebookContainer = gd.closest('#notebook-container');\n",
       "if (notebookContainer) {{\n",
       "    x.observe(notebookContainer, {childList: true});\n",
       "}}\n",
       "\n",
       "// Listen for the clearing of the current output cell\n",
       "var outputEl = gd.closest('.output');\n",
       "if (outputEl) {{\n",
       "    x.observe(outputEl, {childList: true});\n",
       "}}\n",
       "\n",
       "                        })                };                });            </script>        </div>"
      ]
     },
     "metadata": {},
     "output_type": "display_data"
    }
   ],
   "source": [
    "df.iplot(kind='bubble',x='A',y='B',size='C')"
   ]
  },
  {
   "cell_type": "code",
   "execution_count": 34,
   "id": "feee2601",
   "metadata": {},
   "outputs": [
    {
     "data": {
      "application/vnd.plotly.v1+json": {
       "config": {
        "linkText": "Export to plot.ly",
        "plotlyServerURL": "https://plot.ly",
        "showLink": true
       },
       "data": [
        {
         "histfunc": "count",
         "histnorm": "",
         "marker": {
          "color": "rgba(255, 153, 51, 1.0)",
          "line": {
           "color": "#4D5663",
           "width": 1.3
          }
         },
         "name": "A",
         "nbinsx": 10,
         "opacity": 0.8,
         "orientation": "v",
         "type": "histogram",
         "x": [
          0.007097092789972175,
          -0.2507980967337128,
          0.5756887159748832,
          1.008554175812353,
          -2.6283592090659873,
          1.6897482724042978,
          -0.8474374630661906,
          -0.885832540802959,
          0.4165769995034404,
          0.3252308691285932,
          0.15654813843776863,
          0.32000464521458294,
          0.22512579404893415,
          -0.9790000089937704,
          -0.3580302188491322,
          -0.7226009569936725,
          0.42102829268405206,
          0.2230306013098082,
          -0.4894846120344407,
          0.566997691727052,
          0.7607780966610685,
          0.23179719324520257,
          0.3740720066436934,
          -0.3268113355342848,
          -0.18724635850271712,
          -0.43897158097130873,
          0.3311812464599041,
          -1.7464259691116253,
          -0.7003744338871739,
          -1.1273844453143265,
          -1.4433016423607514,
          -1.9331587985472232,
          -0.4416755962896438,
          0.3540378946293956,
          -2.3205791602958827,
          -0.6145551930755045,
          -1.0991258362026313,
          0.945377164629423,
          0.7660013927940503,
          0.8096965391921613,
          -1.011703590573019,
          -0.41828365667679634,
          -1.4791244765991614,
          -0.5761080113817664,
          0.7449599286623099,
          0.42270136868761493,
          -0.40390348558849554,
          0.36669812346527975,
          0.7481364566653947,
          1.5353321018275836,
          -1.3371004213241013,
          -1.4942270443891712,
          0.0710723740451789,
          -0.0006575669951469768,
          -0.22534602111696125,
          -1.172041314702635,
          1.123901859153798,
          -0.2542859826880914,
          -0.11703759236657453,
          -0.8142079592044608,
          -1.0542576188191066,
          0.546313307317542,
          -0.8447663571066834,
          -1.1131193312433463,
          0.4587848706424149,
          2.6591625662829146,
          -0.015121925395850002,
          -0.09109764156500297,
          0.4526267555190351,
          -0.24918265339293869,
          0.2750713724462446,
          0.9645876496605769,
          0.6886893955579118,
          1.1337676914267782,
          -0.20303842320923898,
          -1.0816855549346296,
          -1.1082516347864104,
          -0.7242762213979465,
          -1.2179557113588813,
          -1.7245807252123906,
          2.1746231931296514,
          -0.31174746522478336,
          -0.3329591568687766,
          -0.499939085089008,
          0.36520642633824857,
          -1.0458452355028378,
          0.3306941382140081,
          1.2923882218609148,
          0.33893456539783484,
          0.9869969913865074,
          -0.6450150360855204,
          -0.02753327885205397,
          -1.3624539641043698,
          0.6002984616132592,
          -1.432946169513228,
          -0.5951750844353458,
          0.9740904886924309,
          -0.23690369561450986,
          1.2616316919343114,
          0.45897564550142733
         ],
         "xaxis": "x",
         "yaxis": "y"
        },
        {
         "line": {
          "color": "rgba(128, 128, 128, 1.0)",
          "dash": "solid",
          "shape": "linear",
          "width": 1.3
         },
         "marker": {
          "size": 2,
          "symbol": "circle"
         },
         "mode": "markers",
         "name": "A",
         "text": "",
         "type": "scatter",
         "x": [
          1.0015685518890944,
          -1.6664086034303247,
          -1.4778111106947436,
          -0.7751255716259327,
          -1.4389565480396826,
          -1.6482938194416763,
          -1.506955683250337,
          0.2645971502651818,
          1.3192834739719805,
          0.33003703872957946,
          -0.1361520326958087,
          -1.3261155345688718,
          -1.204549680637177,
          0.3850583175509835,
          -0.3716158383803578,
          -0.6195146999634619,
          -0.996136086782592,
          -0.8444102927779795,
          -0.19276359031819187,
          0.08705580927796512,
          -0.3386322034460392,
          -0.6574543866595249,
          0.9478662810005158,
          -0.687885352767681,
          0.6015622856400247,
          0.25560908288184436,
          1.4082884056443346,
          -1.6772205012167196,
          0.5931670213401689,
          -0.20747584976568403,
          -1.042688109102613,
          0.3199247638241327,
          1.112879332773885,
          -0.6983477572766444,
          0.9909467462256175,
          -0.4702970722918106,
          0.3093044428150858,
          0.3442171189806224,
          0.40125331687981614,
          -0.9680466754947346,
          1.331024386460877,
          0.9700923553259135,
          0.14177352703313215,
          1.1490024377552774,
          -0.5259677383265647,
          -2.4786187225057223,
          2.075185652874105,
          -0.7934797710348597,
          -1.0812774636843718,
          1.33656414940059,
          1.167397360723972,
          0.922865585510867,
          0.07324989663541134,
          0.7157238614039628,
          -0.7484481402430851,
          0.48528402451312097,
          0.7511743146837414,
          0.4954149925198047,
          -1.11798381149081,
          0.29057128739668125,
          -1.3345464787750942,
          0.30198862771295165,
          0.707615903109009,
          1.6500185866666577,
          0.49276185597511885,
          -1.6571574050679154,
          -2.09094633959671,
          -0.3593627718648167,
          -1.6164724433213713,
          1.483388465917525,
          -0.25114671220587437,
          1.4662187742718724,
          -0.9062039290353936,
          -0.31360181319845404,
          0.9439194230341262,
          -0.12829533899369105,
          1.599093495914871,
          0.5583649783812819,
          -0.7561134141743251,
          -0.48882952610388714,
          -0.8669124668710848,
          -0.20869738384286052,
          -2.485808077029097,
          -1.0729464262607684,
          1.021856771895166,
          0.5857795865634028,
          0.8361142241220432,
          -1.048416757395772,
          -0.598914564611235,
          -1.1063945049183166,
          -0.9420740389395011,
          -1.5173258027035248,
          0.9807347509409816,
          1.5659650379880938,
          0.7249585649931194,
          -0.016215203047882022,
          -0.04401588783851069,
          2.0029297466320037,
          -1.2835695323754206,
          -0.9558328695916015
         ],
         "xaxis": "x2",
         "y": [
          0.007097092789972175,
          -0.2507980967337128,
          0.5756887159748832,
          1.008554175812353,
          -2.6283592090659873,
          1.6897482724042978,
          -0.8474374630661906,
          -0.885832540802959,
          0.4165769995034404,
          0.3252308691285932,
          0.15654813843776863,
          0.32000464521458294,
          0.22512579404893415,
          -0.9790000089937704,
          -0.3580302188491322,
          -0.7226009569936725,
          0.42102829268405206,
          0.2230306013098082,
          -0.4894846120344407,
          0.566997691727052,
          0.7607780966610685,
          0.23179719324520257,
          0.3740720066436934,
          -0.3268113355342848,
          -0.18724635850271712,
          -0.43897158097130873,
          0.3311812464599041,
          -1.7464259691116253,
          -0.7003744338871739,
          -1.1273844453143265,
          -1.4433016423607514,
          -1.9331587985472232,
          -0.4416755962896438,
          0.3540378946293956,
          -2.3205791602958827,
          -0.6145551930755045,
          -1.0991258362026313,
          0.945377164629423,
          0.7660013927940503,
          0.8096965391921613,
          -1.011703590573019,
          -0.41828365667679634,
          -1.4791244765991614,
          -0.5761080113817664,
          0.7449599286623099,
          0.42270136868761493,
          -0.40390348558849554,
          0.36669812346527975,
          0.7481364566653947,
          1.5353321018275836,
          -1.3371004213241013,
          -1.4942270443891712,
          0.0710723740451789,
          -0.0006575669951469768,
          -0.22534602111696125,
          -1.172041314702635,
          1.123901859153798,
          -0.2542859826880914,
          -0.11703759236657453,
          -0.8142079592044608,
          -1.0542576188191066,
          0.546313307317542,
          -0.8447663571066834,
          -1.1131193312433463,
          0.4587848706424149,
          2.6591625662829146,
          -0.015121925395850002,
          -0.09109764156500297,
          0.4526267555190351,
          -0.24918265339293869,
          0.2750713724462446,
          0.9645876496605769,
          0.6886893955579118,
          1.1337676914267782,
          -0.20303842320923898,
          -1.0816855549346296,
          -1.1082516347864104,
          -0.7242762213979465,
          -1.2179557113588813,
          -1.7245807252123906,
          2.1746231931296514,
          -0.31174746522478336,
          -0.3329591568687766,
          -0.499939085089008,
          0.36520642633824857,
          -1.0458452355028378,
          0.3306941382140081,
          1.2923882218609148,
          0.33893456539783484,
          0.9869969913865074,
          -0.6450150360855204,
          -0.02753327885205397,
          -1.3624539641043698,
          0.6002984616132592,
          -1.432946169513228,
          -0.5951750844353458,
          0.9740904886924309,
          -0.23690369561450986,
          1.2616316919343114,
          0.45897564550142733
         ],
         "yaxis": "y2"
        },
        {
         "line": {
          "color": "rgba(128, 128, 128, 1.0)",
          "dash": "solid",
          "shape": "linear",
          "width": 1.3
         },
         "marker": {
          "size": 2,
          "symbol": "circle"
         },
         "mode": "markers",
         "name": "A",
         "text": "",
         "type": "scatter",
         "x": [
          1.1134386376161787,
          -2.455826285527071,
          -0.9694676341962923,
          0.7130937845990152,
          -0.4082405867670057,
          -0.07106854892748057,
          0.29139163128680484,
          2.018976050553426,
          -2.426317414108947,
          -0.004035309681510012,
          -0.5688147882523389,
          1.2629407017390235,
          -0.056305975400264864,
          0.36100143469611534,
          -0.6775203711829082,
          -1.1916617039595192,
          -0.972871563819841,
          -1.1112621243203964,
          1.7320034633454189,
          -0.8478154766785165,
          -0.45539581710595534,
          2.10346520629492,
          -0.13907150540989444,
          0.04861080087146654,
          -2.564263148769308,
          -0.866192598224841,
          0.4891568617785788,
          1.0873970476750394,
          -0.18403764028888853,
          -0.1308663906545661,
          -0.28722000428881633,
          0.19840445734468734,
          -1.3009449684348904,
          -1.020091829408598,
          0.7387474831633447,
          0.19530536968376824,
          0.305383648263475,
          0.5797230543066278,
          0.4132055339672769,
          1.453165943930631,
          0.6738678698851303,
          1.2226808787214014,
          0.6099679322239068,
          0.0740870912806088,
          -1.2268367132161608,
          -0.3765866256593109,
          -0.8586237274089062,
          -1.4745636001090636,
          0.004608913554882749,
          -1.5289911287850926,
          -0.0465266419574453,
          -1.1117787124739829,
          0.3223837211493439,
          -0.7552722366390408,
          0.8752514886480032,
          1.0317230314868404,
          0.34616375944781325,
          -0.6551546404379297,
          0.3748294539863184,
          0.26460756409907765,
          1.2753158942553013,
          1.429845155534673,
          0.9508787491396822,
          0.07766733197880335,
          0.8514355614528256,
          0.3643160536653477,
          0.026335475115136356,
          0.7572998652599572,
          0.654042593554938,
          -1.8635945931004145,
          -1.3509614906487808,
          -0.5557091199465339,
          -0.4837150069088515,
          0.149347522183448,
          0.521279863811876,
          -0.1194141399337346,
          -0.4696545362675223,
          1.2560400763884412,
          -2.1289711422547986,
          -0.160846246930171,
          0.4845535388818226,
          0.20138949066785197,
          -0.38384316975121735,
          -0.8512900037498121,
          -0.22834122092072281,
          1.1889175170227522,
          -1.463630068002194,
          -0.9212060946063361,
          -0.34852257416333243,
          0.3862885438150903,
          0.22601878054759733,
          -1.2581306385539595,
          -1.1047097199780325,
          0.4427412253540972,
          -0.7624479813161561,
          -1.2941034696647962,
          1.5529727634412616,
          -0.5691920578956647,
          -0.32897418925340655,
          -0.2583816056393063
         ],
         "xaxis": "x3",
         "y": [
          0.007097092789972175,
          -0.2507980967337128,
          0.5756887159748832,
          1.008554175812353,
          -2.6283592090659873,
          1.6897482724042978,
          -0.8474374630661906,
          -0.885832540802959,
          0.4165769995034404,
          0.3252308691285932,
          0.15654813843776863,
          0.32000464521458294,
          0.22512579404893415,
          -0.9790000089937704,
          -0.3580302188491322,
          -0.7226009569936725,
          0.42102829268405206,
          0.2230306013098082,
          -0.4894846120344407,
          0.566997691727052,
          0.7607780966610685,
          0.23179719324520257,
          0.3740720066436934,
          -0.3268113355342848,
          -0.18724635850271712,
          -0.43897158097130873,
          0.3311812464599041,
          -1.7464259691116253,
          -0.7003744338871739,
          -1.1273844453143265,
          -1.4433016423607514,
          -1.9331587985472232,
          -0.4416755962896438,
          0.3540378946293956,
          -2.3205791602958827,
          -0.6145551930755045,
          -1.0991258362026313,
          0.945377164629423,
          0.7660013927940503,
          0.8096965391921613,
          -1.011703590573019,
          -0.41828365667679634,
          -1.4791244765991614,
          -0.5761080113817664,
          0.7449599286623099,
          0.42270136868761493,
          -0.40390348558849554,
          0.36669812346527975,
          0.7481364566653947,
          1.5353321018275836,
          -1.3371004213241013,
          -1.4942270443891712,
          0.0710723740451789,
          -0.0006575669951469768,
          -0.22534602111696125,
          -1.172041314702635,
          1.123901859153798,
          -0.2542859826880914,
          -0.11703759236657453,
          -0.8142079592044608,
          -1.0542576188191066,
          0.546313307317542,
          -0.8447663571066834,
          -1.1131193312433463,
          0.4587848706424149,
          2.6591625662829146,
          -0.015121925395850002,
          -0.09109764156500297,
          0.4526267555190351,
          -0.24918265339293869,
          0.2750713724462446,
          0.9645876496605769,
          0.6886893955579118,
          1.1337676914267782,
          -0.20303842320923898,
          -1.0816855549346296,
          -1.1082516347864104,
          -0.7242762213979465,
          -1.2179557113588813,
          -1.7245807252123906,
          2.1746231931296514,
          -0.31174746522478336,
          -0.3329591568687766,
          -0.499939085089008,
          0.36520642633824857,
          -1.0458452355028378,
          0.3306941382140081,
          1.2923882218609148,
          0.33893456539783484,
          0.9869969913865074,
          -0.6450150360855204,
          -0.02753327885205397,
          -1.3624539641043698,
          0.6002984616132592,
          -1.432946169513228,
          -0.5951750844353458,
          0.9740904886924309,
          -0.23690369561450986,
          1.2616316919343114,
          0.45897564550142733
         ],
         "yaxis": "y3"
        },
        {
         "line": {
          "color": "rgba(128, 128, 128, 1.0)",
          "dash": "solid",
          "shape": "linear",
          "width": 1.3
         },
         "marker": {
          "size": 2,
          "symbol": "circle"
         },
         "mode": "markers",
         "name": "A",
         "text": "",
         "type": "scatter",
         "x": [
          0.6285053069771211,
          -0.6422674141981904,
          0.0634065414695631,
          -0.201402449765595,
          -2.6474565882162757,
          0.6265434890066702,
          -1.9382483237147952,
          -0.32162316806583113,
          3.4624661592603942,
          1.3445984945414413,
          -0.17554664142011986,
          0.26262795117021503,
          2.0591321301455325,
          -0.4913943013347786,
          -1.139807932036039,
          -1.6958695678745266,
          -0.04000130876323166,
          1.0930715576453156,
          0.03805565004376671,
          2.3237405477198765,
          -1.099474750776804,
          0.3322415170042958,
          -0.6253652694816224,
          0.5643137167005545,
          -1.367285511433765,
          -0.8493451469168063,
          -1.7102637597838743,
          0.7122135177798964,
          -0.8348120685843194,
          -0.31127690877640213,
          0.27183877009540397,
          -0.9643422479683356,
          -1.191605116248042,
          -1.8149598907289821,
          -1.2031855070303434,
          -0.37111420727859884,
          -2.8305221116932366,
          0.7243165392074373,
          1.055587352116458,
          1.239324577800402,
          0.6573339689669813,
          0.09696536248035267,
          3.225530201379237,
          1.7735656183178174,
          0.25461358972815895,
          -1.0517399733379011,
          -0.3635969232943197,
          -1.2253357557287223,
          0.5923060728152107,
          -1.279752472638377,
          -0.6128659529842336,
          0.24504815354791581,
          0.7534178898831382,
          2.070512094883402,
          0.3940060871582593,
          1.4858158335189027,
          -0.8600609449415718,
          0.6213847128112033,
          0.5553075850486182,
          0.742383623660946,
          0.767215551936453,
          0.23817587790638547,
          -1.3012269615712475,
          1.08021842351989,
          0.9658551608356808,
          1.4230556281711535,
          0.3804284239839869,
          0.5712095351317064,
          0.6958612817349366,
          0.5641213581950402,
          -0.09067589440089023,
          0.644676122057003,
          -1.520122329434704,
          0.7402565312864682,
          1.548539687973651,
          -1.2885509385410618,
          -0.13845364979150812,
          0.8958051028459594,
          0.17563500440961954,
          -1.1332558956501393,
          0.6788627077454537,
          0.9880588825348897,
          0.6103628196031742,
          0.48507446741314536,
          0.41352006465908314,
          -0.21633682669954693,
          1.6616255124634403,
          0.23162794842808973,
          0.2931359941088242,
          -0.8097226200965799,
          0.7998522463526723,
          0.2863776827517364,
          -0.1499143781408709,
          1.1966437475941525,
          -0.46900231972356204,
          -1.2004271104989692,
          0.31394022384256876,
          -0.8525240262883761,
          1.2835914022049175,
          0.15110248242260002
         ],
         "xaxis": "x4",
         "y": [
          0.007097092789972175,
          -0.2507980967337128,
          0.5756887159748832,
          1.008554175812353,
          -2.6283592090659873,
          1.6897482724042978,
          -0.8474374630661906,
          -0.885832540802959,
          0.4165769995034404,
          0.3252308691285932,
          0.15654813843776863,
          0.32000464521458294,
          0.22512579404893415,
          -0.9790000089937704,
          -0.3580302188491322,
          -0.7226009569936725,
          0.42102829268405206,
          0.2230306013098082,
          -0.4894846120344407,
          0.566997691727052,
          0.7607780966610685,
          0.23179719324520257,
          0.3740720066436934,
          -0.3268113355342848,
          -0.18724635850271712,
          -0.43897158097130873,
          0.3311812464599041,
          -1.7464259691116253,
          -0.7003744338871739,
          -1.1273844453143265,
          -1.4433016423607514,
          -1.9331587985472232,
          -0.4416755962896438,
          0.3540378946293956,
          -2.3205791602958827,
          -0.6145551930755045,
          -1.0991258362026313,
          0.945377164629423,
          0.7660013927940503,
          0.8096965391921613,
          -1.011703590573019,
          -0.41828365667679634,
          -1.4791244765991614,
          -0.5761080113817664,
          0.7449599286623099,
          0.42270136868761493,
          -0.40390348558849554,
          0.36669812346527975,
          0.7481364566653947,
          1.5353321018275836,
          -1.3371004213241013,
          -1.4942270443891712,
          0.0710723740451789,
          -0.0006575669951469768,
          -0.22534602111696125,
          -1.172041314702635,
          1.123901859153798,
          -0.2542859826880914,
          -0.11703759236657453,
          -0.8142079592044608,
          -1.0542576188191066,
          0.546313307317542,
          -0.8447663571066834,
          -1.1131193312433463,
          0.4587848706424149,
          2.6591625662829146,
          -0.015121925395850002,
          -0.09109764156500297,
          0.4526267555190351,
          -0.24918265339293869,
          0.2750713724462446,
          0.9645876496605769,
          0.6886893955579118,
          1.1337676914267782,
          -0.20303842320923898,
          -1.0816855549346296,
          -1.1082516347864104,
          -0.7242762213979465,
          -1.2179557113588813,
          -1.7245807252123906,
          2.1746231931296514,
          -0.31174746522478336,
          -0.3329591568687766,
          -0.499939085089008,
          0.36520642633824857,
          -1.0458452355028378,
          0.3306941382140081,
          1.2923882218609148,
          0.33893456539783484,
          0.9869969913865074,
          -0.6450150360855204,
          -0.02753327885205397,
          -1.3624539641043698,
          0.6002984616132592,
          -1.432946169513228,
          -0.5951750844353458,
          0.9740904886924309,
          -0.23690369561450986,
          1.2616316919343114,
          0.45897564550142733
         ],
         "yaxis": "y4"
        },
        {
         "line": {
          "color": "rgba(128, 128, 128, 1.0)",
          "dash": "solid",
          "shape": "linear",
          "width": 1.3
         },
         "marker": {
          "size": 2,
          "symbol": "circle"
         },
         "mode": "markers",
         "name": "B",
         "text": "",
         "type": "scatter",
         "x": [
          0.007097092789972175,
          -0.2507980967337128,
          0.5756887159748832,
          1.008554175812353,
          -2.6283592090659873,
          1.6897482724042978,
          -0.8474374630661906,
          -0.885832540802959,
          0.4165769995034404,
          0.3252308691285932,
          0.15654813843776863,
          0.32000464521458294,
          0.22512579404893415,
          -0.9790000089937704,
          -0.3580302188491322,
          -0.7226009569936725,
          0.42102829268405206,
          0.2230306013098082,
          -0.4894846120344407,
          0.566997691727052,
          0.7607780966610685,
          0.23179719324520257,
          0.3740720066436934,
          -0.3268113355342848,
          -0.18724635850271712,
          -0.43897158097130873,
          0.3311812464599041,
          -1.7464259691116253,
          -0.7003744338871739,
          -1.1273844453143265,
          -1.4433016423607514,
          -1.9331587985472232,
          -0.4416755962896438,
          0.3540378946293956,
          -2.3205791602958827,
          -0.6145551930755045,
          -1.0991258362026313,
          0.945377164629423,
          0.7660013927940503,
          0.8096965391921613,
          -1.011703590573019,
          -0.41828365667679634,
          -1.4791244765991614,
          -0.5761080113817664,
          0.7449599286623099,
          0.42270136868761493,
          -0.40390348558849554,
          0.36669812346527975,
          0.7481364566653947,
          1.5353321018275836,
          -1.3371004213241013,
          -1.4942270443891712,
          0.0710723740451789,
          -0.0006575669951469768,
          -0.22534602111696125,
          -1.172041314702635,
          1.123901859153798,
          -0.2542859826880914,
          -0.11703759236657453,
          -0.8142079592044608,
          -1.0542576188191066,
          0.546313307317542,
          -0.8447663571066834,
          -1.1131193312433463,
          0.4587848706424149,
          2.6591625662829146,
          -0.015121925395850002,
          -0.09109764156500297,
          0.4526267555190351,
          -0.24918265339293869,
          0.2750713724462446,
          0.9645876496605769,
          0.6886893955579118,
          1.1337676914267782,
          -0.20303842320923898,
          -1.0816855549346296,
          -1.1082516347864104,
          -0.7242762213979465,
          -1.2179557113588813,
          -1.7245807252123906,
          2.1746231931296514,
          -0.31174746522478336,
          -0.3329591568687766,
          -0.499939085089008,
          0.36520642633824857,
          -1.0458452355028378,
          0.3306941382140081,
          1.2923882218609148,
          0.33893456539783484,
          0.9869969913865074,
          -0.6450150360855204,
          -0.02753327885205397,
          -1.3624539641043698,
          0.6002984616132592,
          -1.432946169513228,
          -0.5951750844353458,
          0.9740904886924309,
          -0.23690369561450986,
          1.2616316919343114,
          0.45897564550142733
         ],
         "xaxis": "x5",
         "y": [
          1.0015685518890944,
          -1.6664086034303247,
          -1.4778111106947436,
          -0.7751255716259327,
          -1.4389565480396826,
          -1.6482938194416763,
          -1.506955683250337,
          0.2645971502651818,
          1.3192834739719805,
          0.33003703872957946,
          -0.1361520326958087,
          -1.3261155345688718,
          -1.204549680637177,
          0.3850583175509835,
          -0.3716158383803578,
          -0.6195146999634619,
          -0.996136086782592,
          -0.8444102927779795,
          -0.19276359031819187,
          0.08705580927796512,
          -0.3386322034460392,
          -0.6574543866595249,
          0.9478662810005158,
          -0.687885352767681,
          0.6015622856400247,
          0.25560908288184436,
          1.4082884056443346,
          -1.6772205012167196,
          0.5931670213401689,
          -0.20747584976568403,
          -1.042688109102613,
          0.3199247638241327,
          1.112879332773885,
          -0.6983477572766444,
          0.9909467462256175,
          -0.4702970722918106,
          0.3093044428150858,
          0.3442171189806224,
          0.40125331687981614,
          -0.9680466754947346,
          1.331024386460877,
          0.9700923553259135,
          0.14177352703313215,
          1.1490024377552774,
          -0.5259677383265647,
          -2.4786187225057223,
          2.075185652874105,
          -0.7934797710348597,
          -1.0812774636843718,
          1.33656414940059,
          1.167397360723972,
          0.922865585510867,
          0.07324989663541134,
          0.7157238614039628,
          -0.7484481402430851,
          0.48528402451312097,
          0.7511743146837414,
          0.4954149925198047,
          -1.11798381149081,
          0.29057128739668125,
          -1.3345464787750942,
          0.30198862771295165,
          0.707615903109009,
          1.6500185866666577,
          0.49276185597511885,
          -1.6571574050679154,
          -2.09094633959671,
          -0.3593627718648167,
          -1.6164724433213713,
          1.483388465917525,
          -0.25114671220587437,
          1.4662187742718724,
          -0.9062039290353936,
          -0.31360181319845404,
          0.9439194230341262,
          -0.12829533899369105,
          1.599093495914871,
          0.5583649783812819,
          -0.7561134141743251,
          -0.48882952610388714,
          -0.8669124668710848,
          -0.20869738384286052,
          -2.485808077029097,
          -1.0729464262607684,
          1.021856771895166,
          0.5857795865634028,
          0.8361142241220432,
          -1.048416757395772,
          -0.598914564611235,
          -1.1063945049183166,
          -0.9420740389395011,
          -1.5173258027035248,
          0.9807347509409816,
          1.5659650379880938,
          0.7249585649931194,
          -0.016215203047882022,
          -0.04401588783851069,
          2.0029297466320037,
          -1.2835695323754206,
          -0.9558328695916015
         ],
         "yaxis": "y5"
        },
        {
         "histfunc": "count",
         "histnorm": "",
         "marker": {
          "color": "rgba(55, 128, 191, 1.0)",
          "line": {
           "color": "#4D5663",
           "width": 1.3
          }
         },
         "name": "B",
         "nbinsx": 10,
         "opacity": 0.8,
         "orientation": "v",
         "type": "histogram",
         "x": [
          1.0015685518890944,
          -1.6664086034303247,
          -1.4778111106947436,
          -0.7751255716259327,
          -1.4389565480396826,
          -1.6482938194416763,
          -1.506955683250337,
          0.2645971502651818,
          1.3192834739719805,
          0.33003703872957946,
          -0.1361520326958087,
          -1.3261155345688718,
          -1.204549680637177,
          0.3850583175509835,
          -0.3716158383803578,
          -0.6195146999634619,
          -0.996136086782592,
          -0.8444102927779795,
          -0.19276359031819187,
          0.08705580927796512,
          -0.3386322034460392,
          -0.6574543866595249,
          0.9478662810005158,
          -0.687885352767681,
          0.6015622856400247,
          0.25560908288184436,
          1.4082884056443346,
          -1.6772205012167196,
          0.5931670213401689,
          -0.20747584976568403,
          -1.042688109102613,
          0.3199247638241327,
          1.112879332773885,
          -0.6983477572766444,
          0.9909467462256175,
          -0.4702970722918106,
          0.3093044428150858,
          0.3442171189806224,
          0.40125331687981614,
          -0.9680466754947346,
          1.331024386460877,
          0.9700923553259135,
          0.14177352703313215,
          1.1490024377552774,
          -0.5259677383265647,
          -2.4786187225057223,
          2.075185652874105,
          -0.7934797710348597,
          -1.0812774636843718,
          1.33656414940059,
          1.167397360723972,
          0.922865585510867,
          0.07324989663541134,
          0.7157238614039628,
          -0.7484481402430851,
          0.48528402451312097,
          0.7511743146837414,
          0.4954149925198047,
          -1.11798381149081,
          0.29057128739668125,
          -1.3345464787750942,
          0.30198862771295165,
          0.707615903109009,
          1.6500185866666577,
          0.49276185597511885,
          -1.6571574050679154,
          -2.09094633959671,
          -0.3593627718648167,
          -1.6164724433213713,
          1.483388465917525,
          -0.25114671220587437,
          1.4662187742718724,
          -0.9062039290353936,
          -0.31360181319845404,
          0.9439194230341262,
          -0.12829533899369105,
          1.599093495914871,
          0.5583649783812819,
          -0.7561134141743251,
          -0.48882952610388714,
          -0.8669124668710848,
          -0.20869738384286052,
          -2.485808077029097,
          -1.0729464262607684,
          1.021856771895166,
          0.5857795865634028,
          0.8361142241220432,
          -1.048416757395772,
          -0.598914564611235,
          -1.1063945049183166,
          -0.9420740389395011,
          -1.5173258027035248,
          0.9807347509409816,
          1.5659650379880938,
          0.7249585649931194,
          -0.016215203047882022,
          -0.04401588783851069,
          2.0029297466320037,
          -1.2835695323754206,
          -0.9558328695916015
         ],
         "xaxis": "x6",
         "yaxis": "y6"
        },
        {
         "line": {
          "color": "rgba(128, 128, 128, 1.0)",
          "dash": "solid",
          "shape": "linear",
          "width": 1.3
         },
         "marker": {
          "size": 2,
          "symbol": "circle"
         },
         "mode": "markers",
         "name": "B",
         "text": "",
         "type": "scatter",
         "x": [
          1.1134386376161787,
          -2.455826285527071,
          -0.9694676341962923,
          0.7130937845990152,
          -0.4082405867670057,
          -0.07106854892748057,
          0.29139163128680484,
          2.018976050553426,
          -2.426317414108947,
          -0.004035309681510012,
          -0.5688147882523389,
          1.2629407017390235,
          -0.056305975400264864,
          0.36100143469611534,
          -0.6775203711829082,
          -1.1916617039595192,
          -0.972871563819841,
          -1.1112621243203964,
          1.7320034633454189,
          -0.8478154766785165,
          -0.45539581710595534,
          2.10346520629492,
          -0.13907150540989444,
          0.04861080087146654,
          -2.564263148769308,
          -0.866192598224841,
          0.4891568617785788,
          1.0873970476750394,
          -0.18403764028888853,
          -0.1308663906545661,
          -0.28722000428881633,
          0.19840445734468734,
          -1.3009449684348904,
          -1.020091829408598,
          0.7387474831633447,
          0.19530536968376824,
          0.305383648263475,
          0.5797230543066278,
          0.4132055339672769,
          1.453165943930631,
          0.6738678698851303,
          1.2226808787214014,
          0.6099679322239068,
          0.0740870912806088,
          -1.2268367132161608,
          -0.3765866256593109,
          -0.8586237274089062,
          -1.4745636001090636,
          0.004608913554882749,
          -1.5289911287850926,
          -0.0465266419574453,
          -1.1117787124739829,
          0.3223837211493439,
          -0.7552722366390408,
          0.8752514886480032,
          1.0317230314868404,
          0.34616375944781325,
          -0.6551546404379297,
          0.3748294539863184,
          0.26460756409907765,
          1.2753158942553013,
          1.429845155534673,
          0.9508787491396822,
          0.07766733197880335,
          0.8514355614528256,
          0.3643160536653477,
          0.026335475115136356,
          0.7572998652599572,
          0.654042593554938,
          -1.8635945931004145,
          -1.3509614906487808,
          -0.5557091199465339,
          -0.4837150069088515,
          0.149347522183448,
          0.521279863811876,
          -0.1194141399337346,
          -0.4696545362675223,
          1.2560400763884412,
          -2.1289711422547986,
          -0.160846246930171,
          0.4845535388818226,
          0.20138949066785197,
          -0.38384316975121735,
          -0.8512900037498121,
          -0.22834122092072281,
          1.1889175170227522,
          -1.463630068002194,
          -0.9212060946063361,
          -0.34852257416333243,
          0.3862885438150903,
          0.22601878054759733,
          -1.2581306385539595,
          -1.1047097199780325,
          0.4427412253540972,
          -0.7624479813161561,
          -1.2941034696647962,
          1.5529727634412616,
          -0.5691920578956647,
          -0.32897418925340655,
          -0.2583816056393063
         ],
         "xaxis": "x7",
         "y": [
          1.0015685518890944,
          -1.6664086034303247,
          -1.4778111106947436,
          -0.7751255716259327,
          -1.4389565480396826,
          -1.6482938194416763,
          -1.506955683250337,
          0.2645971502651818,
          1.3192834739719805,
          0.33003703872957946,
          -0.1361520326958087,
          -1.3261155345688718,
          -1.204549680637177,
          0.3850583175509835,
          -0.3716158383803578,
          -0.6195146999634619,
          -0.996136086782592,
          -0.8444102927779795,
          -0.19276359031819187,
          0.08705580927796512,
          -0.3386322034460392,
          -0.6574543866595249,
          0.9478662810005158,
          -0.687885352767681,
          0.6015622856400247,
          0.25560908288184436,
          1.4082884056443346,
          -1.6772205012167196,
          0.5931670213401689,
          -0.20747584976568403,
          -1.042688109102613,
          0.3199247638241327,
          1.112879332773885,
          -0.6983477572766444,
          0.9909467462256175,
          -0.4702970722918106,
          0.3093044428150858,
          0.3442171189806224,
          0.40125331687981614,
          -0.9680466754947346,
          1.331024386460877,
          0.9700923553259135,
          0.14177352703313215,
          1.1490024377552774,
          -0.5259677383265647,
          -2.4786187225057223,
          2.075185652874105,
          -0.7934797710348597,
          -1.0812774636843718,
          1.33656414940059,
          1.167397360723972,
          0.922865585510867,
          0.07324989663541134,
          0.7157238614039628,
          -0.7484481402430851,
          0.48528402451312097,
          0.7511743146837414,
          0.4954149925198047,
          -1.11798381149081,
          0.29057128739668125,
          -1.3345464787750942,
          0.30198862771295165,
          0.707615903109009,
          1.6500185866666577,
          0.49276185597511885,
          -1.6571574050679154,
          -2.09094633959671,
          -0.3593627718648167,
          -1.6164724433213713,
          1.483388465917525,
          -0.25114671220587437,
          1.4662187742718724,
          -0.9062039290353936,
          -0.31360181319845404,
          0.9439194230341262,
          -0.12829533899369105,
          1.599093495914871,
          0.5583649783812819,
          -0.7561134141743251,
          -0.48882952610388714,
          -0.8669124668710848,
          -0.20869738384286052,
          -2.485808077029097,
          -1.0729464262607684,
          1.021856771895166,
          0.5857795865634028,
          0.8361142241220432,
          -1.048416757395772,
          -0.598914564611235,
          -1.1063945049183166,
          -0.9420740389395011,
          -1.5173258027035248,
          0.9807347509409816,
          1.5659650379880938,
          0.7249585649931194,
          -0.016215203047882022,
          -0.04401588783851069,
          2.0029297466320037,
          -1.2835695323754206,
          -0.9558328695916015
         ],
         "yaxis": "y7"
        },
        {
         "line": {
          "color": "rgba(128, 128, 128, 1.0)",
          "dash": "solid",
          "shape": "linear",
          "width": 1.3
         },
         "marker": {
          "size": 2,
          "symbol": "circle"
         },
         "mode": "markers",
         "name": "B",
         "text": "",
         "type": "scatter",
         "x": [
          0.6285053069771211,
          -0.6422674141981904,
          0.0634065414695631,
          -0.201402449765595,
          -2.6474565882162757,
          0.6265434890066702,
          -1.9382483237147952,
          -0.32162316806583113,
          3.4624661592603942,
          1.3445984945414413,
          -0.17554664142011986,
          0.26262795117021503,
          2.0591321301455325,
          -0.4913943013347786,
          -1.139807932036039,
          -1.6958695678745266,
          -0.04000130876323166,
          1.0930715576453156,
          0.03805565004376671,
          2.3237405477198765,
          -1.099474750776804,
          0.3322415170042958,
          -0.6253652694816224,
          0.5643137167005545,
          -1.367285511433765,
          -0.8493451469168063,
          -1.7102637597838743,
          0.7122135177798964,
          -0.8348120685843194,
          -0.31127690877640213,
          0.27183877009540397,
          -0.9643422479683356,
          -1.191605116248042,
          -1.8149598907289821,
          -1.2031855070303434,
          -0.37111420727859884,
          -2.8305221116932366,
          0.7243165392074373,
          1.055587352116458,
          1.239324577800402,
          0.6573339689669813,
          0.09696536248035267,
          3.225530201379237,
          1.7735656183178174,
          0.25461358972815895,
          -1.0517399733379011,
          -0.3635969232943197,
          -1.2253357557287223,
          0.5923060728152107,
          -1.279752472638377,
          -0.6128659529842336,
          0.24504815354791581,
          0.7534178898831382,
          2.070512094883402,
          0.3940060871582593,
          1.4858158335189027,
          -0.8600609449415718,
          0.6213847128112033,
          0.5553075850486182,
          0.742383623660946,
          0.767215551936453,
          0.23817587790638547,
          -1.3012269615712475,
          1.08021842351989,
          0.9658551608356808,
          1.4230556281711535,
          0.3804284239839869,
          0.5712095351317064,
          0.6958612817349366,
          0.5641213581950402,
          -0.09067589440089023,
          0.644676122057003,
          -1.520122329434704,
          0.7402565312864682,
          1.548539687973651,
          -1.2885509385410618,
          -0.13845364979150812,
          0.8958051028459594,
          0.17563500440961954,
          -1.1332558956501393,
          0.6788627077454537,
          0.9880588825348897,
          0.6103628196031742,
          0.48507446741314536,
          0.41352006465908314,
          -0.21633682669954693,
          1.6616255124634403,
          0.23162794842808973,
          0.2931359941088242,
          -0.8097226200965799,
          0.7998522463526723,
          0.2863776827517364,
          -0.1499143781408709,
          1.1966437475941525,
          -0.46900231972356204,
          -1.2004271104989692,
          0.31394022384256876,
          -0.8525240262883761,
          1.2835914022049175,
          0.15110248242260002
         ],
         "xaxis": "x8",
         "y": [
          1.0015685518890944,
          -1.6664086034303247,
          -1.4778111106947436,
          -0.7751255716259327,
          -1.4389565480396826,
          -1.6482938194416763,
          -1.506955683250337,
          0.2645971502651818,
          1.3192834739719805,
          0.33003703872957946,
          -0.1361520326958087,
          -1.3261155345688718,
          -1.204549680637177,
          0.3850583175509835,
          -0.3716158383803578,
          -0.6195146999634619,
          -0.996136086782592,
          -0.8444102927779795,
          -0.19276359031819187,
          0.08705580927796512,
          -0.3386322034460392,
          -0.6574543866595249,
          0.9478662810005158,
          -0.687885352767681,
          0.6015622856400247,
          0.25560908288184436,
          1.4082884056443346,
          -1.6772205012167196,
          0.5931670213401689,
          -0.20747584976568403,
          -1.042688109102613,
          0.3199247638241327,
          1.112879332773885,
          -0.6983477572766444,
          0.9909467462256175,
          -0.4702970722918106,
          0.3093044428150858,
          0.3442171189806224,
          0.40125331687981614,
          -0.9680466754947346,
          1.331024386460877,
          0.9700923553259135,
          0.14177352703313215,
          1.1490024377552774,
          -0.5259677383265647,
          -2.4786187225057223,
          2.075185652874105,
          -0.7934797710348597,
          -1.0812774636843718,
          1.33656414940059,
          1.167397360723972,
          0.922865585510867,
          0.07324989663541134,
          0.7157238614039628,
          -0.7484481402430851,
          0.48528402451312097,
          0.7511743146837414,
          0.4954149925198047,
          -1.11798381149081,
          0.29057128739668125,
          -1.3345464787750942,
          0.30198862771295165,
          0.707615903109009,
          1.6500185866666577,
          0.49276185597511885,
          -1.6571574050679154,
          -2.09094633959671,
          -0.3593627718648167,
          -1.6164724433213713,
          1.483388465917525,
          -0.25114671220587437,
          1.4662187742718724,
          -0.9062039290353936,
          -0.31360181319845404,
          0.9439194230341262,
          -0.12829533899369105,
          1.599093495914871,
          0.5583649783812819,
          -0.7561134141743251,
          -0.48882952610388714,
          -0.8669124668710848,
          -0.20869738384286052,
          -2.485808077029097,
          -1.0729464262607684,
          1.021856771895166,
          0.5857795865634028,
          0.8361142241220432,
          -1.048416757395772,
          -0.598914564611235,
          -1.1063945049183166,
          -0.9420740389395011,
          -1.5173258027035248,
          0.9807347509409816,
          1.5659650379880938,
          0.7249585649931194,
          -0.016215203047882022,
          -0.04401588783851069,
          2.0029297466320037,
          -1.2835695323754206,
          -0.9558328695916015
         ],
         "yaxis": "y8"
        },
        {
         "line": {
          "color": "rgba(128, 128, 128, 1.0)",
          "dash": "solid",
          "shape": "linear",
          "width": 1.3
         },
         "marker": {
          "size": 2,
          "symbol": "circle"
         },
         "mode": "markers",
         "name": "C",
         "text": "",
         "type": "scatter",
         "x": [
          0.007097092789972175,
          -0.2507980967337128,
          0.5756887159748832,
          1.008554175812353,
          -2.6283592090659873,
          1.6897482724042978,
          -0.8474374630661906,
          -0.885832540802959,
          0.4165769995034404,
          0.3252308691285932,
          0.15654813843776863,
          0.32000464521458294,
          0.22512579404893415,
          -0.9790000089937704,
          -0.3580302188491322,
          -0.7226009569936725,
          0.42102829268405206,
          0.2230306013098082,
          -0.4894846120344407,
          0.566997691727052,
          0.7607780966610685,
          0.23179719324520257,
          0.3740720066436934,
          -0.3268113355342848,
          -0.18724635850271712,
          -0.43897158097130873,
          0.3311812464599041,
          -1.7464259691116253,
          -0.7003744338871739,
          -1.1273844453143265,
          -1.4433016423607514,
          -1.9331587985472232,
          -0.4416755962896438,
          0.3540378946293956,
          -2.3205791602958827,
          -0.6145551930755045,
          -1.0991258362026313,
          0.945377164629423,
          0.7660013927940503,
          0.8096965391921613,
          -1.011703590573019,
          -0.41828365667679634,
          -1.4791244765991614,
          -0.5761080113817664,
          0.7449599286623099,
          0.42270136868761493,
          -0.40390348558849554,
          0.36669812346527975,
          0.7481364566653947,
          1.5353321018275836,
          -1.3371004213241013,
          -1.4942270443891712,
          0.0710723740451789,
          -0.0006575669951469768,
          -0.22534602111696125,
          -1.172041314702635,
          1.123901859153798,
          -0.2542859826880914,
          -0.11703759236657453,
          -0.8142079592044608,
          -1.0542576188191066,
          0.546313307317542,
          -0.8447663571066834,
          -1.1131193312433463,
          0.4587848706424149,
          2.6591625662829146,
          -0.015121925395850002,
          -0.09109764156500297,
          0.4526267555190351,
          -0.24918265339293869,
          0.2750713724462446,
          0.9645876496605769,
          0.6886893955579118,
          1.1337676914267782,
          -0.20303842320923898,
          -1.0816855549346296,
          -1.1082516347864104,
          -0.7242762213979465,
          -1.2179557113588813,
          -1.7245807252123906,
          2.1746231931296514,
          -0.31174746522478336,
          -0.3329591568687766,
          -0.499939085089008,
          0.36520642633824857,
          -1.0458452355028378,
          0.3306941382140081,
          1.2923882218609148,
          0.33893456539783484,
          0.9869969913865074,
          -0.6450150360855204,
          -0.02753327885205397,
          -1.3624539641043698,
          0.6002984616132592,
          -1.432946169513228,
          -0.5951750844353458,
          0.9740904886924309,
          -0.23690369561450986,
          1.2616316919343114,
          0.45897564550142733
         ],
         "xaxis": "x9",
         "y": [
          1.1134386376161787,
          -2.455826285527071,
          -0.9694676341962923,
          0.7130937845990152,
          -0.4082405867670057,
          -0.07106854892748057,
          0.29139163128680484,
          2.018976050553426,
          -2.426317414108947,
          -0.004035309681510012,
          -0.5688147882523389,
          1.2629407017390235,
          -0.056305975400264864,
          0.36100143469611534,
          -0.6775203711829082,
          -1.1916617039595192,
          -0.972871563819841,
          -1.1112621243203964,
          1.7320034633454189,
          -0.8478154766785165,
          -0.45539581710595534,
          2.10346520629492,
          -0.13907150540989444,
          0.04861080087146654,
          -2.564263148769308,
          -0.866192598224841,
          0.4891568617785788,
          1.0873970476750394,
          -0.18403764028888853,
          -0.1308663906545661,
          -0.28722000428881633,
          0.19840445734468734,
          -1.3009449684348904,
          -1.020091829408598,
          0.7387474831633447,
          0.19530536968376824,
          0.305383648263475,
          0.5797230543066278,
          0.4132055339672769,
          1.453165943930631,
          0.6738678698851303,
          1.2226808787214014,
          0.6099679322239068,
          0.0740870912806088,
          -1.2268367132161608,
          -0.3765866256593109,
          -0.8586237274089062,
          -1.4745636001090636,
          0.004608913554882749,
          -1.5289911287850926,
          -0.0465266419574453,
          -1.1117787124739829,
          0.3223837211493439,
          -0.7552722366390408,
          0.8752514886480032,
          1.0317230314868404,
          0.34616375944781325,
          -0.6551546404379297,
          0.3748294539863184,
          0.26460756409907765,
          1.2753158942553013,
          1.429845155534673,
          0.9508787491396822,
          0.07766733197880335,
          0.8514355614528256,
          0.3643160536653477,
          0.026335475115136356,
          0.7572998652599572,
          0.654042593554938,
          -1.8635945931004145,
          -1.3509614906487808,
          -0.5557091199465339,
          -0.4837150069088515,
          0.149347522183448,
          0.521279863811876,
          -0.1194141399337346,
          -0.4696545362675223,
          1.2560400763884412,
          -2.1289711422547986,
          -0.160846246930171,
          0.4845535388818226,
          0.20138949066785197,
          -0.38384316975121735,
          -0.8512900037498121,
          -0.22834122092072281,
          1.1889175170227522,
          -1.463630068002194,
          -0.9212060946063361,
          -0.34852257416333243,
          0.3862885438150903,
          0.22601878054759733,
          -1.2581306385539595,
          -1.1047097199780325,
          0.4427412253540972,
          -0.7624479813161561,
          -1.2941034696647962,
          1.5529727634412616,
          -0.5691920578956647,
          -0.32897418925340655,
          -0.2583816056393063
         ],
         "yaxis": "y9"
        },
        {
         "line": {
          "color": "rgba(128, 128, 128, 1.0)",
          "dash": "solid",
          "shape": "linear",
          "width": 1.3
         },
         "marker": {
          "size": 2,
          "symbol": "circle"
         },
         "mode": "markers",
         "name": "C",
         "text": "",
         "type": "scatter",
         "x": [
          1.0015685518890944,
          -1.6664086034303247,
          -1.4778111106947436,
          -0.7751255716259327,
          -1.4389565480396826,
          -1.6482938194416763,
          -1.506955683250337,
          0.2645971502651818,
          1.3192834739719805,
          0.33003703872957946,
          -0.1361520326958087,
          -1.3261155345688718,
          -1.204549680637177,
          0.3850583175509835,
          -0.3716158383803578,
          -0.6195146999634619,
          -0.996136086782592,
          -0.8444102927779795,
          -0.19276359031819187,
          0.08705580927796512,
          -0.3386322034460392,
          -0.6574543866595249,
          0.9478662810005158,
          -0.687885352767681,
          0.6015622856400247,
          0.25560908288184436,
          1.4082884056443346,
          -1.6772205012167196,
          0.5931670213401689,
          -0.20747584976568403,
          -1.042688109102613,
          0.3199247638241327,
          1.112879332773885,
          -0.6983477572766444,
          0.9909467462256175,
          -0.4702970722918106,
          0.3093044428150858,
          0.3442171189806224,
          0.40125331687981614,
          -0.9680466754947346,
          1.331024386460877,
          0.9700923553259135,
          0.14177352703313215,
          1.1490024377552774,
          -0.5259677383265647,
          -2.4786187225057223,
          2.075185652874105,
          -0.7934797710348597,
          -1.0812774636843718,
          1.33656414940059,
          1.167397360723972,
          0.922865585510867,
          0.07324989663541134,
          0.7157238614039628,
          -0.7484481402430851,
          0.48528402451312097,
          0.7511743146837414,
          0.4954149925198047,
          -1.11798381149081,
          0.29057128739668125,
          -1.3345464787750942,
          0.30198862771295165,
          0.707615903109009,
          1.6500185866666577,
          0.49276185597511885,
          -1.6571574050679154,
          -2.09094633959671,
          -0.3593627718648167,
          -1.6164724433213713,
          1.483388465917525,
          -0.25114671220587437,
          1.4662187742718724,
          -0.9062039290353936,
          -0.31360181319845404,
          0.9439194230341262,
          -0.12829533899369105,
          1.599093495914871,
          0.5583649783812819,
          -0.7561134141743251,
          -0.48882952610388714,
          -0.8669124668710848,
          -0.20869738384286052,
          -2.485808077029097,
          -1.0729464262607684,
          1.021856771895166,
          0.5857795865634028,
          0.8361142241220432,
          -1.048416757395772,
          -0.598914564611235,
          -1.1063945049183166,
          -0.9420740389395011,
          -1.5173258027035248,
          0.9807347509409816,
          1.5659650379880938,
          0.7249585649931194,
          -0.016215203047882022,
          -0.04401588783851069,
          2.0029297466320037,
          -1.2835695323754206,
          -0.9558328695916015
         ],
         "xaxis": "x10",
         "y": [
          1.1134386376161787,
          -2.455826285527071,
          -0.9694676341962923,
          0.7130937845990152,
          -0.4082405867670057,
          -0.07106854892748057,
          0.29139163128680484,
          2.018976050553426,
          -2.426317414108947,
          -0.004035309681510012,
          -0.5688147882523389,
          1.2629407017390235,
          -0.056305975400264864,
          0.36100143469611534,
          -0.6775203711829082,
          -1.1916617039595192,
          -0.972871563819841,
          -1.1112621243203964,
          1.7320034633454189,
          -0.8478154766785165,
          -0.45539581710595534,
          2.10346520629492,
          -0.13907150540989444,
          0.04861080087146654,
          -2.564263148769308,
          -0.866192598224841,
          0.4891568617785788,
          1.0873970476750394,
          -0.18403764028888853,
          -0.1308663906545661,
          -0.28722000428881633,
          0.19840445734468734,
          -1.3009449684348904,
          -1.020091829408598,
          0.7387474831633447,
          0.19530536968376824,
          0.305383648263475,
          0.5797230543066278,
          0.4132055339672769,
          1.453165943930631,
          0.6738678698851303,
          1.2226808787214014,
          0.6099679322239068,
          0.0740870912806088,
          -1.2268367132161608,
          -0.3765866256593109,
          -0.8586237274089062,
          -1.4745636001090636,
          0.004608913554882749,
          -1.5289911287850926,
          -0.0465266419574453,
          -1.1117787124739829,
          0.3223837211493439,
          -0.7552722366390408,
          0.8752514886480032,
          1.0317230314868404,
          0.34616375944781325,
          -0.6551546404379297,
          0.3748294539863184,
          0.26460756409907765,
          1.2753158942553013,
          1.429845155534673,
          0.9508787491396822,
          0.07766733197880335,
          0.8514355614528256,
          0.3643160536653477,
          0.026335475115136356,
          0.7572998652599572,
          0.654042593554938,
          -1.8635945931004145,
          -1.3509614906487808,
          -0.5557091199465339,
          -0.4837150069088515,
          0.149347522183448,
          0.521279863811876,
          -0.1194141399337346,
          -0.4696545362675223,
          1.2560400763884412,
          -2.1289711422547986,
          -0.160846246930171,
          0.4845535388818226,
          0.20138949066785197,
          -0.38384316975121735,
          -0.8512900037498121,
          -0.22834122092072281,
          1.1889175170227522,
          -1.463630068002194,
          -0.9212060946063361,
          -0.34852257416333243,
          0.3862885438150903,
          0.22601878054759733,
          -1.2581306385539595,
          -1.1047097199780325,
          0.4427412253540972,
          -0.7624479813161561,
          -1.2941034696647962,
          1.5529727634412616,
          -0.5691920578956647,
          -0.32897418925340655,
          -0.2583816056393063
         ],
         "yaxis": "y10"
        },
        {
         "histfunc": "count",
         "histnorm": "",
         "marker": {
          "color": "rgba(50, 171, 96, 1.0)",
          "line": {
           "color": "#4D5663",
           "width": 1.3
          }
         },
         "name": "C",
         "nbinsx": 10,
         "opacity": 0.8,
         "orientation": "v",
         "type": "histogram",
         "x": [
          1.1134386376161787,
          -2.455826285527071,
          -0.9694676341962923,
          0.7130937845990152,
          -0.4082405867670057,
          -0.07106854892748057,
          0.29139163128680484,
          2.018976050553426,
          -2.426317414108947,
          -0.004035309681510012,
          -0.5688147882523389,
          1.2629407017390235,
          -0.056305975400264864,
          0.36100143469611534,
          -0.6775203711829082,
          -1.1916617039595192,
          -0.972871563819841,
          -1.1112621243203964,
          1.7320034633454189,
          -0.8478154766785165,
          -0.45539581710595534,
          2.10346520629492,
          -0.13907150540989444,
          0.04861080087146654,
          -2.564263148769308,
          -0.866192598224841,
          0.4891568617785788,
          1.0873970476750394,
          -0.18403764028888853,
          -0.1308663906545661,
          -0.28722000428881633,
          0.19840445734468734,
          -1.3009449684348904,
          -1.020091829408598,
          0.7387474831633447,
          0.19530536968376824,
          0.305383648263475,
          0.5797230543066278,
          0.4132055339672769,
          1.453165943930631,
          0.6738678698851303,
          1.2226808787214014,
          0.6099679322239068,
          0.0740870912806088,
          -1.2268367132161608,
          -0.3765866256593109,
          -0.8586237274089062,
          -1.4745636001090636,
          0.004608913554882749,
          -1.5289911287850926,
          -0.0465266419574453,
          -1.1117787124739829,
          0.3223837211493439,
          -0.7552722366390408,
          0.8752514886480032,
          1.0317230314868404,
          0.34616375944781325,
          -0.6551546404379297,
          0.3748294539863184,
          0.26460756409907765,
          1.2753158942553013,
          1.429845155534673,
          0.9508787491396822,
          0.07766733197880335,
          0.8514355614528256,
          0.3643160536653477,
          0.026335475115136356,
          0.7572998652599572,
          0.654042593554938,
          -1.8635945931004145,
          -1.3509614906487808,
          -0.5557091199465339,
          -0.4837150069088515,
          0.149347522183448,
          0.521279863811876,
          -0.1194141399337346,
          -0.4696545362675223,
          1.2560400763884412,
          -2.1289711422547986,
          -0.160846246930171,
          0.4845535388818226,
          0.20138949066785197,
          -0.38384316975121735,
          -0.8512900037498121,
          -0.22834122092072281,
          1.1889175170227522,
          -1.463630068002194,
          -0.9212060946063361,
          -0.34852257416333243,
          0.3862885438150903,
          0.22601878054759733,
          -1.2581306385539595,
          -1.1047097199780325,
          0.4427412253540972,
          -0.7624479813161561,
          -1.2941034696647962,
          1.5529727634412616,
          -0.5691920578956647,
          -0.32897418925340655,
          -0.2583816056393063
         ],
         "xaxis": "x11",
         "yaxis": "y11"
        },
        {
         "line": {
          "color": "rgba(128, 128, 128, 1.0)",
          "dash": "solid",
          "shape": "linear",
          "width": 1.3
         },
         "marker": {
          "size": 2,
          "symbol": "circle"
         },
         "mode": "markers",
         "name": "C",
         "text": "",
         "type": "scatter",
         "x": [
          0.6285053069771211,
          -0.6422674141981904,
          0.0634065414695631,
          -0.201402449765595,
          -2.6474565882162757,
          0.6265434890066702,
          -1.9382483237147952,
          -0.32162316806583113,
          3.4624661592603942,
          1.3445984945414413,
          -0.17554664142011986,
          0.26262795117021503,
          2.0591321301455325,
          -0.4913943013347786,
          -1.139807932036039,
          -1.6958695678745266,
          -0.04000130876323166,
          1.0930715576453156,
          0.03805565004376671,
          2.3237405477198765,
          -1.099474750776804,
          0.3322415170042958,
          -0.6253652694816224,
          0.5643137167005545,
          -1.367285511433765,
          -0.8493451469168063,
          -1.7102637597838743,
          0.7122135177798964,
          -0.8348120685843194,
          -0.31127690877640213,
          0.27183877009540397,
          -0.9643422479683356,
          -1.191605116248042,
          -1.8149598907289821,
          -1.2031855070303434,
          -0.37111420727859884,
          -2.8305221116932366,
          0.7243165392074373,
          1.055587352116458,
          1.239324577800402,
          0.6573339689669813,
          0.09696536248035267,
          3.225530201379237,
          1.7735656183178174,
          0.25461358972815895,
          -1.0517399733379011,
          -0.3635969232943197,
          -1.2253357557287223,
          0.5923060728152107,
          -1.279752472638377,
          -0.6128659529842336,
          0.24504815354791581,
          0.7534178898831382,
          2.070512094883402,
          0.3940060871582593,
          1.4858158335189027,
          -0.8600609449415718,
          0.6213847128112033,
          0.5553075850486182,
          0.742383623660946,
          0.767215551936453,
          0.23817587790638547,
          -1.3012269615712475,
          1.08021842351989,
          0.9658551608356808,
          1.4230556281711535,
          0.3804284239839869,
          0.5712095351317064,
          0.6958612817349366,
          0.5641213581950402,
          -0.09067589440089023,
          0.644676122057003,
          -1.520122329434704,
          0.7402565312864682,
          1.548539687973651,
          -1.2885509385410618,
          -0.13845364979150812,
          0.8958051028459594,
          0.17563500440961954,
          -1.1332558956501393,
          0.6788627077454537,
          0.9880588825348897,
          0.6103628196031742,
          0.48507446741314536,
          0.41352006465908314,
          -0.21633682669954693,
          1.6616255124634403,
          0.23162794842808973,
          0.2931359941088242,
          -0.8097226200965799,
          0.7998522463526723,
          0.2863776827517364,
          -0.1499143781408709,
          1.1966437475941525,
          -0.46900231972356204,
          -1.2004271104989692,
          0.31394022384256876,
          -0.8525240262883761,
          1.2835914022049175,
          0.15110248242260002
         ],
         "xaxis": "x12",
         "y": [
          1.1134386376161787,
          -2.455826285527071,
          -0.9694676341962923,
          0.7130937845990152,
          -0.4082405867670057,
          -0.07106854892748057,
          0.29139163128680484,
          2.018976050553426,
          -2.426317414108947,
          -0.004035309681510012,
          -0.5688147882523389,
          1.2629407017390235,
          -0.056305975400264864,
          0.36100143469611534,
          -0.6775203711829082,
          -1.1916617039595192,
          -0.972871563819841,
          -1.1112621243203964,
          1.7320034633454189,
          -0.8478154766785165,
          -0.45539581710595534,
          2.10346520629492,
          -0.13907150540989444,
          0.04861080087146654,
          -2.564263148769308,
          -0.866192598224841,
          0.4891568617785788,
          1.0873970476750394,
          -0.18403764028888853,
          -0.1308663906545661,
          -0.28722000428881633,
          0.19840445734468734,
          -1.3009449684348904,
          -1.020091829408598,
          0.7387474831633447,
          0.19530536968376824,
          0.305383648263475,
          0.5797230543066278,
          0.4132055339672769,
          1.453165943930631,
          0.6738678698851303,
          1.2226808787214014,
          0.6099679322239068,
          0.0740870912806088,
          -1.2268367132161608,
          -0.3765866256593109,
          -0.8586237274089062,
          -1.4745636001090636,
          0.004608913554882749,
          -1.5289911287850926,
          -0.0465266419574453,
          -1.1117787124739829,
          0.3223837211493439,
          -0.7552722366390408,
          0.8752514886480032,
          1.0317230314868404,
          0.34616375944781325,
          -0.6551546404379297,
          0.3748294539863184,
          0.26460756409907765,
          1.2753158942553013,
          1.429845155534673,
          0.9508787491396822,
          0.07766733197880335,
          0.8514355614528256,
          0.3643160536653477,
          0.026335475115136356,
          0.7572998652599572,
          0.654042593554938,
          -1.8635945931004145,
          -1.3509614906487808,
          -0.5557091199465339,
          -0.4837150069088515,
          0.149347522183448,
          0.521279863811876,
          -0.1194141399337346,
          -0.4696545362675223,
          1.2560400763884412,
          -2.1289711422547986,
          -0.160846246930171,
          0.4845535388818226,
          0.20138949066785197,
          -0.38384316975121735,
          -0.8512900037498121,
          -0.22834122092072281,
          1.1889175170227522,
          -1.463630068002194,
          -0.9212060946063361,
          -0.34852257416333243,
          0.3862885438150903,
          0.22601878054759733,
          -1.2581306385539595,
          -1.1047097199780325,
          0.4427412253540972,
          -0.7624479813161561,
          -1.2941034696647962,
          1.5529727634412616,
          -0.5691920578956647,
          -0.32897418925340655,
          -0.2583816056393063
         ],
         "yaxis": "y12"
        },
        {
         "line": {
          "color": "rgba(128, 128, 128, 1.0)",
          "dash": "solid",
          "shape": "linear",
          "width": 1.3
         },
         "marker": {
          "size": 2,
          "symbol": "circle"
         },
         "mode": "markers",
         "name": "D",
         "text": "",
         "type": "scatter",
         "x": [
          0.007097092789972175,
          -0.2507980967337128,
          0.5756887159748832,
          1.008554175812353,
          -2.6283592090659873,
          1.6897482724042978,
          -0.8474374630661906,
          -0.885832540802959,
          0.4165769995034404,
          0.3252308691285932,
          0.15654813843776863,
          0.32000464521458294,
          0.22512579404893415,
          -0.9790000089937704,
          -0.3580302188491322,
          -0.7226009569936725,
          0.42102829268405206,
          0.2230306013098082,
          -0.4894846120344407,
          0.566997691727052,
          0.7607780966610685,
          0.23179719324520257,
          0.3740720066436934,
          -0.3268113355342848,
          -0.18724635850271712,
          -0.43897158097130873,
          0.3311812464599041,
          -1.7464259691116253,
          -0.7003744338871739,
          -1.1273844453143265,
          -1.4433016423607514,
          -1.9331587985472232,
          -0.4416755962896438,
          0.3540378946293956,
          -2.3205791602958827,
          -0.6145551930755045,
          -1.0991258362026313,
          0.945377164629423,
          0.7660013927940503,
          0.8096965391921613,
          -1.011703590573019,
          -0.41828365667679634,
          -1.4791244765991614,
          -0.5761080113817664,
          0.7449599286623099,
          0.42270136868761493,
          -0.40390348558849554,
          0.36669812346527975,
          0.7481364566653947,
          1.5353321018275836,
          -1.3371004213241013,
          -1.4942270443891712,
          0.0710723740451789,
          -0.0006575669951469768,
          -0.22534602111696125,
          -1.172041314702635,
          1.123901859153798,
          -0.2542859826880914,
          -0.11703759236657453,
          -0.8142079592044608,
          -1.0542576188191066,
          0.546313307317542,
          -0.8447663571066834,
          -1.1131193312433463,
          0.4587848706424149,
          2.6591625662829146,
          -0.015121925395850002,
          -0.09109764156500297,
          0.4526267555190351,
          -0.24918265339293869,
          0.2750713724462446,
          0.9645876496605769,
          0.6886893955579118,
          1.1337676914267782,
          -0.20303842320923898,
          -1.0816855549346296,
          -1.1082516347864104,
          -0.7242762213979465,
          -1.2179557113588813,
          -1.7245807252123906,
          2.1746231931296514,
          -0.31174746522478336,
          -0.3329591568687766,
          -0.499939085089008,
          0.36520642633824857,
          -1.0458452355028378,
          0.3306941382140081,
          1.2923882218609148,
          0.33893456539783484,
          0.9869969913865074,
          -0.6450150360855204,
          -0.02753327885205397,
          -1.3624539641043698,
          0.6002984616132592,
          -1.432946169513228,
          -0.5951750844353458,
          0.9740904886924309,
          -0.23690369561450986,
          1.2616316919343114,
          0.45897564550142733
         ],
         "xaxis": "x13",
         "y": [
          0.6285053069771211,
          -0.6422674141981904,
          0.0634065414695631,
          -0.201402449765595,
          -2.6474565882162757,
          0.6265434890066702,
          -1.9382483237147952,
          -0.32162316806583113,
          3.4624661592603942,
          1.3445984945414413,
          -0.17554664142011986,
          0.26262795117021503,
          2.0591321301455325,
          -0.4913943013347786,
          -1.139807932036039,
          -1.6958695678745266,
          -0.04000130876323166,
          1.0930715576453156,
          0.03805565004376671,
          2.3237405477198765,
          -1.099474750776804,
          0.3322415170042958,
          -0.6253652694816224,
          0.5643137167005545,
          -1.367285511433765,
          -0.8493451469168063,
          -1.7102637597838743,
          0.7122135177798964,
          -0.8348120685843194,
          -0.31127690877640213,
          0.27183877009540397,
          -0.9643422479683356,
          -1.191605116248042,
          -1.8149598907289821,
          -1.2031855070303434,
          -0.37111420727859884,
          -2.8305221116932366,
          0.7243165392074373,
          1.055587352116458,
          1.239324577800402,
          0.6573339689669813,
          0.09696536248035267,
          3.225530201379237,
          1.7735656183178174,
          0.25461358972815895,
          -1.0517399733379011,
          -0.3635969232943197,
          -1.2253357557287223,
          0.5923060728152107,
          -1.279752472638377,
          -0.6128659529842336,
          0.24504815354791581,
          0.7534178898831382,
          2.070512094883402,
          0.3940060871582593,
          1.4858158335189027,
          -0.8600609449415718,
          0.6213847128112033,
          0.5553075850486182,
          0.742383623660946,
          0.767215551936453,
          0.23817587790638547,
          -1.3012269615712475,
          1.08021842351989,
          0.9658551608356808,
          1.4230556281711535,
          0.3804284239839869,
          0.5712095351317064,
          0.6958612817349366,
          0.5641213581950402,
          -0.09067589440089023,
          0.644676122057003,
          -1.520122329434704,
          0.7402565312864682,
          1.548539687973651,
          -1.2885509385410618,
          -0.13845364979150812,
          0.8958051028459594,
          0.17563500440961954,
          -1.1332558956501393,
          0.6788627077454537,
          0.9880588825348897,
          0.6103628196031742,
          0.48507446741314536,
          0.41352006465908314,
          -0.21633682669954693,
          1.6616255124634403,
          0.23162794842808973,
          0.2931359941088242,
          -0.8097226200965799,
          0.7998522463526723,
          0.2863776827517364,
          -0.1499143781408709,
          1.1966437475941525,
          -0.46900231972356204,
          -1.2004271104989692,
          0.31394022384256876,
          -0.8525240262883761,
          1.2835914022049175,
          0.15110248242260002
         ],
         "yaxis": "y13"
        },
        {
         "line": {
          "color": "rgba(128, 128, 128, 1.0)",
          "dash": "solid",
          "shape": "linear",
          "width": 1.3
         },
         "marker": {
          "size": 2,
          "symbol": "circle"
         },
         "mode": "markers",
         "name": "D",
         "text": "",
         "type": "scatter",
         "x": [
          1.0015685518890944,
          -1.6664086034303247,
          -1.4778111106947436,
          -0.7751255716259327,
          -1.4389565480396826,
          -1.6482938194416763,
          -1.506955683250337,
          0.2645971502651818,
          1.3192834739719805,
          0.33003703872957946,
          -0.1361520326958087,
          -1.3261155345688718,
          -1.204549680637177,
          0.3850583175509835,
          -0.3716158383803578,
          -0.6195146999634619,
          -0.996136086782592,
          -0.8444102927779795,
          -0.19276359031819187,
          0.08705580927796512,
          -0.3386322034460392,
          -0.6574543866595249,
          0.9478662810005158,
          -0.687885352767681,
          0.6015622856400247,
          0.25560908288184436,
          1.4082884056443346,
          -1.6772205012167196,
          0.5931670213401689,
          -0.20747584976568403,
          -1.042688109102613,
          0.3199247638241327,
          1.112879332773885,
          -0.6983477572766444,
          0.9909467462256175,
          -0.4702970722918106,
          0.3093044428150858,
          0.3442171189806224,
          0.40125331687981614,
          -0.9680466754947346,
          1.331024386460877,
          0.9700923553259135,
          0.14177352703313215,
          1.1490024377552774,
          -0.5259677383265647,
          -2.4786187225057223,
          2.075185652874105,
          -0.7934797710348597,
          -1.0812774636843718,
          1.33656414940059,
          1.167397360723972,
          0.922865585510867,
          0.07324989663541134,
          0.7157238614039628,
          -0.7484481402430851,
          0.48528402451312097,
          0.7511743146837414,
          0.4954149925198047,
          -1.11798381149081,
          0.29057128739668125,
          -1.3345464787750942,
          0.30198862771295165,
          0.707615903109009,
          1.6500185866666577,
          0.49276185597511885,
          -1.6571574050679154,
          -2.09094633959671,
          -0.3593627718648167,
          -1.6164724433213713,
          1.483388465917525,
          -0.25114671220587437,
          1.4662187742718724,
          -0.9062039290353936,
          -0.31360181319845404,
          0.9439194230341262,
          -0.12829533899369105,
          1.599093495914871,
          0.5583649783812819,
          -0.7561134141743251,
          -0.48882952610388714,
          -0.8669124668710848,
          -0.20869738384286052,
          -2.485808077029097,
          -1.0729464262607684,
          1.021856771895166,
          0.5857795865634028,
          0.8361142241220432,
          -1.048416757395772,
          -0.598914564611235,
          -1.1063945049183166,
          -0.9420740389395011,
          -1.5173258027035248,
          0.9807347509409816,
          1.5659650379880938,
          0.7249585649931194,
          -0.016215203047882022,
          -0.04401588783851069,
          2.0029297466320037,
          -1.2835695323754206,
          -0.9558328695916015
         ],
         "xaxis": "x14",
         "y": [
          0.6285053069771211,
          -0.6422674141981904,
          0.0634065414695631,
          -0.201402449765595,
          -2.6474565882162757,
          0.6265434890066702,
          -1.9382483237147952,
          -0.32162316806583113,
          3.4624661592603942,
          1.3445984945414413,
          -0.17554664142011986,
          0.26262795117021503,
          2.0591321301455325,
          -0.4913943013347786,
          -1.139807932036039,
          -1.6958695678745266,
          -0.04000130876323166,
          1.0930715576453156,
          0.03805565004376671,
          2.3237405477198765,
          -1.099474750776804,
          0.3322415170042958,
          -0.6253652694816224,
          0.5643137167005545,
          -1.367285511433765,
          -0.8493451469168063,
          -1.7102637597838743,
          0.7122135177798964,
          -0.8348120685843194,
          -0.31127690877640213,
          0.27183877009540397,
          -0.9643422479683356,
          -1.191605116248042,
          -1.8149598907289821,
          -1.2031855070303434,
          -0.37111420727859884,
          -2.8305221116932366,
          0.7243165392074373,
          1.055587352116458,
          1.239324577800402,
          0.6573339689669813,
          0.09696536248035267,
          3.225530201379237,
          1.7735656183178174,
          0.25461358972815895,
          -1.0517399733379011,
          -0.3635969232943197,
          -1.2253357557287223,
          0.5923060728152107,
          -1.279752472638377,
          -0.6128659529842336,
          0.24504815354791581,
          0.7534178898831382,
          2.070512094883402,
          0.3940060871582593,
          1.4858158335189027,
          -0.8600609449415718,
          0.6213847128112033,
          0.5553075850486182,
          0.742383623660946,
          0.767215551936453,
          0.23817587790638547,
          -1.3012269615712475,
          1.08021842351989,
          0.9658551608356808,
          1.4230556281711535,
          0.3804284239839869,
          0.5712095351317064,
          0.6958612817349366,
          0.5641213581950402,
          -0.09067589440089023,
          0.644676122057003,
          -1.520122329434704,
          0.7402565312864682,
          1.548539687973651,
          -1.2885509385410618,
          -0.13845364979150812,
          0.8958051028459594,
          0.17563500440961954,
          -1.1332558956501393,
          0.6788627077454537,
          0.9880588825348897,
          0.6103628196031742,
          0.48507446741314536,
          0.41352006465908314,
          -0.21633682669954693,
          1.6616255124634403,
          0.23162794842808973,
          0.2931359941088242,
          -0.8097226200965799,
          0.7998522463526723,
          0.2863776827517364,
          -0.1499143781408709,
          1.1966437475941525,
          -0.46900231972356204,
          -1.2004271104989692,
          0.31394022384256876,
          -0.8525240262883761,
          1.2835914022049175,
          0.15110248242260002
         ],
         "yaxis": "y14"
        },
        {
         "line": {
          "color": "rgba(128, 128, 128, 1.0)",
          "dash": "solid",
          "shape": "linear",
          "width": 1.3
         },
         "marker": {
          "size": 2,
          "symbol": "circle"
         },
         "mode": "markers",
         "name": "D",
         "text": "",
         "type": "scatter",
         "x": [
          1.1134386376161787,
          -2.455826285527071,
          -0.9694676341962923,
          0.7130937845990152,
          -0.4082405867670057,
          -0.07106854892748057,
          0.29139163128680484,
          2.018976050553426,
          -2.426317414108947,
          -0.004035309681510012,
          -0.5688147882523389,
          1.2629407017390235,
          -0.056305975400264864,
          0.36100143469611534,
          -0.6775203711829082,
          -1.1916617039595192,
          -0.972871563819841,
          -1.1112621243203964,
          1.7320034633454189,
          -0.8478154766785165,
          -0.45539581710595534,
          2.10346520629492,
          -0.13907150540989444,
          0.04861080087146654,
          -2.564263148769308,
          -0.866192598224841,
          0.4891568617785788,
          1.0873970476750394,
          -0.18403764028888853,
          -0.1308663906545661,
          -0.28722000428881633,
          0.19840445734468734,
          -1.3009449684348904,
          -1.020091829408598,
          0.7387474831633447,
          0.19530536968376824,
          0.305383648263475,
          0.5797230543066278,
          0.4132055339672769,
          1.453165943930631,
          0.6738678698851303,
          1.2226808787214014,
          0.6099679322239068,
          0.0740870912806088,
          -1.2268367132161608,
          -0.3765866256593109,
          -0.8586237274089062,
          -1.4745636001090636,
          0.004608913554882749,
          -1.5289911287850926,
          -0.0465266419574453,
          -1.1117787124739829,
          0.3223837211493439,
          -0.7552722366390408,
          0.8752514886480032,
          1.0317230314868404,
          0.34616375944781325,
          -0.6551546404379297,
          0.3748294539863184,
          0.26460756409907765,
          1.2753158942553013,
          1.429845155534673,
          0.9508787491396822,
          0.07766733197880335,
          0.8514355614528256,
          0.3643160536653477,
          0.026335475115136356,
          0.7572998652599572,
          0.654042593554938,
          -1.8635945931004145,
          -1.3509614906487808,
          -0.5557091199465339,
          -0.4837150069088515,
          0.149347522183448,
          0.521279863811876,
          -0.1194141399337346,
          -0.4696545362675223,
          1.2560400763884412,
          -2.1289711422547986,
          -0.160846246930171,
          0.4845535388818226,
          0.20138949066785197,
          -0.38384316975121735,
          -0.8512900037498121,
          -0.22834122092072281,
          1.1889175170227522,
          -1.463630068002194,
          -0.9212060946063361,
          -0.34852257416333243,
          0.3862885438150903,
          0.22601878054759733,
          -1.2581306385539595,
          -1.1047097199780325,
          0.4427412253540972,
          -0.7624479813161561,
          -1.2941034696647962,
          1.5529727634412616,
          -0.5691920578956647,
          -0.32897418925340655,
          -0.2583816056393063
         ],
         "xaxis": "x15",
         "y": [
          0.6285053069771211,
          -0.6422674141981904,
          0.0634065414695631,
          -0.201402449765595,
          -2.6474565882162757,
          0.6265434890066702,
          -1.9382483237147952,
          -0.32162316806583113,
          3.4624661592603942,
          1.3445984945414413,
          -0.17554664142011986,
          0.26262795117021503,
          2.0591321301455325,
          -0.4913943013347786,
          -1.139807932036039,
          -1.6958695678745266,
          -0.04000130876323166,
          1.0930715576453156,
          0.03805565004376671,
          2.3237405477198765,
          -1.099474750776804,
          0.3322415170042958,
          -0.6253652694816224,
          0.5643137167005545,
          -1.367285511433765,
          -0.8493451469168063,
          -1.7102637597838743,
          0.7122135177798964,
          -0.8348120685843194,
          -0.31127690877640213,
          0.27183877009540397,
          -0.9643422479683356,
          -1.191605116248042,
          -1.8149598907289821,
          -1.2031855070303434,
          -0.37111420727859884,
          -2.8305221116932366,
          0.7243165392074373,
          1.055587352116458,
          1.239324577800402,
          0.6573339689669813,
          0.09696536248035267,
          3.225530201379237,
          1.7735656183178174,
          0.25461358972815895,
          -1.0517399733379011,
          -0.3635969232943197,
          -1.2253357557287223,
          0.5923060728152107,
          -1.279752472638377,
          -0.6128659529842336,
          0.24504815354791581,
          0.7534178898831382,
          2.070512094883402,
          0.3940060871582593,
          1.4858158335189027,
          -0.8600609449415718,
          0.6213847128112033,
          0.5553075850486182,
          0.742383623660946,
          0.767215551936453,
          0.23817587790638547,
          -1.3012269615712475,
          1.08021842351989,
          0.9658551608356808,
          1.4230556281711535,
          0.3804284239839869,
          0.5712095351317064,
          0.6958612817349366,
          0.5641213581950402,
          -0.09067589440089023,
          0.644676122057003,
          -1.520122329434704,
          0.7402565312864682,
          1.548539687973651,
          -1.2885509385410618,
          -0.13845364979150812,
          0.8958051028459594,
          0.17563500440961954,
          -1.1332558956501393,
          0.6788627077454537,
          0.9880588825348897,
          0.6103628196031742,
          0.48507446741314536,
          0.41352006465908314,
          -0.21633682669954693,
          1.6616255124634403,
          0.23162794842808973,
          0.2931359941088242,
          -0.8097226200965799,
          0.7998522463526723,
          0.2863776827517364,
          -0.1499143781408709,
          1.1966437475941525,
          -0.46900231972356204,
          -1.2004271104989692,
          0.31394022384256876,
          -0.8525240262883761,
          1.2835914022049175,
          0.15110248242260002
         ],
         "yaxis": "y15"
        },
        {
         "histfunc": "count",
         "histnorm": "",
         "marker": {
          "color": "rgba(128, 0, 128, 1.0)",
          "line": {
           "color": "#4D5663",
           "width": 1.3
          }
         },
         "name": "D",
         "nbinsx": 10,
         "opacity": 0.8,
         "orientation": "v",
         "type": "histogram",
         "x": [
          0.6285053069771211,
          -0.6422674141981904,
          0.0634065414695631,
          -0.201402449765595,
          -2.6474565882162757,
          0.6265434890066702,
          -1.9382483237147952,
          -0.32162316806583113,
          3.4624661592603942,
          1.3445984945414413,
          -0.17554664142011986,
          0.26262795117021503,
          2.0591321301455325,
          -0.4913943013347786,
          -1.139807932036039,
          -1.6958695678745266,
          -0.04000130876323166,
          1.0930715576453156,
          0.03805565004376671,
          2.3237405477198765,
          -1.099474750776804,
          0.3322415170042958,
          -0.6253652694816224,
          0.5643137167005545,
          -1.367285511433765,
          -0.8493451469168063,
          -1.7102637597838743,
          0.7122135177798964,
          -0.8348120685843194,
          -0.31127690877640213,
          0.27183877009540397,
          -0.9643422479683356,
          -1.191605116248042,
          -1.8149598907289821,
          -1.2031855070303434,
          -0.37111420727859884,
          -2.8305221116932366,
          0.7243165392074373,
          1.055587352116458,
          1.239324577800402,
          0.6573339689669813,
          0.09696536248035267,
          3.225530201379237,
          1.7735656183178174,
          0.25461358972815895,
          -1.0517399733379011,
          -0.3635969232943197,
          -1.2253357557287223,
          0.5923060728152107,
          -1.279752472638377,
          -0.6128659529842336,
          0.24504815354791581,
          0.7534178898831382,
          2.070512094883402,
          0.3940060871582593,
          1.4858158335189027,
          -0.8600609449415718,
          0.6213847128112033,
          0.5553075850486182,
          0.742383623660946,
          0.767215551936453,
          0.23817587790638547,
          -1.3012269615712475,
          1.08021842351989,
          0.9658551608356808,
          1.4230556281711535,
          0.3804284239839869,
          0.5712095351317064,
          0.6958612817349366,
          0.5641213581950402,
          -0.09067589440089023,
          0.644676122057003,
          -1.520122329434704,
          0.7402565312864682,
          1.548539687973651,
          -1.2885509385410618,
          -0.13845364979150812,
          0.8958051028459594,
          0.17563500440961954,
          -1.1332558956501393,
          0.6788627077454537,
          0.9880588825348897,
          0.6103628196031742,
          0.48507446741314536,
          0.41352006465908314,
          -0.21633682669954693,
          1.6616255124634403,
          0.23162794842808973,
          0.2931359941088242,
          -0.8097226200965799,
          0.7998522463526723,
          0.2863776827517364,
          -0.1499143781408709,
          1.1966437475941525,
          -0.46900231972356204,
          -1.2004271104989692,
          0.31394022384256876,
          -0.8525240262883761,
          1.2835914022049175,
          0.15110248242260002
         ],
         "xaxis": "x16",
         "yaxis": "y16"
        }
       ],
       "layout": {
        "bargap": 0.02,
        "legend": {
         "bgcolor": "#F5F6F9",
         "font": {
          "color": "#4D5663"
         }
        },
        "paper_bgcolor": "#F5F6F9",
        "plot_bgcolor": "#F5F6F9",
        "showlegend": false,
        "template": {
         "data": {
          "bar": [
           {
            "error_x": {
             "color": "#2a3f5f"
            },
            "error_y": {
             "color": "#2a3f5f"
            },
            "marker": {
             "line": {
              "color": "#E5ECF6",
              "width": 0.5
             },
             "pattern": {
              "fillmode": "overlay",
              "size": 10,
              "solidity": 0.2
             }
            },
            "type": "bar"
           }
          ],
          "barpolar": [
           {
            "marker": {
             "line": {
              "color": "#E5ECF6",
              "width": 0.5
             },
             "pattern": {
              "fillmode": "overlay",
              "size": 10,
              "solidity": 0.2
             }
            },
            "type": "barpolar"
           }
          ],
          "carpet": [
           {
            "aaxis": {
             "endlinecolor": "#2a3f5f",
             "gridcolor": "white",
             "linecolor": "white",
             "minorgridcolor": "white",
             "startlinecolor": "#2a3f5f"
            },
            "baxis": {
             "endlinecolor": "#2a3f5f",
             "gridcolor": "white",
             "linecolor": "white",
             "minorgridcolor": "white",
             "startlinecolor": "#2a3f5f"
            },
            "type": "carpet"
           }
          ],
          "choropleth": [
           {
            "colorbar": {
             "outlinewidth": 0,
             "ticks": ""
            },
            "type": "choropleth"
           }
          ],
          "contour": [
           {
            "colorbar": {
             "outlinewidth": 0,
             "ticks": ""
            },
            "colorscale": [
             [
              0,
              "#0d0887"
             ],
             [
              0.1111111111111111,
              "#46039f"
             ],
             [
              0.2222222222222222,
              "#7201a8"
             ],
             [
              0.3333333333333333,
              "#9c179e"
             ],
             [
              0.4444444444444444,
              "#bd3786"
             ],
             [
              0.5555555555555556,
              "#d8576b"
             ],
             [
              0.6666666666666666,
              "#ed7953"
             ],
             [
              0.7777777777777778,
              "#fb9f3a"
             ],
             [
              0.8888888888888888,
              "#fdca26"
             ],
             [
              1,
              "#f0f921"
             ]
            ],
            "type": "contour"
           }
          ],
          "contourcarpet": [
           {
            "colorbar": {
             "outlinewidth": 0,
             "ticks": ""
            },
            "type": "contourcarpet"
           }
          ],
          "heatmap": [
           {
            "colorbar": {
             "outlinewidth": 0,
             "ticks": ""
            },
            "colorscale": [
             [
              0,
              "#0d0887"
             ],
             [
              0.1111111111111111,
              "#46039f"
             ],
             [
              0.2222222222222222,
              "#7201a8"
             ],
             [
              0.3333333333333333,
              "#9c179e"
             ],
             [
              0.4444444444444444,
              "#bd3786"
             ],
             [
              0.5555555555555556,
              "#d8576b"
             ],
             [
              0.6666666666666666,
              "#ed7953"
             ],
             [
              0.7777777777777778,
              "#fb9f3a"
             ],
             [
              0.8888888888888888,
              "#fdca26"
             ],
             [
              1,
              "#f0f921"
             ]
            ],
            "type": "heatmap"
           }
          ],
          "heatmapgl": [
           {
            "colorbar": {
             "outlinewidth": 0,
             "ticks": ""
            },
            "colorscale": [
             [
              0,
              "#0d0887"
             ],
             [
              0.1111111111111111,
              "#46039f"
             ],
             [
              0.2222222222222222,
              "#7201a8"
             ],
             [
              0.3333333333333333,
              "#9c179e"
             ],
             [
              0.4444444444444444,
              "#bd3786"
             ],
             [
              0.5555555555555556,
              "#d8576b"
             ],
             [
              0.6666666666666666,
              "#ed7953"
             ],
             [
              0.7777777777777778,
              "#fb9f3a"
             ],
             [
              0.8888888888888888,
              "#fdca26"
             ],
             [
              1,
              "#f0f921"
             ]
            ],
            "type": "heatmapgl"
           }
          ],
          "histogram": [
           {
            "marker": {
             "pattern": {
              "fillmode": "overlay",
              "size": 10,
              "solidity": 0.2
             }
            },
            "type": "histogram"
           }
          ],
          "histogram2d": [
           {
            "colorbar": {
             "outlinewidth": 0,
             "ticks": ""
            },
            "colorscale": [
             [
              0,
              "#0d0887"
             ],
             [
              0.1111111111111111,
              "#46039f"
             ],
             [
              0.2222222222222222,
              "#7201a8"
             ],
             [
              0.3333333333333333,
              "#9c179e"
             ],
             [
              0.4444444444444444,
              "#bd3786"
             ],
             [
              0.5555555555555556,
              "#d8576b"
             ],
             [
              0.6666666666666666,
              "#ed7953"
             ],
             [
              0.7777777777777778,
              "#fb9f3a"
             ],
             [
              0.8888888888888888,
              "#fdca26"
             ],
             [
              1,
              "#f0f921"
             ]
            ],
            "type": "histogram2d"
           }
          ],
          "histogram2dcontour": [
           {
            "colorbar": {
             "outlinewidth": 0,
             "ticks": ""
            },
            "colorscale": [
             [
              0,
              "#0d0887"
             ],
             [
              0.1111111111111111,
              "#46039f"
             ],
             [
              0.2222222222222222,
              "#7201a8"
             ],
             [
              0.3333333333333333,
              "#9c179e"
             ],
             [
              0.4444444444444444,
              "#bd3786"
             ],
             [
              0.5555555555555556,
              "#d8576b"
             ],
             [
              0.6666666666666666,
              "#ed7953"
             ],
             [
              0.7777777777777778,
              "#fb9f3a"
             ],
             [
              0.8888888888888888,
              "#fdca26"
             ],
             [
              1,
              "#f0f921"
             ]
            ],
            "type": "histogram2dcontour"
           }
          ],
          "mesh3d": [
           {
            "colorbar": {
             "outlinewidth": 0,
             "ticks": ""
            },
            "type": "mesh3d"
           }
          ],
          "parcoords": [
           {
            "line": {
             "colorbar": {
              "outlinewidth": 0,
              "ticks": ""
             }
            },
            "type": "parcoords"
           }
          ],
          "pie": [
           {
            "automargin": true,
            "type": "pie"
           }
          ],
          "scatter": [
           {
            "fillpattern": {
             "fillmode": "overlay",
             "size": 10,
             "solidity": 0.2
            },
            "type": "scatter"
           }
          ],
          "scatter3d": [
           {
            "line": {
             "colorbar": {
              "outlinewidth": 0,
              "ticks": ""
             }
            },
            "marker": {
             "colorbar": {
              "outlinewidth": 0,
              "ticks": ""
             }
            },
            "type": "scatter3d"
           }
          ],
          "scattercarpet": [
           {
            "marker": {
             "colorbar": {
              "outlinewidth": 0,
              "ticks": ""
             }
            },
            "type": "scattercarpet"
           }
          ],
          "scattergeo": [
           {
            "marker": {
             "colorbar": {
              "outlinewidth": 0,
              "ticks": ""
             }
            },
            "type": "scattergeo"
           }
          ],
          "scattergl": [
           {
            "marker": {
             "colorbar": {
              "outlinewidth": 0,
              "ticks": ""
             }
            },
            "type": "scattergl"
           }
          ],
          "scattermapbox": [
           {
            "marker": {
             "colorbar": {
              "outlinewidth": 0,
              "ticks": ""
             }
            },
            "type": "scattermapbox"
           }
          ],
          "scatterpolar": [
           {
            "marker": {
             "colorbar": {
              "outlinewidth": 0,
              "ticks": ""
             }
            },
            "type": "scatterpolar"
           }
          ],
          "scatterpolargl": [
           {
            "marker": {
             "colorbar": {
              "outlinewidth": 0,
              "ticks": ""
             }
            },
            "type": "scatterpolargl"
           }
          ],
          "scatterternary": [
           {
            "marker": {
             "colorbar": {
              "outlinewidth": 0,
              "ticks": ""
             }
            },
            "type": "scatterternary"
           }
          ],
          "surface": [
           {
            "colorbar": {
             "outlinewidth": 0,
             "ticks": ""
            },
            "colorscale": [
             [
              0,
              "#0d0887"
             ],
             [
              0.1111111111111111,
              "#46039f"
             ],
             [
              0.2222222222222222,
              "#7201a8"
             ],
             [
              0.3333333333333333,
              "#9c179e"
             ],
             [
              0.4444444444444444,
              "#bd3786"
             ],
             [
              0.5555555555555556,
              "#d8576b"
             ],
             [
              0.6666666666666666,
              "#ed7953"
             ],
             [
              0.7777777777777778,
              "#fb9f3a"
             ],
             [
              0.8888888888888888,
              "#fdca26"
             ],
             [
              1,
              "#f0f921"
             ]
            ],
            "type": "surface"
           }
          ],
          "table": [
           {
            "cells": {
             "fill": {
              "color": "#EBF0F8"
             },
             "line": {
              "color": "white"
             }
            },
            "header": {
             "fill": {
              "color": "#C8D4E3"
             },
             "line": {
              "color": "white"
             }
            },
            "type": "table"
           }
          ]
         },
         "layout": {
          "annotationdefaults": {
           "arrowcolor": "#2a3f5f",
           "arrowhead": 0,
           "arrowwidth": 1
          },
          "autotypenumbers": "strict",
          "coloraxis": {
           "colorbar": {
            "outlinewidth": 0,
            "ticks": ""
           }
          },
          "colorscale": {
           "diverging": [
            [
             0,
             "#8e0152"
            ],
            [
             0.1,
             "#c51b7d"
            ],
            [
             0.2,
             "#de77ae"
            ],
            [
             0.3,
             "#f1b6da"
            ],
            [
             0.4,
             "#fde0ef"
            ],
            [
             0.5,
             "#f7f7f7"
            ],
            [
             0.6,
             "#e6f5d0"
            ],
            [
             0.7,
             "#b8e186"
            ],
            [
             0.8,
             "#7fbc41"
            ],
            [
             0.9,
             "#4d9221"
            ],
            [
             1,
             "#276419"
            ]
           ],
           "sequential": [
            [
             0,
             "#0d0887"
            ],
            [
             0.1111111111111111,
             "#46039f"
            ],
            [
             0.2222222222222222,
             "#7201a8"
            ],
            [
             0.3333333333333333,
             "#9c179e"
            ],
            [
             0.4444444444444444,
             "#bd3786"
            ],
            [
             0.5555555555555556,
             "#d8576b"
            ],
            [
             0.6666666666666666,
             "#ed7953"
            ],
            [
             0.7777777777777778,
             "#fb9f3a"
            ],
            [
             0.8888888888888888,
             "#fdca26"
            ],
            [
             1,
             "#f0f921"
            ]
           ],
           "sequentialminus": [
            [
             0,
             "#0d0887"
            ],
            [
             0.1111111111111111,
             "#46039f"
            ],
            [
             0.2222222222222222,
             "#7201a8"
            ],
            [
             0.3333333333333333,
             "#9c179e"
            ],
            [
             0.4444444444444444,
             "#bd3786"
            ],
            [
             0.5555555555555556,
             "#d8576b"
            ],
            [
             0.6666666666666666,
             "#ed7953"
            ],
            [
             0.7777777777777778,
             "#fb9f3a"
            ],
            [
             0.8888888888888888,
             "#fdca26"
            ],
            [
             1,
             "#f0f921"
            ]
           ]
          },
          "colorway": [
           "#636efa",
           "#EF553B",
           "#00cc96",
           "#ab63fa",
           "#FFA15A",
           "#19d3f3",
           "#FF6692",
           "#B6E880",
           "#FF97FF",
           "#FECB52"
          ],
          "font": {
           "color": "#2a3f5f"
          },
          "geo": {
           "bgcolor": "white",
           "lakecolor": "white",
           "landcolor": "#E5ECF6",
           "showlakes": true,
           "showland": true,
           "subunitcolor": "white"
          },
          "hoverlabel": {
           "align": "left"
          },
          "hovermode": "closest",
          "mapbox": {
           "style": "light"
          },
          "paper_bgcolor": "white",
          "plot_bgcolor": "#E5ECF6",
          "polar": {
           "angularaxis": {
            "gridcolor": "white",
            "linecolor": "white",
            "ticks": ""
           },
           "bgcolor": "#E5ECF6",
           "radialaxis": {
            "gridcolor": "white",
            "linecolor": "white",
            "ticks": ""
           }
          },
          "scene": {
           "xaxis": {
            "backgroundcolor": "#E5ECF6",
            "gridcolor": "white",
            "gridwidth": 2,
            "linecolor": "white",
            "showbackground": true,
            "ticks": "",
            "zerolinecolor": "white"
           },
           "yaxis": {
            "backgroundcolor": "#E5ECF6",
            "gridcolor": "white",
            "gridwidth": 2,
            "linecolor": "white",
            "showbackground": true,
            "ticks": "",
            "zerolinecolor": "white"
           },
           "zaxis": {
            "backgroundcolor": "#E5ECF6",
            "gridcolor": "white",
            "gridwidth": 2,
            "linecolor": "white",
            "showbackground": true,
            "ticks": "",
            "zerolinecolor": "white"
           }
          },
          "shapedefaults": {
           "line": {
            "color": "#2a3f5f"
           }
          },
          "ternary": {
           "aaxis": {
            "gridcolor": "white",
            "linecolor": "white",
            "ticks": ""
           },
           "baxis": {
            "gridcolor": "white",
            "linecolor": "white",
            "ticks": ""
           },
           "bgcolor": "#E5ECF6",
           "caxis": {
            "gridcolor": "white",
            "linecolor": "white",
            "ticks": ""
           }
          },
          "title": {
           "x": 0.05
          },
          "xaxis": {
           "automargin": true,
           "gridcolor": "white",
           "linecolor": "white",
           "ticks": "",
           "title": {
            "standoff": 15
           },
           "zerolinecolor": "white",
           "zerolinewidth": 2
          },
          "yaxis": {
           "automargin": true,
           "gridcolor": "white",
           "linecolor": "white",
           "ticks": "",
           "title": {
            "standoff": 15
           },
           "zerolinecolor": "white",
           "zerolinewidth": 2
          }
         }
        },
        "title": {
         "font": {
          "color": "#4D5663"
         }
        },
        "xaxis": {
         "anchor": "y",
         "domain": [
          0,
          0.2125
         ],
         "gridcolor": "#E1E5ED",
         "showgrid": false,
         "tickfont": {
          "color": "#4D5663"
         },
         "title": {
          "font": {
           "color": "#4D5663"
          },
          "text": ""
         },
         "zerolinecolor": "#E1E5ED"
        },
        "xaxis10": {
         "anchor": "y10",
         "domain": [
          0.2625,
          0.475
         ],
         "gridcolor": "#E1E5ED",
         "showgrid": false,
         "tickfont": {
          "color": "#4D5663"
         },
         "title": {
          "font": {
           "color": "#4D5663"
          },
          "text": ""
         },
         "zerolinecolor": "#E1E5ED"
        },
        "xaxis11": {
         "anchor": "y11",
         "domain": [
          0.525,
          0.7375
         ],
         "gridcolor": "#E1E5ED",
         "showgrid": false,
         "tickfont": {
          "color": "#4D5663"
         },
         "title": {
          "font": {
           "color": "#4D5663"
          },
          "text": ""
         },
         "zerolinecolor": "#E1E5ED"
        },
        "xaxis12": {
         "anchor": "y12",
         "domain": [
          0.7875,
          1
         ],
         "gridcolor": "#E1E5ED",
         "showgrid": false,
         "tickfont": {
          "color": "#4D5663"
         },
         "title": {
          "font": {
           "color": "#4D5663"
          },
          "text": ""
         },
         "zerolinecolor": "#E1E5ED"
        },
        "xaxis13": {
         "anchor": "y13",
         "domain": [
          0,
          0.2125
         ],
         "gridcolor": "#E1E5ED",
         "showgrid": false,
         "tickfont": {
          "color": "#4D5663"
         },
         "title": {
          "font": {
           "color": "#4D5663"
          },
          "text": ""
         },
         "zerolinecolor": "#E1E5ED"
        },
        "xaxis14": {
         "anchor": "y14",
         "domain": [
          0.2625,
          0.475
         ],
         "gridcolor": "#E1E5ED",
         "showgrid": false,
         "tickfont": {
          "color": "#4D5663"
         },
         "title": {
          "font": {
           "color": "#4D5663"
          },
          "text": ""
         },
         "zerolinecolor": "#E1E5ED"
        },
        "xaxis15": {
         "anchor": "y15",
         "domain": [
          0.525,
          0.7375
         ],
         "gridcolor": "#E1E5ED",
         "showgrid": false,
         "tickfont": {
          "color": "#4D5663"
         },
         "title": {
          "font": {
           "color": "#4D5663"
          },
          "text": ""
         },
         "zerolinecolor": "#E1E5ED"
        },
        "xaxis16": {
         "anchor": "y16",
         "domain": [
          0.7875,
          1
         ],
         "gridcolor": "#E1E5ED",
         "showgrid": false,
         "tickfont": {
          "color": "#4D5663"
         },
         "title": {
          "font": {
           "color": "#4D5663"
          },
          "text": ""
         },
         "zerolinecolor": "#E1E5ED"
        },
        "xaxis2": {
         "anchor": "y2",
         "domain": [
          0.2625,
          0.475
         ],
         "gridcolor": "#E1E5ED",
         "showgrid": false,
         "tickfont": {
          "color": "#4D5663"
         },
         "title": {
          "font": {
           "color": "#4D5663"
          },
          "text": ""
         },
         "zerolinecolor": "#E1E5ED"
        },
        "xaxis3": {
         "anchor": "y3",
         "domain": [
          0.525,
          0.7375
         ],
         "gridcolor": "#E1E5ED",
         "showgrid": false,
         "tickfont": {
          "color": "#4D5663"
         },
         "title": {
          "font": {
           "color": "#4D5663"
          },
          "text": ""
         },
         "zerolinecolor": "#E1E5ED"
        },
        "xaxis4": {
         "anchor": "y4",
         "domain": [
          0.7875,
          1
         ],
         "gridcolor": "#E1E5ED",
         "showgrid": false,
         "tickfont": {
          "color": "#4D5663"
         },
         "title": {
          "font": {
           "color": "#4D5663"
          },
          "text": ""
         },
         "zerolinecolor": "#E1E5ED"
        },
        "xaxis5": {
         "anchor": "y5",
         "domain": [
          0,
          0.2125
         ],
         "gridcolor": "#E1E5ED",
         "showgrid": false,
         "tickfont": {
          "color": "#4D5663"
         },
         "title": {
          "font": {
           "color": "#4D5663"
          },
          "text": ""
         },
         "zerolinecolor": "#E1E5ED"
        },
        "xaxis6": {
         "anchor": "y6",
         "domain": [
          0.2625,
          0.475
         ],
         "gridcolor": "#E1E5ED",
         "showgrid": false,
         "tickfont": {
          "color": "#4D5663"
         },
         "title": {
          "font": {
           "color": "#4D5663"
          },
          "text": ""
         },
         "zerolinecolor": "#E1E5ED"
        },
        "xaxis7": {
         "anchor": "y7",
         "domain": [
          0.525,
          0.7375
         ],
         "gridcolor": "#E1E5ED",
         "showgrid": false,
         "tickfont": {
          "color": "#4D5663"
         },
         "title": {
          "font": {
           "color": "#4D5663"
          },
          "text": ""
         },
         "zerolinecolor": "#E1E5ED"
        },
        "xaxis8": {
         "anchor": "y8",
         "domain": [
          0.7875,
          1
         ],
         "gridcolor": "#E1E5ED",
         "showgrid": false,
         "tickfont": {
          "color": "#4D5663"
         },
         "title": {
          "font": {
           "color": "#4D5663"
          },
          "text": ""
         },
         "zerolinecolor": "#E1E5ED"
        },
        "xaxis9": {
         "anchor": "y9",
         "domain": [
          0,
          0.2125
         ],
         "gridcolor": "#E1E5ED",
         "showgrid": false,
         "tickfont": {
          "color": "#4D5663"
         },
         "title": {
          "font": {
           "color": "#4D5663"
          },
          "text": ""
         },
         "zerolinecolor": "#E1E5ED"
        },
        "yaxis": {
         "anchor": "x",
         "domain": [
          0.8025,
          1
         ],
         "gridcolor": "#E1E5ED",
         "showgrid": false,
         "tickfont": {
          "color": "#4D5663"
         },
         "title": {
          "font": {
           "color": "#4D5663"
          },
          "text": ""
         },
         "zerolinecolor": "#E1E5ED"
        },
        "yaxis10": {
         "anchor": "x10",
         "domain": [
          0.2675,
          0.465
         ],
         "gridcolor": "#E1E5ED",
         "showgrid": false,
         "tickfont": {
          "color": "#4D5663"
         },
         "title": {
          "font": {
           "color": "#4D5663"
          },
          "text": ""
         },
         "zerolinecolor": "#E1E5ED"
        },
        "yaxis11": {
         "anchor": "x11",
         "domain": [
          0.2675,
          0.465
         ],
         "gridcolor": "#E1E5ED",
         "showgrid": false,
         "tickfont": {
          "color": "#4D5663"
         },
         "title": {
          "font": {
           "color": "#4D5663"
          },
          "text": ""
         },
         "zerolinecolor": "#E1E5ED"
        },
        "yaxis12": {
         "anchor": "x12",
         "domain": [
          0.2675,
          0.465
         ],
         "gridcolor": "#E1E5ED",
         "showgrid": false,
         "tickfont": {
          "color": "#4D5663"
         },
         "title": {
          "font": {
           "color": "#4D5663"
          },
          "text": ""
         },
         "zerolinecolor": "#E1E5ED"
        },
        "yaxis13": {
         "anchor": "x13",
         "domain": [
          0,
          0.1975
         ],
         "gridcolor": "#E1E5ED",
         "showgrid": false,
         "tickfont": {
          "color": "#4D5663"
         },
         "title": {
          "font": {
           "color": "#4D5663"
          },
          "text": ""
         },
         "zerolinecolor": "#E1E5ED"
        },
        "yaxis14": {
         "anchor": "x14",
         "domain": [
          0,
          0.1975
         ],
         "gridcolor": "#E1E5ED",
         "showgrid": false,
         "tickfont": {
          "color": "#4D5663"
         },
         "title": {
          "font": {
           "color": "#4D5663"
          },
          "text": ""
         },
         "zerolinecolor": "#E1E5ED"
        },
        "yaxis15": {
         "anchor": "x15",
         "domain": [
          0,
          0.1975
         ],
         "gridcolor": "#E1E5ED",
         "showgrid": false,
         "tickfont": {
          "color": "#4D5663"
         },
         "title": {
          "font": {
           "color": "#4D5663"
          },
          "text": ""
         },
         "zerolinecolor": "#E1E5ED"
        },
        "yaxis16": {
         "anchor": "x16",
         "domain": [
          0,
          0.1975
         ],
         "gridcolor": "#E1E5ED",
         "showgrid": false,
         "tickfont": {
          "color": "#4D5663"
         },
         "title": {
          "font": {
           "color": "#4D5663"
          },
          "text": ""
         },
         "zerolinecolor": "#E1E5ED"
        },
        "yaxis2": {
         "anchor": "x2",
         "domain": [
          0.8025,
          1
         ],
         "gridcolor": "#E1E5ED",
         "showgrid": false,
         "tickfont": {
          "color": "#4D5663"
         },
         "title": {
          "font": {
           "color": "#4D5663"
          },
          "text": ""
         },
         "zerolinecolor": "#E1E5ED"
        },
        "yaxis3": {
         "anchor": "x3",
         "domain": [
          0.8025,
          1
         ],
         "gridcolor": "#E1E5ED",
         "showgrid": false,
         "tickfont": {
          "color": "#4D5663"
         },
         "title": {
          "font": {
           "color": "#4D5663"
          },
          "text": ""
         },
         "zerolinecolor": "#E1E5ED"
        },
        "yaxis4": {
         "anchor": "x4",
         "domain": [
          0.8025,
          1
         ],
         "gridcolor": "#E1E5ED",
         "showgrid": false,
         "tickfont": {
          "color": "#4D5663"
         },
         "title": {
          "font": {
           "color": "#4D5663"
          },
          "text": ""
         },
         "zerolinecolor": "#E1E5ED"
        },
        "yaxis5": {
         "anchor": "x5",
         "domain": [
          0.535,
          0.7325
         ],
         "gridcolor": "#E1E5ED",
         "showgrid": false,
         "tickfont": {
          "color": "#4D5663"
         },
         "title": {
          "font": {
           "color": "#4D5663"
          },
          "text": ""
         },
         "zerolinecolor": "#E1E5ED"
        },
        "yaxis6": {
         "anchor": "x6",
         "domain": [
          0.535,
          0.7325
         ],
         "gridcolor": "#E1E5ED",
         "showgrid": false,
         "tickfont": {
          "color": "#4D5663"
         },
         "title": {
          "font": {
           "color": "#4D5663"
          },
          "text": ""
         },
         "zerolinecolor": "#E1E5ED"
        },
        "yaxis7": {
         "anchor": "x7",
         "domain": [
          0.535,
          0.7325
         ],
         "gridcolor": "#E1E5ED",
         "showgrid": false,
         "tickfont": {
          "color": "#4D5663"
         },
         "title": {
          "font": {
           "color": "#4D5663"
          },
          "text": ""
         },
         "zerolinecolor": "#E1E5ED"
        },
        "yaxis8": {
         "anchor": "x8",
         "domain": [
          0.535,
          0.7325
         ],
         "gridcolor": "#E1E5ED",
         "showgrid": false,
         "tickfont": {
          "color": "#4D5663"
         },
         "title": {
          "font": {
           "color": "#4D5663"
          },
          "text": ""
         },
         "zerolinecolor": "#E1E5ED"
        },
        "yaxis9": {
         "anchor": "x9",
         "domain": [
          0.2675,
          0.465
         ],
         "gridcolor": "#E1E5ED",
         "showgrid": false,
         "tickfont": {
          "color": "#4D5663"
         },
         "title": {
          "font": {
           "color": "#4D5663"
          },
          "text": ""
         },
         "zerolinecolor": "#E1E5ED"
        }
       }
      },
      "text/html": [
       "<div>                            <div id=\"2a313d3c-8cda-47d1-af18-d24dbff0e31a\" class=\"plotly-graph-div\" style=\"height:525px; width:100%;\"></div>            <script type=\"text/javascript\">                require([\"plotly\"], function(Plotly) {                    window.PLOTLYENV=window.PLOTLYENV || {};\n",
       "                    window.PLOTLYENV.BASE_URL='https://plot.ly';                                    if (document.getElementById(\"2a313d3c-8cda-47d1-af18-d24dbff0e31a\")) {                    Plotly.newPlot(                        \"2a313d3c-8cda-47d1-af18-d24dbff0e31a\",                        [{\"histfunc\":\"count\",\"histnorm\":\"\",\"marker\":{\"color\":\"rgba(255, 153, 51, 1.0)\",\"line\":{\"color\":\"#4D5663\",\"width\":1.3}},\"name\":\"A\",\"nbinsx\":10,\"opacity\":0.8,\"orientation\":\"v\",\"x\":[0.007097092789972175,-0.2507980967337128,0.5756887159748832,1.008554175812353,-2.6283592090659873,1.6897482724042978,-0.8474374630661906,-0.885832540802959,0.4165769995034404,0.3252308691285932,0.15654813843776863,0.32000464521458294,0.22512579404893415,-0.9790000089937704,-0.3580302188491322,-0.7226009569936725,0.42102829268405206,0.2230306013098082,-0.4894846120344407,0.566997691727052,0.7607780966610685,0.23179719324520257,0.3740720066436934,-0.3268113355342848,-0.18724635850271712,-0.43897158097130873,0.3311812464599041,-1.7464259691116253,-0.7003744338871739,-1.1273844453143265,-1.4433016423607514,-1.9331587985472232,-0.4416755962896438,0.3540378946293956,-2.3205791602958827,-0.6145551930755045,-1.0991258362026313,0.945377164629423,0.7660013927940503,0.8096965391921613,-1.011703590573019,-0.41828365667679634,-1.4791244765991614,-0.5761080113817664,0.7449599286623099,0.42270136868761493,-0.40390348558849554,0.36669812346527975,0.7481364566653947,1.5353321018275836,-1.3371004213241013,-1.4942270443891712,0.0710723740451789,-0.0006575669951469768,-0.22534602111696125,-1.172041314702635,1.123901859153798,-0.2542859826880914,-0.11703759236657453,-0.8142079592044608,-1.0542576188191066,0.546313307317542,-0.8447663571066834,-1.1131193312433463,0.4587848706424149,2.6591625662829146,-0.015121925395850002,-0.09109764156500297,0.4526267555190351,-0.24918265339293869,0.2750713724462446,0.9645876496605769,0.6886893955579118,1.1337676914267782,-0.20303842320923898,-1.0816855549346296,-1.1082516347864104,-0.7242762213979465,-1.2179557113588813,-1.7245807252123906,2.1746231931296514,-0.31174746522478336,-0.3329591568687766,-0.499939085089008,0.36520642633824857,-1.0458452355028378,0.3306941382140081,1.2923882218609148,0.33893456539783484,0.9869969913865074,-0.6450150360855204,-0.02753327885205397,-1.3624539641043698,0.6002984616132592,-1.432946169513228,-0.5951750844353458,0.9740904886924309,-0.23690369561450986,1.2616316919343114,0.45897564550142733],\"xaxis\":\"x\",\"yaxis\":\"y\",\"type\":\"histogram\"},{\"line\":{\"color\":\"rgba(128, 128, 128, 1.0)\",\"dash\":\"solid\",\"shape\":\"linear\",\"width\":1.3},\"marker\":{\"size\":2,\"symbol\":\"circle\"},\"mode\":\"markers\",\"name\":\"A\",\"text\":\"\",\"x\":[1.0015685518890944,-1.6664086034303247,-1.4778111106947436,-0.7751255716259327,-1.4389565480396826,-1.6482938194416763,-1.506955683250337,0.2645971502651818,1.3192834739719805,0.33003703872957946,-0.1361520326958087,-1.3261155345688718,-1.204549680637177,0.3850583175509835,-0.3716158383803578,-0.6195146999634619,-0.996136086782592,-0.8444102927779795,-0.19276359031819187,0.08705580927796512,-0.3386322034460392,-0.6574543866595249,0.9478662810005158,-0.687885352767681,0.6015622856400247,0.25560908288184436,1.4082884056443346,-1.6772205012167196,0.5931670213401689,-0.20747584976568403,-1.042688109102613,0.3199247638241327,1.112879332773885,-0.6983477572766444,0.9909467462256175,-0.4702970722918106,0.3093044428150858,0.3442171189806224,0.40125331687981614,-0.9680466754947346,1.331024386460877,0.9700923553259135,0.14177352703313215,1.1490024377552774,-0.5259677383265647,-2.4786187225057223,2.075185652874105,-0.7934797710348597,-1.0812774636843718,1.33656414940059,1.167397360723972,0.922865585510867,0.07324989663541134,0.7157238614039628,-0.7484481402430851,0.48528402451312097,0.7511743146837414,0.4954149925198047,-1.11798381149081,0.29057128739668125,-1.3345464787750942,0.30198862771295165,0.707615903109009,1.6500185866666577,0.49276185597511885,-1.6571574050679154,-2.09094633959671,-0.3593627718648167,-1.6164724433213713,1.483388465917525,-0.25114671220587437,1.4662187742718724,-0.9062039290353936,-0.31360181319845404,0.9439194230341262,-0.12829533899369105,1.599093495914871,0.5583649783812819,-0.7561134141743251,-0.48882952610388714,-0.8669124668710848,-0.20869738384286052,-2.485808077029097,-1.0729464262607684,1.021856771895166,0.5857795865634028,0.8361142241220432,-1.048416757395772,-0.598914564611235,-1.1063945049183166,-0.9420740389395011,-1.5173258027035248,0.9807347509409816,1.5659650379880938,0.7249585649931194,-0.016215203047882022,-0.04401588783851069,2.0029297466320037,-1.2835695323754206,-0.9558328695916015],\"xaxis\":\"x2\",\"y\":[0.007097092789972175,-0.2507980967337128,0.5756887159748832,1.008554175812353,-2.6283592090659873,1.6897482724042978,-0.8474374630661906,-0.885832540802959,0.4165769995034404,0.3252308691285932,0.15654813843776863,0.32000464521458294,0.22512579404893415,-0.9790000089937704,-0.3580302188491322,-0.7226009569936725,0.42102829268405206,0.2230306013098082,-0.4894846120344407,0.566997691727052,0.7607780966610685,0.23179719324520257,0.3740720066436934,-0.3268113355342848,-0.18724635850271712,-0.43897158097130873,0.3311812464599041,-1.7464259691116253,-0.7003744338871739,-1.1273844453143265,-1.4433016423607514,-1.9331587985472232,-0.4416755962896438,0.3540378946293956,-2.3205791602958827,-0.6145551930755045,-1.0991258362026313,0.945377164629423,0.7660013927940503,0.8096965391921613,-1.011703590573019,-0.41828365667679634,-1.4791244765991614,-0.5761080113817664,0.7449599286623099,0.42270136868761493,-0.40390348558849554,0.36669812346527975,0.7481364566653947,1.5353321018275836,-1.3371004213241013,-1.4942270443891712,0.0710723740451789,-0.0006575669951469768,-0.22534602111696125,-1.172041314702635,1.123901859153798,-0.2542859826880914,-0.11703759236657453,-0.8142079592044608,-1.0542576188191066,0.546313307317542,-0.8447663571066834,-1.1131193312433463,0.4587848706424149,2.6591625662829146,-0.015121925395850002,-0.09109764156500297,0.4526267555190351,-0.24918265339293869,0.2750713724462446,0.9645876496605769,0.6886893955579118,1.1337676914267782,-0.20303842320923898,-1.0816855549346296,-1.1082516347864104,-0.7242762213979465,-1.2179557113588813,-1.7245807252123906,2.1746231931296514,-0.31174746522478336,-0.3329591568687766,-0.499939085089008,0.36520642633824857,-1.0458452355028378,0.3306941382140081,1.2923882218609148,0.33893456539783484,0.9869969913865074,-0.6450150360855204,-0.02753327885205397,-1.3624539641043698,0.6002984616132592,-1.432946169513228,-0.5951750844353458,0.9740904886924309,-0.23690369561450986,1.2616316919343114,0.45897564550142733],\"yaxis\":\"y2\",\"type\":\"scatter\"},{\"line\":{\"color\":\"rgba(128, 128, 128, 1.0)\",\"dash\":\"solid\",\"shape\":\"linear\",\"width\":1.3},\"marker\":{\"size\":2,\"symbol\":\"circle\"},\"mode\":\"markers\",\"name\":\"A\",\"text\":\"\",\"x\":[1.1134386376161787,-2.455826285527071,-0.9694676341962923,0.7130937845990152,-0.4082405867670057,-0.07106854892748057,0.29139163128680484,2.018976050553426,-2.426317414108947,-0.004035309681510012,-0.5688147882523389,1.2629407017390235,-0.056305975400264864,0.36100143469611534,-0.6775203711829082,-1.1916617039595192,-0.972871563819841,-1.1112621243203964,1.7320034633454189,-0.8478154766785165,-0.45539581710595534,2.10346520629492,-0.13907150540989444,0.04861080087146654,-2.564263148769308,-0.866192598224841,0.4891568617785788,1.0873970476750394,-0.18403764028888853,-0.1308663906545661,-0.28722000428881633,0.19840445734468734,-1.3009449684348904,-1.020091829408598,0.7387474831633447,0.19530536968376824,0.305383648263475,0.5797230543066278,0.4132055339672769,1.453165943930631,0.6738678698851303,1.2226808787214014,0.6099679322239068,0.0740870912806088,-1.2268367132161608,-0.3765866256593109,-0.8586237274089062,-1.4745636001090636,0.004608913554882749,-1.5289911287850926,-0.0465266419574453,-1.1117787124739829,0.3223837211493439,-0.7552722366390408,0.8752514886480032,1.0317230314868404,0.34616375944781325,-0.6551546404379297,0.3748294539863184,0.26460756409907765,1.2753158942553013,1.429845155534673,0.9508787491396822,0.07766733197880335,0.8514355614528256,0.3643160536653477,0.026335475115136356,0.7572998652599572,0.654042593554938,-1.8635945931004145,-1.3509614906487808,-0.5557091199465339,-0.4837150069088515,0.149347522183448,0.521279863811876,-0.1194141399337346,-0.4696545362675223,1.2560400763884412,-2.1289711422547986,-0.160846246930171,0.4845535388818226,0.20138949066785197,-0.38384316975121735,-0.8512900037498121,-0.22834122092072281,1.1889175170227522,-1.463630068002194,-0.9212060946063361,-0.34852257416333243,0.3862885438150903,0.22601878054759733,-1.2581306385539595,-1.1047097199780325,0.4427412253540972,-0.7624479813161561,-1.2941034696647962,1.5529727634412616,-0.5691920578956647,-0.32897418925340655,-0.2583816056393063],\"xaxis\":\"x3\",\"y\":[0.007097092789972175,-0.2507980967337128,0.5756887159748832,1.008554175812353,-2.6283592090659873,1.6897482724042978,-0.8474374630661906,-0.885832540802959,0.4165769995034404,0.3252308691285932,0.15654813843776863,0.32000464521458294,0.22512579404893415,-0.9790000089937704,-0.3580302188491322,-0.7226009569936725,0.42102829268405206,0.2230306013098082,-0.4894846120344407,0.566997691727052,0.7607780966610685,0.23179719324520257,0.3740720066436934,-0.3268113355342848,-0.18724635850271712,-0.43897158097130873,0.3311812464599041,-1.7464259691116253,-0.7003744338871739,-1.1273844453143265,-1.4433016423607514,-1.9331587985472232,-0.4416755962896438,0.3540378946293956,-2.3205791602958827,-0.6145551930755045,-1.0991258362026313,0.945377164629423,0.7660013927940503,0.8096965391921613,-1.011703590573019,-0.41828365667679634,-1.4791244765991614,-0.5761080113817664,0.7449599286623099,0.42270136868761493,-0.40390348558849554,0.36669812346527975,0.7481364566653947,1.5353321018275836,-1.3371004213241013,-1.4942270443891712,0.0710723740451789,-0.0006575669951469768,-0.22534602111696125,-1.172041314702635,1.123901859153798,-0.2542859826880914,-0.11703759236657453,-0.8142079592044608,-1.0542576188191066,0.546313307317542,-0.8447663571066834,-1.1131193312433463,0.4587848706424149,2.6591625662829146,-0.015121925395850002,-0.09109764156500297,0.4526267555190351,-0.24918265339293869,0.2750713724462446,0.9645876496605769,0.6886893955579118,1.1337676914267782,-0.20303842320923898,-1.0816855549346296,-1.1082516347864104,-0.7242762213979465,-1.2179557113588813,-1.7245807252123906,2.1746231931296514,-0.31174746522478336,-0.3329591568687766,-0.499939085089008,0.36520642633824857,-1.0458452355028378,0.3306941382140081,1.2923882218609148,0.33893456539783484,0.9869969913865074,-0.6450150360855204,-0.02753327885205397,-1.3624539641043698,0.6002984616132592,-1.432946169513228,-0.5951750844353458,0.9740904886924309,-0.23690369561450986,1.2616316919343114,0.45897564550142733],\"yaxis\":\"y3\",\"type\":\"scatter\"},{\"line\":{\"color\":\"rgba(128, 128, 128, 1.0)\",\"dash\":\"solid\",\"shape\":\"linear\",\"width\":1.3},\"marker\":{\"size\":2,\"symbol\":\"circle\"},\"mode\":\"markers\",\"name\":\"A\",\"text\":\"\",\"x\":[0.6285053069771211,-0.6422674141981904,0.0634065414695631,-0.201402449765595,-2.6474565882162757,0.6265434890066702,-1.9382483237147952,-0.32162316806583113,3.4624661592603942,1.3445984945414413,-0.17554664142011986,0.26262795117021503,2.0591321301455325,-0.4913943013347786,-1.139807932036039,-1.6958695678745266,-0.04000130876323166,1.0930715576453156,0.03805565004376671,2.3237405477198765,-1.099474750776804,0.3322415170042958,-0.6253652694816224,0.5643137167005545,-1.367285511433765,-0.8493451469168063,-1.7102637597838743,0.7122135177798964,-0.8348120685843194,-0.31127690877640213,0.27183877009540397,-0.9643422479683356,-1.191605116248042,-1.8149598907289821,-1.2031855070303434,-0.37111420727859884,-2.8305221116932366,0.7243165392074373,1.055587352116458,1.239324577800402,0.6573339689669813,0.09696536248035267,3.225530201379237,1.7735656183178174,0.25461358972815895,-1.0517399733379011,-0.3635969232943197,-1.2253357557287223,0.5923060728152107,-1.279752472638377,-0.6128659529842336,0.24504815354791581,0.7534178898831382,2.070512094883402,0.3940060871582593,1.4858158335189027,-0.8600609449415718,0.6213847128112033,0.5553075850486182,0.742383623660946,0.767215551936453,0.23817587790638547,-1.3012269615712475,1.08021842351989,0.9658551608356808,1.4230556281711535,0.3804284239839869,0.5712095351317064,0.6958612817349366,0.5641213581950402,-0.09067589440089023,0.644676122057003,-1.520122329434704,0.7402565312864682,1.548539687973651,-1.2885509385410618,-0.13845364979150812,0.8958051028459594,0.17563500440961954,-1.1332558956501393,0.6788627077454537,0.9880588825348897,0.6103628196031742,0.48507446741314536,0.41352006465908314,-0.21633682669954693,1.6616255124634403,0.23162794842808973,0.2931359941088242,-0.8097226200965799,0.7998522463526723,0.2863776827517364,-0.1499143781408709,1.1966437475941525,-0.46900231972356204,-1.2004271104989692,0.31394022384256876,-0.8525240262883761,1.2835914022049175,0.15110248242260002],\"xaxis\":\"x4\",\"y\":[0.007097092789972175,-0.2507980967337128,0.5756887159748832,1.008554175812353,-2.6283592090659873,1.6897482724042978,-0.8474374630661906,-0.885832540802959,0.4165769995034404,0.3252308691285932,0.15654813843776863,0.32000464521458294,0.22512579404893415,-0.9790000089937704,-0.3580302188491322,-0.7226009569936725,0.42102829268405206,0.2230306013098082,-0.4894846120344407,0.566997691727052,0.7607780966610685,0.23179719324520257,0.3740720066436934,-0.3268113355342848,-0.18724635850271712,-0.43897158097130873,0.3311812464599041,-1.7464259691116253,-0.7003744338871739,-1.1273844453143265,-1.4433016423607514,-1.9331587985472232,-0.4416755962896438,0.3540378946293956,-2.3205791602958827,-0.6145551930755045,-1.0991258362026313,0.945377164629423,0.7660013927940503,0.8096965391921613,-1.011703590573019,-0.41828365667679634,-1.4791244765991614,-0.5761080113817664,0.7449599286623099,0.42270136868761493,-0.40390348558849554,0.36669812346527975,0.7481364566653947,1.5353321018275836,-1.3371004213241013,-1.4942270443891712,0.0710723740451789,-0.0006575669951469768,-0.22534602111696125,-1.172041314702635,1.123901859153798,-0.2542859826880914,-0.11703759236657453,-0.8142079592044608,-1.0542576188191066,0.546313307317542,-0.8447663571066834,-1.1131193312433463,0.4587848706424149,2.6591625662829146,-0.015121925395850002,-0.09109764156500297,0.4526267555190351,-0.24918265339293869,0.2750713724462446,0.9645876496605769,0.6886893955579118,1.1337676914267782,-0.20303842320923898,-1.0816855549346296,-1.1082516347864104,-0.7242762213979465,-1.2179557113588813,-1.7245807252123906,2.1746231931296514,-0.31174746522478336,-0.3329591568687766,-0.499939085089008,0.36520642633824857,-1.0458452355028378,0.3306941382140081,1.2923882218609148,0.33893456539783484,0.9869969913865074,-0.6450150360855204,-0.02753327885205397,-1.3624539641043698,0.6002984616132592,-1.432946169513228,-0.5951750844353458,0.9740904886924309,-0.23690369561450986,1.2616316919343114,0.45897564550142733],\"yaxis\":\"y4\",\"type\":\"scatter\"},{\"line\":{\"color\":\"rgba(128, 128, 128, 1.0)\",\"dash\":\"solid\",\"shape\":\"linear\",\"width\":1.3},\"marker\":{\"size\":2,\"symbol\":\"circle\"},\"mode\":\"markers\",\"name\":\"B\",\"text\":\"\",\"x\":[0.007097092789972175,-0.2507980967337128,0.5756887159748832,1.008554175812353,-2.6283592090659873,1.6897482724042978,-0.8474374630661906,-0.885832540802959,0.4165769995034404,0.3252308691285932,0.15654813843776863,0.32000464521458294,0.22512579404893415,-0.9790000089937704,-0.3580302188491322,-0.7226009569936725,0.42102829268405206,0.2230306013098082,-0.4894846120344407,0.566997691727052,0.7607780966610685,0.23179719324520257,0.3740720066436934,-0.3268113355342848,-0.18724635850271712,-0.43897158097130873,0.3311812464599041,-1.7464259691116253,-0.7003744338871739,-1.1273844453143265,-1.4433016423607514,-1.9331587985472232,-0.4416755962896438,0.3540378946293956,-2.3205791602958827,-0.6145551930755045,-1.0991258362026313,0.945377164629423,0.7660013927940503,0.8096965391921613,-1.011703590573019,-0.41828365667679634,-1.4791244765991614,-0.5761080113817664,0.7449599286623099,0.42270136868761493,-0.40390348558849554,0.36669812346527975,0.7481364566653947,1.5353321018275836,-1.3371004213241013,-1.4942270443891712,0.0710723740451789,-0.0006575669951469768,-0.22534602111696125,-1.172041314702635,1.123901859153798,-0.2542859826880914,-0.11703759236657453,-0.8142079592044608,-1.0542576188191066,0.546313307317542,-0.8447663571066834,-1.1131193312433463,0.4587848706424149,2.6591625662829146,-0.015121925395850002,-0.09109764156500297,0.4526267555190351,-0.24918265339293869,0.2750713724462446,0.9645876496605769,0.6886893955579118,1.1337676914267782,-0.20303842320923898,-1.0816855549346296,-1.1082516347864104,-0.7242762213979465,-1.2179557113588813,-1.7245807252123906,2.1746231931296514,-0.31174746522478336,-0.3329591568687766,-0.499939085089008,0.36520642633824857,-1.0458452355028378,0.3306941382140081,1.2923882218609148,0.33893456539783484,0.9869969913865074,-0.6450150360855204,-0.02753327885205397,-1.3624539641043698,0.6002984616132592,-1.432946169513228,-0.5951750844353458,0.9740904886924309,-0.23690369561450986,1.2616316919343114,0.45897564550142733],\"xaxis\":\"x5\",\"y\":[1.0015685518890944,-1.6664086034303247,-1.4778111106947436,-0.7751255716259327,-1.4389565480396826,-1.6482938194416763,-1.506955683250337,0.2645971502651818,1.3192834739719805,0.33003703872957946,-0.1361520326958087,-1.3261155345688718,-1.204549680637177,0.3850583175509835,-0.3716158383803578,-0.6195146999634619,-0.996136086782592,-0.8444102927779795,-0.19276359031819187,0.08705580927796512,-0.3386322034460392,-0.6574543866595249,0.9478662810005158,-0.687885352767681,0.6015622856400247,0.25560908288184436,1.4082884056443346,-1.6772205012167196,0.5931670213401689,-0.20747584976568403,-1.042688109102613,0.3199247638241327,1.112879332773885,-0.6983477572766444,0.9909467462256175,-0.4702970722918106,0.3093044428150858,0.3442171189806224,0.40125331687981614,-0.9680466754947346,1.331024386460877,0.9700923553259135,0.14177352703313215,1.1490024377552774,-0.5259677383265647,-2.4786187225057223,2.075185652874105,-0.7934797710348597,-1.0812774636843718,1.33656414940059,1.167397360723972,0.922865585510867,0.07324989663541134,0.7157238614039628,-0.7484481402430851,0.48528402451312097,0.7511743146837414,0.4954149925198047,-1.11798381149081,0.29057128739668125,-1.3345464787750942,0.30198862771295165,0.707615903109009,1.6500185866666577,0.49276185597511885,-1.6571574050679154,-2.09094633959671,-0.3593627718648167,-1.6164724433213713,1.483388465917525,-0.25114671220587437,1.4662187742718724,-0.9062039290353936,-0.31360181319845404,0.9439194230341262,-0.12829533899369105,1.599093495914871,0.5583649783812819,-0.7561134141743251,-0.48882952610388714,-0.8669124668710848,-0.20869738384286052,-2.485808077029097,-1.0729464262607684,1.021856771895166,0.5857795865634028,0.8361142241220432,-1.048416757395772,-0.598914564611235,-1.1063945049183166,-0.9420740389395011,-1.5173258027035248,0.9807347509409816,1.5659650379880938,0.7249585649931194,-0.016215203047882022,-0.04401588783851069,2.0029297466320037,-1.2835695323754206,-0.9558328695916015],\"yaxis\":\"y5\",\"type\":\"scatter\"},{\"histfunc\":\"count\",\"histnorm\":\"\",\"marker\":{\"color\":\"rgba(55, 128, 191, 1.0)\",\"line\":{\"color\":\"#4D5663\",\"width\":1.3}},\"name\":\"B\",\"nbinsx\":10,\"opacity\":0.8,\"orientation\":\"v\",\"x\":[1.0015685518890944,-1.6664086034303247,-1.4778111106947436,-0.7751255716259327,-1.4389565480396826,-1.6482938194416763,-1.506955683250337,0.2645971502651818,1.3192834739719805,0.33003703872957946,-0.1361520326958087,-1.3261155345688718,-1.204549680637177,0.3850583175509835,-0.3716158383803578,-0.6195146999634619,-0.996136086782592,-0.8444102927779795,-0.19276359031819187,0.08705580927796512,-0.3386322034460392,-0.6574543866595249,0.9478662810005158,-0.687885352767681,0.6015622856400247,0.25560908288184436,1.4082884056443346,-1.6772205012167196,0.5931670213401689,-0.20747584976568403,-1.042688109102613,0.3199247638241327,1.112879332773885,-0.6983477572766444,0.9909467462256175,-0.4702970722918106,0.3093044428150858,0.3442171189806224,0.40125331687981614,-0.9680466754947346,1.331024386460877,0.9700923553259135,0.14177352703313215,1.1490024377552774,-0.5259677383265647,-2.4786187225057223,2.075185652874105,-0.7934797710348597,-1.0812774636843718,1.33656414940059,1.167397360723972,0.922865585510867,0.07324989663541134,0.7157238614039628,-0.7484481402430851,0.48528402451312097,0.7511743146837414,0.4954149925198047,-1.11798381149081,0.29057128739668125,-1.3345464787750942,0.30198862771295165,0.707615903109009,1.6500185866666577,0.49276185597511885,-1.6571574050679154,-2.09094633959671,-0.3593627718648167,-1.6164724433213713,1.483388465917525,-0.25114671220587437,1.4662187742718724,-0.9062039290353936,-0.31360181319845404,0.9439194230341262,-0.12829533899369105,1.599093495914871,0.5583649783812819,-0.7561134141743251,-0.48882952610388714,-0.8669124668710848,-0.20869738384286052,-2.485808077029097,-1.0729464262607684,1.021856771895166,0.5857795865634028,0.8361142241220432,-1.048416757395772,-0.598914564611235,-1.1063945049183166,-0.9420740389395011,-1.5173258027035248,0.9807347509409816,1.5659650379880938,0.7249585649931194,-0.016215203047882022,-0.04401588783851069,2.0029297466320037,-1.2835695323754206,-0.9558328695916015],\"xaxis\":\"x6\",\"yaxis\":\"y6\",\"type\":\"histogram\"},{\"line\":{\"color\":\"rgba(128, 128, 128, 1.0)\",\"dash\":\"solid\",\"shape\":\"linear\",\"width\":1.3},\"marker\":{\"size\":2,\"symbol\":\"circle\"},\"mode\":\"markers\",\"name\":\"B\",\"text\":\"\",\"x\":[1.1134386376161787,-2.455826285527071,-0.9694676341962923,0.7130937845990152,-0.4082405867670057,-0.07106854892748057,0.29139163128680484,2.018976050553426,-2.426317414108947,-0.004035309681510012,-0.5688147882523389,1.2629407017390235,-0.056305975400264864,0.36100143469611534,-0.6775203711829082,-1.1916617039595192,-0.972871563819841,-1.1112621243203964,1.7320034633454189,-0.8478154766785165,-0.45539581710595534,2.10346520629492,-0.13907150540989444,0.04861080087146654,-2.564263148769308,-0.866192598224841,0.4891568617785788,1.0873970476750394,-0.18403764028888853,-0.1308663906545661,-0.28722000428881633,0.19840445734468734,-1.3009449684348904,-1.020091829408598,0.7387474831633447,0.19530536968376824,0.305383648263475,0.5797230543066278,0.4132055339672769,1.453165943930631,0.6738678698851303,1.2226808787214014,0.6099679322239068,0.0740870912806088,-1.2268367132161608,-0.3765866256593109,-0.8586237274089062,-1.4745636001090636,0.004608913554882749,-1.5289911287850926,-0.0465266419574453,-1.1117787124739829,0.3223837211493439,-0.7552722366390408,0.8752514886480032,1.0317230314868404,0.34616375944781325,-0.6551546404379297,0.3748294539863184,0.26460756409907765,1.2753158942553013,1.429845155534673,0.9508787491396822,0.07766733197880335,0.8514355614528256,0.3643160536653477,0.026335475115136356,0.7572998652599572,0.654042593554938,-1.8635945931004145,-1.3509614906487808,-0.5557091199465339,-0.4837150069088515,0.149347522183448,0.521279863811876,-0.1194141399337346,-0.4696545362675223,1.2560400763884412,-2.1289711422547986,-0.160846246930171,0.4845535388818226,0.20138949066785197,-0.38384316975121735,-0.8512900037498121,-0.22834122092072281,1.1889175170227522,-1.463630068002194,-0.9212060946063361,-0.34852257416333243,0.3862885438150903,0.22601878054759733,-1.2581306385539595,-1.1047097199780325,0.4427412253540972,-0.7624479813161561,-1.2941034696647962,1.5529727634412616,-0.5691920578956647,-0.32897418925340655,-0.2583816056393063],\"xaxis\":\"x7\",\"y\":[1.0015685518890944,-1.6664086034303247,-1.4778111106947436,-0.7751255716259327,-1.4389565480396826,-1.6482938194416763,-1.506955683250337,0.2645971502651818,1.3192834739719805,0.33003703872957946,-0.1361520326958087,-1.3261155345688718,-1.204549680637177,0.3850583175509835,-0.3716158383803578,-0.6195146999634619,-0.996136086782592,-0.8444102927779795,-0.19276359031819187,0.08705580927796512,-0.3386322034460392,-0.6574543866595249,0.9478662810005158,-0.687885352767681,0.6015622856400247,0.25560908288184436,1.4082884056443346,-1.6772205012167196,0.5931670213401689,-0.20747584976568403,-1.042688109102613,0.3199247638241327,1.112879332773885,-0.6983477572766444,0.9909467462256175,-0.4702970722918106,0.3093044428150858,0.3442171189806224,0.40125331687981614,-0.9680466754947346,1.331024386460877,0.9700923553259135,0.14177352703313215,1.1490024377552774,-0.5259677383265647,-2.4786187225057223,2.075185652874105,-0.7934797710348597,-1.0812774636843718,1.33656414940059,1.167397360723972,0.922865585510867,0.07324989663541134,0.7157238614039628,-0.7484481402430851,0.48528402451312097,0.7511743146837414,0.4954149925198047,-1.11798381149081,0.29057128739668125,-1.3345464787750942,0.30198862771295165,0.707615903109009,1.6500185866666577,0.49276185597511885,-1.6571574050679154,-2.09094633959671,-0.3593627718648167,-1.6164724433213713,1.483388465917525,-0.25114671220587437,1.4662187742718724,-0.9062039290353936,-0.31360181319845404,0.9439194230341262,-0.12829533899369105,1.599093495914871,0.5583649783812819,-0.7561134141743251,-0.48882952610388714,-0.8669124668710848,-0.20869738384286052,-2.485808077029097,-1.0729464262607684,1.021856771895166,0.5857795865634028,0.8361142241220432,-1.048416757395772,-0.598914564611235,-1.1063945049183166,-0.9420740389395011,-1.5173258027035248,0.9807347509409816,1.5659650379880938,0.7249585649931194,-0.016215203047882022,-0.04401588783851069,2.0029297466320037,-1.2835695323754206,-0.9558328695916015],\"yaxis\":\"y7\",\"type\":\"scatter\"},{\"line\":{\"color\":\"rgba(128, 128, 128, 1.0)\",\"dash\":\"solid\",\"shape\":\"linear\",\"width\":1.3},\"marker\":{\"size\":2,\"symbol\":\"circle\"},\"mode\":\"markers\",\"name\":\"B\",\"text\":\"\",\"x\":[0.6285053069771211,-0.6422674141981904,0.0634065414695631,-0.201402449765595,-2.6474565882162757,0.6265434890066702,-1.9382483237147952,-0.32162316806583113,3.4624661592603942,1.3445984945414413,-0.17554664142011986,0.26262795117021503,2.0591321301455325,-0.4913943013347786,-1.139807932036039,-1.6958695678745266,-0.04000130876323166,1.0930715576453156,0.03805565004376671,2.3237405477198765,-1.099474750776804,0.3322415170042958,-0.6253652694816224,0.5643137167005545,-1.367285511433765,-0.8493451469168063,-1.7102637597838743,0.7122135177798964,-0.8348120685843194,-0.31127690877640213,0.27183877009540397,-0.9643422479683356,-1.191605116248042,-1.8149598907289821,-1.2031855070303434,-0.37111420727859884,-2.8305221116932366,0.7243165392074373,1.055587352116458,1.239324577800402,0.6573339689669813,0.09696536248035267,3.225530201379237,1.7735656183178174,0.25461358972815895,-1.0517399733379011,-0.3635969232943197,-1.2253357557287223,0.5923060728152107,-1.279752472638377,-0.6128659529842336,0.24504815354791581,0.7534178898831382,2.070512094883402,0.3940060871582593,1.4858158335189027,-0.8600609449415718,0.6213847128112033,0.5553075850486182,0.742383623660946,0.767215551936453,0.23817587790638547,-1.3012269615712475,1.08021842351989,0.9658551608356808,1.4230556281711535,0.3804284239839869,0.5712095351317064,0.6958612817349366,0.5641213581950402,-0.09067589440089023,0.644676122057003,-1.520122329434704,0.7402565312864682,1.548539687973651,-1.2885509385410618,-0.13845364979150812,0.8958051028459594,0.17563500440961954,-1.1332558956501393,0.6788627077454537,0.9880588825348897,0.6103628196031742,0.48507446741314536,0.41352006465908314,-0.21633682669954693,1.6616255124634403,0.23162794842808973,0.2931359941088242,-0.8097226200965799,0.7998522463526723,0.2863776827517364,-0.1499143781408709,1.1966437475941525,-0.46900231972356204,-1.2004271104989692,0.31394022384256876,-0.8525240262883761,1.2835914022049175,0.15110248242260002],\"xaxis\":\"x8\",\"y\":[1.0015685518890944,-1.6664086034303247,-1.4778111106947436,-0.7751255716259327,-1.4389565480396826,-1.6482938194416763,-1.506955683250337,0.2645971502651818,1.3192834739719805,0.33003703872957946,-0.1361520326958087,-1.3261155345688718,-1.204549680637177,0.3850583175509835,-0.3716158383803578,-0.6195146999634619,-0.996136086782592,-0.8444102927779795,-0.19276359031819187,0.08705580927796512,-0.3386322034460392,-0.6574543866595249,0.9478662810005158,-0.687885352767681,0.6015622856400247,0.25560908288184436,1.4082884056443346,-1.6772205012167196,0.5931670213401689,-0.20747584976568403,-1.042688109102613,0.3199247638241327,1.112879332773885,-0.6983477572766444,0.9909467462256175,-0.4702970722918106,0.3093044428150858,0.3442171189806224,0.40125331687981614,-0.9680466754947346,1.331024386460877,0.9700923553259135,0.14177352703313215,1.1490024377552774,-0.5259677383265647,-2.4786187225057223,2.075185652874105,-0.7934797710348597,-1.0812774636843718,1.33656414940059,1.167397360723972,0.922865585510867,0.07324989663541134,0.7157238614039628,-0.7484481402430851,0.48528402451312097,0.7511743146837414,0.4954149925198047,-1.11798381149081,0.29057128739668125,-1.3345464787750942,0.30198862771295165,0.707615903109009,1.6500185866666577,0.49276185597511885,-1.6571574050679154,-2.09094633959671,-0.3593627718648167,-1.6164724433213713,1.483388465917525,-0.25114671220587437,1.4662187742718724,-0.9062039290353936,-0.31360181319845404,0.9439194230341262,-0.12829533899369105,1.599093495914871,0.5583649783812819,-0.7561134141743251,-0.48882952610388714,-0.8669124668710848,-0.20869738384286052,-2.485808077029097,-1.0729464262607684,1.021856771895166,0.5857795865634028,0.8361142241220432,-1.048416757395772,-0.598914564611235,-1.1063945049183166,-0.9420740389395011,-1.5173258027035248,0.9807347509409816,1.5659650379880938,0.7249585649931194,-0.016215203047882022,-0.04401588783851069,2.0029297466320037,-1.2835695323754206,-0.9558328695916015],\"yaxis\":\"y8\",\"type\":\"scatter\"},{\"line\":{\"color\":\"rgba(128, 128, 128, 1.0)\",\"dash\":\"solid\",\"shape\":\"linear\",\"width\":1.3},\"marker\":{\"size\":2,\"symbol\":\"circle\"},\"mode\":\"markers\",\"name\":\"C\",\"text\":\"\",\"x\":[0.007097092789972175,-0.2507980967337128,0.5756887159748832,1.008554175812353,-2.6283592090659873,1.6897482724042978,-0.8474374630661906,-0.885832540802959,0.4165769995034404,0.3252308691285932,0.15654813843776863,0.32000464521458294,0.22512579404893415,-0.9790000089937704,-0.3580302188491322,-0.7226009569936725,0.42102829268405206,0.2230306013098082,-0.4894846120344407,0.566997691727052,0.7607780966610685,0.23179719324520257,0.3740720066436934,-0.3268113355342848,-0.18724635850271712,-0.43897158097130873,0.3311812464599041,-1.7464259691116253,-0.7003744338871739,-1.1273844453143265,-1.4433016423607514,-1.9331587985472232,-0.4416755962896438,0.3540378946293956,-2.3205791602958827,-0.6145551930755045,-1.0991258362026313,0.945377164629423,0.7660013927940503,0.8096965391921613,-1.011703590573019,-0.41828365667679634,-1.4791244765991614,-0.5761080113817664,0.7449599286623099,0.42270136868761493,-0.40390348558849554,0.36669812346527975,0.7481364566653947,1.5353321018275836,-1.3371004213241013,-1.4942270443891712,0.0710723740451789,-0.0006575669951469768,-0.22534602111696125,-1.172041314702635,1.123901859153798,-0.2542859826880914,-0.11703759236657453,-0.8142079592044608,-1.0542576188191066,0.546313307317542,-0.8447663571066834,-1.1131193312433463,0.4587848706424149,2.6591625662829146,-0.015121925395850002,-0.09109764156500297,0.4526267555190351,-0.24918265339293869,0.2750713724462446,0.9645876496605769,0.6886893955579118,1.1337676914267782,-0.20303842320923898,-1.0816855549346296,-1.1082516347864104,-0.7242762213979465,-1.2179557113588813,-1.7245807252123906,2.1746231931296514,-0.31174746522478336,-0.3329591568687766,-0.499939085089008,0.36520642633824857,-1.0458452355028378,0.3306941382140081,1.2923882218609148,0.33893456539783484,0.9869969913865074,-0.6450150360855204,-0.02753327885205397,-1.3624539641043698,0.6002984616132592,-1.432946169513228,-0.5951750844353458,0.9740904886924309,-0.23690369561450986,1.2616316919343114,0.45897564550142733],\"xaxis\":\"x9\",\"y\":[1.1134386376161787,-2.455826285527071,-0.9694676341962923,0.7130937845990152,-0.4082405867670057,-0.07106854892748057,0.29139163128680484,2.018976050553426,-2.426317414108947,-0.004035309681510012,-0.5688147882523389,1.2629407017390235,-0.056305975400264864,0.36100143469611534,-0.6775203711829082,-1.1916617039595192,-0.972871563819841,-1.1112621243203964,1.7320034633454189,-0.8478154766785165,-0.45539581710595534,2.10346520629492,-0.13907150540989444,0.04861080087146654,-2.564263148769308,-0.866192598224841,0.4891568617785788,1.0873970476750394,-0.18403764028888853,-0.1308663906545661,-0.28722000428881633,0.19840445734468734,-1.3009449684348904,-1.020091829408598,0.7387474831633447,0.19530536968376824,0.305383648263475,0.5797230543066278,0.4132055339672769,1.453165943930631,0.6738678698851303,1.2226808787214014,0.6099679322239068,0.0740870912806088,-1.2268367132161608,-0.3765866256593109,-0.8586237274089062,-1.4745636001090636,0.004608913554882749,-1.5289911287850926,-0.0465266419574453,-1.1117787124739829,0.3223837211493439,-0.7552722366390408,0.8752514886480032,1.0317230314868404,0.34616375944781325,-0.6551546404379297,0.3748294539863184,0.26460756409907765,1.2753158942553013,1.429845155534673,0.9508787491396822,0.07766733197880335,0.8514355614528256,0.3643160536653477,0.026335475115136356,0.7572998652599572,0.654042593554938,-1.8635945931004145,-1.3509614906487808,-0.5557091199465339,-0.4837150069088515,0.149347522183448,0.521279863811876,-0.1194141399337346,-0.4696545362675223,1.2560400763884412,-2.1289711422547986,-0.160846246930171,0.4845535388818226,0.20138949066785197,-0.38384316975121735,-0.8512900037498121,-0.22834122092072281,1.1889175170227522,-1.463630068002194,-0.9212060946063361,-0.34852257416333243,0.3862885438150903,0.22601878054759733,-1.2581306385539595,-1.1047097199780325,0.4427412253540972,-0.7624479813161561,-1.2941034696647962,1.5529727634412616,-0.5691920578956647,-0.32897418925340655,-0.2583816056393063],\"yaxis\":\"y9\",\"type\":\"scatter\"},{\"line\":{\"color\":\"rgba(128, 128, 128, 1.0)\",\"dash\":\"solid\",\"shape\":\"linear\",\"width\":1.3},\"marker\":{\"size\":2,\"symbol\":\"circle\"},\"mode\":\"markers\",\"name\":\"C\",\"text\":\"\",\"x\":[1.0015685518890944,-1.6664086034303247,-1.4778111106947436,-0.7751255716259327,-1.4389565480396826,-1.6482938194416763,-1.506955683250337,0.2645971502651818,1.3192834739719805,0.33003703872957946,-0.1361520326958087,-1.3261155345688718,-1.204549680637177,0.3850583175509835,-0.3716158383803578,-0.6195146999634619,-0.996136086782592,-0.8444102927779795,-0.19276359031819187,0.08705580927796512,-0.3386322034460392,-0.6574543866595249,0.9478662810005158,-0.687885352767681,0.6015622856400247,0.25560908288184436,1.4082884056443346,-1.6772205012167196,0.5931670213401689,-0.20747584976568403,-1.042688109102613,0.3199247638241327,1.112879332773885,-0.6983477572766444,0.9909467462256175,-0.4702970722918106,0.3093044428150858,0.3442171189806224,0.40125331687981614,-0.9680466754947346,1.331024386460877,0.9700923553259135,0.14177352703313215,1.1490024377552774,-0.5259677383265647,-2.4786187225057223,2.075185652874105,-0.7934797710348597,-1.0812774636843718,1.33656414940059,1.167397360723972,0.922865585510867,0.07324989663541134,0.7157238614039628,-0.7484481402430851,0.48528402451312097,0.7511743146837414,0.4954149925198047,-1.11798381149081,0.29057128739668125,-1.3345464787750942,0.30198862771295165,0.707615903109009,1.6500185866666577,0.49276185597511885,-1.6571574050679154,-2.09094633959671,-0.3593627718648167,-1.6164724433213713,1.483388465917525,-0.25114671220587437,1.4662187742718724,-0.9062039290353936,-0.31360181319845404,0.9439194230341262,-0.12829533899369105,1.599093495914871,0.5583649783812819,-0.7561134141743251,-0.48882952610388714,-0.8669124668710848,-0.20869738384286052,-2.485808077029097,-1.0729464262607684,1.021856771895166,0.5857795865634028,0.8361142241220432,-1.048416757395772,-0.598914564611235,-1.1063945049183166,-0.9420740389395011,-1.5173258027035248,0.9807347509409816,1.5659650379880938,0.7249585649931194,-0.016215203047882022,-0.04401588783851069,2.0029297466320037,-1.2835695323754206,-0.9558328695916015],\"xaxis\":\"x10\",\"y\":[1.1134386376161787,-2.455826285527071,-0.9694676341962923,0.7130937845990152,-0.4082405867670057,-0.07106854892748057,0.29139163128680484,2.018976050553426,-2.426317414108947,-0.004035309681510012,-0.5688147882523389,1.2629407017390235,-0.056305975400264864,0.36100143469611534,-0.6775203711829082,-1.1916617039595192,-0.972871563819841,-1.1112621243203964,1.7320034633454189,-0.8478154766785165,-0.45539581710595534,2.10346520629492,-0.13907150540989444,0.04861080087146654,-2.564263148769308,-0.866192598224841,0.4891568617785788,1.0873970476750394,-0.18403764028888853,-0.1308663906545661,-0.28722000428881633,0.19840445734468734,-1.3009449684348904,-1.020091829408598,0.7387474831633447,0.19530536968376824,0.305383648263475,0.5797230543066278,0.4132055339672769,1.453165943930631,0.6738678698851303,1.2226808787214014,0.6099679322239068,0.0740870912806088,-1.2268367132161608,-0.3765866256593109,-0.8586237274089062,-1.4745636001090636,0.004608913554882749,-1.5289911287850926,-0.0465266419574453,-1.1117787124739829,0.3223837211493439,-0.7552722366390408,0.8752514886480032,1.0317230314868404,0.34616375944781325,-0.6551546404379297,0.3748294539863184,0.26460756409907765,1.2753158942553013,1.429845155534673,0.9508787491396822,0.07766733197880335,0.8514355614528256,0.3643160536653477,0.026335475115136356,0.7572998652599572,0.654042593554938,-1.8635945931004145,-1.3509614906487808,-0.5557091199465339,-0.4837150069088515,0.149347522183448,0.521279863811876,-0.1194141399337346,-0.4696545362675223,1.2560400763884412,-2.1289711422547986,-0.160846246930171,0.4845535388818226,0.20138949066785197,-0.38384316975121735,-0.8512900037498121,-0.22834122092072281,1.1889175170227522,-1.463630068002194,-0.9212060946063361,-0.34852257416333243,0.3862885438150903,0.22601878054759733,-1.2581306385539595,-1.1047097199780325,0.4427412253540972,-0.7624479813161561,-1.2941034696647962,1.5529727634412616,-0.5691920578956647,-0.32897418925340655,-0.2583816056393063],\"yaxis\":\"y10\",\"type\":\"scatter\"},{\"histfunc\":\"count\",\"histnorm\":\"\",\"marker\":{\"color\":\"rgba(50, 171, 96, 1.0)\",\"line\":{\"color\":\"#4D5663\",\"width\":1.3}},\"name\":\"C\",\"nbinsx\":10,\"opacity\":0.8,\"orientation\":\"v\",\"x\":[1.1134386376161787,-2.455826285527071,-0.9694676341962923,0.7130937845990152,-0.4082405867670057,-0.07106854892748057,0.29139163128680484,2.018976050553426,-2.426317414108947,-0.004035309681510012,-0.5688147882523389,1.2629407017390235,-0.056305975400264864,0.36100143469611534,-0.6775203711829082,-1.1916617039595192,-0.972871563819841,-1.1112621243203964,1.7320034633454189,-0.8478154766785165,-0.45539581710595534,2.10346520629492,-0.13907150540989444,0.04861080087146654,-2.564263148769308,-0.866192598224841,0.4891568617785788,1.0873970476750394,-0.18403764028888853,-0.1308663906545661,-0.28722000428881633,0.19840445734468734,-1.3009449684348904,-1.020091829408598,0.7387474831633447,0.19530536968376824,0.305383648263475,0.5797230543066278,0.4132055339672769,1.453165943930631,0.6738678698851303,1.2226808787214014,0.6099679322239068,0.0740870912806088,-1.2268367132161608,-0.3765866256593109,-0.8586237274089062,-1.4745636001090636,0.004608913554882749,-1.5289911287850926,-0.0465266419574453,-1.1117787124739829,0.3223837211493439,-0.7552722366390408,0.8752514886480032,1.0317230314868404,0.34616375944781325,-0.6551546404379297,0.3748294539863184,0.26460756409907765,1.2753158942553013,1.429845155534673,0.9508787491396822,0.07766733197880335,0.8514355614528256,0.3643160536653477,0.026335475115136356,0.7572998652599572,0.654042593554938,-1.8635945931004145,-1.3509614906487808,-0.5557091199465339,-0.4837150069088515,0.149347522183448,0.521279863811876,-0.1194141399337346,-0.4696545362675223,1.2560400763884412,-2.1289711422547986,-0.160846246930171,0.4845535388818226,0.20138949066785197,-0.38384316975121735,-0.8512900037498121,-0.22834122092072281,1.1889175170227522,-1.463630068002194,-0.9212060946063361,-0.34852257416333243,0.3862885438150903,0.22601878054759733,-1.2581306385539595,-1.1047097199780325,0.4427412253540972,-0.7624479813161561,-1.2941034696647962,1.5529727634412616,-0.5691920578956647,-0.32897418925340655,-0.2583816056393063],\"xaxis\":\"x11\",\"yaxis\":\"y11\",\"type\":\"histogram\"},{\"line\":{\"color\":\"rgba(128, 128, 128, 1.0)\",\"dash\":\"solid\",\"shape\":\"linear\",\"width\":1.3},\"marker\":{\"size\":2,\"symbol\":\"circle\"},\"mode\":\"markers\",\"name\":\"C\",\"text\":\"\",\"x\":[0.6285053069771211,-0.6422674141981904,0.0634065414695631,-0.201402449765595,-2.6474565882162757,0.6265434890066702,-1.9382483237147952,-0.32162316806583113,3.4624661592603942,1.3445984945414413,-0.17554664142011986,0.26262795117021503,2.0591321301455325,-0.4913943013347786,-1.139807932036039,-1.6958695678745266,-0.04000130876323166,1.0930715576453156,0.03805565004376671,2.3237405477198765,-1.099474750776804,0.3322415170042958,-0.6253652694816224,0.5643137167005545,-1.367285511433765,-0.8493451469168063,-1.7102637597838743,0.7122135177798964,-0.8348120685843194,-0.31127690877640213,0.27183877009540397,-0.9643422479683356,-1.191605116248042,-1.8149598907289821,-1.2031855070303434,-0.37111420727859884,-2.8305221116932366,0.7243165392074373,1.055587352116458,1.239324577800402,0.6573339689669813,0.09696536248035267,3.225530201379237,1.7735656183178174,0.25461358972815895,-1.0517399733379011,-0.3635969232943197,-1.2253357557287223,0.5923060728152107,-1.279752472638377,-0.6128659529842336,0.24504815354791581,0.7534178898831382,2.070512094883402,0.3940060871582593,1.4858158335189027,-0.8600609449415718,0.6213847128112033,0.5553075850486182,0.742383623660946,0.767215551936453,0.23817587790638547,-1.3012269615712475,1.08021842351989,0.9658551608356808,1.4230556281711535,0.3804284239839869,0.5712095351317064,0.6958612817349366,0.5641213581950402,-0.09067589440089023,0.644676122057003,-1.520122329434704,0.7402565312864682,1.548539687973651,-1.2885509385410618,-0.13845364979150812,0.8958051028459594,0.17563500440961954,-1.1332558956501393,0.6788627077454537,0.9880588825348897,0.6103628196031742,0.48507446741314536,0.41352006465908314,-0.21633682669954693,1.6616255124634403,0.23162794842808973,0.2931359941088242,-0.8097226200965799,0.7998522463526723,0.2863776827517364,-0.1499143781408709,1.1966437475941525,-0.46900231972356204,-1.2004271104989692,0.31394022384256876,-0.8525240262883761,1.2835914022049175,0.15110248242260002],\"xaxis\":\"x12\",\"y\":[1.1134386376161787,-2.455826285527071,-0.9694676341962923,0.7130937845990152,-0.4082405867670057,-0.07106854892748057,0.29139163128680484,2.018976050553426,-2.426317414108947,-0.004035309681510012,-0.5688147882523389,1.2629407017390235,-0.056305975400264864,0.36100143469611534,-0.6775203711829082,-1.1916617039595192,-0.972871563819841,-1.1112621243203964,1.7320034633454189,-0.8478154766785165,-0.45539581710595534,2.10346520629492,-0.13907150540989444,0.04861080087146654,-2.564263148769308,-0.866192598224841,0.4891568617785788,1.0873970476750394,-0.18403764028888853,-0.1308663906545661,-0.28722000428881633,0.19840445734468734,-1.3009449684348904,-1.020091829408598,0.7387474831633447,0.19530536968376824,0.305383648263475,0.5797230543066278,0.4132055339672769,1.453165943930631,0.6738678698851303,1.2226808787214014,0.6099679322239068,0.0740870912806088,-1.2268367132161608,-0.3765866256593109,-0.8586237274089062,-1.4745636001090636,0.004608913554882749,-1.5289911287850926,-0.0465266419574453,-1.1117787124739829,0.3223837211493439,-0.7552722366390408,0.8752514886480032,1.0317230314868404,0.34616375944781325,-0.6551546404379297,0.3748294539863184,0.26460756409907765,1.2753158942553013,1.429845155534673,0.9508787491396822,0.07766733197880335,0.8514355614528256,0.3643160536653477,0.026335475115136356,0.7572998652599572,0.654042593554938,-1.8635945931004145,-1.3509614906487808,-0.5557091199465339,-0.4837150069088515,0.149347522183448,0.521279863811876,-0.1194141399337346,-0.4696545362675223,1.2560400763884412,-2.1289711422547986,-0.160846246930171,0.4845535388818226,0.20138949066785197,-0.38384316975121735,-0.8512900037498121,-0.22834122092072281,1.1889175170227522,-1.463630068002194,-0.9212060946063361,-0.34852257416333243,0.3862885438150903,0.22601878054759733,-1.2581306385539595,-1.1047097199780325,0.4427412253540972,-0.7624479813161561,-1.2941034696647962,1.5529727634412616,-0.5691920578956647,-0.32897418925340655,-0.2583816056393063],\"yaxis\":\"y12\",\"type\":\"scatter\"},{\"line\":{\"color\":\"rgba(128, 128, 128, 1.0)\",\"dash\":\"solid\",\"shape\":\"linear\",\"width\":1.3},\"marker\":{\"size\":2,\"symbol\":\"circle\"},\"mode\":\"markers\",\"name\":\"D\",\"text\":\"\",\"x\":[0.007097092789972175,-0.2507980967337128,0.5756887159748832,1.008554175812353,-2.6283592090659873,1.6897482724042978,-0.8474374630661906,-0.885832540802959,0.4165769995034404,0.3252308691285932,0.15654813843776863,0.32000464521458294,0.22512579404893415,-0.9790000089937704,-0.3580302188491322,-0.7226009569936725,0.42102829268405206,0.2230306013098082,-0.4894846120344407,0.566997691727052,0.7607780966610685,0.23179719324520257,0.3740720066436934,-0.3268113355342848,-0.18724635850271712,-0.43897158097130873,0.3311812464599041,-1.7464259691116253,-0.7003744338871739,-1.1273844453143265,-1.4433016423607514,-1.9331587985472232,-0.4416755962896438,0.3540378946293956,-2.3205791602958827,-0.6145551930755045,-1.0991258362026313,0.945377164629423,0.7660013927940503,0.8096965391921613,-1.011703590573019,-0.41828365667679634,-1.4791244765991614,-0.5761080113817664,0.7449599286623099,0.42270136868761493,-0.40390348558849554,0.36669812346527975,0.7481364566653947,1.5353321018275836,-1.3371004213241013,-1.4942270443891712,0.0710723740451789,-0.0006575669951469768,-0.22534602111696125,-1.172041314702635,1.123901859153798,-0.2542859826880914,-0.11703759236657453,-0.8142079592044608,-1.0542576188191066,0.546313307317542,-0.8447663571066834,-1.1131193312433463,0.4587848706424149,2.6591625662829146,-0.015121925395850002,-0.09109764156500297,0.4526267555190351,-0.24918265339293869,0.2750713724462446,0.9645876496605769,0.6886893955579118,1.1337676914267782,-0.20303842320923898,-1.0816855549346296,-1.1082516347864104,-0.7242762213979465,-1.2179557113588813,-1.7245807252123906,2.1746231931296514,-0.31174746522478336,-0.3329591568687766,-0.499939085089008,0.36520642633824857,-1.0458452355028378,0.3306941382140081,1.2923882218609148,0.33893456539783484,0.9869969913865074,-0.6450150360855204,-0.02753327885205397,-1.3624539641043698,0.6002984616132592,-1.432946169513228,-0.5951750844353458,0.9740904886924309,-0.23690369561450986,1.2616316919343114,0.45897564550142733],\"xaxis\":\"x13\",\"y\":[0.6285053069771211,-0.6422674141981904,0.0634065414695631,-0.201402449765595,-2.6474565882162757,0.6265434890066702,-1.9382483237147952,-0.32162316806583113,3.4624661592603942,1.3445984945414413,-0.17554664142011986,0.26262795117021503,2.0591321301455325,-0.4913943013347786,-1.139807932036039,-1.6958695678745266,-0.04000130876323166,1.0930715576453156,0.03805565004376671,2.3237405477198765,-1.099474750776804,0.3322415170042958,-0.6253652694816224,0.5643137167005545,-1.367285511433765,-0.8493451469168063,-1.7102637597838743,0.7122135177798964,-0.8348120685843194,-0.31127690877640213,0.27183877009540397,-0.9643422479683356,-1.191605116248042,-1.8149598907289821,-1.2031855070303434,-0.37111420727859884,-2.8305221116932366,0.7243165392074373,1.055587352116458,1.239324577800402,0.6573339689669813,0.09696536248035267,3.225530201379237,1.7735656183178174,0.25461358972815895,-1.0517399733379011,-0.3635969232943197,-1.2253357557287223,0.5923060728152107,-1.279752472638377,-0.6128659529842336,0.24504815354791581,0.7534178898831382,2.070512094883402,0.3940060871582593,1.4858158335189027,-0.8600609449415718,0.6213847128112033,0.5553075850486182,0.742383623660946,0.767215551936453,0.23817587790638547,-1.3012269615712475,1.08021842351989,0.9658551608356808,1.4230556281711535,0.3804284239839869,0.5712095351317064,0.6958612817349366,0.5641213581950402,-0.09067589440089023,0.644676122057003,-1.520122329434704,0.7402565312864682,1.548539687973651,-1.2885509385410618,-0.13845364979150812,0.8958051028459594,0.17563500440961954,-1.1332558956501393,0.6788627077454537,0.9880588825348897,0.6103628196031742,0.48507446741314536,0.41352006465908314,-0.21633682669954693,1.6616255124634403,0.23162794842808973,0.2931359941088242,-0.8097226200965799,0.7998522463526723,0.2863776827517364,-0.1499143781408709,1.1966437475941525,-0.46900231972356204,-1.2004271104989692,0.31394022384256876,-0.8525240262883761,1.2835914022049175,0.15110248242260002],\"yaxis\":\"y13\",\"type\":\"scatter\"},{\"line\":{\"color\":\"rgba(128, 128, 128, 1.0)\",\"dash\":\"solid\",\"shape\":\"linear\",\"width\":1.3},\"marker\":{\"size\":2,\"symbol\":\"circle\"},\"mode\":\"markers\",\"name\":\"D\",\"text\":\"\",\"x\":[1.0015685518890944,-1.6664086034303247,-1.4778111106947436,-0.7751255716259327,-1.4389565480396826,-1.6482938194416763,-1.506955683250337,0.2645971502651818,1.3192834739719805,0.33003703872957946,-0.1361520326958087,-1.3261155345688718,-1.204549680637177,0.3850583175509835,-0.3716158383803578,-0.6195146999634619,-0.996136086782592,-0.8444102927779795,-0.19276359031819187,0.08705580927796512,-0.3386322034460392,-0.6574543866595249,0.9478662810005158,-0.687885352767681,0.6015622856400247,0.25560908288184436,1.4082884056443346,-1.6772205012167196,0.5931670213401689,-0.20747584976568403,-1.042688109102613,0.3199247638241327,1.112879332773885,-0.6983477572766444,0.9909467462256175,-0.4702970722918106,0.3093044428150858,0.3442171189806224,0.40125331687981614,-0.9680466754947346,1.331024386460877,0.9700923553259135,0.14177352703313215,1.1490024377552774,-0.5259677383265647,-2.4786187225057223,2.075185652874105,-0.7934797710348597,-1.0812774636843718,1.33656414940059,1.167397360723972,0.922865585510867,0.07324989663541134,0.7157238614039628,-0.7484481402430851,0.48528402451312097,0.7511743146837414,0.4954149925198047,-1.11798381149081,0.29057128739668125,-1.3345464787750942,0.30198862771295165,0.707615903109009,1.6500185866666577,0.49276185597511885,-1.6571574050679154,-2.09094633959671,-0.3593627718648167,-1.6164724433213713,1.483388465917525,-0.25114671220587437,1.4662187742718724,-0.9062039290353936,-0.31360181319845404,0.9439194230341262,-0.12829533899369105,1.599093495914871,0.5583649783812819,-0.7561134141743251,-0.48882952610388714,-0.8669124668710848,-0.20869738384286052,-2.485808077029097,-1.0729464262607684,1.021856771895166,0.5857795865634028,0.8361142241220432,-1.048416757395772,-0.598914564611235,-1.1063945049183166,-0.9420740389395011,-1.5173258027035248,0.9807347509409816,1.5659650379880938,0.7249585649931194,-0.016215203047882022,-0.04401588783851069,2.0029297466320037,-1.2835695323754206,-0.9558328695916015],\"xaxis\":\"x14\",\"y\":[0.6285053069771211,-0.6422674141981904,0.0634065414695631,-0.201402449765595,-2.6474565882162757,0.6265434890066702,-1.9382483237147952,-0.32162316806583113,3.4624661592603942,1.3445984945414413,-0.17554664142011986,0.26262795117021503,2.0591321301455325,-0.4913943013347786,-1.139807932036039,-1.6958695678745266,-0.04000130876323166,1.0930715576453156,0.03805565004376671,2.3237405477198765,-1.099474750776804,0.3322415170042958,-0.6253652694816224,0.5643137167005545,-1.367285511433765,-0.8493451469168063,-1.7102637597838743,0.7122135177798964,-0.8348120685843194,-0.31127690877640213,0.27183877009540397,-0.9643422479683356,-1.191605116248042,-1.8149598907289821,-1.2031855070303434,-0.37111420727859884,-2.8305221116932366,0.7243165392074373,1.055587352116458,1.239324577800402,0.6573339689669813,0.09696536248035267,3.225530201379237,1.7735656183178174,0.25461358972815895,-1.0517399733379011,-0.3635969232943197,-1.2253357557287223,0.5923060728152107,-1.279752472638377,-0.6128659529842336,0.24504815354791581,0.7534178898831382,2.070512094883402,0.3940060871582593,1.4858158335189027,-0.8600609449415718,0.6213847128112033,0.5553075850486182,0.742383623660946,0.767215551936453,0.23817587790638547,-1.3012269615712475,1.08021842351989,0.9658551608356808,1.4230556281711535,0.3804284239839869,0.5712095351317064,0.6958612817349366,0.5641213581950402,-0.09067589440089023,0.644676122057003,-1.520122329434704,0.7402565312864682,1.548539687973651,-1.2885509385410618,-0.13845364979150812,0.8958051028459594,0.17563500440961954,-1.1332558956501393,0.6788627077454537,0.9880588825348897,0.6103628196031742,0.48507446741314536,0.41352006465908314,-0.21633682669954693,1.6616255124634403,0.23162794842808973,0.2931359941088242,-0.8097226200965799,0.7998522463526723,0.2863776827517364,-0.1499143781408709,1.1966437475941525,-0.46900231972356204,-1.2004271104989692,0.31394022384256876,-0.8525240262883761,1.2835914022049175,0.15110248242260002],\"yaxis\":\"y14\",\"type\":\"scatter\"},{\"line\":{\"color\":\"rgba(128, 128, 128, 1.0)\",\"dash\":\"solid\",\"shape\":\"linear\",\"width\":1.3},\"marker\":{\"size\":2,\"symbol\":\"circle\"},\"mode\":\"markers\",\"name\":\"D\",\"text\":\"\",\"x\":[1.1134386376161787,-2.455826285527071,-0.9694676341962923,0.7130937845990152,-0.4082405867670057,-0.07106854892748057,0.29139163128680484,2.018976050553426,-2.426317414108947,-0.004035309681510012,-0.5688147882523389,1.2629407017390235,-0.056305975400264864,0.36100143469611534,-0.6775203711829082,-1.1916617039595192,-0.972871563819841,-1.1112621243203964,1.7320034633454189,-0.8478154766785165,-0.45539581710595534,2.10346520629492,-0.13907150540989444,0.04861080087146654,-2.564263148769308,-0.866192598224841,0.4891568617785788,1.0873970476750394,-0.18403764028888853,-0.1308663906545661,-0.28722000428881633,0.19840445734468734,-1.3009449684348904,-1.020091829408598,0.7387474831633447,0.19530536968376824,0.305383648263475,0.5797230543066278,0.4132055339672769,1.453165943930631,0.6738678698851303,1.2226808787214014,0.6099679322239068,0.0740870912806088,-1.2268367132161608,-0.3765866256593109,-0.8586237274089062,-1.4745636001090636,0.004608913554882749,-1.5289911287850926,-0.0465266419574453,-1.1117787124739829,0.3223837211493439,-0.7552722366390408,0.8752514886480032,1.0317230314868404,0.34616375944781325,-0.6551546404379297,0.3748294539863184,0.26460756409907765,1.2753158942553013,1.429845155534673,0.9508787491396822,0.07766733197880335,0.8514355614528256,0.3643160536653477,0.026335475115136356,0.7572998652599572,0.654042593554938,-1.8635945931004145,-1.3509614906487808,-0.5557091199465339,-0.4837150069088515,0.149347522183448,0.521279863811876,-0.1194141399337346,-0.4696545362675223,1.2560400763884412,-2.1289711422547986,-0.160846246930171,0.4845535388818226,0.20138949066785197,-0.38384316975121735,-0.8512900037498121,-0.22834122092072281,1.1889175170227522,-1.463630068002194,-0.9212060946063361,-0.34852257416333243,0.3862885438150903,0.22601878054759733,-1.2581306385539595,-1.1047097199780325,0.4427412253540972,-0.7624479813161561,-1.2941034696647962,1.5529727634412616,-0.5691920578956647,-0.32897418925340655,-0.2583816056393063],\"xaxis\":\"x15\",\"y\":[0.6285053069771211,-0.6422674141981904,0.0634065414695631,-0.201402449765595,-2.6474565882162757,0.6265434890066702,-1.9382483237147952,-0.32162316806583113,3.4624661592603942,1.3445984945414413,-0.17554664142011986,0.26262795117021503,2.0591321301455325,-0.4913943013347786,-1.139807932036039,-1.6958695678745266,-0.04000130876323166,1.0930715576453156,0.03805565004376671,2.3237405477198765,-1.099474750776804,0.3322415170042958,-0.6253652694816224,0.5643137167005545,-1.367285511433765,-0.8493451469168063,-1.7102637597838743,0.7122135177798964,-0.8348120685843194,-0.31127690877640213,0.27183877009540397,-0.9643422479683356,-1.191605116248042,-1.8149598907289821,-1.2031855070303434,-0.37111420727859884,-2.8305221116932366,0.7243165392074373,1.055587352116458,1.239324577800402,0.6573339689669813,0.09696536248035267,3.225530201379237,1.7735656183178174,0.25461358972815895,-1.0517399733379011,-0.3635969232943197,-1.2253357557287223,0.5923060728152107,-1.279752472638377,-0.6128659529842336,0.24504815354791581,0.7534178898831382,2.070512094883402,0.3940060871582593,1.4858158335189027,-0.8600609449415718,0.6213847128112033,0.5553075850486182,0.742383623660946,0.767215551936453,0.23817587790638547,-1.3012269615712475,1.08021842351989,0.9658551608356808,1.4230556281711535,0.3804284239839869,0.5712095351317064,0.6958612817349366,0.5641213581950402,-0.09067589440089023,0.644676122057003,-1.520122329434704,0.7402565312864682,1.548539687973651,-1.2885509385410618,-0.13845364979150812,0.8958051028459594,0.17563500440961954,-1.1332558956501393,0.6788627077454537,0.9880588825348897,0.6103628196031742,0.48507446741314536,0.41352006465908314,-0.21633682669954693,1.6616255124634403,0.23162794842808973,0.2931359941088242,-0.8097226200965799,0.7998522463526723,0.2863776827517364,-0.1499143781408709,1.1966437475941525,-0.46900231972356204,-1.2004271104989692,0.31394022384256876,-0.8525240262883761,1.2835914022049175,0.15110248242260002],\"yaxis\":\"y15\",\"type\":\"scatter\"},{\"histfunc\":\"count\",\"histnorm\":\"\",\"marker\":{\"color\":\"rgba(128, 0, 128, 1.0)\",\"line\":{\"color\":\"#4D5663\",\"width\":1.3}},\"name\":\"D\",\"nbinsx\":10,\"opacity\":0.8,\"orientation\":\"v\",\"x\":[0.6285053069771211,-0.6422674141981904,0.0634065414695631,-0.201402449765595,-2.6474565882162757,0.6265434890066702,-1.9382483237147952,-0.32162316806583113,3.4624661592603942,1.3445984945414413,-0.17554664142011986,0.26262795117021503,2.0591321301455325,-0.4913943013347786,-1.139807932036039,-1.6958695678745266,-0.04000130876323166,1.0930715576453156,0.03805565004376671,2.3237405477198765,-1.099474750776804,0.3322415170042958,-0.6253652694816224,0.5643137167005545,-1.367285511433765,-0.8493451469168063,-1.7102637597838743,0.7122135177798964,-0.8348120685843194,-0.31127690877640213,0.27183877009540397,-0.9643422479683356,-1.191605116248042,-1.8149598907289821,-1.2031855070303434,-0.37111420727859884,-2.8305221116932366,0.7243165392074373,1.055587352116458,1.239324577800402,0.6573339689669813,0.09696536248035267,3.225530201379237,1.7735656183178174,0.25461358972815895,-1.0517399733379011,-0.3635969232943197,-1.2253357557287223,0.5923060728152107,-1.279752472638377,-0.6128659529842336,0.24504815354791581,0.7534178898831382,2.070512094883402,0.3940060871582593,1.4858158335189027,-0.8600609449415718,0.6213847128112033,0.5553075850486182,0.742383623660946,0.767215551936453,0.23817587790638547,-1.3012269615712475,1.08021842351989,0.9658551608356808,1.4230556281711535,0.3804284239839869,0.5712095351317064,0.6958612817349366,0.5641213581950402,-0.09067589440089023,0.644676122057003,-1.520122329434704,0.7402565312864682,1.548539687973651,-1.2885509385410618,-0.13845364979150812,0.8958051028459594,0.17563500440961954,-1.1332558956501393,0.6788627077454537,0.9880588825348897,0.6103628196031742,0.48507446741314536,0.41352006465908314,-0.21633682669954693,1.6616255124634403,0.23162794842808973,0.2931359941088242,-0.8097226200965799,0.7998522463526723,0.2863776827517364,-0.1499143781408709,1.1966437475941525,-0.46900231972356204,-1.2004271104989692,0.31394022384256876,-0.8525240262883761,1.2835914022049175,0.15110248242260002],\"xaxis\":\"x16\",\"yaxis\":\"y16\",\"type\":\"histogram\"}],                        {\"bargap\":0.02,\"legend\":{\"bgcolor\":\"#F5F6F9\",\"font\":{\"color\":\"#4D5663\"}},\"paper_bgcolor\":\"#F5F6F9\",\"plot_bgcolor\":\"#F5F6F9\",\"showlegend\":false,\"template\":{\"data\":{\"barpolar\":[{\"marker\":{\"line\":{\"color\":\"#E5ECF6\",\"width\":0.5},\"pattern\":{\"fillmode\":\"overlay\",\"size\":10,\"solidity\":0.2}},\"type\":\"barpolar\"}],\"bar\":[{\"error_x\":{\"color\":\"#2a3f5f\"},\"error_y\":{\"color\":\"#2a3f5f\"},\"marker\":{\"line\":{\"color\":\"#E5ECF6\",\"width\":0.5},\"pattern\":{\"fillmode\":\"overlay\",\"size\":10,\"solidity\":0.2}},\"type\":\"bar\"}],\"carpet\":[{\"aaxis\":{\"endlinecolor\":\"#2a3f5f\",\"gridcolor\":\"white\",\"linecolor\":\"white\",\"minorgridcolor\":\"white\",\"startlinecolor\":\"#2a3f5f\"},\"baxis\":{\"endlinecolor\":\"#2a3f5f\",\"gridcolor\":\"white\",\"linecolor\":\"white\",\"minorgridcolor\":\"white\",\"startlinecolor\":\"#2a3f5f\"},\"type\":\"carpet\"}],\"choropleth\":[{\"colorbar\":{\"outlinewidth\":0,\"ticks\":\"\"},\"type\":\"choropleth\"}],\"contourcarpet\":[{\"colorbar\":{\"outlinewidth\":0,\"ticks\":\"\"},\"type\":\"contourcarpet\"}],\"contour\":[{\"colorbar\":{\"outlinewidth\":0,\"ticks\":\"\"},\"colorscale\":[[0.0,\"#0d0887\"],[0.1111111111111111,\"#46039f\"],[0.2222222222222222,\"#7201a8\"],[0.3333333333333333,\"#9c179e\"],[0.4444444444444444,\"#bd3786\"],[0.5555555555555556,\"#d8576b\"],[0.6666666666666666,\"#ed7953\"],[0.7777777777777778,\"#fb9f3a\"],[0.8888888888888888,\"#fdca26\"],[1.0,\"#f0f921\"]],\"type\":\"contour\"}],\"heatmapgl\":[{\"colorbar\":{\"outlinewidth\":0,\"ticks\":\"\"},\"colorscale\":[[0.0,\"#0d0887\"],[0.1111111111111111,\"#46039f\"],[0.2222222222222222,\"#7201a8\"],[0.3333333333333333,\"#9c179e\"],[0.4444444444444444,\"#bd3786\"],[0.5555555555555556,\"#d8576b\"],[0.6666666666666666,\"#ed7953\"],[0.7777777777777778,\"#fb9f3a\"],[0.8888888888888888,\"#fdca26\"],[1.0,\"#f0f921\"]],\"type\":\"heatmapgl\"}],\"heatmap\":[{\"colorbar\":{\"outlinewidth\":0,\"ticks\":\"\"},\"colorscale\":[[0.0,\"#0d0887\"],[0.1111111111111111,\"#46039f\"],[0.2222222222222222,\"#7201a8\"],[0.3333333333333333,\"#9c179e\"],[0.4444444444444444,\"#bd3786\"],[0.5555555555555556,\"#d8576b\"],[0.6666666666666666,\"#ed7953\"],[0.7777777777777778,\"#fb9f3a\"],[0.8888888888888888,\"#fdca26\"],[1.0,\"#f0f921\"]],\"type\":\"heatmap\"}],\"histogram2dcontour\":[{\"colorbar\":{\"outlinewidth\":0,\"ticks\":\"\"},\"colorscale\":[[0.0,\"#0d0887\"],[0.1111111111111111,\"#46039f\"],[0.2222222222222222,\"#7201a8\"],[0.3333333333333333,\"#9c179e\"],[0.4444444444444444,\"#bd3786\"],[0.5555555555555556,\"#d8576b\"],[0.6666666666666666,\"#ed7953\"],[0.7777777777777778,\"#fb9f3a\"],[0.8888888888888888,\"#fdca26\"],[1.0,\"#f0f921\"]],\"type\":\"histogram2dcontour\"}],\"histogram2d\":[{\"colorbar\":{\"outlinewidth\":0,\"ticks\":\"\"},\"colorscale\":[[0.0,\"#0d0887\"],[0.1111111111111111,\"#46039f\"],[0.2222222222222222,\"#7201a8\"],[0.3333333333333333,\"#9c179e\"],[0.4444444444444444,\"#bd3786\"],[0.5555555555555556,\"#d8576b\"],[0.6666666666666666,\"#ed7953\"],[0.7777777777777778,\"#fb9f3a\"],[0.8888888888888888,\"#fdca26\"],[1.0,\"#f0f921\"]],\"type\":\"histogram2d\"}],\"histogram\":[{\"marker\":{\"pattern\":{\"fillmode\":\"overlay\",\"size\":10,\"solidity\":0.2}},\"type\":\"histogram\"}],\"mesh3d\":[{\"colorbar\":{\"outlinewidth\":0,\"ticks\":\"\"},\"type\":\"mesh3d\"}],\"parcoords\":[{\"line\":{\"colorbar\":{\"outlinewidth\":0,\"ticks\":\"\"}},\"type\":\"parcoords\"}],\"pie\":[{\"automargin\":true,\"type\":\"pie\"}],\"scatter3d\":[{\"line\":{\"colorbar\":{\"outlinewidth\":0,\"ticks\":\"\"}},\"marker\":{\"colorbar\":{\"outlinewidth\":0,\"ticks\":\"\"}},\"type\":\"scatter3d\"}],\"scattercarpet\":[{\"marker\":{\"colorbar\":{\"outlinewidth\":0,\"ticks\":\"\"}},\"type\":\"scattercarpet\"}],\"scattergeo\":[{\"marker\":{\"colorbar\":{\"outlinewidth\":0,\"ticks\":\"\"}},\"type\":\"scattergeo\"}],\"scattergl\":[{\"marker\":{\"colorbar\":{\"outlinewidth\":0,\"ticks\":\"\"}},\"type\":\"scattergl\"}],\"scattermapbox\":[{\"marker\":{\"colorbar\":{\"outlinewidth\":0,\"ticks\":\"\"}},\"type\":\"scattermapbox\"}],\"scatterpolargl\":[{\"marker\":{\"colorbar\":{\"outlinewidth\":0,\"ticks\":\"\"}},\"type\":\"scatterpolargl\"}],\"scatterpolar\":[{\"marker\":{\"colorbar\":{\"outlinewidth\":0,\"ticks\":\"\"}},\"type\":\"scatterpolar\"}],\"scatter\":[{\"fillpattern\":{\"fillmode\":\"overlay\",\"size\":10,\"solidity\":0.2},\"type\":\"scatter\"}],\"scatterternary\":[{\"marker\":{\"colorbar\":{\"outlinewidth\":0,\"ticks\":\"\"}},\"type\":\"scatterternary\"}],\"surface\":[{\"colorbar\":{\"outlinewidth\":0,\"ticks\":\"\"},\"colorscale\":[[0.0,\"#0d0887\"],[0.1111111111111111,\"#46039f\"],[0.2222222222222222,\"#7201a8\"],[0.3333333333333333,\"#9c179e\"],[0.4444444444444444,\"#bd3786\"],[0.5555555555555556,\"#d8576b\"],[0.6666666666666666,\"#ed7953\"],[0.7777777777777778,\"#fb9f3a\"],[0.8888888888888888,\"#fdca26\"],[1.0,\"#f0f921\"]],\"type\":\"surface\"}],\"table\":[{\"cells\":{\"fill\":{\"color\":\"#EBF0F8\"},\"line\":{\"color\":\"white\"}},\"header\":{\"fill\":{\"color\":\"#C8D4E3\"},\"line\":{\"color\":\"white\"}},\"type\":\"table\"}]},\"layout\":{\"annotationdefaults\":{\"arrowcolor\":\"#2a3f5f\",\"arrowhead\":0,\"arrowwidth\":1},\"autotypenumbers\":\"strict\",\"coloraxis\":{\"colorbar\":{\"outlinewidth\":0,\"ticks\":\"\"}},\"colorscale\":{\"diverging\":[[0,\"#8e0152\"],[0.1,\"#c51b7d\"],[0.2,\"#de77ae\"],[0.3,\"#f1b6da\"],[0.4,\"#fde0ef\"],[0.5,\"#f7f7f7\"],[0.6,\"#e6f5d0\"],[0.7,\"#b8e186\"],[0.8,\"#7fbc41\"],[0.9,\"#4d9221\"],[1,\"#276419\"]],\"sequential\":[[0.0,\"#0d0887\"],[0.1111111111111111,\"#46039f\"],[0.2222222222222222,\"#7201a8\"],[0.3333333333333333,\"#9c179e\"],[0.4444444444444444,\"#bd3786\"],[0.5555555555555556,\"#d8576b\"],[0.6666666666666666,\"#ed7953\"],[0.7777777777777778,\"#fb9f3a\"],[0.8888888888888888,\"#fdca26\"],[1.0,\"#f0f921\"]],\"sequentialminus\":[[0.0,\"#0d0887\"],[0.1111111111111111,\"#46039f\"],[0.2222222222222222,\"#7201a8\"],[0.3333333333333333,\"#9c179e\"],[0.4444444444444444,\"#bd3786\"],[0.5555555555555556,\"#d8576b\"],[0.6666666666666666,\"#ed7953\"],[0.7777777777777778,\"#fb9f3a\"],[0.8888888888888888,\"#fdca26\"],[1.0,\"#f0f921\"]]},\"colorway\":[\"#636efa\",\"#EF553B\",\"#00cc96\",\"#ab63fa\",\"#FFA15A\",\"#19d3f3\",\"#FF6692\",\"#B6E880\",\"#FF97FF\",\"#FECB52\"],\"font\":{\"color\":\"#2a3f5f\"},\"geo\":{\"bgcolor\":\"white\",\"lakecolor\":\"white\",\"landcolor\":\"#E5ECF6\",\"showlakes\":true,\"showland\":true,\"subunitcolor\":\"white\"},\"hoverlabel\":{\"align\":\"left\"},\"hovermode\":\"closest\",\"mapbox\":{\"style\":\"light\"},\"paper_bgcolor\":\"white\",\"plot_bgcolor\":\"#E5ECF6\",\"polar\":{\"angularaxis\":{\"gridcolor\":\"white\",\"linecolor\":\"white\",\"ticks\":\"\"},\"bgcolor\":\"#E5ECF6\",\"radialaxis\":{\"gridcolor\":\"white\",\"linecolor\":\"white\",\"ticks\":\"\"}},\"scene\":{\"xaxis\":{\"backgroundcolor\":\"#E5ECF6\",\"gridcolor\":\"white\",\"gridwidth\":2,\"linecolor\":\"white\",\"showbackground\":true,\"ticks\":\"\",\"zerolinecolor\":\"white\"},\"yaxis\":{\"backgroundcolor\":\"#E5ECF6\",\"gridcolor\":\"white\",\"gridwidth\":2,\"linecolor\":\"white\",\"showbackground\":true,\"ticks\":\"\",\"zerolinecolor\":\"white\"},\"zaxis\":{\"backgroundcolor\":\"#E5ECF6\",\"gridcolor\":\"white\",\"gridwidth\":2,\"linecolor\":\"white\",\"showbackground\":true,\"ticks\":\"\",\"zerolinecolor\":\"white\"}},\"shapedefaults\":{\"line\":{\"color\":\"#2a3f5f\"}},\"ternary\":{\"aaxis\":{\"gridcolor\":\"white\",\"linecolor\":\"white\",\"ticks\":\"\"},\"baxis\":{\"gridcolor\":\"white\",\"linecolor\":\"white\",\"ticks\":\"\"},\"bgcolor\":\"#E5ECF6\",\"caxis\":{\"gridcolor\":\"white\",\"linecolor\":\"white\",\"ticks\":\"\"}},\"title\":{\"x\":0.05},\"xaxis\":{\"automargin\":true,\"gridcolor\":\"white\",\"linecolor\":\"white\",\"ticks\":\"\",\"title\":{\"standoff\":15},\"zerolinecolor\":\"white\",\"zerolinewidth\":2},\"yaxis\":{\"automargin\":true,\"gridcolor\":\"white\",\"linecolor\":\"white\",\"ticks\":\"\",\"title\":{\"standoff\":15},\"zerolinecolor\":\"white\",\"zerolinewidth\":2}}},\"title\":{\"font\":{\"color\":\"#4D5663\"}},\"xaxis\":{\"anchor\":\"y\",\"domain\":[0.0,0.2125],\"gridcolor\":\"#E1E5ED\",\"showgrid\":false,\"tickfont\":{\"color\":\"#4D5663\"},\"title\":{\"font\":{\"color\":\"#4D5663\"},\"text\":\"\"},\"zerolinecolor\":\"#E1E5ED\"},\"yaxis\":{\"anchor\":\"x\",\"domain\":[0.8025,1.0],\"gridcolor\":\"#E1E5ED\",\"showgrid\":false,\"tickfont\":{\"color\":\"#4D5663\"},\"title\":{\"font\":{\"color\":\"#4D5663\"},\"text\":\"\"},\"zerolinecolor\":\"#E1E5ED\"},\"xaxis2\":{\"anchor\":\"y2\",\"domain\":[0.2625,0.475],\"gridcolor\":\"#E1E5ED\",\"showgrid\":false,\"tickfont\":{\"color\":\"#4D5663\"},\"title\":{\"font\":{\"color\":\"#4D5663\"},\"text\":\"\"},\"zerolinecolor\":\"#E1E5ED\"},\"yaxis2\":{\"anchor\":\"x2\",\"domain\":[0.8025,1.0],\"gridcolor\":\"#E1E5ED\",\"showgrid\":false,\"tickfont\":{\"color\":\"#4D5663\"},\"title\":{\"font\":{\"color\":\"#4D5663\"},\"text\":\"\"},\"zerolinecolor\":\"#E1E5ED\"},\"xaxis3\":{\"anchor\":\"y3\",\"domain\":[0.525,0.7375],\"gridcolor\":\"#E1E5ED\",\"showgrid\":false,\"tickfont\":{\"color\":\"#4D5663\"},\"title\":{\"font\":{\"color\":\"#4D5663\"},\"text\":\"\"},\"zerolinecolor\":\"#E1E5ED\"},\"yaxis3\":{\"anchor\":\"x3\",\"domain\":[0.8025,1.0],\"gridcolor\":\"#E1E5ED\",\"showgrid\":false,\"tickfont\":{\"color\":\"#4D5663\"},\"title\":{\"font\":{\"color\":\"#4D5663\"},\"text\":\"\"},\"zerolinecolor\":\"#E1E5ED\"},\"xaxis4\":{\"anchor\":\"y4\",\"domain\":[0.7875,1.0],\"gridcolor\":\"#E1E5ED\",\"showgrid\":false,\"tickfont\":{\"color\":\"#4D5663\"},\"title\":{\"font\":{\"color\":\"#4D5663\"},\"text\":\"\"},\"zerolinecolor\":\"#E1E5ED\"},\"yaxis4\":{\"anchor\":\"x4\",\"domain\":[0.8025,1.0],\"gridcolor\":\"#E1E5ED\",\"showgrid\":false,\"tickfont\":{\"color\":\"#4D5663\"},\"title\":{\"font\":{\"color\":\"#4D5663\"},\"text\":\"\"},\"zerolinecolor\":\"#E1E5ED\"},\"xaxis5\":{\"anchor\":\"y5\",\"domain\":[0.0,0.2125],\"gridcolor\":\"#E1E5ED\",\"showgrid\":false,\"tickfont\":{\"color\":\"#4D5663\"},\"title\":{\"font\":{\"color\":\"#4D5663\"},\"text\":\"\"},\"zerolinecolor\":\"#E1E5ED\"},\"yaxis5\":{\"anchor\":\"x5\",\"domain\":[0.535,0.7325],\"gridcolor\":\"#E1E5ED\",\"showgrid\":false,\"tickfont\":{\"color\":\"#4D5663\"},\"title\":{\"font\":{\"color\":\"#4D5663\"},\"text\":\"\"},\"zerolinecolor\":\"#E1E5ED\"},\"xaxis6\":{\"anchor\":\"y6\",\"domain\":[0.2625,0.475],\"gridcolor\":\"#E1E5ED\",\"showgrid\":false,\"tickfont\":{\"color\":\"#4D5663\"},\"title\":{\"font\":{\"color\":\"#4D5663\"},\"text\":\"\"},\"zerolinecolor\":\"#E1E5ED\"},\"yaxis6\":{\"anchor\":\"x6\",\"domain\":[0.535,0.7325],\"gridcolor\":\"#E1E5ED\",\"showgrid\":false,\"tickfont\":{\"color\":\"#4D5663\"},\"title\":{\"font\":{\"color\":\"#4D5663\"},\"text\":\"\"},\"zerolinecolor\":\"#E1E5ED\"},\"xaxis7\":{\"anchor\":\"y7\",\"domain\":[0.525,0.7375],\"gridcolor\":\"#E1E5ED\",\"showgrid\":false,\"tickfont\":{\"color\":\"#4D5663\"},\"title\":{\"font\":{\"color\":\"#4D5663\"},\"text\":\"\"},\"zerolinecolor\":\"#E1E5ED\"},\"yaxis7\":{\"anchor\":\"x7\",\"domain\":[0.535,0.7325],\"gridcolor\":\"#E1E5ED\",\"showgrid\":false,\"tickfont\":{\"color\":\"#4D5663\"},\"title\":{\"font\":{\"color\":\"#4D5663\"},\"text\":\"\"},\"zerolinecolor\":\"#E1E5ED\"},\"xaxis8\":{\"anchor\":\"y8\",\"domain\":[0.7875,1.0],\"gridcolor\":\"#E1E5ED\",\"showgrid\":false,\"tickfont\":{\"color\":\"#4D5663\"},\"title\":{\"font\":{\"color\":\"#4D5663\"},\"text\":\"\"},\"zerolinecolor\":\"#E1E5ED\"},\"yaxis8\":{\"anchor\":\"x8\",\"domain\":[0.535,0.7325],\"gridcolor\":\"#E1E5ED\",\"showgrid\":false,\"tickfont\":{\"color\":\"#4D5663\"},\"title\":{\"font\":{\"color\":\"#4D5663\"},\"text\":\"\"},\"zerolinecolor\":\"#E1E5ED\"},\"xaxis9\":{\"anchor\":\"y9\",\"domain\":[0.0,0.2125],\"gridcolor\":\"#E1E5ED\",\"showgrid\":false,\"tickfont\":{\"color\":\"#4D5663\"},\"title\":{\"font\":{\"color\":\"#4D5663\"},\"text\":\"\"},\"zerolinecolor\":\"#E1E5ED\"},\"yaxis9\":{\"anchor\":\"x9\",\"domain\":[0.2675,0.465],\"gridcolor\":\"#E1E5ED\",\"showgrid\":false,\"tickfont\":{\"color\":\"#4D5663\"},\"title\":{\"font\":{\"color\":\"#4D5663\"},\"text\":\"\"},\"zerolinecolor\":\"#E1E5ED\"},\"xaxis10\":{\"anchor\":\"y10\",\"domain\":[0.2625,0.475],\"gridcolor\":\"#E1E5ED\",\"showgrid\":false,\"tickfont\":{\"color\":\"#4D5663\"},\"title\":{\"font\":{\"color\":\"#4D5663\"},\"text\":\"\"},\"zerolinecolor\":\"#E1E5ED\"},\"yaxis10\":{\"anchor\":\"x10\",\"domain\":[0.2675,0.465],\"gridcolor\":\"#E1E5ED\",\"showgrid\":false,\"tickfont\":{\"color\":\"#4D5663\"},\"title\":{\"font\":{\"color\":\"#4D5663\"},\"text\":\"\"},\"zerolinecolor\":\"#E1E5ED\"},\"xaxis11\":{\"anchor\":\"y11\",\"domain\":[0.525,0.7375],\"gridcolor\":\"#E1E5ED\",\"showgrid\":false,\"tickfont\":{\"color\":\"#4D5663\"},\"title\":{\"font\":{\"color\":\"#4D5663\"},\"text\":\"\"},\"zerolinecolor\":\"#E1E5ED\"},\"yaxis11\":{\"anchor\":\"x11\",\"domain\":[0.2675,0.465],\"gridcolor\":\"#E1E5ED\",\"showgrid\":false,\"tickfont\":{\"color\":\"#4D5663\"},\"title\":{\"font\":{\"color\":\"#4D5663\"},\"text\":\"\"},\"zerolinecolor\":\"#E1E5ED\"},\"xaxis12\":{\"anchor\":\"y12\",\"domain\":[0.7875,1.0],\"gridcolor\":\"#E1E5ED\",\"showgrid\":false,\"tickfont\":{\"color\":\"#4D5663\"},\"title\":{\"font\":{\"color\":\"#4D5663\"},\"text\":\"\"},\"zerolinecolor\":\"#E1E5ED\"},\"yaxis12\":{\"anchor\":\"x12\",\"domain\":[0.2675,0.465],\"gridcolor\":\"#E1E5ED\",\"showgrid\":false,\"tickfont\":{\"color\":\"#4D5663\"},\"title\":{\"font\":{\"color\":\"#4D5663\"},\"text\":\"\"},\"zerolinecolor\":\"#E1E5ED\"},\"xaxis13\":{\"anchor\":\"y13\",\"domain\":[0.0,0.2125],\"gridcolor\":\"#E1E5ED\",\"showgrid\":false,\"tickfont\":{\"color\":\"#4D5663\"},\"title\":{\"font\":{\"color\":\"#4D5663\"},\"text\":\"\"},\"zerolinecolor\":\"#E1E5ED\"},\"yaxis13\":{\"anchor\":\"x13\",\"domain\":[0.0,0.1975],\"gridcolor\":\"#E1E5ED\",\"showgrid\":false,\"tickfont\":{\"color\":\"#4D5663\"},\"title\":{\"font\":{\"color\":\"#4D5663\"},\"text\":\"\"},\"zerolinecolor\":\"#E1E5ED\"},\"xaxis14\":{\"anchor\":\"y14\",\"domain\":[0.2625,0.475],\"gridcolor\":\"#E1E5ED\",\"showgrid\":false,\"tickfont\":{\"color\":\"#4D5663\"},\"title\":{\"font\":{\"color\":\"#4D5663\"},\"text\":\"\"},\"zerolinecolor\":\"#E1E5ED\"},\"yaxis14\":{\"anchor\":\"x14\",\"domain\":[0.0,0.1975],\"gridcolor\":\"#E1E5ED\",\"showgrid\":false,\"tickfont\":{\"color\":\"#4D5663\"},\"title\":{\"font\":{\"color\":\"#4D5663\"},\"text\":\"\"},\"zerolinecolor\":\"#E1E5ED\"},\"xaxis15\":{\"anchor\":\"y15\",\"domain\":[0.525,0.7375],\"gridcolor\":\"#E1E5ED\",\"showgrid\":false,\"tickfont\":{\"color\":\"#4D5663\"},\"title\":{\"font\":{\"color\":\"#4D5663\"},\"text\":\"\"},\"zerolinecolor\":\"#E1E5ED\"},\"yaxis15\":{\"anchor\":\"x15\",\"domain\":[0.0,0.1975],\"gridcolor\":\"#E1E5ED\",\"showgrid\":false,\"tickfont\":{\"color\":\"#4D5663\"},\"title\":{\"font\":{\"color\":\"#4D5663\"},\"text\":\"\"},\"zerolinecolor\":\"#E1E5ED\"},\"xaxis16\":{\"anchor\":\"y16\",\"domain\":[0.7875,1.0],\"gridcolor\":\"#E1E5ED\",\"showgrid\":false,\"tickfont\":{\"color\":\"#4D5663\"},\"title\":{\"font\":{\"color\":\"#4D5663\"},\"text\":\"\"},\"zerolinecolor\":\"#E1E5ED\"},\"yaxis16\":{\"anchor\":\"x16\",\"domain\":[0.0,0.1975],\"gridcolor\":\"#E1E5ED\",\"showgrid\":false,\"tickfont\":{\"color\":\"#4D5663\"},\"title\":{\"font\":{\"color\":\"#4D5663\"},\"text\":\"\"},\"zerolinecolor\":\"#E1E5ED\"}},                        {\"showLink\": true, \"linkText\": \"Export to plot.ly\", \"plotlyServerURL\": \"https://plot.ly\", \"responsive\": true}                    ).then(function(){\n",
       "                            \n",
       "var gd = document.getElementById('2a313d3c-8cda-47d1-af18-d24dbff0e31a');\n",
       "var x = new MutationObserver(function (mutations, observer) {{\n",
       "        var display = window.getComputedStyle(gd).display;\n",
       "        if (!display || display === 'none') {{\n",
       "            console.log([gd, 'removed!']);\n",
       "            Plotly.purge(gd);\n",
       "            observer.disconnect();\n",
       "        }}\n",
       "}});\n",
       "\n",
       "// Listen for the removal of the full notebook cells\n",
       "var notebookContainer = gd.closest('#notebook-container');\n",
       "if (notebookContainer) {{\n",
       "    x.observe(notebookContainer, {childList: true});\n",
       "}}\n",
       "\n",
       "// Listen for the clearing of the current output cell\n",
       "var outputEl = gd.closest('.output');\n",
       "if (outputEl) {{\n",
       "    x.observe(outputEl, {childList: true});\n",
       "}}\n",
       "\n",
       "                        })                };                });            </script>        </div>"
      ]
     },
     "metadata": {},
     "output_type": "display_data"
    }
   ],
   "source": [
    "df.scatter_matrix()"
   ]
  },
  {
   "cell_type": "code",
   "execution_count": null,
   "id": "f42f8551",
   "metadata": {},
   "outputs": [],
   "source": []
  }
 ],
 "metadata": {
  "kernelspec": {
   "display_name": "Python 3 (ipykernel)",
   "language": "python",
   "name": "python3"
  },
  "language_info": {
   "codemirror_mode": {
    "name": "ipython",
    "version": 3
   },
   "file_extension": ".py",
   "mimetype": "text/x-python",
   "name": "python",
   "nbconvert_exporter": "python",
   "pygments_lexer": "ipython3",
   "version": "3.9.7"
  }
 },
 "nbformat": 4,
 "nbformat_minor": 5
}
