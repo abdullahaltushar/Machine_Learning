{
 "cells": [
  {
   "cell_type": "code",
   "execution_count": 1,
   "id": "47c8b8e5",
   "metadata": {},
   "outputs": [],
   "source": [
    "# import library \n",
    "import pandas as pd\n",
    "import numpy as np\n",
    "from sklearn import linear_model\n",
    "import matplotlib.pyplot as plt\n",
    "from sklearn.model_selection import train_test_split\n",
    "from sklearn.metrics import r2_score"
   ]
  },
  {
   "cell_type": "code",
   "execution_count": 2,
   "id": "0e2353fd",
   "metadata": {},
   "outputs": [],
   "source": [
    "data=pd.read_csv(\"sale.csv\")"
   ]
  },
  {
   "cell_type": "code",
   "execution_count": 3,
   "id": "baf804c1",
   "metadata": {},
   "outputs": [
    {
     "data": {
      "text/html": [
       "<div>\n",
       "<style scoped>\n",
       "    .dataframe tbody tr th:only-of-type {\n",
       "        vertical-align: middle;\n",
       "    }\n",
       "\n",
       "    .dataframe tbody tr th {\n",
       "        vertical-align: top;\n",
       "    }\n",
       "\n",
       "    .dataframe thead th {\n",
       "        text-align: right;\n",
       "    }\n",
       "</style>\n",
       "<table border=\"1\" class=\"dataframe\">\n",
       "  <thead>\n",
       "    <tr style=\"text-align: right;\">\n",
       "      <th></th>\n",
       "      <th>Unnamed: 0</th>\n",
       "      <th>Brand</th>\n",
       "      <th>Year</th>\n",
       "      <th>months</th>\n",
       "      <th>days</th>\n",
       "      <th>Qty</th>\n",
       "      <th>Rate</th>\n",
       "      <th>Amount</th>\n",
       "    </tr>\n",
       "  </thead>\n",
       "  <tbody>\n",
       "    <tr>\n",
       "      <th>0</th>\n",
       "      <td>0</td>\n",
       "      <td>27</td>\n",
       "      <td>2018</td>\n",
       "      <td>9</td>\n",
       "      <td>3</td>\n",
       "      <td>50</td>\n",
       "      <td>1500.0</td>\n",
       "      <td>75000.0</td>\n",
       "    </tr>\n",
       "    <tr>\n",
       "      <th>1</th>\n",
       "      <td>1</td>\n",
       "      <td>76</td>\n",
       "      <td>2018</td>\n",
       "      <td>9</td>\n",
       "      <td>3</td>\n",
       "      <td>60</td>\n",
       "      <td>1500.0</td>\n",
       "      <td>90000.0</td>\n",
       "    </tr>\n",
       "    <tr>\n",
       "      <th>2</th>\n",
       "      <td>2</td>\n",
       "      <td>65</td>\n",
       "      <td>2018</td>\n",
       "      <td>9</td>\n",
       "      <td>3</td>\n",
       "      <td>20</td>\n",
       "      <td>1780.0</td>\n",
       "      <td>35600.0</td>\n",
       "    </tr>\n",
       "    <tr>\n",
       "      <th>3</th>\n",
       "      <td>3</td>\n",
       "      <td>57</td>\n",
       "      <td>2018</td>\n",
       "      <td>9</td>\n",
       "      <td>4</td>\n",
       "      <td>60</td>\n",
       "      <td>3250.0</td>\n",
       "      <td>195000.0</td>\n",
       "    </tr>\n",
       "    <tr>\n",
       "      <th>4</th>\n",
       "      <td>4</td>\n",
       "      <td>53</td>\n",
       "      <td>2018</td>\n",
       "      <td>9</td>\n",
       "      <td>4</td>\n",
       "      <td>200</td>\n",
       "      <td>1780.0</td>\n",
       "      <td>356000.0</td>\n",
       "    </tr>\n",
       "    <tr>\n",
       "      <th>...</th>\n",
       "      <td>...</td>\n",
       "      <td>...</td>\n",
       "      <td>...</td>\n",
       "      <td>...</td>\n",
       "      <td>...</td>\n",
       "      <td>...</td>\n",
       "      <td>...</td>\n",
       "      <td>...</td>\n",
       "    </tr>\n",
       "    <tr>\n",
       "      <th>17064</th>\n",
       "      <td>17064</td>\n",
       "      <td>28</td>\n",
       "      <td>2021</td>\n",
       "      <td>11</td>\n",
       "      <td>8</td>\n",
       "      <td>24</td>\n",
       "      <td>2270.0</td>\n",
       "      <td>54480.0</td>\n",
       "    </tr>\n",
       "    <tr>\n",
       "      <th>17065</th>\n",
       "      <td>17065</td>\n",
       "      <td>41</td>\n",
       "      <td>2021</td>\n",
       "      <td>11</td>\n",
       "      <td>8</td>\n",
       "      <td>28</td>\n",
       "      <td>2550.0</td>\n",
       "      <td>71400.0</td>\n",
       "    </tr>\n",
       "    <tr>\n",
       "      <th>17066</th>\n",
       "      <td>17066</td>\n",
       "      <td>9</td>\n",
       "      <td>2021</td>\n",
       "      <td>11</td>\n",
       "      <td>8</td>\n",
       "      <td>18</td>\n",
       "      <td>3200.0</td>\n",
       "      <td>57600.0</td>\n",
       "    </tr>\n",
       "    <tr>\n",
       "      <th>17067</th>\n",
       "      <td>17067</td>\n",
       "      <td>41</td>\n",
       "      <td>2021</td>\n",
       "      <td>11</td>\n",
       "      <td>8</td>\n",
       "      <td>21</td>\n",
       "      <td>2550.0</td>\n",
       "      <td>53550.0</td>\n",
       "    </tr>\n",
       "    <tr>\n",
       "      <th>17068</th>\n",
       "      <td>17068</td>\n",
       "      <td>28</td>\n",
       "      <td>2021</td>\n",
       "      <td>11</td>\n",
       "      <td>8</td>\n",
       "      <td>24</td>\n",
       "      <td>2250.0</td>\n",
       "      <td>54000.0</td>\n",
       "    </tr>\n",
       "  </tbody>\n",
       "</table>\n",
       "<p>17069 rows × 8 columns</p>\n",
       "</div>"
      ],
      "text/plain": [
       "       Unnamed: 0  Brand  Year  months  days  Qty    Rate    Amount\n",
       "0               0     27  2018       9     3   50  1500.0   75000.0\n",
       "1               1     76  2018       9     3   60  1500.0   90000.0\n",
       "2               2     65  2018       9     3   20  1780.0   35600.0\n",
       "3               3     57  2018       9     4   60  3250.0  195000.0\n",
       "4               4     53  2018       9     4  200  1780.0  356000.0\n",
       "...           ...    ...   ...     ...   ...  ...     ...       ...\n",
       "17064       17064     28  2021      11     8   24  2270.0   54480.0\n",
       "17065       17065     41  2021      11     8   28  2550.0   71400.0\n",
       "17066       17066      9  2021      11     8   18  3200.0   57600.0\n",
       "17067       17067     41  2021      11     8   21  2550.0   53550.0\n",
       "17068       17068     28  2021      11     8   24  2250.0   54000.0\n",
       "\n",
       "[17069 rows x 8 columns]"
      ]
     },
     "execution_count": 3,
     "metadata": {},
     "output_type": "execute_result"
    }
   ],
   "source": [
    "data"
   ]
  },
  {
   "cell_type": "code",
   "execution_count": 4,
   "id": "91c9f40f",
   "metadata": {},
   "outputs": [
    {
     "data": {
      "text/html": [
       "<div>\n",
       "<style scoped>\n",
       "    .dataframe tbody tr th:only-of-type {\n",
       "        vertical-align: middle;\n",
       "    }\n",
       "\n",
       "    .dataframe tbody tr th {\n",
       "        vertical-align: top;\n",
       "    }\n",
       "\n",
       "    .dataframe thead th {\n",
       "        text-align: right;\n",
       "    }\n",
       "</style>\n",
       "<table border=\"1\" class=\"dataframe\">\n",
       "  <thead>\n",
       "    <tr style=\"text-align: right;\">\n",
       "      <th></th>\n",
       "      <th>Unnamed: 0</th>\n",
       "      <th>Brand</th>\n",
       "      <th>Year</th>\n",
       "      <th>months</th>\n",
       "      <th>days</th>\n",
       "      <th>Qty</th>\n",
       "      <th>Rate</th>\n",
       "      <th>Amount</th>\n",
       "    </tr>\n",
       "  </thead>\n",
       "  <tbody>\n",
       "    <tr>\n",
       "      <th>0</th>\n",
       "      <td>0</td>\n",
       "      <td>27</td>\n",
       "      <td>2018</td>\n",
       "      <td>9</td>\n",
       "      <td>3</td>\n",
       "      <td>50</td>\n",
       "      <td>1500.0</td>\n",
       "      <td>75000.0</td>\n",
       "    </tr>\n",
       "    <tr>\n",
       "      <th>1</th>\n",
       "      <td>1</td>\n",
       "      <td>76</td>\n",
       "      <td>2018</td>\n",
       "      <td>9</td>\n",
       "      <td>3</td>\n",
       "      <td>60</td>\n",
       "      <td>1500.0</td>\n",
       "      <td>90000.0</td>\n",
       "    </tr>\n",
       "    <tr>\n",
       "      <th>2</th>\n",
       "      <td>2</td>\n",
       "      <td>65</td>\n",
       "      <td>2018</td>\n",
       "      <td>9</td>\n",
       "      <td>3</td>\n",
       "      <td>20</td>\n",
       "      <td>1780.0</td>\n",
       "      <td>35600.0</td>\n",
       "    </tr>\n",
       "    <tr>\n",
       "      <th>3</th>\n",
       "      <td>3</td>\n",
       "      <td>57</td>\n",
       "      <td>2018</td>\n",
       "      <td>9</td>\n",
       "      <td>4</td>\n",
       "      <td>60</td>\n",
       "      <td>3250.0</td>\n",
       "      <td>195000.0</td>\n",
       "    </tr>\n",
       "    <tr>\n",
       "      <th>4</th>\n",
       "      <td>4</td>\n",
       "      <td>53</td>\n",
       "      <td>2018</td>\n",
       "      <td>9</td>\n",
       "      <td>4</td>\n",
       "      <td>200</td>\n",
       "      <td>1780.0</td>\n",
       "      <td>356000.0</td>\n",
       "    </tr>\n",
       "    <tr>\n",
       "      <th>...</th>\n",
       "      <td>...</td>\n",
       "      <td>...</td>\n",
       "      <td>...</td>\n",
       "      <td>...</td>\n",
       "      <td>...</td>\n",
       "      <td>...</td>\n",
       "      <td>...</td>\n",
       "      <td>...</td>\n",
       "    </tr>\n",
       "    <tr>\n",
       "      <th>12805</th>\n",
       "      <td>12805</td>\n",
       "      <td>17</td>\n",
       "      <td>2020</td>\n",
       "      <td>12</td>\n",
       "      <td>31</td>\n",
       "      <td>35</td>\n",
       "      <td>2700.0</td>\n",
       "      <td>94500.0</td>\n",
       "    </tr>\n",
       "    <tr>\n",
       "      <th>12806</th>\n",
       "      <td>12806</td>\n",
       "      <td>71</td>\n",
       "      <td>2020</td>\n",
       "      <td>12</td>\n",
       "      <td>31</td>\n",
       "      <td>24</td>\n",
       "      <td>2400.0</td>\n",
       "      <td>57600.0</td>\n",
       "    </tr>\n",
       "    <tr>\n",
       "      <th>12807</th>\n",
       "      <td>12807</td>\n",
       "      <td>65</td>\n",
       "      <td>2020</td>\n",
       "      <td>12</td>\n",
       "      <td>31</td>\n",
       "      <td>50</td>\n",
       "      <td>1680.0</td>\n",
       "      <td>84000.0</td>\n",
       "    </tr>\n",
       "    <tr>\n",
       "      <th>12808</th>\n",
       "      <td>12808</td>\n",
       "      <td>17</td>\n",
       "      <td>2020</td>\n",
       "      <td>12</td>\n",
       "      <td>31</td>\n",
       "      <td>35</td>\n",
       "      <td>2700.0</td>\n",
       "      <td>94500.0</td>\n",
       "    </tr>\n",
       "    <tr>\n",
       "      <th>12809</th>\n",
       "      <td>12809</td>\n",
       "      <td>17</td>\n",
       "      <td>2021</td>\n",
       "      <td>1</td>\n",
       "      <td>2</td>\n",
       "      <td>42</td>\n",
       "      <td>2700.0</td>\n",
       "      <td>113400.0</td>\n",
       "    </tr>\n",
       "  </tbody>\n",
       "</table>\n",
       "<p>12810 rows × 8 columns</p>\n",
       "</div>"
      ],
      "text/plain": [
       "       Unnamed: 0  Brand  Year  months  days  Qty    Rate    Amount\n",
       "0               0     27  2018       9     3   50  1500.0   75000.0\n",
       "1               1     76  2018       9     3   60  1500.0   90000.0\n",
       "2               2     65  2018       9     3   20  1780.0   35600.0\n",
       "3               3     57  2018       9     4   60  3250.0  195000.0\n",
       "4               4     53  2018       9     4  200  1780.0  356000.0\n",
       "...           ...    ...   ...     ...   ...  ...     ...       ...\n",
       "12805       12805     17  2020      12    31   35  2700.0   94500.0\n",
       "12806       12806     71  2020      12    31   24  2400.0   57600.0\n",
       "12807       12807     65  2020      12    31   50  1680.0   84000.0\n",
       "12808       12808     17  2020      12    31   35  2700.0   94500.0\n",
       "12809       12809     17  2021       1     2   42  2700.0  113400.0\n",
       "\n",
       "[12810 rows x 8 columns]"
      ]
     },
     "execution_count": 4,
     "metadata": {},
     "output_type": "execute_result"
    }
   ],
   "source": [
    "data.head(12810)"
   ]
  },
  {
   "cell_type": "code",
   "execution_count": 5,
   "id": "e20686c6",
   "metadata": {},
   "outputs": [],
   "source": [
    "train_data = data.iloc[:12809,:]\n",
    "test_data = data.iloc[12809:,:]"
   ]
  },
  {
   "cell_type": "code",
   "execution_count": 6,
   "id": "0bc639b5",
   "metadata": {},
   "outputs": [
    {
     "data": {
      "text/html": [
       "<div>\n",
       "<style scoped>\n",
       "    .dataframe tbody tr th:only-of-type {\n",
       "        vertical-align: middle;\n",
       "    }\n",
       "\n",
       "    .dataframe tbody tr th {\n",
       "        vertical-align: top;\n",
       "    }\n",
       "\n",
       "    .dataframe thead th {\n",
       "        text-align: right;\n",
       "    }\n",
       "</style>\n",
       "<table border=\"1\" class=\"dataframe\">\n",
       "  <thead>\n",
       "    <tr style=\"text-align: right;\">\n",
       "      <th></th>\n",
       "      <th>Unnamed: 0</th>\n",
       "      <th>Brand</th>\n",
       "      <th>Year</th>\n",
       "      <th>months</th>\n",
       "      <th>days</th>\n",
       "      <th>Qty</th>\n",
       "      <th>Rate</th>\n",
       "      <th>Amount</th>\n",
       "    </tr>\n",
       "  </thead>\n",
       "  <tbody>\n",
       "    <tr>\n",
       "      <th>0</th>\n",
       "      <td>0</td>\n",
       "      <td>27</td>\n",
       "      <td>2018</td>\n",
       "      <td>9</td>\n",
       "      <td>3</td>\n",
       "      <td>50</td>\n",
       "      <td>1500.0</td>\n",
       "      <td>75000.0</td>\n",
       "    </tr>\n",
       "    <tr>\n",
       "      <th>1</th>\n",
       "      <td>1</td>\n",
       "      <td>76</td>\n",
       "      <td>2018</td>\n",
       "      <td>9</td>\n",
       "      <td>3</td>\n",
       "      <td>60</td>\n",
       "      <td>1500.0</td>\n",
       "      <td>90000.0</td>\n",
       "    </tr>\n",
       "    <tr>\n",
       "      <th>2</th>\n",
       "      <td>2</td>\n",
       "      <td>65</td>\n",
       "      <td>2018</td>\n",
       "      <td>9</td>\n",
       "      <td>3</td>\n",
       "      <td>20</td>\n",
       "      <td>1780.0</td>\n",
       "      <td>35600.0</td>\n",
       "    </tr>\n",
       "    <tr>\n",
       "      <th>3</th>\n",
       "      <td>3</td>\n",
       "      <td>57</td>\n",
       "      <td>2018</td>\n",
       "      <td>9</td>\n",
       "      <td>4</td>\n",
       "      <td>60</td>\n",
       "      <td>3250.0</td>\n",
       "      <td>195000.0</td>\n",
       "    </tr>\n",
       "    <tr>\n",
       "      <th>4</th>\n",
       "      <td>4</td>\n",
       "      <td>53</td>\n",
       "      <td>2018</td>\n",
       "      <td>9</td>\n",
       "      <td>4</td>\n",
       "      <td>200</td>\n",
       "      <td>1780.0</td>\n",
       "      <td>356000.0</td>\n",
       "    </tr>\n",
       "    <tr>\n",
       "      <th>...</th>\n",
       "      <td>...</td>\n",
       "      <td>...</td>\n",
       "      <td>...</td>\n",
       "      <td>...</td>\n",
       "      <td>...</td>\n",
       "      <td>...</td>\n",
       "      <td>...</td>\n",
       "      <td>...</td>\n",
       "    </tr>\n",
       "    <tr>\n",
       "      <th>12804</th>\n",
       "      <td>12804</td>\n",
       "      <td>35</td>\n",
       "      <td>2020</td>\n",
       "      <td>12</td>\n",
       "      <td>31</td>\n",
       "      <td>50</td>\n",
       "      <td>1680.0</td>\n",
       "      <td>84000.0</td>\n",
       "    </tr>\n",
       "    <tr>\n",
       "      <th>12805</th>\n",
       "      <td>12805</td>\n",
       "      <td>17</td>\n",
       "      <td>2020</td>\n",
       "      <td>12</td>\n",
       "      <td>31</td>\n",
       "      <td>35</td>\n",
       "      <td>2700.0</td>\n",
       "      <td>94500.0</td>\n",
       "    </tr>\n",
       "    <tr>\n",
       "      <th>12806</th>\n",
       "      <td>12806</td>\n",
       "      <td>71</td>\n",
       "      <td>2020</td>\n",
       "      <td>12</td>\n",
       "      <td>31</td>\n",
       "      <td>24</td>\n",
       "      <td>2400.0</td>\n",
       "      <td>57600.0</td>\n",
       "    </tr>\n",
       "    <tr>\n",
       "      <th>12807</th>\n",
       "      <td>12807</td>\n",
       "      <td>65</td>\n",
       "      <td>2020</td>\n",
       "      <td>12</td>\n",
       "      <td>31</td>\n",
       "      <td>50</td>\n",
       "      <td>1680.0</td>\n",
       "      <td>84000.0</td>\n",
       "    </tr>\n",
       "    <tr>\n",
       "      <th>12808</th>\n",
       "      <td>12808</td>\n",
       "      <td>17</td>\n",
       "      <td>2020</td>\n",
       "      <td>12</td>\n",
       "      <td>31</td>\n",
       "      <td>35</td>\n",
       "      <td>2700.0</td>\n",
       "      <td>94500.0</td>\n",
       "    </tr>\n",
       "  </tbody>\n",
       "</table>\n",
       "<p>12809 rows × 8 columns</p>\n",
       "</div>"
      ],
      "text/plain": [
       "       Unnamed: 0  Brand  Year  months  days  Qty    Rate    Amount\n",
       "0               0     27  2018       9     3   50  1500.0   75000.0\n",
       "1               1     76  2018       9     3   60  1500.0   90000.0\n",
       "2               2     65  2018       9     3   20  1780.0   35600.0\n",
       "3               3     57  2018       9     4   60  3250.0  195000.0\n",
       "4               4     53  2018       9     4  200  1780.0  356000.0\n",
       "...           ...    ...   ...     ...   ...  ...     ...       ...\n",
       "12804       12804     35  2020      12    31   50  1680.0   84000.0\n",
       "12805       12805     17  2020      12    31   35  2700.0   94500.0\n",
       "12806       12806     71  2020      12    31   24  2400.0   57600.0\n",
       "12807       12807     65  2020      12    31   50  1680.0   84000.0\n",
       "12808       12808     17  2020      12    31   35  2700.0   94500.0\n",
       "\n",
       "[12809 rows x 8 columns]"
      ]
     },
     "execution_count": 6,
     "metadata": {},
     "output_type": "execute_result"
    }
   ],
   "source": [
    "train_data"
   ]
  },
  {
   "cell_type": "code",
   "execution_count": 7,
   "id": "7cef2d7e",
   "metadata": {},
   "outputs": [
    {
     "data": {
      "text/html": [
       "<div>\n",
       "<style scoped>\n",
       "    .dataframe tbody tr th:only-of-type {\n",
       "        vertical-align: middle;\n",
       "    }\n",
       "\n",
       "    .dataframe tbody tr th {\n",
       "        vertical-align: top;\n",
       "    }\n",
       "\n",
       "    .dataframe thead th {\n",
       "        text-align: right;\n",
       "    }\n",
       "</style>\n",
       "<table border=\"1\" class=\"dataframe\">\n",
       "  <thead>\n",
       "    <tr style=\"text-align: right;\">\n",
       "      <th></th>\n",
       "      <th>Unnamed: 0</th>\n",
       "      <th>Brand</th>\n",
       "      <th>Year</th>\n",
       "      <th>months</th>\n",
       "      <th>days</th>\n",
       "      <th>Qty</th>\n",
       "      <th>Rate</th>\n",
       "      <th>Amount</th>\n",
       "    </tr>\n",
       "  </thead>\n",
       "  <tbody>\n",
       "    <tr>\n",
       "      <th>12809</th>\n",
       "      <td>12809</td>\n",
       "      <td>17</td>\n",
       "      <td>2021</td>\n",
       "      <td>1</td>\n",
       "      <td>2</td>\n",
       "      <td>42</td>\n",
       "      <td>2700.0</td>\n",
       "      <td>113400.0</td>\n",
       "    </tr>\n",
       "    <tr>\n",
       "      <th>12810</th>\n",
       "      <td>12810</td>\n",
       "      <td>35</td>\n",
       "      <td>2021</td>\n",
       "      <td>1</td>\n",
       "      <td>2</td>\n",
       "      <td>20</td>\n",
       "      <td>1680.0</td>\n",
       "      <td>33600.0</td>\n",
       "    </tr>\n",
       "    <tr>\n",
       "      <th>12811</th>\n",
       "      <td>12811</td>\n",
       "      <td>17</td>\n",
       "      <td>2021</td>\n",
       "      <td>1</td>\n",
       "      <td>2</td>\n",
       "      <td>35</td>\n",
       "      <td>2700.0</td>\n",
       "      <td>94500.0</td>\n",
       "    </tr>\n",
       "    <tr>\n",
       "      <th>12812</th>\n",
       "      <td>12812</td>\n",
       "      <td>65</td>\n",
       "      <td>2021</td>\n",
       "      <td>1</td>\n",
       "      <td>2</td>\n",
       "      <td>50</td>\n",
       "      <td>1680.0</td>\n",
       "      <td>84000.0</td>\n",
       "    </tr>\n",
       "    <tr>\n",
       "      <th>12813</th>\n",
       "      <td>12813</td>\n",
       "      <td>35</td>\n",
       "      <td>2021</td>\n",
       "      <td>1</td>\n",
       "      <td>2</td>\n",
       "      <td>100</td>\n",
       "      <td>1680.0</td>\n",
       "      <td>168000.0</td>\n",
       "    </tr>\n",
       "    <tr>\n",
       "      <th>...</th>\n",
       "      <td>...</td>\n",
       "      <td>...</td>\n",
       "      <td>...</td>\n",
       "      <td>...</td>\n",
       "      <td>...</td>\n",
       "      <td>...</td>\n",
       "      <td>...</td>\n",
       "      <td>...</td>\n",
       "    </tr>\n",
       "    <tr>\n",
       "      <th>17064</th>\n",
       "      <td>17064</td>\n",
       "      <td>28</td>\n",
       "      <td>2021</td>\n",
       "      <td>11</td>\n",
       "      <td>8</td>\n",
       "      <td>24</td>\n",
       "      <td>2270.0</td>\n",
       "      <td>54480.0</td>\n",
       "    </tr>\n",
       "    <tr>\n",
       "      <th>17065</th>\n",
       "      <td>17065</td>\n",
       "      <td>41</td>\n",
       "      <td>2021</td>\n",
       "      <td>11</td>\n",
       "      <td>8</td>\n",
       "      <td>28</td>\n",
       "      <td>2550.0</td>\n",
       "      <td>71400.0</td>\n",
       "    </tr>\n",
       "    <tr>\n",
       "      <th>17066</th>\n",
       "      <td>17066</td>\n",
       "      <td>9</td>\n",
       "      <td>2021</td>\n",
       "      <td>11</td>\n",
       "      <td>8</td>\n",
       "      <td>18</td>\n",
       "      <td>3200.0</td>\n",
       "      <td>57600.0</td>\n",
       "    </tr>\n",
       "    <tr>\n",
       "      <th>17067</th>\n",
       "      <td>17067</td>\n",
       "      <td>41</td>\n",
       "      <td>2021</td>\n",
       "      <td>11</td>\n",
       "      <td>8</td>\n",
       "      <td>21</td>\n",
       "      <td>2550.0</td>\n",
       "      <td>53550.0</td>\n",
       "    </tr>\n",
       "    <tr>\n",
       "      <th>17068</th>\n",
       "      <td>17068</td>\n",
       "      <td>28</td>\n",
       "      <td>2021</td>\n",
       "      <td>11</td>\n",
       "      <td>8</td>\n",
       "      <td>24</td>\n",
       "      <td>2250.0</td>\n",
       "      <td>54000.0</td>\n",
       "    </tr>\n",
       "  </tbody>\n",
       "</table>\n",
       "<p>4260 rows × 8 columns</p>\n",
       "</div>"
      ],
      "text/plain": [
       "       Unnamed: 0  Brand  Year  months  days  Qty    Rate    Amount\n",
       "12809       12809     17  2021       1     2   42  2700.0  113400.0\n",
       "12810       12810     35  2021       1     2   20  1680.0   33600.0\n",
       "12811       12811     17  2021       1     2   35  2700.0   94500.0\n",
       "12812       12812     65  2021       1     2   50  1680.0   84000.0\n",
       "12813       12813     35  2021       1     2  100  1680.0  168000.0\n",
       "...           ...    ...   ...     ...   ...  ...     ...       ...\n",
       "17064       17064     28  2021      11     8   24  2270.0   54480.0\n",
       "17065       17065     41  2021      11     8   28  2550.0   71400.0\n",
       "17066       17066      9  2021      11     8   18  3200.0   57600.0\n",
       "17067       17067     41  2021      11     8   21  2550.0   53550.0\n",
       "17068       17068     28  2021      11     8   24  2250.0   54000.0\n",
       "\n",
       "[4260 rows x 8 columns]"
      ]
     },
     "execution_count": 7,
     "metadata": {},
     "output_type": "execute_result"
    }
   ],
   "source": [
    "test_data"
   ]
  },
  {
   "cell_type": "code",
   "execution_count": 8,
   "id": "397dc2af",
   "metadata": {},
   "outputs": [],
   "source": [
    "x=train_data[[\"Brand\",\"Year\",\"months\",\"days\",\"Qty\",\"Rate\"]]\n",
    "y=train_data['Amount']"
   ]
  },
  {
   "cell_type": "code",
   "execution_count": 9,
   "id": "f80bd0da",
   "metadata": {},
   "outputs": [],
   "source": [
    "# import scaler library and normalize x data\n",
    "from sklearn.preprocessing import MinMaxScaler\n",
    "scaler = MinMaxScaler(feature_range=(0,1))\n",
    "x = scaler.fit_transform(x)"
   ]
  },
  {
   "cell_type": "code",
   "execution_count": 10,
   "id": "0bc90f80",
   "metadata": {},
   "outputs": [
    {
     "name": "stdout",
     "output_type": "stream",
     "text": [
      "[[0.34615385 0.         0.72727273 0.06666667 0.01166945 0.21100917]\n",
      " [0.97435897 0.         0.72727273 0.06666667 0.01405096 0.21100917]\n",
      " [0.83333333 0.         0.72727273 0.06666667 0.00452489 0.26238532]\n",
      " ...\n",
      " [0.91025641 1.         1.         1.         0.00547749 0.37614679]\n",
      " [0.83333333 1.         1.         1.         0.01166945 0.2440367 ]\n",
      " [0.21794872 1.         1.         1.         0.00809717 0.43119266]]\n"
     ]
    }
   ],
   "source": [
    "print(x)"
   ]
  },
  {
   "cell_type": "code",
   "execution_count": 11,
   "id": "b1859208",
   "metadata": {},
   "outputs": [
    {
     "name": "stdout",
     "output_type": "stream",
     "text": [
      "0         75000.0\n",
      "1         90000.0\n",
      "2         35600.0\n",
      "3        195000.0\n",
      "4        356000.0\n",
      "           ...   \n",
      "12804     84000.0\n",
      "12805     94500.0\n",
      "12806     57600.0\n",
      "12807     84000.0\n",
      "12808     94500.0\n",
      "Name: Amount, Length: 12809, dtype: float64\n"
     ]
    }
   ],
   "source": [
    "print(y)"
   ]
  },
  {
   "cell_type": "markdown",
   "id": "75139ad9",
   "metadata": {},
   "source": [
    "# random forest"
   ]
  },
  {
   "cell_type": "code",
   "execution_count": 12,
   "id": "1928f542",
   "metadata": {},
   "outputs": [],
   "source": [
    "from sklearn.ensemble import RandomForestRegressor\n",
    "rfr=RandomForestRegressor(n_estimators= 100, random_state = 0)"
   ]
  },
  {
   "cell_type": "code",
   "execution_count": 13,
   "id": "b6df23fd",
   "metadata": {},
   "outputs": [
    {
     "data": {
      "text/plain": [
       "RandomForestRegressor(random_state=0)"
      ]
     },
     "execution_count": 13,
     "metadata": {},
     "output_type": "execute_result"
    }
   ],
   "source": [
    "rfr.fit(x,y)"
   ]
  },
  {
   "cell_type": "code",
   "execution_count": 14,
   "id": "f90dfce3",
   "metadata": {},
   "outputs": [
    {
     "data": {
      "text/plain": [
       "99.49"
      ]
     },
     "execution_count": 14,
     "metadata": {},
     "output_type": "execute_result"
    }
   ],
   "source": [
    "train_score = round(rfr.score(x, y) * 100, 2)\n",
    "train_score"
   ]
  },
  {
   "cell_type": "code",
   "execution_count": 15,
   "id": "6e7fc04c",
   "metadata": {},
   "outputs": [],
   "source": [
    "x1=test_data[[\"Brand\",\"Year\",\"months\",\"days\",\"Qty\",\"Rate\"]]\n",
    "y1=test_data['Amount']"
   ]
  },
  {
   "cell_type": "code",
   "execution_count": 16,
   "id": "124e2dbb",
   "metadata": {},
   "outputs": [
    {
     "name": "stdout",
     "output_type": "stream",
     "text": [
      "       Brand  Year  months  days  Qty    Rate\n",
      "12809     17  2021       1     2   42  2700.0\n",
      "12810     35  2021       1     2   20  1680.0\n",
      "12811     17  2021       1     2   35  2700.0\n",
      "12812     65  2021       1     2   50  1680.0\n",
      "12813     35  2021       1     2  100  1680.0\n",
      "...      ...   ...     ...   ...  ...     ...\n",
      "17064     28  2021      11     8   24  2270.0\n",
      "17065     41  2021      11     8   28  2550.0\n",
      "17066      9  2021      11     8   18  3200.0\n",
      "17067     41  2021      11     8   21  2550.0\n",
      "17068     28  2021      11     8   24  2250.0\n",
      "\n",
      "[4260 rows x 6 columns]\n"
     ]
    }
   ],
   "source": [
    "print(x1)"
   ]
  },
  {
   "cell_type": "code",
   "execution_count": 17,
   "id": "681a118d",
   "metadata": {},
   "outputs": [
    {
     "name": "stdout",
     "output_type": "stream",
     "text": [
      "12809    113400.0\n",
      "12810     33600.0\n",
      "12811     94500.0\n",
      "12812     84000.0\n",
      "12813    168000.0\n",
      "           ...   \n",
      "17064     54480.0\n",
      "17065     71400.0\n",
      "17066     57600.0\n",
      "17067     53550.0\n",
      "17068     54000.0\n",
      "Name: Amount, Length: 4260, dtype: float64\n"
     ]
    }
   ],
   "source": [
    "print(y1)"
   ]
  },
  {
   "cell_type": "code",
   "execution_count": 18,
   "id": "d9fe2b22",
   "metadata": {},
   "outputs": [],
   "source": [
    "# import scaler library and normalize x data\n",
    "from sklearn.preprocessing import MinMaxScaler\n",
    "scaler = MinMaxScaler(feature_range=(0,1))\n",
    "x1 = scaler.fit_transform(x1)"
   ]
  },
  {
   "cell_type": "code",
   "execution_count": 19,
   "id": "2fc8ce26",
   "metadata": {},
   "outputs": [
    {
     "name": "stdout",
     "output_type": "stream",
     "text": [
      "[[0.21126761 0.         0.         0.03333333 0.01400752 0.49283352]\n",
      " [0.46478873 0.         0.         0.03333333 0.00649129 0.26791621]\n",
      " [0.21126761 0.         0.         0.03333333 0.01161599 0.49283352]\n",
      " ...\n",
      " [0.09859155 0.         1.         0.23333333 0.00580799 0.6030871 ]\n",
      " [0.54929577 0.         1.         0.23333333 0.00683293 0.45975744]\n",
      " [0.36619718 0.         1.         0.23333333 0.00785787 0.39360529]]\n"
     ]
    }
   ],
   "source": [
    "print(x1)"
   ]
  },
  {
   "cell_type": "code",
   "execution_count": 20,
   "id": "ecd1a645",
   "metadata": {},
   "outputs": [
    {
     "data": {
      "text/plain": [
       "array([178959. ,  54355.2, 143459.8, ...,  89902.5,  85500. ,  78632.4])"
      ]
     },
     "execution_count": 20,
     "metadata": {},
     "output_type": "execute_result"
    }
   ],
   "source": [
    "y_pred=rfr.predict(x1)\n",
    "y_pred"
   ]
  },
  {
   "cell_type": "code",
   "execution_count": 21,
   "id": "b3a207a1",
   "metadata": {},
   "outputs": [
    {
     "data": {
      "text/plain": [
       "0.675826046787797"
      ]
     },
     "execution_count": 21,
     "metadata": {},
     "output_type": "execute_result"
    }
   ],
   "source": [
    "rf2=r2_score(y1, y_pred)\n",
    "rf2"
   ]
  },
  {
   "cell_type": "code",
   "execution_count": 22,
   "id": "ad1e6b78",
   "metadata": {},
   "outputs": [
    {
     "data": {
      "text/plain": [
       "array([54355.2])"
      ]
     },
     "execution_count": 22,
     "metadata": {},
     "output_type": "execute_result"
    }
   ],
   "source": [
    "rfr.predict([[0.46478873,0.,0.,0.03333333,0.00649129,0.26791621]])"
   ]
  },
  {
   "cell_type": "markdown",
   "id": "e61d8795",
   "metadata": {},
   "source": [
    "# decisionTree"
   ]
  },
  {
   "cell_type": "code",
   "execution_count": 23,
   "id": "4a07907e",
   "metadata": {},
   "outputs": [],
   "source": [
    "from sklearn.tree import DecisionTreeRegressor"
   ]
  },
  {
   "cell_type": "code",
   "execution_count": 24,
   "id": "2823c537",
   "metadata": {},
   "outputs": [],
   "source": [
    "dt = DecisionTreeRegressor()"
   ]
  },
  {
   "cell_type": "code",
   "execution_count": 25,
   "id": "a3801da0",
   "metadata": {},
   "outputs": [
    {
     "data": {
      "text/plain": [
       "DecisionTreeRegressor()"
      ]
     },
     "execution_count": 25,
     "metadata": {},
     "output_type": "execute_result"
    }
   ],
   "source": [
    "dt.fit(x,y)"
   ]
  },
  {
   "cell_type": "code",
   "execution_count": 26,
   "id": "db78f7db",
   "metadata": {},
   "outputs": [
    {
     "data": {
      "text/plain": [
       "100.0"
      ]
     },
     "execution_count": 26,
     "metadata": {},
     "output_type": "execute_result"
    }
   ],
   "source": [
    "train_score = round(dt.score(x, y) * 100, 2)\n",
    "train_score"
   ]
  },
  {
   "cell_type": "code",
   "execution_count": 27,
   "id": "ffbffe9e",
   "metadata": {},
   "outputs": [
    {
     "data": {
      "text/plain": [
       "array([180000.,  54600., 139200., ...,  90000.,  85500.,  72000.])"
      ]
     },
     "execution_count": 27,
     "metadata": {},
     "output_type": "execute_result"
    }
   ],
   "source": [
    "y_pred=dt.predict(x1)\n",
    "y_pred"
   ]
  },
  {
   "cell_type": "code",
   "execution_count": 28,
   "id": "f1393b20",
   "metadata": {},
   "outputs": [
    {
     "data": {
      "text/plain": [
       "0.750225570915519"
      ]
     },
     "execution_count": 28,
     "metadata": {},
     "output_type": "execute_result"
    }
   ],
   "source": [
    "dt2=r2_score(y1, y_pred)\n",
    "dt2"
   ]
  },
  {
   "cell_type": "code",
   "execution_count": 29,
   "id": "e64aef92",
   "metadata": {},
   "outputs": [
    {
     "data": {
      "text/plain": [
       "array([54600.])"
      ]
     },
     "execution_count": 29,
     "metadata": {},
     "output_type": "execute_result"
    }
   ],
   "source": [
    "dt.predict([[0.46478873,0.,0.,0.03333333,0.00649129,0.26791621]])"
   ]
  },
  {
   "cell_type": "markdown",
   "id": "326203c3",
   "metadata": {},
   "source": [
    "# LinearRegression"
   ]
  },
  {
   "cell_type": "code",
   "execution_count": 30,
   "id": "89192767",
   "metadata": {},
   "outputs": [],
   "source": [
    "from sklearn.linear_model import LinearRegression\n",
    "lr=LinearRegression()"
   ]
  },
  {
   "cell_type": "code",
   "execution_count": 31,
   "id": "d5620b29",
   "metadata": {},
   "outputs": [
    {
     "data": {
      "text/plain": [
       "LinearRegression()"
      ]
     },
     "execution_count": 31,
     "metadata": {},
     "output_type": "execute_result"
    }
   ],
   "source": [
    "lr.fit(x,y)"
   ]
  },
  {
   "cell_type": "code",
   "execution_count": 32,
   "id": "36434543",
   "metadata": {},
   "outputs": [
    {
     "data": {
      "text/plain": [
       "61.75"
      ]
     },
     "execution_count": 32,
     "metadata": {},
     "output_type": "execute_result"
    }
   ],
   "source": [
    "train_score = round(lr.score(x, y) * 100, 2)\n",
    "train_score"
   ]
  },
  {
   "cell_type": "code",
   "execution_count": 33,
   "id": "3d528246",
   "metadata": {},
   "outputs": [
    {
     "data": {
      "text/plain": [
       "array([104983.48874664,  50498.64625661,  95043.61300281, ...,\n",
       "        80009.15441464,  73409.52761426,  67309.55012955])"
      ]
     },
     "execution_count": 33,
     "metadata": {},
     "output_type": "execute_result"
    }
   ],
   "source": [
    "y_pred=lr.predict(x1)\n",
    "y_pred"
   ]
  },
  {
   "cell_type": "code",
   "execution_count": 34,
   "id": "cb10d9ee",
   "metadata": {},
   "outputs": [
    {
     "data": {
      "text/plain": [
       "array([50498.6548129])"
      ]
     },
     "execution_count": 34,
     "metadata": {},
     "output_type": "execute_result"
    }
   ],
   "source": [
    "lr.predict([[0.46478873,0.,0.,0.03333333,0.00649129,0.26791621]])"
   ]
  },
  {
   "cell_type": "code",
   "execution_count": 35,
   "id": "ba83f029",
   "metadata": {},
   "outputs": [
    {
     "data": {
      "text/plain": [
       "0.770340878367779"
      ]
     },
     "execution_count": 35,
     "metadata": {},
     "output_type": "execute_result"
    }
   ],
   "source": [
    "lr2=r2_score(y1, y_pred)\n",
    "lr2"
   ]
  },
  {
   "cell_type": "markdown",
   "id": "e5f82499",
   "metadata": {},
   "source": [
    "# SVR"
   ]
  },
  {
   "cell_type": "code",
   "execution_count": 36,
   "id": "e600daa1",
   "metadata": {},
   "outputs": [],
   "source": [
    "from sklearn.svm import SVR"
   ]
  },
  {
   "cell_type": "code",
   "execution_count": 37,
   "id": "29672c4c",
   "metadata": {},
   "outputs": [],
   "source": [
    "sv=SVR()"
   ]
  },
  {
   "cell_type": "code",
   "execution_count": 38,
   "id": "1e06fbc9",
   "metadata": {},
   "outputs": [
    {
     "data": {
      "text/plain": [
       "SVR()"
      ]
     },
     "execution_count": 38,
     "metadata": {},
     "output_type": "execute_result"
    }
   ],
   "source": [
    "sv.fit(x,y)"
   ]
  },
  {
   "cell_type": "code",
   "execution_count": 39,
   "id": "7cac3a34",
   "metadata": {},
   "outputs": [
    {
     "data": {
      "text/plain": [
       "-5.72"
      ]
     },
     "execution_count": 39,
     "metadata": {},
     "output_type": "execute_result"
    }
   ],
   "source": [
    "train_score = round(sv.score(x, y) * 100, 2)\n",
    "train_score"
   ]
  },
  {
   "cell_type": "code",
   "execution_count": 40,
   "id": "1b45b12a",
   "metadata": {
    "scrolled": true
   },
   "outputs": [
    {
     "data": {
      "text/plain": [
       "array([51843.24124076, 51855.54189184, 51843.14773831, ...,\n",
       "       51831.73675501, 51878.53658521, 51875.71363367])"
      ]
     },
     "execution_count": 40,
     "metadata": {},
     "output_type": "execute_result"
    }
   ],
   "source": [
    "y_pred=sv.predict(x1)\n",
    "y_pred"
   ]
  },
  {
   "cell_type": "code",
   "execution_count": 41,
   "id": "e06846ab",
   "metadata": {},
   "outputs": [
    {
     "data": {
      "text/plain": [
       "array([51855.54189187])"
      ]
     },
     "execution_count": 41,
     "metadata": {},
     "output_type": "execute_result"
    }
   ],
   "source": [
    "sv.predict([[0.46478873,0.,0.,0.03333333,0.00649129,0.26791621]])"
   ]
  },
  {
   "cell_type": "code",
   "execution_count": 42,
   "id": "30f1955a",
   "metadata": {},
   "outputs": [
    {
     "data": {
      "text/plain": [
       "-0.0235764794130624"
      ]
     },
     "execution_count": 42,
     "metadata": {},
     "output_type": "execute_result"
    }
   ],
   "source": [
    "sv2=r2_score(y1, y_pred)\n",
    "sv2"
   ]
  },
  {
   "cell_type": "markdown",
   "id": "c7ea5dd9",
   "metadata": {},
   "source": [
    "# qty predict"
   ]
  },
  {
   "cell_type": "code",
   "execution_count": 43,
   "id": "c549b0ad",
   "metadata": {},
   "outputs": [],
   "source": [
    "x=train_data[[\"Brand\",\"Year\",\"months\",\"days\",\"Amount\",\"Rate\"]]\n",
    "y=train_data[\"Qty\"]"
   ]
  },
  {
   "cell_type": "code",
   "execution_count": 44,
   "id": "bec704a0",
   "metadata": {},
   "outputs": [],
   "source": [
    "# import scaler library and normalize x data\n",
    "from sklearn.preprocessing import MinMaxScaler\n",
    "scaler = MinMaxScaler(feature_range=(0,1))\n",
    "x = scaler.fit_transform(x)"
   ]
  },
  {
   "cell_type": "markdown",
   "id": "c08bbd74",
   "metadata": {},
   "source": [
    "# Random forest"
   ]
  },
  {
   "cell_type": "code",
   "execution_count": 45,
   "id": "57be4066",
   "metadata": {},
   "outputs": [],
   "source": [
    "from sklearn.ensemble import RandomForestRegressor\n",
    "rfr=RandomForestRegressor(n_estimators= 100, random_state = 0)"
   ]
  },
  {
   "cell_type": "code",
   "execution_count": 46,
   "id": "de193b4d",
   "metadata": {},
   "outputs": [
    {
     "data": {
      "text/plain": [
       "RandomForestRegressor(random_state=0)"
      ]
     },
     "execution_count": 46,
     "metadata": {},
     "output_type": "execute_result"
    }
   ],
   "source": [
    "rfr.fit(x,y)"
   ]
  },
  {
   "cell_type": "code",
   "execution_count": 47,
   "id": "d3c49c9e",
   "metadata": {},
   "outputs": [
    {
     "data": {
      "text/plain": [
       "99.51"
      ]
     },
     "execution_count": 47,
     "metadata": {},
     "output_type": "execute_result"
    }
   ],
   "source": [
    "train_score = round(rfr.score(x, y) * 100, 2)\n",
    "train_score"
   ]
  },
  {
   "cell_type": "code",
   "execution_count": 48,
   "id": "00e54ef4",
   "metadata": {},
   "outputs": [],
   "source": [
    "x1=test_data[[\"Brand\",\"Year\",\"months\",\"days\",\"Amount\",\"Rate\"]]\n",
    "y1=test_data[\"Qty\"]"
   ]
  },
  {
   "cell_type": "code",
   "execution_count": 49,
   "id": "6811f52c",
   "metadata": {},
   "outputs": [],
   "source": [
    "# import scaler library and normalize x data\n",
    "from sklearn.preprocessing import MinMaxScaler\n",
    "scaler = MinMaxScaler(feature_range=(0,1))\n",
    "x1 = scaler.fit_transform(x1)"
   ]
  },
  {
   "cell_type": "code",
   "execution_count": 50,
   "id": "fd372e54",
   "metadata": {},
   "outputs": [
    {
     "name": "stdout",
     "output_type": "stream",
     "text": [
      "[[0.21126761 0.         0.         0.03333333 0.01478596 0.49283352]\n",
      " [0.46478873 0.         0.         0.03333333 0.00430245 0.26791621]\n",
      " [0.21126761 0.         0.         0.03333333 0.01230302 0.49283352]\n",
      " ...\n",
      " [0.09859155 0.         1.         0.23333333 0.00745538 0.6030871 ]\n",
      " [0.54929577 0.         1.         0.23333333 0.00692332 0.45975744]\n",
      " [0.36619718 0.         1.         0.23333333 0.00698244 0.39360529]]\n"
     ]
    }
   ],
   "source": [
    "print(x1)"
   ]
  },
  {
   "cell_type": "code",
   "execution_count": 51,
   "id": "55936d19",
   "metadata": {},
   "outputs": [
    {
     "name": "stdout",
     "output_type": "stream",
     "text": [
      "12809     42\n",
      "12810     20\n",
      "12811     35\n",
      "12812     50\n",
      "12813    100\n",
      "        ... \n",
      "17064     24\n",
      "17065     28\n",
      "17066     18\n",
      "17067     21\n",
      "17068     24\n",
      "Name: Qty, Length: 4260, dtype: int64\n"
     ]
    }
   ],
   "source": [
    "print(y1)"
   ]
  },
  {
   "cell_type": "code",
   "execution_count": 52,
   "id": "e624af13",
   "metadata": {},
   "outputs": [
    {
     "data": {
      "text/plain": [
       "array([18.74,  9.98, 16.52, ...,  8.5 , 10.57, 11.87])"
      ]
     },
     "execution_count": 52,
     "metadata": {},
     "output_type": "execute_result"
    }
   ],
   "source": [
    "y_pred=rfr.predict(x1)\n",
    "y_pred"
   ]
  },
  {
   "cell_type": "code",
   "execution_count": 53,
   "id": "365ee0ad",
   "metadata": {},
   "outputs": [
    {
     "data": {
      "text/plain": [
       "0.7290559417609683"
      ]
     },
     "execution_count": 53,
     "metadata": {},
     "output_type": "execute_result"
    }
   ],
   "source": [
    "rf2=r2_score(y1, y_pred)\n",
    "rf2"
   ]
  },
  {
   "cell_type": "code",
   "execution_count": 54,
   "id": "fbfd66ff",
   "metadata": {},
   "outputs": [
    {
     "data": {
      "text/plain": [
       "array([18.74])"
      ]
     },
     "execution_count": 54,
     "metadata": {},
     "output_type": "execute_result"
    }
   ],
   "source": [
    "rfr.predict([[0.21126761,0.,0.,0.03333333,0.01478596,0.49283352]])"
   ]
  },
  {
   "cell_type": "markdown",
   "id": "64c02b30",
   "metadata": {},
   "source": [
    "# decision "
   ]
  },
  {
   "cell_type": "code",
   "execution_count": 55,
   "id": "a3e87cb7",
   "metadata": {},
   "outputs": [
    {
     "data": {
      "text/plain": [
       "DecisionTreeRegressor()"
      ]
     },
     "execution_count": 55,
     "metadata": {},
     "output_type": "execute_result"
    }
   ],
   "source": [
    "dt.fit(x,y)"
   ]
  },
  {
   "cell_type": "code",
   "execution_count": 56,
   "id": "687dfa80",
   "metadata": {},
   "outputs": [
    {
     "data": {
      "text/plain": [
       "100.0"
      ]
     },
     "execution_count": 56,
     "metadata": {},
     "output_type": "execute_result"
    }
   ],
   "source": [
    "train_score = round(dt.score(x, y) * 100, 2)\n",
    "train_score"
   ]
  },
  {
   "cell_type": "code",
   "execution_count": 57,
   "id": "5163035b",
   "metadata": {},
   "outputs": [
    {
     "data": {
      "text/plain": [
       "array([18., 10., 16., ...,  9., 12., 13.])"
      ]
     },
     "execution_count": 57,
     "metadata": {},
     "output_type": "execute_result"
    }
   ],
   "source": [
    "y_pred=dt.predict(x1)\n",
    "y_pred"
   ]
  },
  {
   "cell_type": "code",
   "execution_count": 58,
   "id": "d99a62ba",
   "metadata": {},
   "outputs": [
    {
     "data": {
      "text/plain": [
       "0.7920776367500462"
      ]
     },
     "execution_count": 58,
     "metadata": {},
     "output_type": "execute_result"
    }
   ],
   "source": [
    "dt2=r2_score(y1, y_pred)\n",
    "dt2"
   ]
  },
  {
   "cell_type": "code",
   "execution_count": 59,
   "id": "578efe16",
   "metadata": {},
   "outputs": [
    {
     "data": {
      "text/plain": [
       "array([18.])"
      ]
     },
     "execution_count": 59,
     "metadata": {},
     "output_type": "execute_result"
    }
   ],
   "source": [
    "dt.predict([[0.21126761,0.,0.,0.03333333,0.01478596,0.49283352]])"
   ]
  },
  {
   "cell_type": "markdown",
   "id": "635ddfad",
   "metadata": {},
   "source": [
    "# Linear"
   ]
  },
  {
   "cell_type": "code",
   "execution_count": 60,
   "id": "5bd274af",
   "metadata": {},
   "outputs": [
    {
     "data": {
      "text/plain": [
       "LinearRegression()"
      ]
     },
     "execution_count": 60,
     "metadata": {},
     "output_type": "execute_result"
    }
   ],
   "source": [
    "lr.fit(x,y)"
   ]
  },
  {
   "cell_type": "code",
   "execution_count": 61,
   "id": "80b0f370",
   "metadata": {},
   "outputs": [
    {
     "data": {
      "text/plain": [
       "64.19"
      ]
     },
     "execution_count": 61,
     "metadata": {},
     "output_type": "execute_result"
    }
   ],
   "source": [
    "train_score = round(lr.score(x, y) * 100, 2)\n",
    "train_score"
   ]
  },
  {
   "cell_type": "code",
   "execution_count": 62,
   "id": "3749ac6a",
   "metadata": {},
   "outputs": [
    {
     "data": {
      "text/plain": [
       "array([ 19.1931058 ,  22.07187746,  13.41767875, ..., -10.47386852,\n",
       "         1.6055565 ,  13.37716468])"
      ]
     },
     "execution_count": 62,
     "metadata": {},
     "output_type": "execute_result"
    }
   ],
   "source": [
    "y_pred=lr.predict(x1)\n",
    "y_pred"
   ]
  },
  {
   "cell_type": "code",
   "execution_count": 63,
   "id": "e4c82dd3",
   "metadata": {},
   "outputs": [
    {
     "data": {
      "text/plain": [
       "0.7718113989170556"
      ]
     },
     "execution_count": 63,
     "metadata": {},
     "output_type": "execute_result"
    }
   ],
   "source": [
    "lr2=r2_score(y1, y_pred)\n",
    "lr2"
   ]
  },
  {
   "cell_type": "code",
   "execution_count": 64,
   "id": "b3a8279c",
   "metadata": {},
   "outputs": [
    {
     "data": {
      "text/plain": [
       "array([19.19310177])"
      ]
     },
     "execution_count": 64,
     "metadata": {},
     "output_type": "execute_result"
    }
   ],
   "source": [
    "lr.predict([[0.21126761,0.,0.,0.03333333,0.01478596,0.49283352]])"
   ]
  },
  {
   "cell_type": "code",
   "execution_count": null,
   "id": "27758e4d",
   "metadata": {},
   "outputs": [],
   "source": []
  }
 ],
 "metadata": {
  "kernelspec": {
   "display_name": "Python 3 (ipykernel)",
   "language": "python",
   "name": "python3"
  },
  "language_info": {
   "codemirror_mode": {
    "name": "ipython",
    "version": 3
   },
   "file_extension": ".py",
   "mimetype": "text/x-python",
   "name": "python",
   "nbconvert_exporter": "python",
   "pygments_lexer": "ipython3",
   "version": "3.9.7"
  }
 },
 "nbformat": 4,
 "nbformat_minor": 5
}
