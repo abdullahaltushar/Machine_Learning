{
 "cells": [
  {
   "cell_type": "code",
   "execution_count": 1,
   "id": "d9388026",
   "metadata": {},
   "outputs": [],
   "source": [
    "# import library \n",
    "import pandas as pd\n",
    "import numpy as np\n",
    "from sklearn import linear_model\n",
    "import matplotlib.pyplot as plt\n",
    "from sklearn.model_selection import train_test_split\n",
    "from sklearn.metrics import r2_score"
   ]
  },
  {
   "cell_type": "code",
   "execution_count": 2,
   "id": "bf16e65b",
   "metadata": {},
   "outputs": [],
   "source": [
    "#declare stock data and year\n",
    "data = {'Year': [2018, 2019, 2020, 2021], 'stock': [ 22735.0,5724.0,16818.0,2388.0]}   \n",
    "  \n",
    "# Create DataFrame  \n",
    "df = pd.DataFrame(data)  "
   ]
  },
  {
   "cell_type": "code",
   "execution_count": 3,
   "id": "50ddf3f8",
   "metadata": {},
   "outputs": [
    {
     "data": {
      "text/html": [
       "<div>\n",
       "<style scoped>\n",
       "    .dataframe tbody tr th:only-of-type {\n",
       "        vertical-align: middle;\n",
       "    }\n",
       "\n",
       "    .dataframe tbody tr th {\n",
       "        vertical-align: top;\n",
       "    }\n",
       "\n",
       "    .dataframe thead th {\n",
       "        text-align: right;\n",
       "    }\n",
       "</style>\n",
       "<table border=\"1\" class=\"dataframe\">\n",
       "  <thead>\n",
       "    <tr style=\"text-align: right;\">\n",
       "      <th></th>\n",
       "      <th>Year</th>\n",
       "      <th>stock</th>\n",
       "    </tr>\n",
       "  </thead>\n",
       "  <tbody>\n",
       "    <tr>\n",
       "      <th>0</th>\n",
       "      <td>2018</td>\n",
       "      <td>22735.0</td>\n",
       "    </tr>\n",
       "    <tr>\n",
       "      <th>1</th>\n",
       "      <td>2019</td>\n",
       "      <td>5724.0</td>\n",
       "    </tr>\n",
       "    <tr>\n",
       "      <th>2</th>\n",
       "      <td>2020</td>\n",
       "      <td>16818.0</td>\n",
       "    </tr>\n",
       "    <tr>\n",
       "      <th>3</th>\n",
       "      <td>2021</td>\n",
       "      <td>2388.0</td>\n",
       "    </tr>\n",
       "  </tbody>\n",
       "</table>\n",
       "</div>"
      ],
      "text/plain": [
       "   Year    stock\n",
       "0  2018  22735.0\n",
       "1  2019   5724.0\n",
       "2  2020  16818.0\n",
       "3  2021   2388.0"
      ]
     },
     "execution_count": 3,
     "metadata": {},
     "output_type": "execute_result"
    }
   ],
   "source": [
    "df"
   ]
  },
  {
   "cell_type": "code",
   "execution_count": 4,
   "id": "d71f6566",
   "metadata": {},
   "outputs": [
    {
     "data": {
      "text/plain": [
       "<matplotlib.collections.PathCollection at 0x2c27c1e1400>"
      ]
     },
     "execution_count": 4,
     "metadata": {},
     "output_type": "execute_result"
    },
    {
     "data": {
      "image/png": "[encoded data removed]",
      "text/plain": [
       "<Figure size 432x288 with 1 Axes>"
      ]
     },
     "metadata": {
      "needs_background": "light"
     },
     "output_type": "display_data"
    }
   ],
   "source": [
    "#show matplotlib \n",
    "%matplotlib inline\n",
    "plt.xlabel('Year')\n",
    "plt.ylabel('stock')\n",
    "plt.scatter(df.Year,df.stock,color='red',marker='+')"
   ]
  },
  {
   "cell_type": "code",
   "execution_count": 5,
   "id": "2a906c1c",
   "metadata": {},
   "outputs": [],
   "source": [
    "# data separate\n",
    "reg=linear_model.LinearRegression()\n",
    "X=df.drop('stock', axis='columns')\n",
    "Y=df.stock"
   ]
  },
  {
   "cell_type": "code",
   "execution_count": 6,
   "id": "868b61d9",
   "metadata": {},
   "outputs": [
    {
     "data": {
      "text/plain": [
       "SVR()"
      ]
     },
     "execution_count": 6,
     "metadata": {},
     "output_type": "execute_result"
    }
   ],
   "source": [
    "# train the model with data\n",
    "from sklearn.svm import SVR\n",
    "regressor = SVR(kernel = 'rbf')\n",
    "regressor.fit(X, Y)"
   ]
  },
  {
   "cell_type": "code",
   "execution_count": 7,
   "id": "d8512849",
   "metadata": {},
   "outputs": [
    {
     "data": {
      "text/plain": [
       "array([11270.95998162])"
      ]
     },
     "execution_count": 7,
     "metadata": {},
     "output_type": "execute_result"
    }
   ],
   "source": [
    "#check prediction with different value \n",
    "regressor.predict([[2023]])"
   ]
  },
  {
   "cell_type": "code",
   "execution_count": 8,
   "id": "f8aecec0",
   "metadata": {},
   "outputs": [
    {
     "data": {
      "text/plain": [
       "LinearRegression()"
      ]
     },
     "execution_count": 8,
     "metadata": {},
     "output_type": "execute_result"
    }
   ],
   "source": [
    "reg.fit(X,Y)"
   ]
  },
  {
   "cell_type": "code",
   "execution_count": 9,
   "id": "ee46fc64",
   "metadata": {},
   "outputs": [
    {
     "data": {
      "text/plain": [
       "array([-4994.7])"
      ]
     },
     "execution_count": 9,
     "metadata": {},
     "output_type": "execute_result"
    }
   ],
   "source": [
    "reg.coef_"
   ]
  },
  {
   "cell_type": "code",
   "execution_count": 10,
   "id": "da944d9e",
   "metadata": {},
   "outputs": [
    {
     "data": {
      "text/plain": [
       "10098712.9"
      ]
     },
     "execution_count": 10,
     "metadata": {},
     "output_type": "execute_result"
    }
   ],
   "source": [
    "reg.intercept_"
   ]
  },
  {
   "cell_type": "code",
   "execution_count": 11,
   "id": "76307349",
   "metadata": {},
   "outputs": [
    {
     "data": {
      "text/plain": [
       "array([4424.2])"
      ]
     },
     "execution_count": 11,
     "metadata": {},
     "output_type": "execute_result"
    }
   ],
   "source": [
    "reg.predict([[2021]])"
   ]
  },
  {
   "cell_type": "code",
   "execution_count": 12,
   "id": "cc083764",
   "metadata": {},
   "outputs": [],
   "source": [
    "#load buy date set\n",
    "buy_data=pd.read_csv(\"buy_data\")"
   ]
  },
  {
   "cell_type": "code",
   "execution_count": 13,
   "id": "64b3516b",
   "metadata": {},
   "outputs": [
    {
     "data": {
      "text/html": [
       "<div>\n",
       "<style scoped>\n",
       "    .dataframe tbody tr th:only-of-type {\n",
       "        vertical-align: middle;\n",
       "    }\n",
       "\n",
       "    .dataframe tbody tr th {\n",
       "        vertical-align: top;\n",
       "    }\n",
       "\n",
       "    .dataframe thead th {\n",
       "        text-align: right;\n",
       "    }\n",
       "</style>\n",
       "<table border=\"1\" class=\"dataframe\">\n",
       "  <thead>\n",
       "    <tr style=\"text-align: right;\">\n",
       "      <th></th>\n",
       "      <th>Unnamed: 0</th>\n",
       "      <th>TransType</th>\n",
       "      <th>TransDate</th>\n",
       "      <th>Year</th>\n",
       "      <th>TransNO</th>\n",
       "      <th>ItemID</th>\n",
       "      <th>Qty</th>\n",
       "      <th>Rate</th>\n",
       "      <th>Amount</th>\n",
       "      <th>ItemName</th>\n",
       "      <th>Brand</th>\n",
       "      <th>TOTAL_buy_2018</th>\n",
       "      <th>TOTAL_buy_2018_ItemName</th>\n",
       "      <th>TOTAL_buy_2019</th>\n",
       "      <th>TOTAL_buy_2019_ItemName</th>\n",
       "      <th>TOTAL_buy_2020</th>\n",
       "      <th>TOTAL_buy_2020_ItemName</th>\n",
       "      <th>TOTAL_buy_2021</th>\n",
       "      <th>TOTAL_buy_2021_ItemName</th>\n",
       "    </tr>\n",
       "  </thead>\n",
       "  <tbody>\n",
       "    <tr>\n",
       "      <th>0</th>\n",
       "      <td>0</td>\n",
       "      <td>BUY</td>\n",
       "      <td>2018-08-31</td>\n",
       "      <td>2018</td>\n",
       "      <td>1</td>\n",
       "      <td>10010001</td>\n",
       "      <td>2013</td>\n",
       "      <td>1700.0</td>\n",
       "      <td>3422100.0</td>\n",
       "      <td>1PLY RASCHEL BLANKET</td>\n",
       "      <td>SULTAN</td>\n",
       "      <td>2013.0</td>\n",
       "      <td>1PLY RASCHEL BLANKET</td>\n",
       "      <td>NaN</td>\n",
       "      <td>NaN</td>\n",
       "      <td>NaN</td>\n",
       "      <td>NaN</td>\n",
       "      <td>NaN</td>\n",
       "      <td>NaN</td>\n",
       "    </tr>\n",
       "    <tr>\n",
       "      <th>1</th>\n",
       "      <td>1</td>\n",
       "      <td>BUY</td>\n",
       "      <td>2018-08-31</td>\n",
       "      <td>2018</td>\n",
       "      <td>1</td>\n",
       "      <td>10010012</td>\n",
       "      <td>64</td>\n",
       "      <td>1940.0</td>\n",
       "      <td>124160.0</td>\n",
       "      <td>1PLY RASCHEL BLANKET</td>\n",
       "      <td>TAMILON</td>\n",
       "      <td>64.0</td>\n",
       "      <td>1PLY RASCHEL BLANKET</td>\n",
       "      <td>NaN</td>\n",
       "      <td>NaN</td>\n",
       "      <td>NaN</td>\n",
       "      <td>NaN</td>\n",
       "      <td>NaN</td>\n",
       "      <td>NaN</td>\n",
       "    </tr>\n",
       "    <tr>\n",
       "      <th>2</th>\n",
       "      <td>2</td>\n",
       "      <td>BUY</td>\n",
       "      <td>2018-08-31</td>\n",
       "      <td>2018</td>\n",
       "      <td>1</td>\n",
       "      <td>10010014</td>\n",
       "      <td>20</td>\n",
       "      <td>1732.0</td>\n",
       "      <td>34640.0</td>\n",
       "      <td>1PLY RASCHEL BLANKET</td>\n",
       "      <td>OLYMPIA GOLD</td>\n",
       "      <td>20.0</td>\n",
       "      <td>1PLY RASCHEL BLANKET</td>\n",
       "      <td>NaN</td>\n",
       "      <td>NaN</td>\n",
       "      <td>NaN</td>\n",
       "      <td>NaN</td>\n",
       "      <td>NaN</td>\n",
       "      <td>NaN</td>\n",
       "    </tr>\n",
       "    <tr>\n",
       "      <th>3</th>\n",
       "      <td>3</td>\n",
       "      <td>BUY</td>\n",
       "      <td>2018-08-31</td>\n",
       "      <td>2018</td>\n",
       "      <td>1</td>\n",
       "      <td>10010015</td>\n",
       "      <td>16</td>\n",
       "      <td>1936.0</td>\n",
       "      <td>30976.0</td>\n",
       "      <td>1PLY RASCHEL BLANKET</td>\n",
       "      <td>PRESIDENT</td>\n",
       "      <td>16.0</td>\n",
       "      <td>1PLY RASCHEL BLANKET</td>\n",
       "      <td>NaN</td>\n",
       "      <td>NaN</td>\n",
       "      <td>NaN</td>\n",
       "      <td>NaN</td>\n",
       "      <td>NaN</td>\n",
       "      <td>NaN</td>\n",
       "    </tr>\n",
       "    <tr>\n",
       "      <th>4</th>\n",
       "      <td>4</td>\n",
       "      <td>BUY</td>\n",
       "      <td>2018-08-31</td>\n",
       "      <td>2018</td>\n",
       "      <td>1</td>\n",
       "      <td>10010032</td>\n",
       "      <td>35</td>\n",
       "      <td>2350.0</td>\n",
       "      <td>82250.0</td>\n",
       "      <td>1PLY RASCHEL BLANKET</td>\n",
       "      <td>EMIRATES</td>\n",
       "      <td>35.0</td>\n",
       "      <td>1PLY RASCHEL BLANKET</td>\n",
       "      <td>NaN</td>\n",
       "      <td>NaN</td>\n",
       "      <td>NaN</td>\n",
       "      <td>NaN</td>\n",
       "      <td>NaN</td>\n",
       "      <td>NaN</td>\n",
       "    </tr>\n",
       "    <tr>\n",
       "      <th>...</th>\n",
       "      <td>...</td>\n",
       "      <td>...</td>\n",
       "      <td>...</td>\n",
       "      <td>...</td>\n",
       "      <td>...</td>\n",
       "      <td>...</td>\n",
       "      <td>...</td>\n",
       "      <td>...</td>\n",
       "      <td>...</td>\n",
       "      <td>...</td>\n",
       "      <td>...</td>\n",
       "      <td>...</td>\n",
       "      <td>...</td>\n",
       "      <td>...</td>\n",
       "      <td>...</td>\n",
       "      <td>...</td>\n",
       "      <td>...</td>\n",
       "      <td>...</td>\n",
       "      <td>...</td>\n",
       "    </tr>\n",
       "    <tr>\n",
       "      <th>496</th>\n",
       "      <td>496</td>\n",
       "      <td>BUY</td>\n",
       "      <td>2021-11-01</td>\n",
       "      <td>2021</td>\n",
       "      <td>30</td>\n",
       "      <td>10010024</td>\n",
       "      <td>1815</td>\n",
       "      <td>2400.0</td>\n",
       "      <td>4356000.0</td>\n",
       "      <td>1PLY RASCHEL BLANKET</td>\n",
       "      <td>SIGNATURE</td>\n",
       "      <td>NaN</td>\n",
       "      <td>NaN</td>\n",
       "      <td>NaN</td>\n",
       "      <td>NaN</td>\n",
       "      <td>NaN</td>\n",
       "      <td>NaN</td>\n",
       "      <td>1815.0</td>\n",
       "      <td>1PLY RASCHEL BLANKET</td>\n",
       "    </tr>\n",
       "    <tr>\n",
       "      <th>497</th>\n",
       "      <td>497</td>\n",
       "      <td>BUY</td>\n",
       "      <td>2021-11-01</td>\n",
       "      <td>2021</td>\n",
       "      <td>30</td>\n",
       "      <td>10010009</td>\n",
       "      <td>1440</td>\n",
       "      <td>3035.0</td>\n",
       "      <td>4370400.0</td>\n",
       "      <td>1PLY RASCHEL BLANKET</td>\n",
       "      <td>SOLARON</td>\n",
       "      <td>NaN</td>\n",
       "      <td>NaN</td>\n",
       "      <td>NaN</td>\n",
       "      <td>NaN</td>\n",
       "      <td>NaN</td>\n",
       "      <td>NaN</td>\n",
       "      <td>1440.0</td>\n",
       "      <td>1PLY RASCHEL BLANKET</td>\n",
       "    </tr>\n",
       "    <tr>\n",
       "      <th>498</th>\n",
       "      <td>498</td>\n",
       "      <td>BUY</td>\n",
       "      <td>2021-11-01</td>\n",
       "      <td>2021</td>\n",
       "      <td>30</td>\n",
       "      <td>10010050</td>\n",
       "      <td>13846</td>\n",
       "      <td>460.0</td>\n",
       "      <td>6369160.0</td>\n",
       "      <td>1PLY CLOUDY BABY</td>\n",
       "      <td>KINGSTAR CLOUDY BABY</td>\n",
       "      <td>NaN</td>\n",
       "      <td>NaN</td>\n",
       "      <td>NaN</td>\n",
       "      <td>NaN</td>\n",
       "      <td>NaN</td>\n",
       "      <td>NaN</td>\n",
       "      <td>13846.0</td>\n",
       "      <td>1PLY CLOUDY BABY</td>\n",
       "    </tr>\n",
       "    <tr>\n",
       "      <th>499</th>\n",
       "      <td>499</td>\n",
       "      <td>BUY</td>\n",
       "      <td>2021-11-02</td>\n",
       "      <td>2021</td>\n",
       "      <td>31</td>\n",
       "      <td>10020036</td>\n",
       "      <td>5038</td>\n",
       "      <td>1500.0</td>\n",
       "      <td>7557000.0</td>\n",
       "      <td>2PLY WEFT BLANKET</td>\n",
       "      <td>PANDA</td>\n",
       "      <td>NaN</td>\n",
       "      <td>NaN</td>\n",
       "      <td>NaN</td>\n",
       "      <td>NaN</td>\n",
       "      <td>NaN</td>\n",
       "      <td>NaN</td>\n",
       "      <td>5038.0</td>\n",
       "      <td>2PLY WEFT BLANKET</td>\n",
       "    </tr>\n",
       "    <tr>\n",
       "      <th>500</th>\n",
       "      <td>500</td>\n",
       "      <td>BUY</td>\n",
       "      <td>2021-11-02</td>\n",
       "      <td>2021</td>\n",
       "      <td>32</td>\n",
       "      <td>10020003</td>\n",
       "      <td>2694</td>\n",
       "      <td>2600.0</td>\n",
       "      <td>7004400.0</td>\n",
       "      <td>2PLY RASCHEL BLANKET</td>\n",
       "      <td>BREEZE</td>\n",
       "      <td>NaN</td>\n",
       "      <td>NaN</td>\n",
       "      <td>NaN</td>\n",
       "      <td>NaN</td>\n",
       "      <td>NaN</td>\n",
       "      <td>NaN</td>\n",
       "      <td>2694.0</td>\n",
       "      <td>2PLY RASCHEL BLANKET</td>\n",
       "    </tr>\n",
       "  </tbody>\n",
       "</table>\n",
       "<p>501 rows × 19 columns</p>\n",
       "</div>"
      ],
      "text/plain": [
       "     Unnamed: 0 TransType   TransDate  Year  TransNO    ItemID    Qty    Rate  \\\n",
       "0             0       BUY  2018-08-31  2018        1  10010001   2013  1700.0   \n",
       "1             1       BUY  2018-08-31  2018        1  10010012     64  1940.0   \n",
       "2             2       BUY  2018-08-31  2018        1  10010014     20  1732.0   \n",
       "3             3       BUY  2018-08-31  2018        1  10010015     16  1936.0   \n",
       "4             4       BUY  2018-08-31  2018        1  10010032     35  2350.0   \n",
       "..          ...       ...         ...   ...      ...       ...    ...     ...   \n",
       "496         496       BUY  2021-11-01  2021       30  10010024   1815  2400.0   \n",
       "497         497       BUY  2021-11-01  2021       30  10010009   1440  3035.0   \n",
       "498         498       BUY  2021-11-01  2021       30  10010050  13846   460.0   \n",
       "499         499       BUY  2021-11-02  2021       31  10020036   5038  1500.0   \n",
       "500         500       BUY  2021-11-02  2021       32  10020003   2694  2600.0   \n",
       "\n",
       "        Amount               ItemName                 Brand  TOTAL_buy_2018  \\\n",
       "0    3422100.0   1PLY RASCHEL BLANKET                SULTAN          2013.0   \n",
       "1     124160.0   1PLY RASCHEL BLANKET               TAMILON            64.0   \n",
       "2      34640.0   1PLY RASCHEL BLANKET          OLYMPIA GOLD            20.0   \n",
       "3      30976.0   1PLY RASCHEL BLANKET             PRESIDENT            16.0   \n",
       "4      82250.0  1PLY RASCHEL BLANKET               EMIRATES            35.0   \n",
       "..         ...                    ...                   ...             ...   \n",
       "496  4356000.0   1PLY RASCHEL BLANKET             SIGNATURE             NaN   \n",
       "497  4370400.0   1PLY RASCHEL BLANKET               SOLARON             NaN   \n",
       "498  6369160.0       1PLY CLOUDY BABY  KINGSTAR CLOUDY BABY             NaN   \n",
       "499  7557000.0      2PLY WEFT BLANKET                 PANDA             NaN   \n",
       "500  7004400.0   2PLY RASCHEL BLANKET                BREEZE             NaN   \n",
       "\n",
       "    TOTAL_buy_2018_ItemName  TOTAL_buy_2019 TOTAL_buy_2019_ItemName  \\\n",
       "0      1PLY RASCHEL BLANKET             NaN                     NaN   \n",
       "1      1PLY RASCHEL BLANKET             NaN                     NaN   \n",
       "2      1PLY RASCHEL BLANKET             NaN                     NaN   \n",
       "3      1PLY RASCHEL BLANKET             NaN                     NaN   \n",
       "4     1PLY RASCHEL BLANKET              NaN                     NaN   \n",
       "..                      ...             ...                     ...   \n",
       "496                     NaN             NaN                     NaN   \n",
       "497                     NaN             NaN                     NaN   \n",
       "498                     NaN             NaN                     NaN   \n",
       "499                     NaN             NaN                     NaN   \n",
       "500                     NaN             NaN                     NaN   \n",
       "\n",
       "     TOTAL_buy_2020 TOTAL_buy_2020_ItemName  TOTAL_buy_2021  \\\n",
       "0               NaN                     NaN             NaN   \n",
       "1               NaN                     NaN             NaN   \n",
       "2               NaN                     NaN             NaN   \n",
       "3               NaN                     NaN             NaN   \n",
       "4               NaN                     NaN             NaN   \n",
       "..              ...                     ...             ...   \n",
       "496             NaN                     NaN          1815.0   \n",
       "497             NaN                     NaN          1440.0   \n",
       "498             NaN                     NaN         13846.0   \n",
       "499             NaN                     NaN          5038.0   \n",
       "500             NaN                     NaN          2694.0   \n",
       "\n",
       "    TOTAL_buy_2021_ItemName  \n",
       "0                       NaN  \n",
       "1                       NaN  \n",
       "2                       NaN  \n",
       "3                       NaN  \n",
       "4                       NaN  \n",
       "..                      ...  \n",
       "496    1PLY RASCHEL BLANKET  \n",
       "497    1PLY RASCHEL BLANKET  \n",
       "498        1PLY CLOUDY BABY  \n",
       "499       2PLY WEFT BLANKET  \n",
       "500    2PLY RASCHEL BLANKET  \n",
       "\n",
       "[501 rows x 19 columns]"
      ]
     },
     "execution_count": 13,
     "metadata": {},
     "output_type": "execute_result"
    }
   ],
   "source": [
    "buy_data"
   ]
  },
  {
   "cell_type": "code",
   "execution_count": 14,
   "id": "5631f228",
   "metadata": {},
   "outputs": [],
   "source": [
    "#load sale data set\n",
    "sale_data=pd.read_csv(\"sale_data\")"
   ]
  },
  {
   "cell_type": "code",
   "execution_count": 15,
   "id": "0e8bb12b",
   "metadata": {},
   "outputs": [
    {
     "data": {
      "text/html": [
       "<div>\n",
       "<style scoped>\n",
       "    .dataframe tbody tr th:only-of-type {\n",
       "        vertical-align: middle;\n",
       "    }\n",
       "\n",
       "    .dataframe tbody tr th {\n",
       "        vertical-align: top;\n",
       "    }\n",
       "\n",
       "    .dataframe thead th {\n",
       "        text-align: right;\n",
       "    }\n",
       "</style>\n",
       "<table border=\"1\" class=\"dataframe\">\n",
       "  <thead>\n",
       "    <tr style=\"text-align: right;\">\n",
       "      <th></th>\n",
       "      <th>Unnamed: 0</th>\n",
       "      <th>TransType</th>\n",
       "      <th>TransDate</th>\n",
       "      <th>Year</th>\n",
       "      <th>TransNO</th>\n",
       "      <th>ItemID</th>\n",
       "      <th>Qty</th>\n",
       "      <th>Rate</th>\n",
       "      <th>Amount</th>\n",
       "      <th>ItemName</th>\n",
       "      <th>Brand</th>\n",
       "      <th>TOTAL_sale_2018</th>\n",
       "      <th>TOTAL_sale2018_ItemName</th>\n",
       "      <th>TOTAL_sale_2019</th>\n",
       "      <th>TOTAL_sale2019_ItemName</th>\n",
       "      <th>TOTAL_sale_2020</th>\n",
       "      <th>TOTAL_sale2020_ItemName</th>\n",
       "      <th>TOTAL_sale_2021</th>\n",
       "      <th>TOTAL_sale2021_ItemName</th>\n",
       "    </tr>\n",
       "  </thead>\n",
       "  <tbody>\n",
       "    <tr>\n",
       "      <th>0</th>\n",
       "      <td>502</td>\n",
       "      <td>SALE</td>\n",
       "      <td>2018-09-03</td>\n",
       "      <td>2018</td>\n",
       "      <td>1</td>\n",
       "      <td>10010004</td>\n",
       "      <td>50</td>\n",
       "      <td>1500.0</td>\n",
       "      <td>75000.0</td>\n",
       "      <td>1PLY RASCHEL BLANKET</td>\n",
       "      <td>JASMINE</td>\n",
       "      <td>50.0</td>\n",
       "      <td>1PLY RASCHEL BLANKET</td>\n",
       "      <td>NaN</td>\n",
       "      <td>NaN</td>\n",
       "      <td>NaN</td>\n",
       "      <td>NaN</td>\n",
       "      <td>NaN</td>\n",
       "      <td>NaN</td>\n",
       "    </tr>\n",
       "    <tr>\n",
       "      <th>1</th>\n",
       "      <td>503</td>\n",
       "      <td>SALE</td>\n",
       "      <td>2018-09-03</td>\n",
       "      <td>2018</td>\n",
       "      <td>1</td>\n",
       "      <td>10010003</td>\n",
       "      <td>60</td>\n",
       "      <td>1500.0</td>\n",
       "      <td>90000.0</td>\n",
       "      <td>1PLY RASCHEL BLANKET</td>\n",
       "      <td>VICTORIYA</td>\n",
       "      <td>60.0</td>\n",
       "      <td>1PLY RASCHEL BLANKET</td>\n",
       "      <td>NaN</td>\n",
       "      <td>NaN</td>\n",
       "      <td>NaN</td>\n",
       "      <td>NaN</td>\n",
       "      <td>NaN</td>\n",
       "      <td>NaN</td>\n",
       "    </tr>\n",
       "    <tr>\n",
       "      <th>2</th>\n",
       "      <td>504</td>\n",
       "      <td>SALE</td>\n",
       "      <td>2018-09-03</td>\n",
       "      <td>2018</td>\n",
       "      <td>2</td>\n",
       "      <td>10010001</td>\n",
       "      <td>20</td>\n",
       "      <td>1780.0</td>\n",
       "      <td>35600.0</td>\n",
       "      <td>1PLY RASCHEL BLANKET</td>\n",
       "      <td>SULTAN</td>\n",
       "      <td>20.0</td>\n",
       "      <td>1PLY RASCHEL BLANKET</td>\n",
       "      <td>NaN</td>\n",
       "      <td>NaN</td>\n",
       "      <td>NaN</td>\n",
       "      <td>NaN</td>\n",
       "      <td>NaN</td>\n",
       "      <td>NaN</td>\n",
       "    </tr>\n",
       "    <tr>\n",
       "      <th>3</th>\n",
       "      <td>505</td>\n",
       "      <td>SALE</td>\n",
       "      <td>2018-09-04</td>\n",
       "      <td>2018</td>\n",
       "      <td>3</td>\n",
       "      <td>10010009</td>\n",
       "      <td>60</td>\n",
       "      <td>3250.0</td>\n",
       "      <td>195000.0</td>\n",
       "      <td>1PLY RASCHEL BLANKET</td>\n",
       "      <td>SOLARON</td>\n",
       "      <td>60.0</td>\n",
       "      <td>1PLY RASCHEL BLANKET</td>\n",
       "      <td>NaN</td>\n",
       "      <td>NaN</td>\n",
       "      <td>NaN</td>\n",
       "      <td>NaN</td>\n",
       "      <td>NaN</td>\n",
       "      <td>NaN</td>\n",
       "    </tr>\n",
       "    <tr>\n",
       "      <th>4</th>\n",
       "      <td>506</td>\n",
       "      <td>SALE</td>\n",
       "      <td>2018-09-04</td>\n",
       "      <td>2018</td>\n",
       "      <td>3</td>\n",
       "      <td>10010002</td>\n",
       "      <td>200</td>\n",
       "      <td>1780.0</td>\n",
       "      <td>356000.0</td>\n",
       "      <td>1PLY RASCHEL BLANKET</td>\n",
       "      <td>RIO</td>\n",
       "      <td>200.0</td>\n",
       "      <td>1PLY RASCHEL BLANKET</td>\n",
       "      <td>NaN</td>\n",
       "      <td>NaN</td>\n",
       "      <td>NaN</td>\n",
       "      <td>NaN</td>\n",
       "      <td>NaN</td>\n",
       "      <td>NaN</td>\n",
       "    </tr>\n",
       "    <tr>\n",
       "      <th>...</th>\n",
       "      <td>...</td>\n",
       "      <td>...</td>\n",
       "      <td>...</td>\n",
       "      <td>...</td>\n",
       "      <td>...</td>\n",
       "      <td>...</td>\n",
       "      <td>...</td>\n",
       "      <td>...</td>\n",
       "      <td>...</td>\n",
       "      <td>...</td>\n",
       "      <td>...</td>\n",
       "      <td>...</td>\n",
       "      <td>...</td>\n",
       "      <td>...</td>\n",
       "      <td>...</td>\n",
       "      <td>...</td>\n",
       "      <td>...</td>\n",
       "      <td>...</td>\n",
       "      <td>...</td>\n",
       "    </tr>\n",
       "    <tr>\n",
       "      <th>17064</th>\n",
       "      <td>17566</td>\n",
       "      <td>SALE</td>\n",
       "      <td>2021-11-08</td>\n",
       "      <td>2021</td>\n",
       "      <td>1247</td>\n",
       "      <td>10020039</td>\n",
       "      <td>24</td>\n",
       "      <td>2270.0</td>\n",
       "      <td>54480.0</td>\n",
       "      <td>2PLY WEFTBLANKET</td>\n",
       "      <td>JASMINE (2)</td>\n",
       "      <td>NaN</td>\n",
       "      <td>NaN</td>\n",
       "      <td>NaN</td>\n",
       "      <td>NaN</td>\n",
       "      <td>NaN</td>\n",
       "      <td>NaN</td>\n",
       "      <td>24.0</td>\n",
       "      <td>2PLY WEFTBLANKET</td>\n",
       "    </tr>\n",
       "    <tr>\n",
       "      <th>17065</th>\n",
       "      <td>17567</td>\n",
       "      <td>SALE</td>\n",
       "      <td>2021-11-08</td>\n",
       "      <td>2021</td>\n",
       "      <td>1247</td>\n",
       "      <td>10020017</td>\n",
       "      <td>28</td>\n",
       "      <td>2550.0</td>\n",
       "      <td>71400.0</td>\n",
       "      <td>2PLY WEFT BLANKET</td>\n",
       "      <td>NATURELIFE</td>\n",
       "      <td>NaN</td>\n",
       "      <td>NaN</td>\n",
       "      <td>NaN</td>\n",
       "      <td>NaN</td>\n",
       "      <td>NaN</td>\n",
       "      <td>NaN</td>\n",
       "      <td>28.0</td>\n",
       "      <td>2PLY WEFT BLANKET</td>\n",
       "    </tr>\n",
       "    <tr>\n",
       "      <th>17066</th>\n",
       "      <td>17568</td>\n",
       "      <td>SALE</td>\n",
       "      <td>2021-11-08</td>\n",
       "      <td>2021</td>\n",
       "      <td>1247</td>\n",
       "      <td>10020003</td>\n",
       "      <td>18</td>\n",
       "      <td>3200.0</td>\n",
       "      <td>57600.0</td>\n",
       "      <td>2PLY RASCHEL BLANKET</td>\n",
       "      <td>BREEZE</td>\n",
       "      <td>NaN</td>\n",
       "      <td>NaN</td>\n",
       "      <td>NaN</td>\n",
       "      <td>NaN</td>\n",
       "      <td>NaN</td>\n",
       "      <td>NaN</td>\n",
       "      <td>18.0</td>\n",
       "      <td>2PLY RASCHEL BLANKET</td>\n",
       "    </tr>\n",
       "    <tr>\n",
       "      <th>17067</th>\n",
       "      <td>17569</td>\n",
       "      <td>SALE</td>\n",
       "      <td>2021-11-08</td>\n",
       "      <td>2021</td>\n",
       "      <td>1248</td>\n",
       "      <td>10020017</td>\n",
       "      <td>21</td>\n",
       "      <td>2550.0</td>\n",
       "      <td>53550.0</td>\n",
       "      <td>2PLY WEFT BLANKET</td>\n",
       "      <td>NATURELIFE</td>\n",
       "      <td>NaN</td>\n",
       "      <td>NaN</td>\n",
       "      <td>NaN</td>\n",
       "      <td>NaN</td>\n",
       "      <td>NaN</td>\n",
       "      <td>NaN</td>\n",
       "      <td>21.0</td>\n",
       "      <td>2PLY WEFT BLANKET</td>\n",
       "    </tr>\n",
       "    <tr>\n",
       "      <th>17068</th>\n",
       "      <td>17570</td>\n",
       "      <td>SALE</td>\n",
       "      <td>2021-11-08</td>\n",
       "      <td>2021</td>\n",
       "      <td>1248</td>\n",
       "      <td>10020039</td>\n",
       "      <td>24</td>\n",
       "      <td>2250.0</td>\n",
       "      <td>54000.0</td>\n",
       "      <td>2PLY WEFTBLANKET</td>\n",
       "      <td>JASMINE (2)</td>\n",
       "      <td>NaN</td>\n",
       "      <td>NaN</td>\n",
       "      <td>NaN</td>\n",
       "      <td>NaN</td>\n",
       "      <td>NaN</td>\n",
       "      <td>NaN</td>\n",
       "      <td>24.0</td>\n",
       "      <td>2PLY WEFTBLANKET</td>\n",
       "    </tr>\n",
       "  </tbody>\n",
       "</table>\n",
       "<p>17069 rows × 19 columns</p>\n",
       "</div>"
      ],
      "text/plain": [
       "       Unnamed: 0 TransType   TransDate  Year  TransNO    ItemID  Qty    Rate  \\\n",
       "0             502      SALE  2018-09-03  2018        1  10010004   50  1500.0   \n",
       "1             503      SALE  2018-09-03  2018        1  10010003   60  1500.0   \n",
       "2             504      SALE  2018-09-03  2018        2  10010001   20  1780.0   \n",
       "3             505      SALE  2018-09-04  2018        3  10010009   60  3250.0   \n",
       "4             506      SALE  2018-09-04  2018        3  10010002  200  1780.0   \n",
       "...           ...       ...         ...   ...      ...       ...  ...     ...   \n",
       "17064       17566      SALE  2021-11-08  2021     1247  10020039   24  2270.0   \n",
       "17065       17567      SALE  2021-11-08  2021     1247  10020017   28  2550.0   \n",
       "17066       17568      SALE  2021-11-08  2021     1247  10020003   18  3200.0   \n",
       "17067       17569      SALE  2021-11-08  2021     1248  10020017   21  2550.0   \n",
       "17068       17570      SALE  2021-11-08  2021     1248  10020039   24  2250.0   \n",
       "\n",
       "         Amount              ItemName        Brand  TOTAL_sale_2018  \\\n",
       "0       75000.0  1PLY RASCHEL BLANKET      JASMINE             50.0   \n",
       "1       90000.0  1PLY RASCHEL BLANKET    VICTORIYA             60.0   \n",
       "2       35600.0  1PLY RASCHEL BLANKET       SULTAN             20.0   \n",
       "3      195000.0  1PLY RASCHEL BLANKET      SOLARON             60.0   \n",
       "4      356000.0  1PLY RASCHEL BLANKET          RIO            200.0   \n",
       "...         ...                   ...          ...              ...   \n",
       "17064   54480.0      2PLY WEFTBLANKET  JASMINE (2)              NaN   \n",
       "17065   71400.0     2PLY WEFT BLANKET   NATURELIFE              NaN   \n",
       "17066   57600.0  2PLY RASCHEL BLANKET       BREEZE              NaN   \n",
       "17067   53550.0     2PLY WEFT BLANKET   NATURELIFE              NaN   \n",
       "17068   54000.0      2PLY WEFTBLANKET  JASMINE (2)              NaN   \n",
       "\n",
       "      TOTAL_sale2018_ItemName  TOTAL_sale_2019 TOTAL_sale2019_ItemName  \\\n",
       "0        1PLY RASCHEL BLANKET              NaN                     NaN   \n",
       "1        1PLY RASCHEL BLANKET              NaN                     NaN   \n",
       "2        1PLY RASCHEL BLANKET              NaN                     NaN   \n",
       "3        1PLY RASCHEL BLANKET              NaN                     NaN   \n",
       "4        1PLY RASCHEL BLANKET              NaN                     NaN   \n",
       "...                       ...              ...                     ...   \n",
       "17064                     NaN              NaN                     NaN   \n",
       "17065                     NaN              NaN                     NaN   \n",
       "17066                     NaN              NaN                     NaN   \n",
       "17067                     NaN              NaN                     NaN   \n",
       "17068                     NaN              NaN                     NaN   \n",
       "\n",
       "       TOTAL_sale_2020 TOTAL_sale2020_ItemName  TOTAL_sale_2021  \\\n",
       "0                  NaN                     NaN              NaN   \n",
       "1                  NaN                     NaN              NaN   \n",
       "2                  NaN                     NaN              NaN   \n",
       "3                  NaN                     NaN              NaN   \n",
       "4                  NaN                     NaN              NaN   \n",
       "...                ...                     ...              ...   \n",
       "17064              NaN                     NaN             24.0   \n",
       "17065              NaN                     NaN             28.0   \n",
       "17066              NaN                     NaN             18.0   \n",
       "17067              NaN                     NaN             21.0   \n",
       "17068              NaN                     NaN             24.0   \n",
       "\n",
       "      TOTAL_sale2021_ItemName  \n",
       "0                         NaN  \n",
       "1                         NaN  \n",
       "2                         NaN  \n",
       "3                         NaN  \n",
       "4                         NaN  \n",
       "...                       ...  \n",
       "17064        2PLY WEFTBLANKET  \n",
       "17065       2PLY WEFT BLANKET  \n",
       "17066    2PLY RASCHEL BLANKET  \n",
       "17067       2PLY WEFT BLANKET  \n",
       "17068        2PLY WEFTBLANKET  \n",
       "\n",
       "[17069 rows x 19 columns]"
      ]
     },
     "execution_count": 15,
     "metadata": {},
     "output_type": "execute_result"
    }
   ],
   "source": [
    "sale_data"
   ]
  },
  {
   "cell_type": "code",
   "execution_count": 16,
   "id": "5f588d56",
   "metadata": {},
   "outputs": [],
   "source": [
    "# import encoder library\n",
    "from sklearn.preprocessing import LabelEncoder\n",
    "le=LabelEncoder()"
   ]
  },
  {
   "cell_type": "code",
   "execution_count": 17,
   "id": "ba6debfd",
   "metadata": {},
   "outputs": [],
   "source": [
    "#encode Brand data\n",
    "sale_data.Brand=le.fit_transform(sale_data.Brand)"
   ]
  },
  {
   "cell_type": "code",
   "execution_count": 18,
   "id": "84c2d195",
   "metadata": {},
   "outputs": [
    {
     "data": {
      "text/html": [
       "<div>\n",
       "<style scoped>\n",
       "    .dataframe tbody tr th:only-of-type {\n",
       "        vertical-align: middle;\n",
       "    }\n",
       "\n",
       "    .dataframe tbody tr th {\n",
       "        vertical-align: top;\n",
       "    }\n",
       "\n",
       "    .dataframe thead th {\n",
       "        text-align: right;\n",
       "    }\n",
       "</style>\n",
       "<table border=\"1\" class=\"dataframe\">\n",
       "  <thead>\n",
       "    <tr style=\"text-align: right;\">\n",
       "      <th></th>\n",
       "      <th>Unnamed: 0</th>\n",
       "      <th>TransType</th>\n",
       "      <th>TransDate</th>\n",
       "      <th>Year</th>\n",
       "      <th>TransNO</th>\n",
       "      <th>ItemID</th>\n",
       "      <th>Qty</th>\n",
       "      <th>Rate</th>\n",
       "      <th>Amount</th>\n",
       "      <th>ItemName</th>\n",
       "      <th>Brand</th>\n",
       "      <th>TOTAL_sale_2018</th>\n",
       "      <th>TOTAL_sale2018_ItemName</th>\n",
       "      <th>TOTAL_sale_2019</th>\n",
       "      <th>TOTAL_sale2019_ItemName</th>\n",
       "      <th>TOTAL_sale_2020</th>\n",
       "      <th>TOTAL_sale2020_ItemName</th>\n",
       "      <th>TOTAL_sale_2021</th>\n",
       "      <th>TOTAL_sale2021_ItemName</th>\n",
       "    </tr>\n",
       "  </thead>\n",
       "  <tbody>\n",
       "    <tr>\n",
       "      <th>0</th>\n",
       "      <td>502</td>\n",
       "      <td>SALE</td>\n",
       "      <td>2018-09-03</td>\n",
       "      <td>2018</td>\n",
       "      <td>1</td>\n",
       "      <td>10010004</td>\n",
       "      <td>50</td>\n",
       "      <td>1500.0</td>\n",
       "      <td>75000.0</td>\n",
       "      <td>1PLY RASCHEL BLANKET</td>\n",
       "      <td>27</td>\n",
       "      <td>50.0</td>\n",
       "      <td>1PLY RASCHEL BLANKET</td>\n",
       "      <td>NaN</td>\n",
       "      <td>NaN</td>\n",
       "      <td>NaN</td>\n",
       "      <td>NaN</td>\n",
       "      <td>NaN</td>\n",
       "      <td>NaN</td>\n",
       "    </tr>\n",
       "    <tr>\n",
       "      <th>1</th>\n",
       "      <td>503</td>\n",
       "      <td>SALE</td>\n",
       "      <td>2018-09-03</td>\n",
       "      <td>2018</td>\n",
       "      <td>1</td>\n",
       "      <td>10010003</td>\n",
       "      <td>60</td>\n",
       "      <td>1500.0</td>\n",
       "      <td>90000.0</td>\n",
       "      <td>1PLY RASCHEL BLANKET</td>\n",
       "      <td>76</td>\n",
       "      <td>60.0</td>\n",
       "      <td>1PLY RASCHEL BLANKET</td>\n",
       "      <td>NaN</td>\n",
       "      <td>NaN</td>\n",
       "      <td>NaN</td>\n",
       "      <td>NaN</td>\n",
       "      <td>NaN</td>\n",
       "      <td>NaN</td>\n",
       "    </tr>\n",
       "    <tr>\n",
       "      <th>2</th>\n",
       "      <td>504</td>\n",
       "      <td>SALE</td>\n",
       "      <td>2018-09-03</td>\n",
       "      <td>2018</td>\n",
       "      <td>2</td>\n",
       "      <td>10010001</td>\n",
       "      <td>20</td>\n",
       "      <td>1780.0</td>\n",
       "      <td>35600.0</td>\n",
       "      <td>1PLY RASCHEL BLANKET</td>\n",
       "      <td>65</td>\n",
       "      <td>20.0</td>\n",
       "      <td>1PLY RASCHEL BLANKET</td>\n",
       "      <td>NaN</td>\n",
       "      <td>NaN</td>\n",
       "      <td>NaN</td>\n",
       "      <td>NaN</td>\n",
       "      <td>NaN</td>\n",
       "      <td>NaN</td>\n",
       "    </tr>\n",
       "    <tr>\n",
       "      <th>3</th>\n",
       "      <td>505</td>\n",
       "      <td>SALE</td>\n",
       "      <td>2018-09-04</td>\n",
       "      <td>2018</td>\n",
       "      <td>3</td>\n",
       "      <td>10010009</td>\n",
       "      <td>60</td>\n",
       "      <td>3250.0</td>\n",
       "      <td>195000.0</td>\n",
       "      <td>1PLY RASCHEL BLANKET</td>\n",
       "      <td>57</td>\n",
       "      <td>60.0</td>\n",
       "      <td>1PLY RASCHEL BLANKET</td>\n",
       "      <td>NaN</td>\n",
       "      <td>NaN</td>\n",
       "      <td>NaN</td>\n",
       "      <td>NaN</td>\n",
       "      <td>NaN</td>\n",
       "      <td>NaN</td>\n",
       "    </tr>\n",
       "    <tr>\n",
       "      <th>4</th>\n",
       "      <td>506</td>\n",
       "      <td>SALE</td>\n",
       "      <td>2018-09-04</td>\n",
       "      <td>2018</td>\n",
       "      <td>3</td>\n",
       "      <td>10010002</td>\n",
       "      <td>200</td>\n",
       "      <td>1780.0</td>\n",
       "      <td>356000.0</td>\n",
       "      <td>1PLY RASCHEL BLANKET</td>\n",
       "      <td>53</td>\n",
       "      <td>200.0</td>\n",
       "      <td>1PLY RASCHEL BLANKET</td>\n",
       "      <td>NaN</td>\n",
       "      <td>NaN</td>\n",
       "      <td>NaN</td>\n",
       "      <td>NaN</td>\n",
       "      <td>NaN</td>\n",
       "      <td>NaN</td>\n",
       "    </tr>\n",
       "    <tr>\n",
       "      <th>...</th>\n",
       "      <td>...</td>\n",
       "      <td>...</td>\n",
       "      <td>...</td>\n",
       "      <td>...</td>\n",
       "      <td>...</td>\n",
       "      <td>...</td>\n",
       "      <td>...</td>\n",
       "      <td>...</td>\n",
       "      <td>...</td>\n",
       "      <td>...</td>\n",
       "      <td>...</td>\n",
       "      <td>...</td>\n",
       "      <td>...</td>\n",
       "      <td>...</td>\n",
       "      <td>...</td>\n",
       "      <td>...</td>\n",
       "      <td>...</td>\n",
       "      <td>...</td>\n",
       "      <td>...</td>\n",
       "    </tr>\n",
       "    <tr>\n",
       "      <th>17064</th>\n",
       "      <td>17566</td>\n",
       "      <td>SALE</td>\n",
       "      <td>2021-11-08</td>\n",
       "      <td>2021</td>\n",
       "      <td>1247</td>\n",
       "      <td>10020039</td>\n",
       "      <td>24</td>\n",
       "      <td>2270.0</td>\n",
       "      <td>54480.0</td>\n",
       "      <td>2PLY WEFTBLANKET</td>\n",
       "      <td>28</td>\n",
       "      <td>NaN</td>\n",
       "      <td>NaN</td>\n",
       "      <td>NaN</td>\n",
       "      <td>NaN</td>\n",
       "      <td>NaN</td>\n",
       "      <td>NaN</td>\n",
       "      <td>24.0</td>\n",
       "      <td>2PLY WEFTBLANKET</td>\n",
       "    </tr>\n",
       "    <tr>\n",
       "      <th>17065</th>\n",
       "      <td>17567</td>\n",
       "      <td>SALE</td>\n",
       "      <td>2021-11-08</td>\n",
       "      <td>2021</td>\n",
       "      <td>1247</td>\n",
       "      <td>10020017</td>\n",
       "      <td>28</td>\n",
       "      <td>2550.0</td>\n",
       "      <td>71400.0</td>\n",
       "      <td>2PLY WEFT BLANKET</td>\n",
       "      <td>41</td>\n",
       "      <td>NaN</td>\n",
       "      <td>NaN</td>\n",
       "      <td>NaN</td>\n",
       "      <td>NaN</td>\n",
       "      <td>NaN</td>\n",
       "      <td>NaN</td>\n",
       "      <td>28.0</td>\n",
       "      <td>2PLY WEFT BLANKET</td>\n",
       "    </tr>\n",
       "    <tr>\n",
       "      <th>17066</th>\n",
       "      <td>17568</td>\n",
       "      <td>SALE</td>\n",
       "      <td>2021-11-08</td>\n",
       "      <td>2021</td>\n",
       "      <td>1247</td>\n",
       "      <td>10020003</td>\n",
       "      <td>18</td>\n",
       "      <td>3200.0</td>\n",
       "      <td>57600.0</td>\n",
       "      <td>2PLY RASCHEL BLANKET</td>\n",
       "      <td>9</td>\n",
       "      <td>NaN</td>\n",
       "      <td>NaN</td>\n",
       "      <td>NaN</td>\n",
       "      <td>NaN</td>\n",
       "      <td>NaN</td>\n",
       "      <td>NaN</td>\n",
       "      <td>18.0</td>\n",
       "      <td>2PLY RASCHEL BLANKET</td>\n",
       "    </tr>\n",
       "    <tr>\n",
       "      <th>17067</th>\n",
       "      <td>17569</td>\n",
       "      <td>SALE</td>\n",
       "      <td>2021-11-08</td>\n",
       "      <td>2021</td>\n",
       "      <td>1248</td>\n",
       "      <td>10020017</td>\n",
       "      <td>21</td>\n",
       "      <td>2550.0</td>\n",
       "      <td>53550.0</td>\n",
       "      <td>2PLY WEFT BLANKET</td>\n",
       "      <td>41</td>\n",
       "      <td>NaN</td>\n",
       "      <td>NaN</td>\n",
       "      <td>NaN</td>\n",
       "      <td>NaN</td>\n",
       "      <td>NaN</td>\n",
       "      <td>NaN</td>\n",
       "      <td>21.0</td>\n",
       "      <td>2PLY WEFT BLANKET</td>\n",
       "    </tr>\n",
       "    <tr>\n",
       "      <th>17068</th>\n",
       "      <td>17570</td>\n",
       "      <td>SALE</td>\n",
       "      <td>2021-11-08</td>\n",
       "      <td>2021</td>\n",
       "      <td>1248</td>\n",
       "      <td>10020039</td>\n",
       "      <td>24</td>\n",
       "      <td>2250.0</td>\n",
       "      <td>54000.0</td>\n",
       "      <td>2PLY WEFTBLANKET</td>\n",
       "      <td>28</td>\n",
       "      <td>NaN</td>\n",
       "      <td>NaN</td>\n",
       "      <td>NaN</td>\n",
       "      <td>NaN</td>\n",
       "      <td>NaN</td>\n",
       "      <td>NaN</td>\n",
       "      <td>24.0</td>\n",
       "      <td>2PLY WEFTBLANKET</td>\n",
       "    </tr>\n",
       "  </tbody>\n",
       "</table>\n",
       "<p>17069 rows × 19 columns</p>\n",
       "</div>"
      ],
      "text/plain": [
       "       Unnamed: 0 TransType   TransDate  Year  TransNO    ItemID  Qty    Rate  \\\n",
       "0             502      SALE  2018-09-03  2018        1  10010004   50  1500.0   \n",
       "1             503      SALE  2018-09-03  2018        1  10010003   60  1500.0   \n",
       "2             504      SALE  2018-09-03  2018        2  10010001   20  1780.0   \n",
       "3             505      SALE  2018-09-04  2018        3  10010009   60  3250.0   \n",
       "4             506      SALE  2018-09-04  2018        3  10010002  200  1780.0   \n",
       "...           ...       ...         ...   ...      ...       ...  ...     ...   \n",
       "17064       17566      SALE  2021-11-08  2021     1247  10020039   24  2270.0   \n",
       "17065       17567      SALE  2021-11-08  2021     1247  10020017   28  2550.0   \n",
       "17066       17568      SALE  2021-11-08  2021     1247  10020003   18  3200.0   \n",
       "17067       17569      SALE  2021-11-08  2021     1248  10020017   21  2550.0   \n",
       "17068       17570      SALE  2021-11-08  2021     1248  10020039   24  2250.0   \n",
       "\n",
       "         Amount              ItemName  Brand  TOTAL_sale_2018  \\\n",
       "0       75000.0  1PLY RASCHEL BLANKET     27             50.0   \n",
       "1       90000.0  1PLY RASCHEL BLANKET     76             60.0   \n",
       "2       35600.0  1PLY RASCHEL BLANKET     65             20.0   \n",
       "3      195000.0  1PLY RASCHEL BLANKET     57             60.0   \n",
       "4      356000.0  1PLY RASCHEL BLANKET     53            200.0   \n",
       "...         ...                   ...    ...              ...   \n",
       "17064   54480.0      2PLY WEFTBLANKET     28              NaN   \n",
       "17065   71400.0     2PLY WEFT BLANKET     41              NaN   \n",
       "17066   57600.0  2PLY RASCHEL BLANKET      9              NaN   \n",
       "17067   53550.0     2PLY WEFT BLANKET     41              NaN   \n",
       "17068   54000.0      2PLY WEFTBLANKET     28              NaN   \n",
       "\n",
       "      TOTAL_sale2018_ItemName  TOTAL_sale_2019 TOTAL_sale2019_ItemName  \\\n",
       "0        1PLY RASCHEL BLANKET              NaN                     NaN   \n",
       "1        1PLY RASCHEL BLANKET              NaN                     NaN   \n",
       "2        1PLY RASCHEL BLANKET              NaN                     NaN   \n",
       "3        1PLY RASCHEL BLANKET              NaN                     NaN   \n",
       "4        1PLY RASCHEL BLANKET              NaN                     NaN   \n",
       "...                       ...              ...                     ...   \n",
       "17064                     NaN              NaN                     NaN   \n",
       "17065                     NaN              NaN                     NaN   \n",
       "17066                     NaN              NaN                     NaN   \n",
       "17067                     NaN              NaN                     NaN   \n",
       "17068                     NaN              NaN                     NaN   \n",
       "\n",
       "       TOTAL_sale_2020 TOTAL_sale2020_ItemName  TOTAL_sale_2021  \\\n",
       "0                  NaN                     NaN              NaN   \n",
       "1                  NaN                     NaN              NaN   \n",
       "2                  NaN                     NaN              NaN   \n",
       "3                  NaN                     NaN              NaN   \n",
       "4                  NaN                     NaN              NaN   \n",
       "...                ...                     ...              ...   \n",
       "17064              NaN                     NaN             24.0   \n",
       "17065              NaN                     NaN             28.0   \n",
       "17066              NaN                     NaN             18.0   \n",
       "17067              NaN                     NaN             21.0   \n",
       "17068              NaN                     NaN             24.0   \n",
       "\n",
       "      TOTAL_sale2021_ItemName  \n",
       "0                         NaN  \n",
       "1                         NaN  \n",
       "2                         NaN  \n",
       "3                         NaN  \n",
       "4                         NaN  \n",
       "...                       ...  \n",
       "17064        2PLY WEFTBLANKET  \n",
       "17065       2PLY WEFT BLANKET  \n",
       "17066    2PLY RASCHEL BLANKET  \n",
       "17067       2PLY WEFT BLANKET  \n",
       "17068        2PLY WEFTBLANKET  \n",
       "\n",
       "[17069 rows x 19 columns]"
      ]
     },
     "execution_count": 18,
     "metadata": {},
     "output_type": "execute_result"
    }
   ],
   "source": [
    "sale_data"
   ]
  },
  {
   "cell_type": "code",
   "execution_count": 19,
   "id": "c9147b3f",
   "metadata": {},
   "outputs": [
    {
     "data": {
      "image/png": "[encoded data removed]",
      "text/plain": [
       "<Figure size 432x288 with 1 Axes>"
      ]
     },
     "metadata": {
      "needs_background": "light"
     },
     "output_type": "display_data"
    }
   ],
   "source": [
    "sale_data.groupby('ItemName')['Brand'].nunique().plot(kind='bar')\n",
    "plt.show()"
   ]
  },
  {
   "cell_type": "code",
   "execution_count": 20,
   "id": "404d0ac5",
   "metadata": {},
   "outputs": [
    {
     "data": {
      "image/png": "[encoded data removed]",
      "text/plain": [
       "<Figure size 432x288 with 1 Axes>"
      ]
     },
     "metadata": {
      "needs_background": "light"
     },
     "output_type": "display_data"
    }
   ],
   "source": [
    "sale_data[['Rate']].plot(kind='hist',rwidth=0.8)\n",
    "plt.show()"
   ]
  },
  {
   "cell_type": "code",
   "execution_count": 21,
   "id": "5ac71dfd",
   "metadata": {},
   "outputs": [
    {
     "data": {
      "text/html": [
       "<div>\n",
       "<style scoped>\n",
       "    .dataframe tbody tr th:only-of-type {\n",
       "        vertical-align: middle;\n",
       "    }\n",
       "\n",
       "    .dataframe tbody tr th {\n",
       "        vertical-align: top;\n",
       "    }\n",
       "\n",
       "    .dataframe thead th {\n",
       "        text-align: right;\n",
       "    }\n",
       "</style>\n",
       "<table border=\"1\" class=\"dataframe\">\n",
       "  <thead>\n",
       "    <tr style=\"text-align: right;\">\n",
       "      <th></th>\n",
       "      <th>Unnamed: 0</th>\n",
       "      <th>TransType</th>\n",
       "      <th>TransDate</th>\n",
       "      <th>Year</th>\n",
       "      <th>TransNO</th>\n",
       "      <th>ItemID</th>\n",
       "      <th>Qty</th>\n",
       "      <th>Rate</th>\n",
       "      <th>Amount</th>\n",
       "      <th>ItemName</th>\n",
       "      <th>Brand</th>\n",
       "      <th>TOTAL_sale_2018</th>\n",
       "      <th>TOTAL_sale2018_ItemName</th>\n",
       "      <th>TOTAL_sale_2019</th>\n",
       "      <th>TOTAL_sale2019_ItemName</th>\n",
       "      <th>TOTAL_sale_2020</th>\n",
       "      <th>TOTAL_sale2020_ItemName</th>\n",
       "      <th>TOTAL_sale_2021</th>\n",
       "      <th>TOTAL_sale2021_ItemName</th>\n",
       "    </tr>\n",
       "  </thead>\n",
       "  <tbody>\n",
       "    <tr>\n",
       "      <th>0</th>\n",
       "      <td>502</td>\n",
       "      <td>SALE</td>\n",
       "      <td>2018-09-03</td>\n",
       "      <td>2018</td>\n",
       "      <td>1</td>\n",
       "      <td>10010004</td>\n",
       "      <td>50</td>\n",
       "      <td>1500.0</td>\n",
       "      <td>75000.0</td>\n",
       "      <td>2</td>\n",
       "      <td>27</td>\n",
       "      <td>50.0</td>\n",
       "      <td>1PLY RASCHEL BLANKET</td>\n",
       "      <td>NaN</td>\n",
       "      <td>NaN</td>\n",
       "      <td>NaN</td>\n",
       "      <td>NaN</td>\n",
       "      <td>NaN</td>\n",
       "      <td>NaN</td>\n",
       "    </tr>\n",
       "    <tr>\n",
       "      <th>1</th>\n",
       "      <td>503</td>\n",
       "      <td>SALE</td>\n",
       "      <td>2018-09-03</td>\n",
       "      <td>2018</td>\n",
       "      <td>1</td>\n",
       "      <td>10010003</td>\n",
       "      <td>60</td>\n",
       "      <td>1500.0</td>\n",
       "      <td>90000.0</td>\n",
       "      <td>2</td>\n",
       "      <td>76</td>\n",
       "      <td>60.0</td>\n",
       "      <td>1PLY RASCHEL BLANKET</td>\n",
       "      <td>NaN</td>\n",
       "      <td>NaN</td>\n",
       "      <td>NaN</td>\n",
       "      <td>NaN</td>\n",
       "      <td>NaN</td>\n",
       "      <td>NaN</td>\n",
       "    </tr>\n",
       "    <tr>\n",
       "      <th>2</th>\n",
       "      <td>504</td>\n",
       "      <td>SALE</td>\n",
       "      <td>2018-09-03</td>\n",
       "      <td>2018</td>\n",
       "      <td>2</td>\n",
       "      <td>10010001</td>\n",
       "      <td>20</td>\n",
       "      <td>1780.0</td>\n",
       "      <td>35600.0</td>\n",
       "      <td>2</td>\n",
       "      <td>65</td>\n",
       "      <td>20.0</td>\n",
       "      <td>1PLY RASCHEL BLANKET</td>\n",
       "      <td>NaN</td>\n",
       "      <td>NaN</td>\n",
       "      <td>NaN</td>\n",
       "      <td>NaN</td>\n",
       "      <td>NaN</td>\n",
       "      <td>NaN</td>\n",
       "    </tr>\n",
       "    <tr>\n",
       "      <th>3</th>\n",
       "      <td>505</td>\n",
       "      <td>SALE</td>\n",
       "      <td>2018-09-04</td>\n",
       "      <td>2018</td>\n",
       "      <td>3</td>\n",
       "      <td>10010009</td>\n",
       "      <td>60</td>\n",
       "      <td>3250.0</td>\n",
       "      <td>195000.0</td>\n",
       "      <td>2</td>\n",
       "      <td>57</td>\n",
       "      <td>60.0</td>\n",
       "      <td>1PLY RASCHEL BLANKET</td>\n",
       "      <td>NaN</td>\n",
       "      <td>NaN</td>\n",
       "      <td>NaN</td>\n",
       "      <td>NaN</td>\n",
       "      <td>NaN</td>\n",
       "      <td>NaN</td>\n",
       "    </tr>\n",
       "    <tr>\n",
       "      <th>4</th>\n",
       "      <td>506</td>\n",
       "      <td>SALE</td>\n",
       "      <td>2018-09-04</td>\n",
       "      <td>2018</td>\n",
       "      <td>3</td>\n",
       "      <td>10010002</td>\n",
       "      <td>200</td>\n",
       "      <td>1780.0</td>\n",
       "      <td>356000.0</td>\n",
       "      <td>2</td>\n",
       "      <td>53</td>\n",
       "      <td>200.0</td>\n",
       "      <td>1PLY RASCHEL BLANKET</td>\n",
       "      <td>NaN</td>\n",
       "      <td>NaN</td>\n",
       "      <td>NaN</td>\n",
       "      <td>NaN</td>\n",
       "      <td>NaN</td>\n",
       "      <td>NaN</td>\n",
       "    </tr>\n",
       "    <tr>\n",
       "      <th>...</th>\n",
       "      <td>...</td>\n",
       "      <td>...</td>\n",
       "      <td>...</td>\n",
       "      <td>...</td>\n",
       "      <td>...</td>\n",
       "      <td>...</td>\n",
       "      <td>...</td>\n",
       "      <td>...</td>\n",
       "      <td>...</td>\n",
       "      <td>...</td>\n",
       "      <td>...</td>\n",
       "      <td>...</td>\n",
       "      <td>...</td>\n",
       "      <td>...</td>\n",
       "      <td>...</td>\n",
       "      <td>...</td>\n",
       "      <td>...</td>\n",
       "      <td>...</td>\n",
       "      <td>...</td>\n",
       "    </tr>\n",
       "    <tr>\n",
       "      <th>17064</th>\n",
       "      <td>17566</td>\n",
       "      <td>SALE</td>\n",
       "      <td>2021-11-08</td>\n",
       "      <td>2021</td>\n",
       "      <td>1247</td>\n",
       "      <td>10020039</td>\n",
       "      <td>24</td>\n",
       "      <td>2270.0</td>\n",
       "      <td>54480.0</td>\n",
       "      <td>11</td>\n",
       "      <td>28</td>\n",
       "      <td>NaN</td>\n",
       "      <td>NaN</td>\n",
       "      <td>NaN</td>\n",
       "      <td>NaN</td>\n",
       "      <td>NaN</td>\n",
       "      <td>NaN</td>\n",
       "      <td>24.0</td>\n",
       "      <td>2PLY WEFTBLANKET</td>\n",
       "    </tr>\n",
       "    <tr>\n",
       "      <th>17065</th>\n",
       "      <td>17567</td>\n",
       "      <td>SALE</td>\n",
       "      <td>2021-11-08</td>\n",
       "      <td>2021</td>\n",
       "      <td>1247</td>\n",
       "      <td>10020017</td>\n",
       "      <td>28</td>\n",
       "      <td>2550.0</td>\n",
       "      <td>71400.0</td>\n",
       "      <td>9</td>\n",
       "      <td>41</td>\n",
       "      <td>NaN</td>\n",
       "      <td>NaN</td>\n",
       "      <td>NaN</td>\n",
       "      <td>NaN</td>\n",
       "      <td>NaN</td>\n",
       "      <td>NaN</td>\n",
       "      <td>28.0</td>\n",
       "      <td>2PLY WEFT BLANKET</td>\n",
       "    </tr>\n",
       "    <tr>\n",
       "      <th>17066</th>\n",
       "      <td>17568</td>\n",
       "      <td>SALE</td>\n",
       "      <td>2021-11-08</td>\n",
       "      <td>2021</td>\n",
       "      <td>1247</td>\n",
       "      <td>10020003</td>\n",
       "      <td>18</td>\n",
       "      <td>3200.0</td>\n",
       "      <td>57600.0</td>\n",
       "      <td>8</td>\n",
       "      <td>9</td>\n",
       "      <td>NaN</td>\n",
       "      <td>NaN</td>\n",
       "      <td>NaN</td>\n",
       "      <td>NaN</td>\n",
       "      <td>NaN</td>\n",
       "      <td>NaN</td>\n",
       "      <td>18.0</td>\n",
       "      <td>2PLY RASCHEL BLANKET</td>\n",
       "    </tr>\n",
       "    <tr>\n",
       "      <th>17067</th>\n",
       "      <td>17569</td>\n",
       "      <td>SALE</td>\n",
       "      <td>2021-11-08</td>\n",
       "      <td>2021</td>\n",
       "      <td>1248</td>\n",
       "      <td>10020017</td>\n",
       "      <td>21</td>\n",
       "      <td>2550.0</td>\n",
       "      <td>53550.0</td>\n",
       "      <td>9</td>\n",
       "      <td>41</td>\n",
       "      <td>NaN</td>\n",
       "      <td>NaN</td>\n",
       "      <td>NaN</td>\n",
       "      <td>NaN</td>\n",
       "      <td>NaN</td>\n",
       "      <td>NaN</td>\n",
       "      <td>21.0</td>\n",
       "      <td>2PLY WEFT BLANKET</td>\n",
       "    </tr>\n",
       "    <tr>\n",
       "      <th>17068</th>\n",
       "      <td>17570</td>\n",
       "      <td>SALE</td>\n",
       "      <td>2021-11-08</td>\n",
       "      <td>2021</td>\n",
       "      <td>1248</td>\n",
       "      <td>10020039</td>\n",
       "      <td>24</td>\n",
       "      <td>2250.0</td>\n",
       "      <td>54000.0</td>\n",
       "      <td>11</td>\n",
       "      <td>28</td>\n",
       "      <td>NaN</td>\n",
       "      <td>NaN</td>\n",
       "      <td>NaN</td>\n",
       "      <td>NaN</td>\n",
       "      <td>NaN</td>\n",
       "      <td>NaN</td>\n",
       "      <td>24.0</td>\n",
       "      <td>2PLY WEFTBLANKET</td>\n",
       "    </tr>\n",
       "  </tbody>\n",
       "</table>\n",
       "<p>17069 rows × 19 columns</p>\n",
       "</div>"
      ],
      "text/plain": [
       "       Unnamed: 0 TransType   TransDate  Year  TransNO    ItemID  Qty    Rate  \\\n",
       "0             502      SALE  2018-09-03  2018        1  10010004   50  1500.0   \n",
       "1             503      SALE  2018-09-03  2018        1  10010003   60  1500.0   \n",
       "2             504      SALE  2018-09-03  2018        2  10010001   20  1780.0   \n",
       "3             505      SALE  2018-09-04  2018        3  10010009   60  3250.0   \n",
       "4             506      SALE  2018-09-04  2018        3  10010002  200  1780.0   \n",
       "...           ...       ...         ...   ...      ...       ...  ...     ...   \n",
       "17064       17566      SALE  2021-11-08  2021     1247  10020039   24  2270.0   \n",
       "17065       17567      SALE  2021-11-08  2021     1247  10020017   28  2550.0   \n",
       "17066       17568      SALE  2021-11-08  2021     1247  10020003   18  3200.0   \n",
       "17067       17569      SALE  2021-11-08  2021     1248  10020017   21  2550.0   \n",
       "17068       17570      SALE  2021-11-08  2021     1248  10020039   24  2250.0   \n",
       "\n",
       "         Amount  ItemName  Brand  TOTAL_sale_2018 TOTAL_sale2018_ItemName  \\\n",
       "0       75000.0         2     27             50.0    1PLY RASCHEL BLANKET   \n",
       "1       90000.0         2     76             60.0    1PLY RASCHEL BLANKET   \n",
       "2       35600.0         2     65             20.0    1PLY RASCHEL BLANKET   \n",
       "3      195000.0         2     57             60.0    1PLY RASCHEL BLANKET   \n",
       "4      356000.0         2     53            200.0    1PLY RASCHEL BLANKET   \n",
       "...         ...       ...    ...              ...                     ...   \n",
       "17064   54480.0        11     28              NaN                     NaN   \n",
       "17065   71400.0         9     41              NaN                     NaN   \n",
       "17066   57600.0         8      9              NaN                     NaN   \n",
       "17067   53550.0         9     41              NaN                     NaN   \n",
       "17068   54000.0        11     28              NaN                     NaN   \n",
       "\n",
       "       TOTAL_sale_2019 TOTAL_sale2019_ItemName  TOTAL_sale_2020  \\\n",
       "0                  NaN                     NaN              NaN   \n",
       "1                  NaN                     NaN              NaN   \n",
       "2                  NaN                     NaN              NaN   \n",
       "3                  NaN                     NaN              NaN   \n",
       "4                  NaN                     NaN              NaN   \n",
       "...                ...                     ...              ...   \n",
       "17064              NaN                     NaN              NaN   \n",
       "17065              NaN                     NaN              NaN   \n",
       "17066              NaN                     NaN              NaN   \n",
       "17067              NaN                     NaN              NaN   \n",
       "17068              NaN                     NaN              NaN   \n",
       "\n",
       "      TOTAL_sale2020_ItemName  TOTAL_sale_2021 TOTAL_sale2021_ItemName  \n",
       "0                         NaN              NaN                     NaN  \n",
       "1                         NaN              NaN                     NaN  \n",
       "2                         NaN              NaN                     NaN  \n",
       "3                         NaN              NaN                     NaN  \n",
       "4                         NaN              NaN                     NaN  \n",
       "...                       ...              ...                     ...  \n",
       "17064                     NaN             24.0        2PLY WEFTBLANKET  \n",
       "17065                     NaN             28.0       2PLY WEFT BLANKET  \n",
       "17066                     NaN             18.0    2PLY RASCHEL BLANKET  \n",
       "17067                     NaN             21.0       2PLY WEFT BLANKET  \n",
       "17068                     NaN             24.0        2PLY WEFTBLANKET  \n",
       "\n",
       "[17069 rows x 19 columns]"
      ]
     },
     "execution_count": 21,
     "metadata": {},
     "output_type": "execute_result"
    }
   ],
   "source": [
    "sale_data.ItemName=le.fit_transform(sale_data.ItemName)\n",
    "sale_data"
   ]
  },
  {
   "cell_type": "code",
   "execution_count": 22,
   "id": "afe23d48",
   "metadata": {},
   "outputs": [
    {
     "data": {
      "text/html": [
       "<div>\n",
       "<style scoped>\n",
       "    .dataframe tbody tr th:only-of-type {\n",
       "        vertical-align: middle;\n",
       "    }\n",
       "\n",
       "    .dataframe tbody tr th {\n",
       "        vertical-align: top;\n",
       "    }\n",
       "\n",
       "    .dataframe thead th {\n",
       "        text-align: right;\n",
       "    }\n",
       "</style>\n",
       "<table border=\"1\" class=\"dataframe\">\n",
       "  <thead>\n",
       "    <tr style=\"text-align: right;\">\n",
       "      <th></th>\n",
       "      <th>Unnamed: 0</th>\n",
       "      <th>TransType</th>\n",
       "      <th>TransDate</th>\n",
       "      <th>Year</th>\n",
       "      <th>TransNO</th>\n",
       "      <th>ItemID</th>\n",
       "      <th>Qty</th>\n",
       "      <th>Rate</th>\n",
       "      <th>Amount</th>\n",
       "      <th>ItemName</th>\n",
       "      <th>...</th>\n",
       "      <th>TOTAL_sale_2018</th>\n",
       "      <th>TOTAL_sale2018_ItemName</th>\n",
       "      <th>TOTAL_sale_2019</th>\n",
       "      <th>TOTAL_sale2019_ItemName</th>\n",
       "      <th>TOTAL_sale_2020</th>\n",
       "      <th>TOTAL_sale2020_ItemName</th>\n",
       "      <th>TOTAL_sale_2021</th>\n",
       "      <th>TOTAL_sale2021_ItemName</th>\n",
       "      <th>months</th>\n",
       "      <th>days</th>\n",
       "    </tr>\n",
       "  </thead>\n",
       "  <tbody>\n",
       "    <tr>\n",
       "      <th>0</th>\n",
       "      <td>502</td>\n",
       "      <td>SALE</td>\n",
       "      <td>2018-09-03</td>\n",
       "      <td>2018</td>\n",
       "      <td>1</td>\n",
       "      <td>10010004</td>\n",
       "      <td>50</td>\n",
       "      <td>1500.0</td>\n",
       "      <td>75000.0</td>\n",
       "      <td>2</td>\n",
       "      <td>...</td>\n",
       "      <td>50.0</td>\n",
       "      <td>1PLY RASCHEL BLANKET</td>\n",
       "      <td>NaN</td>\n",
       "      <td>NaN</td>\n",
       "      <td>NaN</td>\n",
       "      <td>NaN</td>\n",
       "      <td>NaN</td>\n",
       "      <td>NaN</td>\n",
       "      <td>09</td>\n",
       "      <td>03</td>\n",
       "    </tr>\n",
       "    <tr>\n",
       "      <th>1</th>\n",
       "      <td>503</td>\n",
       "      <td>SALE</td>\n",
       "      <td>2018-09-03</td>\n",
       "      <td>2018</td>\n",
       "      <td>1</td>\n",
       "      <td>10010003</td>\n",
       "      <td>60</td>\n",
       "      <td>1500.0</td>\n",
       "      <td>90000.0</td>\n",
       "      <td>2</td>\n",
       "      <td>...</td>\n",
       "      <td>60.0</td>\n",
       "      <td>1PLY RASCHEL BLANKET</td>\n",
       "      <td>NaN</td>\n",
       "      <td>NaN</td>\n",
       "      <td>NaN</td>\n",
       "      <td>NaN</td>\n",
       "      <td>NaN</td>\n",
       "      <td>NaN</td>\n",
       "      <td>09</td>\n",
       "      <td>03</td>\n",
       "    </tr>\n",
       "    <tr>\n",
       "      <th>2</th>\n",
       "      <td>504</td>\n",
       "      <td>SALE</td>\n",
       "      <td>2018-09-03</td>\n",
       "      <td>2018</td>\n",
       "      <td>2</td>\n",
       "      <td>10010001</td>\n",
       "      <td>20</td>\n",
       "      <td>1780.0</td>\n",
       "      <td>35600.0</td>\n",
       "      <td>2</td>\n",
       "      <td>...</td>\n",
       "      <td>20.0</td>\n",
       "      <td>1PLY RASCHEL BLANKET</td>\n",
       "      <td>NaN</td>\n",
       "      <td>NaN</td>\n",
       "      <td>NaN</td>\n",
       "      <td>NaN</td>\n",
       "      <td>NaN</td>\n",
       "      <td>NaN</td>\n",
       "      <td>09</td>\n",
       "      <td>03</td>\n",
       "    </tr>\n",
       "    <tr>\n",
       "      <th>3</th>\n",
       "      <td>505</td>\n",
       "      <td>SALE</td>\n",
       "      <td>2018-09-04</td>\n",
       "      <td>2018</td>\n",
       "      <td>3</td>\n",
       "      <td>10010009</td>\n",
       "      <td>60</td>\n",
       "      <td>3250.0</td>\n",
       "      <td>195000.0</td>\n",
       "      <td>2</td>\n",
       "      <td>...</td>\n",
       "      <td>60.0</td>\n",
       "      <td>1PLY RASCHEL BLANKET</td>\n",
       "      <td>NaN</td>\n",
       "      <td>NaN</td>\n",
       "      <td>NaN</td>\n",
       "      <td>NaN</td>\n",
       "      <td>NaN</td>\n",
       "      <td>NaN</td>\n",
       "      <td>09</td>\n",
       "      <td>04</td>\n",
       "    </tr>\n",
       "    <tr>\n",
       "      <th>4</th>\n",
       "      <td>506</td>\n",
       "      <td>SALE</td>\n",
       "      <td>2018-09-04</td>\n",
       "      <td>2018</td>\n",
       "      <td>3</td>\n",
       "      <td>10010002</td>\n",
       "      <td>200</td>\n",
       "      <td>1780.0</td>\n",
       "      <td>356000.0</td>\n",
       "      <td>2</td>\n",
       "      <td>...</td>\n",
       "      <td>200.0</td>\n",
       "      <td>1PLY RASCHEL BLANKET</td>\n",
       "      <td>NaN</td>\n",
       "      <td>NaN</td>\n",
       "      <td>NaN</td>\n",
       "      <td>NaN</td>\n",
       "      <td>NaN</td>\n",
       "      <td>NaN</td>\n",
       "      <td>09</td>\n",
       "      <td>04</td>\n",
       "    </tr>\n",
       "    <tr>\n",
       "      <th>...</th>\n",
       "      <td>...</td>\n",
       "      <td>...</td>\n",
       "      <td>...</td>\n",
       "      <td>...</td>\n",
       "      <td>...</td>\n",
       "      <td>...</td>\n",
       "      <td>...</td>\n",
       "      <td>...</td>\n",
       "      <td>...</td>\n",
       "      <td>...</td>\n",
       "      <td>...</td>\n",
       "      <td>...</td>\n",
       "      <td>...</td>\n",
       "      <td>...</td>\n",
       "      <td>...</td>\n",
       "      <td>...</td>\n",
       "      <td>...</td>\n",
       "      <td>...</td>\n",
       "      <td>...</td>\n",
       "      <td>...</td>\n",
       "      <td>...</td>\n",
       "    </tr>\n",
       "    <tr>\n",
       "      <th>17064</th>\n",
       "      <td>17566</td>\n",
       "      <td>SALE</td>\n",
       "      <td>2021-11-08</td>\n",
       "      <td>2021</td>\n",
       "      <td>1247</td>\n",
       "      <td>10020039</td>\n",
       "      <td>24</td>\n",
       "      <td>2270.0</td>\n",
       "      <td>54480.0</td>\n",
       "      <td>11</td>\n",
       "      <td>...</td>\n",
       "      <td>NaN</td>\n",
       "      <td>NaN</td>\n",
       "      <td>NaN</td>\n",
       "      <td>NaN</td>\n",
       "      <td>NaN</td>\n",
       "      <td>NaN</td>\n",
       "      <td>24.0</td>\n",
       "      <td>2PLY WEFTBLANKET</td>\n",
       "      <td>11</td>\n",
       "      <td>08</td>\n",
       "    </tr>\n",
       "    <tr>\n",
       "      <th>17065</th>\n",
       "      <td>17567</td>\n",
       "      <td>SALE</td>\n",
       "      <td>2021-11-08</td>\n",
       "      <td>2021</td>\n",
       "      <td>1247</td>\n",
       "      <td>10020017</td>\n",
       "      <td>28</td>\n",
       "      <td>2550.0</td>\n",
       "      <td>71400.0</td>\n",
       "      <td>9</td>\n",
       "      <td>...</td>\n",
       "      <td>NaN</td>\n",
       "      <td>NaN</td>\n",
       "      <td>NaN</td>\n",
       "      <td>NaN</td>\n",
       "      <td>NaN</td>\n",
       "      <td>NaN</td>\n",
       "      <td>28.0</td>\n",
       "      <td>2PLY WEFT BLANKET</td>\n",
       "      <td>11</td>\n",
       "      <td>08</td>\n",
       "    </tr>\n",
       "    <tr>\n",
       "      <th>17066</th>\n",
       "      <td>17568</td>\n",
       "      <td>SALE</td>\n",
       "      <td>2021-11-08</td>\n",
       "      <td>2021</td>\n",
       "      <td>1247</td>\n",
       "      <td>10020003</td>\n",
       "      <td>18</td>\n",
       "      <td>3200.0</td>\n",
       "      <td>57600.0</td>\n",
       "      <td>8</td>\n",
       "      <td>...</td>\n",
       "      <td>NaN</td>\n",
       "      <td>NaN</td>\n",
       "      <td>NaN</td>\n",
       "      <td>NaN</td>\n",
       "      <td>NaN</td>\n",
       "      <td>NaN</td>\n",
       "      <td>18.0</td>\n",
       "      <td>2PLY RASCHEL BLANKET</td>\n",
       "      <td>11</td>\n",
       "      <td>08</td>\n",
       "    </tr>\n",
       "    <tr>\n",
       "      <th>17067</th>\n",
       "      <td>17569</td>\n",
       "      <td>SALE</td>\n",
       "      <td>2021-11-08</td>\n",
       "      <td>2021</td>\n",
       "      <td>1248</td>\n",
       "      <td>10020017</td>\n",
       "      <td>21</td>\n",
       "      <td>2550.0</td>\n",
       "      <td>53550.0</td>\n",
       "      <td>9</td>\n",
       "      <td>...</td>\n",
       "      <td>NaN</td>\n",
       "      <td>NaN</td>\n",
       "      <td>NaN</td>\n",
       "      <td>NaN</td>\n",
       "      <td>NaN</td>\n",
       "      <td>NaN</td>\n",
       "      <td>21.0</td>\n",
       "      <td>2PLY WEFT BLANKET</td>\n",
       "      <td>11</td>\n",
       "      <td>08</td>\n",
       "    </tr>\n",
       "    <tr>\n",
       "      <th>17068</th>\n",
       "      <td>17570</td>\n",
       "      <td>SALE</td>\n",
       "      <td>2021-11-08</td>\n",
       "      <td>2021</td>\n",
       "      <td>1248</td>\n",
       "      <td>10020039</td>\n",
       "      <td>24</td>\n",
       "      <td>2250.0</td>\n",
       "      <td>54000.0</td>\n",
       "      <td>11</td>\n",
       "      <td>...</td>\n",
       "      <td>NaN</td>\n",
       "      <td>NaN</td>\n",
       "      <td>NaN</td>\n",
       "      <td>NaN</td>\n",
       "      <td>NaN</td>\n",
       "      <td>NaN</td>\n",
       "      <td>24.0</td>\n",
       "      <td>2PLY WEFTBLANKET</td>\n",
       "      <td>11</td>\n",
       "      <td>08</td>\n",
       "    </tr>\n",
       "  </tbody>\n",
       "</table>\n",
       "<p>17069 rows × 21 columns</p>\n",
       "</div>"
      ],
      "text/plain": [
       "       Unnamed: 0 TransType   TransDate  Year  TransNO    ItemID  Qty    Rate  \\\n",
       "0             502      SALE  2018-09-03  2018        1  10010004   50  1500.0   \n",
       "1             503      SALE  2018-09-03  2018        1  10010003   60  1500.0   \n",
       "2             504      SALE  2018-09-03  2018        2  10010001   20  1780.0   \n",
       "3             505      SALE  2018-09-04  2018        3  10010009   60  3250.0   \n",
       "4             506      SALE  2018-09-04  2018        3  10010002  200  1780.0   \n",
       "...           ...       ...         ...   ...      ...       ...  ...     ...   \n",
       "17064       17566      SALE  2021-11-08  2021     1247  10020039   24  2270.0   \n",
       "17065       17567      SALE  2021-11-08  2021     1247  10020017   28  2550.0   \n",
       "17066       17568      SALE  2021-11-08  2021     1247  10020003   18  3200.0   \n",
       "17067       17569      SALE  2021-11-08  2021     1248  10020017   21  2550.0   \n",
       "17068       17570      SALE  2021-11-08  2021     1248  10020039   24  2250.0   \n",
       "\n",
       "         Amount  ItemName  ...  TOTAL_sale_2018  TOTAL_sale2018_ItemName  \\\n",
       "0       75000.0         2  ...             50.0     1PLY RASCHEL BLANKET   \n",
       "1       90000.0         2  ...             60.0     1PLY RASCHEL BLANKET   \n",
       "2       35600.0         2  ...             20.0     1PLY RASCHEL BLANKET   \n",
       "3      195000.0         2  ...             60.0     1PLY RASCHEL BLANKET   \n",
       "4      356000.0         2  ...            200.0     1PLY RASCHEL BLANKET   \n",
       "...         ...       ...  ...              ...                      ...   \n",
       "17064   54480.0        11  ...              NaN                      NaN   \n",
       "17065   71400.0         9  ...              NaN                      NaN   \n",
       "17066   57600.0         8  ...              NaN                      NaN   \n",
       "17067   53550.0         9  ...              NaN                      NaN   \n",
       "17068   54000.0        11  ...              NaN                      NaN   \n",
       "\n",
       "      TOTAL_sale_2019  TOTAL_sale2019_ItemName TOTAL_sale_2020  \\\n",
       "0                 NaN                      NaN             NaN   \n",
       "1                 NaN                      NaN             NaN   \n",
       "2                 NaN                      NaN             NaN   \n",
       "3                 NaN                      NaN             NaN   \n",
       "4                 NaN                      NaN             NaN   \n",
       "...               ...                      ...             ...   \n",
       "17064             NaN                      NaN             NaN   \n",
       "17065             NaN                      NaN             NaN   \n",
       "17066             NaN                      NaN             NaN   \n",
       "17067             NaN                      NaN             NaN   \n",
       "17068             NaN                      NaN             NaN   \n",
       "\n",
       "       TOTAL_sale2020_ItemName TOTAL_sale_2021  TOTAL_sale2021_ItemName  \\\n",
       "0                          NaN             NaN                      NaN   \n",
       "1                          NaN             NaN                      NaN   \n",
       "2                          NaN             NaN                      NaN   \n",
       "3                          NaN             NaN                      NaN   \n",
       "4                          NaN             NaN                      NaN   \n",
       "...                        ...             ...                      ...   \n",
       "17064                      NaN            24.0         2PLY WEFTBLANKET   \n",
       "17065                      NaN            28.0        2PLY WEFT BLANKET   \n",
       "17066                      NaN            18.0     2PLY RASCHEL BLANKET   \n",
       "17067                      NaN            21.0        2PLY WEFT BLANKET   \n",
       "17068                      NaN            24.0         2PLY WEFTBLANKET   \n",
       "\n",
       "      months days  \n",
       "0         09   03  \n",
       "1         09   03  \n",
       "2         09   03  \n",
       "3         09   04  \n",
       "4         09   04  \n",
       "...      ...  ...  \n",
       "17064     11   08  \n",
       "17065     11   08  \n",
       "17066     11   08  \n",
       "17067     11   08  \n",
       "17068     11   08  \n",
       "\n",
       "[17069 rows x 21 columns]"
      ]
     },
     "execution_count": 22,
     "metadata": {},
     "output_type": "execute_result"
    }
   ],
   "source": [
    "# split TransDate data \n",
    "sale_data[[\"Year\",\"months\",\"days\"]]=sale_data['TransDate'].str.split(\"-\", expand=True)\n",
    "sale_data"
   ]
  },
  {
   "cell_type": "code",
   "execution_count": 23,
   "id": "1d7dbc35",
   "metadata": {},
   "outputs": [
    {
     "data": {
      "text/html": [
       "<div>\n",
       "<style scoped>\n",
       "    .dataframe tbody tr th:only-of-type {\n",
       "        vertical-align: middle;\n",
       "    }\n",
       "\n",
       "    .dataframe tbody tr th {\n",
       "        vertical-align: top;\n",
       "    }\n",
       "\n",
       "    .dataframe thead th {\n",
       "        text-align: right;\n",
       "    }\n",
       "</style>\n",
       "<table border=\"1\" class=\"dataframe\">\n",
       "  <thead>\n",
       "    <tr style=\"text-align: right;\">\n",
       "      <th></th>\n",
       "      <th>Unnamed: 0</th>\n",
       "      <th>TransType</th>\n",
       "      <th>TransDate</th>\n",
       "      <th>Year</th>\n",
       "      <th>TransNO</th>\n",
       "      <th>ItemID</th>\n",
       "      <th>Qty</th>\n",
       "      <th>Rate</th>\n",
       "      <th>Amount</th>\n",
       "      <th>ItemName</th>\n",
       "      <th>...</th>\n",
       "      <th>TOTAL_sale_2018</th>\n",
       "      <th>TOTAL_sale2018_ItemName</th>\n",
       "      <th>TOTAL_sale_2019</th>\n",
       "      <th>TOTAL_sale2019_ItemName</th>\n",
       "      <th>TOTAL_sale_2020</th>\n",
       "      <th>TOTAL_sale2020_ItemName</th>\n",
       "      <th>TOTAL_sale_2021</th>\n",
       "      <th>TOTAL_sale2021_ItemName</th>\n",
       "      <th>months</th>\n",
       "      <th>days</th>\n",
       "    </tr>\n",
       "  </thead>\n",
       "  <tbody>\n",
       "    <tr>\n",
       "      <th>0</th>\n",
       "      <td>502</td>\n",
       "      <td>SALE</td>\n",
       "      <td>2018-09-03</td>\n",
       "      <td>2018</td>\n",
       "      <td>1</td>\n",
       "      <td>10010004</td>\n",
       "      <td>50</td>\n",
       "      <td>1500.0</td>\n",
       "      <td>75000.0</td>\n",
       "      <td>2</td>\n",
       "      <td>...</td>\n",
       "      <td>50.0</td>\n",
       "      <td>1PLY RASCHEL BLANKET</td>\n",
       "      <td>NaN</td>\n",
       "      <td>NaN</td>\n",
       "      <td>NaN</td>\n",
       "      <td>NaN</td>\n",
       "      <td>NaN</td>\n",
       "      <td>NaN</td>\n",
       "      <td>09</td>\n",
       "      <td>03</td>\n",
       "    </tr>\n",
       "    <tr>\n",
       "      <th>1</th>\n",
       "      <td>503</td>\n",
       "      <td>SALE</td>\n",
       "      <td>2018-09-03</td>\n",
       "      <td>2018</td>\n",
       "      <td>1</td>\n",
       "      <td>10010003</td>\n",
       "      <td>60</td>\n",
       "      <td>1500.0</td>\n",
       "      <td>90000.0</td>\n",
       "      <td>2</td>\n",
       "      <td>...</td>\n",
       "      <td>60.0</td>\n",
       "      <td>1PLY RASCHEL BLANKET</td>\n",
       "      <td>NaN</td>\n",
       "      <td>NaN</td>\n",
       "      <td>NaN</td>\n",
       "      <td>NaN</td>\n",
       "      <td>NaN</td>\n",
       "      <td>NaN</td>\n",
       "      <td>09</td>\n",
       "      <td>03</td>\n",
       "    </tr>\n",
       "    <tr>\n",
       "      <th>2</th>\n",
       "      <td>504</td>\n",
       "      <td>SALE</td>\n",
       "      <td>2018-09-03</td>\n",
       "      <td>2018</td>\n",
       "      <td>2</td>\n",
       "      <td>10010001</td>\n",
       "      <td>20</td>\n",
       "      <td>1780.0</td>\n",
       "      <td>35600.0</td>\n",
       "      <td>2</td>\n",
       "      <td>...</td>\n",
       "      <td>20.0</td>\n",
       "      <td>1PLY RASCHEL BLANKET</td>\n",
       "      <td>NaN</td>\n",
       "      <td>NaN</td>\n",
       "      <td>NaN</td>\n",
       "      <td>NaN</td>\n",
       "      <td>NaN</td>\n",
       "      <td>NaN</td>\n",
       "      <td>09</td>\n",
       "      <td>03</td>\n",
       "    </tr>\n",
       "    <tr>\n",
       "      <th>3</th>\n",
       "      <td>505</td>\n",
       "      <td>SALE</td>\n",
       "      <td>2018-09-04</td>\n",
       "      <td>2018</td>\n",
       "      <td>3</td>\n",
       "      <td>10010009</td>\n",
       "      <td>60</td>\n",
       "      <td>3250.0</td>\n",
       "      <td>195000.0</td>\n",
       "      <td>2</td>\n",
       "      <td>...</td>\n",
       "      <td>60.0</td>\n",
       "      <td>1PLY RASCHEL BLANKET</td>\n",
       "      <td>NaN</td>\n",
       "      <td>NaN</td>\n",
       "      <td>NaN</td>\n",
       "      <td>NaN</td>\n",
       "      <td>NaN</td>\n",
       "      <td>NaN</td>\n",
       "      <td>09</td>\n",
       "      <td>04</td>\n",
       "    </tr>\n",
       "    <tr>\n",
       "      <th>4</th>\n",
       "      <td>506</td>\n",
       "      <td>SALE</td>\n",
       "      <td>2018-09-04</td>\n",
       "      <td>2018</td>\n",
       "      <td>3</td>\n",
       "      <td>10010002</td>\n",
       "      <td>200</td>\n",
       "      <td>1780.0</td>\n",
       "      <td>356000.0</td>\n",
       "      <td>2</td>\n",
       "      <td>...</td>\n",
       "      <td>200.0</td>\n",
       "      <td>1PLY RASCHEL BLANKET</td>\n",
       "      <td>NaN</td>\n",
       "      <td>NaN</td>\n",
       "      <td>NaN</td>\n",
       "      <td>NaN</td>\n",
       "      <td>NaN</td>\n",
       "      <td>NaN</td>\n",
       "      <td>09</td>\n",
       "      <td>04</td>\n",
       "    </tr>\n",
       "    <tr>\n",
       "      <th>...</th>\n",
       "      <td>...</td>\n",
       "      <td>...</td>\n",
       "      <td>...</td>\n",
       "      <td>...</td>\n",
       "      <td>...</td>\n",
       "      <td>...</td>\n",
       "      <td>...</td>\n",
       "      <td>...</td>\n",
       "      <td>...</td>\n",
       "      <td>...</td>\n",
       "      <td>...</td>\n",
       "      <td>...</td>\n",
       "      <td>...</td>\n",
       "      <td>...</td>\n",
       "      <td>...</td>\n",
       "      <td>...</td>\n",
       "      <td>...</td>\n",
       "      <td>...</td>\n",
       "      <td>...</td>\n",
       "      <td>...</td>\n",
       "      <td>...</td>\n",
       "    </tr>\n",
       "    <tr>\n",
       "      <th>17064</th>\n",
       "      <td>17566</td>\n",
       "      <td>SALE</td>\n",
       "      <td>2021-11-08</td>\n",
       "      <td>2021</td>\n",
       "      <td>1247</td>\n",
       "      <td>10020039</td>\n",
       "      <td>24</td>\n",
       "      <td>2270.0</td>\n",
       "      <td>54480.0</td>\n",
       "      <td>11</td>\n",
       "      <td>...</td>\n",
       "      <td>NaN</td>\n",
       "      <td>NaN</td>\n",
       "      <td>NaN</td>\n",
       "      <td>NaN</td>\n",
       "      <td>NaN</td>\n",
       "      <td>NaN</td>\n",
       "      <td>24.0</td>\n",
       "      <td>2PLY WEFTBLANKET</td>\n",
       "      <td>11</td>\n",
       "      <td>08</td>\n",
       "    </tr>\n",
       "    <tr>\n",
       "      <th>17065</th>\n",
       "      <td>17567</td>\n",
       "      <td>SALE</td>\n",
       "      <td>2021-11-08</td>\n",
       "      <td>2021</td>\n",
       "      <td>1247</td>\n",
       "      <td>10020017</td>\n",
       "      <td>28</td>\n",
       "      <td>2550.0</td>\n",
       "      <td>71400.0</td>\n",
       "      <td>9</td>\n",
       "      <td>...</td>\n",
       "      <td>NaN</td>\n",
       "      <td>NaN</td>\n",
       "      <td>NaN</td>\n",
       "      <td>NaN</td>\n",
       "      <td>NaN</td>\n",
       "      <td>NaN</td>\n",
       "      <td>28.0</td>\n",
       "      <td>2PLY WEFT BLANKET</td>\n",
       "      <td>11</td>\n",
       "      <td>08</td>\n",
       "    </tr>\n",
       "    <tr>\n",
       "      <th>17066</th>\n",
       "      <td>17568</td>\n",
       "      <td>SALE</td>\n",
       "      <td>2021-11-08</td>\n",
       "      <td>2021</td>\n",
       "      <td>1247</td>\n",
       "      <td>10020003</td>\n",
       "      <td>18</td>\n",
       "      <td>3200.0</td>\n",
       "      <td>57600.0</td>\n",
       "      <td>8</td>\n",
       "      <td>...</td>\n",
       "      <td>NaN</td>\n",
       "      <td>NaN</td>\n",
       "      <td>NaN</td>\n",
       "      <td>NaN</td>\n",
       "      <td>NaN</td>\n",
       "      <td>NaN</td>\n",
       "      <td>18.0</td>\n",
       "      <td>2PLY RASCHEL BLANKET</td>\n",
       "      <td>11</td>\n",
       "      <td>08</td>\n",
       "    </tr>\n",
       "    <tr>\n",
       "      <th>17067</th>\n",
       "      <td>17569</td>\n",
       "      <td>SALE</td>\n",
       "      <td>2021-11-08</td>\n",
       "      <td>2021</td>\n",
       "      <td>1248</td>\n",
       "      <td>10020017</td>\n",
       "      <td>21</td>\n",
       "      <td>2550.0</td>\n",
       "      <td>53550.0</td>\n",
       "      <td>9</td>\n",
       "      <td>...</td>\n",
       "      <td>NaN</td>\n",
       "      <td>NaN</td>\n",
       "      <td>NaN</td>\n",
       "      <td>NaN</td>\n",
       "      <td>NaN</td>\n",
       "      <td>NaN</td>\n",
       "      <td>21.0</td>\n",
       "      <td>2PLY WEFT BLANKET</td>\n",
       "      <td>11</td>\n",
       "      <td>08</td>\n",
       "    </tr>\n",
       "    <tr>\n",
       "      <th>17068</th>\n",
       "      <td>17570</td>\n",
       "      <td>SALE</td>\n",
       "      <td>2021-11-08</td>\n",
       "      <td>2021</td>\n",
       "      <td>1248</td>\n",
       "      <td>10020039</td>\n",
       "      <td>24</td>\n",
       "      <td>2250.0</td>\n",
       "      <td>54000.0</td>\n",
       "      <td>11</td>\n",
       "      <td>...</td>\n",
       "      <td>NaN</td>\n",
       "      <td>NaN</td>\n",
       "      <td>NaN</td>\n",
       "      <td>NaN</td>\n",
       "      <td>NaN</td>\n",
       "      <td>NaN</td>\n",
       "      <td>24.0</td>\n",
       "      <td>2PLY WEFTBLANKET</td>\n",
       "      <td>11</td>\n",
       "      <td>08</td>\n",
       "    </tr>\n",
       "  </tbody>\n",
       "</table>\n",
       "<p>17069 rows × 21 columns</p>\n",
       "</div>"
      ],
      "text/plain": [
       "       Unnamed: 0 TransType   TransDate  Year  TransNO    ItemID  Qty    Rate  \\\n",
       "0             502      SALE  2018-09-03  2018        1  10010004   50  1500.0   \n",
       "1             503      SALE  2018-09-03  2018        1  10010003   60  1500.0   \n",
       "2             504      SALE  2018-09-03  2018        2  10010001   20  1780.0   \n",
       "3             505      SALE  2018-09-04  2018        3  10010009   60  3250.0   \n",
       "4             506      SALE  2018-09-04  2018        3  10010002  200  1780.0   \n",
       "...           ...       ...         ...   ...      ...       ...  ...     ...   \n",
       "17064       17566      SALE  2021-11-08  2021     1247  10020039   24  2270.0   \n",
       "17065       17567      SALE  2021-11-08  2021     1247  10020017   28  2550.0   \n",
       "17066       17568      SALE  2021-11-08  2021     1247  10020003   18  3200.0   \n",
       "17067       17569      SALE  2021-11-08  2021     1248  10020017   21  2550.0   \n",
       "17068       17570      SALE  2021-11-08  2021     1248  10020039   24  2250.0   \n",
       "\n",
       "         Amount  ItemName  ...  TOTAL_sale_2018  TOTAL_sale2018_ItemName  \\\n",
       "0       75000.0         2  ...             50.0     1PLY RASCHEL BLANKET   \n",
       "1       90000.0         2  ...             60.0     1PLY RASCHEL BLANKET   \n",
       "2       35600.0         2  ...             20.0     1PLY RASCHEL BLANKET   \n",
       "3      195000.0         2  ...             60.0     1PLY RASCHEL BLANKET   \n",
       "4      356000.0         2  ...            200.0     1PLY RASCHEL BLANKET   \n",
       "...         ...       ...  ...              ...                      ...   \n",
       "17064   54480.0        11  ...              NaN                      NaN   \n",
       "17065   71400.0         9  ...              NaN                      NaN   \n",
       "17066   57600.0         8  ...              NaN                      NaN   \n",
       "17067   53550.0         9  ...              NaN                      NaN   \n",
       "17068   54000.0        11  ...              NaN                      NaN   \n",
       "\n",
       "      TOTAL_sale_2019  TOTAL_sale2019_ItemName TOTAL_sale_2020  \\\n",
       "0                 NaN                      NaN             NaN   \n",
       "1                 NaN                      NaN             NaN   \n",
       "2                 NaN                      NaN             NaN   \n",
       "3                 NaN                      NaN             NaN   \n",
       "4                 NaN                      NaN             NaN   \n",
       "...               ...                      ...             ...   \n",
       "17064             NaN                      NaN             NaN   \n",
       "17065             NaN                      NaN             NaN   \n",
       "17066             NaN                      NaN             NaN   \n",
       "17067             NaN                      NaN             NaN   \n",
       "17068             NaN                      NaN             NaN   \n",
       "\n",
       "       TOTAL_sale2020_ItemName TOTAL_sale_2021  TOTAL_sale2021_ItemName  \\\n",
       "0                          NaN             NaN                      NaN   \n",
       "1                          NaN             NaN                      NaN   \n",
       "2                          NaN             NaN                      NaN   \n",
       "3                          NaN             NaN                      NaN   \n",
       "4                          NaN             NaN                      NaN   \n",
       "...                        ...             ...                      ...   \n",
       "17064                      NaN            24.0         2PLY WEFTBLANKET   \n",
       "17065                      NaN            28.0        2PLY WEFT BLANKET   \n",
       "17066                      NaN            18.0     2PLY RASCHEL BLANKET   \n",
       "17067                      NaN            21.0        2PLY WEFT BLANKET   \n",
       "17068                      NaN            24.0         2PLY WEFTBLANKET   \n",
       "\n",
       "      months days  \n",
       "0         09   03  \n",
       "1         09   03  \n",
       "2         09   03  \n",
       "3         09   04  \n",
       "4         09   04  \n",
       "...      ...  ...  \n",
       "17064     11   08  \n",
       "17065     11   08  \n",
       "17066     11   08  \n",
       "17067     11   08  \n",
       "17068     11   08  \n",
       "\n",
       "[17069 rows x 21 columns]"
      ]
     },
     "execution_count": 23,
     "metadata": {},
     "output_type": "execute_result"
    }
   ],
   "source": [
    "#change data type of year data\n",
    "sale_data[\"Year\"] = pd.to_numeric(sale_data[\"Year\"])\n",
    "sale_data"
   ]
  },
  {
   "cell_type": "code",
   "execution_count": 24,
   "id": "4266c151",
   "metadata": {},
   "outputs": [],
   "source": [
    "#year convert day\n",
    "sale_data['Year']=sale_data['Year']*365\n"
   ]
  },
  {
   "cell_type": "code",
   "execution_count": 25,
   "id": "02891f19",
   "metadata": {},
   "outputs": [
    {
     "data": {
      "text/html": [
       "<div>\n",
       "<style scoped>\n",
       "    .dataframe tbody tr th:only-of-type {\n",
       "        vertical-align: middle;\n",
       "    }\n",
       "\n",
       "    .dataframe tbody tr th {\n",
       "        vertical-align: top;\n",
       "    }\n",
       "\n",
       "    .dataframe thead th {\n",
       "        text-align: right;\n",
       "    }\n",
       "</style>\n",
       "<table border=\"1\" class=\"dataframe\">\n",
       "  <thead>\n",
       "    <tr style=\"text-align: right;\">\n",
       "      <th></th>\n",
       "      <th>Unnamed: 0</th>\n",
       "      <th>TransType</th>\n",
       "      <th>TransDate</th>\n",
       "      <th>Year</th>\n",
       "      <th>TransNO</th>\n",
       "      <th>ItemID</th>\n",
       "      <th>Qty</th>\n",
       "      <th>Rate</th>\n",
       "      <th>Amount</th>\n",
       "      <th>ItemName</th>\n",
       "      <th>...</th>\n",
       "      <th>TOTAL_sale_2018</th>\n",
       "      <th>TOTAL_sale2018_ItemName</th>\n",
       "      <th>TOTAL_sale_2019</th>\n",
       "      <th>TOTAL_sale2019_ItemName</th>\n",
       "      <th>TOTAL_sale_2020</th>\n",
       "      <th>TOTAL_sale2020_ItemName</th>\n",
       "      <th>TOTAL_sale_2021</th>\n",
       "      <th>TOTAL_sale2021_ItemName</th>\n",
       "      <th>months</th>\n",
       "      <th>days</th>\n",
       "    </tr>\n",
       "  </thead>\n",
       "  <tbody>\n",
       "    <tr>\n",
       "      <th>0</th>\n",
       "      <td>502</td>\n",
       "      <td>SALE</td>\n",
       "      <td>2018-09-03</td>\n",
       "      <td>736570</td>\n",
       "      <td>1</td>\n",
       "      <td>10010004</td>\n",
       "      <td>50</td>\n",
       "      <td>1500.0</td>\n",
       "      <td>75000.0</td>\n",
       "      <td>2</td>\n",
       "      <td>...</td>\n",
       "      <td>50.0</td>\n",
       "      <td>1PLY RASCHEL BLANKET</td>\n",
       "      <td>NaN</td>\n",
       "      <td>NaN</td>\n",
       "      <td>NaN</td>\n",
       "      <td>NaN</td>\n",
       "      <td>NaN</td>\n",
       "      <td>NaN</td>\n",
       "      <td>9</td>\n",
       "      <td>03</td>\n",
       "    </tr>\n",
       "    <tr>\n",
       "      <th>1</th>\n",
       "      <td>503</td>\n",
       "      <td>SALE</td>\n",
       "      <td>2018-09-03</td>\n",
       "      <td>736570</td>\n",
       "      <td>1</td>\n",
       "      <td>10010003</td>\n",
       "      <td>60</td>\n",
       "      <td>1500.0</td>\n",
       "      <td>90000.0</td>\n",
       "      <td>2</td>\n",
       "      <td>...</td>\n",
       "      <td>60.0</td>\n",
       "      <td>1PLY RASCHEL BLANKET</td>\n",
       "      <td>NaN</td>\n",
       "      <td>NaN</td>\n",
       "      <td>NaN</td>\n",
       "      <td>NaN</td>\n",
       "      <td>NaN</td>\n",
       "      <td>NaN</td>\n",
       "      <td>9</td>\n",
       "      <td>03</td>\n",
       "    </tr>\n",
       "    <tr>\n",
       "      <th>2</th>\n",
       "      <td>504</td>\n",
       "      <td>SALE</td>\n",
       "      <td>2018-09-03</td>\n",
       "      <td>736570</td>\n",
       "      <td>2</td>\n",
       "      <td>10010001</td>\n",
       "      <td>20</td>\n",
       "      <td>1780.0</td>\n",
       "      <td>35600.0</td>\n",
       "      <td>2</td>\n",
       "      <td>...</td>\n",
       "      <td>20.0</td>\n",
       "      <td>1PLY RASCHEL BLANKET</td>\n",
       "      <td>NaN</td>\n",
       "      <td>NaN</td>\n",
       "      <td>NaN</td>\n",
       "      <td>NaN</td>\n",
       "      <td>NaN</td>\n",
       "      <td>NaN</td>\n",
       "      <td>9</td>\n",
       "      <td>03</td>\n",
       "    </tr>\n",
       "    <tr>\n",
       "      <th>3</th>\n",
       "      <td>505</td>\n",
       "      <td>SALE</td>\n",
       "      <td>2018-09-04</td>\n",
       "      <td>736570</td>\n",
       "      <td>3</td>\n",
       "      <td>10010009</td>\n",
       "      <td>60</td>\n",
       "      <td>3250.0</td>\n",
       "      <td>195000.0</td>\n",
       "      <td>2</td>\n",
       "      <td>...</td>\n",
       "      <td>60.0</td>\n",
       "      <td>1PLY RASCHEL BLANKET</td>\n",
       "      <td>NaN</td>\n",
       "      <td>NaN</td>\n",
       "      <td>NaN</td>\n",
       "      <td>NaN</td>\n",
       "      <td>NaN</td>\n",
       "      <td>NaN</td>\n",
       "      <td>9</td>\n",
       "      <td>04</td>\n",
       "    </tr>\n",
       "    <tr>\n",
       "      <th>4</th>\n",
       "      <td>506</td>\n",
       "      <td>SALE</td>\n",
       "      <td>2018-09-04</td>\n",
       "      <td>736570</td>\n",
       "      <td>3</td>\n",
       "      <td>10010002</td>\n",
       "      <td>200</td>\n",
       "      <td>1780.0</td>\n",
       "      <td>356000.0</td>\n",
       "      <td>2</td>\n",
       "      <td>...</td>\n",
       "      <td>200.0</td>\n",
       "      <td>1PLY RASCHEL BLANKET</td>\n",
       "      <td>NaN</td>\n",
       "      <td>NaN</td>\n",
       "      <td>NaN</td>\n",
       "      <td>NaN</td>\n",
       "      <td>NaN</td>\n",
       "      <td>NaN</td>\n",
       "      <td>9</td>\n",
       "      <td>04</td>\n",
       "    </tr>\n",
       "    <tr>\n",
       "      <th>...</th>\n",
       "      <td>...</td>\n",
       "      <td>...</td>\n",
       "      <td>...</td>\n",
       "      <td>...</td>\n",
       "      <td>...</td>\n",
       "      <td>...</td>\n",
       "      <td>...</td>\n",
       "      <td>...</td>\n",
       "      <td>...</td>\n",
       "      <td>...</td>\n",
       "      <td>...</td>\n",
       "      <td>...</td>\n",
       "      <td>...</td>\n",
       "      <td>...</td>\n",
       "      <td>...</td>\n",
       "      <td>...</td>\n",
       "      <td>...</td>\n",
       "      <td>...</td>\n",
       "      <td>...</td>\n",
       "      <td>...</td>\n",
       "      <td>...</td>\n",
       "    </tr>\n",
       "    <tr>\n",
       "      <th>17064</th>\n",
       "      <td>17566</td>\n",
       "      <td>SALE</td>\n",
       "      <td>2021-11-08</td>\n",
       "      <td>737665</td>\n",
       "      <td>1247</td>\n",
       "      <td>10020039</td>\n",
       "      <td>24</td>\n",
       "      <td>2270.0</td>\n",
       "      <td>54480.0</td>\n",
       "      <td>11</td>\n",
       "      <td>...</td>\n",
       "      <td>NaN</td>\n",
       "      <td>NaN</td>\n",
       "      <td>NaN</td>\n",
       "      <td>NaN</td>\n",
       "      <td>NaN</td>\n",
       "      <td>NaN</td>\n",
       "      <td>24.0</td>\n",
       "      <td>2PLY WEFTBLANKET</td>\n",
       "      <td>11</td>\n",
       "      <td>08</td>\n",
       "    </tr>\n",
       "    <tr>\n",
       "      <th>17065</th>\n",
       "      <td>17567</td>\n",
       "      <td>SALE</td>\n",
       "      <td>2021-11-08</td>\n",
       "      <td>737665</td>\n",
       "      <td>1247</td>\n",
       "      <td>10020017</td>\n",
       "      <td>28</td>\n",
       "      <td>2550.0</td>\n",
       "      <td>71400.0</td>\n",
       "      <td>9</td>\n",
       "      <td>...</td>\n",
       "      <td>NaN</td>\n",
       "      <td>NaN</td>\n",
       "      <td>NaN</td>\n",
       "      <td>NaN</td>\n",
       "      <td>NaN</td>\n",
       "      <td>NaN</td>\n",
       "      <td>28.0</td>\n",
       "      <td>2PLY WEFT BLANKET</td>\n",
       "      <td>11</td>\n",
       "      <td>08</td>\n",
       "    </tr>\n",
       "    <tr>\n",
       "      <th>17066</th>\n",
       "      <td>17568</td>\n",
       "      <td>SALE</td>\n",
       "      <td>2021-11-08</td>\n",
       "      <td>737665</td>\n",
       "      <td>1247</td>\n",
       "      <td>10020003</td>\n",
       "      <td>18</td>\n",
       "      <td>3200.0</td>\n",
       "      <td>57600.0</td>\n",
       "      <td>8</td>\n",
       "      <td>...</td>\n",
       "      <td>NaN</td>\n",
       "      <td>NaN</td>\n",
       "      <td>NaN</td>\n",
       "      <td>NaN</td>\n",
       "      <td>NaN</td>\n",
       "      <td>NaN</td>\n",
       "      <td>18.0</td>\n",
       "      <td>2PLY RASCHEL BLANKET</td>\n",
       "      <td>11</td>\n",
       "      <td>08</td>\n",
       "    </tr>\n",
       "    <tr>\n",
       "      <th>17067</th>\n",
       "      <td>17569</td>\n",
       "      <td>SALE</td>\n",
       "      <td>2021-11-08</td>\n",
       "      <td>737665</td>\n",
       "      <td>1248</td>\n",
       "      <td>10020017</td>\n",
       "      <td>21</td>\n",
       "      <td>2550.0</td>\n",
       "      <td>53550.0</td>\n",
       "      <td>9</td>\n",
       "      <td>...</td>\n",
       "      <td>NaN</td>\n",
       "      <td>NaN</td>\n",
       "      <td>NaN</td>\n",
       "      <td>NaN</td>\n",
       "      <td>NaN</td>\n",
       "      <td>NaN</td>\n",
       "      <td>21.0</td>\n",
       "      <td>2PLY WEFT BLANKET</td>\n",
       "      <td>11</td>\n",
       "      <td>08</td>\n",
       "    </tr>\n",
       "    <tr>\n",
       "      <th>17068</th>\n",
       "      <td>17570</td>\n",
       "      <td>SALE</td>\n",
       "      <td>2021-11-08</td>\n",
       "      <td>737665</td>\n",
       "      <td>1248</td>\n",
       "      <td>10020039</td>\n",
       "      <td>24</td>\n",
       "      <td>2250.0</td>\n",
       "      <td>54000.0</td>\n",
       "      <td>11</td>\n",
       "      <td>...</td>\n",
       "      <td>NaN</td>\n",
       "      <td>NaN</td>\n",
       "      <td>NaN</td>\n",
       "      <td>NaN</td>\n",
       "      <td>NaN</td>\n",
       "      <td>NaN</td>\n",
       "      <td>24.0</td>\n",
       "      <td>2PLY WEFTBLANKET</td>\n",
       "      <td>11</td>\n",
       "      <td>08</td>\n",
       "    </tr>\n",
       "  </tbody>\n",
       "</table>\n",
       "<p>17069 rows × 21 columns</p>\n",
       "</div>"
      ],
      "text/plain": [
       "       Unnamed: 0 TransType   TransDate    Year  TransNO    ItemID  Qty  \\\n",
       "0             502      SALE  2018-09-03  736570        1  10010004   50   \n",
       "1             503      SALE  2018-09-03  736570        1  10010003   60   \n",
       "2             504      SALE  2018-09-03  736570        2  10010001   20   \n",
       "3             505      SALE  2018-09-04  736570        3  10010009   60   \n",
       "4             506      SALE  2018-09-04  736570        3  10010002  200   \n",
       "...           ...       ...         ...     ...      ...       ...  ...   \n",
       "17064       17566      SALE  2021-11-08  737665     1247  10020039   24   \n",
       "17065       17567      SALE  2021-11-08  737665     1247  10020017   28   \n",
       "17066       17568      SALE  2021-11-08  737665     1247  10020003   18   \n",
       "17067       17569      SALE  2021-11-08  737665     1248  10020017   21   \n",
       "17068       17570      SALE  2021-11-08  737665     1248  10020039   24   \n",
       "\n",
       "         Rate    Amount  ItemName  ...  TOTAL_sale_2018  \\\n",
       "0      1500.0   75000.0         2  ...             50.0   \n",
       "1      1500.0   90000.0         2  ...             60.0   \n",
       "2      1780.0   35600.0         2  ...             20.0   \n",
       "3      3250.0  195000.0         2  ...             60.0   \n",
       "4      1780.0  356000.0         2  ...            200.0   \n",
       "...       ...       ...       ...  ...              ...   \n",
       "17064  2270.0   54480.0        11  ...              NaN   \n",
       "17065  2550.0   71400.0         9  ...              NaN   \n",
       "17066  3200.0   57600.0         8  ...              NaN   \n",
       "17067  2550.0   53550.0         9  ...              NaN   \n",
       "17068  2250.0   54000.0        11  ...              NaN   \n",
       "\n",
       "       TOTAL_sale2018_ItemName TOTAL_sale_2019  TOTAL_sale2019_ItemName  \\\n",
       "0         1PLY RASCHEL BLANKET             NaN                      NaN   \n",
       "1         1PLY RASCHEL BLANKET             NaN                      NaN   \n",
       "2         1PLY RASCHEL BLANKET             NaN                      NaN   \n",
       "3         1PLY RASCHEL BLANKET             NaN                      NaN   \n",
       "4         1PLY RASCHEL BLANKET             NaN                      NaN   \n",
       "...                        ...             ...                      ...   \n",
       "17064                      NaN             NaN                      NaN   \n",
       "17065                      NaN             NaN                      NaN   \n",
       "17066                      NaN             NaN                      NaN   \n",
       "17067                      NaN             NaN                      NaN   \n",
       "17068                      NaN             NaN                      NaN   \n",
       "\n",
       "      TOTAL_sale_2020  TOTAL_sale2020_ItemName TOTAL_sale_2021  \\\n",
       "0                 NaN                      NaN             NaN   \n",
       "1                 NaN                      NaN             NaN   \n",
       "2                 NaN                      NaN             NaN   \n",
       "3                 NaN                      NaN             NaN   \n",
       "4                 NaN                      NaN             NaN   \n",
       "...               ...                      ...             ...   \n",
       "17064             NaN                      NaN            24.0   \n",
       "17065             NaN                      NaN            28.0   \n",
       "17066             NaN                      NaN            18.0   \n",
       "17067             NaN                      NaN            21.0   \n",
       "17068             NaN                      NaN            24.0   \n",
       "\n",
       "       TOTAL_sale2021_ItemName months  days  \n",
       "0                          NaN      9    03  \n",
       "1                          NaN      9    03  \n",
       "2                          NaN      9    03  \n",
       "3                          NaN      9    04  \n",
       "4                          NaN      9    04  \n",
       "...                        ...    ...   ...  \n",
       "17064         2PLY WEFTBLANKET     11    08  \n",
       "17065        2PLY WEFT BLANKET     11    08  \n",
       "17066     2PLY RASCHEL BLANKET     11    08  \n",
       "17067        2PLY WEFT BLANKET     11    08  \n",
       "17068         2PLY WEFTBLANKET     11    08  \n",
       "\n",
       "[17069 rows x 21 columns]"
      ]
     },
     "execution_count": 25,
     "metadata": {},
     "output_type": "execute_result"
    }
   ],
   "source": [
    "#change data type of month data\n",
    "sale_data[\"months\"] = pd.to_numeric(sale_data[\"months\"])\n",
    "sale_data"
   ]
  },
  {
   "cell_type": "code",
   "execution_count": 26,
   "id": "3334b04c",
   "metadata": {},
   "outputs": [],
   "source": [
    "#convert months data to  day\n",
    "sale_data['months']=sale_data['months']*30"
   ]
  },
  {
   "cell_type": "code",
   "execution_count": 27,
   "id": "65d569b7",
   "metadata": {},
   "outputs": [
    {
     "data": {
      "text/html": [
       "<div>\n",
       "<style scoped>\n",
       "    .dataframe tbody tr th:only-of-type {\n",
       "        vertical-align: middle;\n",
       "    }\n",
       "\n",
       "    .dataframe tbody tr th {\n",
       "        vertical-align: top;\n",
       "    }\n",
       "\n",
       "    .dataframe thead th {\n",
       "        text-align: right;\n",
       "    }\n",
       "</style>\n",
       "<table border=\"1\" class=\"dataframe\">\n",
       "  <thead>\n",
       "    <tr style=\"text-align: right;\">\n",
       "      <th></th>\n",
       "      <th>Unnamed: 0</th>\n",
       "      <th>TransType</th>\n",
       "      <th>TransDate</th>\n",
       "      <th>Year</th>\n",
       "      <th>TransNO</th>\n",
       "      <th>ItemID</th>\n",
       "      <th>Qty</th>\n",
       "      <th>Rate</th>\n",
       "      <th>Amount</th>\n",
       "      <th>ItemName</th>\n",
       "      <th>...</th>\n",
       "      <th>TOTAL_sale_2018</th>\n",
       "      <th>TOTAL_sale2018_ItemName</th>\n",
       "      <th>TOTAL_sale_2019</th>\n",
       "      <th>TOTAL_sale2019_ItemName</th>\n",
       "      <th>TOTAL_sale_2020</th>\n",
       "      <th>TOTAL_sale2020_ItemName</th>\n",
       "      <th>TOTAL_sale_2021</th>\n",
       "      <th>TOTAL_sale2021_ItemName</th>\n",
       "      <th>months</th>\n",
       "      <th>days</th>\n",
       "    </tr>\n",
       "  </thead>\n",
       "  <tbody>\n",
       "    <tr>\n",
       "      <th>0</th>\n",
       "      <td>502</td>\n",
       "      <td>SALE</td>\n",
       "      <td>2018-09-03</td>\n",
       "      <td>736570</td>\n",
       "      <td>1</td>\n",
       "      <td>10010004</td>\n",
       "      <td>50</td>\n",
       "      <td>1500.0</td>\n",
       "      <td>75000.0</td>\n",
       "      <td>2</td>\n",
       "      <td>...</td>\n",
       "      <td>50.0</td>\n",
       "      <td>1PLY RASCHEL BLANKET</td>\n",
       "      <td>NaN</td>\n",
       "      <td>NaN</td>\n",
       "      <td>NaN</td>\n",
       "      <td>NaN</td>\n",
       "      <td>NaN</td>\n",
       "      <td>NaN</td>\n",
       "      <td>270</td>\n",
       "      <td>3</td>\n",
       "    </tr>\n",
       "    <tr>\n",
       "      <th>1</th>\n",
       "      <td>503</td>\n",
       "      <td>SALE</td>\n",
       "      <td>2018-09-03</td>\n",
       "      <td>736570</td>\n",
       "      <td>1</td>\n",
       "      <td>10010003</td>\n",
       "      <td>60</td>\n",
       "      <td>1500.0</td>\n",
       "      <td>90000.0</td>\n",
       "      <td>2</td>\n",
       "      <td>...</td>\n",
       "      <td>60.0</td>\n",
       "      <td>1PLY RASCHEL BLANKET</td>\n",
       "      <td>NaN</td>\n",
       "      <td>NaN</td>\n",
       "      <td>NaN</td>\n",
       "      <td>NaN</td>\n",
       "      <td>NaN</td>\n",
       "      <td>NaN</td>\n",
       "      <td>270</td>\n",
       "      <td>3</td>\n",
       "    </tr>\n",
       "    <tr>\n",
       "      <th>2</th>\n",
       "      <td>504</td>\n",
       "      <td>SALE</td>\n",
       "      <td>2018-09-03</td>\n",
       "      <td>736570</td>\n",
       "      <td>2</td>\n",
       "      <td>10010001</td>\n",
       "      <td>20</td>\n",
       "      <td>1780.0</td>\n",
       "      <td>35600.0</td>\n",
       "      <td>2</td>\n",
       "      <td>...</td>\n",
       "      <td>20.0</td>\n",
       "      <td>1PLY RASCHEL BLANKET</td>\n",
       "      <td>NaN</td>\n",
       "      <td>NaN</td>\n",
       "      <td>NaN</td>\n",
       "      <td>NaN</td>\n",
       "      <td>NaN</td>\n",
       "      <td>NaN</td>\n",
       "      <td>270</td>\n",
       "      <td>3</td>\n",
       "    </tr>\n",
       "    <tr>\n",
       "      <th>3</th>\n",
       "      <td>505</td>\n",
       "      <td>SALE</td>\n",
       "      <td>2018-09-04</td>\n",
       "      <td>736570</td>\n",
       "      <td>3</td>\n",
       "      <td>10010009</td>\n",
       "      <td>60</td>\n",
       "      <td>3250.0</td>\n",
       "      <td>195000.0</td>\n",
       "      <td>2</td>\n",
       "      <td>...</td>\n",
       "      <td>60.0</td>\n",
       "      <td>1PLY RASCHEL BLANKET</td>\n",
       "      <td>NaN</td>\n",
       "      <td>NaN</td>\n",
       "      <td>NaN</td>\n",
       "      <td>NaN</td>\n",
       "      <td>NaN</td>\n",
       "      <td>NaN</td>\n",
       "      <td>270</td>\n",
       "      <td>4</td>\n",
       "    </tr>\n",
       "    <tr>\n",
       "      <th>4</th>\n",
       "      <td>506</td>\n",
       "      <td>SALE</td>\n",
       "      <td>2018-09-04</td>\n",
       "      <td>736570</td>\n",
       "      <td>3</td>\n",
       "      <td>10010002</td>\n",
       "      <td>200</td>\n",
       "      <td>1780.0</td>\n",
       "      <td>356000.0</td>\n",
       "      <td>2</td>\n",
       "      <td>...</td>\n",
       "      <td>200.0</td>\n",
       "      <td>1PLY RASCHEL BLANKET</td>\n",
       "      <td>NaN</td>\n",
       "      <td>NaN</td>\n",
       "      <td>NaN</td>\n",
       "      <td>NaN</td>\n",
       "      <td>NaN</td>\n",
       "      <td>NaN</td>\n",
       "      <td>270</td>\n",
       "      <td>4</td>\n",
       "    </tr>\n",
       "    <tr>\n",
       "      <th>...</th>\n",
       "      <td>...</td>\n",
       "      <td>...</td>\n",
       "      <td>...</td>\n",
       "      <td>...</td>\n",
       "      <td>...</td>\n",
       "      <td>...</td>\n",
       "      <td>...</td>\n",
       "      <td>...</td>\n",
       "      <td>...</td>\n",
       "      <td>...</td>\n",
       "      <td>...</td>\n",
       "      <td>...</td>\n",
       "      <td>...</td>\n",
       "      <td>...</td>\n",
       "      <td>...</td>\n",
       "      <td>...</td>\n",
       "      <td>...</td>\n",
       "      <td>...</td>\n",
       "      <td>...</td>\n",
       "      <td>...</td>\n",
       "      <td>...</td>\n",
       "    </tr>\n",
       "    <tr>\n",
       "      <th>17064</th>\n",
       "      <td>17566</td>\n",
       "      <td>SALE</td>\n",
       "      <td>2021-11-08</td>\n",
       "      <td>737665</td>\n",
       "      <td>1247</td>\n",
       "      <td>10020039</td>\n",
       "      <td>24</td>\n",
       "      <td>2270.0</td>\n",
       "      <td>54480.0</td>\n",
       "      <td>11</td>\n",
       "      <td>...</td>\n",
       "      <td>NaN</td>\n",
       "      <td>NaN</td>\n",
       "      <td>NaN</td>\n",
       "      <td>NaN</td>\n",
       "      <td>NaN</td>\n",
       "      <td>NaN</td>\n",
       "      <td>24.0</td>\n",
       "      <td>2PLY WEFTBLANKET</td>\n",
       "      <td>330</td>\n",
       "      <td>8</td>\n",
       "    </tr>\n",
       "    <tr>\n",
       "      <th>17065</th>\n",
       "      <td>17567</td>\n",
       "      <td>SALE</td>\n",
       "      <td>2021-11-08</td>\n",
       "      <td>737665</td>\n",
       "      <td>1247</td>\n",
       "      <td>10020017</td>\n",
       "      <td>28</td>\n",
       "      <td>2550.0</td>\n",
       "      <td>71400.0</td>\n",
       "      <td>9</td>\n",
       "      <td>...</td>\n",
       "      <td>NaN</td>\n",
       "      <td>NaN</td>\n",
       "      <td>NaN</td>\n",
       "      <td>NaN</td>\n",
       "      <td>NaN</td>\n",
       "      <td>NaN</td>\n",
       "      <td>28.0</td>\n",
       "      <td>2PLY WEFT BLANKET</td>\n",
       "      <td>330</td>\n",
       "      <td>8</td>\n",
       "    </tr>\n",
       "    <tr>\n",
       "      <th>17066</th>\n",
       "      <td>17568</td>\n",
       "      <td>SALE</td>\n",
       "      <td>2021-11-08</td>\n",
       "      <td>737665</td>\n",
       "      <td>1247</td>\n",
       "      <td>10020003</td>\n",
       "      <td>18</td>\n",
       "      <td>3200.0</td>\n",
       "      <td>57600.0</td>\n",
       "      <td>8</td>\n",
       "      <td>...</td>\n",
       "      <td>NaN</td>\n",
       "      <td>NaN</td>\n",
       "      <td>NaN</td>\n",
       "      <td>NaN</td>\n",
       "      <td>NaN</td>\n",
       "      <td>NaN</td>\n",
       "      <td>18.0</td>\n",
       "      <td>2PLY RASCHEL BLANKET</td>\n",
       "      <td>330</td>\n",
       "      <td>8</td>\n",
       "    </tr>\n",
       "    <tr>\n",
       "      <th>17067</th>\n",
       "      <td>17569</td>\n",
       "      <td>SALE</td>\n",
       "      <td>2021-11-08</td>\n",
       "      <td>737665</td>\n",
       "      <td>1248</td>\n",
       "      <td>10020017</td>\n",
       "      <td>21</td>\n",
       "      <td>2550.0</td>\n",
       "      <td>53550.0</td>\n",
       "      <td>9</td>\n",
       "      <td>...</td>\n",
       "      <td>NaN</td>\n",
       "      <td>NaN</td>\n",
       "      <td>NaN</td>\n",
       "      <td>NaN</td>\n",
       "      <td>NaN</td>\n",
       "      <td>NaN</td>\n",
       "      <td>21.0</td>\n",
       "      <td>2PLY WEFT BLANKET</td>\n",
       "      <td>330</td>\n",
       "      <td>8</td>\n",
       "    </tr>\n",
       "    <tr>\n",
       "      <th>17068</th>\n",
       "      <td>17570</td>\n",
       "      <td>SALE</td>\n",
       "      <td>2021-11-08</td>\n",
       "      <td>737665</td>\n",
       "      <td>1248</td>\n",
       "      <td>10020039</td>\n",
       "      <td>24</td>\n",
       "      <td>2250.0</td>\n",
       "      <td>54000.0</td>\n",
       "      <td>11</td>\n",
       "      <td>...</td>\n",
       "      <td>NaN</td>\n",
       "      <td>NaN</td>\n",
       "      <td>NaN</td>\n",
       "      <td>NaN</td>\n",
       "      <td>NaN</td>\n",
       "      <td>NaN</td>\n",
       "      <td>24.0</td>\n",
       "      <td>2PLY WEFTBLANKET</td>\n",
       "      <td>330</td>\n",
       "      <td>8</td>\n",
       "    </tr>\n",
       "  </tbody>\n",
       "</table>\n",
       "<p>17069 rows × 21 columns</p>\n",
       "</div>"
      ],
      "text/plain": [
       "       Unnamed: 0 TransType   TransDate    Year  TransNO    ItemID  Qty  \\\n",
       "0             502      SALE  2018-09-03  736570        1  10010004   50   \n",
       "1             503      SALE  2018-09-03  736570        1  10010003   60   \n",
       "2             504      SALE  2018-09-03  736570        2  10010001   20   \n",
       "3             505      SALE  2018-09-04  736570        3  10010009   60   \n",
       "4             506      SALE  2018-09-04  736570        3  10010002  200   \n",
       "...           ...       ...         ...     ...      ...       ...  ...   \n",
       "17064       17566      SALE  2021-11-08  737665     1247  10020039   24   \n",
       "17065       17567      SALE  2021-11-08  737665     1247  10020017   28   \n",
       "17066       17568      SALE  2021-11-08  737665     1247  10020003   18   \n",
       "17067       17569      SALE  2021-11-08  737665     1248  10020017   21   \n",
       "17068       17570      SALE  2021-11-08  737665     1248  10020039   24   \n",
       "\n",
       "         Rate    Amount  ItemName  ...  TOTAL_sale_2018  \\\n",
       "0      1500.0   75000.0         2  ...             50.0   \n",
       "1      1500.0   90000.0         2  ...             60.0   \n",
       "2      1780.0   35600.0         2  ...             20.0   \n",
       "3      3250.0  195000.0         2  ...             60.0   \n",
       "4      1780.0  356000.0         2  ...            200.0   \n",
       "...       ...       ...       ...  ...              ...   \n",
       "17064  2270.0   54480.0        11  ...              NaN   \n",
       "17065  2550.0   71400.0         9  ...              NaN   \n",
       "17066  3200.0   57600.0         8  ...              NaN   \n",
       "17067  2550.0   53550.0         9  ...              NaN   \n",
       "17068  2250.0   54000.0        11  ...              NaN   \n",
       "\n",
       "       TOTAL_sale2018_ItemName TOTAL_sale_2019  TOTAL_sale2019_ItemName  \\\n",
       "0         1PLY RASCHEL BLANKET             NaN                      NaN   \n",
       "1         1PLY RASCHEL BLANKET             NaN                      NaN   \n",
       "2         1PLY RASCHEL BLANKET             NaN                      NaN   \n",
       "3         1PLY RASCHEL BLANKET             NaN                      NaN   \n",
       "4         1PLY RASCHEL BLANKET             NaN                      NaN   \n",
       "...                        ...             ...                      ...   \n",
       "17064                      NaN             NaN                      NaN   \n",
       "17065                      NaN             NaN                      NaN   \n",
       "17066                      NaN             NaN                      NaN   \n",
       "17067                      NaN             NaN                      NaN   \n",
       "17068                      NaN             NaN                      NaN   \n",
       "\n",
       "      TOTAL_sale_2020  TOTAL_sale2020_ItemName TOTAL_sale_2021  \\\n",
       "0                 NaN                      NaN             NaN   \n",
       "1                 NaN                      NaN             NaN   \n",
       "2                 NaN                      NaN             NaN   \n",
       "3                 NaN                      NaN             NaN   \n",
       "4                 NaN                      NaN             NaN   \n",
       "...               ...                      ...             ...   \n",
       "17064             NaN                      NaN            24.0   \n",
       "17065             NaN                      NaN            28.0   \n",
       "17066             NaN                      NaN            18.0   \n",
       "17067             NaN                      NaN            21.0   \n",
       "17068             NaN                      NaN            24.0   \n",
       "\n",
       "       TOTAL_sale2021_ItemName months  days  \n",
       "0                          NaN    270     3  \n",
       "1                          NaN    270     3  \n",
       "2                          NaN    270     3  \n",
       "3                          NaN    270     4  \n",
       "4                          NaN    270     4  \n",
       "...                        ...    ...   ...  \n",
       "17064         2PLY WEFTBLANKET    330     8  \n",
       "17065        2PLY WEFT BLANKET    330     8  \n",
       "17066     2PLY RASCHEL BLANKET    330     8  \n",
       "17067        2PLY WEFT BLANKET    330     8  \n",
       "17068         2PLY WEFTBLANKET    330     8  \n",
       "\n",
       "[17069 rows x 21 columns]"
      ]
     },
     "execution_count": 27,
     "metadata": {},
     "output_type": "execute_result"
    }
   ],
   "source": [
    "##change data type of days data\n",
    "sale_data[\"days\"] = pd.to_numeric(sale_data[\"days\"])\n",
    "sale_data"
   ]
  },
  {
   "cell_type": "code",
   "execution_count": 28,
   "id": "76f81374",
   "metadata": {},
   "outputs": [
    {
     "data": {
      "text/plain": [
       "Unnamed: 0                   int64\n",
       "TransType                   object\n",
       "TransDate                   object\n",
       "Year                         int64\n",
       "TransNO                      int64\n",
       "ItemID                       int64\n",
       "Qty                          int64\n",
       "Rate                       float64\n",
       "Amount                     float64\n",
       "ItemName                     int32\n",
       "Brand                        int32\n",
       "TOTAL_sale_2018            float64\n",
       "TOTAL_sale2018_ItemName     object\n",
       "TOTAL_sale_2019            float64\n",
       "TOTAL_sale2019_ItemName     object\n",
       "TOTAL_sale_2020            float64\n",
       "TOTAL_sale2020_ItemName     object\n",
       "TOTAL_sale_2021            float64\n",
       "TOTAL_sale2021_ItemName     object\n",
       "months                       int64\n",
       "days                         int64\n",
       "dtype: object"
      ]
     },
     "execution_count": 28,
     "metadata": {},
     "output_type": "execute_result"
    }
   ],
   "source": [
    "#check data type  full dataframe \n",
    "sale_data.dtypes"
   ]
  },
  {
   "cell_type": "code",
   "execution_count": 29,
   "id": "0f9b45a7",
   "metadata": {},
   "outputs": [
    {
     "data": {
      "text/html": [
       "<div>\n",
       "<style scoped>\n",
       "    .dataframe tbody tr th:only-of-type {\n",
       "        vertical-align: middle;\n",
       "    }\n",
       "\n",
       "    .dataframe tbody tr th {\n",
       "        vertical-align: top;\n",
       "    }\n",
       "\n",
       "    .dataframe thead th {\n",
       "        text-align: right;\n",
       "    }\n",
       "</style>\n",
       "<table border=\"1\" class=\"dataframe\">\n",
       "  <thead>\n",
       "    <tr style=\"text-align: right;\">\n",
       "      <th></th>\n",
       "      <th>Brand</th>\n",
       "      <th>Year</th>\n",
       "      <th>months</th>\n",
       "      <th>days</th>\n",
       "      <th>Qty</th>\n",
       "      <th>Rate</th>\n",
       "      <th>Amount</th>\n",
       "    </tr>\n",
       "  </thead>\n",
       "  <tbody>\n",
       "    <tr>\n",
       "      <th>0</th>\n",
       "      <td>27</td>\n",
       "      <td>736570</td>\n",
       "      <td>270</td>\n",
       "      <td>3</td>\n",
       "      <td>50</td>\n",
       "      <td>1500.0</td>\n",
       "      <td>75000.0</td>\n",
       "    </tr>\n",
       "    <tr>\n",
       "      <th>1</th>\n",
       "      <td>76</td>\n",
       "      <td>736570</td>\n",
       "      <td>270</td>\n",
       "      <td>3</td>\n",
       "      <td>60</td>\n",
       "      <td>1500.0</td>\n",
       "      <td>90000.0</td>\n",
       "    </tr>\n",
       "    <tr>\n",
       "      <th>2</th>\n",
       "      <td>65</td>\n",
       "      <td>736570</td>\n",
       "      <td>270</td>\n",
       "      <td>3</td>\n",
       "      <td>20</td>\n",
       "      <td>1780.0</td>\n",
       "      <td>35600.0</td>\n",
       "    </tr>\n",
       "    <tr>\n",
       "      <th>3</th>\n",
       "      <td>57</td>\n",
       "      <td>736570</td>\n",
       "      <td>270</td>\n",
       "      <td>4</td>\n",
       "      <td>60</td>\n",
       "      <td>3250.0</td>\n",
       "      <td>195000.0</td>\n",
       "    </tr>\n",
       "    <tr>\n",
       "      <th>4</th>\n",
       "      <td>53</td>\n",
       "      <td>736570</td>\n",
       "      <td>270</td>\n",
       "      <td>4</td>\n",
       "      <td>200</td>\n",
       "      <td>1780.0</td>\n",
       "      <td>356000.0</td>\n",
       "    </tr>\n",
       "    <tr>\n",
       "      <th>...</th>\n",
       "      <td>...</td>\n",
       "      <td>...</td>\n",
       "      <td>...</td>\n",
       "      <td>...</td>\n",
       "      <td>...</td>\n",
       "      <td>...</td>\n",
       "      <td>...</td>\n",
       "    </tr>\n",
       "    <tr>\n",
       "      <th>17064</th>\n",
       "      <td>28</td>\n",
       "      <td>737665</td>\n",
       "      <td>330</td>\n",
       "      <td>8</td>\n",
       "      <td>24</td>\n",
       "      <td>2270.0</td>\n",
       "      <td>54480.0</td>\n",
       "    </tr>\n",
       "    <tr>\n",
       "      <th>17065</th>\n",
       "      <td>41</td>\n",
       "      <td>737665</td>\n",
       "      <td>330</td>\n",
       "      <td>8</td>\n",
       "      <td>28</td>\n",
       "      <td>2550.0</td>\n",
       "      <td>71400.0</td>\n",
       "    </tr>\n",
       "    <tr>\n",
       "      <th>17066</th>\n",
       "      <td>9</td>\n",
       "      <td>737665</td>\n",
       "      <td>330</td>\n",
       "      <td>8</td>\n",
       "      <td>18</td>\n",
       "      <td>3200.0</td>\n",
       "      <td>57600.0</td>\n",
       "    </tr>\n",
       "    <tr>\n",
       "      <th>17067</th>\n",
       "      <td>41</td>\n",
       "      <td>737665</td>\n",
       "      <td>330</td>\n",
       "      <td>8</td>\n",
       "      <td>21</td>\n",
       "      <td>2550.0</td>\n",
       "      <td>53550.0</td>\n",
       "    </tr>\n",
       "    <tr>\n",
       "      <th>17068</th>\n",
       "      <td>28</td>\n",
       "      <td>737665</td>\n",
       "      <td>330</td>\n",
       "      <td>8</td>\n",
       "      <td>24</td>\n",
       "      <td>2250.0</td>\n",
       "      <td>54000.0</td>\n",
       "    </tr>\n",
       "  </tbody>\n",
       "</table>\n",
       "<p>17069 rows × 7 columns</p>\n",
       "</div>"
      ],
      "text/plain": [
       "       Brand    Year  months  days  Qty    Rate    Amount\n",
       "0         27  736570     270     3   50  1500.0   75000.0\n",
       "1         76  736570     270     3   60  1500.0   90000.0\n",
       "2         65  736570     270     3   20  1780.0   35600.0\n",
       "3         57  736570     270     4   60  3250.0  195000.0\n",
       "4         53  736570     270     4  200  1780.0  356000.0\n",
       "...      ...     ...     ...   ...  ...     ...       ...\n",
       "17064     28  737665     330     8   24  2270.0   54480.0\n",
       "17065     41  737665     330     8   28  2550.0   71400.0\n",
       "17066      9  737665     330     8   18  3200.0   57600.0\n",
       "17067     41  737665     330     8   21  2550.0   53550.0\n",
       "17068     28  737665     330     8   24  2250.0   54000.0\n",
       "\n",
       "[17069 rows x 7 columns]"
      ]
     },
     "execution_count": 29,
     "metadata": {},
     "output_type": "execute_result"
    }
   ],
   "source": [
    "# drop same colum data\n",
    "sale_data=sale_data[[\"Brand\",\"Year\",\"months\",\"days\",\"Qty\",\"Rate\",\"Amount\"]]\n",
    "sale_data"
   ]
  },
  {
   "cell_type": "code",
   "execution_count": 30,
   "id": "6417aa06",
   "metadata": {},
   "outputs": [],
   "source": [
    "# x=sale_data[[\"Year\",\"months\",\"days\",\"Brand\"]].values\n",
    "# x and y declare\n",
    "x=sale_data[[\"Brand\",\"Year\",\"months\",\"days\",\"Qty\",\"Rate\"]]\n",
    "y=sale_data['Amount']"
   ]
  },
  {
   "cell_type": "code",
   "execution_count": 31,
   "id": "c9a6a860",
   "metadata": {},
   "outputs": [],
   "source": [
    "# import scaler library and normalize x data\n",
    "from sklearn.preprocessing import MinMaxScaler\n",
    "scaler = MinMaxScaler(feature_range=(0,1))\n",
    "x = scaler.fit_transform(x)"
   ]
  },
  {
   "cell_type": "code",
   "execution_count": 32,
   "id": "63f9d3f8",
   "metadata": {},
   "outputs": [
    {
     "name": "stdout",
     "output_type": "stream",
     "text": [
      "[[0.34615385 0.         0.72727273 0.06666667 0.01166945 0.21100917]\n",
      " [0.97435897 0.         0.72727273 0.06666667 0.01405096 0.21100917]\n",
      " [0.83333333 0.         0.72727273 0.06666667 0.00452489 0.26238532]\n",
      " ...\n",
      " [0.11538462 1.         0.90909091 0.23333333 0.00404858 0.52293578]\n",
      " [0.52564103 1.         0.90909091 0.23333333 0.00476304 0.40366972]\n",
      " [0.35897436 1.         0.90909091 0.23333333 0.00547749 0.34862385]]\n"
     ]
    }
   ],
   "source": [
    "print(x)"
   ]
  },
  {
   "cell_type": "code",
   "execution_count": 33,
   "id": "e7897d7d",
   "metadata": {},
   "outputs": [
    {
     "name": "stdout",
     "output_type": "stream",
     "text": [
      "0         75000.0\n",
      "1         90000.0\n",
      "2         35600.0\n",
      "3        195000.0\n",
      "4        356000.0\n",
      "           ...   \n",
      "17064     54480.0\n",
      "17065     71400.0\n",
      "17066     57600.0\n",
      "17067     53550.0\n",
      "17068     54000.0\n",
      "Name: Amount, Length: 17069, dtype: float64\n"
     ]
    }
   ],
   "source": [
    "print(y)"
   ]
  },
  {
   "cell_type": "code",
   "execution_count": 34,
   "id": "f3716c6f",
   "metadata": {},
   "outputs": [],
   "source": [
    "#split train test data \n",
    "x_train,x_test,y_train,y_test=train_test_split(x,y,test_size=0.3,random_state=0)"
   ]
  },
  {
   "cell_type": "code",
   "execution_count": 35,
   "id": "f74e44a8",
   "metadata": {},
   "outputs": [
    {
     "data": {
      "text/plain": [
       "(11948, 6)"
      ]
     },
     "execution_count": 35,
     "metadata": {},
     "output_type": "execute_result"
    }
   ],
   "source": [
    "x_train.shape"
   ]
  },
  {
   "cell_type": "markdown",
   "id": "fc44c94c",
   "metadata": {},
   "source": [
    "# LinearRegression"
   ]
  },
  {
   "cell_type": "code",
   "execution_count": 36,
   "id": "7f555a0f",
   "metadata": {},
   "outputs": [],
   "source": [
    "#import linearRegression\n",
    "from sklearn.linear_model import LinearRegression\n",
    "lr=LinearRegression()"
   ]
  },
  {
   "cell_type": "code",
   "execution_count": 37,
   "id": "7d132eef",
   "metadata": {},
   "outputs": [
    {
     "data": {
      "text/plain": [
       "LinearRegression()"
      ]
     },
     "execution_count": 37,
     "metadata": {},
     "output_type": "execute_result"
    }
   ],
   "source": [
    "# train the model\n",
    "lr.fit(x_train,y_train)"
   ]
  },
  {
   "cell_type": "code",
   "execution_count": 38,
   "id": "798fd548",
   "metadata": {},
   "outputs": [
    {
     "name": "stdout",
     "output_type": "stream",
     "text": [
      "[ 50186.74537206  67574.98394226 110626.12253347 ...  42745.16250865\n",
      "  43055.40202792  71023.39721076]\n"
     ]
    }
   ],
   "source": [
    "#predict x_test data\n",
    "y_pred=lr.predict(x_test)\n",
    "print(y_pred)"
   ]
  },
  {
   "cell_type": "code",
   "execution_count": 39,
   "id": "2ffe11f5",
   "metadata": {},
   "outputs": [
    {
     "data": {
      "text/plain": [
       "array([57390.61471008])"
      ]
     },
     "execution_count": 39,
     "metadata": {},
     "output_type": "execute_result"
    }
   ],
   "source": [
    "#predict test\n",
    "lr.predict([[0.34615385,0.,0.72727273,0.06666667,0.01166945,0.21100917]])"
   ]
  },
  {
   "cell_type": "code",
   "execution_count": 40,
   "id": "1b36433a",
   "metadata": {},
   "outputs": [
    {
     "data": {
      "text/plain": [
       "0.7125371982441058"
      ]
     },
     "execution_count": 40,
     "metadata": {},
     "output_type": "execute_result"
    }
   ],
   "source": [
    "#show accuracy\n",
    "lr2=r2_score(y_test,y_pred)\n",
    "lr2"
   ]
  },
  {
   "cell_type": "code",
   "execution_count": 41,
   "id": "db05bacf",
   "metadata": {},
   "outputs": [
    {
     "data": {
      "text/plain": [
       "63.1"
      ]
     },
     "execution_count": 41,
     "metadata": {},
     "output_type": "execute_result"
    }
   ],
   "source": [
    "acc_lr = round(lr.score(x_train, y_train) * 100, 2)\n",
    "acc_lr"
   ]
  },
  {
   "cell_type": "code",
   "execution_count": null,
   "id": "113680b0",
   "metadata": {},
   "outputs": [],
   "source": []
  },
  {
   "cell_type": "code",
   "execution_count": 42,
   "id": "daa08cf2",
   "metadata": {},
   "outputs": [],
   "source": [
    "# Y=sale_data['Amount']\n",
    "# Y"
   ]
  },
  {
   "cell_type": "code",
   "execution_count": 43,
   "id": "94dc3f0b",
   "metadata": {},
   "outputs": [],
   "source": [
    "import seaborn as sns"
   ]
  },
  {
   "cell_type": "code",
   "execution_count": 44,
   "id": "9c34f6e4",
   "metadata": {},
   "outputs": [
    {
     "data": {
      "text/plain": [
       "<AxesSubplot:xlabel='Qty', ylabel='Amount'>"
      ]
     },
     "execution_count": 44,
     "metadata": {},
     "output_type": "execute_result"
    },
    {
     "data": {
      "image/png": "[encoded data removed]",
      "text/plain": [
       "<Figure size 432x288 with 1 Axes>"
      ]
     },
     "metadata": {
      "needs_background": "light"
     },
     "output_type": "display_data"
    }
   ],
   "source": [
    "sns.scatterplot(x=sale_data.Qty, y=sale_data.Amount, data=sale_data)"
   ]
  },
  {
   "cell_type": "code",
   "execution_count": 45,
   "id": "aad1f578",
   "metadata": {},
   "outputs": [],
   "source": [
    "# x = sale_data.Days.values.reshape(-1, 1)\n",
    "# y = sale_data.Amount.values.reshape(-1, 1)"
   ]
  },
  {
   "cell_type": "code",
   "execution_count": 46,
   "id": "db1060c6",
   "metadata": {},
   "outputs": [],
   "source": [
    "#X=sc.fit_transform(X)"
   ]
  },
  {
   "cell_type": "markdown",
   "id": "de857df3",
   "metadata": {},
   "source": [
    "# DecisionTreeRegressor"
   ]
  },
  {
   "cell_type": "code",
   "execution_count": 47,
   "id": "177afeb6",
   "metadata": {},
   "outputs": [],
   "source": [
    "from sklearn.tree import DecisionTreeRegressor\n"
   ]
  },
  {
   "cell_type": "code",
   "execution_count": 48,
   "id": "73ba4219",
   "metadata": {},
   "outputs": [],
   "source": [
    "DecisionTreeRegModel = DecisionTreeRegressor()"
   ]
  },
  {
   "cell_type": "code",
   "execution_count": 49,
   "id": "bf0e1c45",
   "metadata": {},
   "outputs": [
    {
     "data": {
      "text/plain": [
       "DecisionTreeRegressor()"
      ]
     },
     "execution_count": 49,
     "metadata": {},
     "output_type": "execute_result"
    }
   ],
   "source": [
    "DecisionTreeRegModel.fit(x_train,y_train)"
   ]
  },
  {
   "cell_type": "code",
   "execution_count": 50,
   "id": "016bea4e",
   "metadata": {},
   "outputs": [],
   "source": [
    "y_pred = DecisionTreeRegModel.predict(x_test)"
   ]
  },
  {
   "cell_type": "code",
   "execution_count": 51,
   "id": "82d1aa62",
   "metadata": {},
   "outputs": [
    {
     "data": {
      "text/plain": [
       "array([75000.])"
      ]
     },
     "execution_count": 51,
     "metadata": {},
     "output_type": "execute_result"
    }
   ],
   "source": [
    "DecisionTreeRegModel.predict([[0.34615385,0.,0.72727273,0.06666667,0.01166945,0.21100917]])"
   ]
  },
  {
   "cell_type": "code",
   "execution_count": 52,
   "id": "441a3f55",
   "metadata": {},
   "outputs": [
    {
     "data": {
      "text/plain": [
       "0.6587901183776907"
      ]
     },
     "execution_count": 52,
     "metadata": {},
     "output_type": "execute_result"
    }
   ],
   "source": [
    "dt2=r2_score(y_test, y_pred)\n",
    "dt2"
   ]
  },
  {
   "cell_type": "code",
   "execution_count": 53,
   "id": "22045fb8",
   "metadata": {},
   "outputs": [
    {
     "data": {
      "text/plain": [
       "100.0"
      ]
     },
     "execution_count": 53,
     "metadata": {},
     "output_type": "execute_result"
    }
   ],
   "source": [
    "acc_Dtr = round(DecisionTreeRegModel.score(x_train, y_train) * 100, 2)\n",
    "acc_Dtr"
   ]
  },
  {
   "cell_type": "markdown",
   "id": "2858e54b",
   "metadata": {},
   "source": [
    "# SVR"
   ]
  },
  {
   "cell_type": "code",
   "execution_count": 54,
   "id": "4ebc09ab",
   "metadata": {},
   "outputs": [],
   "source": [
    "from sklearn.svm import SVR"
   ]
  },
  {
   "cell_type": "code",
   "execution_count": 55,
   "id": "68b8ba8a",
   "metadata": {},
   "outputs": [],
   "source": [
    "sv=SVR()"
   ]
  },
  {
   "cell_type": "code",
   "execution_count": 56,
   "id": "3b29af38",
   "metadata": {},
   "outputs": [
    {
     "data": {
      "text/plain": [
       "SVR()"
      ]
     },
     "execution_count": 56,
     "metadata": {},
     "output_type": "execute_result"
    }
   ],
   "source": [
    "sv.fit(x_train,y_train)"
   ]
  },
  {
   "cell_type": "code",
   "execution_count": 57,
   "id": "8cd354cf",
   "metadata": {},
   "outputs": [],
   "source": [
    "y_pred=sv.predict(x_test)"
   ]
  },
  {
   "cell_type": "code",
   "execution_count": 58,
   "id": "bdd77fdb",
   "metadata": {},
   "outputs": [
    {
     "data": {
      "text/plain": [
       "array([52640.06144031])"
      ]
     },
     "execution_count": 58,
     "metadata": {},
     "output_type": "execute_result"
    }
   ],
   "source": [
    "sv.predict([[0.34615385,0.,0.72727273,0.06666667,0.01166945,0.21100917]])"
   ]
  },
  {
   "cell_type": "code",
   "execution_count": 59,
   "id": "0007c804",
   "metadata": {},
   "outputs": [
    {
     "data": {
      "text/plain": [
       "-0.028305277789012484"
      ]
     },
     "execution_count": 59,
     "metadata": {},
     "output_type": "execute_result"
    }
   ],
   "source": [
    "sv2=r2_score(y_test, y_pred)\n",
    "sv2"
   ]
  },
  {
   "cell_type": "code",
   "execution_count": 60,
   "id": "22b24c05",
   "metadata": {},
   "outputs": [
    {
     "data": {
      "text/plain": [
       "-3.89"
      ]
     },
     "execution_count": 60,
     "metadata": {},
     "output_type": "execute_result"
    }
   ],
   "source": [
    "acc_sv = round(sv.score(x_train, y_train) * 100, 2)\n",
    "acc_sv"
   ]
  },
  {
   "cell_type": "markdown",
   "id": "5536d994",
   "metadata": {},
   "source": [
    "# Random forest"
   ]
  },
  {
   "cell_type": "code",
   "execution_count": 61,
   "id": "2f1bf989",
   "metadata": {},
   "outputs": [],
   "source": [
    "from sklearn.ensemble import RandomForestRegressor\n",
    "rfr=RandomForestRegressor(n_estimators= 100, random_state = 0)"
   ]
  },
  {
   "cell_type": "code",
   "execution_count": 62,
   "id": "176e63b2",
   "metadata": {},
   "outputs": [
    {
     "data": {
      "text/plain": [
       "RandomForestRegressor(random_state=0)"
      ]
     },
     "execution_count": 62,
     "metadata": {},
     "output_type": "execute_result"
    }
   ],
   "source": [
    "rfr.fit(x_train,y_train)"
   ]
  },
  {
   "cell_type": "code",
   "execution_count": 63,
   "id": "925abd9a",
   "metadata": {},
   "outputs": [],
   "source": [
    "y_pred=rfr.predict(x_test)"
   ]
  },
  {
   "cell_type": "code",
   "execution_count": 64,
   "id": "764f886e",
   "metadata": {},
   "outputs": [
    {
     "data": {
      "text/plain": [
       "array([75000.])"
      ]
     },
     "execution_count": 64,
     "metadata": {},
     "output_type": "execute_result"
    }
   ],
   "source": [
    "rfr.predict([[0.34615385,0.,0.72727273,0.06666667,0.01166945,0.21100917]])"
   ]
  },
  {
   "cell_type": "code",
   "execution_count": 65,
   "id": "c918694d",
   "metadata": {},
   "outputs": [
    {
     "data": {
      "text/plain": [
       "0.8833443916078818"
      ]
     },
     "execution_count": 65,
     "metadata": {},
     "output_type": "execute_result"
    }
   ],
   "source": [
    "rf2=r2_score(y_test, y_pred)\n",
    "rf2"
   ]
  },
  {
   "cell_type": "code",
   "execution_count": 66,
   "id": "a84b083f",
   "metadata": {},
   "outputs": [
    {
     "data": {
      "text/plain": [
       "98.03"
      ]
     },
     "execution_count": 66,
     "metadata": {},
     "output_type": "execute_result"
    }
   ],
   "source": [
    "acc_rf = round(rfr.score(x_train, y_train) * 100, 2)\n",
    "acc_rf"
   ]
  },
  {
   "cell_type": "code",
   "execution_count": 67,
   "id": "0a55c60d",
   "metadata": {},
   "outputs": [
    {
     "data": {
      "image/png": "[encoded data removed]",
      "text/plain": [
       "<Figure size 432x288 with 1 Axes>"
      ]
     },
     "metadata": {
      "needs_background": "light"
     },
     "output_type": "display_data"
    }
   ],
   "source": [
    "plt.scatter(y_test, y_pred)\n",
    "plt.show()"
   ]
  },
  {
   "cell_type": "code",
   "execution_count": 68,
   "id": "e46861f2",
   "metadata": {},
   "outputs": [
    {
     "data": {
      "image/png": "[encoded data removed]",
      "text/plain": [
       "<Figure size 432x288 with 1 Axes>"
      ]
     },
     "metadata": {
      "needs_background": "light"
     },
     "output_type": "display_data"
    }
   ],
   "source": [
    "plt.scatter(y_test, y_pred, color = \"red\")\n",
    "plt.title(\"price prediction\")\n",
    "plt.xlabel(\"Date Qty Brand Rate\")\n",
    "plt.ylabel(\"Amount\")\n",
    "plt.show()"
   ]
  },
  {
   "cell_type": "markdown",
   "id": "e2e7327b",
   "metadata": {},
   "source": [
    "# Neural Network"
   ]
  },
  {
   "cell_type": "code",
   "execution_count": 69,
   "id": "91e2ba61",
   "metadata": {},
   "outputs": [],
   "source": [
    "from keras.models import Sequential\n",
    "from keras.layers import Dense"
   ]
  },
  {
   "cell_type": "code",
   "execution_count": 70,
   "id": "91dec59e",
   "metadata": {},
   "outputs": [
    {
     "data": {
      "text/plain": [
       "(11948, 6)"
      ]
     },
     "execution_count": 70,
     "metadata": {},
     "output_type": "execute_result"
    }
   ],
   "source": [
    "x_train.shape"
   ]
  },
  {
   "cell_type": "code",
   "execution_count": 71,
   "id": "80169e6f",
   "metadata": {},
   "outputs": [
    {
     "data": {
      "text/plain": [
       "(11948,)"
      ]
     },
     "execution_count": 71,
     "metadata": {},
     "output_type": "execute_result"
    }
   ],
   "source": [
    "y_train.shape"
   ]
  },
  {
   "cell_type": "code",
   "execution_count": 72,
   "id": "3617026d",
   "metadata": {},
   "outputs": [],
   "source": [
    "import tensorflow as tf\n",
    "ann = tf.keras.models.Sequential()\n",
    "ann.add(tf.keras.layers.Dense(units=6,activation='relu'))\n",
    "ann.add(tf.keras.layers.Dense(units=6,activation='relu'))\n",
    "ann.add(tf.keras.layers.Dense(units=1))\n",
    "ann.compile(optimizer='adam', loss='mean_squared_error')\n"
   ]
  },
  {
   "cell_type": "code",
   "execution_count": 73,
   "id": "f6e067b7",
   "metadata": {},
   "outputs": [],
   "source": [
    "# ann.fit(x_train,y_train,batch_size=32,epochs=100,validation_split=0.1)"
   ]
  },
  {
   "cell_type": "code",
   "execution_count": 74,
   "id": "f9fb7b9b",
   "metadata": {},
   "outputs": [],
   "source": [
    "y_pred = ann.predict(x_test)"
   ]
  },
  {
   "cell_type": "code",
   "execution_count": 75,
   "id": "e7cf4894",
   "metadata": {},
   "outputs": [
    {
     "data": {
      "text/plain": [
       "-0.22772692446002973"
      ]
     },
     "execution_count": 75,
     "metadata": {},
     "output_type": "execute_result"
    }
   ],
   "source": [
    "r2_score(y_test,y_pred)"
   ]
  },
  {
   "cell_type": "code",
   "execution_count": 76,
   "id": "019c7c03",
   "metadata": {},
   "outputs": [],
   "source": [
    "# model = Sequential()\n",
    "# model.add(Dense(512,activation=\"relu\", input_dim=6))\n",
    "# model.add(Dense(256,activation=\"relu\"))\n",
    "# model.add(Dense(1,activation='linear'))\n",
    "# model.summary()"
   ]
  },
  {
   "cell_type": "code",
   "execution_count": 77,
   "id": "79398d64",
   "metadata": {},
   "outputs": [],
   "source": [
    "# model.compile(loss='mean_squared_error',optimizer='adam',metrics=['accuracy'])"
   ]
  },
  {
   "cell_type": "code",
   "execution_count": 78,
   "id": "68b494bb",
   "metadata": {
    "scrolled": true
   },
   "outputs": [],
   "source": [
    "# model.fit(x_train,y_train,epochs=30)"
   ]
  },
  {
   "cell_type": "code",
   "execution_count": 79,
   "id": "70759480",
   "metadata": {},
   "outputs": [
    {
     "data": {
      "text/html": [
       "<div>\n",
       "<style scoped>\n",
       "    .dataframe tbody tr th:only-of-type {\n",
       "        vertical-align: middle;\n",
       "    }\n",
       "\n",
       "    .dataframe tbody tr th {\n",
       "        vertical-align: top;\n",
       "    }\n",
       "\n",
       "    .dataframe thead th {\n",
       "        text-align: right;\n",
       "    }\n",
       "</style>\n",
       "<table border=\"1\" class=\"dataframe\">\n",
       "  <thead>\n",
       "    <tr style=\"text-align: right;\">\n",
       "      <th></th>\n",
       "      <th>Model</th>\n",
       "      <th>Score</th>\n",
       "    </tr>\n",
       "  </thead>\n",
       "  <tbody>\n",
       "    <tr>\n",
       "      <th>3</th>\n",
       "      <td>Decision Tree Regression</td>\n",
       "      <td>100.00</td>\n",
       "    </tr>\n",
       "    <tr>\n",
       "      <th>2</th>\n",
       "      <td>Random Forest Regression</td>\n",
       "      <td>98.03</td>\n",
       "    </tr>\n",
       "    <tr>\n",
       "      <th>1</th>\n",
       "      <td>Linear Rgression</td>\n",
       "      <td>63.10</td>\n",
       "    </tr>\n",
       "    <tr>\n",
       "      <th>0</th>\n",
       "      <td>Support Vector Machines</td>\n",
       "      <td>-3.89</td>\n",
       "    </tr>\n",
       "  </tbody>\n",
       "</table>\n",
       "</div>"
      ],
      "text/plain": [
       "                      Model   Score\n",
       "3  Decision Tree Regression  100.00\n",
       "2  Random Forest Regression   98.03\n",
       "1          Linear Rgression   63.10\n",
       "0   Support Vector Machines   -3.89"
      ]
     },
     "execution_count": 79,
     "metadata": {},
     "output_type": "execute_result"
    }
   ],
   "source": [
    "models = pd.DataFrame({\n",
    "    'Model': ['Support Vector Machines', 'Linear Rgression',\n",
    "              'Random Forest Regression','Decision Tree Regression'],\n",
    "    'Score': [acc_sv, acc_lr,\n",
    "              acc_rf, acc_Dtr]})\n",
    "models.sort_values(by='Score', ascending=False)"
   ]
  },
  {
   "cell_type": "code",
   "execution_count": 80,
   "id": "0e692387",
   "metadata": {},
   "outputs": [
    {
     "data": {
      "text/html": [
       "<div>\n",
       "<style scoped>\n",
       "    .dataframe tbody tr th:only-of-type {\n",
       "        vertical-align: middle;\n",
       "    }\n",
       "\n",
       "    .dataframe tbody tr th {\n",
       "        vertical-align: top;\n",
       "    }\n",
       "\n",
       "    .dataframe thead th {\n",
       "        text-align: right;\n",
       "    }\n",
       "</style>\n",
       "<table border=\"1\" class=\"dataframe\">\n",
       "  <thead>\n",
       "    <tr style=\"text-align: right;\">\n",
       "      <th></th>\n",
       "      <th>Model</th>\n",
       "      <th>Score</th>\n",
       "    </tr>\n",
       "  </thead>\n",
       "  <tbody>\n",
       "    <tr>\n",
       "      <th>2</th>\n",
       "      <td>Random Forest Regression</td>\n",
       "      <td>0.883344</td>\n",
       "    </tr>\n",
       "    <tr>\n",
       "      <th>1</th>\n",
       "      <td>Linear Rgression</td>\n",
       "      <td>0.712537</td>\n",
       "    </tr>\n",
       "    <tr>\n",
       "      <th>3</th>\n",
       "      <td>Decision Tree Regression</td>\n",
       "      <td>0.658790</td>\n",
       "    </tr>\n",
       "    <tr>\n",
       "      <th>0</th>\n",
       "      <td>Support Vector Machines</td>\n",
       "      <td>-0.028305</td>\n",
       "    </tr>\n",
       "  </tbody>\n",
       "</table>\n",
       "</div>"
      ],
      "text/plain": [
       "                      Model     Score\n",
       "2  Random Forest Regression  0.883344\n",
       "1          Linear Rgression  0.712537\n",
       "3  Decision Tree Regression  0.658790\n",
       "0   Support Vector Machines -0.028305"
      ]
     },
     "execution_count": 80,
     "metadata": {},
     "output_type": "execute_result"
    }
   ],
   "source": [
    "models = pd.DataFrame({\n",
    "    'Model': ['Support Vector Machines', 'Linear Rgression',\n",
    "              'Random Forest Regression','Decision Tree Regression'],\n",
    "    'Score': [sv2, lr2,\n",
    "              rf2, dt2]})\n",
    "models.sort_values(by='Score', ascending=False)"
   ]
  },
  {
   "cell_type": "markdown",
   "id": "7c54063b",
   "metadata": {},
   "source": [
    "# Random forest model more than effective other regression model in this case"
   ]
  },
  {
   "cell_type": "markdown",
   "id": "25434a86",
   "metadata": {},
   "source": [
    "# qty prediction"
   ]
  },
  {
   "cell_type": "code",
   "execution_count": 81,
   "id": "972a10ed",
   "metadata": {},
   "outputs": [],
   "source": [
    "sale_data=sale_data[[\"Brand\",\"Year\",\"months\",\"days\",\"Qty\",\"Rate\",\"Amount\"]]"
   ]
  },
  {
   "cell_type": "code",
   "execution_count": 82,
   "id": "bfc9ffbf",
   "metadata": {},
   "outputs": [],
   "source": [
    "x=sale_data[[\"Brand\",\"Year\",\"months\",\"days\",\"Amount\",\"Rate\"]]\n",
    "y=sale_data[\"Qty\"]"
   ]
  },
  {
   "cell_type": "code",
   "execution_count": 83,
   "id": "524d2872",
   "metadata": {},
   "outputs": [
    {
     "name": "stdout",
     "output_type": "stream",
     "text": [
      "       Brand    Year  months  days    Amount    Rate\n",
      "0         27  736570     270     3   75000.0  1500.0\n",
      "1         76  736570     270     3   90000.0  1500.0\n",
      "2         65  736570     270     3   35600.0  1780.0\n",
      "3         57  736570     270     4  195000.0  3250.0\n",
      "4         53  736570     270     4  356000.0  1780.0\n",
      "...      ...     ...     ...   ...       ...     ...\n",
      "17064     28  737665     330     8   54480.0  2270.0\n",
      "17065     41  737665     330     8   71400.0  2550.0\n",
      "17066      9  737665     330     8   57600.0  3200.0\n",
      "17067     41  737665     330     8   53550.0  2550.0\n",
      "17068     28  737665     330     8   54000.0  2250.0\n",
      "\n",
      "[17069 rows x 6 columns]\n"
     ]
    }
   ],
   "source": [
    "print(x)"
   ]
  },
  {
   "cell_type": "code",
   "execution_count": 84,
   "id": "2cac4f72",
   "metadata": {},
   "outputs": [
    {
     "name": "stdout",
     "output_type": "stream",
     "text": [
      "0         50\n",
      "1         60\n",
      "2         20\n",
      "3         60\n",
      "4        200\n",
      "        ... \n",
      "17064     24\n",
      "17065     28\n",
      "17066     18\n",
      "17067     21\n",
      "17068     24\n",
      "Name: Qty, Length: 17069, dtype: int64\n"
     ]
    }
   ],
   "source": [
    "print(y)"
   ]
  },
  {
   "cell_type": "code",
   "execution_count": 85,
   "id": "c0564e72",
   "metadata": {},
   "outputs": [],
   "source": [
    "# import scaler library and normalize x data\n",
    "from sklearn.preprocessing import MinMaxScaler\n",
    "scaler = MinMaxScaler(feature_range=(0,1))\n",
    "x = scaler.fit_transform(x)"
   ]
  },
  {
   "cell_type": "code",
   "execution_count": 86,
   "id": "1d436f00",
   "metadata": {},
   "outputs": [
    {
     "name": "stdout",
     "output_type": "stream",
     "text": [
      "[[0.34615385 0.         0.72727273 0.06666667 0.00974516 0.21100917]\n",
      " [0.97435897 0.         0.72727273 0.06666667 0.01171574 0.21100917]\n",
      " [0.83333333 0.         0.72727273 0.06666667 0.00456911 0.26238532]\n",
      " ...\n",
      " [0.11538462 1.         0.90909091 0.23333333 0.00745929 0.52293578]\n",
      " [0.52564103 1.         0.90909091 0.23333333 0.00692724 0.40366972]\n",
      " [0.35897436 1.         0.90909091 0.23333333 0.00698636 0.34862385]]\n"
     ]
    }
   ],
   "source": [
    "print(x)"
   ]
  },
  {
   "cell_type": "code",
   "execution_count": 87,
   "id": "9193c0db",
   "metadata": {},
   "outputs": [],
   "source": [
    "x_train,x_test,y_train,y_test=train_test_split(x,y,test_size=0.3,random_state=0)"
   ]
  },
  {
   "cell_type": "markdown",
   "id": "407e55a4",
   "metadata": {},
   "source": [
    "# LinearRegression"
   ]
  },
  {
   "cell_type": "code",
   "execution_count": 88,
   "id": "024bb9ff",
   "metadata": {},
   "outputs": [],
   "source": [
    "lr=LinearRegression()"
   ]
  },
  {
   "cell_type": "code",
   "execution_count": 89,
   "id": "b98e1079",
   "metadata": {},
   "outputs": [
    {
     "data": {
      "text/plain": [
       "LinearRegression()"
      ]
     },
     "execution_count": 89,
     "metadata": {},
     "output_type": "execute_result"
    }
   ],
   "source": [
    "lr.fit(x_train,y_train)"
   ]
  },
  {
   "cell_type": "code",
   "execution_count": 90,
   "id": "3e12de09",
   "metadata": {},
   "outputs": [
    {
     "name": "stdout",
     "output_type": "stream",
     "text": [
      "[14.08688866 49.20218428 87.01282363 ...  8.53468616 10.4050465\n",
      " 63.80149228]\n"
     ]
    }
   ],
   "source": [
    "y_pred=lr.predict(x_test)\n",
    "print(y_pred)"
   ]
  },
  {
   "cell_type": "code",
   "execution_count": 91,
   "id": "7e08fe9d",
   "metadata": {},
   "outputs": [
    {
     "data": {
      "text/plain": [
       "array([35.64686961])"
      ]
     },
     "execution_count": 91,
     "metadata": {},
     "output_type": "execute_result"
    }
   ],
   "source": [
    "lr.predict([[0.83333333,0.,0.72727273,0.06666667,0.00456911,0.26238532]])"
   ]
  },
  {
   "cell_type": "code",
   "execution_count": 92,
   "id": "13b0ba27",
   "metadata": {},
   "outputs": [
    {
     "data": {
      "text/plain": [
       "0.7394189346833262"
      ]
     },
     "execution_count": 92,
     "metadata": {},
     "output_type": "execute_result"
    }
   ],
   "source": [
    "r2_score(y_test,y_pred)\n"
   ]
  },
  {
   "cell_type": "markdown",
   "id": "5947ae61",
   "metadata": {},
   "source": [
    "# Random forest"
   ]
  },
  {
   "cell_type": "code",
   "execution_count": 93,
   "id": "e6cf0c86",
   "metadata": {},
   "outputs": [],
   "source": [
    "rfr=RandomForestRegressor(n_estimators= 100, random_state = 0)"
   ]
  },
  {
   "cell_type": "code",
   "execution_count": 94,
   "id": "d41d349f",
   "metadata": {},
   "outputs": [
    {
     "data": {
      "text/plain": [
       "RandomForestRegressor(random_state=0)"
      ]
     },
     "execution_count": 94,
     "metadata": {},
     "output_type": "execute_result"
    }
   ],
   "source": [
    "rfr.fit(x_train,y_train)"
   ]
  },
  {
   "cell_type": "code",
   "execution_count": 95,
   "id": "64ba0048",
   "metadata": {},
   "outputs": [
    {
     "name": "stdout",
     "output_type": "stream",
     "text": [
      "[12.   40.   80.08 ...  8.    8.   50.  ]\n"
     ]
    }
   ],
   "source": [
    "y_pred=rfr.predict(x_test)\n",
    "print(y_pred)"
   ]
  },
  {
   "cell_type": "code",
   "execution_count": 96,
   "id": "8cf3c2f4",
   "metadata": {},
   "outputs": [
    {
     "data": {
      "text/plain": [
       "0.9764225757223219"
      ]
     },
     "execution_count": 96,
     "metadata": {},
     "output_type": "execute_result"
    }
   ],
   "source": [
    "r2_score(y_test,y_pred)"
   ]
  },
  {
   "cell_type": "code",
   "execution_count": 97,
   "id": "bfff2795",
   "metadata": {},
   "outputs": [
    {
     "data": {
      "text/plain": [
       "array([20.])"
      ]
     },
     "execution_count": 97,
     "metadata": {},
     "output_type": "execute_result"
    }
   ],
   "source": [
    "rfr.predict([[0.83333333,0.,0.72727273,0.06666667,0.00456911,0.26238532]])"
   ]
  },
  {
   "cell_type": "markdown",
   "id": "9ad8fb71",
   "metadata": {},
   "source": [
    "# decisiontress"
   ]
  },
  {
   "cell_type": "code",
   "execution_count": 98,
   "id": "ae98a2f7",
   "metadata": {},
   "outputs": [],
   "source": [
    "dt = DecisionTreeRegressor()"
   ]
  },
  {
   "cell_type": "code",
   "execution_count": 99,
   "id": "7e671fc8",
   "metadata": {},
   "outputs": [
    {
     "data": {
      "text/plain": [
       "DecisionTreeRegressor()"
      ]
     },
     "execution_count": 99,
     "metadata": {},
     "output_type": "execute_result"
    }
   ],
   "source": [
    "dt.fit(x_train,y_train)"
   ]
  },
  {
   "cell_type": "code",
   "execution_count": 100,
   "id": "7b2aef67",
   "metadata": {
    "scrolled": true
   },
   "outputs": [
    {
     "name": "stdout",
     "output_type": "stream",
     "text": [
      "[12. 40. 80. ...  8.  8. 50.]\n"
     ]
    }
   ],
   "source": [
    "y_pred=dt.predict(x_test)\n",
    "print(y_pred)"
   ]
  },
  {
   "cell_type": "code",
   "execution_count": 101,
   "id": "806dc539",
   "metadata": {},
   "outputs": [
    {
     "data": {
      "text/plain": [
       "0.960908372308783"
      ]
     },
     "execution_count": 101,
     "metadata": {},
     "output_type": "execute_result"
    }
   ],
   "source": [
    "r2_score(y_test,y_pred)"
   ]
  },
  {
   "cell_type": "code",
   "execution_count": 102,
   "id": "a0882889",
   "metadata": {},
   "outputs": [
    {
     "data": {
      "text/plain": [
       "array([20.])"
      ]
     },
     "execution_count": 102,
     "metadata": {},
     "output_type": "execute_result"
    }
   ],
   "source": [
    "dt.predict([[0.83333333,0.,0.72727273,0.06666667,0.00456911,0.26238532]])"
   ]
  },
  {
   "cell_type": "markdown",
   "id": "b1b84745",
   "metadata": {},
   "source": [
    "# svr"
   ]
  },
  {
   "cell_type": "code",
   "execution_count": 103,
   "id": "1933d935",
   "metadata": {},
   "outputs": [],
   "source": [
    "sv=SVR()"
   ]
  },
  {
   "cell_type": "code",
   "execution_count": 104,
   "id": "834cb8a0",
   "metadata": {},
   "outputs": [
    {
     "data": {
      "text/plain": [
       "SVR()"
      ]
     },
     "execution_count": 104,
     "metadata": {},
     "output_type": "execute_result"
    }
   ],
   "source": [
    "sv.fit(x_train,y_train)"
   ]
  },
  {
   "cell_type": "code",
   "execution_count": 105,
   "id": "51e8774c",
   "metadata": {},
   "outputs": [
    {
     "name": "stdout",
     "output_type": "stream",
     "text": [
      "[17.44957822 31.65492906 39.09990377 ... 30.69427041 31.60238526\n",
      " 39.65443968]\n"
     ]
    }
   ],
   "source": [
    "y_pred=sv.predict(x_test)\n",
    "print(y_pred)"
   ]
  },
  {
   "cell_type": "code",
   "execution_count": 106,
   "id": "930cfb88",
   "metadata": {},
   "outputs": [
    {
     "data": {
      "text/plain": [
       "0.043224286460246675"
      ]
     },
     "execution_count": 106,
     "metadata": {},
     "output_type": "execute_result"
    }
   ],
   "source": [
    "r2_score(y_test,y_pred)"
   ]
  },
  {
   "cell_type": "code",
   "execution_count": 107,
   "id": "51ffd26f",
   "metadata": {},
   "outputs": [
    {
     "data": {
      "text/plain": [
       "array([40.43492977])"
      ]
     },
     "execution_count": 107,
     "metadata": {},
     "output_type": "execute_result"
    }
   ],
   "source": [
    "sv.predict([[0.83333333,0.,0.72727273,0.06666667,0.00456911,0.26238532]])"
   ]
  },
  {
   "cell_type": "markdown",
   "id": "97d6f92e",
   "metadata": {},
   "source": [
    "# BayesianRidge"
   ]
  },
  {
   "cell_type": "code",
   "execution_count": 108,
   "id": "a654967f",
   "metadata": {},
   "outputs": [],
   "source": [
    "from sklearn.linear_model import BayesianRidge"
   ]
  },
  {
   "cell_type": "code",
   "execution_count": 109,
   "id": "8ee5864d",
   "metadata": {},
   "outputs": [],
   "source": [
    "BR = BayesianRidge()"
   ]
  },
  {
   "cell_type": "code",
   "execution_count": 110,
   "id": "256a31f5",
   "metadata": {},
   "outputs": [
    {
     "data": {
      "text/plain": [
       "BayesianRidge()"
      ]
     },
     "execution_count": 110,
     "metadata": {},
     "output_type": "execute_result"
    }
   ],
   "source": [
    "BR.fit(x_train,y_train)"
   ]
  },
  {
   "cell_type": "code",
   "execution_count": 111,
   "id": "9d80d4a6",
   "metadata": {},
   "outputs": [
    {
     "name": "stdout",
     "output_type": "stream",
     "text": [
      "[14.09445916 49.20112653 87.00320221 ...  8.54433446 10.41608531\n",
      " 63.80012606]\n"
     ]
    }
   ],
   "source": [
    "y_pred=BR.predict(x_test)\n",
    "print(y_pred)"
   ]
  },
  {
   "cell_type": "code",
   "execution_count": 112,
   "id": "5bfb90bc",
   "metadata": {},
   "outputs": [
    {
     "data": {
      "text/plain": [
       "0.7394209863172594"
      ]
     },
     "execution_count": 112,
     "metadata": {},
     "output_type": "execute_result"
    }
   ],
   "source": [
    "r2_score(y_test,y_pred)"
   ]
  },
  {
   "cell_type": "code",
   "execution_count": 113,
   "id": "e1701327",
   "metadata": {},
   "outputs": [
    {
     "data": {
      "text/plain": [
       "array([35.65343027])"
      ]
     },
     "execution_count": 113,
     "metadata": {},
     "output_type": "execute_result"
    }
   ],
   "source": [
    "BR.predict([[0.83333333,0.,0.72727273,0.06666667,0.00456911,0.26238532]])"
   ]
  },
  {
   "cell_type": "markdown",
   "id": "8144a120",
   "metadata": {},
   "source": [
    "# KNeighborsRegressor"
   ]
  },
  {
   "cell_type": "code",
   "execution_count": 114,
   "id": "daf94f1e",
   "metadata": {},
   "outputs": [],
   "source": [
    "from sklearn import neighbors"
   ]
  },
  {
   "cell_type": "code",
   "execution_count": 115,
   "id": "077f65d7",
   "metadata": {},
   "outputs": [],
   "source": [
    "k=9\n",
    "knn = neighbors.KNeighborsRegressor(n_neighbors = k)"
   ]
  },
  {
   "cell_type": "code",
   "execution_count": 116,
   "id": "48d0ab84",
   "metadata": {},
   "outputs": [
    {
     "data": {
      "text/plain": [
       "KNeighborsRegressor(n_neighbors=9)"
      ]
     },
     "execution_count": 116,
     "metadata": {},
     "output_type": "execute_result"
    }
   ],
   "source": [
    "knn.fit(x_train,y_train)"
   ]
  },
  {
   "cell_type": "code",
   "execution_count": 117,
   "id": "911c0bbd",
   "metadata": {},
   "outputs": [
    {
     "name": "stdout",
     "output_type": "stream",
     "text": [
      "[20.66666667 35.55555556 90.         ... 38.88888889 23.55555556\n",
      " 48.88888889]\n"
     ]
    }
   ],
   "source": [
    "y_pred=knn.predict(x_test)\n",
    "print(y_pred)"
   ]
  },
  {
   "cell_type": "code",
   "execution_count": 118,
   "id": "f5eeff81",
   "metadata": {},
   "outputs": [
    {
     "data": {
      "text/plain": [
       "array([103.33333333])"
      ]
     },
     "execution_count": 118,
     "metadata": {},
     "output_type": "execute_result"
    }
   ],
   "source": [
    "knn.predict([[0.83333333,0.,0.72727273,0.06666667,0.00456911,0.26238532]])"
   ]
  },
  {
   "cell_type": "code",
   "execution_count": 119,
   "id": "ef23cb57",
   "metadata": {},
   "outputs": [
    {
     "data": {
      "text/plain": [
       "0.404590752583588"
      ]
     },
     "execution_count": 119,
     "metadata": {},
     "output_type": "execute_result"
    }
   ],
   "source": [
    "r2_score(y_test,y_pred)"
   ]
  },
  {
   "cell_type": "code",
   "execution_count": null,
   "id": "53ff54f3",
   "metadata": {},
   "outputs": [],
   "source": []
  }
 ],
 "metadata": {
  "kernelspec": {
   "display_name": "Python 3 (ipykernel)",
   "language": "python",
   "name": "python3"
  },
  "language_info": {
   "codemirror_mode": {
    "name": "ipython",
    "version": 3
   },
   "file_extension": ".py",
   "mimetype": "text/x-python",
   "name": "python",
   "nbconvert_exporter": "python",
   "pygments_lexer": "ipython3",
   "version": "3.9.7"
  }
 },
 "nbformat": 4,
 "nbformat_minor": 5
}
