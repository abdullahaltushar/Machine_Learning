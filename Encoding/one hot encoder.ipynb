{
 "cells": [
  {
   "cell_type": "markdown",
   "id": "688f6b2b",
   "metadata": {},
   "source": [
    "# countVectorizer"
   ]
  },
  {
   "cell_type": "code",
   "execution_count": 1,
   "id": "54ddf4fd",
   "metadata": {},
   "outputs": [],
   "source": [
    "from sklearn.feature_extraction.text import CountVectorizer"
   ]
  },
  {
   "cell_type": "code",
   "execution_count": 2,
   "id": "1b64f31a",
   "metadata": {},
   "outputs": [],
   "source": [
    "dataset=[\"hello how are you\",\n",
    "         \"What are you doing\",\n",
    "          \"what is your name\"\n",
    "         ]"
   ]
  },
  {
   "cell_type": "code",
   "execution_count": 3,
   "id": "1175e560",
   "metadata": {},
   "outputs": [],
   "source": [
    "cv=CountVectorizer()"
   ]
  },
  {
   "cell_type": "code",
   "execution_count": 4,
   "id": "68d3e6b4",
   "metadata": {},
   "outputs": [],
   "source": [
    "data=cv.fit_transform(dataset)"
   ]
  },
  {
   "cell_type": "code",
   "execution_count": 5,
   "id": "2b478c47",
   "metadata": {},
   "outputs": [
    {
     "name": "stdout",
     "output_type": "stream",
     "text": [
      "  (0, 2)\t1\n",
      "  (0, 3)\t1\n",
      "  (0, 0)\t1\n",
      "  (0, 7)\t1\n",
      "  (1, 0)\t1\n",
      "  (1, 7)\t1\n",
      "  (1, 6)\t1\n",
      "  (1, 1)\t1\n",
      "  (2, 6)\t1\n",
      "  (2, 4)\t1\n",
      "  (2, 8)\t1\n",
      "  (2, 5)\t1\n"
     ]
    }
   ],
   "source": [
    "print(data)"
   ]
  },
  {
   "cell_type": "code",
   "execution_count": 6,
   "id": "0d8df384",
   "metadata": {},
   "outputs": [
    {
     "data": {
      "text/plain": [
       "['are', 'doing', 'hello', 'how', 'is', 'name', 'what', 'you', 'your']"
      ]
     },
     "execution_count": 6,
     "metadata": {},
     "output_type": "execute_result"
    }
   ],
   "source": [
    "cv.get_feature_names()"
   ]
  },
  {
   "cell_type": "code",
   "execution_count": 7,
   "id": "08edd564",
   "metadata": {},
   "outputs": [
    {
     "data": {
      "text/plain": [
       "array([[1, 0, 1, 1, 0, 0, 0, 1, 0],\n",
       "       [1, 1, 0, 0, 0, 0, 1, 1, 0],\n",
       "       [0, 0, 0, 0, 1, 1, 1, 0, 1]], dtype=int64)"
      ]
     },
     "execution_count": 7,
     "metadata": {},
     "output_type": "execute_result"
    }
   ],
   "source": [
    "data.toarray()"
   ]
  },
  {
   "cell_type": "code",
   "execution_count": null,
   "id": "814a7942",
   "metadata": {},
   "outputs": [],
   "source": []
  },
  {
   "cell_type": "markdown",
   "id": "3e7a2564",
   "metadata": {},
   "source": [
    "# tf-idf"
   ]
  },
  {
   "cell_type": "code",
   "execution_count": 8,
   "id": "a4906d4a",
   "metadata": {},
   "outputs": [],
   "source": [
    "from sklearn.feature_extraction.text import TfidfVectorizer"
   ]
  },
  {
   "cell_type": "code",
   "execution_count": 9,
   "id": "2c776abf",
   "metadata": {},
   "outputs": [],
   "source": [
    "df_set=[\"Love Bangladesh\",\n",
    "         \"love Japan\",\n",
    "          \"love Bangladesh Japan\"\n",
    "         ]"
   ]
  },
  {
   "cell_type": "code",
   "execution_count": 10,
   "id": "6b00bfcb",
   "metadata": {},
   "outputs": [],
   "source": [
    "cv=TfidfVectorizer()"
   ]
  },
  {
   "cell_type": "code",
   "execution_count": 11,
   "id": "b9937da7",
   "metadata": {},
   "outputs": [],
   "source": [
    "data=cv.fit_transform(df_set)"
   ]
  },
  {
   "cell_type": "code",
   "execution_count": 12,
   "id": "11b21718",
   "metadata": {},
   "outputs": [
    {
     "data": {
      "text/plain": [
       "['bangladesh', 'japan', 'love']"
      ]
     },
     "execution_count": 12,
     "metadata": {},
     "output_type": "execute_result"
    }
   ],
   "source": [
    "cv.get_feature_names()"
   ]
  },
  {
   "cell_type": "code",
   "execution_count": 13,
   "id": "6240b65c",
   "metadata": {},
   "outputs": [
    {
     "data": {
      "text/plain": [
       "array([[0.78980693, 0.        , 0.61335554],\n",
       "       [0.        , 0.78980693, 0.61335554],\n",
       "       [0.61980538, 0.61980538, 0.48133417]])"
      ]
     },
     "execution_count": 13,
     "metadata": {},
     "output_type": "execute_result"
    }
   ],
   "source": [
    "data.toarray()"
   ]
  },
  {
   "cell_type": "markdown",
   "id": "7b44f4eb",
   "metadata": {},
   "source": [
    "# word2vactor\n"
   ]
  },
  {
   "cell_type": "code",
   "execution_count": 14,
   "id": "b767c6b2",
   "metadata": {},
   "outputs": [],
   "source": [
    "from nltk.tokenize import sent_tokenize, word_tokenize\n",
    "import warnings\n",
    "  \n",
    "warnings.filterwarnings(action = 'ignore')\n",
    "  \n",
    "import gensim\n",
    "from gensim.models import Word2Vec"
   ]
  },
  {
   "cell_type": "code",
   "execution_count": 15,
   "id": "b34d342a",
   "metadata": {},
   "outputs": [],
   "source": [
    "file = open('alice.txt', encoding ='utf-8')\n",
    "text = file.read()"
   ]
  },
  {
   "cell_type": "code",
   "execution_count": 16,
   "id": "5bc6d5c1",
   "metadata": {},
   "outputs": [],
   "source": [
    "f = text.replace(\"\\n\", \" \")"
   ]
  },
  {
   "cell_type": "code",
   "execution_count": 17,
   "id": "9660e112",
   "metadata": {},
   "outputs": [],
   "source": [
    "data = []\n",
    "  \n",
    "# iterate through each sentence in the file\n",
    "for i in sent_tokenize(f):\n",
    "    temp = []\n",
    "      \n",
    "    # tokenize the sentence into words\n",
    "    for j in word_tokenize(i):\n",
    "        temp.append(j.lower())\n",
    "  \n",
    "    data.append(temp)"
   ]
  },
  {
   "cell_type": "code",
   "execution_count": 18,
   "id": "7966da48",
   "metadata": {},
   "outputs": [],
   "source": [
    "model1 = gensim.models.Word2Vec(data, min_count = 1,vector_size =100, window = 5)"
   ]
  },
  {
   "cell_type": "code",
   "execution_count": 19,
   "id": "7c961f3e",
   "metadata": {},
   "outputs": [
    {
     "data": {
      "text/plain": [
       "0.9935032"
      ]
     },
     "execution_count": 19,
     "metadata": {},
     "output_type": "execute_result"
    }
   ],
   "source": [
    "model1.wv.similarity('alice', 'wonderland')"
   ]
  },
  {
   "cell_type": "code",
   "execution_count": 20,
   "id": "d987a7a8",
   "metadata": {},
   "outputs": [],
   "source": [
    "model2 = gensim.models.Word2Vec(data, min_count = 1, vector_size = 100,window = 5, sg = 1)"
   ]
  },
  {
   "cell_type": "code",
   "execution_count": 21,
   "id": "fc129c6e",
   "metadata": {},
   "outputs": [
    {
     "data": {
      "text/plain": [
       "0.83430433"
      ]
     },
     "execution_count": 21,
     "metadata": {},
     "output_type": "execute_result"
    }
   ],
   "source": [
    "model2.wv.similarity('alice', 'machines')"
   ]
  },
  {
   "cell_type": "code",
   "execution_count": null,
   "id": "cebb33d0",
   "metadata": {},
   "outputs": [],
   "source": []
  }
 ],
 "metadata": {
  "kernelspec": {
   "display_name": "Python 3 (ipykernel)",
   "language": "python",
   "name": "python3"
  },
  "language_info": {
   "codemirror_mode": {
    "name": "ipython",
    "version": 3
   },
   "file_extension": ".py",
   "mimetype": "text/x-python",
   "name": "python",
   "nbconvert_exporter": "python",
   "pygments_lexer": "ipython3",
   "version": "3.9.7"
  }
 },
 "nbformat": 4,
 "nbformat_minor": 5
}
